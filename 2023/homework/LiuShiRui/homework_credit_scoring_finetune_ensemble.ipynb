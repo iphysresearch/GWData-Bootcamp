{
 "cells": [
  {
   "cell_type": "markdown",
   "metadata": {},
   "source": [
    "# 一起来打怪之 Credit Scoring 练习"
   ]
  },
  {
   "cell_type": "markdown",
   "metadata": {},
   "source": [
    "-------\n",
    "## >>>说明：\n",
    "### 1. 答题步骤：\n",
    "- 回答问题**请保留每一步**操作过程，请不要仅仅给出最后答案\n",
    "- 请养成代码注释的好习惯\n",
    "\n",
    "### 2. 解题思路：\n",
    "- 为方便大家准确理解题目，在习题实战中有所收获，本文档提供了解题思路提示\n",
    "- 解题思路**仅供参考**，鼓励原创解题方法\n",
    "- 为督促同学们自己思考，解题思路内容设置为**注释**，请注意查看\n",
    "\n",
    "### 3. 所用数据：\n",
    "- 问题使用了多个数据库，请注意导入每个数据库后都先**查看和了解数据的基本性质**，后面的问题不再一一提醒"
   ]
  },
  {
   "cell_type": "markdown",
   "metadata": {},
   "source": [
    "--------\n",
    "## 操作题"
   ]
  },
  {
   "cell_type": "markdown",
   "metadata": {},
   "source": [
    "### 信用卡欺诈项目"
   ]
  },
  {
   "cell_type": "markdown",
   "metadata": {},
   "source": [
    " #### 前期数据导入,预览及处理(此部分勿修改，涉及的数据文件无需复制移动)"
   ]
  },
  {
   "cell_type": "code",
   "execution_count": 240,
   "metadata": {},
   "outputs": [],
   "source": [
    "import numpy as np\n",
    "import seaborn as sns\n",
    "import matplotlib.pyplot as plt"
   ]
  },
  {
   "cell_type": "code",
   "execution_count": 241,
   "metadata": {
    "tags": []
   },
   "outputs": [
    {
     "data": {
      "text/html": [
       "<div>\n",
       "<style scoped>\n",
       "    .dataframe tbody tr th:only-of-type {\n",
       "        vertical-align: middle;\n",
       "    }\n",
       "\n",
       "    .dataframe tbody tr th {\n",
       "        vertical-align: top;\n",
       "    }\n",
       "\n",
       "    .dataframe thead th {\n",
       "        text-align: right;\n",
       "    }\n",
       "</style>\n",
       "<table border=\"1\" class=\"dataframe\">\n",
       "  <thead>\n",
       "    <tr style=\"text-align: right;\">\n",
       "      <th></th>\n",
       "      <th>SeriousDlqin2yrs</th>\n",
       "      <th>RevolvingUtilizationOfUnsecuredLines</th>\n",
       "      <th>age</th>\n",
       "      <th>NumberOfTime30-59DaysPastDueNotWorse</th>\n",
       "      <th>DebtRatio</th>\n",
       "      <th>MonthlyIncome</th>\n",
       "      <th>NumberOfOpenCreditLinesAndLoans</th>\n",
       "      <th>NumberOfTimes90DaysLate</th>\n",
       "      <th>NumberRealEstateLoansOrLines</th>\n",
       "      <th>NumberOfTime60-89DaysPastDueNotWorse</th>\n",
       "      <th>NumberOfDependents</th>\n",
       "    </tr>\n",
       "  </thead>\n",
       "  <tbody>\n",
       "    <tr>\n",
       "      <th>0</th>\n",
       "      <td>1</td>\n",
       "      <td>0.766127</td>\n",
       "      <td>45.0</td>\n",
       "      <td>2.0</td>\n",
       "      <td>0.802982</td>\n",
       "      <td>9120.0</td>\n",
       "      <td>13.0</td>\n",
       "      <td>0.0</td>\n",
       "      <td>6.0</td>\n",
       "      <td>0.0</td>\n",
       "      <td>2.0</td>\n",
       "    </tr>\n",
       "    <tr>\n",
       "      <th>1</th>\n",
       "      <td>0</td>\n",
       "      <td>0.957151</td>\n",
       "      <td>40.0</td>\n",
       "      <td>0.0</td>\n",
       "      <td>0.121876</td>\n",
       "      <td>2600.0</td>\n",
       "      <td>4.0</td>\n",
       "      <td>0.0</td>\n",
       "      <td>0.0</td>\n",
       "      <td>0.0</td>\n",
       "      <td>1.0</td>\n",
       "    </tr>\n",
       "    <tr>\n",
       "      <th>2</th>\n",
       "      <td>0</td>\n",
       "      <td>0.658180</td>\n",
       "      <td>38.0</td>\n",
       "      <td>1.0</td>\n",
       "      <td>0.085113</td>\n",
       "      <td>3042.0</td>\n",
       "      <td>2.0</td>\n",
       "      <td>1.0</td>\n",
       "      <td>0.0</td>\n",
       "      <td>0.0</td>\n",
       "      <td>0.0</td>\n",
       "    </tr>\n",
       "    <tr>\n",
       "      <th>3</th>\n",
       "      <td>0</td>\n",
       "      <td>0.233810</td>\n",
       "      <td>30.0</td>\n",
       "      <td>0.0</td>\n",
       "      <td>0.036050</td>\n",
       "      <td>3300.0</td>\n",
       "      <td>5.0</td>\n",
       "      <td>0.0</td>\n",
       "      <td>0.0</td>\n",
       "      <td>0.0</td>\n",
       "      <td>0.0</td>\n",
       "    </tr>\n",
       "    <tr>\n",
       "      <th>4</th>\n",
       "      <td>0</td>\n",
       "      <td>0.907239</td>\n",
       "      <td>49.0</td>\n",
       "      <td>1.0</td>\n",
       "      <td>0.024926</td>\n",
       "      <td>63588.0</td>\n",
       "      <td>7.0</td>\n",
       "      <td>0.0</td>\n",
       "      <td>1.0</td>\n",
       "      <td>0.0</td>\n",
       "      <td>0.0</td>\n",
       "    </tr>\n",
       "  </tbody>\n",
       "</table>\n",
       "</div>"
      ],
      "text/plain": [
       "   SeriousDlqin2yrs  RevolvingUtilizationOfUnsecuredLines   age  \\\n",
       "0                 1                              0.766127  45.0   \n",
       "1                 0                              0.957151  40.0   \n",
       "2                 0                              0.658180  38.0   \n",
       "3                 0                              0.233810  30.0   \n",
       "4                 0                              0.907239  49.0   \n",
       "\n",
       "   NumberOfTime30-59DaysPastDueNotWorse  DebtRatio  MonthlyIncome  \\\n",
       "0                                   2.0   0.802982         9120.0   \n",
       "1                                   0.0   0.121876         2600.0   \n",
       "2                                   1.0   0.085113         3042.0   \n",
       "3                                   0.0   0.036050         3300.0   \n",
       "4                                   1.0   0.024926        63588.0   \n",
       "\n",
       "   NumberOfOpenCreditLinesAndLoans  NumberOfTimes90DaysLate  \\\n",
       "0                             13.0                      0.0   \n",
       "1                              4.0                      0.0   \n",
       "2                              2.0                      1.0   \n",
       "3                              5.0                      0.0   \n",
       "4                              7.0                      0.0   \n",
       "\n",
       "   NumberRealEstateLoansOrLines  NumberOfTime60-89DaysPastDueNotWorse  \\\n",
       "0                           6.0                                   0.0   \n",
       "1                           0.0                                   0.0   \n",
       "2                           0.0                                   0.0   \n",
       "3                           0.0                                   0.0   \n",
       "4                           1.0                                   0.0   \n",
       "\n",
       "   NumberOfDependents  \n",
       "0                 2.0  \n",
       "1                 1.0  \n",
       "2                 0.0  \n",
       "3                 0.0  \n",
       "4                 0.0  "
      ]
     },
     "execution_count": 241,
     "metadata": {},
     "output_type": "execute_result"
    }
   ],
   "source": [
    "import pandas as pd\n",
    "pd.set_option('display.max_columns', 500)\n",
    "import zipfile\n",
    "with zipfile.ZipFile('KaggleCredit2.csv.zip', 'r') as z:\n",
    "    f = z.open('KaggleCredit2.csv')\n",
    "    data = pd.read_csv(f, index_col=0)\n",
    "data.head()"
   ]
  },
  {
   "cell_type": "code",
   "execution_count": 242,
   "metadata": {
    "collapsed": true,
    "jupyter": {
     "outputs_hidden": true
    }
   },
   "outputs": [
    {
     "data": {
      "text/plain": [
       "(112915, 11)"
      ]
     },
     "execution_count": 242,
     "metadata": {},
     "output_type": "execute_result"
    }
   ],
   "source": [
    "# 检查数据维度\n",
    "data.shape"
   ]
  },
  {
   "cell_type": "code",
   "execution_count": 243,
   "metadata": {
    "collapsed": true,
    "jupyter": {
     "outputs_hidden": true
    }
   },
   "outputs": [
    {
     "data": {
      "text/plain": [
       "SeriousDlqin2yrs                           0\n",
       "RevolvingUtilizationOfUnsecuredLines       0\n",
       "age                                     4267\n",
       "NumberOfTime30-59DaysPastDueNotWorse       0\n",
       "DebtRatio                                  0\n",
       "MonthlyIncome                              0\n",
       "NumberOfOpenCreditLinesAndLoans            0\n",
       "NumberOfTimes90DaysLate                    0\n",
       "NumberRealEstateLoansOrLines               0\n",
       "NumberOfTime60-89DaysPastDueNotWorse       0\n",
       "NumberOfDependents                      4267\n",
       "dtype: int64"
      ]
     },
     "execution_count": 243,
     "metadata": {},
     "output_type": "execute_result"
    }
   ],
   "source": [
    "# 查看数据缺失值情况\n",
    "data.isnull().sum(axis=0)"
   ]
  },
  {
   "cell_type": "code",
   "execution_count": 244,
   "metadata": {
    "collapsed": true,
    "jupyter": {
     "outputs_hidden": true
    }
   },
   "outputs": [
    {
     "name": "stderr",
     "output_type": "stream",
     "text": [
      "C:\\Users\\Qing\\AppData\\Local\\Temp\\ipykernel_30536\\2980780030.py:3: UserWarning: Pandas doesn't allow columns to be created via a new attribute name - see https://pandas.pydata.org/pandas-docs/stable/indexing.html#attribute-access\n",
      "  data.shapey = data['SeriousDlqin2yrs']\n"
     ]
    }
   ],
   "source": [
    "# 清除缺失值\n",
    "data.dropna(inplace=True)\n",
    "data.shapey = data['SeriousDlqin2yrs']\n",
    "X = data.drop('SeriousDlqin2yrs', axis=1)"
   ]
  },
  {
   "cell_type": "code",
   "execution_count": 245,
   "metadata": {
    "collapsed": true,
    "jupyter": {
     "outputs_hidden": true
    }
   },
   "outputs": [
    {
     "data": {
      "text/plain": [
       "0.06742876076872101"
      ]
     },
     "execution_count": 245,
     "metadata": {},
     "output_type": "execute_result"
    }
   ],
   "source": [
    "# 取出对应的X和y\n",
    "y = data['SeriousDlqin2yrs']\n",
    "X = data.drop('SeriousDlqin2yrs', axis=1)\n",
    "# 查看平均的欺诈率\n",
    "y.mean()"
   ]
  },
  {
   "cell_type": "markdown",
   "metadata": {},
   "source": [
    "### 以下为操作题"
   ]
  },
  {
   "cell_type": "markdown",
   "metadata": {},
   "source": [
    "#### 1.把数据切分成训练集和测试集"
   ]
  },
  {
   "cell_type": "code",
   "execution_count": 246,
   "metadata": {
    "collapsed": true,
    "jupyter": {
     "outputs_hidden": true
    }
   },
   "outputs": [],
   "source": [
    "# 提示：查看train_test_split函数\n",
    "from sklearn.model_selection import train_test_split\n",
    "X_train,X_test,y_train,y_test = train_test_split(X,y,test_size=0.3,random_state=0)"
   ]
  },
  {
   "cell_type": "code",
   "execution_count": 247,
   "metadata": {
    "collapsed": true,
    "jupyter": {
     "outputs_hidden": true
    }
   },
   "outputs": [
    {
     "data": {
      "text/plain": [
       "(array([0, 1]), [Text(0, 0, '0'), Text(1, 0, '1')])"
      ]
     },
     "execution_count": 247,
     "metadata": {},
     "output_type": "execute_result"
    },
    {
     "data": {
      "image/png": "[encoded data removed]",
      "text/plain": [
       "<Figure size 640x480 with 1 Axes>"
      ]
     },
     "metadata": {},
     "output_type": "display_data"
    }
   ],
   "source": [
    "# 通过SeriousDlqin2yrs字段查看正负样本分布情况\n",
    "# 提示：value_counts\n",
    "# count_class = pd.value_counts(data['Class'],sort=True).sort_index()\n",
    "\n",
    "y.value_counts().plot(kind='bar')\n",
    "plt.xticks(rotation = 0)\n",
    "\n",
    "# 绘制两种类别的柱状图\n",
    "# 提示：dataframe可以直接plot(kind='bar')\n",
    "# y.value_counts().plot(kind='bar')\n"
   ]
  },
  {
   "cell_type": "markdown",
   "metadata": {},
   "source": [
    "#### 2.数据预处理之离散化"
   ]
  },
  {
   "cell_type": "code",
   "execution_count": 248,
   "metadata": {
    "collapsed": true,
    "jupyter": {
     "outputs_hidden": true
    }
   },
   "outputs": [
    {
     "data": {
      "text/plain": [
       "count    76053.000000\n",
       "mean        51.343129\n",
       "std         14.437048\n",
       "min          0.000000\n",
       "25%         41.000000\n",
       "50%         51.000000\n",
       "75%         62.000000\n",
       "max        103.000000\n",
       "Name: age, dtype: float64"
      ]
     },
     "execution_count": 248,
     "metadata": {},
     "output_type": "execute_result"
    }
   ],
   "source": [
    "# 请对年龄按照3岁一个区间进行离散化\n",
    "# 提示：可以先计算出分桶边界，再基于pandas的cut函数进行离散化(分箱、分桶)\n",
    "X_train['age'].describe()"
   ]
  },
  {
   "cell_type": "code",
   "execution_count": 249,
   "metadata": {},
   "outputs": [],
   "source": [
    "X_train['age'] = pd.cut(X_train['age'],34)\n",
    "X_test['age'] = pd.cut(X_test['age'],34)"
   ]
  },
  {
   "cell_type": "markdown",
   "metadata": {},
   "source": [
    "#### 3.数据预处理之独热向量编码"
   ]
  },
  {
   "cell_type": "code",
   "execution_count": 250,
   "metadata": {
    "collapsed": true,
    "jupyter": {
     "outputs_hidden": true
    }
   },
   "outputs": [
    {
     "data": {
      "text/html": [
       "<div>\n",
       "<style scoped>\n",
       "    .dataframe tbody tr th:only-of-type {\n",
       "        vertical-align: middle;\n",
       "    }\n",
       "\n",
       "    .dataframe tbody tr th {\n",
       "        vertical-align: top;\n",
       "    }\n",
       "\n",
       "    .dataframe thead th {\n",
       "        text-align: right;\n",
       "    }\n",
       "</style>\n",
       "<table border=\"1\" class=\"dataframe\">\n",
       "  <thead>\n",
       "    <tr style=\"text-align: right;\">\n",
       "      <th></th>\n",
       "      <th>RevolvingUtilizationOfUnsecuredLines</th>\n",
       "      <th>NumberOfTime30-59DaysPastDueNotWorse</th>\n",
       "      <th>DebtRatio</th>\n",
       "      <th>MonthlyIncome</th>\n",
       "      <th>NumberOfOpenCreditLinesAndLoans</th>\n",
       "      <th>NumberOfTimes90DaysLate</th>\n",
       "      <th>NumberRealEstateLoansOrLines</th>\n",
       "      <th>NumberOfTime60-89DaysPastDueNotWorse</th>\n",
       "      <th>NumberOfDependents</th>\n",
       "      <th>age_(-0.103, 3.029]</th>\n",
       "      <th>age_(3.029, 6.059]</th>\n",
       "      <th>age_(6.059, 9.088]</th>\n",
       "      <th>age_(9.088, 12.118]</th>\n",
       "      <th>age_(12.118, 15.147]</th>\n",
       "      <th>age_(15.147, 18.176]</th>\n",
       "      <th>age_(18.176, 21.206]</th>\n",
       "      <th>age_(21.206, 24.235]</th>\n",
       "      <th>age_(24.235, 27.265]</th>\n",
       "      <th>age_(27.265, 30.294]</th>\n",
       "      <th>age_(30.294, 33.324]</th>\n",
       "      <th>age_(33.324, 36.353]</th>\n",
       "      <th>age_(36.353, 39.382]</th>\n",
       "      <th>age_(39.382, 42.412]</th>\n",
       "      <th>age_(42.412, 45.441]</th>\n",
       "      <th>age_(45.441, 48.471]</th>\n",
       "      <th>age_(48.471, 51.5]</th>\n",
       "      <th>age_(51.5, 54.529]</th>\n",
       "      <th>age_(54.529, 57.559]</th>\n",
       "      <th>age_(57.559, 60.588]</th>\n",
       "      <th>age_(60.588, 63.618]</th>\n",
       "      <th>age_(63.618, 66.647]</th>\n",
       "      <th>age_(66.647, 69.676]</th>\n",
       "      <th>age_(69.676, 72.706]</th>\n",
       "      <th>age_(72.706, 75.735]</th>\n",
       "      <th>age_(75.735, 78.765]</th>\n",
       "      <th>age_(78.765, 81.794]</th>\n",
       "      <th>age_(81.794, 84.824]</th>\n",
       "      <th>age_(84.824, 87.853]</th>\n",
       "      <th>age_(87.853, 90.882]</th>\n",
       "      <th>age_(90.882, 93.912]</th>\n",
       "      <th>age_(93.912, 96.941]</th>\n",
       "      <th>age_(96.941, 99.971]</th>\n",
       "      <th>age_(99.971, 103.0]</th>\n",
       "    </tr>\n",
       "  </thead>\n",
       "  <tbody>\n",
       "    <tr>\n",
       "      <th>64329</th>\n",
       "      <td>0.116959</td>\n",
       "      <td>0.0</td>\n",
       "      <td>0.326024</td>\n",
       "      <td>3100.0</td>\n",
       "      <td>7.0</td>\n",
       "      <td>0.0</td>\n",
       "      <td>0.0</td>\n",
       "      <td>0.0</td>\n",
       "      <td>1.0</td>\n",
       "      <td>False</td>\n",
       "      <td>False</td>\n",
       "      <td>False</td>\n",
       "      <td>False</td>\n",
       "      <td>False</td>\n",
       "      <td>False</td>\n",
       "      <td>False</td>\n",
       "      <td>False</td>\n",
       "      <td>True</td>\n",
       "      <td>False</td>\n",
       "      <td>False</td>\n",
       "      <td>False</td>\n",
       "      <td>False</td>\n",
       "      <td>False</td>\n",
       "      <td>False</td>\n",
       "      <td>False</td>\n",
       "      <td>False</td>\n",
       "      <td>False</td>\n",
       "      <td>False</td>\n",
       "      <td>False</td>\n",
       "      <td>False</td>\n",
       "      <td>False</td>\n",
       "      <td>False</td>\n",
       "      <td>False</td>\n",
       "      <td>False</td>\n",
       "      <td>False</td>\n",
       "      <td>False</td>\n",
       "      <td>False</td>\n",
       "      <td>False</td>\n",
       "      <td>False</td>\n",
       "      <td>False</td>\n",
       "      <td>False</td>\n",
       "      <td>False</td>\n",
       "      <td>False</td>\n",
       "    </tr>\n",
       "    <tr>\n",
       "      <th>70087</th>\n",
       "      <td>0.050666</td>\n",
       "      <td>0.0</td>\n",
       "      <td>0.177182</td>\n",
       "      <td>10000.0</td>\n",
       "      <td>9.0</td>\n",
       "      <td>0.0</td>\n",
       "      <td>1.0</td>\n",
       "      <td>0.0</td>\n",
       "      <td>0.0</td>\n",
       "      <td>False</td>\n",
       "      <td>False</td>\n",
       "      <td>False</td>\n",
       "      <td>False</td>\n",
       "      <td>False</td>\n",
       "      <td>False</td>\n",
       "      <td>False</td>\n",
       "      <td>False</td>\n",
       "      <td>False</td>\n",
       "      <td>False</td>\n",
       "      <td>False</td>\n",
       "      <td>False</td>\n",
       "      <td>False</td>\n",
       "      <td>False</td>\n",
       "      <td>False</td>\n",
       "      <td>False</td>\n",
       "      <td>False</td>\n",
       "      <td>False</td>\n",
       "      <td>False</td>\n",
       "      <td>False</td>\n",
       "      <td>False</td>\n",
       "      <td>False</td>\n",
       "      <td>False</td>\n",
       "      <td>False</td>\n",
       "      <td>False</td>\n",
       "      <td>False</td>\n",
       "      <td>False</td>\n",
       "      <td>True</td>\n",
       "      <td>False</td>\n",
       "      <td>False</td>\n",
       "      <td>False</td>\n",
       "      <td>False</td>\n",
       "      <td>False</td>\n",
       "      <td>False</td>\n",
       "    </tr>\n",
       "    <tr>\n",
       "      <th>77642</th>\n",
       "      <td>0.038865</td>\n",
       "      <td>0.0</td>\n",
       "      <td>0.016600</td>\n",
       "      <td>5722.0</td>\n",
       "      <td>7.0</td>\n",
       "      <td>0.0</td>\n",
       "      <td>0.0</td>\n",
       "      <td>0.0</td>\n",
       "      <td>0.0</td>\n",
       "      <td>False</td>\n",
       "      <td>False</td>\n",
       "      <td>False</td>\n",
       "      <td>False</td>\n",
       "      <td>False</td>\n",
       "      <td>False</td>\n",
       "      <td>False</td>\n",
       "      <td>False</td>\n",
       "      <td>False</td>\n",
       "      <td>False</td>\n",
       "      <td>False</td>\n",
       "      <td>False</td>\n",
       "      <td>False</td>\n",
       "      <td>False</td>\n",
       "      <td>False</td>\n",
       "      <td>False</td>\n",
       "      <td>False</td>\n",
       "      <td>False</td>\n",
       "      <td>False</td>\n",
       "      <td>False</td>\n",
       "      <td>False</td>\n",
       "      <td>False</td>\n",
       "      <td>False</td>\n",
       "      <td>True</td>\n",
       "      <td>False</td>\n",
       "      <td>False</td>\n",
       "      <td>False</td>\n",
       "      <td>False</td>\n",
       "      <td>False</td>\n",
       "      <td>False</td>\n",
       "      <td>False</td>\n",
       "      <td>False</td>\n",
       "      <td>False</td>\n",
       "      <td>False</td>\n",
       "    </tr>\n",
       "    <tr>\n",
       "      <th>6017</th>\n",
       "      <td>0.023513</td>\n",
       "      <td>0.0</td>\n",
       "      <td>0.266260</td>\n",
       "      <td>10500.0</td>\n",
       "      <td>8.0</td>\n",
       "      <td>0.0</td>\n",
       "      <td>2.0</td>\n",
       "      <td>0.0</td>\n",
       "      <td>3.0</td>\n",
       "      <td>False</td>\n",
       "      <td>False</td>\n",
       "      <td>False</td>\n",
       "      <td>False</td>\n",
       "      <td>False</td>\n",
       "      <td>False</td>\n",
       "      <td>False</td>\n",
       "      <td>False</td>\n",
       "      <td>False</td>\n",
       "      <td>False</td>\n",
       "      <td>False</td>\n",
       "      <td>False</td>\n",
       "      <td>False</td>\n",
       "      <td>False</td>\n",
       "      <td>False</td>\n",
       "      <td>False</td>\n",
       "      <td>False</td>\n",
       "      <td>False</td>\n",
       "      <td>True</td>\n",
       "      <td>False</td>\n",
       "      <td>False</td>\n",
       "      <td>False</td>\n",
       "      <td>False</td>\n",
       "      <td>False</td>\n",
       "      <td>False</td>\n",
       "      <td>False</td>\n",
       "      <td>False</td>\n",
       "      <td>False</td>\n",
       "      <td>False</td>\n",
       "      <td>False</td>\n",
       "      <td>False</td>\n",
       "      <td>False</td>\n",
       "      <td>False</td>\n",
       "      <td>False</td>\n",
       "    </tr>\n",
       "    <tr>\n",
       "      <th>106521</th>\n",
       "      <td>0.039350</td>\n",
       "      <td>0.0</td>\n",
       "      <td>0.195179</td>\n",
       "      <td>1700.0</td>\n",
       "      <td>3.0</td>\n",
       "      <td>0.0</td>\n",
       "      <td>0.0</td>\n",
       "      <td>0.0</td>\n",
       "      <td>0.0</td>\n",
       "      <td>False</td>\n",
       "      <td>False</td>\n",
       "      <td>False</td>\n",
       "      <td>False</td>\n",
       "      <td>False</td>\n",
       "      <td>False</td>\n",
       "      <td>False</td>\n",
       "      <td>False</td>\n",
       "      <td>False</td>\n",
       "      <td>False</td>\n",
       "      <td>False</td>\n",
       "      <td>False</td>\n",
       "      <td>False</td>\n",
       "      <td>False</td>\n",
       "      <td>False</td>\n",
       "      <td>False</td>\n",
       "      <td>False</td>\n",
       "      <td>False</td>\n",
       "      <td>False</td>\n",
       "      <td>False</td>\n",
       "      <td>False</td>\n",
       "      <td>False</td>\n",
       "      <td>False</td>\n",
       "      <td>False</td>\n",
       "      <td>False</td>\n",
       "      <td>False</td>\n",
       "      <td>False</td>\n",
       "      <td>True</td>\n",
       "      <td>False</td>\n",
       "      <td>False</td>\n",
       "      <td>False</td>\n",
       "      <td>False</td>\n",
       "      <td>False</td>\n",
       "      <td>False</td>\n",
       "    </tr>\n",
       "  </tbody>\n",
       "</table>\n",
       "</div>"
      ],
      "text/plain": [
       "        RevolvingUtilizationOfUnsecuredLines  \\\n",
       "64329                               0.116959   \n",
       "70087                               0.050666   \n",
       "77642                               0.038865   \n",
       "6017                                0.023513   \n",
       "106521                              0.039350   \n",
       "\n",
       "        NumberOfTime30-59DaysPastDueNotWorse  DebtRatio  MonthlyIncome  \\\n",
       "64329                                    0.0   0.326024         3100.0   \n",
       "70087                                    0.0   0.177182        10000.0   \n",
       "77642                                    0.0   0.016600         5722.0   \n",
       "6017                                     0.0   0.266260        10500.0   \n",
       "106521                                   0.0   0.195179         1700.0   \n",
       "\n",
       "        NumberOfOpenCreditLinesAndLoans  NumberOfTimes90DaysLate  \\\n",
       "64329                               7.0                      0.0   \n",
       "70087                               9.0                      0.0   \n",
       "77642                               7.0                      0.0   \n",
       "6017                                8.0                      0.0   \n",
       "106521                              3.0                      0.0   \n",
       "\n",
       "        NumberRealEstateLoansOrLines  NumberOfTime60-89DaysPastDueNotWorse  \\\n",
       "64329                            0.0                                   0.0   \n",
       "70087                            1.0                                   0.0   \n",
       "77642                            0.0                                   0.0   \n",
       "6017                             2.0                                   0.0   \n",
       "106521                           0.0                                   0.0   \n",
       "\n",
       "        NumberOfDependents  age_(-0.103, 3.029]  age_(3.029, 6.059]  \\\n",
       "64329                  1.0                False               False   \n",
       "70087                  0.0                False               False   \n",
       "77642                  0.0                False               False   \n",
       "6017                   3.0                False               False   \n",
       "106521                 0.0                False               False   \n",
       "\n",
       "        age_(6.059, 9.088]  age_(9.088, 12.118]  age_(12.118, 15.147]  \\\n",
       "64329                False                False                 False   \n",
       "70087                False                False                 False   \n",
       "77642                False                False                 False   \n",
       "6017                 False                False                 False   \n",
       "106521               False                False                 False   \n",
       "\n",
       "        age_(15.147, 18.176]  age_(18.176, 21.206]  age_(21.206, 24.235]  \\\n",
       "64329                  False                 False                 False   \n",
       "70087                  False                 False                 False   \n",
       "77642                  False                 False                 False   \n",
       "6017                   False                 False                 False   \n",
       "106521                 False                 False                 False   \n",
       "\n",
       "        age_(24.235, 27.265]  age_(27.265, 30.294]  age_(30.294, 33.324]  \\\n",
       "64329                   True                 False                 False   \n",
       "70087                  False                 False                 False   \n",
       "77642                  False                 False                 False   \n",
       "6017                   False                 False                 False   \n",
       "106521                 False                 False                 False   \n",
       "\n",
       "        age_(33.324, 36.353]  age_(36.353, 39.382]  age_(39.382, 42.412]  \\\n",
       "64329                  False                 False                 False   \n",
       "70087                  False                 False                 False   \n",
       "77642                  False                 False                 False   \n",
       "6017                   False                 False                 False   \n",
       "106521                 False                 False                 False   \n",
       "\n",
       "        age_(42.412, 45.441]  age_(45.441, 48.471]  age_(48.471, 51.5]  \\\n",
       "64329                  False                 False               False   \n",
       "70087                  False                 False               False   \n",
       "77642                  False                 False               False   \n",
       "6017                   False                 False               False   \n",
       "106521                 False                 False               False   \n",
       "\n",
       "        age_(51.5, 54.529]  age_(54.529, 57.559]  age_(57.559, 60.588]  \\\n",
       "64329                False                 False                 False   \n",
       "70087                False                 False                 False   \n",
       "77642                False                 False                 False   \n",
       "6017                 False                  True                 False   \n",
       "106521               False                 False                 False   \n",
       "\n",
       "        age_(60.588, 63.618]  age_(63.618, 66.647]  age_(66.647, 69.676]  \\\n",
       "64329                  False                 False                 False   \n",
       "70087                  False                 False                 False   \n",
       "77642                  False                 False                 False   \n",
       "6017                   False                 False                 False   \n",
       "106521                 False                 False                 False   \n",
       "\n",
       "        age_(69.676, 72.706]  age_(72.706, 75.735]  age_(75.735, 78.765]  \\\n",
       "64329                  False                 False                 False   \n",
       "70087                  False                 False                 False   \n",
       "77642                   True                 False                 False   \n",
       "6017                   False                 False                 False   \n",
       "106521                 False                 False                 False   \n",
       "\n",
       "        age_(78.765, 81.794]  age_(81.794, 84.824]  age_(84.824, 87.853]  \\\n",
       "64329                  False                 False                 False   \n",
       "70087                  False                  True                 False   \n",
       "77642                  False                 False                 False   \n",
       "6017                   False                 False                 False   \n",
       "106521                 False                  True                 False   \n",
       "\n",
       "        age_(87.853, 90.882]  age_(90.882, 93.912]  age_(93.912, 96.941]  \\\n",
       "64329                  False                 False                 False   \n",
       "70087                  False                 False                 False   \n",
       "77642                  False                 False                 False   \n",
       "6017                   False                 False                 False   \n",
       "106521                 False                 False                 False   \n",
       "\n",
       "        age_(96.941, 99.971]  age_(99.971, 103.0]  \n",
       "64329                  False                False  \n",
       "70087                  False                False  \n",
       "77642                  False                False  \n",
       "6017                   False                False  \n",
       "106521                 False                False  "
      ]
     },
     "execution_count": 250,
     "metadata": {},
     "output_type": "execute_result"
    }
   ],
   "source": [
    "# 请对上述分箱后的年龄段进行独热向量编码\n",
    "# 提示：使用pandas的get_dummies完成\n",
    "X_train = pd.get_dummies(X_train,columns=['age'],prefix_sep='_',dummy_na=False,drop_first = False)\n",
    "# X_train = X_train.drop('age',axis=1)\n",
    "X_train.head()"
   ]
  },
  {
   "cell_type": "code",
   "execution_count": 251,
   "metadata": {},
   "outputs": [
    {
     "data": {
      "text/html": [
       "<div>\n",
       "<style scoped>\n",
       "    .dataframe tbody tr th:only-of-type {\n",
       "        vertical-align: middle;\n",
       "    }\n",
       "\n",
       "    .dataframe tbody tr th {\n",
       "        vertical-align: top;\n",
       "    }\n",
       "\n",
       "    .dataframe thead th {\n",
       "        text-align: right;\n",
       "    }\n",
       "</style>\n",
       "<table border=\"1\" class=\"dataframe\">\n",
       "  <thead>\n",
       "    <tr style=\"text-align: right;\">\n",
       "      <th></th>\n",
       "      <th>RevolvingUtilizationOfUnsecuredLines</th>\n",
       "      <th>NumberOfTime30-59DaysPastDueNotWorse</th>\n",
       "      <th>DebtRatio</th>\n",
       "      <th>MonthlyIncome</th>\n",
       "      <th>NumberOfOpenCreditLinesAndLoans</th>\n",
       "      <th>NumberOfTimes90DaysLate</th>\n",
       "      <th>NumberRealEstateLoansOrLines</th>\n",
       "      <th>NumberOfTime60-89DaysPastDueNotWorse</th>\n",
       "      <th>NumberOfDependents</th>\n",
       "      <th>age_(20.92, 23.353]</th>\n",
       "      <th>age_(23.353, 25.706]</th>\n",
       "      <th>age_(25.706, 28.059]</th>\n",
       "      <th>age_(28.059, 30.412]</th>\n",
       "      <th>age_(30.412, 32.765]</th>\n",
       "      <th>age_(32.765, 35.118]</th>\n",
       "      <th>age_(35.118, 37.471]</th>\n",
       "      <th>age_(37.471, 39.824]</th>\n",
       "      <th>age_(39.824, 42.176]</th>\n",
       "      <th>age_(42.176, 44.529]</th>\n",
       "      <th>age_(44.529, 46.882]</th>\n",
       "      <th>age_(46.882, 49.235]</th>\n",
       "      <th>age_(49.235, 51.588]</th>\n",
       "      <th>age_(51.588, 53.941]</th>\n",
       "      <th>age_(53.941, 56.294]</th>\n",
       "      <th>age_(56.294, 58.647]</th>\n",
       "      <th>age_(58.647, 61.0]</th>\n",
       "      <th>age_(61.0, 63.353]</th>\n",
       "      <th>age_(63.353, 65.706]</th>\n",
       "      <th>age_(65.706, 68.059]</th>\n",
       "      <th>age_(68.059, 70.412]</th>\n",
       "      <th>age_(70.412, 72.765]</th>\n",
       "      <th>age_(72.765, 75.118]</th>\n",
       "      <th>age_(75.118, 77.471]</th>\n",
       "      <th>age_(77.471, 79.824]</th>\n",
       "      <th>age_(79.824, 82.176]</th>\n",
       "      <th>age_(82.176, 84.529]</th>\n",
       "      <th>age_(84.529, 86.882]</th>\n",
       "      <th>age_(86.882, 89.235]</th>\n",
       "      <th>age_(89.235, 91.588]</th>\n",
       "      <th>age_(91.588, 93.941]</th>\n",
       "      <th>age_(93.941, 96.294]</th>\n",
       "      <th>age_(96.294, 98.647]</th>\n",
       "      <th>age_(98.647, 101.0]</th>\n",
       "    </tr>\n",
       "  </thead>\n",
       "  <tbody>\n",
       "    <tr>\n",
       "      <th>107294</th>\n",
       "      <td>0.128706</td>\n",
       "      <td>0.0</td>\n",
       "      <td>0.790269</td>\n",
       "      <td>4500.0</td>\n",
       "      <td>24.0</td>\n",
       "      <td>0.0</td>\n",
       "      <td>4.0</td>\n",
       "      <td>0.0</td>\n",
       "      <td>0.0</td>\n",
       "      <td>False</td>\n",
       "      <td>False</td>\n",
       "      <td>False</td>\n",
       "      <td>False</td>\n",
       "      <td>False</td>\n",
       "      <td>False</td>\n",
       "      <td>False</td>\n",
       "      <td>False</td>\n",
       "      <td>False</td>\n",
       "      <td>False</td>\n",
       "      <td>False</td>\n",
       "      <td>False</td>\n",
       "      <td>False</td>\n",
       "      <td>False</td>\n",
       "      <td>False</td>\n",
       "      <td>False</td>\n",
       "      <td>True</td>\n",
       "      <td>False</td>\n",
       "      <td>False</td>\n",
       "      <td>False</td>\n",
       "      <td>False</td>\n",
       "      <td>False</td>\n",
       "      <td>False</td>\n",
       "      <td>False</td>\n",
       "      <td>False</td>\n",
       "      <td>False</td>\n",
       "      <td>False</td>\n",
       "      <td>False</td>\n",
       "      <td>False</td>\n",
       "      <td>False</td>\n",
       "      <td>False</td>\n",
       "      <td>False</td>\n",
       "      <td>False</td>\n",
       "      <td>False</td>\n",
       "    </tr>\n",
       "    <tr>\n",
       "      <th>39317</th>\n",
       "      <td>0.108896</td>\n",
       "      <td>0.0</td>\n",
       "      <td>0.159920</td>\n",
       "      <td>2000.0</td>\n",
       "      <td>12.0</td>\n",
       "      <td>0.0</td>\n",
       "      <td>0.0</td>\n",
       "      <td>0.0</td>\n",
       "      <td>0.0</td>\n",
       "      <td>False</td>\n",
       "      <td>False</td>\n",
       "      <td>False</td>\n",
       "      <td>False</td>\n",
       "      <td>False</td>\n",
       "      <td>False</td>\n",
       "      <td>False</td>\n",
       "      <td>False</td>\n",
       "      <td>False</td>\n",
       "      <td>False</td>\n",
       "      <td>False</td>\n",
       "      <td>False</td>\n",
       "      <td>False</td>\n",
       "      <td>False</td>\n",
       "      <td>False</td>\n",
       "      <td>False</td>\n",
       "      <td>False</td>\n",
       "      <td>False</td>\n",
       "      <td>False</td>\n",
       "      <td>False</td>\n",
       "      <td>False</td>\n",
       "      <td>False</td>\n",
       "      <td>False</td>\n",
       "      <td>True</td>\n",
       "      <td>False</td>\n",
       "      <td>False</td>\n",
       "      <td>False</td>\n",
       "      <td>False</td>\n",
       "      <td>False</td>\n",
       "      <td>False</td>\n",
       "      <td>False</td>\n",
       "      <td>False</td>\n",
       "      <td>False</td>\n",
       "      <td>False</td>\n",
       "    </tr>\n",
       "    <tr>\n",
       "      <th>40606</th>\n",
       "      <td>0.153372</td>\n",
       "      <td>0.0</td>\n",
       "      <td>0.375656</td>\n",
       "      <td>4000.0</td>\n",
       "      <td>9.0</td>\n",
       "      <td>0.0</td>\n",
       "      <td>1.0</td>\n",
       "      <td>0.0</td>\n",
       "      <td>0.0</td>\n",
       "      <td>False</td>\n",
       "      <td>False</td>\n",
       "      <td>False</td>\n",
       "      <td>False</td>\n",
       "      <td>False</td>\n",
       "      <td>False</td>\n",
       "      <td>False</td>\n",
       "      <td>False</td>\n",
       "      <td>False</td>\n",
       "      <td>False</td>\n",
       "      <td>False</td>\n",
       "      <td>False</td>\n",
       "      <td>True</td>\n",
       "      <td>False</td>\n",
       "      <td>False</td>\n",
       "      <td>False</td>\n",
       "      <td>False</td>\n",
       "      <td>False</td>\n",
       "      <td>False</td>\n",
       "      <td>False</td>\n",
       "      <td>False</td>\n",
       "      <td>False</td>\n",
       "      <td>False</td>\n",
       "      <td>False</td>\n",
       "      <td>False</td>\n",
       "      <td>False</td>\n",
       "      <td>False</td>\n",
       "      <td>False</td>\n",
       "      <td>False</td>\n",
       "      <td>False</td>\n",
       "      <td>False</td>\n",
       "      <td>False</td>\n",
       "      <td>False</td>\n",
       "      <td>False</td>\n",
       "    </tr>\n",
       "    <tr>\n",
       "      <th>68931</th>\n",
       "      <td>0.067802</td>\n",
       "      <td>0.0</td>\n",
       "      <td>0.297658</td>\n",
       "      <td>16696.0</td>\n",
       "      <td>13.0</td>\n",
       "      <td>0.0</td>\n",
       "      <td>1.0</td>\n",
       "      <td>0.0</td>\n",
       "      <td>1.0</td>\n",
       "      <td>False</td>\n",
       "      <td>False</td>\n",
       "      <td>False</td>\n",
       "      <td>False</td>\n",
       "      <td>False</td>\n",
       "      <td>False</td>\n",
       "      <td>False</td>\n",
       "      <td>False</td>\n",
       "      <td>False</td>\n",
       "      <td>False</td>\n",
       "      <td>False</td>\n",
       "      <td>False</td>\n",
       "      <td>False</td>\n",
       "      <td>False</td>\n",
       "      <td>False</td>\n",
       "      <td>True</td>\n",
       "      <td>False</td>\n",
       "      <td>False</td>\n",
       "      <td>False</td>\n",
       "      <td>False</td>\n",
       "      <td>False</td>\n",
       "      <td>False</td>\n",
       "      <td>False</td>\n",
       "      <td>False</td>\n",
       "      <td>False</td>\n",
       "      <td>False</td>\n",
       "      <td>False</td>\n",
       "      <td>False</td>\n",
       "      <td>False</td>\n",
       "      <td>False</td>\n",
       "      <td>False</td>\n",
       "      <td>False</td>\n",
       "      <td>False</td>\n",
       "      <td>False</td>\n",
       "    </tr>\n",
       "    <tr>\n",
       "      <th>20745</th>\n",
       "      <td>0.399198</td>\n",
       "      <td>0.0</td>\n",
       "      <td>0.223816</td>\n",
       "      <td>17500.0</td>\n",
       "      <td>16.0</td>\n",
       "      <td>0.0</td>\n",
       "      <td>2.0</td>\n",
       "      <td>0.0</td>\n",
       "      <td>0.0</td>\n",
       "      <td>False</td>\n",
       "      <td>False</td>\n",
       "      <td>False</td>\n",
       "      <td>False</td>\n",
       "      <td>False</td>\n",
       "      <td>False</td>\n",
       "      <td>False</td>\n",
       "      <td>False</td>\n",
       "      <td>False</td>\n",
       "      <td>False</td>\n",
       "      <td>False</td>\n",
       "      <td>False</td>\n",
       "      <td>False</td>\n",
       "      <td>False</td>\n",
       "      <td>False</td>\n",
       "      <td>True</td>\n",
       "      <td>False</td>\n",
       "      <td>False</td>\n",
       "      <td>False</td>\n",
       "      <td>False</td>\n",
       "      <td>False</td>\n",
       "      <td>False</td>\n",
       "      <td>False</td>\n",
       "      <td>False</td>\n",
       "      <td>False</td>\n",
       "      <td>False</td>\n",
       "      <td>False</td>\n",
       "      <td>False</td>\n",
       "      <td>False</td>\n",
       "      <td>False</td>\n",
       "      <td>False</td>\n",
       "      <td>False</td>\n",
       "      <td>False</td>\n",
       "      <td>False</td>\n",
       "    </tr>\n",
       "  </tbody>\n",
       "</table>\n",
       "</div>"
      ],
      "text/plain": [
       "        RevolvingUtilizationOfUnsecuredLines  \\\n",
       "107294                              0.128706   \n",
       "39317                               0.108896   \n",
       "40606                               0.153372   \n",
       "68931                               0.067802   \n",
       "20745                               0.399198   \n",
       "\n",
       "        NumberOfTime30-59DaysPastDueNotWorse  DebtRatio  MonthlyIncome  \\\n",
       "107294                                   0.0   0.790269         4500.0   \n",
       "39317                                    0.0   0.159920         2000.0   \n",
       "40606                                    0.0   0.375656         4000.0   \n",
       "68931                                    0.0   0.297658        16696.0   \n",
       "20745                                    0.0   0.223816        17500.0   \n",
       "\n",
       "        NumberOfOpenCreditLinesAndLoans  NumberOfTimes90DaysLate  \\\n",
       "107294                             24.0                      0.0   \n",
       "39317                              12.0                      0.0   \n",
       "40606                               9.0                      0.0   \n",
       "68931                              13.0                      0.0   \n",
       "20745                              16.0                      0.0   \n",
       "\n",
       "        NumberRealEstateLoansOrLines  NumberOfTime60-89DaysPastDueNotWorse  \\\n",
       "107294                           4.0                                   0.0   \n",
       "39317                            0.0                                   0.0   \n",
       "40606                            1.0                                   0.0   \n",
       "68931                            1.0                                   0.0   \n",
       "20745                            2.0                                   0.0   \n",
       "\n",
       "        NumberOfDependents  age_(20.92, 23.353]  age_(23.353, 25.706]  \\\n",
       "107294                 0.0                False                 False   \n",
       "39317                  0.0                False                 False   \n",
       "40606                  0.0                False                 False   \n",
       "68931                  1.0                False                 False   \n",
       "20745                  0.0                False                 False   \n",
       "\n",
       "        age_(25.706, 28.059]  age_(28.059, 30.412]  age_(30.412, 32.765]  \\\n",
       "107294                 False                 False                 False   \n",
       "39317                  False                 False                 False   \n",
       "40606                  False                 False                 False   \n",
       "68931                  False                 False                 False   \n",
       "20745                  False                 False                 False   \n",
       "\n",
       "        age_(32.765, 35.118]  age_(35.118, 37.471]  age_(37.471, 39.824]  \\\n",
       "107294                 False                 False                 False   \n",
       "39317                  False                 False                 False   \n",
       "40606                  False                 False                 False   \n",
       "68931                  False                 False                 False   \n",
       "20745                  False                 False                 False   \n",
       "\n",
       "        age_(39.824, 42.176]  age_(42.176, 44.529]  age_(44.529, 46.882]  \\\n",
       "107294                 False                 False                 False   \n",
       "39317                  False                 False                 False   \n",
       "40606                  False                 False                 False   \n",
       "68931                  False                 False                 False   \n",
       "20745                  False                 False                 False   \n",
       "\n",
       "        age_(46.882, 49.235]  age_(49.235, 51.588]  age_(51.588, 53.941]  \\\n",
       "107294                 False                 False                 False   \n",
       "39317                  False                 False                 False   \n",
       "40606                  False                  True                 False   \n",
       "68931                  False                 False                 False   \n",
       "20745                  False                 False                 False   \n",
       "\n",
       "        age_(53.941, 56.294]  age_(56.294, 58.647]  age_(58.647, 61.0]  \\\n",
       "107294                 False                 False                True   \n",
       "39317                  False                 False               False   \n",
       "40606                  False                 False               False   \n",
       "68931                  False                  True               False   \n",
       "20745                  False                  True               False   \n",
       "\n",
       "        age_(61.0, 63.353]  age_(63.353, 65.706]  age_(65.706, 68.059]  \\\n",
       "107294               False                 False                 False   \n",
       "39317                False                 False                 False   \n",
       "40606                False                 False                 False   \n",
       "68931                False                 False                 False   \n",
       "20745                False                 False                 False   \n",
       "\n",
       "        age_(68.059, 70.412]  age_(70.412, 72.765]  age_(72.765, 75.118]  \\\n",
       "107294                 False                 False                 False   \n",
       "39317                  False                 False                 False   \n",
       "40606                  False                 False                 False   \n",
       "68931                  False                 False                 False   \n",
       "20745                  False                 False                 False   \n",
       "\n",
       "        age_(75.118, 77.471]  age_(77.471, 79.824]  age_(79.824, 82.176]  \\\n",
       "107294                 False                 False                 False   \n",
       "39317                   True                 False                 False   \n",
       "40606                  False                 False                 False   \n",
       "68931                  False                 False                 False   \n",
       "20745                  False                 False                 False   \n",
       "\n",
       "        age_(82.176, 84.529]  age_(84.529, 86.882]  age_(86.882, 89.235]  \\\n",
       "107294                 False                 False                 False   \n",
       "39317                  False                 False                 False   \n",
       "40606                  False                 False                 False   \n",
       "68931                  False                 False                 False   \n",
       "20745                  False                 False                 False   \n",
       "\n",
       "        age_(89.235, 91.588]  age_(91.588, 93.941]  age_(93.941, 96.294]  \\\n",
       "107294                 False                 False                 False   \n",
       "39317                  False                 False                 False   \n",
       "40606                  False                 False                 False   \n",
       "68931                  False                 False                 False   \n",
       "20745                  False                 False                 False   \n",
       "\n",
       "        age_(96.294, 98.647]  age_(98.647, 101.0]  \n",
       "107294                 False                False  \n",
       "39317                  False                False  \n",
       "40606                  False                False  \n",
       "68931                  False                False  \n",
       "20745                  False                False  "
      ]
     },
     "execution_count": 251,
     "metadata": {},
     "output_type": "execute_result"
    }
   ],
   "source": [
    "X_test = pd.get_dummies(X_test,columns=['age'],prefix_sep='_',dummy_na=False,drop_first = False)\n",
    "# 对测试集\n",
    "X_test.head()"
   ]
  },
  {
   "cell_type": "markdown",
   "metadata": {},
   "source": [
    "#### 4.数据预处理之幅度缩放"
   ]
  },
  {
   "cell_type": "code",
   "execution_count": 252,
   "metadata": {
    "collapsed": true,
    "jupyter": {
     "outputs_hidden": true
    }
   },
   "outputs": [],
   "source": [
    "# 请对连续值特征进行幅度缩放\n",
    "# 提示：可以使用StandardScaler等幅度缩放器进行处理\n",
    "from sklearn.preprocessing import StandardScaler\n",
    "\n",
    "std = StandardScaler()\n",
    "X_train_std = std.fit_transform(X_train)\n",
    "X_test_std=std.fit_transform(X_test)"
   ]
  },
  {
   "cell_type": "markdown",
   "metadata": {},
   "source": [
    "#### 5.使用logistic regression建模，并且输出一下系数，分析重要度。   "
   ]
  },
  {
   "cell_type": "code",
   "execution_count": 253,
   "metadata": {
    "collapsed": true,
    "jupyter": {
     "outputs_hidden": true
    }
   },
   "outputs": [
    {
     "name": "stdout",
     "output_type": "stream",
     "text": [
      " 1) NumberOfTime30-59DaysPastDueNotWorse 0.594894\n",
      " 2) DebtRatio                      0.330854\n",
      " 3) NumberOfTimes90DaysLate        0.199535\n",
      " 4) age_(27.265, 30.294]           0.128900\n",
      " 5) NumberOfDependents             0.120273\n",
      " 6) age_(24.235, 27.265]           0.105089\n",
      " 7) age_(33.324, 36.353]           0.100006\n",
      " 8) age_(30.294, 33.324]           0.093279\n",
      " 9) age_(39.382, 42.412]           0.083661\n",
      "10) age_(21.206, 24.235]           0.059068\n",
      "11) age_(45.441, 48.471]           0.054129\n",
      "12) age_(36.353, 39.382]           0.047261\n",
      "13) age_(48.471, 51.5]             0.042288\n",
      "14) age_(42.412, 45.441]           0.042275\n",
      "15) age_(51.5, 54.529]             0.037125\n",
      "16) age_(96.941, 99.971]           0.007002\n",
      "17) age_(15.147, 18.176]           0.000000\n",
      "18) age_(9.088, 12.118]            0.000000\n",
      "19) age_(6.059, 9.088]             0.000000\n",
      "20) age_(3.029, 6.059]             0.000000\n",
      "21) age_(12.118, 15.147]           0.000000\n",
      "22) age_(-0.103, 3.029]            -0.009834\n",
      "23) age_(87.853, 90.882]           -0.013560\n",
      "24) age_(99.971, 103.0]            -0.014473\n",
      "25) age_(90.882, 93.912]           -0.014750\n",
      "26) RevolvingUtilizationOfUnsecuredLines -0.016689\n",
      "27) age_(54.529, 57.559]           -0.017736\n",
      "28) age_(57.559, 60.588]           -0.029993\n",
      "29) age_(18.176, 21.206]           -0.045440\n",
      "30) age_(93.912, 96.941]           -0.045798\n",
      "31) age_(81.794, 84.824]           -0.054993\n",
      "32) age_(84.824, 87.853]           -0.059984\n",
      "33) age_(60.588, 63.618]           -0.078230\n",
      "34) age_(69.676, 72.706]           -0.089134\n",
      "35) NumberOfOpenCreditLinesAndLoans -0.091766\n",
      "36) MonthlyIncome                  -0.108390\n",
      "37) age_(75.735, 78.765]           -0.111045\n",
      "38) age_(78.765, 81.794]           -0.112247\n",
      "39) age_(63.618, 66.647]           -0.114268\n",
      "40) age_(72.706, 75.735]           -0.118389\n",
      "41) age_(66.647, 69.676]           -0.163455\n",
      "42) NumberRealEstateLoansOrLines   -0.227513\n",
      "43) NumberOfTime60-89DaysPastDueNotWorse -0.627347\n"
     ]
    },
    {
     "name": "stderr",
     "output_type": "stream",
     "text": [
      "d:\\MiniConda\\envs\\common\\lib\\site-packages\\sklearn\\linear_model\\_sag.py:350: ConvergenceWarning: The max_iter was reached which means the coef_ did not converge\n",
      "  warnings.warn(\n"
     ]
    }
   ],
   "source": [
    "# 提示：fit建模，建完模之后可以取出coef属性\n",
    "from sklearn.linear_model import LogisticRegression\n",
    "import numpy as np\n",
    "lr = LogisticRegression(C=100.0,random_state=0,solver='saga')\n",
    "\n",
    "lr.fit(X_train_std,y_train)\n",
    "\n",
    "coef = lr.coef_[0] #coef 系数\n",
    "labels = X_train.columns[:]\n",
    "indices = np.argsort(coef)[::-1]\n",
    "for f in range(X_train.shape[1]):\n",
    "    print(\"%2d) %-*s %f\" % (f + 1,30,labels[indices[f]],coef[indices[f]]))\n",
    "\n"
   ]
  },
  {
   "cell_type": "markdown",
   "metadata": {},
   "source": [
    "#### 6.使用网格搜索交叉验证进行调参\n",
    "调整penalty和C参数，其中penalty候选为\"l1\"和\"l2\"，C的候选为[1,10,100,500]"
   ]
  },
  {
   "cell_type": "code",
   "execution_count": 254,
   "metadata": {
    "collapsed": true,
    "jupyter": {
     "outputs_hidden": true
    }
   },
   "outputs": [],
   "source": [
    "# 提示：先按照上面要求准备好网格字典，再使用GridSearchCV进行调参\n",
    "param_grid = {'C':[1,10,100,500],\n",
    "       'penalty':['l1','l2']}\n",
    "\n",
    "from sklearn.model_selection import GridSearchCV\n",
    "from sklearn.linear_model import LogisticRegression\n",
    "grid_search = GridSearchCV(LogisticRegression(solver='saga',n_jobs=-1,max_iter=2000),param_grid,cv=5)"
   ]
  },
  {
   "cell_type": "code",
   "execution_count": 255,
   "metadata": {
    "collapsed": true,
    "jupyter": {
     "outputs_hidden": true
    }
   },
   "outputs": [
    {
     "name": "stderr",
     "output_type": "stream",
     "text": [
      "d:\\MiniConda\\envs\\common\\lib\\site-packages\\sklearn\\linear_model\\_sag.py:350: ConvergenceWarning: The max_iter was reached which means the coef_ did not converge\n",
      "  warnings.warn(\n",
      "d:\\MiniConda\\envs\\common\\lib\\site-packages\\sklearn\\linear_model\\_sag.py:350: ConvergenceWarning: The max_iter was reached which means the coef_ did not converge\n",
      "  warnings.warn(\n",
      "d:\\MiniConda\\envs\\common\\lib\\site-packages\\sklearn\\linear_model\\_sag.py:350: ConvergenceWarning: The max_iter was reached which means the coef_ did not converge\n",
      "  warnings.warn(\n",
      "d:\\MiniConda\\envs\\common\\lib\\site-packages\\sklearn\\linear_model\\_sag.py:350: ConvergenceWarning: The max_iter was reached which means the coef_ did not converge\n",
      "  warnings.warn(\n",
      "d:\\MiniConda\\envs\\common\\lib\\site-packages\\sklearn\\linear_model\\_sag.py:350: ConvergenceWarning: The max_iter was reached which means the coef_ did not converge\n",
      "  warnings.warn(\n",
      "d:\\MiniConda\\envs\\common\\lib\\site-packages\\sklearn\\linear_model\\_sag.py:350: ConvergenceWarning: The max_iter was reached which means the coef_ did not converge\n",
      "  warnings.warn(\n",
      "d:\\MiniConda\\envs\\common\\lib\\site-packages\\sklearn\\linear_model\\_sag.py:350: ConvergenceWarning: The max_iter was reached which means the coef_ did not converge\n",
      "  warnings.warn(\n",
      "d:\\MiniConda\\envs\\common\\lib\\site-packages\\sklearn\\linear_model\\_sag.py:350: ConvergenceWarning: The max_iter was reached which means the coef_ did not converge\n",
      "  warnings.warn(\n",
      "d:\\MiniConda\\envs\\common\\lib\\site-packages\\sklearn\\linear_model\\_sag.py:350: ConvergenceWarning: The max_iter was reached which means the coef_ did not converge\n",
      "  warnings.warn(\n",
      "d:\\MiniConda\\envs\\common\\lib\\site-packages\\sklearn\\linear_model\\_sag.py:350: ConvergenceWarning: The max_iter was reached which means the coef_ did not converge\n",
      "  warnings.warn(\n",
      "d:\\MiniConda\\envs\\common\\lib\\site-packages\\sklearn\\linear_model\\_sag.py:350: ConvergenceWarning: The max_iter was reached which means the coef_ did not converge\n",
      "  warnings.warn(\n",
      "d:\\MiniConda\\envs\\common\\lib\\site-packages\\sklearn\\linear_model\\_sag.py:350: ConvergenceWarning: The max_iter was reached which means the coef_ did not converge\n",
      "  warnings.warn(\n",
      "d:\\MiniConda\\envs\\common\\lib\\site-packages\\sklearn\\linear_model\\_sag.py:350: ConvergenceWarning: The max_iter was reached which means the coef_ did not converge\n",
      "  warnings.warn(\n"
     ]
    },
    {
     "data": {
      "text/html": [
       "<style>#sk-container-id-3 {color: black;}#sk-container-id-3 pre{padding: 0;}#sk-container-id-3 div.sk-toggleable {background-color: white;}#sk-container-id-3 label.sk-toggleable__label {cursor: pointer;display: block;width: 100%;margin-bottom: 0;padding: 0.3em;box-sizing: border-box;text-align: center;}#sk-container-id-3 label.sk-toggleable__label-arrow:before {content: \"▸\";float: left;margin-right: 0.25em;color: #696969;}#sk-container-id-3 label.sk-toggleable__label-arrow:hover:before {color: black;}#sk-container-id-3 div.sk-estimator:hover label.sk-toggleable__label-arrow:before {color: black;}#sk-container-id-3 div.sk-toggleable__content {max-height: 0;max-width: 0;overflow: hidden;text-align: left;background-color: #f0f8ff;}#sk-container-id-3 div.sk-toggleable__content pre {margin: 0.2em;color: black;border-radius: 0.25em;background-color: #f0f8ff;}#sk-container-id-3 input.sk-toggleable__control:checked~div.sk-toggleable__content {max-height: 200px;max-width: 100%;overflow: auto;}#sk-container-id-3 input.sk-toggleable__control:checked~label.sk-toggleable__label-arrow:before {content: \"▾\";}#sk-container-id-3 div.sk-estimator input.sk-toggleable__control:checked~label.sk-toggleable__label {background-color: #d4ebff;}#sk-container-id-3 div.sk-label input.sk-toggleable__control:checked~label.sk-toggleable__label {background-color: #d4ebff;}#sk-container-id-3 input.sk-hidden--visually {border: 0;clip: rect(1px 1px 1px 1px);clip: rect(1px, 1px, 1px, 1px);height: 1px;margin: -1px;overflow: hidden;padding: 0;position: absolute;width: 1px;}#sk-container-id-3 div.sk-estimator {font-family: monospace;background-color: #f0f8ff;border: 1px dotted black;border-radius: 0.25em;box-sizing: border-box;margin-bottom: 0.5em;}#sk-container-id-3 div.sk-estimator:hover {background-color: #d4ebff;}#sk-container-id-3 div.sk-parallel-item::after {content: \"\";width: 100%;border-bottom: 1px solid gray;flex-grow: 1;}#sk-container-id-3 div.sk-label:hover label.sk-toggleable__label {background-color: #d4ebff;}#sk-container-id-3 div.sk-serial::before {content: \"\";position: absolute;border-left: 1px solid gray;box-sizing: border-box;top: 0;bottom: 0;left: 50%;z-index: 0;}#sk-container-id-3 div.sk-serial {display: flex;flex-direction: column;align-items: center;background-color: white;padding-right: 0.2em;padding-left: 0.2em;position: relative;}#sk-container-id-3 div.sk-item {position: relative;z-index: 1;}#sk-container-id-3 div.sk-parallel {display: flex;align-items: stretch;justify-content: center;background-color: white;position: relative;}#sk-container-id-3 div.sk-item::before, #sk-container-id-3 div.sk-parallel-item::before {content: \"\";position: absolute;border-left: 1px solid gray;box-sizing: border-box;top: 0;bottom: 0;left: 50%;z-index: -1;}#sk-container-id-3 div.sk-parallel-item {display: flex;flex-direction: column;z-index: 1;position: relative;background-color: white;}#sk-container-id-3 div.sk-parallel-item:first-child::after {align-self: flex-end;width: 50%;}#sk-container-id-3 div.sk-parallel-item:last-child::after {align-self: flex-start;width: 50%;}#sk-container-id-3 div.sk-parallel-item:only-child::after {width: 0;}#sk-container-id-3 div.sk-dashed-wrapped {border: 1px dashed gray;margin: 0 0.4em 0.5em 0.4em;box-sizing: border-box;padding-bottom: 0.4em;background-color: white;}#sk-container-id-3 div.sk-label label {font-family: monospace;font-weight: bold;display: inline-block;line-height: 1.2em;}#sk-container-id-3 div.sk-label-container {text-align: center;}#sk-container-id-3 div.sk-container {/* jupyter's `normalize.less` sets `[hidden] { display: none; }` but bootstrap.min.css set `[hidden] { display: none !important; }` so we also need the `!important` here to be able to override the default hidden behavior on the sphinx rendered scikit-learn.org. See: https://github.com/scikit-learn/scikit-learn/issues/21755 */display: inline-block !important;position: relative;}#sk-container-id-3 div.sk-text-repr-fallback {display: none;}</style><div id=\"sk-container-id-3\" class=\"sk-top-container\"><div class=\"sk-text-repr-fallback\"><pre>LogisticRegression(C=1, max_iter=2000, n_jobs=-1, penalty=&#x27;l1&#x27;, solver=&#x27;saga&#x27;)</pre><b>In a Jupyter environment, please rerun this cell to show the HTML representation or trust the notebook. <br />On GitHub, the HTML representation is unable to render, please try loading this page with nbviewer.org.</b></div><div class=\"sk-container\" hidden><div class=\"sk-item\"><div class=\"sk-estimator sk-toggleable\"><input class=\"sk-toggleable__control sk-hidden--visually\" id=\"sk-estimator-id-3\" type=\"checkbox\" checked><label for=\"sk-estimator-id-3\" class=\"sk-toggleable__label sk-toggleable__label-arrow\">LogisticRegression</label><div class=\"sk-toggleable__content\"><pre>LogisticRegression(C=1, max_iter=2000, n_jobs=-1, penalty=&#x27;l1&#x27;, solver=&#x27;saga&#x27;)</pre></div></div></div></div></div>"
      ],
      "text/plain": [
       "LogisticRegression(C=1, max_iter=2000, n_jobs=-1, penalty='l1', solver='saga')"
      ]
     },
     "execution_count": 255,
     "metadata": {},
     "output_type": "execute_result"
    }
   ],
   "source": [
    "# 输出最好的超参数\n",
    "# 输出最好的模型\n",
    "X_train_std1 = X_train_std[:1000] #训练时间太长，切割数据\n",
    "y_train1 = y_train[:1000]\n",
    "grid_search.fit(X_train_std1,y_train1)\n",
    "grid_search.best_estimator_\n"
   ]
  },
  {
   "cell_type": "code",
   "execution_count": 256,
   "metadata": {},
   "outputs": [
    {
     "name": "stdout",
     "output_type": "stream",
     "text": [
      "LogisticRegression(C=1, max_iter=2000, n_jobs=-1, penalty='l1', solver='saga')\n"
     ]
    }
   ],
   "source": [
    "print(grid_search.best_estimator_)"
   ]
  },
  {
   "cell_type": "markdown",
   "metadata": {},
   "source": [
    "#### 7.在测试集上进行预测，计算 查准率/查全率/auc/混淆矩阵/f1值 等测试指标"
   ]
  },
  {
   "cell_type": "code",
   "execution_count": 262,
   "metadata": {
    "collapsed": true,
    "jupyter": {
     "outputs_hidden": true
    }
   },
   "outputs": [
    {
     "name": "stdout",
     "output_type": "stream",
     "text": [
      "Accurary Socre: 0.933456\n",
      "Recall Score: 0.504310\n",
      "0.504310353180651\n",
      "[[30406    18]\n",
      " [ 2151    20]]\n",
      "F1 Score: 0.02\n"
     ]
    },
    {
     "name": "stderr",
     "output_type": "stream",
     "text": [
      "d:\\MiniConda\\envs\\common\\lib\\site-packages\\sklearn\\linear_model\\_sag.py:350: ConvergenceWarning: The max_iter was reached which means the coef_ did not converge\n",
      "  warnings.warn(\n"
     ]
    }
   ],
   "source": [
    "# 提示：在测试集上预测可以使用predict\n",
    "# 提示：各种指标可以在sklearn.metrics中查到各种评估指标，分别是accuracy_score、recall_score、auc、confusion_matrix、f1_score\n",
    "from sklearn.metrics import accuracy_score,recall_score,roc_auc_score,confusion_matrix\n",
    "from sklearn.metrics import f1_score\n",
    "\n",
    "LR = LogisticRegression(C=10,random_state=0,solver='saga',penalty='l1',n_jobs=-1)\n",
    "LR.fit(X_train_std,y_train)\n",
    "LR_pred = LR.predict(X_test_std)\n",
    "\n",
    "print(\"Accurary Socre: {:.6f}\".format(accuracy_score(y_test,LR_pred)))\n",
    "print(\"Recall Score: {:.6f}\".format(recall_score(y_test,LR_pred,average='macro')))\n",
    "print(roc_auc_score(y_test,LR_pred))\n",
    "print(confusion_matrix(y_test,LR_pred))\n",
    "print('F1 Score: {:.2f}'.format(f1_score(y_test,LR_pred)))\n"
   ]
  },
  {
   "cell_type": "markdown",
   "metadata": {},
   "source": [
    "#### 8.更多优化\n",
    "银行通常会有更严格的要求，因为欺诈带来的后果通常比较严重，一般我们会调整模型的标准。   \n",
    "\n",
    "比如在logistic regression当中，一般我们的概率判定边界为0.5，但是我们可以把阈值设定低一些，来提高模型的“敏感度”   \n",
    "试试看把阈值设定为0.3，再看看这个时候的混淆矩阵等评估指标。"
   ]
  },
  {
   "cell_type": "code",
   "execution_count": 267,
   "metadata": {
    "collapsed": true,
    "jupyter": {
     "outputs_hidden": true
    }
   },
   "outputs": [
    {
     "name": "stdout",
     "output_type": "stream",
     "text": [
      "Accuracy Score: 0.933364\n",
      "Recall Score: 0.504903\n",
      "0.5049026726578801\n",
      "[[30400    24]\n",
      " [ 2148    23]]\n",
      "F1 Score: 0.49\n"
     ]
    }
   ],
   "source": [
    "# 提示：thresholds = [0.1,0.2,0.3,0.4,0.5,0.6,0.7,0.8,0.9]\n",
    "# 根据predict_proba的结果和threshold的比较确定结果，再评估各种结果指标\n",
    "from sklearn.preprocessing import binarize\n",
    "# 阈值设为0.3\n",
    "y_pred_prob1=LR.predict_proba(X_test_std)[:,1]\n",
    "y_pred_class1 = binarize(y_pred_prob1.reshape(-1, 1), threshold=0.3)[:,0]\n",
    "\n",
    "\n",
    "print('Accuracy Score: {:.6f}'.format(accuracy_score(y_test,y_pred_class1)))\n",
    "print('Recall Score: {:.6f}'.format(recall_score(y_test,y_pred_class1,average='macro')))\n",
    "print(roc_auc_score(y_test,y_pred_class1))\n",
    "print(confusion_matrix(y_test,y_pred_class1))\n",
    "print('F1 Score: {:.2f}'.format(f1_score(y_test, y_pred_class1,average='macro')))"
   ]
  },
  {
   "cell_type": "markdown",
   "metadata": {},
   "source": [
    "#### 9.尝试对不同特征的重要度进行排序，通过特征选择的方式，对特征进行筛选。并重新建模，观察此时的模型准确率等评估指标。"
   ]
  },
  {
   "cell_type": "code",
   "execution_count": 265,
   "metadata": {
    "collapsed": true,
    "jupyter": {
     "outputs_hidden": true
    }
   },
   "outputs": [
    {
     "name": "stderr",
     "output_type": "stream",
     "text": [
      "d:\\MiniConda\\envs\\common\\lib\\site-packages\\sklearn\\linear_model\\_sag.py:350: ConvergenceWarning: The max_iter was reached which means the coef_ did not converge\n",
      "  warnings.warn(\n"
     ]
    },
    {
     "data": {
      "text/html": [
       "<style>#sk-container-id-4 {color: black;}#sk-container-id-4 pre{padding: 0;}#sk-container-id-4 div.sk-toggleable {background-color: white;}#sk-container-id-4 label.sk-toggleable__label {cursor: pointer;display: block;width: 100%;margin-bottom: 0;padding: 0.3em;box-sizing: border-box;text-align: center;}#sk-container-id-4 label.sk-toggleable__label-arrow:before {content: \"▸\";float: left;margin-right: 0.25em;color: #696969;}#sk-container-id-4 label.sk-toggleable__label-arrow:hover:before {color: black;}#sk-container-id-4 div.sk-estimator:hover label.sk-toggleable__label-arrow:before {color: black;}#sk-container-id-4 div.sk-toggleable__content {max-height: 0;max-width: 0;overflow: hidden;text-align: left;background-color: #f0f8ff;}#sk-container-id-4 div.sk-toggleable__content pre {margin: 0.2em;color: black;border-radius: 0.25em;background-color: #f0f8ff;}#sk-container-id-4 input.sk-toggleable__control:checked~div.sk-toggleable__content {max-height: 200px;max-width: 100%;overflow: auto;}#sk-container-id-4 input.sk-toggleable__control:checked~label.sk-toggleable__label-arrow:before {content: \"▾\";}#sk-container-id-4 div.sk-estimator input.sk-toggleable__control:checked~label.sk-toggleable__label {background-color: #d4ebff;}#sk-container-id-4 div.sk-label input.sk-toggleable__control:checked~label.sk-toggleable__label {background-color: #d4ebff;}#sk-container-id-4 input.sk-hidden--visually {border: 0;clip: rect(1px 1px 1px 1px);clip: rect(1px, 1px, 1px, 1px);height: 1px;margin: -1px;overflow: hidden;padding: 0;position: absolute;width: 1px;}#sk-container-id-4 div.sk-estimator {font-family: monospace;background-color: #f0f8ff;border: 1px dotted black;border-radius: 0.25em;box-sizing: border-box;margin-bottom: 0.5em;}#sk-container-id-4 div.sk-estimator:hover {background-color: #d4ebff;}#sk-container-id-4 div.sk-parallel-item::after {content: \"\";width: 100%;border-bottom: 1px solid gray;flex-grow: 1;}#sk-container-id-4 div.sk-label:hover label.sk-toggleable__label {background-color: #d4ebff;}#sk-container-id-4 div.sk-serial::before {content: \"\";position: absolute;border-left: 1px solid gray;box-sizing: border-box;top: 0;bottom: 0;left: 50%;z-index: 0;}#sk-container-id-4 div.sk-serial {display: flex;flex-direction: column;align-items: center;background-color: white;padding-right: 0.2em;padding-left: 0.2em;position: relative;}#sk-container-id-4 div.sk-item {position: relative;z-index: 1;}#sk-container-id-4 div.sk-parallel {display: flex;align-items: stretch;justify-content: center;background-color: white;position: relative;}#sk-container-id-4 div.sk-item::before, #sk-container-id-4 div.sk-parallel-item::before {content: \"\";position: absolute;border-left: 1px solid gray;box-sizing: border-box;top: 0;bottom: 0;left: 50%;z-index: -1;}#sk-container-id-4 div.sk-parallel-item {display: flex;flex-direction: column;z-index: 1;position: relative;background-color: white;}#sk-container-id-4 div.sk-parallel-item:first-child::after {align-self: flex-end;width: 50%;}#sk-container-id-4 div.sk-parallel-item:last-child::after {align-self: flex-start;width: 50%;}#sk-container-id-4 div.sk-parallel-item:only-child::after {width: 0;}#sk-container-id-4 div.sk-dashed-wrapped {border: 1px dashed gray;margin: 0 0.4em 0.5em 0.4em;box-sizing: border-box;padding-bottom: 0.4em;background-color: white;}#sk-container-id-4 div.sk-label label {font-family: monospace;font-weight: bold;display: inline-block;line-height: 1.2em;}#sk-container-id-4 div.sk-label-container {text-align: center;}#sk-container-id-4 div.sk-container {/* jupyter's `normalize.less` sets `[hidden] { display: none; }` but bootstrap.min.css set `[hidden] { display: none !important; }` so we also need the `!important` here to be able to override the default hidden behavior on the sphinx rendered scikit-learn.org. See: https://github.com/scikit-learn/scikit-learn/issues/21755 */display: inline-block !important;position: relative;}#sk-container-id-4 div.sk-text-repr-fallback {display: none;}</style><div id=\"sk-container-id-4\" class=\"sk-top-container\"><div class=\"sk-text-repr-fallback\"><pre>LogisticRegression(C=10, n_jobs=-1, penalty=&#x27;l1&#x27;, random_state=0, solver=&#x27;saga&#x27;)</pre><b>In a Jupyter environment, please rerun this cell to show the HTML representation or trust the notebook. <br />On GitHub, the HTML representation is unable to render, please try loading this page with nbviewer.org.</b></div><div class=\"sk-container\" hidden><div class=\"sk-item\"><div class=\"sk-estimator sk-toggleable\"><input class=\"sk-toggleable__control sk-hidden--visually\" id=\"sk-estimator-id-4\" type=\"checkbox\" checked><label for=\"sk-estimator-id-4\" class=\"sk-toggleable__label sk-toggleable__label-arrow\">LogisticRegression</label><div class=\"sk-toggleable__content\"><pre>LogisticRegression(C=10, n_jobs=-1, penalty=&#x27;l1&#x27;, random_state=0, solver=&#x27;saga&#x27;)</pre></div></div></div></div></div>"
      ],
      "text/plain": [
       "LogisticRegression(C=10, n_jobs=-1, penalty='l1', random_state=0, solver='saga')"
      ]
     },
     "execution_count": 265,
     "metadata": {},
     "output_type": "execute_result"
    }
   ],
   "source": [
    "# 可以根据逻辑回归的系数绝对值大小进行排序，也可以基于树模型的特征重要度进行排序\n",
    "# 特征选择可以使用RFE或者selectFromModel\n",
    "from sklearn.feature_selection import SelectFromModel\n",
    "\n",
    "sf = SelectFromModel(LR,prefit=True)\n",
    "X_train_std_selected=sf.transform(X_train_std)\n",
    "lr_selected = LogisticRegression(C=10,solver='saga', penalty='l1',random_state=0,n_jobs=-1)\n",
    "lr_selected.fit(X_train_std_selected, y_train)\n"
   ]
  },
  {
   "cell_type": "code",
   "execution_count": 268,
   "metadata": {},
   "outputs": [
    {
     "name": "stdout",
     "output_type": "stream",
     "text": [
      "Accuracy Score: 0.932442\n",
      "Recall Score: 0.505336\n",
      "0.505336458417783\n",
      "[[70857    41]\n",
      " [ 5097    58]]\n",
      "F1 Score: 0.49\n"
     ]
    }
   ],
   "source": [
    "lr_pred = lr_selected.predict(X_train_std_selected)\n",
    "print('Accuracy Score: {:.6f}'.format(accuracy_score(y_train,lr_pred)))\n",
    "print('Recall Score: {:.6f}'.format(recall_score(y_train,lr_pred,average='macro')))\n",
    "print(roc_auc_score(y_train,lr_pred))\n",
    "print(confusion_matrix(y_train,lr_pred))\n",
    "print('F1 Score: {:.2f}'.format(f1_score(y_train, lr_pred,average='macro')))"
   ]
  },
  {
   "cell_type": "markdown",
   "metadata": {},
   "source": [
    "#### 10.其他模型算法尝试\n",
    "使用RandomForestClassifier/SVM/KNN等sklearn分类算法进行分类，尝试上述超参数调优算法过程。"
   ]
  },
  {
   "cell_type": "code",
   "execution_count": 269,
   "metadata": {
    "collapsed": true,
    "jupyter": {
     "outputs_hidden": true
    }
   },
   "outputs": [
    {
     "name": "stdout",
     "output_type": "stream",
     "text": [
      "Accuracy Score: 0.9899\n",
      "Recall Score: 0.9271\n",
      "F1 Score: 0.92\n"
     ]
    }
   ],
   "source": [
    "# 随机森林\n",
    "from sklearn.ensemble import RandomForestClassifier\n",
    "\n",
    "# from sklearn.ensemble import RandomForestClassifier\n",
    "forest = RandomForestClassifier(criterion='gini', \n",
    "                                n_estimators=10, # 个数\n",
    "                                random_state=0,\n",
    "                                n_jobs=-1)\n",
    "\n",
    "forest.fit(X_train_std, y_train)\n",
    "sfm=SelectFromModel(forest,prefit=True)\n",
    "X_train_std_selected=sfm.transform(X_train_std)\n",
    "forest.fit(X_train_std_selected, y_train)\n",
    "f_pred=forest.predict(X_train_std_selected)\n",
    "print('Accuracy Score: {:.4f}'.format(accuracy_score(y_train,f_pred)))\n",
    "print('Recall Score: {:.4f}'.format(recall_score(y_train,f_pred,average='macro')))\n",
    "print('F1 Score: {:.2f}'.format(f1_score(y_train, f_pred)))\n",
    "# 支持向量机\n",
    "from sklearn.svm import SVC\n",
    "# K最近邻\n",
    "from sklearn.neighbors import KNeighborsClassifier\n",
    "\n"
   ]
  },
  {
   "cell_type": "code",
   "execution_count": 273,
   "metadata": {},
   "outputs": [
    {
     "name": "stderr",
     "output_type": "stream",
     "text": [
      "d:\\MiniConda\\envs\\common\\lib\\site-packages\\sklearn\\svm\\_base.py:297: ConvergenceWarning: Solver terminated early (max_iter=10000).  Consider pre-processing your data with StandardScaler or MinMaxScaler.\n",
      "  warnings.warn(\n"
     ]
    },
    {
     "name": "stdout",
     "output_type": "stream",
     "text": [
      "Accuracy Score: 0.109557\n",
      "Recall Score: 0.500765\n",
      "F1 Score: 0.12\n"
     ]
    }
   ],
   "source": [
    "# 随机森林\n",
    "from sklearn.ensemble import RandomForestClassifier\n",
    "# 支持向量机\n",
    "from sklearn.svm import SVC\n",
    "svm = SVC(kernel='linear', random_state=0, gamma=0.10,class_weight='balanced', C=1.0,max_iter=10000)\n",
    "svm.fit(X_train_std, y_train)\n",
    "y_pred1 = svm.predict(X_test_std)\n",
    "print('Accuracy Score: {:.6f}'.format(accuracy_score(y_test,y_pred1)))\n",
    "print('Recall Score: {:.6f}'.format(recall_score(y_test,y_pred1,average='macro')))\n",
    "print('F1 Score: {:.2f}'.format(f1_score(y_test, y_pred1)))\n",
    "\n",
    "# K最近邻\n",
    "from sklearn.neighbors import KNeighborsClassifier\n",
    "\n"
   ]
  },
  {
   "cell_type": "code",
   "execution_count": 275,
   "metadata": {},
   "outputs": [
    {
     "name": "stdout",
     "output_type": "stream",
     "text": [
      "Accuracy Score: 0.928609\n",
      "Recall Score: 0.537645\n",
      "F1 Score: 0.14\n"
     ]
    }
   ],
   "source": [
    "# 随机森林\n",
    "from sklearn.ensemble import RandomForestClassifier\n",
    "# 支持向量机\n",
    "# K最近邻\n",
    "from sklearn.neighbors import KNeighborsClassifier\n",
    "knn = KNeighborsClassifier(n_neighbors=5,p=2,metric='minkowski')\n",
    "knn.fit(X_train_std,y_train)\n",
    "y_pred2 = knn.predict(X_test_std)\n",
    "print('Accuracy Score: {:.6f}'.format(accuracy_score(y_test,y_pred2)))\n",
    "print('Recall Score: {:.6f}'.format(recall_score(y_test,y_pred2,average='macro')))\n",
    "print('F1 Score: {:.2f}'.format(f1_score(y_test, y_pred2)))\n"
   ]
  }
 ],
 "metadata": {
  "kernelspec": {
   "display_name": "Python 3 (ipykernel)",
   "language": "python",
   "name": "python3"
  },
  "language_info": {
   "codemirror_mode": {
    "name": "ipython",
    "version": 3
   },
   "file_extension": ".py",
   "mimetype": "text/x-python",
   "name": "python",
   "nbconvert_exporter": "python",
   "pygments_lexer": "ipython3",
   "version": "3.8.18"
  }
 },
 "nbformat": 4,
 "nbformat_minor": 4
}
