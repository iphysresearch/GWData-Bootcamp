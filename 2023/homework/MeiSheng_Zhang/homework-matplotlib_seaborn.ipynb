{
  "metadata": {
    "kernelspec": {
      "name": "python",
      "display_name": "Python (Pyodide)",
      "language": "python"
    },
    "language_info": {
      "codemirror_mode": {
        "name": "python",
        "version": 3
      },
      "file_extension": ".py",
      "mimetype": "text/x-python",
      "name": "python",
      "nbconvert_exporter": "python",
      "pygments_lexer": "ipython3",
      "version": "3.8"
    }
  },
  "nbformat_minor": 4,
  "nbformat": 4,
  "cells": [
    {
      "cell_type": "code",
      "source": "练习1：航班乘客变化分析 (2个题)\n1.分析年度乘客总量的变化情况（提示：折线图）\n2.分析乘客量在一年中12个月份的分布（提示：柱状图）",
      "metadata": {
        "trusted": true
      },
      "outputs": [],
      "execution_count": null
    },
    {
      "cell_type": "code",
      "source": "import matplotlib.pyplot as plt\nimport seaborn as sns\n\ndata = sns.load_dataset(\"flights\")\n\n# 按年度汇总乘客总量\nyearly_passengers = data.groupby('year')['passengers'].sum()\n\n# 绘制年度乘客总量的折线图\nplt.figure(figsize=(8, 6))\nplt.plot(yearly_passengers.index, yearly_passengers.values, linestyle='-')\nplt.title('The number of passengers in each year')\nplt.xlabel('Year')\nplt.ylabel('number')\nplt.xticks(yearly_passengers.index)\nplt.grid(False)\nplt.show()\n\n",
      "metadata": {
        "trusted": true
      },
      "outputs": [
        {
          "ename": "<class 'ModuleNotFoundError'>",
          "evalue": "No module named 'seaborn'",
          "traceback": [
            "\u001b[0;31m---------------------------------------------------------------------------\u001b[0m",
            "\u001b[0;31mModuleNotFoundError\u001b[0m                       Traceback (most recent call last)",
            "Cell \u001b[0;32mIn[2], line 2\u001b[0m\n\u001b[1;32m      1\u001b[0m \u001b[38;5;28;01mimport\u001b[39;00m \u001b[38;5;21;01mmatplotlib\u001b[39;00m\u001b[38;5;21;01m.\u001b[39;00m\u001b[38;5;21;01mpyplot\u001b[39;00m \u001b[38;5;28;01mas\u001b[39;00m \u001b[38;5;21;01mplt\u001b[39;00m\n\u001b[0;32m----> 2\u001b[0m \u001b[38;5;28;01mimport\u001b[39;00m \u001b[38;5;21;01mseaborn\u001b[39;00m \u001b[38;5;28;01mas\u001b[39;00m \u001b[38;5;21;01msns\u001b[39;00m\n\u001b[1;32m      4\u001b[0m \u001b[38;5;66;03m# 加载数据\u001b[39;00m\n\u001b[1;32m      5\u001b[0m data \u001b[38;5;241m=\u001b[39m sns\u001b[38;5;241m.\u001b[39mload_dataset(\u001b[38;5;124m\"\u001b[39m\u001b[38;5;124mflights\u001b[39m\u001b[38;5;124m\"\u001b[39m)\n",
            "\u001b[0;31mModuleNotFoundError\u001b[0m: No module named 'seaborn'"
          ],
          "output_type": "error"
        }
      ],
      "execution_count": 2
    },
    {
      "cell_type": "code",
      "source": "# 按月份汇总乘客量\nmonthly_passengers = data.groupby('month')['passengers'].sum()\n\n# 按月份排序\nmonths_order = ['Jan', 'Feb', 'Mar', 'Apr', 'May', 'Jun', 'Jul', 'Aug', 'Sep', 'Oct', 'Nov', 'Dec']\nmonthly_passengers = monthly_passengers.reindex(months_order)\n\n# 绘制乘客量在一年中12个月份的分布柱状图\nplt.figure(figsize=(8, 6))\nplt.bar(monthly_passengers.index, monthly_passengers.values)\nplt.title('The number of passengers in each month')\nplt.xlabel('month')\nplt.ylabel('number')\nplt.show()\n",
      "metadata": {
        "trusted": true
      },
      "outputs": [],
      "execution_count": null
    },
    {
      "cell_type": "code",
      "source": "练习2：鸢尾花花型尺寸分析 (3个题)\n1.萼片（sepal）和花瓣（petal）的大小关系（提示：散点图）\n2.不同种类（species）鸢尾花萼片和花瓣的大小关系（提示：箱图或者提琴图）\n3.不同种类鸢尾花萼片和花瓣大小的分布情况（六角箱图或者核密度估计）",
      "metadata": {
        "trusted": true
      },
      "outputs": [],
      "execution_count": null
    },
    {
      "cell_type": "code",
      "source": "import matplotlib.pyplot as plt\nimport seaborn as sns\n\ndata = sns.load_dataset(\"iris\")\n\nsepal_length = data['sepal_length']\nsepal_width = data['sepal_width']\npetal_length = data['petal_length']\npetal_width = data['petal_width']\n\n# 绘制萼片和花瓣大小关系的散点图\nfig, axes = plt.subplots(2, 2, figsize=(12, 10))\n\naxes[0, 0].scatter(sepal_length, petal_length, c='blue', label='Sepal Length vs Petal Length')\naxes[0, 0].set_xlabel('Sepal Length')\naxes[0, 0].set_ylabel('Petal Length')\naxes[0, 0].legend()\n\naxes[0, 1].scatter(sepal_length, petal_width, c='red', label='Sepal Length vs Petal Width')\naxes[0, 1].set_xlabel('Sepal Length')\naxes[0, 1].set_ylabel('Petal Width')\naxes[0, 1].legend()\n\naxes[1, 0].scatter(sepal_width, petal_length, c='green', label='Sepal Width vs Petal Length')\naxes[1, 0].set_xlabel('Sepal Width')\naxes[1, 0].set_ylabel('Petal Length')\naxes[1, 0].legend()\n\naxes[1, 1].scatter(sepal_width, petal_width, c='orange', label='Sepal Width vs Petal Width')\naxes[1, 1].set_xlabel('Sepal Width')\naxes[1, 1].set_ylabel('Petal Width')\naxes[1, 1].legend()\n\nplt.tight_layout()\nplt.show()\n",
      "metadata": {
        "trusted": true
      },
      "outputs": [],
      "execution_count": null
    },
    {
      "cell_type": "code",
      "source": "# 绘制不同种类鸢尾花萼片和花瓣大小关系的箱图\nfig, axes = plt.subplots(2, 2, figsize=(12, 10))\n\nsns.boxplot(x='species', y='sepal_length', data=data, ax=axes[0, 0])\naxes[0, 0].set_title('Sepal Length by Species')\n\nsns.boxplot(x='species', y='petal_length', data=data, ax=axes[0, 1])\naxes[0, 1].set_title('Petal Length by Species')\n\nsns.boxplot(x='species', y='sepal_width', data=data, ax=axes[1, 0])\naxes[1, 0].set_title('Sepal Width by Species')\n\nsns.boxplot(x='species', y='petal_width', data=data, ax=axes[1, 1])\naxes[1, 1].set_title('Petal Width by Species')\n\nplt.tight_layout()\nplt.show()\n\n",
      "metadata": {
        "trusted": true
      },
      "outputs": [],
      "execution_count": null
    },
    {
      "cell_type": "code",
      "source": "# 使用核密度估计绘制不同种类鸢尾花的萼片和花瓣大小关系的分布图\nplt.figure(figsize=(10, 8))\n\nsns.kdeplot(data=data, x='sepal_length', y='petal_length', hue='species', fill=True, alpha=0.3)\nplt.title('Sepal Length vs Petal Length Distribution by Species')\nplt.xlabel('Sepal Length')\nplt.ylabel('Petal Length')\nplt.legend()\nplt.show()\n\nplt.figure(figsize=(10, 8))\nsns.kdeplot(data=data, x='sepal_width', y='petal_width', hue='species', fill=True, alpha=0.3)\nplt.title('Sepal Width vs Petal Width Distribution by Species')\nplt.xlabel('Sepal Width')\nplt.ylabel('Petal Width')\nplt.legend()\nplt.show()\n",
      "metadata": {
        "trusted": true
      },
      "outputs": [],
      "execution_count": null
    },
    {
      "cell_type": "code",
      "source": "练习3：餐厅小费情况分析 (7个题)\n1.小费和总消费之间的关系（提示：散点图+回归分析）\n2.男性顾客和女性顾客，谁更慷慨（提示：箱图或者提琴图）\n3.抽烟与否是否会对小费金额产生影响（提示：箱图或者提琴图）\n4.工作日和周末，什么时候顾客给的小费更慷慨（提示：箱图或者提琴图）\n5.午饭和晚饭，哪一顿顾客更愿意给小费（提示：箱图或者提琴图）\n6.就餐人数是否会对慷慨度产生影响（提示：箱图或者提琴图）\n7.性别+抽烟的组合因素对慷慨度的影响（提示：统计柱状图）",
      "metadata": {
        "trusted": true
      },
      "outputs": [],
      "execution_count": null
    },
    {
      "cell_type": "code",
      "source": "import matplotlib.pyplot as plt\nimport seaborn as sns\n\ndata = sns.load_dataset(\"tips\")\n\n# 绘制小费和总消费之间的关系散点图\nsns.lmplot(x='total_bill', y='tip', data=data, height=6, aspect=1.,fit_reg=False)\nplt.title('Total bill vs. tip')\nplt.xlabel('Total bill ')\nplt.ylabel('Tip ')\nplt.show()\n",
      "metadata": {
        "trusted": true
      },
      "outputs": [],
      "execution_count": null
    },
    {
      "cell_type": "code",
      "source": "# 绘制性别与小费金额的箱图\nsns.boxplot(x='sex', y='tip', data=data)\nplt.title('The box with 2 features for the tip')\nplt.xlabel('Features of the sex')\nplt.ylabel('Values of Tip')\nplt.show()",
      "metadata": {
        "trusted": true
      },
      "outputs": [],
      "execution_count": null
    },
    {
      "cell_type": "code",
      "source": "# 绘制吸烟与否对小费金额的箱图\nsns.boxplot(x='smoker', y='tip', data=data)\nplt.title('The box with 2 features for the tip')\nplt.xlabel('Features of the smoker')\nplt.ylabel('Values of Tip')\nplt.show()\n",
      "metadata": {
        "trusted": true
      },
      "outputs": [],
      "execution_count": null
    },
    {
      "cell_type": "code",
      "source": "# 绘制工作日和周末对小费金额的箱图\nsns.boxplot(x='day', y='tip', data=data)\nplt.title('The box with 4 features for the tip')\nplt.xlabel('Features of the day')\nplt.ylabel('Values of Tip')\nplt.show()",
      "metadata": {
        "trusted": true
      },
      "outputs": [],
      "execution_count": null
    },
    {
      "cell_type": "code",
      "source": "# 绘制就餐时间对小费金额的箱图\nsns.boxplot(x='time', y='tip', data=data)\nplt.title('The box with 2 features for the tip')\nplt.xlabel('Features of the time')\nplt.ylabel('Values of Tip')\nplt.show()",
      "metadata": {
        "trusted": true
      },
      "outputs": [],
      "execution_count": null
    },
    {
      "cell_type": "code",
      "source": "# 绘制就餐人数对小费金额的箱图\nsns.boxplot(x='size', y='tip', data=data)\nplt.title('The box with 6 features for the tip')\nplt.xlabel('Features of Size')\nplt.ylabel('Values of Tip')\nplt.show()",
      "metadata": {
        "trusted": true
      },
      "outputs": [],
      "execution_count": null
    },
    {
      "cell_type": "code",
      "source": "# 绘制性别+抽烟对小费金额的柱状图\nsns.barplot(x='sex', y='tip', hue='smoker', data=data, ci=None)\nplt.title('Values by Sex (Male or Female) and Smoker (Yes or No)')\nplt.xlabel('Sex')\nplt.ylabel('Values of Tip')\nplt.legend(title='Smoker')\nplt.show()",
      "metadata": {
        "trusted": true
      },
      "outputs": [],
      "execution_count": null
    },
    {
      "cell_type": "code",
      "source": "1.不同仓位等级中幸存和遇难的乘客比例（提示：箱图或者提琴图）\n2.不同性别的幸存比例（提示：箱图或者提琴图）\n3.幸存和遇难乘客的票价分布（提示：箱图或者提琴图）\n4.幸存和遇难乘客的年龄分布（提示：箱图或者提琴图）\n5.不同上船港口的乘客仓位等级分布（提示：箱图或者提琴图）\n6.幸存和遇难乘客堂兄弟姐妹的数量分布（提示：箱图或者提琴图）\n7.幸存和遇难乘客父母子女的数量分布（提示：箱图或者提琴图）\n8.单独乘船与否和幸存之间有没有联系（提示：统计柱状图）",
      "metadata": {
        "trusted": true
      },
      "outputs": [],
      "execution_count": null
    },
    {
      "cell_type": "code",
      "source": "import matplotlib.pyplot as plt\nimport seaborn as sns\n\n# 提供的数据\npclass_data = {\n    'pclass': [1, 2, 3],\n    'survived': [136, 87, 119],\n    'unsurvived': [216, 184, 491],\n    'total': [216, 184, 491],\n    'survived_prop': [0.629630, 0.472826, 0.242363],\n    'unsurvived_prop': [1.0, 1.0, 1.0]\n}\n\n# 绘制堆叠柱状图\nfig, ax = plt.subplots()\nax.bar(pclass_data['pclass'], pclass_data['survived_prop'], label='Survived', color='blue')\nax.bar(pclass_data['pclass'], pclass_data['unsurvived_prop'], bottom=pclass_data['survived_prop'],\n       label='Unsurvived', color='red')\n\n\nplt.title('Proportion of survived/unsurvived by Pclass (1, 2, 3)')\nplt.xlabel('Pclass')\nplt.ylabel('Proportion of survived/unsurvived')\nplt.xticks(pclass_data['pclass'])\nplt.legend(title='Survival', loc='upper right')\nplt.show()",
      "metadata": {
        "trusted": true
      },
      "outputs": [],
      "execution_count": null
    },
    {
      "cell_type": "code",
      "source": "# 提供的数据\nsex_data = {\n    'sex': ['female', 'male'],\n    'survived': [233, 109],\n    'unsurvived': [314, 577],\n    'total': [314, 577],\n    'survived_prop': [0.742038, 0.188908],\n    'unsurvived_prop': [1.0, 1.0]\n}\n\n# 绘制堆叠柱状图\nfig, ax = plt.subplots()\nax.bar(sex_data['sex'], sex_data['survived_prop'], label='Survived', color='blue')\nax.bar(sex_data['sex'], sex_data['unsurvived_prop'], bottom=sex_data['survived_prop'],\n       label='Unsurvived', color='red')\n\nplt.title('Proportion of survived/unsurvived by Pclass (1, 2, 3)')\nplt.xlabel('Sex')\nplt.ylabel('Proportion of survived/unsurvived')\nplt.legend(title='Survival', loc='upper right')\nplt.show()",
      "metadata": {
        "trusted": true
      },
      "outputs": [],
      "execution_count": null
    },
    {
      "cell_type": "code",
      "source": "# 绘制幸存和遇难乘客的票价分布箱图\nsns.boxplot(x='survived', y='fare', data=data)\nplt.title('The box with 2 features for the fare')\nplt.xlabel('Features of the survived')\nplt.ylabel('Values of Fare')\nplt.xticks([0, 1], ['Deceased', 'Survived'])\nplt.show()",
      "metadata": {
        "trusted": true
      },
      "outputs": [],
      "execution_count": null
    },
    {
      "cell_type": "code",
      "source": "# 绘制幸存和遇难乘客的年龄分布箱图\nsns.boxplot(x='survived', y='age', data=data)\nplt.title('The box with 2 features for the age')\nplt.xlabel('Features of the Survived')\nplt.ylabel('Values of Age')\nplt.xticks([0, 1], ['0', '1'])\nplt.show()",
      "metadata": {
        "trusted": true
      },
      "outputs": [],
      "execution_count": null
    },
    {
      "cell_type": "code",
      "source": "# 绘制不同上船港口的乘客仓位等级分布箱图\nsns.countplot(x='embarked', hue='pclass', data=data)\nplt.title('Number of pepole for different kind of pclass by Embarked')\nplt.xlabel('Embarked')\nplt.ylabel('Number of pepole for different kind of pclass ')\nplt.legend(title='Passenger Class', loc='upper right')\nplt.show()",
      "metadata": {
        "trusted": true
      },
      "outputs": [],
      "execution_count": null
    },
    {
      "cell_type": "code",
      "source": "# 绘制幸存和遇难乘客堂兄弟姐妹的数量分布箱图\nsns.boxplot(x='survived', y='sibsp', data=data)\nplt.title('The box with 2 features for the sibsp')\nplt.xlabel('Features of the Survived')\nplt.ylabel('Values of sibsp')\nplt.xticks([0, 1], ['0', '1'])\nplt.show()\n",
      "metadata": {
        "trusted": true
      },
      "outputs": [],
      "execution_count": null
    },
    {
      "cell_type": "code",
      "source": "# 绘制幸存和遇难乘客父母子女的数量分布箱图\nsns.boxplot(x='survived', y='parch', data=data)\nplt.title('The box with 2 features for the parch')\nplt.xlabel('Features of the Survived')\nplt.ylabel('Values of parch')\nplt.xticks([0, 1], ['0', '1'])\nplt.show()",
      "metadata": {
        "trusted": true
      },
      "outputs": [],
      "execution_count": null
    },
    {
      "cell_type": "code",
      "source": "# 绘制单独乘船与否和幸存之间的统计柱状图\nsns.countplot(x='alone', hue='survived', data=data)\nplt.title('The number of pepole by whether be survived or alone or not')\nplt.xlabel('Alone')\nplt.ylabel('The number of people')\nplt.legend(title='Survived', loc='upper right')\nplt.show()",
      "metadata": {
        "trusted": true
      },
      "outputs": [],
      "execution_count": null
    }
  ]
}