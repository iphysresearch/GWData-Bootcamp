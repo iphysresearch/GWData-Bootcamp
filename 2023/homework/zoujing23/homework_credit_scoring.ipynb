{
 "cells": [
  {
   "cell_type": "markdown",
   "metadata": {},
   "source": [
    "# 一起来打怪之 Credit Scoring 练习"
   ]
  },
  {
   "cell_type": "markdown",
   "metadata": {},
   "source": [
    "---\n",
    "## 作业说明\n",
    "\n",
    "- 答题步骤：\n",
    "    - 回答问题**请保留每一步**操作过程，请不要仅仅给出最后答案\n",
    "    - 请养成代码注释的好习惯\n",
    "\n",
    "- 解题思路：\n",
    "    - 为方便大家准确理解题目，在习题实战中有所收获，本文档提供了解题思路提示\n",
    "    - 解题思路**仅供参考**，鼓励原创解题方法\n",
    "    - 为督促同学们自己思考，解题思路内容设置为**白色**，必要时请从冒号后拖动鼠标查看\n",
    "\n",
    "- 所用数据\n",
    "    - 请注意导入数据库后先**查看和了解数据的基本性质**，后面的问题不再一一提醒"
   ]
  },
  {
   "cell_type": "markdown",
   "metadata": {},
   "source": [
    "## machine learning for credit scoring\n",
    "\n",
    "\n",
    "Banks play a crucial role in market economies. They decide who can get finance and on what terms and can make or break investment decisions. For markets and society to function, individuals and companies need access to credit. \n",
    "\n",
    "Credit scoring algorithms, which make a guess at the probability of default, are the method banks use to determine whether or not a loan should be granted. This competition requires participants to improve on the state of the art in credit scoring, by predicting the probability that somebody will experience financial distress in the next two years. [Dataset](https://www.kaggle.com/c/GiveMeSomeCredit)\n",
    "\n",
    "Attribute Information:\n",
    "\n",
    "|Variable Name\t|\tDescription\t|\tType|\n",
    "|----|----|----|\n",
    "|SeriousDlqin2yrs\t|\tPerson experienced 90 days past due delinquency or worse \t|\tY/N|\n",
    "|RevolvingUtilizationOfUnsecuredLines\t|\tTotal balance on credit divided by the sum of credit limits\t|\tpercentage|\n",
    "|age\t|\tAge of borrower in years\t|\tinteger|\n",
    "|NumberOfTime30-59DaysPastDueNotWorse\t|\tNumber of times borrower has been 30-59 days past due |\tinteger|\n",
    "|DebtRatio\t|\tMonthly debt payments\t|\tpercentage|\n",
    "|MonthlyIncome\t|\tMonthly income\t|\treal|\n",
    "|NumberOfOpenCreditLinesAndLoans\t|\tNumber of Open loans |\tinteger|\n",
    "|NumberOfTimes90DaysLate\t|\tNumber of times borrower has been 90 days or more past due.\t|\tinteger|\n",
    "|NumberRealEstateLoansOrLines\t|\tNumber of mortgage and real estate loans\t|\tinteger|\n",
    "|NumberOfTime60-89DaysPastDueNotWorse\t|\tNumber of times borrower has been 60-89 days past due |integer|\n",
    "|NumberOfDependents\t|\tNumber of dependents in family\t|\tinteger|\n"
   ]
  },
  {
   "cell_type": "markdown",
   "metadata": {},
   "source": [
    "----------\n",
    "## Read the data into Pandas "
   ]
  },
  {
   "cell_type": "code",
   "execution_count": 2,
   "metadata": {
    "jupyter": {
     "outputs_hidden": true
    }
   },
   "outputs": [
    {
     "data": {
      "text/html": [
       "<div>\n",
       "<style scoped>\n",
       "    .dataframe tbody tr th:only-of-type {\n",
       "        vertical-align: middle;\n",
       "    }\n",
       "\n",
       "    .dataframe tbody tr th {\n",
       "        vertical-align: top;\n",
       "    }\n",
       "\n",
       "    .dataframe thead th {\n",
       "        text-align: right;\n",
       "    }\n",
       "</style>\n",
       "<table border=\"1\" class=\"dataframe\">\n",
       "  <thead>\n",
       "    <tr style=\"text-align: right;\">\n",
       "      <th></th>\n",
       "      <th>SeriousDlqin2yrs</th>\n",
       "      <th>RevolvingUtilizationOfUnsecuredLines</th>\n",
       "      <th>age</th>\n",
       "      <th>NumberOfTime30-59DaysPastDueNotWorse</th>\n",
       "      <th>DebtRatio</th>\n",
       "      <th>MonthlyIncome</th>\n",
       "      <th>NumberOfOpenCreditLinesAndLoans</th>\n",
       "      <th>NumberOfTimes90DaysLate</th>\n",
       "      <th>NumberRealEstateLoansOrLines</th>\n",
       "      <th>NumberOfTime60-89DaysPastDueNotWorse</th>\n",
       "      <th>NumberOfDependents</th>\n",
       "    </tr>\n",
       "  </thead>\n",
       "  <tbody>\n",
       "    <tr>\n",
       "      <th>1</th>\n",
       "      <td>1</td>\n",
       "      <td>0.766127</td>\n",
       "      <td>45</td>\n",
       "      <td>2</td>\n",
       "      <td>0.802982</td>\n",
       "      <td>9120.0</td>\n",
       "      <td>13</td>\n",
       "      <td>0</td>\n",
       "      <td>6</td>\n",
       "      <td>0</td>\n",
       "      <td>2.0</td>\n",
       "    </tr>\n",
       "    <tr>\n",
       "      <th>2</th>\n",
       "      <td>0</td>\n",
       "      <td>0.957151</td>\n",
       "      <td>40</td>\n",
       "      <td>0</td>\n",
       "      <td>0.121876</td>\n",
       "      <td>2600.0</td>\n",
       "      <td>4</td>\n",
       "      <td>0</td>\n",
       "      <td>0</td>\n",
       "      <td>0</td>\n",
       "      <td>1.0</td>\n",
       "    </tr>\n",
       "    <tr>\n",
       "      <th>3</th>\n",
       "      <td>0</td>\n",
       "      <td>0.658180</td>\n",
       "      <td>38</td>\n",
       "      <td>1</td>\n",
       "      <td>0.085113</td>\n",
       "      <td>3042.0</td>\n",
       "      <td>2</td>\n",
       "      <td>1</td>\n",
       "      <td>0</td>\n",
       "      <td>0</td>\n",
       "      <td>0.0</td>\n",
       "    </tr>\n",
       "    <tr>\n",
       "      <th>4</th>\n",
       "      <td>0</td>\n",
       "      <td>0.233810</td>\n",
       "      <td>30</td>\n",
       "      <td>0</td>\n",
       "      <td>0.036050</td>\n",
       "      <td>3300.0</td>\n",
       "      <td>5</td>\n",
       "      <td>0</td>\n",
       "      <td>0</td>\n",
       "      <td>0</td>\n",
       "      <td>0.0</td>\n",
       "    </tr>\n",
       "    <tr>\n",
       "      <th>5</th>\n",
       "      <td>0</td>\n",
       "      <td>0.907239</td>\n",
       "      <td>49</td>\n",
       "      <td>1</td>\n",
       "      <td>0.024926</td>\n",
       "      <td>63588.0</td>\n",
       "      <td>7</td>\n",
       "      <td>0</td>\n",
       "      <td>1</td>\n",
       "      <td>0</td>\n",
       "      <td>0.0</td>\n",
       "    </tr>\n",
       "  </tbody>\n",
       "</table>\n",
       "</div>"
      ],
      "text/plain": [
       "   SeriousDlqin2yrs  RevolvingUtilizationOfUnsecuredLines  age  \\\n",
       "1                 1                              0.766127   45   \n",
       "2                 0                              0.957151   40   \n",
       "3                 0                              0.658180   38   \n",
       "4                 0                              0.233810   30   \n",
       "5                 0                              0.907239   49   \n",
       "\n",
       "   NumberOfTime30-59DaysPastDueNotWorse  DebtRatio  MonthlyIncome  \\\n",
       "1                                     2   0.802982         9120.0   \n",
       "2                                     0   0.121876         2600.0   \n",
       "3                                     1   0.085113         3042.0   \n",
       "4                                     0   0.036050         3300.0   \n",
       "5                                     1   0.024926        63588.0   \n",
       "\n",
       "   NumberOfOpenCreditLinesAndLoans  NumberOfTimes90DaysLate  \\\n",
       "1                               13                        0   \n",
       "2                                4                        0   \n",
       "3                                2                        1   \n",
       "4                                5                        0   \n",
       "5                                7                        0   \n",
       "\n",
       "   NumberRealEstateLoansOrLines  NumberOfTime60-89DaysPastDueNotWorse  \\\n",
       "1                             6                                     0   \n",
       "2                             0                                     0   \n",
       "3                             0                                     0   \n",
       "4                             0                                     0   \n",
       "5                             1                                     0   \n",
       "\n",
       "   NumberOfDependents  \n",
       "1                 2.0  \n",
       "2                 1.0  \n",
       "3                 0.0  \n",
       "4                 0.0  \n",
       "5                 0.0  "
      ]
     },
     "execution_count": 2,
     "metadata": {},
     "output_type": "execute_result"
    }
   ],
   "source": [
    "import pandas as pd\n",
    "pd.set_option('display.max_columns', 500)\n",
    "import zipfile\n",
    "with zipfile.ZipFile('KaggleCredit2.csv.zip', 'r') as z:\n",
    "    f = z.open('KaggleCredit2.csv')\n",
    "    data = pd.read_csv(f, index_col=0)\n",
    "data.head()"
   ]
  },
  {
   "cell_type": "code",
   "execution_count": 3,
   "metadata": {
    "jupyter": {
     "outputs_hidden": true
    }
   },
   "outputs": [
    {
     "data": {
      "text/plain": [
       "(150000, 11)"
      ]
     },
     "execution_count": 3,
     "metadata": {},
     "output_type": "execute_result"
    }
   ],
   "source": [
    "data.shape"
   ]
  },
  {
   "cell_type": "markdown",
   "metadata": {},
   "source": [
    "------------\n",
    "## Drop na"
   ]
  },
  {
   "cell_type": "code",
   "execution_count": 4,
   "metadata": {
    "jupyter": {
     "outputs_hidden": true
    }
   },
   "outputs": [
    {
     "data": {
      "text/plain": [
       "SeriousDlqin2yrs                            0\n",
       "RevolvingUtilizationOfUnsecuredLines        0\n",
       "age                                         0\n",
       "NumberOfTime30-59DaysPastDueNotWorse        0\n",
       "DebtRatio                                   0\n",
       "MonthlyIncome                           29731\n",
       "NumberOfOpenCreditLinesAndLoans             0\n",
       "NumberOfTimes90DaysLate                     0\n",
       "NumberRealEstateLoansOrLines                0\n",
       "NumberOfTime60-89DaysPastDueNotWorse        0\n",
       "NumberOfDependents                       3924\n",
       "dtype: int64"
      ]
     },
     "execution_count": 4,
     "metadata": {},
     "output_type": "execute_result"
    }
   ],
   "source": [
    "data.isnull().sum(axis=0)"
   ]
  },
  {
   "cell_type": "code",
   "execution_count": 5,
   "metadata": {
    "jupyter": {
     "outputs_hidden": true
    }
   },
   "outputs": [
    {
     "data": {
      "text/plain": [
       "(120269, 11)"
      ]
     },
     "execution_count": 5,
     "metadata": {},
     "output_type": "execute_result"
    }
   ],
   "source": [
    "data.dropna(inplace=True)\n",
    "data.shape"
   ]
  },
  {
   "cell_type": "markdown",
   "metadata": {},
   "source": [
    "---------\n",
    "## Create X and y"
   ]
  },
  {
   "cell_type": "code",
   "execution_count": 6,
   "metadata": {
    "jupyter": {
     "outputs_hidden": true
    }
   },
   "outputs": [],
   "source": [
    "y = data['SeriousDlqin2yrs']\n",
    "X = data.drop('SeriousDlqin2yrs', axis=1)"
   ]
  },
  {
   "cell_type": "code",
   "execution_count": 7,
   "metadata": {
    "jupyter": {
     "outputs_hidden": true
    }
   },
   "outputs": [
    {
     "data": {
      "text/plain": [
       "0.06948590243537403"
      ]
     },
     "execution_count": 7,
     "metadata": {},
     "output_type": "execute_result"
    }
   ],
   "source": [
    "y.mean()"
   ]
  },
  {
   "cell_type": "markdown",
   "metadata": {},
   "source": [
    "---\n",
    "## 练习1：把数据切分成训练集和测试集\n",
    "- 提示：<span style='color:white'>from sklearn.model_selection import train_test_split('Gender') </span>"
   ]
  },
  {
   "cell_type": "code",
   "execution_count": 8,
   "metadata": {
    "jupyter": {
     "outputs_hidden": true
    }
   },
   "outputs": [
    {
     "data": {
      "text/plain": [
       "((84188, 10), (36081, 10), (84188,), (36081,))"
      ]
     },
     "execution_count": 8,
     "metadata": {},
     "output_type": "execute_result"
    }
   ],
   "source": [
    "## your code here\n",
    "from sklearn.model_selection import train_test_split\n",
    "#将数据且分成70%训练集，30%测试集\n",
    "X_train,X_test,y_train,y_test = train_test_split(X,y,test_size=0.3,shuffle=True,random_state=0)\n",
    "\n",
    "#查看数据维度\n",
    "X_train.shape,X_test.shape,y_train.shape,y_test.shape"
   ]
  },
  {
   "cell_type": "markdown",
   "metadata": {},
   "source": [
    "----\n",
    "## 练习2：使用logistic regression/决策树/SVM/KNN...等sklearn分类算法进行分类\n",
    "尝试查sklearn API了解模型参数含义，调整不同的参数"
   ]
  },
  {
   "cell_type": "markdown",
   "metadata": {},
   "source": [
    "### Logistic regression\n",
    "- 提示：<span style='color:white'>from sklearn import linear_model('Gender') </span>"
   ]
  },
  {
   "cell_type": "code",
   "execution_count": 9,
   "metadata": {
    "jupyter": {
     "outputs_hidden": true
    }
   },
   "outputs": [
    {
     "name": "stdout",
     "output_type": "stream",
     "text": [
      "0.9307739820401958\n"
     ]
    },
    {
     "name": "stderr",
     "output_type": "stream",
     "text": [
      "/home/jing/snap/jupyter/common/lib/python3.7/site-packages/sklearn/linear_model/_sag.py:354: ConvergenceWarning: The max_iter was reached which means the coef_ did not converge\n",
      "  ConvergenceWarning,\n"
     ]
    }
   ],
   "source": [
    "## your code here\n",
    "from sklearn.linear_model import LogisticRegression\n",
    "#多分类参数选择ovr，运行速度更快；\n",
    "#样本数据很多，优化算法选择sag；\n",
    "#权重参数选balance，自动计算样本比例。\n",
    "lr=LogisticRegression(multi_class='ovr',solver='sag',\n",
    "                      class_weight='balanced')\n",
    "lr.fit(X_train,y_train)\n",
    "\n",
    "#对分类进行评分，1为满分\n",
    "score1=lr.score(X_train,y_train)\n",
    "print(score1)\n"
   ]
  },
  {
   "cell_type": "markdown",
   "metadata": {},
   "source": [
    "### Decision Tree\n",
    "- 提示：<span style='color:white'>from sklearn.tree import DecisionTreeClassifier('Gender') </span>"
   ]
  },
  {
   "cell_type": "code",
   "execution_count": 18,
   "metadata": {
    "jupyter": {
     "outputs_hidden": true
    }
   },
   "outputs": [
    {
     "name": "stdout",
     "output_type": "stream",
     "text": [
      "0.9213308309972917\n"
     ]
    }
   ],
   "source": [
    "## your code here\n",
    "from sklearn.tree import DecisionTreeClassifier\n",
    "#树分支最大深度设为3\n",
    "tree = DecisionTreeClassifier(criterion='entropy', max_depth=3, \n",
    "                              random_state=0)\n",
    "tree.fit(X_train, y_train)\n",
    "#对分类进行评分\n",
    "score2=svm.score(X_train,y_train)\n",
    "print(score2)"
   ]
  },
  {
   "cell_type": "markdown",
   "metadata": {},
   "source": [
    "### Random Forest\n",
    "- 提示：<span style='color:white'>from sklearn.ensemble import RandomForestClassifier('Gender') </span>"
   ]
  },
  {
   "cell_type": "code",
   "execution_count": 22,
   "metadata": {
    "jupyter": {
     "outputs_hidden": true
    }
   },
   "outputs": [
    {
     "name": "stdout",
     "output_type": "stream",
     "text": [
      "0.990117356392835\n"
     ]
    }
   ],
   "source": [
    "## your code here\n",
    "from sklearn.ensemble import RandomForestClassifier\n",
    "#并行运行个数为2\n",
    "forest = RandomForestClassifier(criterion='entropy', \n",
    "                                n_estimators=10, # The number of trees in the forest.\n",
    "                                random_state=1,\n",
    "                                n_jobs=2)\n",
    "forest.fit(X_train, y_train)\n",
    "#对分类评分\n",
    "score3=forest.score(X_train,y_train)\n",
    "print(score3)"
   ]
  },
  {
   "cell_type": "markdown",
   "metadata": {},
   "source": [
    "### SVM\n",
    "- 提示：<span style='color:white'>from sklearn.svm import SVC('Gender') </span>"
   ]
  },
  {
   "cell_type": "code",
   "execution_count": 12,
   "metadata": {
    "jupyter": {
     "outputs_hidden": true
    }
   },
   "outputs": [
    {
     "name": "stderr",
     "output_type": "stream",
     "text": [
      "/home/jing/snap/jupyter/common/lib/python3.7/site-packages/sklearn/svm/_base.py:289: ConvergenceWarning: Solver terminated early (max_iter=100000).  Consider pre-processing your data with StandardScaler or MinMaxScaler.\n",
      "  ConvergenceWarning,\n"
     ]
    },
    {
     "name": "stdout",
     "output_type": "stream",
     "text": [
      "0.9213308309972917\n"
     ]
    }
   ],
   "source": [
    "## your code here\n",
    "from sklearn.svm import SVC\n",
    "#选择线性核函数，限制最大迭代次数，以减少运行时间\n",
    "svm=SVC(kernel='linear',C=1.0,random_state=0,\n",
    "        class_weight='balanced',max_iter=100000)\n",
    "svm.fit(X_train,y_train)\n",
    "#对分类进行评分，1为满分\n",
    "score4=svm.score(X_train,y_train)\n",
    "print(score4)"
   ]
  },
  {
   "cell_type": "markdown",
   "metadata": {},
   "source": [
    "### KNN\n",
    "- 提示：<span style='color:white'>from sklearn.neighbors import KNeighborsClassifier('Gender') </span>"
   ]
  },
  {
   "cell_type": "code",
   "execution_count": 25,
   "metadata": {
    "jupyter": {
     "outputs_hidden": true
    }
   },
   "outputs": [
    {
     "name": "stdout",
     "output_type": "stream",
     "text": [
      "0.9336366227965981\n"
     ]
    }
   ],
   "source": [
    "## your code here\n",
    "from sklearn.neighbors import KNeighborsClassifier\n",
    "#k值用默认5，距离度量选欧式距离\n",
    "knn = KNeighborsClassifier(n_neighbors=5, p=2, metric='minkowski')\n",
    "knn.fit(X_train, y_train)\n",
    "#对分类进行评分\n",
    "score5=knn.score(X_train,y_train)\n",
    "print(score5)"
   ]
  },
  {
   "cell_type": "markdown",
   "metadata": {},
   "source": [
    "---\n",
    "\n",
    "## 练习3：在测试集上进行预测，计算准确度"
   ]
  },
  {
   "cell_type": "markdown",
   "metadata": {},
   "source": [
    "### Logistic regression\n",
    "- 提示：<span style='color:white'>y_pred_LR = clf_LR.predict(x_test)('Gender') </span>"
   ]
  },
  {
   "cell_type": "code",
   "execution_count": 35,
   "metadata": {},
   "outputs": [],
   "source": [
    "import numpy as np"
   ]
  },
  {
   "cell_type": "code",
   "execution_count": 43,
   "metadata": {},
   "outputs": [
    {
     "name": "stdout",
     "output_type": "stream",
     "text": [
      "train score: 0.9307739820401958\n",
      "test score: 0.9297691305673346\n"
     ]
    }
   ],
   "source": [
    "from sklearn.metrics import accuracy_score\n",
    "\n",
    "train_score1=accuracy_score(y_train,lr.predict(X_train))\n",
    "test_score1=lr.score(X_test,y_test)\n",
    "print('train score:',train_score1)\n",
    "print('test score:',test_score1)"
   ]
  },
  {
   "cell_type": "markdown",
   "metadata": {},
   "source": [
    "### Decision Tree\n",
    "- 提示：<span style='color:white'>y_pred_tree = tree.predict(x_test)('Gender') </span>"
   ]
  },
  {
   "cell_type": "code",
   "execution_count": 44,
   "metadata": {
    "jupyter": {
     "outputs_hidden": true
    }
   },
   "outputs": [
    {
     "name": "stdout",
     "output_type": "stream",
     "text": [
      "train score: 0.9333040338290493\n",
      "test score: 0.9324575261217816\n"
     ]
    }
   ],
   "source": [
    "## your code here\n",
    "from sklearn.metrics import accuracy_score\n",
    "\n",
    "train_score2=accuracy_score(y_train,tree.predict(X_train))\n",
    "test_score2=tree.score(X_test,y_test)\n",
    "print('train score:',train_score2)\n",
    "print('test score:',test_score2)"
   ]
  },
  {
   "cell_type": "markdown",
   "metadata": {},
   "source": [
    "### Random Forest\n",
    "- 提示：<span style='color:white'>y_pred_forest = forest.predict(x_test)('Gender') </span>"
   ]
  },
  {
   "cell_type": "code",
   "execution_count": 23,
   "metadata": {
    "jupyter": {
     "outputs_hidden": true
    }
   },
   "outputs": [
    {
     "name": "stdout",
     "output_type": "stream",
     "text": [
      "train score: 0.990117356392835\n",
      "test score: 0.9311826168897758\n"
     ]
    }
   ],
   "source": [
    "## your code here\n",
    "from sklearn.metrics import accuracy_score\n",
    "train_score3=accuracy_score(y_train,forest.predict(X_train))\n",
    "test_score3=forest.score(X_test,y_test)\n",
    "print('train score:',train_score3)\n",
    "print('test score:',test_score3)"
   ]
  },
  {
   "cell_type": "markdown",
   "metadata": {},
   "source": [
    "### SVM\n",
    "- 提示：<span style='color:white'>y_pred_SVC = clf_svc.predict(x_test)('Gender') </span>"
   ]
  },
  {
   "cell_type": "code",
   "execution_count": 17,
   "metadata": {
    "jupyter": {
     "outputs_hidden": true
    }
   },
   "outputs": [
    {
     "name": "stdout",
     "output_type": "stream",
     "text": [
      "train score: 0.9213308309972917\n",
      "test score: 0.9205121809262493\n"
     ]
    }
   ],
   "source": [
    "## your code here\n",
    "from sklearn.metrics import accuracy_score\n",
    "train_score4=accuracy_score(y_train,svm.predict(X_train))\n",
    "test_score4=svm.score(X_test,y_test)\n",
    "print('train score:',train_score4)\n",
    "print('test score:',test_score4)"
   ]
  },
  {
   "cell_type": "markdown",
   "metadata": {},
   "source": [
    "### KNN\n",
    "- 提示：<span style='color:white'>y_pred_KNN = neigh.predict(x_test)('Gender') </span>"
   ]
  },
  {
   "cell_type": "code",
   "execution_count": 26,
   "metadata": {
    "jupyter": {
     "outputs_hidden": true
    }
   },
   "outputs": [
    {
     "name": "stdout",
     "output_type": "stream",
     "text": [
      "train score: 0.9336366227965981\n",
      "test score: 0.9286605138438513\n"
     ]
    }
   ],
   "source": [
    "## your code here\n",
    "from sklearn.metrics import accuracy_score\n",
    "train_score5=accuracy_score(y_train,knn.predict(X_train))\n",
    "test_score5=knn.score(X_test,y_test)\n",
    "print('train score:',train_score5)\n",
    "print('test score:',test_score5)"
   ]
  },
  {
   "cell_type": "markdown",
   "metadata": {},
   "source": [
    "---\n",
    "## 练习4：查看sklearn的官方说明，了解分类问题的评估标准，并对此例进行评估"
   ]
  },
  {
   "cell_type": "markdown",
   "metadata": {},
   "source": [
    "**混淆矩阵（Confusion Matrix）相关学习链接**\n",
    "\n",
    "- Blog:<br>\n",
    "http://blog.csdn.net/vesper305/article/details/44927047<br>\n",
    "- WiKi:<br>\n",
    "http://en.wikipedia.org/wiki/Confusion_matrix<br>\n",
    "- sklearn doc:<br>\n",
    "http://scikit-learn.org/stable/modules/generated/sklearn.metrics.confusion_matrix.html"
   ]
  },
  {
   "cell_type": "code",
   "execution_count": 27,
   "metadata": {
    "jupyter": {
     "outputs_hidden": true
    }
   },
   "outputs": [
    {
     "name": "stdout",
     "output_type": "stream",
     "text": [
      "train recall1: 0.5000539492441864\n",
      "test recall1: 0.5001675863577526\n",
      "train recall2: 0.5507645866906816\n",
      "test recall2: 0.550703187226335\n",
      "train recall3: 0.9294456114141333\n",
      "test recall3: 0.57392384163241\n",
      "train recall4: 0.49847819835274215\n",
      "test recall4: 0.49902194219796947\n",
      "train recall5: 0.527658188071053\n",
      "test recall5: 0.5090609251783693\n"
     ]
    }
   ],
   "source": [
    "## your code here\n",
    "#召回率：模型正确预测为正例的样本数与真实为正例的样本数之比，衡量模型识别正例的能力。\n",
    "#逻辑回归\n",
    "from sklearn.metrics import recall_score\n",
    "train_recall1=recall_score(y_train,lr.predict(X_train),average='macro')\n",
    "test_recall1=recall_score(y_test,lr.predict(X_test),average='macro')\n",
    "print('train recall1:',train_recall1)\n",
    "print('test recall1:',test_recall1)\n",
    "\n",
    "#决策树\n",
    "from sklearn.metrics import recall_score\n",
    "train_recall2=recall_score(y_train,tree.predict(X_train),average='macro')\n",
    "test_recall2=recall_score(y_test,tree.predict(X_test),average='macro')\n",
    "print('train recall2:',train_recall2)\n",
    "print('test recall2:',test_recall2)\n",
    "\n",
    "#随机森林\n",
    "from sklearn.metrics import recall_score\n",
    "train_recall3=recall_score(y_train,forest.predict(X_train),average='macro')\n",
    "test_recall3=recall_score(y_test,forest.predict(X_test),average='macro')\n",
    "print('train recall3:',train_recall3)\n",
    "print('test recall3:',test_recall3)\n",
    "\n",
    "#向量机\n",
    "from sklearn.metrics import recall_score\n",
    "train_recall4=recall_score(y_train,svm.predict(X_train),average='macro')\n",
    "test_recall4=recall_score(y_test,svm.predict(X_test),average='macro')\n",
    "print('train recall4:',train_recall4)\n",
    "print('test recall4:',test_recall4)\n",
    "\n",
    "#knn\n",
    "from sklearn.metrics import recall_score\n",
    "train_recall5=recall_score(y_train,knn.predict(X_train),average='macro')\n",
    "test_recall5=recall_score(y_test,knn.predict(X_test),average='macro')\n",
    "print('train recall5:',train_recall5)\n",
    "print('test recall5:',test_recall5)\n"
   ]
  },
  {
   "cell_type": "markdown",
   "metadata": {},
   "source": [
    "## 练习5：调整模型的标准\n",
    "\n",
    "银行通常会有更严格的要求，因为fraud带来的后果通常比较严重，一般我们会调整模型的标准。<br>\n",
    "\n",
    "比如在logistic regression当中，一般我们的概率判定边界为0.5，但是我们可以把阈值设定低一些，来提高模型的“敏感度”，试试看把阈值设定为0.3，再看看这时的评估指标(主要是准确率和召回率)。\n",
    "\n",
    "- 提示：<span style='color:white'>sklearn的很多分类模型，predict_prob可以拿到预估的概率，可以根据它和设定的阈值大小去判断最终结果(分类类别)('Gender') </span>"
   ]
  },
  {
   "cell_type": "code",
   "execution_count": 48,
   "metadata": {
    "jupyter": {
     "outputs_hidden": true
    }
   },
   "outputs": [
    {
     "name": "stdout",
     "output_type": "stream",
     "text": [
      "score: 0.9307739820401958\n",
      "train recall1: 0.5000539492441864\n",
      "test recall1: 0.5001675863577526\n"
     ]
    },
    {
     "name": "stderr",
     "output_type": "stream",
     "text": [
      "/home/jing/snap/jupyter/common/lib/python3.7/site-packages/sklearn/linear_model/_sag.py:354: ConvergenceWarning: The max_iter was reached which means the coef_ did not converge\n",
      "  ConvergenceWarning,\n"
     ]
    }
   ],
   "source": [
    "## your code here\n",
    "from sklearn.linear_model import LogisticRegression\n",
    "#多分类参数选择ovr，运行速度更快；\n",
    "#样本数据很多，优化算法选择sag；\n",
    "#权重参数选balance，自动计算样本比例。\n",
    "lr=LogisticRegression(multi_class='ovr',solver='sag',\n",
    "                      class_weight='balanced',random_state=0,\n",
    "                      penalty='l2')\n",
    "lr.fit(X_train,y_train)\n",
    "\n",
    "#对分类进行评分，1为满分\n",
    "score=lr.score(X_train,y_train)\n",
    "print('score:',score)\n",
    "\n",
    "from sklearn.metrics import recall_score\n",
    "train_recall=recall_score(y_train,lr.predict(X_train),average='macro')\n",
    "test_recall=recall_score(y_test,lr.predict(X_test),average='macro')\n",
    "print('train recall:',train_recall)\n",
    "print('test recall:',test_recall)\n"
   ]
  }
 ],
 "metadata": {
  "kernelspec": {
   "display_name": "Python 3",
   "language": "python",
   "name": "python3"
  },
  "language_info": {
   "codemirror_mode": {
    "name": "ipython",
    "version": 3
   },
   "file_extension": ".py",
   "mimetype": "text/x-python",
   "name": "python",
   "nbconvert_exporter": "python",
   "pygments_lexer": "ipython3",
   "version": "3.7.3"
  }
 },
 "nbformat": 4,
 "nbformat_minor": 4
}
