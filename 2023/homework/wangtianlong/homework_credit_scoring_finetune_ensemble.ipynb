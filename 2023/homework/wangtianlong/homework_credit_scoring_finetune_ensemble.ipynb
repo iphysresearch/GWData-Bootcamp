{
 "cells": [
  {
   "cell_type": "markdown",
   "metadata": {},
   "source": [
    "# 一起来打怪之 Credit Scoring 练习"
   ]
  },
  {
   "cell_type": "markdown",
   "metadata": {},
   "source": [
    "-------\n",
    "## >>>说明：\n",
    "### 1. 答题步骤：\n",
    "- 回答问题**请保留每一步**操作过程，请不要仅仅给出最后答案\n",
    "- 请养成代码注释的好习惯\n",
    "\n",
    "### 2. 解题思路：\n",
    "- 为方便大家准确理解题目，在习题实战中有所收获，本文档提供了解题思路提示\n",
    "- 解题思路**仅供参考**，鼓励原创解题方法\n",
    "- 为督促同学们自己思考，解题思路内容设置为**注释**，请注意查看\n",
    "\n",
    "### 3. 所用数据：\n",
    "- 问题使用了多个数据库，请注意导入每个数据库后都先**查看和了解数据的基本性质**，后面的问题不再一一提醒"
   ]
  },
  {
   "cell_type": "markdown",
   "metadata": {},
   "source": [
    "--------\n",
    "## 操作题"
   ]
  },
  {
   "cell_type": "markdown",
   "metadata": {},
   "source": [
    "### 信用卡欺诈项目"
   ]
  },
  {
   "cell_type": "markdown",
   "metadata": {},
   "source": [
    " #### 前期数据导入,预览及处理(此部分勿修改，涉及的数据文件无需复制移动)"
   ]
  },
  {
   "cell_type": "code",
   "execution_count": 1,
   "metadata": {
    "tags": []
   },
   "outputs": [
    {
     "data": {
      "text/html": [
       "<div>\n",
       "<style scoped>\n",
       "    .dataframe tbody tr th:only-of-type {\n",
       "        vertical-align: middle;\n",
       "    }\n",
       "\n",
       "    .dataframe tbody tr th {\n",
       "        vertical-align: top;\n",
       "    }\n",
       "\n",
       "    .dataframe thead th {\n",
       "        text-align: right;\n",
       "    }\n",
       "</style>\n",
       "<table border=\"1\" class=\"dataframe\">\n",
       "  <thead>\n",
       "    <tr style=\"text-align: right;\">\n",
       "      <th></th>\n",
       "      <th>SeriousDlqin2yrs</th>\n",
       "      <th>RevolvingUtilizationOfUnsecuredLines</th>\n",
       "      <th>age</th>\n",
       "      <th>NumberOfTime30-59DaysPastDueNotWorse</th>\n",
       "      <th>DebtRatio</th>\n",
       "      <th>MonthlyIncome</th>\n",
       "      <th>NumberOfOpenCreditLinesAndLoans</th>\n",
       "      <th>NumberOfTimes90DaysLate</th>\n",
       "      <th>NumberRealEstateLoansOrLines</th>\n",
       "      <th>NumberOfTime60-89DaysPastDueNotWorse</th>\n",
       "      <th>NumberOfDependents</th>\n",
       "    </tr>\n",
       "  </thead>\n",
       "  <tbody>\n",
       "    <tr>\n",
       "      <th>0</th>\n",
       "      <td>1</td>\n",
       "      <td>0.766127</td>\n",
       "      <td>45.0</td>\n",
       "      <td>2.0</td>\n",
       "      <td>0.802982</td>\n",
       "      <td>9120.0</td>\n",
       "      <td>13.0</td>\n",
       "      <td>0.0</td>\n",
       "      <td>6.0</td>\n",
       "      <td>0.0</td>\n",
       "      <td>2.0</td>\n",
       "    </tr>\n",
       "    <tr>\n",
       "      <th>1</th>\n",
       "      <td>0</td>\n",
       "      <td>0.957151</td>\n",
       "      <td>40.0</td>\n",
       "      <td>0.0</td>\n",
       "      <td>0.121876</td>\n",
       "      <td>2600.0</td>\n",
       "      <td>4.0</td>\n",
       "      <td>0.0</td>\n",
       "      <td>0.0</td>\n",
       "      <td>0.0</td>\n",
       "      <td>1.0</td>\n",
       "    </tr>\n",
       "    <tr>\n",
       "      <th>2</th>\n",
       "      <td>0</td>\n",
       "      <td>0.658180</td>\n",
       "      <td>38.0</td>\n",
       "      <td>1.0</td>\n",
       "      <td>0.085113</td>\n",
       "      <td>3042.0</td>\n",
       "      <td>2.0</td>\n",
       "      <td>1.0</td>\n",
       "      <td>0.0</td>\n",
       "      <td>0.0</td>\n",
       "      <td>0.0</td>\n",
       "    </tr>\n",
       "    <tr>\n",
       "      <th>3</th>\n",
       "      <td>0</td>\n",
       "      <td>0.233810</td>\n",
       "      <td>30.0</td>\n",
       "      <td>0.0</td>\n",
       "      <td>0.036050</td>\n",
       "      <td>3300.0</td>\n",
       "      <td>5.0</td>\n",
       "      <td>0.0</td>\n",
       "      <td>0.0</td>\n",
       "      <td>0.0</td>\n",
       "      <td>0.0</td>\n",
       "    </tr>\n",
       "    <tr>\n",
       "      <th>4</th>\n",
       "      <td>0</td>\n",
       "      <td>0.907239</td>\n",
       "      <td>49.0</td>\n",
       "      <td>1.0</td>\n",
       "      <td>0.024926</td>\n",
       "      <td>63588.0</td>\n",
       "      <td>7.0</td>\n",
       "      <td>0.0</td>\n",
       "      <td>1.0</td>\n",
       "      <td>0.0</td>\n",
       "      <td>0.0</td>\n",
       "    </tr>\n",
       "  </tbody>\n",
       "</table>\n",
       "</div>"
      ],
      "text/plain": [
       "   SeriousDlqin2yrs  RevolvingUtilizationOfUnsecuredLines   age  \\\n",
       "0                 1                              0.766127  45.0   \n",
       "1                 0                              0.957151  40.0   \n",
       "2                 0                              0.658180  38.0   \n",
       "3                 0                              0.233810  30.0   \n",
       "4                 0                              0.907239  49.0   \n",
       "\n",
       "   NumberOfTime30-59DaysPastDueNotWorse  DebtRatio  MonthlyIncome  \\\n",
       "0                                   2.0   0.802982         9120.0   \n",
       "1                                   0.0   0.121876         2600.0   \n",
       "2                                   1.0   0.085113         3042.0   \n",
       "3                                   0.0   0.036050         3300.0   \n",
       "4                                   1.0   0.024926        63588.0   \n",
       "\n",
       "   NumberOfOpenCreditLinesAndLoans  NumberOfTimes90DaysLate  \\\n",
       "0                             13.0                      0.0   \n",
       "1                              4.0                      0.0   \n",
       "2                              2.0                      1.0   \n",
       "3                              5.0                      0.0   \n",
       "4                              7.0                      0.0   \n",
       "\n",
       "   NumberRealEstateLoansOrLines  NumberOfTime60-89DaysPastDueNotWorse  \\\n",
       "0                           6.0                                   0.0   \n",
       "1                           0.0                                   0.0   \n",
       "2                           0.0                                   0.0   \n",
       "3                           0.0                                   0.0   \n",
       "4                           1.0                                   0.0   \n",
       "\n",
       "   NumberOfDependents  \n",
       "0                 2.0  \n",
       "1                 1.0  \n",
       "2                 0.0  \n",
       "3                 0.0  \n",
       "4                 0.0  "
      ]
     },
     "execution_count": 1,
     "metadata": {},
     "output_type": "execute_result"
    }
   ],
   "source": [
    "import pandas as pd\n",
    "\n",
    "pd.set_option('display.max_columns', 500)\n",
    "import zipfile\n",
    "with zipfile.ZipFile('KaggleCredit2.csv.zip', 'r') as z:\n",
    "    f = z.open('KaggleCredit2.csv')\n",
    "    data = pd.read_csv(f, index_col=0)\n",
    "data.head()"
   ]
  },
  {
   "cell_type": "code",
   "execution_count": 2,
   "metadata": {
    "jupyter": {
     "outputs_hidden": true
    }
   },
   "outputs": [],
   "source": [
    "# 检查数据维度\n",
    "data.shape\n",
    "import warnings\n",
    "warnings.filterwarnings(\"ignore\")"
   ]
  },
  {
   "cell_type": "code",
   "execution_count": 3,
   "metadata": {
    "jupyter": {
     "outputs_hidden": true
    }
   },
   "outputs": [
    {
     "data": {
      "text/plain": [
       "SeriousDlqin2yrs                           0\n",
       "RevolvingUtilizationOfUnsecuredLines       0\n",
       "age                                     4267\n",
       "NumberOfTime30-59DaysPastDueNotWorse       0\n",
       "DebtRatio                                  0\n",
       "MonthlyIncome                              0\n",
       "NumberOfOpenCreditLinesAndLoans            0\n",
       "NumberOfTimes90DaysLate                    0\n",
       "NumberRealEstateLoansOrLines               0\n",
       "NumberOfTime60-89DaysPastDueNotWorse       0\n",
       "NumberOfDependents                      4267\n",
       "dtype: int64"
      ]
     },
     "execution_count": 3,
     "metadata": {},
     "output_type": "execute_result"
    }
   ],
   "source": [
    "# 查看数据缺失值情况\n",
    "data.isnull().sum(axis=0)"
   ]
  },
  {
   "cell_type": "code",
   "execution_count": 4,
   "metadata": {
    "jupyter": {
     "outputs_hidden": true
    }
   },
   "outputs": [],
   "source": [
    "# 清除缺失值\n",
    "data.dropna(inplace=True)\n",
    "data.shapey = data['SeriousDlqin2yrs']\n",
    "X = data.drop('SeriousDlqin2yrs', axis=1)"
   ]
  },
  {
   "cell_type": "code",
   "execution_count": 5,
   "metadata": {
    "jupyter": {
     "outputs_hidden": true
    }
   },
   "outputs": [
    {
     "data": {
      "text/plain": [
       "0.06742876076872101"
      ]
     },
     "execution_count": 5,
     "metadata": {},
     "output_type": "execute_result"
    }
   ],
   "source": [
    "# 取出对应的X和y\n",
    "y = data['SeriousDlqin2yrs']\n",
    "X = data.drop('SeriousDlqin2yrs', axis=1)\n",
    "# 查看平均的欺诈率\n",
    "y.mean()"
   ]
  },
  {
   "cell_type": "markdown",
   "metadata": {},
   "source": [
    "### 以下为操作题"
   ]
  },
  {
   "cell_type": "markdown",
   "metadata": {},
   "source": [
    "#### 1.把数据切分成训练集和测试集"
   ]
  },
  {
   "cell_type": "code",
   "execution_count": 6,
   "metadata": {
    "jupyter": {
     "outputs_hidden": true
    }
   },
   "outputs": [],
   "source": [
    "# 提示：查看train_test_split函数\n",
    "from sklearn.model_selection import train_test_split\n",
    "X_train, X_test, y_train, y_test = train_test_split(X, y, test_size=0.2, random_state=42)"
   ]
  },
  {
   "cell_type": "code",
   "execution_count": 7,
   "metadata": {
    "jupyter": {
     "outputs_hidden": true
    }
   },
   "outputs": [
    {
     "name": "stdout",
     "output_type": "stream",
     "text": [
      "SeriousDlqin2yrs\n",
      "0    101322\n",
      "1      7326\n",
      "Name: count, dtype: int64\n"
     ]
    },
    {
     "data": {
      "text/plain": [
       "<Axes: xlabel='SeriousDlqin2yrs'>"
      ]
     },
     "execution_count": 7,
     "metadata": {},
     "output_type": "execute_result"
    },
    {
     "data": {
      "image/png": "[encoded data removed]",
      "text/plain": [
       "<Figure size 640x480 with 1 Axes>"
      ]
     },
     "metadata": {},
     "output_type": "display_data"
    }
   ],
   "source": [
    "# 通过SeriousDlqin2yrs字段查看正负样本分布情况\n",
    "# 提示：value_counts\n",
    "df = pd.DataFrame(data)\n",
    "\n",
    "# 使用value_counts查看正负值的分布\n",
    "label_counts = df['SeriousDlqin2yrs'].value_counts()\n",
    "\n",
    "# 打印结果\n",
    "print(label_counts)\n",
    "label_counts.plot(kind='bar', color=['green', 'red'])\n",
    "# 绘制两种类别的柱状图\n",
    "# 提示：dataframe可以直接plot(kind='bar')\n",
    "\n"
   ]
  },
  {
   "cell_type": "markdown",
   "metadata": {},
   "source": [
    "#### 2.数据预处理之离散化"
   ]
  },
  {
   "cell_type": "code",
   "execution_count": 8,
   "metadata": {
    "jupyter": {
     "outputs_hidden": true
    }
   },
   "outputs": [
    {
     "name": "stdout",
     "output_type": "stream",
     "text": [
      "        SeriousDlqin2yrs  RevolvingUtilizationOfUnsecuredLines   age  \\\n",
      "0                      1                              0.766127  45.0   \n",
      "1                      0                              0.957151  40.0   \n",
      "2                      0                              0.658180  38.0   \n",
      "3                      0                              0.233810  30.0   \n",
      "4                      0                              0.907239  49.0   \n",
      "...                  ...                                   ...   ...   \n",
      "112910                 0                              0.385742  50.0   \n",
      "112911                 0                              0.040674  74.0   \n",
      "112912                 0                              0.299745  44.0   \n",
      "112913                 0                              0.000000  30.0   \n",
      "112914                 0                              0.850283  64.0   \n",
      "\n",
      "        NumberOfTime30-59DaysPastDueNotWorse  DebtRatio  MonthlyIncome  \\\n",
      "0                                        2.0   0.802982         9120.0   \n",
      "1                                        0.0   0.121876         2600.0   \n",
      "2                                        1.0   0.085113         3042.0   \n",
      "3                                        0.0   0.036050         3300.0   \n",
      "4                                        1.0   0.024926        63588.0   \n",
      "...                                      ...        ...            ...   \n",
      "112910                                   0.0   0.404293         3400.0   \n",
      "112911                                   0.0   0.225131         2100.0   \n",
      "112912                                   0.0   0.716562         5584.0   \n",
      "112913                                   0.0   0.000000         5716.0   \n",
      "112914                                   0.0   0.249908         8158.0   \n",
      "\n",
      "        NumberOfOpenCreditLinesAndLoans  NumberOfTimes90DaysLate  \\\n",
      "0                                  13.0                      0.0   \n",
      "1                                   4.0                      0.0   \n",
      "2                                   2.0                      1.0   \n",
      "3                                   5.0                      0.0   \n",
      "4                                   7.0                      0.0   \n",
      "...                                 ...                      ...   \n",
      "112910                              7.0                      0.0   \n",
      "112911                              4.0                      0.0   \n",
      "112912                              4.0                      0.0   \n",
      "112913                              4.0                      0.0   \n",
      "112914                              8.0                      0.0   \n",
      "\n",
      "        NumberRealEstateLoansOrLines  NumberOfTime60-89DaysPastDueNotWorse  \\\n",
      "0                                6.0                                   0.0   \n",
      "1                                0.0                                   0.0   \n",
      "2                                0.0                                   0.0   \n",
      "3                                0.0                                   0.0   \n",
      "4                                1.0                                   0.0   \n",
      "...                              ...                                   ...   \n",
      "112910                           0.0                                   0.0   \n",
      "112911                           1.0                                   0.0   \n",
      "112912                           1.0                                   0.0   \n",
      "112913                           0.0                                   0.0   \n",
      "112914                           2.0                                   0.0   \n",
      "\n",
      "        NumberOfDependents  \n",
      "0                      2.0  \n",
      "1                      1.0  \n",
      "2                      0.0  \n",
      "3                      0.0  \n",
      "4                      0.0  \n",
      "...                    ...  \n",
      "112910                 0.0  \n",
      "112911                 0.0  \n",
      "112912                 2.0  \n",
      "112913                 0.0  \n",
      "112914                 0.0  \n",
      "\n",
      "[108648 rows x 11 columns]\n"
     ]
    }
   ],
   "source": [
    "# 请对年龄按照3岁一个区间进行离散化\n",
    "# 提示：可以先计算出分桶边界，再基于pandas的cut函数进行离散化(分箱、分桶)\n",
    "\n",
    "bin_edges = list(range(20, 80, 3)) \n",
    "df['age_group'] = pd.cut(df['age'], bins=bin_edges)\n",
    "df = pd.DataFrame(data)\n",
    "print(df)"
   ]
  },
  {
   "cell_type": "markdown",
   "metadata": {},
   "source": [
    "#### 3.数据预处理之独热向量编码"
   ]
  },
  {
   "cell_type": "code",
   "execution_count": 9,
   "metadata": {
    "jupyter": {
     "outputs_hidden": true
    }
   },
   "outputs": [
    {
     "name": "stdout",
     "output_type": "stream",
     "text": [
      "        SeriousDlqin2yrs  RevolvingUtilizationOfUnsecuredLines   age  \\\n",
      "0                      1                              0.766127  45.0   \n",
      "1                      0                              0.957151  40.0   \n",
      "2                      0                              0.658180  38.0   \n",
      "3                      0                              0.233810  30.0   \n",
      "4                      0                              0.907239  49.0   \n",
      "...                  ...                                   ...   ...   \n",
      "112910                 0                              0.385742  50.0   \n",
      "112911                 0                              0.040674  74.0   \n",
      "112912                 0                              0.299745  44.0   \n",
      "112913                 0                              0.000000  30.0   \n",
      "112914                 0                              0.850283  64.0   \n",
      "\n",
      "        NumberOfTime30-59DaysPastDueNotWorse  DebtRatio  MonthlyIncome  \\\n",
      "0                                        2.0   0.802982         9120.0   \n",
      "1                                        0.0   0.121876         2600.0   \n",
      "2                                        1.0   0.085113         3042.0   \n",
      "3                                        0.0   0.036050         3300.0   \n",
      "4                                        1.0   0.024926        63588.0   \n",
      "...                                      ...        ...            ...   \n",
      "112910                                   0.0   0.404293         3400.0   \n",
      "112911                                   0.0   0.225131         2100.0   \n",
      "112912                                   0.0   0.716562         5584.0   \n",
      "112913                                   0.0   0.000000         5716.0   \n",
      "112914                                   0.0   0.249908         8158.0   \n",
      "\n",
      "        NumberOfOpenCreditLinesAndLoans  NumberOfTimes90DaysLate  \\\n",
      "0                                  13.0                      0.0   \n",
      "1                                   4.0                      0.0   \n",
      "2                                   2.0                      1.0   \n",
      "3                                   5.0                      0.0   \n",
      "4                                   7.0                      0.0   \n",
      "...                                 ...                      ...   \n",
      "112910                              7.0                      0.0   \n",
      "112911                              4.0                      0.0   \n",
      "112912                              4.0                      0.0   \n",
      "112913                              4.0                      0.0   \n",
      "112914                              8.0                      0.0   \n",
      "\n",
      "        NumberRealEstateLoansOrLines  NumberOfTime60-89DaysPastDueNotWorse  \\\n",
      "0                                6.0                                   0.0   \n",
      "1                                0.0                                   0.0   \n",
      "2                                0.0                                   0.0   \n",
      "3                                0.0                                   0.0   \n",
      "4                                1.0                                   0.0   \n",
      "...                              ...                                   ...   \n",
      "112910                           0.0                                   0.0   \n",
      "112911                           1.0                                   0.0   \n",
      "112912                           1.0                                   0.0   \n",
      "112913                           0.0                                   0.0   \n",
      "112914                           2.0                                   0.0   \n",
      "\n",
      "        NumberOfDependents age_group  age_(20, 23]  age_(23, 26]  \\\n",
      "0                      2.0  (44, 47]         False         False   \n",
      "1                      1.0  (38, 41]         False         False   \n",
      "2                      0.0  (35, 38]         False         False   \n",
      "3                      0.0  (29, 32]         False         False   \n",
      "4                      0.0  (47, 50]         False         False   \n",
      "...                    ...       ...           ...           ...   \n",
      "112910                 0.0  (47, 50]         False         False   \n",
      "112911                 0.0  (71, 74]         False         False   \n",
      "112912                 2.0  (41, 44]         False         False   \n",
      "112913                 0.0  (29, 32]         False         False   \n",
      "112914                 0.0  (62, 65]         False         False   \n",
      "\n",
      "        age_(26, 29]  age_(29, 32]  age_(32, 35]  age_(35, 38]  age_(38, 41]  \\\n",
      "0              False         False         False         False         False   \n",
      "1              False         False         False         False          True   \n",
      "2              False         False         False          True         False   \n",
      "3              False          True         False         False         False   \n",
      "4              False         False         False         False         False   \n",
      "...              ...           ...           ...           ...           ...   \n",
      "112910         False         False         False         False         False   \n",
      "112911         False         False         False         False         False   \n",
      "112912         False         False         False         False         False   \n",
      "112913         False          True         False         False         False   \n",
      "112914         False         False         False         False         False   \n",
      "\n",
      "        age_(41, 44]  age_(44, 47]  age_(47, 50]  age_(50, 53]  age_(53, 56]  \\\n",
      "0              False          True         False         False         False   \n",
      "1              False         False         False         False         False   \n",
      "2              False         False         False         False         False   \n",
      "3              False         False         False         False         False   \n",
      "4              False         False          True         False         False   \n",
      "...              ...           ...           ...           ...           ...   \n",
      "112910         False         False          True         False         False   \n",
      "112911         False         False         False         False         False   \n",
      "112912          True         False         False         False         False   \n",
      "112913         False         False         False         False         False   \n",
      "112914         False         False         False         False         False   \n",
      "\n",
      "        age_(56, 59]  age_(59, 62]  age_(62, 65]  age_(65, 68]  age_(68, 71]  \\\n",
      "0              False         False         False         False         False   \n",
      "1              False         False         False         False         False   \n",
      "2              False         False         False         False         False   \n",
      "3              False         False         False         False         False   \n",
      "4              False         False         False         False         False   \n",
      "...              ...           ...           ...           ...           ...   \n",
      "112910         False         False         False         False         False   \n",
      "112911         False         False         False         False         False   \n",
      "112912         False         False         False         False         False   \n",
      "112913         False         False         False         False         False   \n",
      "112914         False         False          True         False         False   \n",
      "\n",
      "        age_(71, 74]  age_(74, 77]  \n",
      "0              False         False  \n",
      "1              False         False  \n",
      "2              False         False  \n",
      "3              False         False  \n",
      "4              False         False  \n",
      "...              ...           ...  \n",
      "112910         False         False  \n",
      "112911          True         False  \n",
      "112912         False         False  \n",
      "112913         False         False  \n",
      "112914         False         False  \n",
      "\n",
      "[108648 rows x 31 columns]\n"
     ]
    }
   ],
   "source": [
    "# 请对上述分箱后的年龄段进行独热向量编码\n",
    "# 提示：使用pandas的get_dummies完成\n",
    "df['age_group'] = pd.cut(df['age'], bins=bin_edges)\n",
    "age_dummies = pd.get_dummies(df['age_group'], prefix='age')\n",
    "df = pd.concat([df, age_dummies], axis=1)\n",
    "print(df)"
   ]
  },
  {
   "cell_type": "markdown",
   "metadata": {},
   "source": [
    "#### 4.数据预处理之幅度缩放"
   ]
  },
  {
   "cell_type": "code",
   "execution_count": 10,
   "metadata": {
    "jupyter": {
     "outputs_hidden": true
    }
   },
   "outputs": [
    {
     "name": "stdout",
     "output_type": "stream",
     "text": [
      "              0         1         2         3         4         5         6   \\\n",
      "0       3.718934 -0.020107 -0.440122  0.459927  2.228325  0.144439  0.842602   \n",
      "1      -0.268894 -0.019371 -0.786059 -0.107406 -0.827015 -0.292437 -0.912435   \n",
      "2      -0.268894 -0.020522 -0.924434  0.176260 -0.991928 -0.262821 -1.302443   \n",
      "3      -0.268894 -0.022156 -1.477933 -0.107406 -1.212020 -0.245533 -0.717431   \n",
      "4      -0.268894 -0.019564 -0.163372  0.176260 -1.261921  3.794102 -0.327423   \n",
      "...          ...       ...       ...       ...       ...       ...       ...   \n",
      "108643 -0.268894 -0.021571 -0.094185 -0.107406  0.439864 -0.238833 -0.327423   \n",
      "108644 -0.268894 -0.022899  1.566312 -0.107406 -0.363830 -0.325940 -0.912435   \n",
      "108645 -0.268894 -0.021902 -0.509309 -0.107406  1.840658 -0.092492 -0.912435   \n",
      "108646 -0.268894 -0.023056 -1.477933 -0.107406 -1.373734 -0.083648 -0.912435   \n",
      "108647 -0.268894 -0.019783  0.874438 -0.107406 -0.252683  0.079980 -0.132419   \n",
      "\n",
      "              7         8         9         10  \n",
      "0      -0.061113  4.625407 -0.054273  0.994689  \n",
      "1      -0.061113 -0.942146 -0.054273  0.124769  \n",
      "2       0.225146 -0.942146 -0.054273 -0.745150  \n",
      "3      -0.061113 -0.942146 -0.054273 -0.745150  \n",
      "4      -0.061113 -0.014220 -0.054273 -0.745150  \n",
      "...          ...       ...       ...       ...  \n",
      "108643 -0.061113 -0.942146 -0.054273 -0.745150  \n",
      "108644 -0.061113 -0.014220 -0.054273 -0.745150  \n",
      "108645 -0.061113 -0.014220 -0.054273  0.994689  \n",
      "108646 -0.061113 -0.942146 -0.054273 -0.745150  \n",
      "108647 -0.061113  0.913705 -0.054273 -0.745150  \n",
      "\n",
      "[108648 rows x 11 columns]\n"
     ]
    }
   ],
   "source": [
    "# 请对连续值特征进行幅度缩放\n",
    "# 提示：可以使用StandardScaler等幅度缩放器进行处理\n",
    "from sklearn.preprocessing import StandardScaler\n",
    "scaler = StandardScaler()\n",
    "scaled_features = scaler.fit_transform(data)\n",
    "\n",
    "# 将缩放后的值重新放入数据框\n",
    "data1= pd.DataFrame(scaled_features)\n",
    "print(data1)"
   ]
  },
  {
   "cell_type": "markdown",
   "metadata": {},
   "source": [
    "#### 5.使用logistic regression建模，并且输出一下系数，分析重要度。   "
   ]
  },
  {
   "cell_type": "code",
   "execution_count": 11,
   "metadata": {
    "jupyter": {
     "outputs_hidden": true
    }
   },
   "outputs": [
    {
     "name": "stdout",
     "output_type": "stream",
     "text": [
      "Intercept: [-2.857861]\n",
      "Coefficients: [-0.01986624 -0.36793125  1.64542511  0.30597648 -0.0692487  -0.11631852\n",
      "  1.50812368 -0.20482227 -2.99212814  0.11510275]\n",
      "\n",
      "Feature Importance:\n",
      "      Feature            Coefficient\n",
      "0           1              -0.019866\n",
      "1           2              -0.367931\n",
      "2           3               1.645425\n",
      "3           4               0.305976\n",
      "4           5              -0.069249\n",
      "5           6              -0.116319\n",
      "6           7               1.508124\n",
      "7           8              -0.204822\n",
      "8           9              -2.992128\n",
      "9          10               0.115103\n",
      "10  Intercept  [-2.8578609991712987]\n"
     ]
    }
   ],
   "source": [
    "# 提示：fit建模，建完模之后可以取出coef属性\n",
    "from sklearn.linear_model import LogisticRegression\n",
    "\n",
    "y = data['SeriousDlqin2yrs']\n",
    "X = data1.iloc[:, 1:]\n",
    "#print(X)\n",
    "#print(y)\n",
    "X_train, X_test, y_train, y_test = train_test_split(X,y,test_size=0.2, random_state=42)\n",
    "model = LogisticRegression()\n",
    "model.fit(X_train, y_train)\n",
    "coefficients = model.coef_[0]\n",
    "intercept = model.intercept_\n",
    "\n",
    "# 打印系数\n",
    "print(\"Intercept:\", intercept)\n",
    "print(\"Coefficients:\", coefficients)\n",
    "\n",
    "# 分析重要度\n",
    "feature_importance = pd.DataFrame({'Feature': X.columns, 'Coefficient': coefficients})\n",
    "intercept_df = pd.DataFrame({'Feature': ['Intercept'], 'Coefficient': [intercept]})\n",
    "feature_importance = pd.concat([feature_importance, intercept_df], ignore_index=True)\n",
    "print(\"\\nFeature Importance:\")\n",
    "print(feature_importance)"
   ]
  },
  {
   "cell_type": "markdown",
   "metadata": {},
   "source": [
    "#### 6.使用网格搜索交叉验证进行调参\n",
    "调整penalty和C参数，其中penalty候选为\"l1\"和\"l2\"，C的候选为[1,10,100,500]"
   ]
  },
  {
   "cell_type": "code",
   "execution_count": 12,
   "metadata": {
    "jupyter": {
     "outputs_hidden": true
    }
   },
   "outputs": [
    {
     "name": "stdout",
     "output_type": "stream",
     "text": [
      "Best Parameters: {'C': 1, 'penalty': 'l2'}\n",
      "Accuracy on Test Set: 0.933087896916705\n"
     ]
    }
   ],
   "source": [
    "# 提示：先按照上面要求准备好网格字典，再使用GridSearchCV进行调参\n",
    "from sklearn.model_selection import GridSearchCV\n",
    "param_grid = {'penalty': ['l1', 'l2'], 'C': [1, 10, 100, 500]}\n",
    "# 使用 GridSearchCV 进行网格搜索交叉验证\n",
    "grid_search = GridSearchCV(model, param_grid, cv=5)\n",
    "grid_search.fit(X_train, y_train)\n",
    "\n",
    "# 输出最优的参数组合\n",
    "best_params = grid_search.best_params_\n",
    "print(\"Best Parameters:\", best_params)\n",
    "\n",
    "# 输出最优的模型\n",
    "best_model = grid_search.best_estimator_\n",
    "accuracy = best_model.score(X_test, y_test)\n",
    "print(\"Accuracy on Test Set:\", accuracy)"
   ]
  },
  {
   "cell_type": "code",
   "execution_count": 13,
   "metadata": {
    "jupyter": {
     "outputs_hidden": true
    }
   },
   "outputs": [],
   "source": [
    "# 输出最好的超参数\n",
    "# 输出最好的模型\n",
    "#Best Parameters: {'C': 1, 'penalty': 'l2'}\n",
    "#Accuracy on Test Set: 0.933087896916705\n"
   ]
  },
  {
   "cell_type": "markdown",
   "metadata": {},
   "source": [
    "#### 7.在测试集上进行预测，计算 查准率/查全率/auc/混淆矩阵/f1值 等测试指标"
   ]
  },
  {
   "cell_type": "code",
   "execution_count": 14,
   "metadata": {
    "jupyter": {
     "outputs_hidden": true
    }
   },
   "outputs": [
    {
     "name": "stdout",
     "output_type": "stream",
     "text": [
      "Accuracy: 0.933087896916705\n",
      "Recall: 0.0444743935309973\n",
      "AUC: 0.7093870394151931\n",
      "Confusion Matrix:\n",
      "[[20210    36]\n",
      " [ 1418    66]]\n",
      "F1 Score: 0.08322824716267338\n"
     ]
    }
   ],
   "source": [
    "# 提示：在测试集上预测可以使用predict\n",
    "# 提示：各种指标可以在sklearn.metrics中查到各种评估指标，分别是accuracy_score、recall_score、auc、confusion_matrix、f1_score\n",
    "from sklearn.metrics import accuracy_score, recall_score, roc_auc_score, confusion_matrix, f1_score\n",
    "\n",
    "y_pred = model.predict(X_test)\n",
    "\n",
    "# 计算各种测试指标\n",
    "accuracy = accuracy_score(y_test, y_pred)\n",
    "recall = recall_score(y_test, y_pred)\n",
    "roc_auc = roc_auc_score(y_test, model.predict_proba(X_test)[:, 1])\n",
    "conf_matrix = confusion_matrix(y_test, y_pred)\n",
    "f1 = f1_score(y_test, y_pred)\n",
    "print(\"Accuracy:\", accuracy)\n",
    "print(\"Recall:\", recall)\n",
    "print(\"AUC:\", roc_auc)\n",
    "print(\"Confusion Matrix:\")\n",
    "print(conf_matrix)\n",
    "print(\"F1 Score:\", f1)"
   ]
  },
  {
   "cell_type": "markdown",
   "metadata": {},
   "source": [
    "#### 8.更多优化\n",
    "银行通常会有更严格的要求，因为欺诈带来的后果通常比较严重，一般我们会调整模型的标准。   \n",
    "\n",
    "比如在logistic regression当中，一般我们的概率判定边界为0.5，但是我们可以把阈值设定低一些，来提高模型的“敏感度”   \n",
    "试试看把阈值设定为0.3，再看看这个时候的混淆矩阵等评估指标。"
   ]
  },
  {
   "cell_type": "code",
   "execution_count": 15,
   "metadata": {
    "jupyter": {
     "outputs_hidden": true
    }
   },
   "outputs": [
    {
     "name": "stdout",
     "output_type": "stream",
     "text": [
      "\n",
      "Metrics with Threshold (0.1):\n",
      "Accuracy: 0.8506212609295905\n",
      "Recall: 0.43463611859838275\n",
      "AUC: 0.7093870394151931\n",
      "Confusion Matrix:\n",
      "[[17839  2407]\n",
      " [  839   645]]\n",
      "F1 Score: 0.28439153439153436\n",
      "\n",
      "Metrics with Threshold (0.2):\n",
      "Accuracy: 0.9291762540266912\n",
      "Recall: 0.18059299191374664\n",
      "AUC: 0.7093870394151931\n",
      "Confusion Matrix:\n",
      "[[19923   323]\n",
      " [ 1216   268]]\n",
      "F1 Score: 0.25831325301204816\n",
      "\n",
      "Metrics with Threshold (0.3):\n",
      "Accuracy: 0.9335480901978831\n",
      "Recall: 0.10377358490566038\n",
      "AUC: 0.7093870394151931\n",
      "Confusion Matrix:\n",
      "[[20132   114]\n",
      " [ 1330   154]]\n",
      "F1 Score: 0.17579908675799089\n",
      "\n",
      "Metrics with Threshold (0.4):\n",
      "Accuracy: 0.9338702254947078\n",
      "Recall: 0.07142857142857142\n",
      "AUC: 0.7093870394151931\n",
      "Confusion Matrix:\n",
      "[[20187    59]\n",
      " [ 1378   106]]\n",
      "F1 Score: 0.12856276531231048\n",
      "\n",
      "Metrics with Threshold (0.5):\n",
      "Accuracy: 0.933087896916705\n",
      "Recall: 0.0444743935309973\n",
      "AUC: 0.7093870394151931\n",
      "Confusion Matrix:\n",
      "[[20210    36]\n",
      " [ 1418    66]]\n",
      "F1 Score: 0.08322824716267338\n",
      "\n",
      "Metrics with Threshold (0.6):\n",
      "Accuracy: 0.9325356649792913\n",
      "Recall: 0.03099730458221024\n",
      "AUC: 0.7093870394151931\n",
      "Confusion Matrix:\n",
      "[[20218    28]\n",
      " [ 1438    46]]\n",
      "F1 Score: 0.05905006418485237\n",
      "\n",
      "Metrics with Threshold (0.7):\n",
      "Accuracy: 0.9319374137137598\n",
      "Recall: 0.016846361185983826\n",
      "AUC: 0.7093870394151931\n",
      "Confusion Matrix:\n",
      "[[20226    20]\n",
      " [ 1459    25]]\n",
      "F1 Score: 0.032701111837802485\n",
      "\n",
      "Metrics with Threshold (0.8):\n",
      "Accuracy: 0.9315692590888173\n",
      "Recall: 0.0033692722371967657\n",
      "AUC: 0.7093870394151931\n",
      "Confusion Matrix:\n",
      "[[20238     8]\n",
      " [ 1479     5]]\n",
      "F1 Score: 0.006680026720106882\n",
      "\n",
      "Metrics with Threshold (0.9):\n",
      "Accuracy: 0.9316612977450529\n",
      "Recall: 0.0006738544474393531\n",
      "AUC: 0.7093870394151931\n",
      "Confusion Matrix:\n",
      "[[20244     2]\n",
      " [ 1483     1]]\n",
      "F1 Score: 0.0013449899125756559\n"
     ]
    }
   ],
   "source": [
    "# 提示：thresholds = [0.1,0.2,0.3,0.4,0.5,0.6,0.7,0.8,0.9]\n",
    "# 根据predict_proba的结果和threshold的比较确定结果，再评估各种结果指标\n",
    "model = LogisticRegression()\n",
    "\n",
    "# 训练模型\n",
    "model.fit(X_train, y_train)\n",
    "\n",
    "# 获取不同阈值下的预测概率\n",
    "thresholds = [0.1, 0.2, 0.3, 0.4, 0.5, 0.6, 0.7, 0.8, 0.9]\n",
    "for threshold in thresholds:\n",
    "    y_pred_threshold = (model.predict_proba(X_test)[:, 1] > threshold).astype(int)\n",
    "\n",
    "    # 计算各种测试指标\n",
    "    accuracy = accuracy_score(y_test, y_pred_threshold)\n",
    "    recall = recall_score(y_test, y_pred_threshold)\n",
    "    roc_auc = roc_auc_score(y_test, model.predict_proba(X_test)[:, 1])\n",
    "    conf_matrix = confusion_matrix(y_test, y_pred_threshold)\n",
    "    f1 = f1_score(y_test, y_pred_threshold)\n",
    "\n",
    "    # 打印结果\n",
    "    print(f\"\\nMetrics with Threshold ({threshold}):\")\n",
    "    print(\"Accuracy:\", accuracy)\n",
    "    print(\"Recall:\", recall)\n",
    "    print(\"AUC:\", roc_auc)\n",
    "    print(\"Confusion Matrix:\")\n",
    "    print(conf_matrix)\n",
    "    print(\"F1 Score:\", f1)"
   ]
  },
  {
   "cell_type": "markdown",
   "metadata": {},
   "source": [
    "#### 9.尝试对不同特征的重要度进行排序，通过特征选择的方式，对特征进行筛选。并重新建模，观察此时的模型准确率等评估指标。"
   ]
  },
  {
   "cell_type": "code",
   "execution_count": 16,
   "metadata": {
    "jupyter": {
     "outputs_hidden": true
    }
   },
   "outputs": [
    {
     "name": "stdout",
     "output_type": "stream",
     "text": [
      "Feature Importance:\n",
      "[0.01986624 0.36793125 1.64542511 0.30597648 0.0692487  0.11631852\n",
      " 1.50812368 0.20482227 2.99212814 0.11510275]\n",
      "\n",
      "Metrics with Feature Selection:\n",
      "Accuracy: 0.9332719742291763\n"
     ]
    }
   ],
   "source": [
    "# 可以根据逻辑回归的系数绝对值大小进行排序，也可以基于树模型的特征重要度进行排序\n",
    "# 特征选择可以使用RFE或者selectFromModel\n",
    "model = LogisticRegression()\n",
    "from sklearn.feature_selection import SelectFromModel\n",
    "# 训练模型\n",
    "model.fit(X_train, y_train)\n",
    "\n",
    "# 获取特征的重要度（系数的绝对值）\n",
    "feature_importance = abs(model.coef_[0])\n",
    "\n",
    "# 打印各个特征的重要度\n",
    "print(\"Feature Importance:\")\n",
    "print(feature_importance)\n",
    "\n",
    "# 使用SelectFromModel进行特征选择\n",
    "sfm = SelectFromModel(model, threshold=0.2)  # 选择重要度大于阈值的特征\n",
    "sfm.fit(X_train, y_train)\n",
    "\n",
    "# 获取选择后的特征\n",
    "X_train_selected = sfm.transform(X_train)\n",
    "X_test_selected = sfm.transform(X_test)\n",
    "\n",
    "# 重新训练模型\n",
    "model_selected = LogisticRegression()\n",
    "model_selected.fit(X_train_selected, y_train)\n",
    "\n",
    "# 在测试集上进行预测\n",
    "y_pred_selected = model_selected.predict(X_test_selected)\n",
    "\n",
    "# 计算准确率等评估指标\n",
    "accuracy_selected = accuracy_score(y_test, y_pred_selected)\n",
    "\n",
    "# 打印结果\n",
    "print(\"\\nMetrics with Feature Selection:\")\n",
    "print(\"Accuracy:\", accuracy_selected)\n"
   ]
  },
  {
   "cell_type": "markdown",
   "metadata": {},
   "source": [
    "#### 10.其他模型算法尝试\n",
    "使用RandomForestClassifier/SVM/KNN等sklearn分类算法进行分类，尝试上述超参数调优算法过程。"
   ]
  },
  {
   "cell_type": "code",
   "execution_count": null,
   "metadata": {
    "jupyter": {
     "outputs_hidden": true
    }
   },
   "outputs": [],
   "source": [
    "# 随机森林\n",
    "from sklearn.ensemble import RandomForestClassifier\n",
    "# 支持向量机\n",
    "from sklearn.svm import SVC\n",
    "# K最近邻\n",
    "from sklearn.neighbors import KNeighborsClassifier\n",
    "\n",
    "rf_model = RandomForestClassifier()\n",
    "rf_param_grid = {'n_estimators': [50, 100, 200],\n",
    "                 'max_depth': [None, 10, 20],\n",
    "                 'min_samples_split': [2, 5, 10],\n",
    "                 'min_samples_leaf': [1, 2, 4]}\n",
    "\n",
    "# 使用 GridSearchCV 进行网格搜索交叉验证\n",
    "rf_grid_search = GridSearchCV(rf_model, rf_param_grid, cv=5)\n",
    "rf_grid_search.fit(X_train, y_train)\n",
    "\n",
    "rf_best_params = rf_grid_search.best_params_\n",
    "print(\"Random Forest Best Parameters:\", rf_best_params)\n",
    "rf_best_model = rf_grid_search.best_estimator_\n",
    "\n",
    "rf_accuracy = accuracy_score(y_test, rf_best_model.predict(X_test))\n",
    "print(\"Random Forest Accuracy on Test Set:\", rf_accuracy)\n",
    "\n",
    "svm_model = SVC()\n",
    "svm_param_grid = {'C': [0.1, 1, 10, 100],\n",
    "                  'kernel': ['linear', 'rbf', 'poly'],\n",
    "                  'gamma': ['scale', 'auto']}\n",
    "\n",
    "# 使用 GridSearchCV 进行网格搜索交叉验证\n",
    "svm_grid_search = GridSearchCV(svm_model, svm_param_grid, cv=5)\n",
    "svm_grid_search.fit(X_train, y_train)\n",
    "\n",
    "svm_best_params = svm_grid_search.best_params_\n",
    "print(\"\\nSVM Best Parameters:\", svm_best_params)\n",
    "\n",
    "svm_best_model = svm_grid_search.best_estimator_\n",
    "\n",
    "svm_accuracy = accuracy_score(y_test, svm_best_model.predict(X_test))\n",
    "print(\"SVM Accuracy on Test Set:\", svm_accuracy)\n",
    "\n",
    "\n",
    "\n",
    "knn_model = KNeighborsClassifier()\n",
    "knn_param_grid = {'n_neighbors': [3, 5, 7],\n",
    "                  'weights': ['uniform', 'distance'],\n",
    "                  'p': [1, 2]}\n",
    "\n",
    "knn_grid_search = GridSearchCV(knn_model, knn_param_grid, cv=5)\n",
    "knn_grid_search.fit(X_train, y_train)\n",
    "knn_best_params = knn_grid_search.best_params_\n",
    "print(\"\\nKNN Best Parameters:\", knn_best_params)\n",
    "knn_best_model = knn_grid_search.best_estimator_\n",
    "knn_accuracy = accuracy_score(y_test, knn_best_model.predict(X_test))\n",
    "print(\"KNN Accuracy on Test Set:\", knn_accuracy)"
   ]
  }
 ],
 "metadata": {
  "kernelspec": {
   "display_name": "taiji",
   "language": "python",
   "name": "taiji"
  },
  "language_info": {
   "codemirror_mode": {
    "name": "ipython",
    "version": 3
   },
   "file_extension": ".py",
   "mimetype": "text/x-python",
   "name": "python",
   "nbconvert_exporter": "python",
   "pygments_lexer": "ipython3",
   "version": "3.11.5"
  }
 },
 "nbformat": 4,
 "nbformat_minor": 4
}
