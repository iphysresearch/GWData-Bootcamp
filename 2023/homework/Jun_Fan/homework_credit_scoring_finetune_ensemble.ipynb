{
 "cells": [
  {
   "cell_type": "markdown",
   "metadata": {},
   "source": [
    "# 一起来打怪之 Credit Scoring 练习"
   ]
  },
  {
   "cell_type": "markdown",
   "metadata": {
    "jp-MarkdownHeadingCollapsed": true,
    "tags": []
   },
   "source": [
    "-------\n",
    "## >>>说明：\n",
    "### 1. 答题步骤：\n",
    "- 回答问题**请保留每一步**操作过程，请不要仅仅给出最后答案\n",
    "- 请养成代码注释的好习惯\n",
    "\n",
    "### 2. 解题思路：\n",
    "- 为方便大家准确理解题目，在习题实战中有所收获，本文档提供了解题思路提示\n",
    "- 解题思路**仅供参考**，鼓励原创解题方法\n",
    "- 为督促同学们自己思考，解题思路内容设置为**注释**，请注意查看\n",
    "\n",
    "### 3. 所用数据：\n",
    "- 问题使用了多个数据库，请注意导入每个数据库后都先**查看和了解数据的基本性质**，后面的问题不再一一提醒"
   ]
  },
  {
   "cell_type": "markdown",
   "metadata": {},
   "source": [
    "--------\n",
    "## 操作题"
   ]
  },
  {
   "cell_type": "markdown",
   "metadata": {},
   "source": [
    "### 信用卡欺诈项目"
   ]
  },
  {
   "cell_type": "markdown",
   "metadata": {},
   "source": [
    " #### 前期数据导入,预览及处理(此部分勿修改，涉及的数据文件无需复制移动)"
   ]
  },
  {
   "cell_type": "code",
   "execution_count": 64,
   "metadata": {
    "tags": []
   },
   "outputs": [
    {
     "data": {
      "text/html": [
       "<div>\n",
       "<style scoped>\n",
       "    .dataframe tbody tr th:only-of-type {\n",
       "        vertical-align: middle;\n",
       "    }\n",
       "\n",
       "    .dataframe tbody tr th {\n",
       "        vertical-align: top;\n",
       "    }\n",
       "\n",
       "    .dataframe thead th {\n",
       "        text-align: right;\n",
       "    }\n",
       "</style>\n",
       "<table border=\"1\" class=\"dataframe\">\n",
       "  <thead>\n",
       "    <tr style=\"text-align: right;\">\n",
       "      <th></th>\n",
       "      <th>SeriousDlqin2yrs</th>\n",
       "      <th>RevolvingUtilizationOfUnsecuredLines</th>\n",
       "      <th>age</th>\n",
       "      <th>NumberOfTime30-59DaysPastDueNotWorse</th>\n",
       "      <th>DebtRatio</th>\n",
       "      <th>MonthlyIncome</th>\n",
       "      <th>NumberOfOpenCreditLinesAndLoans</th>\n",
       "      <th>NumberOfTimes90DaysLate</th>\n",
       "      <th>NumberRealEstateLoansOrLines</th>\n",
       "      <th>NumberOfTime60-89DaysPastDueNotWorse</th>\n",
       "      <th>NumberOfDependents</th>\n",
       "    </tr>\n",
       "  </thead>\n",
       "  <tbody>\n",
       "    <tr>\n",
       "      <th>0</th>\n",
       "      <td>1</td>\n",
       "      <td>0.766127</td>\n",
       "      <td>45.0</td>\n",
       "      <td>2.0</td>\n",
       "      <td>0.802982</td>\n",
       "      <td>9120.0</td>\n",
       "      <td>13.0</td>\n",
       "      <td>0.0</td>\n",
       "      <td>6.0</td>\n",
       "      <td>0.0</td>\n",
       "      <td>2.0</td>\n",
       "    </tr>\n",
       "    <tr>\n",
       "      <th>1</th>\n",
       "      <td>0</td>\n",
       "      <td>0.957151</td>\n",
       "      <td>40.0</td>\n",
       "      <td>0.0</td>\n",
       "      <td>0.121876</td>\n",
       "      <td>2600.0</td>\n",
       "      <td>4.0</td>\n",
       "      <td>0.0</td>\n",
       "      <td>0.0</td>\n",
       "      <td>0.0</td>\n",
       "      <td>1.0</td>\n",
       "    </tr>\n",
       "    <tr>\n",
       "      <th>2</th>\n",
       "      <td>0</td>\n",
       "      <td>0.658180</td>\n",
       "      <td>38.0</td>\n",
       "      <td>1.0</td>\n",
       "      <td>0.085113</td>\n",
       "      <td>3042.0</td>\n",
       "      <td>2.0</td>\n",
       "      <td>1.0</td>\n",
       "      <td>0.0</td>\n",
       "      <td>0.0</td>\n",
       "      <td>0.0</td>\n",
       "    </tr>\n",
       "    <tr>\n",
       "      <th>3</th>\n",
       "      <td>0</td>\n",
       "      <td>0.233810</td>\n",
       "      <td>30.0</td>\n",
       "      <td>0.0</td>\n",
       "      <td>0.036050</td>\n",
       "      <td>3300.0</td>\n",
       "      <td>5.0</td>\n",
       "      <td>0.0</td>\n",
       "      <td>0.0</td>\n",
       "      <td>0.0</td>\n",
       "      <td>0.0</td>\n",
       "    </tr>\n",
       "    <tr>\n",
       "      <th>4</th>\n",
       "      <td>0</td>\n",
       "      <td>0.907239</td>\n",
       "      <td>49.0</td>\n",
       "      <td>1.0</td>\n",
       "      <td>0.024926</td>\n",
       "      <td>63588.0</td>\n",
       "      <td>7.0</td>\n",
       "      <td>0.0</td>\n",
       "      <td>1.0</td>\n",
       "      <td>0.0</td>\n",
       "      <td>0.0</td>\n",
       "    </tr>\n",
       "  </tbody>\n",
       "</table>\n",
       "</div>"
      ],
      "text/plain": [
       "   SeriousDlqin2yrs  RevolvingUtilizationOfUnsecuredLines   age  \\\n",
       "0                 1                              0.766127  45.0   \n",
       "1                 0                              0.957151  40.0   \n",
       "2                 0                              0.658180  38.0   \n",
       "3                 0                              0.233810  30.0   \n",
       "4                 0                              0.907239  49.0   \n",
       "\n",
       "   NumberOfTime30-59DaysPastDueNotWorse  DebtRatio  MonthlyIncome  \\\n",
       "0                                   2.0   0.802982         9120.0   \n",
       "1                                   0.0   0.121876         2600.0   \n",
       "2                                   1.0   0.085113         3042.0   \n",
       "3                                   0.0   0.036050         3300.0   \n",
       "4                                   1.0   0.024926        63588.0   \n",
       "\n",
       "   NumberOfOpenCreditLinesAndLoans  NumberOfTimes90DaysLate  \\\n",
       "0                             13.0                      0.0   \n",
       "1                              4.0                      0.0   \n",
       "2                              2.0                      1.0   \n",
       "3                              5.0                      0.0   \n",
       "4                              7.0                      0.0   \n",
       "\n",
       "   NumberRealEstateLoansOrLines  NumberOfTime60-89DaysPastDueNotWorse  \\\n",
       "0                           6.0                                   0.0   \n",
       "1                           0.0                                   0.0   \n",
       "2                           0.0                                   0.0   \n",
       "3                           0.0                                   0.0   \n",
       "4                           1.0                                   0.0   \n",
       "\n",
       "   NumberOfDependents  \n",
       "0                 2.0  \n",
       "1                 1.0  \n",
       "2                 0.0  \n",
       "3                 0.0  \n",
       "4                 0.0  "
      ]
     },
     "execution_count": 64,
     "metadata": {},
     "output_type": "execute_result"
    }
   ],
   "source": [
    "import warnings\n",
    "warnings.filterwarnings(\"ignore\")\n",
    "import pandas as pd\n",
    "import numpy as np\n",
    "pd.set_option('display.max_columns', 500)\n",
    "import zipfile\n",
    "with zipfile.ZipFile('KaggleCredit2.csv.zip', 'r') as z:\n",
    "    f = z.open('KaggleCredit2.csv')\n",
    "    data = pd.read_csv(f, index_col=0)\n",
    "data.head()"
   ]
  },
  {
   "cell_type": "code",
   "execution_count": 65,
   "metadata": {
    "tags": []
   },
   "outputs": [
    {
     "data": {
      "text/plain": [
       "(112915, 11)"
      ]
     },
     "execution_count": 65,
     "metadata": {},
     "output_type": "execute_result"
    }
   ],
   "source": [
    "# 检查数据维度\n",
    "data.shape"
   ]
  },
  {
   "cell_type": "code",
   "execution_count": 66,
   "metadata": {
    "tags": []
   },
   "outputs": [
    {
     "data": {
      "text/plain": [
       "SeriousDlqin2yrs                           0\n",
       "RevolvingUtilizationOfUnsecuredLines       0\n",
       "age                                     4267\n",
       "NumberOfTime30-59DaysPastDueNotWorse       0\n",
       "DebtRatio                                  0\n",
       "MonthlyIncome                              0\n",
       "NumberOfOpenCreditLinesAndLoans            0\n",
       "NumberOfTimes90DaysLate                    0\n",
       "NumberRealEstateLoansOrLines               0\n",
       "NumberOfTime60-89DaysPastDueNotWorse       0\n",
       "NumberOfDependents                      4267\n",
       "dtype: int64"
      ]
     },
     "execution_count": 66,
     "metadata": {},
     "output_type": "execute_result"
    }
   ],
   "source": [
    "# 查看数据缺失值情况\n",
    "data.isnull().sum(axis=0)"
   ]
  },
  {
   "cell_type": "code",
   "execution_count": 67,
   "metadata": {
    "tags": []
   },
   "outputs": [],
   "source": [
    "# 清除缺失值\n",
    "data.dropna(inplace=True)\n",
    "data.shapey = data['SeriousDlqin2yrs']\n",
    "X = data.drop('SeriousDlqin2yrs', axis=1)"
   ]
  },
  {
   "cell_type": "code",
   "execution_count": 68,
   "metadata": {
    "tags": []
   },
   "outputs": [
    {
     "data": {
      "text/plain": [
       "0.06742876076872101"
      ]
     },
     "execution_count": 68,
     "metadata": {},
     "output_type": "execute_result"
    }
   ],
   "source": [
    "# 取出对应的X和y\n",
    "y = data['SeriousDlqin2yrs']\n",
    "X = data.drop('SeriousDlqin2yrs', axis=1)\n",
    "# 查看平均的欺诈率\n",
    "y.mean()"
   ]
  },
  {
   "cell_type": "markdown",
   "metadata": {},
   "source": [
    "### 以下为操作题"
   ]
  },
  {
   "cell_type": "markdown",
   "metadata": {},
   "source": [
    "#### 1.把数据切分成训练集和测试集"
   ]
  },
  {
   "cell_type": "code",
   "execution_count": 69,
   "metadata": {
    "tags": []
   },
   "outputs": [
    {
     "data": {
      "text/plain": [
       "(81486, 10)"
      ]
     },
     "execution_count": 69,
     "metadata": {},
     "output_type": "execute_result"
    }
   ],
   "source": [
    "# 提示：查看train_test_split函数\n",
    "import matplotlib as plt\n",
    "import seaborn as sns\n",
    "from sklearn.model_selection import train_test_split\n",
    "x_train,x_test,y_train,y_test=train_test_split(X, y, \n",
    "                                               test_size=.25, \n",
    "                                               shuffle=True, \n",
    "                                               random_state=np.random.seed(1234))\n",
    "x_train.shape"
   ]
  },
  {
   "cell_type": "code",
   "execution_count": 70,
   "metadata": {
    "tags": []
   },
   "outputs": [
    {
     "name": "stdout",
     "output_type": "stream",
     "text": [
      "0    101322\n",
      "1      7326\n",
      "Name: SeriousDlqin2yrs, dtype: int64\n"
     ]
    },
    {
     "data": {
      "text/plain": [
       "<AxesSubplot:>"
      ]
     },
     "execution_count": 70,
     "metadata": {},
     "output_type": "execute_result"
    },
    {
     "data": {
      "image/png": "[encoded data removed]",
      "text/plain": [
       "<Figure size 640x480 with 1 Axes>"
      ]
     },
     "metadata": {},
     "output_type": "display_data"
    }
   ],
   "source": [
    "# 通过SeriousDlqin2yrs字段查看正负样本分布情况\n",
    "# 提示：value_counts\n",
    "print(data['SeriousDlqin2yrs'].value_counts())\n",
    "\n",
    "# 绘制两种类别的柱状图\n",
    "# 提示：dataframe可以直接plot(kind='bar')\n",
    "num_0,num_1=data['SeriousDlqin2yrs'].value_counts()\n",
    "sns.barplot(data,y=[num_0,num_1],x=data['SeriousDlqin2yrs'].unique())\n"
   ]
  },
  {
   "cell_type": "markdown",
   "metadata": {},
   "source": [
    "#### 2.数据预处理之离散化"
   ]
  },
  {
   "cell_type": "code",
   "execution_count": 71,
   "metadata": {
    "tags": []
   },
   "outputs": [
    {
     "data": {
      "text/plain": [
       "RevolvingUtilizationOfUnsecuredLines     float64\n",
       "age                                      float64\n",
       "NumberOfTime30-59DaysPastDueNotWorse     float64\n",
       "DebtRatio                                float64\n",
       "MonthlyIncome                            float64\n",
       "NumberOfOpenCreditLinesAndLoans          float64\n",
       "NumberOfTimes90DaysLate                  float64\n",
       "NumberRealEstateLoansOrLines             float64\n",
       "NumberOfTime60-89DaysPastDueNotWorse     float64\n",
       "NumberOfDependents                       float64\n",
       "age_label                               category\n",
       "dtype: object"
      ]
     },
     "execution_count": 71,
     "metadata": {},
     "output_type": "execute_result"
    },
    {
     "data": {
      "image/png": "[encoded data removed]",
      "text/plain": [
       "<Figure size 640x480 with 1 Axes>"
      ]
     },
     "metadata": {},
     "output_type": "display_data"
    }
   ],
   "source": [
    "# 请对年龄按照3岁一个区间进行离散化\n",
    "# 提示：可以先计算出分桶边界，再基于pandas的cut函数进行离散化(分箱、分桶)\n",
    "#画出分布情况\n",
    "sns.histplot(x_train['age'],bins='auto')\n",
    "sns.histplot(x_test['age'],bins='auto')\n",
    "#计算边界\n",
    "low=data['age'].min()\n",
    "upp=data['age'].max()\n",
    "block=np.arange(low,upp,3,dtype=np.int8)\n",
    "#进行分桶\n",
    "x_train['age_label']=pd.cut(x_train['age'],bins=block)\n",
    "x_test['age_label']=pd.cut(x_test['age'],bins=block)\n",
    "x_test.dtypes"
   ]
  },
  {
   "cell_type": "markdown",
   "metadata": {},
   "source": [
    "#### 3.数据预处理之独热向量编码"
   ]
  },
  {
   "cell_type": "code",
   "execution_count": 77,
   "metadata": {
    "tags": []
   },
   "outputs": [
    {
     "name": "stdout",
     "output_type": "stream",
     "text": [
      "(81486, 10)\n"
     ]
    }
   ],
   "source": [
    "# 请对上述分箱后的年龄段进行独热向量编码\n",
    "# 提示：使用pandas的get_dummies完成\n",
    "#这里一开始把年龄段并入原始数据，由于年龄就是一个很好特征，第二遍跑就没把它扔进去，若想并入对应把下面注释去掉并把最后两行注释掉。\n",
    "#对age_label列进行独热向量编码\n",
    "age_label_vt=pd.get_dummies(x_train['age_label'], columns=x_train['age_label'].unique())\n",
    "#合并到原来数据集中\n",
    "#x_train=pd.concat([x_train,age_label_vt],axis=1)\n",
    "#x_train=x_train.drop(['age_label','age'],axis=1)\n",
    "print(x_train.shape)\n",
    "#对测试集同样操作\n",
    "age_label_vt=pd.get_dummies(x_test['age_label'], columns=x_test['age_label'].unique())\n",
    "age_label_vt.head()\n",
    "#x_test=pd.concat([x_test,age_label_vt],axis=1)\n",
    "#x_test=x_test.drop(['age_label','age'],axis=1)\n",
    "x_train=x_train.drop(['age_label'],axis=1)\n",
    "x_test=x_test.drop(['age_label'],axis=1)"
   ]
  },
  {
   "cell_type": "markdown",
   "metadata": {
    "tags": []
   },
   "source": [
    "#### 4.数据预处理之幅度缩放"
   ]
  },
  {
   "cell_type": "code",
   "execution_count": 78,
   "metadata": {
    "tags": []
   },
   "outputs": [
    {
     "data": {
      "text/plain": [
       "(81486, 9)"
      ]
     },
     "execution_count": 78,
     "metadata": {},
     "output_type": "execute_result"
    }
   ],
   "source": [
    "# 请对连续值特征进行幅度缩放\n",
    "# 提示：可以使用StandardScaler等幅度缩放器进行处理\n",
    "from sklearn.preprocessing import StandardScaler\n",
    "sc=StandardScaler()\n",
    "sc.fit(x_train)\n",
    "x_train_std=sc.transform(x_train)\n",
    "x_test_std=sc.transform(x_test)\n",
    "x_train_std.shape"
   ]
  },
  {
   "cell_type": "markdown",
   "metadata": {},
   "source": [
    "#### 5.使用logistic regression建模，并且输出一下系数，分析重要度。   "
   ]
  },
  {
   "cell_type": "code",
   "execution_count": 79,
   "metadata": {
    "tags": []
   },
   "outputs": [
    {
     "name": "stdout",
     "output_type": "stream",
     "text": [
      "[[-0.01389386  1.11481892  0.39271202 -0.18026142 -0.10258655  0.22288693\n",
      "  -0.39130612 -1.20356629  0.14438634]]\n"
     ]
    },
    {
     "data": {
      "text/plain": [
       "<AxesSubplot:>"
      ]
     },
     "execution_count": 79,
     "metadata": {},
     "output_type": "execute_result"
    },
    {
     "data": {
      "image/png": "[encoded data removed]",
      "text/plain": [
       "<Figure size 640x480 with 1 Axes>"
      ]
     },
     "metadata": {},
     "output_type": "display_data"
    }
   ],
   "source": [
    "# 提示：fit建模，建完模之后可以取出coef属性\n",
    "from sklearn.linear_model import LogisticRegression\n",
    "#logistic regression建模\n",
    "LG=LogisticRegression(C=10.0, \n",
    "                       max_iter=10,\n",
    "                       random_state=np.random.seed())\n",
    "LG.fit(x_train_std,y_train)\n",
    "#输出预测结果\n",
    "y_LG_pred=LG.predict(x_test)\n",
    "\n",
    "print(LG.coef_)\n",
    "sns.barplot(x=np.arange(len(LG.coef_[0])),y=np.abs(LG.coef_[0]))"
   ]
  },
  {
   "cell_type": "markdown",
   "metadata": {},
   "source": [
    "#### 6.使用网格搜索交叉验证进行调参\n",
    "调整penalty和C参数，其中penalty候选为\"l1\"和\"l2\"，C的候选为[1,10,100,500]"
   ]
  },
  {
   "cell_type": "code",
   "execution_count": 80,
   "metadata": {
    "tags": []
   },
   "outputs": [],
   "source": [
    "# 提示：先按照上面要求准备好网格字典，再使用GridSearchCV进行调参\n",
    "from sklearn.model_selection import GridSearchCV\n",
    "#准备网格字典\n",
    "param_grid = {'C':[1,10,100,500],\n",
    "              'penalty':['l1','l2']}"
   ]
  },
  {
   "cell_type": "code",
   "execution_count": 81,
   "metadata": {
    "tags": []
   },
   "outputs": [
    {
     "name": "stdout",
     "output_type": "stream",
     "text": [
      "best cross-validation accuracy: 0.9343445506974841\n",
      "test set score:  0.9305279434504087\n",
      "best parameters:  {'C': 10, 'penalty': 'l2'}\n"
     ]
    }
   ],
   "source": [
    "# 输出最好的超参数\n",
    "# 输出最好的模型\n",
    "\n",
    "#创建网格实例\n",
    "grid = GridSearchCV(LogisticRegression(), param_grid=param_grid, cv=5)\n",
    "grid.fit(x_train_std,y_train)\n",
    "print(\"best cross-validation accuracy:\", grid.best_score_)\n",
    "print(\"test set score: \", grid.score(x_test_std, y_test))\n",
    "print(\"best parameters: \", grid.best_params_)\n"
   ]
  },
  {
   "cell_type": "markdown",
   "metadata": {},
   "source": [
    "#### 7.在测试集上进行预测，计算 查准率/查全率/auc/混淆矩阵/f1值 等测试指标"
   ]
  },
  {
   "cell_type": "code",
   "execution_count": 82,
   "metadata": {
    "tags": []
   },
   "outputs": [
    {
     "name": "stdout",
     "output_type": "stream",
     "text": [
      "confusion_matrix: [[25238     1]\n",
      " [ 1923     0]]\n",
      "test_Accuracy: 0.93\n",
      "precision_score: 0.00\n",
      "recall_score: 0.00\n",
      "f1_value_score: 0.00\n",
      "roc_auc_score: 0.50\n"
     ]
    },
    {
     "data": {
      "text/plain": [
       "<sklearn.metrics._plot.confusion_matrix.ConfusionMatrixDisplay at 0x7f830867ae90>"
      ]
     },
     "execution_count": 82,
     "metadata": {},
     "output_type": "execute_result"
    },
    {
     "data": {
      "image/png": "[encoded data removed]",
      "text/plain": [
       "<Figure size 640x480 with 2 Axes>"
      ]
     },
     "metadata": {},
     "output_type": "display_data"
    }
   ],
   "source": [
    "# 提示：在测试集上预测可以使用predict\n",
    "# 提示：各种指标可以在sklearn.metrics中查到各种评估指标，分别是accuracy_score、recall_score、auc、confusion_matrix、f1_score\n",
    "\n",
    "from sklearn.metrics import confusion_matrix,ConfusionMatrixDisplay,recall_score,precision_score,accuracy_score,f1_score,roc_auc_score\n",
    "#将上面得到的超参数代入重新训练模型\n",
    "LG2=LogisticRegression(penalty='l2',\n",
    "                       C=10.0, \n",
    "                       max_iter=10,\n",
    "                       random_state=np.random.seed())\n",
    "LG2.fit(x_train_std,y_train)\n",
    "#输出预测结果\n",
    "y_LG_pred=LG2.predict(x_test)\n",
    "#计算混淆矩阵\n",
    "cm = confusion_matrix(y_test, y_LG_pred , labels=LG.classes_)\n",
    "#显示各种评估指标值\n",
    "print(f'confusion_matrix: {cm}')\n",
    "print(f'test_Accuracy: {accuracy_score(y_test, y_LG_pred):.2f}')\n",
    "print(f'precision_score: {precision_score(y_test,y_LG_pred):.2f}')\n",
    "print(f'recall_score: {recall_score(y_test, y_LG_pred):.2f}')\n",
    "print(f'f1_value_score: {f1_score(y_test, y_LG_pred):.2f}')\n",
    "print(f'roc_auc_score: {roc_auc_score(y_test, y_LG_pred):.2f}')\n",
    "#可视化混淆矩阵\n",
    "dis_LG = ConfusionMatrixDisplay(confusion_matrix=cm,\n",
    "                               display_labels=LG.classes_)\n",
    "dis_LG.plot()"
   ]
  },
  {
   "cell_type": "markdown",
   "metadata": {},
   "source": [
    "#### 8.更多优化\n",
    "银行通常会有更严格的要求，因为欺诈带来的后果通常比较严重，一般我们会调整模型的标准。   \n",
    "\n",
    "比如在logistic regression当中，一般我们的概率判定边界为0.5，但是我们可以把阈值设定低一些，来提高模型的“敏感度”   \n",
    "试试看把阈值设定为0.3，再看看这个时候的混淆矩阵等评估指标。"
   ]
  },
  {
   "cell_type": "code",
   "execution_count": 83,
   "metadata": {
    "tags": []
   },
   "outputs": [
    {
     "name": "stdout",
     "output_type": "stream",
     "text": [
      "threshold=0.1_test_Accuracy: 0.93\n",
      "threshold=0.1_confusion_matrix: [[25238     1]\n",
      " [ 1923     0]]\n",
      "threshold=0.2_test_Accuracy: 0.93\n",
      "threshold=0.2_confusion_matrix: [[25238     1]\n",
      " [ 1923     0]]\n",
      "threshold=0.3_test_Accuracy: 0.93\n",
      "threshold=0.3_confusion_matrix: [[25238     1]\n",
      " [ 1923     0]]\n",
      "threshold=0.4_test_Accuracy: 0.93\n",
      "threshold=0.4_confusion_matrix: [[25238     1]\n",
      " [ 1923     0]]\n",
      "threshold=0.5_test_Accuracy: 0.93\n",
      "threshold=0.5_confusion_matrix: [[25238     1]\n",
      " [ 1923     0]]\n",
      "threshold=0.6_test_Accuracy: 0.93\n",
      "threshold=0.6_confusion_matrix: [[25238     1]\n",
      " [ 1923     0]]\n",
      "threshold=0.7_test_Accuracy: 0.93\n",
      "threshold=0.7_confusion_matrix: [[25238     1]\n",
      " [ 1923     0]]\n",
      "threshold=0.8_test_Accuracy: 0.93\n",
      "threshold=0.8_confusion_matrix: [[25238     1]\n",
      " [ 1923     0]]\n",
      "threshold=0.9_test_Accuracy: 0.93\n",
      "threshold=0.9_confusion_matrix: [[25238     1]\n",
      " [ 1923     0]]\n"
     ]
    }
   ],
   "source": [
    "# 提示：thresholds = [0.1,0.2,0.3,0.4,0.5,0.6,0.7,0.8,0.9]\n",
    "# 根据predict_proba的结果和threshold的比较确定结果，再评估各种结果指标\n",
    "\n",
    "thresholds = [0.1,0.2,0.3,0.4,0.5,0.6,0.7,0.8,0.9]\n",
    "for th in thresholds:\n",
    "    y_LG_pred=LG2.predict_proba(x_test)\n",
    "    y_LG_pred=y_LG_pred>=th\n",
    "    cm = confusion_matrix(y_test, y_LG_pred.argmax(axis=1), labels=LG.classes_)\n",
    "    print(f'threshold={th}_test_Accuracy: {accuracy_score(y_test, y_LG_pred.argmax(axis=1)):.2f}')\n",
    "    print(f'threshold={th}_confusion_matrix: {cm}')"
   ]
  },
  {
   "cell_type": "markdown",
   "metadata": {},
   "source": [
    "#### 9.尝试对不同特征的重要度进行排序，通过特征选择的方式，对特征进行筛选。并重新建模，观察此时的模型准确率等评估指标。"
   ]
  },
  {
   "cell_type": "code",
   "execution_count": 84,
   "metadata": {
    "tags": []
   },
   "outputs": [
    {
     "data": {
      "image/png": "[encoded data removed]",
      "text/plain": [
       "<Figure size 640x480 with 1 Axes>"
      ]
     },
     "metadata": {},
     "output_type": "display_data"
    }
   ],
   "source": [
    "# 可以根据逻辑回归的系数绝对值大小进行排序，也可以基于树模型的特征重要度进行排序\n",
    "# 特征选择可以使用RFE或者selectFromModel\n",
    "from sklearn.ensemble import RandomForestClassifier\n",
    "from sklearn.feature_selection import SelectFromModel\n",
    "forest = RandomForestClassifier(criterion='entropy', \n",
    "                                n_estimators=10,\n",
    "                                random_state=1,\n",
    "                                n_jobs=2)\n",
    "forest.fit(x_train, y_train)\n",
    "importances = forest.feature_importances_\n",
    "indices = np.argsort(importances)[::-1]\n",
    "x_label=[]\n",
    "for i in range(len(indices)):\n",
    "    x_label.append(str(indices[i]))\n",
    "\n",
    "sns.barplot(x=x_label,y=np.sort(importances)[::-1])\n",
    "selector = SelectFromModel(estimator=forest,prefit=True)\n",
    "#print(selector.get_support())\n",
    "\n"
   ]
  },
  {
   "cell_type": "code",
   "execution_count": 85,
   "metadata": {},
   "outputs": [
    {
     "name": "stdout",
     "output_type": "stream",
     "text": [
      "confusion_matrix: [[24989   250]\n",
      " [ 1810   113]]\n",
      "test_Accuracy: 0.92\n",
      "precision_score: 0.31\n",
      "recall_score: 0.06\n",
      "f1_value_score: 0.10\n",
      "roc_auc_score: 0.52\n"
     ]
    },
    {
     "data": {
      "text/plain": [
       "<sklearn.metrics._plot.confusion_matrix.ConfusionMatrixDisplay at 0x7f83081ac450>"
      ]
     },
     "execution_count": 85,
     "metadata": {},
     "output_type": "execute_result"
    },
    {
     "data": {
      "image/png": "[encoded data removed]",
      "text/plain": [
       "<Figure size 640x480 with 2 Axes>"
      ]
     },
     "metadata": {},
     "output_type": "display_data"
    }
   ],
   "source": [
    "x_train2=x_train[:][x_train.keys()[selector.get_support().T]]\n",
    "x_test2=x_test[:][x_test.keys()[selector.get_support().T]]\n",
    "sc=StandardScaler()\n",
    "sc.fit(x_train2)\n",
    "x_train_std2=sc.transform(x_train2)\n",
    "x_test_std2=sc.transform(x_test2)\n",
    "forest = RandomForestClassifier(criterion='entropy', \n",
    "                                n_estimators=10,\n",
    "                                random_state=1,\n",
    "                                n_jobs=2)\n",
    "forest.fit(x_train2, y_train)\n",
    "y_forest_pred=forest.predict(x_test2)\n",
    "#计算混淆矩阵\n",
    "cm = confusion_matrix(y_test, y_forest_pred , labels=forest.classes_)\n",
    "\n",
    "print(f'confusion_matrix: {cm}')\n",
    "print(f'test_Accuracy: {accuracy_score(y_test, y_forest_pred):.2f}')\n",
    "print(f'precision_score: {precision_score(y_test,y_forest_pred):.2f}')\n",
    "print(f'recall_score: {recall_score(y_test, y_forest_pred):.2f}')\n",
    "print(f'f1_value_score: {f1_score(y_test, y_forest_pred):.2f}')\n",
    "print(f'roc_auc_score: {roc_auc_score(y_test, y_forest_pred):.2f}')\n",
    "#可视化混淆矩阵\n",
    "dis_LG = ConfusionMatrixDisplay(confusion_matrix=cm,\n",
    "                               display_labels=forest.classes_)\n",
    "dis_LG.plot()"
   ]
  },
  {
   "cell_type": "markdown",
   "metadata": {},
   "source": [
    "#### 10.其他模型算法尝试\n",
    "使用RandomForestClassifier/SVM/KNN等sklearn分类算法进行分类，尝试上述超参数调优算法过程。"
   ]
  },
  {
   "cell_type": "code",
   "execution_count": 86,
   "metadata": {
    "tags": []
   },
   "outputs": [
    {
     "name": "stdout",
     "output_type": "stream",
     "text": [
      "best cross-validation accuracy: 0.9365780687761559\n",
      "test set score:  0.9324791988807893\n",
      "best parameters:  {'RandomForest__max_depth': 7, 'RandomForest__n_estimators': 8}\n"
     ]
    },
    {
     "data": {
      "text/plain": [
       "<sklearn.metrics._plot.confusion_matrix.ConfusionMatrixDisplay at 0x7f8303611810>"
      ]
     },
     "execution_count": 86,
     "metadata": {},
     "output_type": "execute_result"
    },
    {
     "data": {
      "image/png": "[encoded data removed]",
      "text/plain": [
       "<Figure size 640x480 with 2 Axes>"
      ]
     },
     "metadata": {},
     "output_type": "display_data"
    }
   ],
   "source": [
    "# 随机森林\n",
    "#下面模型都没有剪特征\n",
    "from sklearn.pipeline import Pipeline\n",
    "from sklearn.ensemble import RandomForestClassifier\n",
    "from sklearn.preprocessing import MinMaxScaler\n",
    "\n",
    "#用pipline将标准化操作与随机森林模型组合起来\n",
    "pipe = Pipeline([(\"scaler\", MinMaxScaler()), (\"RandomForest\", RandomForestClassifier())])\n",
    "#给出网格交叉验证的超参数及它们的取值（由于时间关系，这里只简单计算了一下。）\n",
    "param_grid = {'RandomForest__n_estimators': [7,8,9],'RandomForest__max_depth':[5,6,7]}\n",
    "#网格搜索\n",
    "grid2 = GridSearchCV(pipe, param_grid=param_grid, cv=5)\n",
    "grid2.fit(x_train, y_train)\n",
    "#给出预测\n",
    "y_froest_pred=grid2.predict(x_test)\n",
    "#求出混淆矩阵\n",
    "cm2 = confusion_matrix(y_test, y_froest_pred )\n",
    "dis_forest = ConfusionMatrixDisplay(confusion_matrix=cm2)\n",
    "#显示具体参数\n",
    "print(\"best cross-validation accuracy:\", grid2.best_score_)\n",
    "print(\"test set score: \", grid2.score(x_test, y_test))\n",
    "print(\"best parameters: \", grid2.best_params_)\n",
    "dis_forest.plot()"
   ]
  },
  {
   "cell_type": "code",
   "execution_count": 88,
   "metadata": {},
   "outputs": [
    {
     "name": "stdout",
     "output_type": "stream",
     "text": [
      "best cross-validation accuracy: 0.9317\n",
      "test set score:  0.9306383918709963\n",
      "best parameters:  {'svm__C': 100, 'svm__kernel': 'rbf'}\n"
     ]
    },
    {
     "data": {
      "text/plain": [
       "<sklearn.metrics._plot.confusion_matrix.ConfusionMatrixDisplay at 0x7f831b44df50>"
      ]
     },
     "execution_count": 88,
     "metadata": {},
     "output_type": "execute_result"
    },
    {
     "data": {
      "image/png": "[encoded data removed]",
      "text/plain": [
       "<Figure size 640x480 with 2 Axes>"
      ]
     },
     "metadata": {},
     "output_type": "display_data"
    }
   ],
   "source": [
    "\n",
    "# 支持向量机\n",
    "from sklearn.svm import SVC\n",
    "#用pipline将标准化操作与支持向量机模型组合起来\n",
    "pipe = Pipeline([(\"scaler\", MinMaxScaler()), (\"svm\", SVC())])\n",
    "#给出网格交叉验证的超参数及它们的取值\n",
    "param_grid = {'svm__kernel': ['linear','rbf'],'svm__C':[0.1,1,10,100]}\n",
    "#网格搜索\n",
    "grid_svm = GridSearchCV(pipe, param_grid=param_grid, cv=5)\n",
    "grid_svm.fit(x_train[:10000], y_train[:10000])\n",
    "#给出预测\n",
    "y_svm_pred=grid_svm.predict(x_test)\n",
    "#求出混淆矩阵\n",
    "cm_svm = confusion_matrix(y_test, y_svm_pred)\n",
    "dis_svm = ConfusionMatrixDisplay(confusion_matrix=cm_svm)\n",
    "#显示具体参数\n",
    "print(\"best cross-validation accuracy:\", grid_svm.best_score_)\n",
    "print(\"test set score: \", grid_svm.score(x_test, y_test))\n",
    "print(\"best parameters: \", grid_svm.best_params_)\n",
    "dis_svm.plot()\n"
   ]
  },
  {
   "cell_type": "code",
   "execution_count": 89,
   "metadata": {},
   "outputs": [
    {
     "name": "stdout",
     "output_type": "stream",
     "text": [
      "best cross-validation accuracy: 0.9305\n",
      "test set score:  0.9290184817023783\n",
      "best parameters:  {'knn__n_neighbors': 8, 'knn__p': 1}\n"
     ]
    },
    {
     "data": {
      "text/plain": [
       "<sklearn.metrics._plot.confusion_matrix.ConfusionMatrixDisplay at 0x7f830346aa10>"
      ]
     },
     "execution_count": 89,
     "metadata": {},
     "output_type": "execute_result"
    },
    {
     "data": {
      "image/png": "[encoded data removed]",
      "text/plain": [
       "<Figure size 640x480 with 2 Axes>"
      ]
     },
     "metadata": {},
     "output_type": "display_data"
    }
   ],
   "source": [
    "# K最近邻\n",
    "from sklearn.neighbors import KNeighborsClassifier\n",
    "#用pipline将标准化操作与 K最近邻组合起来\n",
    "pipe = Pipeline([(\"scaler\", MinMaxScaler()), (\"knn\", KNeighborsClassifier())])\n",
    "#给出网格交叉验证的超参数及它们的取值\n",
    "param_grid = {'knn__n_neighbors': [5,6,7,8],'knn__p':[1,2,3]}\n",
    "#网格搜索\n",
    "grid_knn = GridSearchCV(pipe, param_grid=param_grid, cv=5)\n",
    "grid_knn.fit(x_train[:10000], y_train[:10000])\n",
    "#给出预测\n",
    "y_knn_pred=grid_knn.predict(x_test)\n",
    "#求出混淆矩阵\n",
    "cm_knn = confusion_matrix(y_test, y_knn_pred)\n",
    "dis_knn = ConfusionMatrixDisplay(confusion_matrix=cm_svm)\n",
    "#显示具体参数\n",
    "print(\"best cross-validation accuracy:\", grid_knn.best_score_)\n",
    "print(\"test set score: \", grid_knn.score(x_test, y_test))\n",
    "print(\"best parameters: \", grid_knn.best_params_)\n",
    "dis_knn.plot()\n"
   ]
  },
  {
   "cell_type": "code",
   "execution_count": null,
   "metadata": {},
   "outputs": [],
   "source": []
  }
 ],
 "metadata": {
  "kernelspec": {
   "display_name": "python3.7(base)",
   "language": "python",
   "name": "python3"
  },
  "language_info": {
   "codemirror_mode": {
    "name": "ipython",
    "version": 3
   },
   "file_extension": ".py",
   "mimetype": "text/x-python",
   "name": "python",
   "nbconvert_exporter": "python",
   "pygments_lexer": "ipython3",
   "version": "3.7.11"
  }
 },
 "nbformat": 4,
 "nbformat_minor": 4
}
