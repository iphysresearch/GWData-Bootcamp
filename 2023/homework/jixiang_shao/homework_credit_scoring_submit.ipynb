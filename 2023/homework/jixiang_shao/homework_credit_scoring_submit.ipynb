{
 "cells": [
  {
   "cell_type": "markdown",
   "metadata": {},
   "source": [
    "# 一起来打怪之 Credit Scoring 练习"
   ]
  },
  {
   "cell_type": "markdown",
   "metadata": {},
   "source": [
    "---\n",
    "## 作业说明\n",
    "\n",
    "- 答题步骤：\n",
    "    - 回答问题**请保留每一步**操作过程，请不要仅仅给出最后答案\n",
    "    - 请养成代码注释的好习惯\n",
    "\n",
    "- 解题思路：\n",
    "    - 为方便大家准确理解题目，在习题实战中有所收获，本文档提供了解题思路提示\n",
    "    - 解题思路**仅供参考**，鼓励原创解题方法\n",
    "    - 为督促同学们自己思考，解题思路内容设置为**白色**，必要时请从冒号后拖动鼠标查看\n",
    "\n",
    "- 所用数据\n",
    "    - 请注意导入数据库后先**查看和了解数据的基本性质**，后面的问题不再一一提醒"
   ]
  },
  {
   "cell_type": "markdown",
   "metadata": {},
   "source": [
    "## machine learning for credit scoring\n",
    "\n",
    "\n",
    "Banks play a crucial role in market economies. They decide who can get finance and on what terms and can make or break investment decisions. For markets and society to function, individuals and companies need access to credit. \n",
    "\n",
    "Credit scoring algorithms, which make a guess at the probability of default, are the method banks use to determine whether or not a loan should be granted. This competition requires participants to improve on the state of the art in credit scoring, by predicting the probability that somebody will experience financial distress in the next two years. [Dataset](https://www.kaggle.com/c/GiveMeSomeCredit)\n",
    "\n",
    "Attribute Information:\n",
    "\n",
    "|Variable Name\t|\tDescription\t|\tType|\n",
    "|----|----|----|\n",
    "|SeriousDlqin2yrs\t|\tPerson experienced 90 days past due delinquency or worse \t|\tY/N|\n",
    "|RevolvingUtilizationOfUnsecuredLines\t|\tTotal balance on credit divided by the sum of credit limits\t|\tpercentage|\n",
    "|age\t|\tAge of borrower in years\t|\tinteger|\n",
    "|NumberOfTime30-59DaysPastDueNotWorse\t|\tNumber of times borrower has been 30-59 days past due |\tinteger|\n",
    "|DebtRatio\t|\tMonthly debt payments\t|\tpercentage|\n",
    "|MonthlyIncome\t|\tMonthly income\t|\treal|\n",
    "|NumberOfOpenCreditLinesAndLoans\t|\tNumber of Open loans |\tinteger|\n",
    "|NumberOfTimes90DaysLate\t|\tNumber of times borrower has been 90 days or more past due.\t|\tinteger|\n",
    "|NumberRealEstateLoansOrLines\t|\tNumber of mortgage and real estate loans\t|\tinteger|\n",
    "|NumberOfTime60-89DaysPastDueNotWorse\t|\tNumber of times borrower has been 60-89 days past due |integer|\n",
    "|NumberOfDependents\t|\tNumber of dependents in family\t|\tinteger|\n"
   ]
  },
  {
   "cell_type": "markdown",
   "metadata": {},
   "source": [
    "----------\n",
    "## Read the data into Pandas "
   ]
  },
  {
   "cell_type": "code",
   "execution_count": 1,
   "metadata": {
    "tags": []
   },
   "outputs": [
    {
     "data": {
      "text/html": [
       "<div>\n",
       "<style scoped>\n",
       "    .dataframe tbody tr th:only-of-type {\n",
       "        vertical-align: middle;\n",
       "    }\n",
       "\n",
       "    .dataframe tbody tr th {\n",
       "        vertical-align: top;\n",
       "    }\n",
       "\n",
       "    .dataframe thead th {\n",
       "        text-align: right;\n",
       "    }\n",
       "</style>\n",
       "<table border=\"1\" class=\"dataframe\">\n",
       "  <thead>\n",
       "    <tr style=\"text-align: right;\">\n",
       "      <th></th>\n",
       "      <th>SeriousDlqin2yrs</th>\n",
       "      <th>RevolvingUtilizationOfUnsecuredLines</th>\n",
       "      <th>age</th>\n",
       "      <th>NumberOfTime30-59DaysPastDueNotWorse</th>\n",
       "      <th>DebtRatio</th>\n",
       "      <th>MonthlyIncome</th>\n",
       "      <th>NumberOfOpenCreditLinesAndLoans</th>\n",
       "      <th>NumberOfTimes90DaysLate</th>\n",
       "      <th>NumberRealEstateLoansOrLines</th>\n",
       "      <th>NumberOfTime60-89DaysPastDueNotWorse</th>\n",
       "      <th>NumberOfDependents</th>\n",
       "    </tr>\n",
       "  </thead>\n",
       "  <tbody>\n",
       "    <tr>\n",
       "      <th>0</th>\n",
       "      <td>1</td>\n",
       "      <td>0.766127</td>\n",
       "      <td>45.0</td>\n",
       "      <td>2.0</td>\n",
       "      <td>0.802982</td>\n",
       "      <td>9120.0</td>\n",
       "      <td>13.0</td>\n",
       "      <td>0.0</td>\n",
       "      <td>6.0</td>\n",
       "      <td>0.0</td>\n",
       "      <td>2.0</td>\n",
       "    </tr>\n",
       "    <tr>\n",
       "      <th>1</th>\n",
       "      <td>0</td>\n",
       "      <td>0.957151</td>\n",
       "      <td>40.0</td>\n",
       "      <td>0.0</td>\n",
       "      <td>0.121876</td>\n",
       "      <td>2600.0</td>\n",
       "      <td>4.0</td>\n",
       "      <td>0.0</td>\n",
       "      <td>0.0</td>\n",
       "      <td>0.0</td>\n",
       "      <td>1.0</td>\n",
       "    </tr>\n",
       "    <tr>\n",
       "      <th>2</th>\n",
       "      <td>0</td>\n",
       "      <td>0.658180</td>\n",
       "      <td>38.0</td>\n",
       "      <td>1.0</td>\n",
       "      <td>0.085113</td>\n",
       "      <td>3042.0</td>\n",
       "      <td>2.0</td>\n",
       "      <td>1.0</td>\n",
       "      <td>0.0</td>\n",
       "      <td>0.0</td>\n",
       "      <td>0.0</td>\n",
       "    </tr>\n",
       "    <tr>\n",
       "      <th>3</th>\n",
       "      <td>0</td>\n",
       "      <td>0.233810</td>\n",
       "      <td>30.0</td>\n",
       "      <td>0.0</td>\n",
       "      <td>0.036050</td>\n",
       "      <td>3300.0</td>\n",
       "      <td>5.0</td>\n",
       "      <td>0.0</td>\n",
       "      <td>0.0</td>\n",
       "      <td>0.0</td>\n",
       "      <td>0.0</td>\n",
       "    </tr>\n",
       "    <tr>\n",
       "      <th>4</th>\n",
       "      <td>0</td>\n",
       "      <td>0.907239</td>\n",
       "      <td>49.0</td>\n",
       "      <td>1.0</td>\n",
       "      <td>0.024926</td>\n",
       "      <td>63588.0</td>\n",
       "      <td>7.0</td>\n",
       "      <td>0.0</td>\n",
       "      <td>1.0</td>\n",
       "      <td>0.0</td>\n",
       "      <td>0.0</td>\n",
       "    </tr>\n",
       "  </tbody>\n",
       "</table>\n",
       "</div>"
      ],
      "text/plain": [
       "   SeriousDlqin2yrs  RevolvingUtilizationOfUnsecuredLines   age  \\\n",
       "0                 1                              0.766127  45.0   \n",
       "1                 0                              0.957151  40.0   \n",
       "2                 0                              0.658180  38.0   \n",
       "3                 0                              0.233810  30.0   \n",
       "4                 0                              0.907239  49.0   \n",
       "\n",
       "   NumberOfTime30-59DaysPastDueNotWorse  DebtRatio  MonthlyIncome  \\\n",
       "0                                   2.0   0.802982         9120.0   \n",
       "1                                   0.0   0.121876         2600.0   \n",
       "2                                   1.0   0.085113         3042.0   \n",
       "3                                   0.0   0.036050         3300.0   \n",
       "4                                   1.0   0.024926        63588.0   \n",
       "\n",
       "   NumberOfOpenCreditLinesAndLoans  NumberOfTimes90DaysLate  \\\n",
       "0                             13.0                      0.0   \n",
       "1                              4.0                      0.0   \n",
       "2                              2.0                      1.0   \n",
       "3                              5.0                      0.0   \n",
       "4                              7.0                      0.0   \n",
       "\n",
       "   NumberRealEstateLoansOrLines  NumberOfTime60-89DaysPastDueNotWorse  \\\n",
       "0                           6.0                                   0.0   \n",
       "1                           0.0                                   0.0   \n",
       "2                           0.0                                   0.0   \n",
       "3                           0.0                                   0.0   \n",
       "4                           1.0                                   0.0   \n",
       "\n",
       "   NumberOfDependents  \n",
       "0                 2.0  \n",
       "1                 1.0  \n",
       "2                 0.0  \n",
       "3                 0.0  \n",
       "4                 0.0  "
      ]
     },
     "execution_count": 1,
     "metadata": {},
     "output_type": "execute_result"
    }
   ],
   "source": [
    "import pandas as pd #导入pandas\n",
    "pd.set_option('display.max_columns', 500) # 设置显示最大行数\n",
    "import zipfile #读入数据，并显示抬头\n",
    "with zipfile.ZipFile('KaggleCredit2.csv.zip', 'r') as z:\n",
    "    f = z.open('KaggleCredit2.csv')\n",
    "    data = pd.read_csv(f, index_col=0)\n",
    "data.head()"
   ]
  },
  {
   "cell_type": "code",
   "execution_count": 2,
   "metadata": {
    "tags": []
   },
   "outputs": [
    {
     "data": {
      "text/plain": [
       "(112915, 11)"
      ]
     },
     "execution_count": 2,
     "metadata": {},
     "output_type": "execute_result"
    }
   ],
   "source": [
    "data.shape"
   ]
  },
  {
   "cell_type": "markdown",
   "metadata": {},
   "source": [
    "------------\n",
    "## Drop na"
   ]
  },
  {
   "cell_type": "code",
   "execution_count": 3,
   "metadata": {
    "tags": []
   },
   "outputs": [
    {
     "data": {
      "text/plain": [
       "SeriousDlqin2yrs                           0\n",
       "RevolvingUtilizationOfUnsecuredLines       0\n",
       "age                                     4267\n",
       "NumberOfTime30-59DaysPastDueNotWorse       0\n",
       "DebtRatio                                  0\n",
       "MonthlyIncome                              0\n",
       "NumberOfOpenCreditLinesAndLoans            0\n",
       "NumberOfTimes90DaysLate                    0\n",
       "NumberRealEstateLoansOrLines               0\n",
       "NumberOfTime60-89DaysPastDueNotWorse       0\n",
       "NumberOfDependents                      4267\n",
       "dtype: int64"
      ]
     },
     "execution_count": 3,
     "metadata": {},
     "output_type": "execute_result"
    }
   ],
   "source": [
    "data.isnull().sum(axis=0)    # 这一步是去掉异常值"
   ]
  },
  {
   "cell_type": "code",
   "execution_count": 4,
   "metadata": {
    "tags": []
   },
   "outputs": [
    {
     "data": {
      "text/plain": [
       "(108648, 11)"
      ]
     },
     "execution_count": 4,
     "metadata": {},
     "output_type": "execute_result"
    }
   ],
   "source": [
    "data.dropna(inplace=True)  #去掉异常值\n",
    "data.shape"
   ]
  },
  {
   "cell_type": "markdown",
   "metadata": {},
   "source": [
    "---------\n",
    "## Create X and y"
   ]
  },
  {
   "cell_type": "code",
   "execution_count": 5,
   "metadata": {
    "tags": []
   },
   "outputs": [],
   "source": [
    "y = data['SeriousDlqin2yrs']\n",
    "X = data.drop('SeriousDlqin2yrs', axis=1)"
   ]
  },
  {
   "cell_type": "code",
   "execution_count": 6,
   "metadata": {
    "tags": []
   },
   "outputs": [
    {
     "data": {
      "text/plain": [
       "0.06742876076872101"
      ]
     },
     "execution_count": 6,
     "metadata": {},
     "output_type": "execute_result"
    }
   ],
   "source": [
    "y.mean()"
   ]
  },
  {
   "cell_type": "markdown",
   "metadata": {},
   "source": [
    "---\n",
    "## 练习1：把数据切分成训练集和测试集\n",
    "- 提示：<span style='color:white'>from sklearn.model_selection import train_test_split('Gender') </span>"
   ]
  },
  {
   "cell_type": "code",
   "execution_count": 7,
   "metadata": {
    "tags": []
   },
   "outputs": [
    {
     "data": {
      "text/plain": [
       "((76053, 10), (32595, 10), (76053,), (32595,))"
      ]
     },
     "execution_count": 7,
     "metadata": {},
     "output_type": "execute_result"
    }
   ],
   "source": [
    "## your code here 这里面0.3表示，30%的数据是测试集，剩下的是训练集\n",
    "from sklearn.model_selection import train_test_split\n",
    "X_train, X_test, y_train, y_test = train_test_split(X, y, test_size=0.3, shuffle=True, random_state=0)\n",
    "\n",
    "# 查看数据的维度\n",
    "X_train.shape, X_test.shape, y_train.shape, y_test.shape"
   ]
  },
  {
   "cell_type": "markdown",
   "metadata": {},
   "source": [
    "----\n",
    "## 练习2：使用logistic regression/决策树/SVM/KNN...等sklearn分类算法进行分类\n",
    "尝试查sklearn API了解模型参数含义，调整不同的参数"
   ]
  },
  {
   "cell_type": "code",
   "execution_count": 8,
   "metadata": {},
   "outputs": [
    {
     "data": {
      "text/plain": [
       "StandardScaler()"
      ]
     },
     "execution_count": 8,
     "metadata": {},
     "output_type": "execute_result"
    }
   ],
   "source": [
    "from sklearn.preprocessing import StandardScaler\n",
    "\n",
    "sc = StandardScaler()  # 对数据的每一列做了一个归一化,也就是标准化，是数据变成一个均值为0的数据集\n",
    "sc.fit(X_train)        # 方便收敛"
   ]
  },
  {
   "cell_type": "code",
   "execution_count": 9,
   "metadata": {},
   "outputs": [
    {
     "data": {
      "text/plain": [
       "array([6.24891681e+00, 5.13431291e+01, 3.82141401e-01, 3.05889733e-01,\n",
       "       6.96329249e+03, 8.67997318e+00, 2.15875771e-01, 1.01193904e+00,\n",
       "       1.91761009e-01, 8.57415224e-01])"
      ]
     },
     "execution_count": 9,
     "metadata": {},
     "output_type": "execute_result"
    }
   ],
   "source": [
    "sc.mean_"
   ]
  },
  {
   "cell_type": "code",
   "execution_count": 10,
   "metadata": {},
   "outputs": [
    {
     "data": {
      "text/plain": [
       "array([2.73361312e+02, 1.44369533e+01, 3.57454381e+00, 2.22787954e-01,\n",
       "       1.58054741e+04, 5.12814227e+00, 3.54201626e+00, 1.07201391e+00,\n",
       "       3.52622942e+00, 1.15264795e+00])"
      ]
     },
     "execution_count": 10,
     "metadata": {},
     "output_type": "execute_result"
    }
   ],
   "source": [
    "sc.scale_"
   ]
  },
  {
   "cell_type": "code",
   "execution_count": 11,
   "metadata": {},
   "outputs": [],
   "source": [
    "# 标准化\n",
    "X_train_std = sc.transform(X_train)\n",
    "X_test_std = sc.transform(X_test)"
   ]
  },
  {
   "cell_type": "code",
   "execution_count": 12,
   "metadata": {},
   "outputs": [
    {
     "data": {
      "text/plain": [
       "(RevolvingUtilizationOfUnsecuredLines       6.248917\n",
       " age                                       51.343129\n",
       " NumberOfTime30-59DaysPastDueNotWorse       0.382141\n",
       " DebtRatio                                  0.305890\n",
       " MonthlyIncome                           6963.292493\n",
       " NumberOfOpenCreditLinesAndLoans            8.679973\n",
       " NumberOfTimes90DaysLate                    0.215876\n",
       " NumberRealEstateLoansOrLines               1.011939\n",
       " NumberOfTime60-89DaysPastDueNotWorse       0.191761\n",
       " NumberOfDependents                         0.857415\n",
       " dtype: float64,\n",
       " RevolvingUtilizationOfUnsecuredLines      273.361312\n",
       " age                                        14.436953\n",
       " NumberOfTime30-59DaysPastDueNotWorse        3.574544\n",
       " DebtRatio                                   0.222788\n",
       " MonthlyIncome                           15805.474141\n",
       " NumberOfOpenCreditLinesAndLoans             5.128142\n",
       " NumberOfTimes90DaysLate                     3.542016\n",
       " NumberRealEstateLoansOrLines                1.072014\n",
       " NumberOfTime60-89DaysPastDueNotWorse        3.526229\n",
       " NumberOfDependents                          1.152648\n",
       " dtype: float64)"
      ]
     },
     "execution_count": 12,
     "metadata": {},
     "output_type": "execute_result"
    }
   ],
   "source": [
    "# check 结果：\n",
    "import numpy as np\n",
    "np.mean(X_train, axis=0), np.std(X_train, axis=0)\n"
   ]
  },
  {
   "cell_type": "code",
   "execution_count": 13,
   "metadata": {},
   "outputs": [
    {
     "data": {
      "text/plain": [
       "(array([-3.73709248e-18, -2.42350447e-16,  2.25159822e-17, -2.42537302e-16,\n",
       "         2.57392244e-17,  2.70939205e-17,  1.08842818e-17, -3.19521407e-17,\n",
       "        -8.40845808e-18,  1.21455506e-17]),\n",
       " array([1., 1., 1., 1., 1., 1., 1., 1., 1., 1.]))"
      ]
     },
     "execution_count": 13,
     "metadata": {},
     "output_type": "execute_result"
    }
   ],
   "source": [
    "# Check\n",
    "np.mean(X_train_std, axis=0), np.std(X_train_std, axis=0)"
   ]
  },
  {
   "cell_type": "markdown",
   "metadata": {},
   "source": [
    "### Logistic regression\n",
    "- 提示：<span style='color:white'>from sklearn import linear_model('Gender') </span>"
   ]
  },
  {
   "cell_type": "code",
   "execution_count": 14,
   "metadata": {
    "tags": []
   },
   "outputs": [
    {
     "data": {
      "text/plain": [
       "LogisticRegression()"
      ]
     },
     "execution_count": 14,
     "metadata": {},
     "output_type": "execute_result"
    }
   ],
   "source": [
    "## your code here: 导入相关的包\n",
    "from sklearn.linear_model import LogisticRegression\n",
    "lr = LogisticRegression()\n",
    "lr.fit(X_train_std, y_train)"
   ]
  },
  {
   "cell_type": "markdown",
   "metadata": {},
   "source": [
    "### Decision Tree\n",
    "- 提示：<span style='color:white'>from sklearn.tree import DecisionTreeClassifier('Gender') </span>"
   ]
  },
  {
   "cell_type": "code",
   "execution_count": 15,
   "metadata": {
    "tags": []
   },
   "outputs": [
    {
     "data": {
      "text/plain": [
       "DecisionTreeClassifier()"
      ]
     },
     "execution_count": 15,
     "metadata": {},
     "output_type": "execute_result"
    }
   ],
   "source": [
    "## your code here 决策树\n",
    "from sklearn.tree import DecisionTreeClassifier\n",
    "tree = DecisionTreeClassifier()\n",
    "tree.fit(X_train_std, y_train)"
   ]
  },
  {
   "cell_type": "markdown",
   "metadata": {},
   "source": [
    "### Random Forest\n",
    "- 提示：<span style='color:white'>from sklearn.ensemble import RandomForestClassifier('Gender') </span>"
   ]
  },
  {
   "cell_type": "code",
   "execution_count": 31,
   "metadata": {
    "tags": []
   },
   "outputs": [
    {
     "data": {
      "text/plain": [
       "RandomForestClassifier()"
      ]
     },
     "execution_count": 31,
     "metadata": {},
     "output_type": "execute_result"
    }
   ],
   "source": [
    "## your code here\n",
    "from sklearn.ensemble import RandomForestClassifier\n",
    "\n",
    "rf = RandomForestClassifier()\n",
    "rf.fit(X_train_std, y_train)"
   ]
  },
  {
   "cell_type": "markdown",
   "metadata": {},
   "source": [
    "### SVM\n",
    "- 提示：<span style='color:white'>from sklearn.svm import SVC('Gender') </span>"
   ]
  },
  {
   "cell_type": "code",
   "execution_count": 23,
   "metadata": {
    "tags": []
   },
   "outputs": [
    {
     "data": {
      "text/plain": [
       "SVC()"
      ]
     },
     "execution_count": 23,
     "metadata": {},
     "output_type": "execute_result"
    }
   ],
   "source": [
    "## your code here\n",
    "from sklearn.svm import SVC\n",
    "\n",
    "svm = SVC()\n",
    "svm.fit(X_train_std, y_train)"
   ]
  },
  {
   "cell_type": "markdown",
   "metadata": {},
   "source": [
    "### KNN\n",
    "- 提示：<span style='color:white'>from sklearn.neighbors import KNeighborsClassifier('Gender') </span>"
   ]
  },
  {
   "cell_type": "code",
   "execution_count": 18,
   "metadata": {
    "tags": []
   },
   "outputs": [
    {
     "data": {
      "text/plain": [
       "KNeighborsClassifier()"
      ]
     },
     "execution_count": 18,
     "metadata": {},
     "output_type": "execute_result"
    }
   ],
   "source": [
    "## your code here\n",
    "from sklearn.neighbors import KNeighborsClassifier\n",
    "\n",
    "knn = KNeighborsClassifier()\n",
    "knn.fit(X_train_std, y_train)\n"
   ]
  },
  {
   "cell_type": "markdown",
   "metadata": {},
   "source": [
    "---\n",
    "\n",
    "## 练习3：在测试集上进行预测，计算准确度"
   ]
  },
  {
   "cell_type": "markdown",
   "metadata": {},
   "source": [
    "### Logistic regression\n",
    "- 提示：<span style='color:white'>y_pred_LR = clf_LR.predict(x_test)('Gender') </span>"
   ]
  },
  {
   "cell_type": "code",
   "execution_count": 24,
   "metadata": {
    "tags": []
   },
   "outputs": [
    {
     "name": "stdout",
     "output_type": "stream",
     "text": [
      "Misclassified samples in test set: 2119\n",
      "(accuracy_score) Test accuracy: 0.9350\n",
      "Sloop: -0.01432049 -0.36429241  1.71660158  0.31218901 -0.1151493  -0.09207822\n",
      "  1.6638969  -0.19674368 -3.21071999  0.11659033\n",
      "Intercept: -2.857\n"
     ]
    }
   ],
   "source": [
    "## your code here： 不同模型，区别只是predict 前面的函数不同\n",
    "y_lr_pred = lr.predict(np.array(X_test_std))         # 测试集上预测吧！\n",
    "\n",
    "# 测试集预测不对的样本数\n",
    "print('Misclassified samples in test set: %d' % (y_test != y_test_pred).sum()) \n",
    "\n",
    "from sklearn.metrics import accuracy_score\n",
    "print('(accuracy_score) Test accuracy: %.4f' % accuracy_score(y_test, y_test_pred))  # 测试集的正确率\n",
    "# 斜率\n",
    "print('Sloop: ' + str(lr.coef_[0])[1:len(str(lr.coef_[0])) - 1])\n",
    "# 截距\n",
    "print('Intercept: %.3f' % lr.intercept_)"
   ]
  },
  {
   "cell_type": "markdown",
   "metadata": {},
   "source": [
    "### Decision Tree\n",
    "- 提示：<span style='color:white'>y_pred_tree = tree.predict(x_test)('Gender') </span>"
   ]
  },
  {
   "cell_type": "code",
   "execution_count": 25,
   "metadata": {
    "tags": []
   },
   "outputs": [
    {
     "name": "stdout",
     "output_type": "stream",
     "text": [
      "Misclassified samples in test set: 2119\n",
      "(accuracy_score) Test accuracy: 0.9350\n",
      "Sloop: -0.01432049 -0.36429241  1.71660158  0.31218901 -0.1151493  -0.09207822\n",
      "  1.6638969  -0.19674368 -3.21071999  0.11659033\n",
      "Intercept: -2.857\n"
     ]
    }
   ],
   "source": [
    "## your code here \n",
    "y_tree_pred = tree.predict(np.array(X_test_std))         # 测试集上预测吧！\n",
    "\n",
    "# 测试集预测不对的样本数\n",
    "print('Misclassified samples in test set: %d' % (y_test != y_test_pred).sum()) \n",
    "\n",
    "from sklearn.metrics import accuracy_score\n",
    "print('(accuracy_score) Test accuracy: %.4f' % accuracy_score(y_test, y_test_pred))  # 测试集的正确率\n",
    "# 斜率\n",
    "print('Sloop: ' + str(lr.coef_[0])[1:len(str(lr.coef_[0])) - 1])\n",
    "# 截距\n",
    "print('Intercept: %.3f' % lr.intercept_)\n"
   ]
  },
  {
   "cell_type": "markdown",
   "metadata": {},
   "source": [
    "### Random Forest\n",
    "- 提示：<span style='color:white'>y_pred_forest = forest.predict(x_test)('Gender') </span>"
   ]
  },
  {
   "cell_type": "code",
   "execution_count": 32,
   "metadata": {
    "tags": []
   },
   "outputs": [
    {
     "name": "stdout",
     "output_type": "stream",
     "text": [
      "Misclassified samples in test set: 2119\n",
      "(accuracy_score) Test accuracy: 0.9350\n",
      "Sloop: -0.01432049 -0.36429241  1.71660158  0.31218901 -0.1151493  -0.09207822\n",
      "  1.6638969  -0.19674368 -3.21071999  0.11659033\n",
      "Intercept: -2.857\n"
     ]
    }
   ],
   "source": [
    "## your code here\n",
    "y_rf_pred = rf.predict(np.array(X_test_std))         # 测试集上预测吧！\n",
    "\n",
    "# 测试集预测不对的样本数\n",
    "print('Misclassified samples in test set: %d' % (y_test != y_test_pred).sum()) \n",
    "\n",
    "from sklearn.metrics import accuracy_score\n",
    "print('(accuracy_score) Test accuracy: %.4f' % accuracy_score(y_test, y_test_pred))  # 测试集的正确率\n",
    "# 斜率\n",
    "print('Sloop: ' + str(lr.coef_[0])[1:len(str(lr.coef_[0])) - 1])\n",
    "# 截距\n",
    "print('Intercept: %.3f' % lr.intercept_)\n"
   ]
  },
  {
   "cell_type": "markdown",
   "metadata": {},
   "source": [
    "### SVM\n",
    "- 提示：<span style='color:white'>y_pred_SVC = clf_svc.predict(x_test)('Gender') </span>"
   ]
  },
  {
   "cell_type": "code",
   "execution_count": 28,
   "metadata": {
    "tags": []
   },
   "outputs": [
    {
     "name": "stdout",
     "output_type": "stream",
     "text": [
      "Misclassified samples in test set: 2119\n",
      "(accuracy_score) Test accuracy: 0.9350\n",
      "Sloop: -0.01432049 -0.36429241  1.71660158  0.31218901 -0.1151493  -0.09207822\n",
      "  1.6638969  -0.19674368 -3.21071999  0.11659033\n",
      "Intercept: -2.857\n"
     ]
    }
   ],
   "source": [
    "## your code here\n",
    "y_svm_pred = svm.predict(np.array(X_test_std))         # 测试集上预测吧！\n",
    "\n",
    "# 测试集预测不对的样本数\n",
    "print('Misclassified samples in test set: %d' % (y_test != y_test_pred).sum()) \n",
    "\n",
    "from sklearn.metrics import accuracy_score\n",
    "print('(accuracy_score) Test accuracy: %.4f' % accuracy_score(y_test, y_test_pred))  # 测试集的正确率\n",
    "# 斜率\n",
    "print('Sloop: ' + str(lr.coef_[0])[1:len(str(lr.coef_[0])) - 1])\n",
    "# 截距\n",
    "print('Intercept: %.3f' % lr.intercept_)\n"
   ]
  },
  {
   "cell_type": "markdown",
   "metadata": {},
   "source": [
    "### KNN\n",
    "- 提示：<span style='color:white'>y_pred_KNN = neigh.predict(x_test)('Gender') </span>"
   ]
  },
  {
   "cell_type": "code",
   "execution_count": 30,
   "metadata": {
    "tags": []
   },
   "outputs": [
    {
     "name": "stderr",
     "output_type": "stream",
     "text": [
      "/Users/inuyasha/opt/anaconda3/lib/python3.8/site-packages/sklearn/neighbors/_classification.py:211: FutureWarning: Unlike other reduction functions (e.g. `skew`, `kurtosis`), the default behavior of `mode` typically preserves the axis it acts along. In SciPy 1.11.0, this behavior will change: the default value of `keepdims` will become False, the `axis` over which the statistic is taken will be eliminated, and the value None will no longer be accepted. Set `keepdims` to True or False to avoid this warning.\n",
      "  mode, _ = stats.mode(_y[neigh_ind, k], axis=1)\n"
     ]
    },
    {
     "name": "stdout",
     "output_type": "stream",
     "text": [
      "Misclassified samples in test set: 2119\n",
      "(accuracy_score) Test accuracy: 0.9350\n",
      "Sloop: -0.01432049 -0.36429241  1.71660158  0.31218901 -0.1151493  -0.09207822\n",
      "  1.6638969  -0.19674368 -3.21071999  0.11659033\n",
      "Intercept: -2.857\n"
     ]
    }
   ],
   "source": [
    "## your code here\n",
    "y_knn_pred = knn.predict(np.array(X_test_std))         # 测试集上预测吧！\n",
    "\n",
    "# 测试集预测不对的样本数\n",
    "print('Misclassified samples in test set: %d' % (y_test != y_test_pred).sum()) \n",
    "\n",
    "from sklearn.metrics import accuracy_score\n",
    "print('(accuracy_score) Test accuracy: %.4f' % accuracy_score(y_test, y_test_pred))  # 测试集的正确率\n",
    "# 斜率\n",
    "print('Sloop: ' + str(lr.coef_[0])[1:len(str(lr.coef_[0])) - 1])\n",
    "# 截距\n",
    "print('Intercept: %.3f' % lr.intercept_)\n"
   ]
  },
  {
   "cell_type": "markdown",
   "metadata": {},
   "source": [
    "---\n",
    "## 练习4：查看sklearn的官方说明，了解分类问题的评估标准，并对此例进行评估"
   ]
  },
  {
   "cell_type": "markdown",
   "metadata": {},
   "source": [
    "**混淆矩阵（Confusion Matrix）相关学习链接**\n",
    "\n",
    "- Blog:<br>\n",
    "http://blog.csdn.net/vesper305/article/details/44927047<br>\n",
    "- WiKi:<br>\n",
    "http://en.wikipedia.org/wiki/Confusion_matrix<br>\n",
    "- sklearn doc:<br>\n",
    "http://scikit-learn.org/stable/modules/generated/sklearn.metrics.confusion_matrix.html"
   ]
  },
  {
   "cell_type": "code",
   "execution_count": 36,
   "metadata": {
    "tags": []
   },
   "outputs": [
    {
     "name": "stdout",
     "output_type": "stream",
     "text": [
      "Logistic Regression confusion matrix\n",
      "[[30350    74]\n",
      " [ 2083    88]]\n",
      "Decision Tree confusion matrix\n",
      "[[28534  1890]\n",
      " [ 1565   606]]\n",
      "Random Forest confusion matrix\n",
      "[[30120   304]\n",
      " [ 1810   361]]\n",
      "SVM confusion matrix\n",
      "[[30365    59]\n",
      " [ 2069   102]]\n",
      "KNN confusion matrix\n",
      "[[30141   283]\n",
      " [ 1922   249]]\n"
     ]
    }
   ],
   "source": [
    "## your code here\n",
    "from sklearn.metrics import confusion_matrix\n",
    "\n",
    "# 分别输出不同模型的混淆矩阵\n",
    "print(\"Logistic Regression confusion matrix\")\n",
    "lr_cm = confusion_matrix(y_test, y_lr_pred)\n",
    "print (lr_cm)\n",
    "\n",
    "print(\"Decision Tree confusion matrix\")\n",
    "tree_cm = confusion_matrix(y_test, y_tree_pred)\n",
    "print (tree_cm)\n",
    "\n",
    "print(\"Random Forest confusion matrix\")\n",
    "rf_cm = confusion_matrix(y_test, y_rf_pred)\n",
    "print (rf_cm)\n",
    "\n",
    "print(\"SVM confusion matrix\")\n",
    "svm_cm = confusion_matrix(y_test, y_svm_pred)\n",
    "print (svm_cm)\n",
    "\n",
    "print(\"KNN confusion matrix\")\n",
    "knn_cm =confusion_matrix(y_test, y_knn_pred)\n",
    "print (knn_cm)"
   ]
  },
  {
   "cell_type": "code",
   "execution_count": 39,
   "metadata": {},
   "outputs": [
    {
     "name": "stdout",
     "output_type": "stream",
     "text": [
      "Logistic Regression:\n",
      "TP: 88\n",
      "TN: 30350\n",
      "FP: 74\n",
      "FN: 2083\n",
      "Classification Accuracy\n",
      "0.93382420616659\n",
      "0.93382420616659\n",
      "Classification Error\n",
      "0.06617579383341003\n",
      "0.06617579383340999\n",
      "Recall\n",
      "0.04053431598341778\n",
      "0.04053431598341778\n",
      "Specificity\n",
      "0.9975677097028661\n",
      "False Positive Rate\n",
      "0.0024322902971338415\n",
      "0.0024322902971338767\n",
      "precision\n",
      "0.5432098765432098\n",
      "0.5432098765432098\n",
      "F1 score\n",
      "0.07543934847835405\n",
      "0.07543934847835405\n"
     ]
    }
   ],
   "source": [
    "# 利用混淆矩阵，对结果进行评估并输出结果：\n",
    "from sklearn import metrics\n",
    "\n",
    "def matrix_print (input_matrix,y_test,y_test_pred):\n",
    "    TP = input_matrix[1, 1]\n",
    "    TN = input_matrix[0, 0]\n",
    "    FP = input_matrix[0, 1]\n",
    "    FN = input_matrix[1, 0]\n",
    "    print(\"TP:\", TP)\n",
    "    print(\"TN:\", TN)\n",
    "    print(\"FP:\", FP)\n",
    "    print(\"FN:\", FN)\n",
    "    \n",
    "    print ('Classification Accuracy')\n",
    "    print((TP+TN) / float(TP+TN+FN+FP))\n",
    "    print(accuracy_score(y_test, y_test_pred))\n",
    "    \n",
    "    print ('Classification Error')\n",
    "    print((FP+FN) / float(TP+TN+FN+FP))\n",
    "    print(1-accuracy_score(y_test, y_test_pred))\n",
    "    \n",
    "    print ('Recall')\n",
    "    print(TP / float(TP+FN))\n",
    "    recall = metrics.recall_score(y_test, y_test_pred)\n",
    "    print(metrics.recall_score(y_test, y_test_pred))\n",
    "\n",
    "    print ('Specificity')\n",
    "    print(TN / float(TN+FP))\n",
    "\n",
    "    print ('False Positive Rate')\n",
    "    print(FP / float(TN+FP))\n",
    "    specificity = TN / float(TN+FP)\n",
    "    print(1 - specificity)\n",
    "    \n",
    "    print ('precision')\n",
    "    print(TP / float(TP+FP))\n",
    "    precision = metrics.precision_score(y_test, y_test_pred)\n",
    "    print(precision)\n",
    "    \n",
    "    print ('F1 score')\n",
    "    print((2*precision*recall) / (precision+recall))\n",
    "    print(metrics.f1_score(y_test, y_test_pred))\n",
    "\n",
    "print(\"Logistic Regression:\")\n",
    "matrix_print(lr_cm,y_test,y_lr_pred)\n"
   ]
  },
  {
   "cell_type": "code",
   "execution_count": 40,
   "metadata": {},
   "outputs": [
    {
     "name": "stdout",
     "output_type": "stream",
     "text": [
      "Decision Tree\n",
      "TP: 606\n",
      "TN: 28534\n",
      "FP: 1890\n",
      "FN: 1565\n",
      "Classification Accuracy\n",
      "0.8940021475686455\n",
      "0.8940021475686455\n",
      "Classification Error\n",
      "0.1059978524313545\n",
      "0.10599785243135451\n",
      "Recall\n",
      "0.27913403961308153\n",
      "0.27913403961308153\n",
      "Specificity\n",
      "0.9378779910596897\n",
      "False Positive Rate\n",
      "0.06212200894031028\n",
      "0.06212200894031028\n",
      "precision\n",
      "0.24278846153846154\n",
      "0.24278846153846154\n",
      "F1 score\n",
      "0.2596957360188558\n",
      "0.2596957360188558\n"
     ]
    }
   ],
   "source": [
    "print(\"Decision Tree\")\n",
    "matrix_print(tree_cm,y_test,y_tree_pred)"
   ]
  },
  {
   "cell_type": "code",
   "execution_count": 41,
   "metadata": {},
   "outputs": [
    {
     "name": "stdout",
     "output_type": "stream",
     "text": [
      "Random Forest\n",
      "TP: 361\n",
      "TN: 30120\n",
      "FP: 304\n",
      "FN: 1810\n",
      "Classification Accuracy\n",
      "0.9351434269059672\n",
      "0.9351434269059672\n",
      "Classification Error\n",
      "0.06485657309403282\n",
      "0.06485657309403281\n",
      "Recall\n",
      "0.16628281897742975\n",
      "0.16628281897742975\n",
      "Specificity\n",
      "0.9900078885090717\n",
      "False Positive Rate\n",
      "0.009992111490928214\n",
      "0.009992111490928268\n",
      "precision\n",
      "0.5428571428571428\n",
      "0.5428571428571428\n",
      "F1 score\n",
      "0.2545839210155148\n",
      "0.2545839210155148\n"
     ]
    }
   ],
   "source": [
    "print(\"Random Forest\")\n",
    "matrix_print(rf_cm,y_test,y_rf_pred)"
   ]
  },
  {
   "cell_type": "code",
   "execution_count": 42,
   "metadata": {},
   "outputs": [
    {
     "name": "stdout",
     "output_type": "stream",
     "text": [
      "SVM confusion\n",
      "TP: 102\n",
      "TN: 30365\n",
      "FP: 59\n",
      "FN: 2069\n",
      "Classification Accuracy\n",
      "0.9347139131768676\n",
      "0.9347139131768676\n",
      "Classification Error\n",
      "0.06528608682313239\n",
      "0.06528608682313242\n",
      "Recall\n",
      "0.04698295716259788\n",
      "0.04698295716259788\n",
      "Specificity\n",
      "0.9980607415198528\n",
      "False Positive Rate\n",
      "0.0019392584801472522\n",
      "0.001939258480147199\n",
      "precision\n",
      "0.6335403726708074\n",
      "0.6335403726708074\n",
      "F1 score\n",
      "0.08747855917667238\n",
      "0.08747855917667238\n"
     ]
    }
   ],
   "source": [
    "print(\"SVM confusion\")\n",
    "matrix_print(svm_cm,y_test,y_svm_pred)\n"
   ]
  },
  {
   "cell_type": "code",
   "execution_count": 43,
   "metadata": {},
   "outputs": [
    {
     "name": "stdout",
     "output_type": "stream",
     "text": [
      "KNN confusion matrix\n",
      "TP: 249\n",
      "TN: 30141\n",
      "FP: 283\n",
      "FN: 1922\n",
      "Classification Accuracy\n",
      "0.93235158766682\n",
      "0.93235158766682\n",
      "Classification Error\n",
      "0.06764841233317993\n",
      "0.06764841233317997\n",
      "Recall\n",
      "0.11469368954398894\n",
      "0.11469368954398894\n",
      "Specificity\n",
      "0.990698133052853\n",
      "False Positive Rate\n",
      "0.00930186694714699\n",
      "0.009301866947146964\n",
      "precision\n",
      "0.4680451127819549\n",
      "0.4680451127819549\n",
      "F1 score\n",
      "0.18423973362930077\n",
      "0.18423973362930077\n"
     ]
    }
   ],
   "source": [
    "print(\"KNN confusion matrix\")\n",
    "matrix_print(knn_cm,y_test,y_knn_pred)"
   ]
  },
  {
   "cell_type": "markdown",
   "metadata": {},
   "source": [
    "## 练习5：调整模型的标准\n",
    "\n",
    "银行通常会有更严格的要求，因为fraud带来的后果通常比较严重，一般我们会调整模型的标准。<br>\n",
    "\n",
    "比如在logistic regression当中，一般我们的概率判定边界为0.5，但是我们可以把阈值设定低一些，来提高模型的“敏感度”，试试看把阈值设定为0.3，再看看这时的评估指标(主要是准确率和召回率)。\n",
    "\n",
    "- 提示：<span style='color:white'>sklearn的很多分类模型，predict_prob可以拿到预估的概率，可以根据它和设定的阈值大小去判断最终结果(分类类别)('Gender') </span>"
   ]
  },
  {
   "cell_type": "code",
   "execution_count": 78,
   "metadata": {
    "tags": []
   },
   "outputs": [
    {
     "name": "stdout",
     "output_type": "stream",
     "text": [
      "[0 0 0 0 0 0 0 0 0 0]\n",
      "[0 1 0 0 0 0 0 0 0 0]\n"
     ]
    }
   ],
   "source": [
    "## your code here\n",
    "\n",
    "print (lr.predict(X_test_std)[60:70])\n",
    "print (y_test.values[60:70])\n"
   ]
  },
  {
   "cell_type": "code",
   "execution_count": 79,
   "metadata": {},
   "outputs": [
    {
     "data": {
      "text/plain": [
       "array([[0.93538501, 0.06461499],\n",
       "       [0.79316461, 0.20683539],\n",
       "       [0.96487719, 0.03512281],\n",
       "       [0.94137096, 0.05862904],\n",
       "       [0.87536962, 0.12463038],\n",
       "       [0.98516682, 0.01483318],\n",
       "       [0.94547591, 0.05452409],\n",
       "       [0.96497555, 0.03502445],\n",
       "       [0.95254682, 0.04745318],\n",
       "       [0.95360466, 0.04639534]])"
      ]
     },
     "execution_count": 79,
     "metadata": {},
     "output_type": "execute_result"
    }
   ],
   "source": [
    "# print 10 predicted probabilities of class membership\n",
    "lr.predict_proba(X_test_std)[60:70, :]\n"
   ]
  },
  {
   "cell_type": "code",
   "execution_count": 80,
   "metadata": {},
   "outputs": [
    {
     "data": {
      "text/plain": [
       "array([0.06461499, 0.20683539, 0.03512281, 0.05862904, 0.12463038,\n",
       "       0.01483318, 0.05452409, 0.03502445, 0.04745318, 0.04639534])"
      ]
     },
     "execution_count": 80,
     "metadata": {},
     "output_type": "execute_result"
    }
   ],
   "source": [
    "# print 10 predicted responses\n",
    "lr.predict_proba(X_test_std)[60:70, 1]"
   ]
  },
  {
   "cell_type": "code",
   "execution_count": 82,
   "metadata": {},
   "outputs": [
    {
     "data": {
      "text/plain": [
       "Text(0, 0.5, 'Frequency')"
      ]
     },
     "execution_count": 82,
     "metadata": {},
     "output_type": "execute_result"
    },
    {
     "data": {
      "image/png": "[encoded data removed]",
      "text/plain": [
       "<Figure size 432x288 with 1 Axes>"
      ]
     },
     "metadata": {
      "needs_background": "light"
     },
     "output_type": "display_data"
    }
   ],
   "source": [
    "# store the predicted probabilities for class 1\n",
    "y_pred_prob = lr.predict_proba(X_test_std)[:, 1]\n",
    "\n",
    "# allow plots to appear in the notebook\n",
    "%matplotlib inline\n",
    "import matplotlib.pyplot as plt\n",
    "\n",
    "# histogram of predicted probabilities\n",
    "plt.hist(y_pred_prob, bins=12)\n",
    "plt.xlim(0, 1)\n",
    "plt.title('Histogram of predicted probabilities')\n",
    "plt.xlabel('Predicted probability of diabetes')\n",
    "plt.ylabel('Frequency')"
   ]
  },
  {
   "cell_type": "code",
   "execution_count": 93,
   "metadata": {},
   "outputs": [
    {
     "name": "stdout",
     "output_type": "stream",
     "text": [
      "[array([0, 0, 0, ..., 0, 0, 0]), array([0, 0, 0, ..., 0, 0, 0]), array([0, 0, 0, ..., 0, 0, 0]), array([0, 0, 0, ..., 0, 0, 0])]\n"
     ]
    }
   ],
   "source": [
    "threshold = 0.3\n",
    "\n",
    "# 初始化；\n",
    "models = [lr, tree, rf, knn]\n",
    "preds_new = []\n",
    "\n",
    "# 对所有的模型进行循环： 注意：这里面svm 模型跑起来有问题，原因不明，我暂时去掉了\n",
    "for model in models:\n",
    "    # 获取预测概率\n",
    "    pred_pro = model.predict_proba(X_test_std)[:, 1]\n",
    "    # 应用阈值来获取新的预测值\n",
    "    new_pred = np.where(pred_pro > threshold, 1, 0)\n",
    "    preds_new.append(new_pred)\n",
    "\n",
    "[pred_lr_new, pred_tree_new, pred_rf_new, pred_knn_new] = preds_new\n",
    "print(preds_new)"
   ]
  },
  {
   "cell_type": "code",
   "execution_count": 99,
   "metadata": {},
   "outputs": [
    {
     "name": "stdout",
     "output_type": "stream",
     "text": [
      "new results for Logistic Regression\n",
      "[[30205   219]\n",
      " [ 1945   226]]\n",
      "TP: 226\n",
      "TN: 30205\n",
      "FP: 219\n",
      "FN: 1945\n",
      "Classification Accuracy\n",
      "0.9336094493020402\n",
      "0.9336094493020402\n",
      "Classification Error\n",
      "0.06639055069795981\n",
      "0.06639055069795985\n",
      "Recall\n",
      "0.1040994933210502\n",
      "0.1040994933210502\n",
      "Specificity\n",
      "0.9928017354719958\n",
      "False Positive Rate\n",
      "0.007198264528004207\n",
      "0.007198264528004206\n",
      "precision\n",
      "0.5078651685393258\n",
      "0.5078651685393258\n",
      "F1 score\n",
      "0.172782874617737\n",
      "0.172782874617737\n"
     ]
    }
   ],
   "source": [
    "print ('new results for Logistic Regression')\n",
    "lr_cm_new = confusion_matrix(y_test, preds_new[0])\n",
    "print (lr_cm_new)\n",
    "matrix_print(lr_cm_new,y_test,preds_new[0])\n"
   ]
  },
  {
   "cell_type": "code",
   "execution_count": 100,
   "metadata": {},
   "outputs": [
    {
     "name": "stdout",
     "output_type": "stream",
     "text": [
      "new results for Decision Tree\n",
      "[[28534  1890]\n",
      " [ 1565   606]]\n",
      "TP: 606\n",
      "TN: 28534\n",
      "FP: 1890\n",
      "FN: 1565\n",
      "Classification Accuracy\n",
      "0.8940021475686455\n",
      "0.8940021475686455\n",
      "Classification Error\n",
      "0.1059978524313545\n",
      "0.10599785243135451\n",
      "Recall\n",
      "0.27913403961308153\n",
      "0.27913403961308153\n",
      "Specificity\n",
      "0.9378779910596897\n",
      "False Positive Rate\n",
      "0.06212200894031028\n",
      "0.06212200894031028\n",
      "precision\n",
      "0.24278846153846154\n",
      "0.24278846153846154\n",
      "F1 score\n",
      "0.2596957360188558\n",
      "0.2596957360188558\n"
     ]
    }
   ],
   "source": [
    "print ('new results for Decision Tree')\n",
    "tree_cm_new = confusion_matrix(y_test, preds_new[1])\n",
    "print (tree_cm_new)\n",
    "matrix_print(tree_cm_new,y_test,preds_new[1])\n",
    "\n"
   ]
  },
  {
   "cell_type": "code",
   "execution_count": 101,
   "metadata": {},
   "outputs": [
    {
     "name": "stdout",
     "output_type": "stream",
     "text": [
      "new results for Random forests\n",
      "[[29223  1201]\n",
      " [ 1313   858]]\n",
      "TP: 858\n",
      "TN: 29223\n",
      "FP: 1201\n",
      "FN: 1313\n",
      "Classification Accuracy\n",
      "0.9228716060745513\n",
      "0.9228716060745513\n",
      "Classification Error\n",
      "0.0771283939254487\n",
      "0.07712839392544868\n",
      "Recall\n",
      "0.39520958083832336\n",
      "0.39520958083832336\n",
      "Specificity\n",
      "0.9605245858532737\n",
      "False Positive Rate\n",
      "0.03947541414672627\n",
      "0.039475414146726284\n",
      "precision\n",
      "0.4167071393880524\n",
      "0.4167071393880524\n",
      "F1 score\n",
      "0.40567375886524826\n",
      "0.40567375886524826\n"
     ]
    }
   ],
   "source": [
    "print ('new results for Random forests')\n",
    "rf_cm_new = confusion_matrix(y_test, preds_new[2])\n",
    "print (rf_cm_new)\n",
    "matrix_print(rf_cm_new,y_test,preds_new[2])\n",
    "\n"
   ]
  },
  {
   "cell_type": "code",
   "execution_count": 102,
   "metadata": {},
   "outputs": [
    {
     "name": "stdout",
     "output_type": "stream",
     "text": [
      "new results for KNN\n",
      "[[29403  1021]\n",
      " [ 1614   557]]\n",
      "TP: 557\n",
      "TN: 29403\n",
      "FP: 1021\n",
      "FN: 1614\n",
      "Classification Accuracy\n",
      "0.919159380273048\n",
      "0.919159380273048\n",
      "Classification Error\n",
      "0.08084061972695199\n",
      "0.080840619726952\n",
      "Recall\n",
      "0.25656379548595115\n",
      "0.25656379548595115\n",
      "Specificity\n",
      "0.9664409676571128\n",
      "False Positive Rate\n",
      "0.03355903234288719\n",
      "0.03355903234288715\n",
      "precision\n",
      "0.35297845373891\n",
      "0.35297845373891\n",
      "F1 score\n",
      "0.2971459055748199\n",
      "0.2971459055748199\n"
     ]
    }
   ],
   "source": [
    "print ('new results for KNN')\n",
    "knn_cm_new = confusion_matrix(y_test, preds_new[3])\n",
    "print (knn_cm_new)\n",
    "matrix_print(knn_cm_new,y_test,preds_new[3])\n",
    "\n"
   ]
  },
  {
   "cell_type": "code",
   "execution_count": null,
   "metadata": {},
   "outputs": [],
   "source": []
  }
 ],
 "metadata": {
  "kernelspec": {
   "display_name": "Python 3",
   "language": "python",
   "name": "python3"
  },
  "language_info": {
   "codemirror_mode": {
    "name": "ipython",
    "version": 3
   },
   "file_extension": ".py",
   "mimetype": "text/x-python",
   "name": "python",
   "nbconvert_exporter": "python",
   "pygments_lexer": "ipython3",
   "version": "3.8.8"
  }
 },
 "nbformat": 4,
 "nbformat_minor": 4
}
