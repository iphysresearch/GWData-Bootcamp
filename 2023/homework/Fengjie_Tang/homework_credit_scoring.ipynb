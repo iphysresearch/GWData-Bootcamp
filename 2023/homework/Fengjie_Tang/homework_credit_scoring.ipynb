{
 "cells": [
  {
   "cell_type": "markdown",
   "metadata": {},
   "source": [
    "# 一起来打怪之 Credit Scoring 练习"
   ]
  },
  {
   "cell_type": "markdown",
   "metadata": {},
   "source": [
    "---\n",
    "## 作业说明\n",
    "\n",
    "- 答题步骤：\n",
    "    - 回答问题**请保留每一步**操作过程，请不要仅仅给出最后答案\n",
    "    - 请养成代码注释的好习惯\n",
    "\n",
    "- 解题思路：\n",
    "    - 为方便大家准确理解题目，在习题实战中有所收获，本文档提供了解题思路提示\n",
    "    - 解题思路**仅供参考**，鼓励原创解题方法\n",
    "    - 为督促同学们自己思考，解题思路内容设置为**白色**，必要时请从冒号后拖动鼠标查看\n",
    "\n",
    "- 所用数据\n",
    "    - 请注意导入数据库后先**查看和了解数据的基本性质**，后面的问题不再一一提醒"
   ]
  },
  {
   "cell_type": "markdown",
   "metadata": {},
   "source": [
    "## machine learning for credit scoring\n",
    "\n",
    "\n",
    "Banks play a crucial role in market economies. They decide who can get finance and on what terms and can make or break investment decisions. For markets and society to function, individuals and companies need access to credit. \n",
    "\n",
    "Credit scoring algorithms, which make a guess at the probability of default, are the method banks use to determine whether or not a loan should be granted. This competition requires participants to improve on the state of the art in credit scoring, by predicting the probability that somebody will experience financial distress in the next two years. [Dataset](https://www.kaggle.com/c/GiveMeSomeCredit)\n",
    "\n",
    "Attribute Information:\n",
    "\n",
    "|Variable Name\t|\tDescription\t|\tType|\n",
    "|----|----|----|\n",
    "|SeriousDlqin2yrs\t|\tPerson experienced 90 days past due delinquency or worse \t|\tY/N|\n",
    "|RevolvingUtilizationOfUnsecuredLines\t|\tTotal balance on credit divided by the sum of credit limits\t|\tpercentage|\n",
    "|age\t|\tAge of borrower in years\t|\tinteger|\n",
    "|NumberOfTime30-59DaysPastDueNotWorse\t|\tNumber of times borrower has been 30-59 days past due |\tinteger|\n",
    "|DebtRatio\t|\tMonthly debt payments\t|\tpercentage|\n",
    "|MonthlyIncome\t|\tMonthly income\t|\treal|\n",
    "|NumberOfOpenCreditLinesAndLoans\t|\tNumber of Open loans |\tinteger|\n",
    "|NumberOfTimes90DaysLate\t|\tNumber of times borrower has been 90 days or more past due.\t|\tinteger|\n",
    "|NumberRealEstateLoansOrLines\t|\tNumber of mortgage and real estate loans\t|\tinteger|\n",
    "|NumberOfTime60-89DaysPastDueNotWorse\t|\tNumber of times borrower has been 60-89 days past due |integer|\n",
    "|NumberOfDependents\t|\tNumber of dependents in family\t|\tinteger|\n"
   ]
  },
  {
   "cell_type": "markdown",
   "metadata": {},
   "source": [
    "----------\n",
    "## Read the data into Pandas "
   ]
  },
  {
   "cell_type": "code",
   "execution_count": 91,
   "metadata": {
    "collapsed": true,
    "jupyter": {
     "outputs_hidden": true
    }
   },
   "outputs": [
    {
     "data": {
      "text/html": [
       "<div>\n",
       "<style scoped>\n",
       "    .dataframe tbody tr th:only-of-type {\n",
       "        vertical-align: middle;\n",
       "    }\n",
       "\n",
       "    .dataframe tbody tr th {\n",
       "        vertical-align: top;\n",
       "    }\n",
       "\n",
       "    .dataframe thead th {\n",
       "        text-align: right;\n",
       "    }\n",
       "</style>\n",
       "<table border=\"1\" class=\"dataframe\">\n",
       "  <thead>\n",
       "    <tr style=\"text-align: right;\">\n",
       "      <th></th>\n",
       "      <th>SeriousDlqin2yrs</th>\n",
       "      <th>RevolvingUtilizationOfUnsecuredLines</th>\n",
       "      <th>age</th>\n",
       "      <th>NumberOfTime30-59DaysPastDueNotWorse</th>\n",
       "      <th>DebtRatio</th>\n",
       "      <th>MonthlyIncome</th>\n",
       "      <th>NumberOfOpenCreditLinesAndLoans</th>\n",
       "      <th>NumberOfTimes90DaysLate</th>\n",
       "      <th>NumberRealEstateLoansOrLines</th>\n",
       "      <th>NumberOfTime60-89DaysPastDueNotWorse</th>\n",
       "      <th>NumberOfDependents</th>\n",
       "    </tr>\n",
       "  </thead>\n",
       "  <tbody>\n",
       "    <tr>\n",
       "      <th>0</th>\n",
       "      <td>1</td>\n",
       "      <td>0.766127</td>\n",
       "      <td>45.0</td>\n",
       "      <td>2.0</td>\n",
       "      <td>0.802982</td>\n",
       "      <td>9120.0</td>\n",
       "      <td>13.0</td>\n",
       "      <td>0.0</td>\n",
       "      <td>6.0</td>\n",
       "      <td>0.0</td>\n",
       "      <td>2.0</td>\n",
       "    </tr>\n",
       "    <tr>\n",
       "      <th>1</th>\n",
       "      <td>0</td>\n",
       "      <td>0.957151</td>\n",
       "      <td>40.0</td>\n",
       "      <td>0.0</td>\n",
       "      <td>0.121876</td>\n",
       "      <td>2600.0</td>\n",
       "      <td>4.0</td>\n",
       "      <td>0.0</td>\n",
       "      <td>0.0</td>\n",
       "      <td>0.0</td>\n",
       "      <td>1.0</td>\n",
       "    </tr>\n",
       "    <tr>\n",
       "      <th>2</th>\n",
       "      <td>0</td>\n",
       "      <td>0.658180</td>\n",
       "      <td>38.0</td>\n",
       "      <td>1.0</td>\n",
       "      <td>0.085113</td>\n",
       "      <td>3042.0</td>\n",
       "      <td>2.0</td>\n",
       "      <td>1.0</td>\n",
       "      <td>0.0</td>\n",
       "      <td>0.0</td>\n",
       "      <td>0.0</td>\n",
       "    </tr>\n",
       "    <tr>\n",
       "      <th>3</th>\n",
       "      <td>0</td>\n",
       "      <td>0.233810</td>\n",
       "      <td>30.0</td>\n",
       "      <td>0.0</td>\n",
       "      <td>0.036050</td>\n",
       "      <td>3300.0</td>\n",
       "      <td>5.0</td>\n",
       "      <td>0.0</td>\n",
       "      <td>0.0</td>\n",
       "      <td>0.0</td>\n",
       "      <td>0.0</td>\n",
       "    </tr>\n",
       "    <tr>\n",
       "      <th>4</th>\n",
       "      <td>0</td>\n",
       "      <td>0.907239</td>\n",
       "      <td>49.0</td>\n",
       "      <td>1.0</td>\n",
       "      <td>0.024926</td>\n",
       "      <td>63588.0</td>\n",
       "      <td>7.0</td>\n",
       "      <td>0.0</td>\n",
       "      <td>1.0</td>\n",
       "      <td>0.0</td>\n",
       "      <td>0.0</td>\n",
       "    </tr>\n",
       "  </tbody>\n",
       "</table>\n",
       "</div>"
      ],
      "text/plain": [
       "   SeriousDlqin2yrs  RevolvingUtilizationOfUnsecuredLines   age  \\\n",
       "0                 1                              0.766127  45.0   \n",
       "1                 0                              0.957151  40.0   \n",
       "2                 0                              0.658180  38.0   \n",
       "3                 0                              0.233810  30.0   \n",
       "4                 0                              0.907239  49.0   \n",
       "\n",
       "   NumberOfTime30-59DaysPastDueNotWorse  DebtRatio  MonthlyIncome  \\\n",
       "0                                   2.0   0.802982         9120.0   \n",
       "1                                   0.0   0.121876         2600.0   \n",
       "2                                   1.0   0.085113         3042.0   \n",
       "3                                   0.0   0.036050         3300.0   \n",
       "4                                   1.0   0.024926        63588.0   \n",
       "\n",
       "   NumberOfOpenCreditLinesAndLoans  NumberOfTimes90DaysLate  \\\n",
       "0                             13.0                      0.0   \n",
       "1                              4.0                      0.0   \n",
       "2                              2.0                      1.0   \n",
       "3                              5.0                      0.0   \n",
       "4                              7.0                      0.0   \n",
       "\n",
       "   NumberRealEstateLoansOrLines  NumberOfTime60-89DaysPastDueNotWorse  \\\n",
       "0                           6.0                                   0.0   \n",
       "1                           0.0                                   0.0   \n",
       "2                           0.0                                   0.0   \n",
       "3                           0.0                                   0.0   \n",
       "4                           1.0                                   0.0   \n",
       "\n",
       "   NumberOfDependents  \n",
       "0                 2.0  \n",
       "1                 1.0  \n",
       "2                 0.0  \n",
       "3                 0.0  \n",
       "4                 0.0  "
      ]
     },
     "execution_count": 91,
     "metadata": {},
     "output_type": "execute_result"
    }
   ],
   "source": [
    "from sklearn.metrics import confusion_matrix, accuracy_score, precision_score, recall_score, f1_score\n",
    "import pandas as pd\n",
    "pd.set_option('display.max_columns', 500)\n",
    "import zipfile\n",
    "with zipfile.ZipFile('KaggleCredit2.csv.zip', 'r') as z:\n",
    "    f = z.open('KaggleCredit2.csv')\n",
    "    data = pd.read_csv(f, index_col=0)\n",
    "data.head()"
   ]
  },
  {
   "cell_type": "code",
   "execution_count": 92,
   "metadata": {
    "collapsed": true,
    "jupyter": {
     "outputs_hidden": true
    }
   },
   "outputs": [
    {
     "data": {
      "text/plain": [
       "(112915, 11)"
      ]
     },
     "execution_count": 92,
     "metadata": {},
     "output_type": "execute_result"
    }
   ],
   "source": [
    "data.shape"
   ]
  },
  {
   "cell_type": "markdown",
   "metadata": {},
   "source": [
    "------------\n",
    "## Drop na"
   ]
  },
  {
   "cell_type": "code",
   "execution_count": 93,
   "metadata": {
    "collapsed": true,
    "jupyter": {
     "outputs_hidden": true
    }
   },
   "outputs": [
    {
     "data": {
      "text/plain": [
       "SeriousDlqin2yrs                           0\n",
       "RevolvingUtilizationOfUnsecuredLines       0\n",
       "age                                     4267\n",
       "NumberOfTime30-59DaysPastDueNotWorse       0\n",
       "DebtRatio                                  0\n",
       "MonthlyIncome                              0\n",
       "NumberOfOpenCreditLinesAndLoans            0\n",
       "NumberOfTimes90DaysLate                    0\n",
       "NumberRealEstateLoansOrLines               0\n",
       "NumberOfTime60-89DaysPastDueNotWorse       0\n",
       "NumberOfDependents                      4267\n",
       "dtype: int64"
      ]
     },
     "execution_count": 93,
     "metadata": {},
     "output_type": "execute_result"
    }
   ],
   "source": [
    "data.isnull().sum(axis=0)"
   ]
  },
  {
   "cell_type": "code",
   "execution_count": 94,
   "metadata": {
    "collapsed": true,
    "jupyter": {
     "outputs_hidden": true
    }
   },
   "outputs": [
    {
     "data": {
      "text/plain": [
       "(108648, 11)"
      ]
     },
     "execution_count": 94,
     "metadata": {},
     "output_type": "execute_result"
    }
   ],
   "source": [
    "data.dropna(inplace=True)\n",
    "data.shape"
   ]
  },
  {
   "cell_type": "markdown",
   "metadata": {},
   "source": [
    "---------\n",
    "## Create X and y"
   ]
  },
  {
   "cell_type": "code",
   "execution_count": 98,
   "metadata": {
    "collapsed": true,
    "jupyter": {
     "outputs_hidden": true
    }
   },
   "outputs": [
    {
     "data": {
      "text/plain": [
       "array([1, 0, 0, ..., 0, 0, 0], dtype=int64)"
      ]
     },
     "execution_count": 98,
     "metadata": {},
     "output_type": "execute_result"
    }
   ],
   "source": [
    "import numpy as np\n",
    "from sklearn.metrics import confusion_matrix, accuracy_score, precision_score, recall_score, f1_score\n",
    "y = np.array(data['SeriousDlqin2yrs'])\n",
    "X = np.array(data.drop('SeriousDlqin2yrs', axis=1))\n",
    "y"
   ]
  },
  {
   "cell_type": "markdown",
   "metadata": {},
   "source": [
    "    ---\n",
    "## 练习1：把数据切分成训练集和测试集\n",
    "- 提示：<span style='color:white'>from sklearn.model_selection import train_test_split('Gender') </span>"
   ]
  },
  {
   "cell_type": "code",
   "execution_count": 99,
   "metadata": {
    "collapsed": true,
    "jupyter": {
     "outputs_hidden": true
    }
   },
   "outputs": [
    {
     "data": {
      "text/plain": [
       "((76053, 10), (32595, 10), (76053,), (32595,))"
      ]
     },
     "execution_count": 99,
     "metadata": {},
     "output_type": "execute_result"
    }
   ],
   "source": [
    "## your code here\n",
    "from sklearn.model_selection import train_test_split\n",
    "X_train, X_test, y_train, y_test = train_test_split(X, y, test_size=0.3, shuffle=True, random_state=0)\n",
    "\n",
    "# 查看数据的维度\n",
    "X_train.shape, X_test.shape, y_train.shape, y_test.shape\n",
    "# y_train"
   ]
  },
  {
   "cell_type": "code",
   "execution_count": 126,
   "metadata": {},
   "outputs": [],
   "source": [
    "from sklearn.preprocessing import MinMaxScaler\n",
    "from sklearn.preprocessing import StandardScaler\n",
    "from sklearn.linear_model import Perceptron\n",
    "from sklearn.metrics import accuracy_score\n",
    "import numpy as np\n",
    "\n",
    "# 创建 MinMaxScaler 对象\n",
    "min_max_scaler = MinMaxScaler()\n",
    "# 在训练集上拟合和转换数据\n",
    "X_train_minmax = min_max_scaler.fit_transform(X_train)\n",
    "# 在测试集上应用相同的缩放\n",
    "X_test_minmax = min_max_scaler.transform(X_test)\n",
    "\n",
    "# sc = StandardScaler()  # 对数据的每一列做了一个归一化\n",
    "# sc.fit(X_train_minmax)\n",
    "# sc.mean_\n",
    "# sc.scale_\n",
    "\n",
    "# # 定义训练集和检测集的标准化\n",
    "# X_train_std = sc.transform(X_train_minmax)\n",
    "# X_test_std = sc.transform(X_test_minmax)\n",
    "\n",
    "# # Check\n",
    "# np.mean(X_train_std, axis=0), np.std(X_train_std, axis=0)\n",
    "# # np.mean(X_test_std, axis=0), np.std(X_test_std, axis=0)"
   ]
  },
  {
   "cell_type": "markdown",
   "metadata": {},
   "source": [
    "----\n",
    "## 练习2：使用logistic regression/决策树/SVM/KNN...等sklearn分类算法进行分类\n",
    "尝试查sklearn API了解模型参数含义，调整不同的参数"
   ]
  },
  {
   "cell_type": "markdown",
   "metadata": {},
   "source": [
    "### 感知器"
   ]
  },
  {
   "cell_type": "markdown",
   "metadata": {},
   "source": [
    "m: num of samples\n",
    "\n",
    "n: num of features\n",
    "\n",
    "k: num of classes\n",
    "\n",
    "$X_{mn} * W_{nk} = Y_{mk}$"
   ]
  },
  {
   "cell_type": "code",
   "execution_count": 101,
   "metadata": {},
   "outputs": [
    {
     "data": {
      "text/plain": [
       "(76053, 10)"
      ]
     },
     "execution_count": 101,
     "metadata": {},
     "output_type": "execute_result"
    }
   ],
   "source": [
    "from sklearn.linear_model import Perceptron\n",
    "\n",
    "# 初始化一个感知器\n",
    "ppn = Perceptron(max_iter=10, eta0=0.1, random_state=0)\n",
    "X_train_std.shape\n"
   ]
  },
  {
   "cell_type": "code",
   "execution_count": 102,
   "metadata": {},
   "outputs": [
    {
     "data": {
      "text/html": [
       "<style>#sk-container-id-15 {color: black;}#sk-container-id-15 pre{padding: 0;}#sk-container-id-15 div.sk-toggleable {background-color: white;}#sk-container-id-15 label.sk-toggleable__label {cursor: pointer;display: block;width: 100%;margin-bottom: 0;padding: 0.3em;box-sizing: border-box;text-align: center;}#sk-container-id-15 label.sk-toggleable__label-arrow:before {content: \"▸\";float: left;margin-right: 0.25em;color: #696969;}#sk-container-id-15 label.sk-toggleable__label-arrow:hover:before {color: black;}#sk-container-id-15 div.sk-estimator:hover label.sk-toggleable__label-arrow:before {color: black;}#sk-container-id-15 div.sk-toggleable__content {max-height: 0;max-width: 0;overflow: hidden;text-align: left;background-color: #f0f8ff;}#sk-container-id-15 div.sk-toggleable__content pre {margin: 0.2em;color: black;border-radius: 0.25em;background-color: #f0f8ff;}#sk-container-id-15 input.sk-toggleable__control:checked~div.sk-toggleable__content {max-height: 200px;max-width: 100%;overflow: auto;}#sk-container-id-15 input.sk-toggleable__control:checked~label.sk-toggleable__label-arrow:before {content: \"▾\";}#sk-container-id-15 div.sk-estimator input.sk-toggleable__control:checked~label.sk-toggleable__label {background-color: #d4ebff;}#sk-container-id-15 div.sk-label input.sk-toggleable__control:checked~label.sk-toggleable__label {background-color: #d4ebff;}#sk-container-id-15 input.sk-hidden--visually {border: 0;clip: rect(1px 1px 1px 1px);clip: rect(1px, 1px, 1px, 1px);height: 1px;margin: -1px;overflow: hidden;padding: 0;position: absolute;width: 1px;}#sk-container-id-15 div.sk-estimator {font-family: monospace;background-color: #f0f8ff;border: 1px dotted black;border-radius: 0.25em;box-sizing: border-box;margin-bottom: 0.5em;}#sk-container-id-15 div.sk-estimator:hover {background-color: #d4ebff;}#sk-container-id-15 div.sk-parallel-item::after {content: \"\";width: 100%;border-bottom: 1px solid gray;flex-grow: 1;}#sk-container-id-15 div.sk-label:hover label.sk-toggleable__label {background-color: #d4ebff;}#sk-container-id-15 div.sk-serial::before {content: \"\";position: absolute;border-left: 1px solid gray;box-sizing: border-box;top: 0;bottom: 0;left: 50%;z-index: 0;}#sk-container-id-15 div.sk-serial {display: flex;flex-direction: column;align-items: center;background-color: white;padding-right: 0.2em;padding-left: 0.2em;position: relative;}#sk-container-id-15 div.sk-item {position: relative;z-index: 1;}#sk-container-id-15 div.sk-parallel {display: flex;align-items: stretch;justify-content: center;background-color: white;position: relative;}#sk-container-id-15 div.sk-item::before, #sk-container-id-15 div.sk-parallel-item::before {content: \"\";position: absolute;border-left: 1px solid gray;box-sizing: border-box;top: 0;bottom: 0;left: 50%;z-index: -1;}#sk-container-id-15 div.sk-parallel-item {display: flex;flex-direction: column;z-index: 1;position: relative;background-color: white;}#sk-container-id-15 div.sk-parallel-item:first-child::after {align-self: flex-end;width: 50%;}#sk-container-id-15 div.sk-parallel-item:last-child::after {align-self: flex-start;width: 50%;}#sk-container-id-15 div.sk-parallel-item:only-child::after {width: 0;}#sk-container-id-15 div.sk-dashed-wrapped {border: 1px dashed gray;margin: 0 0.4em 0.5em 0.4em;box-sizing: border-box;padding-bottom: 0.4em;background-color: white;}#sk-container-id-15 div.sk-label label {font-family: monospace;font-weight: bold;display: inline-block;line-height: 1.2em;}#sk-container-id-15 div.sk-label-container {text-align: center;}#sk-container-id-15 div.sk-container {/* jupyter's `normalize.less` sets `[hidden] { display: none; }` but bootstrap.min.css set `[hidden] { display: none !important; }` so we also need the `!important` here to be able to override the default hidden behavior on the sphinx rendered scikit-learn.org. See: https://github.com/scikit-learn/scikit-learn/issues/21755 */display: inline-block !important;position: relative;}#sk-container-id-15 div.sk-text-repr-fallback {display: none;}</style><div id=\"sk-container-id-15\" class=\"sk-top-container\"><div class=\"sk-text-repr-fallback\"><pre>Perceptron(eta0=0.1, max_iter=10)</pre><b>In a Jupyter environment, please rerun this cell to show the HTML representation or trust the notebook. <br />On GitHub, the HTML representation is unable to render, please try loading this page with nbviewer.org.</b></div><div class=\"sk-container\" hidden><div class=\"sk-item\"><div class=\"sk-estimator sk-toggleable\"><input class=\"sk-toggleable__control sk-hidden--visually\" id=\"sk-estimator-id-15\" type=\"checkbox\" checked><label for=\"sk-estimator-id-15\" class=\"sk-toggleable__label sk-toggleable__label-arrow\">Perceptron</label><div class=\"sk-toggleable__content\"><pre>Perceptron(eta0=0.1, max_iter=10)</pre></div></div></div></div></div>"
      ],
      "text/plain": [
       "Perceptron(eta0=0.1, max_iter=10)"
      ]
     },
     "execution_count": 102,
     "metadata": {},
     "output_type": "execute_result"
    }
   ],
   "source": [
    "ppn.fit(X_train_std, y_train)"
   ]
  },
  {
   "cell_type": "code",
   "execution_count": 103,
   "metadata": {},
   "outputs": [
    {
     "data": {
      "text/plain": [
       "array([False,  True,  True, ...,  True,  True,  True])"
      ]
     },
     "execution_count": 103,
     "metadata": {},
     "output_type": "execute_result"
    }
   ],
   "source": [
    "# Weights assigned to the features. (n_classes, n_features)\n",
    "ppn.coef_ \n",
    "# 总共有10个feature，对应的y只有1个label\n",
    "# Constants in decision function.  (n_classes,)\n",
    "ppn.intercept_ # 偏置项\n",
    "\n",
    "y_pred = ppn.predict(X_test_std)\n",
    "y_pred\n",
    "y_test\n",
    "y_pred == y_test"
   ]
  },
  {
   "cell_type": "code",
   "execution_count": 104,
   "metadata": {},
   "outputs": [
    {
     "name": "stdout",
     "output_type": "stream",
     "text": [
      "Misclassified samples: 4956\n",
      "Accuracy: 0.85\n"
     ]
    }
   ],
   "source": [
    "print('Misclassified samples: %d' % (y_test != y_pred).sum())\n",
    "\n",
    "from sklearn.metrics import accuracy_score\n",
    "\n",
    "print('Accuracy: %.2f' % accuracy_score(y_test, y_pred))"
   ]
  },
  {
   "cell_type": "markdown",
   "metadata": {},
   "source": [
    "当迭代10次，Accuracy为0.85，Misclassified samples: 4956\n",
    "\n",
    "当迭代20次，Accuracy为0.85，Misclassified samples: 4956\n",
    "\n",
    "当迭代100次，Accuracy为0.85\n",
    "\n",
    "应该很快就收敛了"
   ]
  },
  {
   "cell_type": "code",
   "execution_count": 105,
   "metadata": {},
   "outputs": [],
   "source": [
    "from matplotlib.colors import ListedColormap\n",
    "import matplotlib.pyplot as plt\n",
    "import warnings\n",
    "\n",
    "\n",
    "def versiontuple(v):\n",
    "    return tuple(map(int, (v.split(\".\"))))\n",
    "\n",
    "\n",
    "def plot_decision_regions(X, y, classifier, test_idx=None, resolution=0.02):\n",
    "\n",
    "    # setup marker generator and color map\n",
    "    markers = ('s', 'x', 'o', '^', 'v')\n",
    "    colors = ('red', 'blue', 'lightgreen', 'gray', 'cyan')\n",
    "    cmap = ListedColormap(colors[:len(np.unique(y))])\n",
    "\n",
    "    # plot the decision surface\n",
    "    x1_min, x1_max = X[:, 0].min() - 1, X[:, 0].max() + 1\n",
    "    x2_min, x2_max = X[:, 1].min() - 1, X[:, 1].max() + 1\n",
    "    xx1, xx2 = np.meshgrid(np.arange(x1_min, x1_max, resolution),\n",
    "                           np.arange(x2_min, x2_max, resolution))\n",
    "    Z = classifier.predict(np.array([xx1.ravel(), xx2.ravel()]).T)\n",
    "    Z = Z.reshape(xx1.shape)\n",
    "    plt.contourf(xx1, xx2, Z, alpha=0.4, cmap=cmap)\n",
    "    plt.xlim(xx1.min(), xx1.max())\n",
    "    plt.ylim(xx2.min(), xx2.max())\n",
    "\n",
    "    for idx, cl in enumerate(np.unique(y)):\n",
    "        plt.scatter(x=X[y == cl, 0], y=X[y == cl, 1],\n",
    "                    alpha=0.8, c=np.array([cmap(idx)]),\n",
    "                    marker=markers[idx], label=cl)\n",
    "\n",
    "    # highlight test samples\n",
    "    if test_idx:\n",
    "        # plot all samples\n",
    "        if not versiontuple(np.__version__) >= versiontuple('1.9.0'):\n",
    "            X_test, y_test = X[list(test_idx), :], y[list(test_idx)]\n",
    "            warnings.warn('Please update to NumPy 1.9.0 or newer')\n",
    "        else:\n",
    "            X_test, y_test = X[test_idx, :], y[test_idx]\n",
    "\n",
    "        plt.scatter(X_test[:, 0],\n",
    "                    X_test[:, 1],\n",
    "                    alpha=0.15,\n",
    "                    linewidths=2,\n",
    "                    marker='^',\n",
    "                    edgecolors='black',\n",
    "                    facecolors='none',\n",
    "                    s=55, label='test set')"
   ]
  },
  {
   "cell_type": "code",
   "execution_count": 106,
   "metadata": {},
   "outputs": [
    {
     "name": "stdout",
     "output_type": "stream",
     "text": [
      "Misclassified samples: 2884\n",
      "Accuracy: 0.91\n"
     ]
    }
   ],
   "source": [
    "from sklearn.preprocessing import MinMaxScaler\n",
    "from sklearn.linear_model import Perceptron\n",
    "from sklearn.metrics import accuracy_score\n",
    "import numpy as np\n",
    "\n",
    "# # 初始化一个感知器，只进行两个feature的分类\n",
    "# ppn = Perceptron(max_iter=10, eta0=0.1, random_state=0)\n",
    "# ppn.fit(X_train_std[:,0:2], y_train[:])\n",
    "\n",
    "# y_pred = ppn.predict(X_test_std[:,0:2])\n",
    "\n",
    "# 创建 MinMaxScaler 对象\n",
    "min_max_scaler = MinMaxScaler()\n",
    "# 在训练集上拟合和转换数据\n",
    "X_train_minmax = min_max_scaler.fit_transform(X_train)\n",
    "# 在测试集上应用相同的缩放\n",
    "X_test_minmax = min_max_scaler.transform(X_test)\n",
    "\n",
    "# 初始化一个感知器，只进行feature的分类\n",
    "ppn = Perceptron(max_iter=30, eta0=0.1, random_state=0)\n",
    "ppn.fit(X_train_minmax, y_train)\n",
    "\n",
    "y_pred = ppn.predict(X_test_minmax)\n",
    "\n",
    "print('Misclassified samples: %d' % (y_test != y_pred).sum())\n",
    "print('Accuracy: %.2f' % accuracy_score(y_test, y_pred))"
   ]
  },
  {
   "cell_type": "code",
   "execution_count": 110,
   "metadata": {},
   "outputs": [
    {
     "data": {
      "image/png": "[encoded data removed]",
      "text/plain": [
       "<Figure size 640x480 with 1 Axes>"
      ]
     },
     "metadata": {},
     "output_type": "display_data"
    }
   ],
   "source": [
    "%matplotlib inline\n",
    "X_combined_std = np.vstack((X_train_minmax, X_test_minmax))\n",
    "y_combined = np.hstack((y_train, y_test))\n",
    "\n",
    "plot_decision_regions(X=X_combined_std[:,0:2], y=y_combined,\n",
    "                      classifier=ppn, test_idx=range(X_train_std.shape[0]-1, X.shape[0]))\n",
    "plt.xlabel('feature1 [standardized]')\n",
    "plt.ylabel('feature2 [standardized]')\n",
    "plt.legend(loc='upper left')\n",
    "\n",
    "plt.tight_layout()\n",
    "plt.show()"
   ]
  },
  {
   "cell_type": "markdown",
   "metadata": {},
   "source": [
    "### Logistic regression\n",
    "- 提示：<span style='color:white'>from sklearn import linear_model('Gender') </span>"
   ]
  },
  {
   "cell_type": "markdown",
   "metadata": {},
   "source": [
    "- Softmax function:\n",
    "$P\\left(y_i\\right)=\\frac{\\exp \\left(y_i\\right)}{\\sum_{j=1}^n \\exp \\left(y_j\\right)}$\n",
    "    - When n=1 => sigmoid function"
   ]
  },
  {
   "cell_type": "code",
   "execution_count": 108,
   "metadata": {
    "collapsed": true,
    "jupyter": {
     "outputs_hidden": true
    }
   },
   "outputs": [
    {
     "data": {
      "text/html": [
       "<style>#sk-container-id-16 {color: black;}#sk-container-id-16 pre{padding: 0;}#sk-container-id-16 div.sk-toggleable {background-color: white;}#sk-container-id-16 label.sk-toggleable__label {cursor: pointer;display: block;width: 100%;margin-bottom: 0;padding: 0.3em;box-sizing: border-box;text-align: center;}#sk-container-id-16 label.sk-toggleable__label-arrow:before {content: \"▸\";float: left;margin-right: 0.25em;color: #696969;}#sk-container-id-16 label.sk-toggleable__label-arrow:hover:before {color: black;}#sk-container-id-16 div.sk-estimator:hover label.sk-toggleable__label-arrow:before {color: black;}#sk-container-id-16 div.sk-toggleable__content {max-height: 0;max-width: 0;overflow: hidden;text-align: left;background-color: #f0f8ff;}#sk-container-id-16 div.sk-toggleable__content pre {margin: 0.2em;color: black;border-radius: 0.25em;background-color: #f0f8ff;}#sk-container-id-16 input.sk-toggleable__control:checked~div.sk-toggleable__content {max-height: 200px;max-width: 100%;overflow: auto;}#sk-container-id-16 input.sk-toggleable__control:checked~label.sk-toggleable__label-arrow:before {content: \"▾\";}#sk-container-id-16 div.sk-estimator input.sk-toggleable__control:checked~label.sk-toggleable__label {background-color: #d4ebff;}#sk-container-id-16 div.sk-label input.sk-toggleable__control:checked~label.sk-toggleable__label {background-color: #d4ebff;}#sk-container-id-16 input.sk-hidden--visually {border: 0;clip: rect(1px 1px 1px 1px);clip: rect(1px, 1px, 1px, 1px);height: 1px;margin: -1px;overflow: hidden;padding: 0;position: absolute;width: 1px;}#sk-container-id-16 div.sk-estimator {font-family: monospace;background-color: #f0f8ff;border: 1px dotted black;border-radius: 0.25em;box-sizing: border-box;margin-bottom: 0.5em;}#sk-container-id-16 div.sk-estimator:hover {background-color: #d4ebff;}#sk-container-id-16 div.sk-parallel-item::after {content: \"\";width: 100%;border-bottom: 1px solid gray;flex-grow: 1;}#sk-container-id-16 div.sk-label:hover label.sk-toggleable__label {background-color: #d4ebff;}#sk-container-id-16 div.sk-serial::before {content: \"\";position: absolute;border-left: 1px solid gray;box-sizing: border-box;top: 0;bottom: 0;left: 50%;z-index: 0;}#sk-container-id-16 div.sk-serial {display: flex;flex-direction: column;align-items: center;background-color: white;padding-right: 0.2em;padding-left: 0.2em;position: relative;}#sk-container-id-16 div.sk-item {position: relative;z-index: 1;}#sk-container-id-16 div.sk-parallel {display: flex;align-items: stretch;justify-content: center;background-color: white;position: relative;}#sk-container-id-16 div.sk-item::before, #sk-container-id-16 div.sk-parallel-item::before {content: \"\";position: absolute;border-left: 1px solid gray;box-sizing: border-box;top: 0;bottom: 0;left: 50%;z-index: -1;}#sk-container-id-16 div.sk-parallel-item {display: flex;flex-direction: column;z-index: 1;position: relative;background-color: white;}#sk-container-id-16 div.sk-parallel-item:first-child::after {align-self: flex-end;width: 50%;}#sk-container-id-16 div.sk-parallel-item:last-child::after {align-self: flex-start;width: 50%;}#sk-container-id-16 div.sk-parallel-item:only-child::after {width: 0;}#sk-container-id-16 div.sk-dashed-wrapped {border: 1px dashed gray;margin: 0 0.4em 0.5em 0.4em;box-sizing: border-box;padding-bottom: 0.4em;background-color: white;}#sk-container-id-16 div.sk-label label {font-family: monospace;font-weight: bold;display: inline-block;line-height: 1.2em;}#sk-container-id-16 div.sk-label-container {text-align: center;}#sk-container-id-16 div.sk-container {/* jupyter's `normalize.less` sets `[hidden] { display: none; }` but bootstrap.min.css set `[hidden] { display: none !important; }` so we also need the `!important` here to be able to override the default hidden behavior on the sphinx rendered scikit-learn.org. See: https://github.com/scikit-learn/scikit-learn/issues/21755 */display: inline-block !important;position: relative;}#sk-container-id-16 div.sk-text-repr-fallback {display: none;}</style><div id=\"sk-container-id-16\" class=\"sk-top-container\"><div class=\"sk-text-repr-fallback\"><pre>LogisticRegression(C=1000.0, max_iter=250, random_state=0)</pre><b>In a Jupyter environment, please rerun this cell to show the HTML representation or trust the notebook. <br />On GitHub, the HTML representation is unable to render, please try loading this page with nbviewer.org.</b></div><div class=\"sk-container\" hidden><div class=\"sk-item\"><div class=\"sk-estimator sk-toggleable\"><input class=\"sk-toggleable__control sk-hidden--visually\" id=\"sk-estimator-id-16\" type=\"checkbox\" checked><label for=\"sk-estimator-id-16\" class=\"sk-toggleable__label sk-toggleable__label-arrow\">LogisticRegression</label><div class=\"sk-toggleable__content\"><pre>LogisticRegression(C=1000.0, max_iter=250, random_state=0)</pre></div></div></div></div></div>"
      ],
      "text/plain": [
       "LogisticRegression(C=1000.0, max_iter=250, random_state=0)"
      ]
     },
     "execution_count": 108,
     "metadata": {},
     "output_type": "execute_result"
    }
   ],
   "source": [
    "## your code here\n",
    "from sklearn.linear_model import LogisticRegression\n",
    "\n",
    "lr = LogisticRegression(C=1000.0, max_iter=250, random_state=0)\n",
    "lr.fit(X_train_minmax, y_train)"
   ]
  },
  {
   "cell_type": "code",
   "execution_count": 111,
   "metadata": {},
   "outputs": [
    {
     "data": {
      "text/plain": [
       "array([[0.96871123, 0.03128877]])"
      ]
     },
     "execution_count": 111,
     "metadata": {},
     "output_type": "execute_result"
    }
   ],
   "source": [
    "# 采用lr.predict_proba\n",
    "# 结果为：array([[0.96871123, 0.03128877]])\n",
    "lr.predict_proba(X_test_minmax[0, :].reshape(1, -1))\n",
    "\n",
    "# lr.coef_\n",
    "# y_test[0]\n",
    "X_test_minmax[0,:]\n",
    "# 结果为：\n",
    "#   array([2.53818062e-06, 5.92233010e-01, 0.00000000e+00, 7.90367612e-01,\n",
    "    #    1.49530586e-03, 4.21052632e-01, 0.00000000e+00, 1.53846154e-01,\n",
    "    #    0.00000000e+00, 0.00000000e+00])\n",
    "lr.coef_.T\n",
    "# 结果为：\n",
    "#   array([[ -3.91715749],\n",
    "    #    [ -2.60217402],\n",
    "    #    [ 47.14416121],\n",
    "    #    [  1.41076795],\n",
    "    #    [-18.68373464],\n",
    "    #    [ -1.03644689],\n",
    "    #    [ 46.1767893 ],\n",
    "    #    [ -4.82975709],\n",
    "    #    [-89.4516986 ],\n",
    "    #    [  2.011168  ]])\n",
    "lr.intercept_\n",
    "# 结果为：\n",
    "# array([-1.79925325])\n",
    "\n",
    "def softmax(x):\n",
    "    e_x = np.exp(x - np.max(x))\n",
    "    return e_x / e_x.sum(axis=0)\n",
    "# check\n",
    "softmax((X_test_minmax[0, :] @ lr.coef_.T + lr.intercept_))\n",
    "# 结果为：\n",
    "# array([1.])\n",
    "\n",
    "# 在这里为什么得到的结果与lr.predict_proba得到的结果不一样？\n",
    "# 这里的y应该是有两个类别0和1，为什么lr.intercept_只有一个值"
   ]
  },
  {
   "cell_type": "code",
   "execution_count": 115,
   "metadata": {},
   "outputs": [
    {
     "data": {
      "text/plain": [
       "array([1.])"
      ]
     },
     "execution_count": 115,
     "metadata": {},
     "output_type": "execute_result"
    }
   ],
   "source": [
    "def softmax(x):\n",
    "    e_x = np.exp(x - np.max(x))\n",
    "    return e_x / e_x.sum(axis=0)\n",
    "# check\n",
    "softmax((X_test_minmax[0, :] @ lr.coef_.T + lr.intercept_))"
   ]
  },
  {
   "cell_type": "code",
   "execution_count": 55,
   "metadata": {},
   "outputs": [
    {
     "name": "stderr",
     "output_type": "stream",
     "text": [
      "c:\\Users\\Ultimator\\AppData\\Local\\Programs\\Python\\Python311\\Lib\\site-packages\\sklearn\\linear_model\\_logistic.py:460: ConvergenceWarning: lbfgs failed to converge (status=1):\n",
      "STOP: TOTAL NO. of ITERATIONS REACHED LIMIT.\n",
      "\n",
      "Increase the number of iterations (max_iter) or scale the data as shown in:\n",
      "    https://scikit-learn.org/stable/modules/preprocessing.html\n",
      "Please also refer to the documentation for alternative solver options:\n",
      "    https://scikit-learn.org/stable/modules/linear_model.html#logistic-regression\n",
      "  n_iter_i = _check_optimize_result(\n",
      "c:\\Users\\Ultimator\\AppData\\Local\\Programs\\Python\\Python311\\Lib\\site-packages\\sklearn\\linear_model\\_logistic.py:460: ConvergenceWarning: lbfgs failed to converge (status=1):\n",
      "STOP: TOTAL NO. of ITERATIONS REACHED LIMIT.\n",
      "\n",
      "Increase the number of iterations (max_iter) or scale the data as shown in:\n",
      "    https://scikit-learn.org/stable/modules/preprocessing.html\n",
      "Please also refer to the documentation for alternative solver options:\n",
      "    https://scikit-learn.org/stable/modules/linear_model.html#logistic-regression\n",
      "  n_iter_i = _check_optimize_result(\n",
      "c:\\Users\\Ultimator\\AppData\\Local\\Programs\\Python\\Python311\\Lib\\site-packages\\sklearn\\linear_model\\_logistic.py:460: ConvergenceWarning: lbfgs failed to converge (status=1):\n",
      "STOP: TOTAL NO. of ITERATIONS REACHED LIMIT.\n",
      "\n",
      "Increase the number of iterations (max_iter) or scale the data as shown in:\n",
      "    https://scikit-learn.org/stable/modules/preprocessing.html\n",
      "Please also refer to the documentation for alternative solver options:\n",
      "    https://scikit-learn.org/stable/modules/linear_model.html#logistic-regression\n",
      "  n_iter_i = _check_optimize_result(\n",
      "c:\\Users\\Ultimator\\AppData\\Local\\Programs\\Python\\Python311\\Lib\\site-packages\\sklearn\\linear_model\\_logistic.py:460: ConvergenceWarning: lbfgs failed to converge (status=1):\n",
      "STOP: TOTAL NO. of ITERATIONS REACHED LIMIT.\n",
      "\n",
      "Increase the number of iterations (max_iter) or scale the data as shown in:\n",
      "    https://scikit-learn.org/stable/modules/preprocessing.html\n",
      "Please also refer to the documentation for alternative solver options:\n",
      "    https://scikit-learn.org/stable/modules/linear_model.html#logistic-regression\n",
      "  n_iter_i = _check_optimize_result(\n",
      "c:\\Users\\Ultimator\\AppData\\Local\\Programs\\Python\\Python311\\Lib\\site-packages\\sklearn\\linear_model\\_logistic.py:460: ConvergenceWarning: lbfgs failed to converge (status=1):\n",
      "STOP: TOTAL NO. of ITERATIONS REACHED LIMIT.\n",
      "\n",
      "Increase the number of iterations (max_iter) or scale the data as shown in:\n",
      "    https://scikit-learn.org/stable/modules/preprocessing.html\n",
      "Please also refer to the documentation for alternative solver options:\n",
      "    https://scikit-learn.org/stable/modules/linear_model.html#logistic-regression\n",
      "  n_iter_i = _check_optimize_result(\n",
      "c:\\Users\\Ultimator\\AppData\\Local\\Programs\\Python\\Python311\\Lib\\site-packages\\sklearn\\linear_model\\_logistic.py:460: ConvergenceWarning: lbfgs failed to converge (status=1):\n",
      "STOP: TOTAL NO. of ITERATIONS REACHED LIMIT.\n",
      "\n",
      "Increase the number of iterations (max_iter) or scale the data as shown in:\n",
      "    https://scikit-learn.org/stable/modules/preprocessing.html\n",
      "Please also refer to the documentation for alternative solver options:\n",
      "    https://scikit-learn.org/stable/modules/linear_model.html#logistic-regression\n",
      "  n_iter_i = _check_optimize_result(\n"
     ]
    },
    {
     "data": {
      "image/png": "[encoded data removed]",
      "text/plain": [
       "<Figure size 640x480 with 1 Axes>"
      ]
     },
     "metadata": {},
     "output_type": "display_data"
    }
   ],
   "source": [
    "weights, params = [], []\n",
    "for c in np.arange(-5, 10):\n",
    "    lr = LogisticRegression(C=10**(c*1.0), random_state=0)\n",
    "    lr.fit(X_train_minmax, y_train)\n",
    "    weights.append(lr.coef_[0]) # for a target class\n",
    "    params.append(10**(c*1.0))\n",
    "weights = np.array(weights)\n",
    "plt.plot(params, weights[:, 0],\n",
    "         label='1')\n",
    "plt.plot(params, weights[:, 1], linestyle='--',\n",
    "         label='2')\n",
    "plt.ylabel('weight coefficient')\n",
    "plt.xlabel('C')\n",
    "plt.legend(loc='upper left')\n",
    "plt.xscale('log')\n",
    "plt.show()\n",
    "\n",
    "# 在这段代码中，我们在一个范围内遍历了不同的C值（通过10**(c*1.0)计算得到），对每个C值，我们都训练了一个逻辑回归模型，并保存了模型的权重和对应的C值。\n",
    "# 然后，我们将模型对于两个特征（'petal length'和'petal width'）的权重随C值的变化绘制在同一张图上。"
   ]
  },
  {
   "cell_type": "markdown",
   "metadata": {},
   "source": [
    "### Decision Tree\n",
    "- 提示：<span style='color:white'>from sklearn.tree import DecisionTreeClassifier('Gender') </span>"
   ]
  },
  {
   "cell_type": "code",
   "execution_count": 130,
   "metadata": {
    "collapsed": true,
    "jupyter": {
     "outputs_hidden": true
    }
   },
   "outputs": [
    {
     "name": "stdout",
     "output_type": "stream",
     "text": [
      "DecisionTreeClassifier:\n",
      "Misclassified samples: 2171\n",
      "Accuracy: 0.93\n"
     ]
    }
   ],
   "source": [
    "## your code here\n",
    "from sklearn.tree import DecisionTreeClassifier\n",
    "\n",
    "tree = DecisionTreeClassifier(criterion='entropy', max_depth=3, random_state=0)\n",
    "tree.fit(X_train, y_train)\n",
    "y_pred_tree = tree.predict(X_test_minmax)\n",
    "print('DecisionTreeClassifier:')\n",
    "print('Misclassified samples: %d' % (y_test != y_pred_tree).sum())\n",
    "print('Accuracy: %.2f' % accuracy_score(y_test, y_pred_tree))\n"
   ]
  },
  {
   "cell_type": "markdown",
   "metadata": {},
   "source": [
    "### Random Forest\n",
    "- 提示：<span style='color:white'>from sklearn.ensemble import RandomForestClassifier('Gender') </span>"
   ]
  },
  {
   "cell_type": "code",
   "execution_count": 132,
   "metadata": {
    "collapsed": true,
    "jupyter": {
     "outputs_hidden": true
    }
   },
   "outputs": [
    {
     "name": "stdout",
     "output_type": "stream",
     "text": [
      "RandomForestClassifier:\n",
      "Misclassified samples: 2169\n",
      "Accuracy: 0.93\n"
     ]
    }
   ],
   "source": [
    "## your code here\n",
    "from sklearn.ensemble import RandomForestClassifier\n",
    "\n",
    "forest = RandomForestClassifier(criterion='entropy', \n",
    "                                n_estimators=10, # The number of trees in the forest.\n",
    "                                random_state=1,\n",
    "                                n_jobs=2)\n",
    "forest.fit(X_train, y_train)\n",
    "y_pred_forest = forest.predict(X_test_minmax)\n",
    "print('RandomForestClassifier:')\n",
    "print('Misclassified samples: %d' % (y_test != y_pred_forest).sum())\n",
    "print('Accuracy: %.2f' % accuracy_score(y_test, y_pred_forest))"
   ]
  },
  {
   "cell_type": "markdown",
   "metadata": {},
   "source": [
    "### SVM\n",
    "- 提示：<span style='color:white'>from sklearn.svm import SVC('Gender') </span>"
   ]
  },
  {
   "cell_type": "code",
   "execution_count": 125,
   "metadata": {
    "collapsed": true,
    "jupyter": {
     "outputs_hidden": true
    }
   },
   "outputs": [
    {
     "name": "stdout",
     "output_type": "stream",
     "text": [
      "LogisticRegression:\n",
      "Misclassified samples: 2169\n",
      "Accuracy: 0.93\n"
     ]
    }
   ],
   "source": [
    "## your code here\n",
    "from sklearn.svm import SVC\n",
    "\n",
    "svm = SVC(kernel='linear', C=1.0, random_state=0)\n",
    "svm.fit(X_train_minmax, y_train)\n",
    "# 如果 kernel 为 ‘rbf’，那么就使用径向基函数（RBF）核计算 kernelValue\n",
    "# 这里计算每个训练样本与待计算样本之间的欧氏距离，并根据参数 sigma 计算出高斯核函数的值。\n",
    "y_pred_svm = svm.predict(X_test_minmax)\n",
    "print('SVM:')\n",
    "print('Misclassified samples: %d' % (y_test != y_pred_svm).sum())\n",
    "print('Accuracy: %.2f' % accuracy_score(y_test, y_pred_svm))"
   ]
  },
  {
   "cell_type": "code",
   "execution_count": null,
   "metadata": {},
   "outputs": [],
   "source": [
    "## your code here\n",
    "from sklearn.svm import SVC\n",
    "\n",
    "svm = SVC(kernel='linear', C=1.0, random_state=0)\n",
    "svm.fit(X_train_minmax, y_train)\n",
    "# 如果 kernel 为 ‘rbf’，那么就使用径向基函数（RBF）核计算 kernelValue\n",
    "# 这里计算每个训练样本与待计算样本之间的欧氏距离，并根据参数 sigma 计算出高斯核函数的值。\n",
    "y_pred_svm = svm.predict(X_test_minmax)\n",
    "print('LogisticRegression:')\n",
    "print('Misclassified samples: %d' % (y_test != y_pred_svm).sum())\n",
    "print('Accuracy: %.2f' % accuracy_score(y_test, y_pred_svm))\n",
    "# print(\"逻辑回归模型的准确度:\", y_pred_lr)"
   ]
  },
  {
   "cell_type": "markdown",
   "metadata": {},
   "source": [
    "### KNN\n",
    "- 提示：<span style='color:white'>from sklearn.neighbors import KNeighborsClassifier('Gender') </span>"
   ]
  },
  {
   "cell_type": "code",
   "execution_count": 137,
   "metadata": {
    "collapsed": true,
    "jupyter": {
     "outputs_hidden": true
    }
   },
   "outputs": [
    {
     "name": "stdout",
     "output_type": "stream",
     "text": [
      "KNeighborsClassifier:\n",
      "Misclassified samples: 2169\n",
      "Accuracy: 0.93\n"
     ]
    }
   ],
   "source": [
    "## your code here\n",
    "## your code here\n",
    "from sklearn.neighbors import KNeighborsClassifier\n",
    "\n",
    "knn = KNeighborsClassifier(n_neighbors=5, p=2, metric='minkowski')\n",
    "knn.fit(X_train_minmax, y_train)\n",
    "y_pred_knn = svm.predict(X_test_minmax)\n",
    "print('KNeighborsClassifier:')\n",
    "print('Misclassified samples: %d' % (y_test != y_pred_knn).sum())\n",
    "print('Accuracy: %.2f' % accuracy_score(y_test, y_pred_knn))"
   ]
  },
  {
   "cell_type": "markdown",
   "metadata": {},
   "source": [
    "---\n",
    "\n",
    "## 练习3：在测试集上进行预测，计算准确度"
   ]
  },
  {
   "cell_type": "code",
   "execution_count": null,
   "metadata": {},
   "outputs": [],
   "source": [
    "from sklearn.metrics import confusion_matrix, accuracy_score, precision_score, recall_score, f1_score"
   ]
  },
  {
   "cell_type": "markdown",
   "metadata": {},
   "source": [
    "### Logistic regression\n",
    "- 提示：<span style='color:white'>y_pred_LR = clf_LR.predict(x_test)('Gender') </span>"
   ]
  },
  {
   "cell_type": "code",
   "execution_count": 153,
   "metadata": {
    "collapsed": true,
    "jupyter": {
     "outputs_hidden": true
    }
   },
   "outputs": [
    {
     "name": "stdout",
     "output_type": "stream",
     "text": [
      "LogisticRegression:\n",
      "Misclassified samples: 2156\n",
      "Accuracy: 0.93\n",
      "混淆矩阵:\n",
      "[[30350    74]\n",
      " [ 2082    89]]\n",
      "准确度: 0.9338548857186685\n",
      "精确度: 0.5460122699386503\n",
      "召回率: 0.04099493321050207\n",
      "F1 分数: 0.07626392459297343\n"
     ]
    }
   ],
   "source": [
    "## your code here\n",
    "from sklearn.linear_model import LogisticRegression\n",
    "from sklearn.metrics import accuracy_score\n",
    "\n",
    "lr = LogisticRegression(C=1000.0, max_iter=250, random_state=0)\n",
    "lr.fit(X_train_minmax, y_train)\n",
    "y_pred_lr = lr.predict(X_test_minmax)\n",
    "\n",
    "print('LogisticRegression:')\n",
    "print('Misclassified samples: %d' % (y_test != y_pred_lr).sum())\n",
    "print('Accuracy: %.2f' % accuracy_score(y_test, y_pred_lr))\n",
    "# print(\"逻辑回归模型的准确度:\", y_pred_lr)\n",
    "\n",
    "conf_matrix = confusion_matrix(y_test, y_pred_lr) # 计算混淆矩阵\n",
    "accuracy = accuracy_score(y_test, y_pred_lr) # 计算准确度\n",
    "precision = precision_score(y_test, y_pred_lr) # 计算精确度\n",
    "recall = recall_score(y_test, y_pred_lr) # 计算召回率\n",
    "f1 = f1_score(y_test, y_pred_lr) # 计算 F1 分数\n",
    "\n",
    "print(\"混淆矩阵:\")\n",
    "print(conf_matrix)\n",
    "print(\"准确度:\", accuracy)\n",
    "print(\"精确度:\", precision)\n",
    "print(\"召回率:\", recall)\n",
    "print(\"F1 分数:\", f1)"
   ]
  },
  {
   "cell_type": "markdown",
   "metadata": {},
   "source": [
    "### Decision Tree\n",
    "- 提示：<span style='color:white'>y_pred_tree = tree.predict(x_test)('Gender') </span>"
   ]
  },
  {
   "cell_type": "code",
   "execution_count": 152,
   "metadata": {
    "collapsed": true,
    "jupyter": {
     "outputs_hidden": true
    }
   },
   "outputs": [
    {
     "name": "stdout",
     "output_type": "stream",
     "text": [
      "DecisionTreeClassifier:\n",
      "Misclassified samples: 2118\n",
      "Accuracy: 0.94\n",
      "混淆矩阵:\n",
      "[[30104   320]\n",
      " [ 1798   373]]\n",
      "准确度: 0.935020708697653\n",
      "精确度: 0.5382395382395382\n",
      "召回率: 0.17181022570244128\n",
      "F1 分数: 0.2604748603351955\n"
     ]
    }
   ],
   "source": [
    "## your code here\n",
    "from sklearn.tree import DecisionTreeClassifier\n",
    "\n",
    "tree = DecisionTreeClassifier(criterion='entropy', max_depth=3, random_state=0)\n",
    "tree.fit(X_train_minmax, y_train)\n",
    "y_pred_tree = tree.predict(X_test_minmax)\n",
    "print('DecisionTreeClassifier:')\n",
    "print('Misclassified samples: %d' % (y_test != y_pred_tree).sum())\n",
    "print('Accuracy: %.2f' % accuracy_score(y_test, y_pred_tree))\n",
    "\n",
    "conf_matrix = confusion_matrix(y_test, y_pred_tree) # 计算混淆矩阵\n",
    "accuracy = accuracy_score(y_test, y_pred_tree) # 计算准确度\n",
    "precision = precision_score(y_test, y_pred_tree) # 计算精确度\n",
    "recall = recall_score(y_test, y_pred_tree) # 计算召回率\n",
    "f1 = f1_score(y_test, y_pred_tree) # 计算 F1 分数\n",
    "\n",
    "print(\"混淆矩阵:\")\n",
    "print(conf_matrix)\n",
    "print(\"准确度:\", accuracy)\n",
    "print(\"精确度:\", precision)\n",
    "print(\"召回率:\", recall)\n",
    "print(\"F1 分数:\", f1)"
   ]
  },
  {
   "cell_type": "markdown",
   "metadata": {},
   "source": [
    "### Random Forest\n",
    "- 提示：<span style='color:white'>y_pred_forest = forest.predict(x_test)('Gender') </span>"
   ]
  },
  {
   "cell_type": "code",
   "execution_count": 151,
   "metadata": {
    "collapsed": true,
    "jupyter": {
     "outputs_hidden": true
    }
   },
   "outputs": [
    {
     "name": "stdout",
     "output_type": "stream",
     "text": [
      "RandomForestClassifier:\n",
      "Misclassified samples: 2184\n",
      "Accuracy: 0.93\n",
      "混淆矩阵:\n",
      "[[30100   324]\n",
      " [ 1860   311]]\n",
      "准确度: 0.9329958582604694\n",
      "精确度: 0.48976377952755906\n",
      "召回率: 0.1432519576232151\n",
      "F1 分数: 0.22166785459729152\n"
     ]
    }
   ],
   "source": [
    "## your code here\n",
    "## your code here\n",
    "from sklearn.ensemble import RandomForestClassifier\n",
    "\n",
    "forest = RandomForestClassifier(criterion='entropy', \n",
    "                                n_estimators=10, # The number of trees in the forest.\n",
    "                                random_state=1,\n",
    "                                n_jobs=2)\n",
    "forest.fit(X_train_minmax, y_train)\n",
    "y_pred_forest = forest.predict(X_test_minmax)\n",
    "print('RandomForestClassifier:')\n",
    "print('Misclassified samples: %d' % (y_test != y_pred_forest).sum())\n",
    "print('Accuracy: %.2f' % accuracy_score(y_test, y_pred_forest))\n",
    "\n",
    "conf_matrix = confusion_matrix(y_test, y_pred_forest) # 计算混淆矩阵\n",
    "accuracy = accuracy_score(y_test, y_pred_forest) # 计算准确度\n",
    "precision = precision_score(y_test, y_pred_forest) # 计算精确度\n",
    "recall = recall_score(y_test, y_pred_forest) # 计算召回率\n",
    "f1 = f1_score(y_test, y_pred_forest) # 计算 F1 分数\n",
    "\n",
    "print(\"混淆矩阵:\")\n",
    "print(conf_matrix)\n",
    "print(\"准确度:\", accuracy)\n",
    "print(\"精确度:\", precision)\n",
    "print(\"召回率:\", recall)\n",
    "print(\"F1 分数:\", f1)"
   ]
  },
  {
   "cell_type": "markdown",
   "metadata": {},
   "source": [
    "### SVM\n",
    "- 提示：<span style='color:white'>y_pred_SVC = clf_svc.predict(x_test)('Gender') </span>"
   ]
  },
  {
   "cell_type": "code",
   "execution_count": 150,
   "metadata": {
    "collapsed": true,
    "jupyter": {
     "outputs_hidden": true
    }
   },
   "outputs": [
    {
     "name": "stdout",
     "output_type": "stream",
     "text": [
      "SVM:\n",
      "Misclassified samples: 2169\n",
      "Accuracy: 0.93\n",
      "混淆矩阵:\n",
      "[[30406    18]\n",
      " [ 2151    20]]\n",
      "准确度: 0.9334560515416475\n",
      "精确度: 0.5263157894736842\n",
      "召回率: 0.009212344541685858\n",
      "F1 分数: 0.01810774105930285\n"
     ]
    }
   ],
   "source": [
    "## your code here\n",
    "## your code here\n",
    "from sklearn.svm import SVC\n",
    "\n",
    "svm = SVC(kernel='linear', C=1.0, random_state=0)\n",
    "svm.fit(X_train_minmax, y_train)\n",
    "# 如果 kernel 为 ‘rbf’，那么就使用径向基函数（RBF）核计算 kernelValue\n",
    "# 这里计算每个训练样本与待计算样本之间的欧氏距离，并根据参数 sigma 计算出高斯核函数的值。\n",
    "y_pred_svm = svm.predict(X_test_minmax)\n",
    "print('SVM:')\n",
    "print('Misclassified samples: %d' % (y_test != y_pred_svm).sum())\n",
    "print('Accuracy: %.2f' % accuracy_score(y_test, y_pred_svm))\n",
    "\n",
    "conf_matrix = confusion_matrix(y_test, y_pred_svm) # 计算混淆矩阵\n",
    "accuracy = accuracy_score(y_test, y_pred_svm) # 计算准确度\n",
    "precision = precision_score(y_test, y_pred_svm) # 计算精确度\n",
    "recall = recall_score(y_test, y_pred_svm) # 计算召回率\n",
    "f1 = f1_score(y_test, y_pred_svm) # 计算 F1 分数\n",
    "\n",
    "print(\"混淆矩阵:\")\n",
    "print(conf_matrix)\n",
    "print(\"准确度:\", accuracy)\n",
    "print(\"精确度:\", precision)\n",
    "print(\"召回率:\", recall)\n",
    "print(\"F1 分数:\", f1)"
   ]
  },
  {
   "cell_type": "markdown",
   "metadata": {},
   "source": [
    "### KNN\n",
    "- 提示：<span style='color:white'>y_pred_KNN = neigh.predict(x_test)('Gender') </span>"
   ]
  },
  {
   "cell_type": "code",
   "execution_count": 149,
   "metadata": {
    "collapsed": true,
    "jupyter": {
     "outputs_hidden": true
    }
   },
   "outputs": [
    {
     "name": "stdout",
     "output_type": "stream",
     "text": [
      "KNeighborsClassifier:\n",
      "Misclassified samples: 2169\n",
      "Accuracy: 0.93\n",
      "混淆矩阵:\n",
      "[[30406    18]\n",
      " [ 2151    20]]\n",
      "准确度: 0.9334560515416475\n",
      "精确度: 0.5263157894736842\n",
      "召回率: 0.009212344541685858\n",
      "F1 分数: 0.01810774105930285\n"
     ]
    }
   ],
   "source": [
    "## your code here\n",
    "from sklearn.neighbors import KNeighborsClassifier\n",
    "\n",
    "knn = KNeighborsClassifier(n_neighbors=5, p=2, metric='minkowski')\n",
    "knn.fit(X_train_minmax, y_train)\n",
    "y_pred_knn = svm.predict(X_test_minmax)\n",
    "print('KNeighborsClassifier:')\n",
    "print('Misclassified samples: %d' % (y_test != y_pred_knn).sum())\n",
    "print('Accuracy: %.2f' % accuracy_score(y_test, y_pred_knn))\n",
    "\n",
    "conf_matrix = confusion_matrix(y_test, y_pred_knn) # 计算混淆矩阵\n",
    "accuracy = accuracy_score(y_test, y_pred_knn) # 计算准确度\n",
    "precision = precision_score(y_test, y_pred_knn) # 计算精确度\n",
    "recall = recall_score(y_test, y_pred_knn) # 计算召回率\n",
    "f1 = f1_score(y_test, y_pred_knn) # 计算 F1 分数\n",
    "\n",
    "print(\"混淆矩阵:\")\n",
    "print(conf_matrix)\n",
    "print(\"准确度:\", accuracy)\n",
    "print(\"精确度:\", precision)\n",
    "print(\"召回率:\", recall)\n",
    "print(\"F1 分数:\", f1)\n"
   ]
  },
  {
   "cell_type": "markdown",
   "metadata": {},
   "source": [
    "---\n",
    "## 练习4：查看sklearn的官方说明，了解分类问题的评估标准，并对此例进行评估"
   ]
  },
  {
   "cell_type": "markdown",
   "metadata": {},
   "source": [
    "**混淆矩阵（Confusion Matrix）相关学习链接**\n",
    "\n",
    "- Blog:<br>\n",
    "http://blog.csdn.net/vesper305/article/details/44927047<br>\n",
    "- WiKi:<br>\n",
    "http://en.wikipedia.org/wiki/Confusion_matrix<br>\n",
    "- sklearn doc:<br>\n",
    "http://scikit-learn.org/stable/modules/generated/sklearn.metrics.confusion_matrix.html"
   ]
  },
  {
   "cell_type": "code",
   "execution_count": 138,
   "metadata": {},
   "outputs": [
    {
     "name": "stdout",
     "output_type": "stream",
     "text": [
      "DecisionTreeClassifier:\n",
      "Misclassified samples: 2118\n",
      "Accuracy: 0.94\n"
     ]
    }
   ],
   "source": [
    "# 考虑到上述的模型中决策树具有较好的性能，因此采用决策树进行混淆矩阵的分析\n",
    "from sklearn.tree import DecisionTreeClassifier\n",
    "\n",
    "tree = DecisionTreeClassifier(criterion='entropy', max_depth=3, random_state=0)\n",
    "tree.fit(X_train_minmax, y_train)\n",
    "y_pred_tree = tree.predict(X_test_minmax)\n",
    "print('DecisionTreeClassifier:')\n",
    "print('Misclassified samples: %d' % (y_test != y_pred_tree).sum())\n",
    "print('Accuracy: %.2f' % accuracy_score(y_test, y_pred_tree))"
   ]
  },
  {
   "cell_type": "code",
   "execution_count": 139,
   "metadata": {
    "collapsed": true,
    "jupyter": {
     "outputs_hidden": true
    }
   },
   "outputs": [
    {
     "name": "stdout",
     "output_type": "stream",
     "text": [
      "混淆矩阵:\n",
      "[[30104   320]\n",
      " [ 1798   373]]\n",
      "准确度: 0.935020708697653\n",
      "精确度: 0.5382395382395382\n",
      "召回率: 0.17181022570244128\n",
      "F1 分数: 0.2604748603351955\n"
     ]
    }
   ],
   "source": [
    "## your code here\n",
    "from sklearn.metrics import confusion_matrix, accuracy_score, precision_score, recall_score, f1_score\n",
    "\n",
    "\n",
    "conf_matrix = confusion_matrix(y_test, y_pred_tree) # 计算混淆矩阵\n",
    "accuracy = accuracy_score(y_test, y_pred_tree) # 计算准确度\n",
    "precision = precision_score(y_test, y_pred_tree) # 计算精确度\n",
    "recall = recall_score(y_test, y_pred_tree) # 计算召回率\n",
    "f1 = f1_score(y_test, y_pred_tree) # 计算 F1 分数\n",
    "\n",
    "print(\"混淆矩阵:\")\n",
    "print(conf_matrix)\n",
    "print(\"准确度:\", accuracy)\n",
    "print(\"精确度:\", precision)\n",
    "print(\"召回率:\", recall)\n",
    "print(\"F1 分数:\", f1)\n"
   ]
  },
  {
   "cell_type": "markdown",
   "metadata": {},
   "source": [
    "准确度（Accuracy）： 分类器正确预测的样本占总样本的比例：(TP + TN) / (TP + TN + FP + FN)。\n",
    "\n",
    "精确度（Precision）： 正类别预测的准确性，即正类别预测中有多少是真正的正类别：TP / (TP + FP)。\n",
    "\n",
    "召回率（Recall）： 真实的正类别中有多少被分类器成功预测为正类别：TP / (TP + FN)。\n",
    "\n",
    "F1 分数（F1 Score）： 精确度和召回率的调和平均值，综合考虑了两者：2 * (Precision * Recall) / (Precision + Recall)。"
   ]
  },
  {
   "cell_type": "code",
   "execution_count": 140,
   "metadata": {},
   "outputs": [
    {
     "data": {
      "image/png": "[encoded data removed]",
      "text/plain": [
       "<Figure size 640x480 with 1 Axes>"
      ]
     },
     "metadata": {},
     "output_type": "display_data"
    }
   ],
   "source": [
    "import seaborn as sns\n",
    "import matplotlib.pyplot as plt\n",
    "\n",
    "# 绘制混淆矩阵的热图\n",
    "sns.heatmap(conf_matrix, annot=True, fmt='d', cmap='Blues', cbar=False)\n",
    "plt.title('Confusion Matrix')\n",
    "plt.xlabel('Predicted Labels')\n",
    "plt.ylabel('True Labels')\n",
    "plt.show()"
   ]
  },
  {
   "cell_type": "markdown",
   "metadata": {},
   "source": [
    "## 练习5：调整模型的标准\n",
    "\n",
    "银行通常会有更严格的要求，因为fraud带来的后果通常比较严重，一般我们会调整模型的标准。<br>\n",
    "\n",
    "比如在logistic regression当中，一般我们的概率判定边界为0.5，但是我们可以把阈值设定低一些，来提高模型的“敏感度”，试试看把阈值设定为0.3，再看看这时的评估指标(主要是准确率和召回率)。\n",
    "\n",
    "- 提示：<span style='color:white'>sklearn的很多分类模型，predict_prob可以拿到预估的概率，可以根据它和设定的阈值大小去判断最终结果(分类类别)('Gender') </span>"
   ]
  },
  {
   "cell_type": "code",
   "execution_count": 147,
   "metadata": {
    "collapsed": true,
    "jupyter": {
     "outputs_hidden": true
    }
   },
   "outputs": [
    {
     "name": "stdout",
     "output_type": "stream",
     "text": [
      "混淆矩阵:\n",
      "[[30104   320]\n",
      " [ 1798   373]]\n",
      "准确度: 0.935020708697653\n",
      "精确度: 0.5382395382395382\n",
      "召回率: 0.17181022570244128\n",
      "\n",
      "调整后的准确度: \n",
      "[[25060  5364]\n",
      " [  702  1469]]\n",
      "调整后的准确度: 0.8139\n",
      "调整后的精准度: 0.2150\n",
      "调整后的召回率: 0.6766\n"
     ]
    }
   ],
   "source": [
    "## your code here\n",
    "from sklearn.tree import DecisionTreeClassifier\n",
    "from sklearn.metrics import accuracy_score, recall_score\n",
    "\n",
    "# 训练好的决策树模型\n",
    "tree = DecisionTreeClassifier(criterion='entropy', max_depth=3, random_state=0)\n",
    "tree.fit(X_train_minmax, y_train)\n",
    "\n",
    "# 获取测试集上的概率预测值\n",
    "y_pred_tree = tree.predict(X_test_minmax)\n",
    "y_proba = tree.predict_proba(X_test_minmax)[:, 1]  # 获取正类别的概率值\n",
    "\n",
    "conf_matrix = confusion_matrix(y_test, y_pred_tree) # 计算混淆矩阵\n",
    "accuracy = accuracy_score(y_test, y_pred_tree) # 计算准确度\n",
    "precision = precision_score(y_test, y_pred_tree) # 计算精确度\n",
    "recall = recall_score(y_test, y_pred_tree) # 计算召回率\n",
    "f1 = f1_score(y_test, y_pred_tree) # 计算 F1 分数\n",
    "\n",
    "print(\"混淆矩阵:\")\n",
    "print(conf_matrix)\n",
    "print(\"准确度:\", accuracy)\n",
    "print(\"精确度:\", precision)\n",
    "print(\"召回率:\", recall)\n",
    "print(\"F1 分数:\", f1)\n",
    "\n",
    "\n",
    "# 尝试不同的阈值\n",
    "threshold = 0.1\n",
    "y_pred_adjusted = (y_proba > threshold).astype(int)\n",
    "\n",
    "# 计算调整后的准确度和召回率\n",
    "conf_matrix_adjusted = confusion_matrix(y_test, y_pred_adjusted)\n",
    "accuracy_adjusted = accuracy_score(y_test, y_pred_adjusted)\n",
    "recall_adjusted = recall_score(y_test, y_pred_adjusted)\n",
    "precision_adjusted  = precision_score(y_test, y_pred_adjusted)\n",
    "print(\"调整后的准确度: \")\n",
    "print(conf_matrix_adjusted)\n",
    "print(f\"调整后的准确度: {accuracy_adjusted:.4f}\")\n",
    "print(f\"调整后的精准度: {precision_adjusted:.4f}\")\n",
    "print(f\"调整后的召回率: {recall_adjusted:.4f}\")\n"
   ]
  },
  {
   "cell_type": "markdown",
   "metadata": {},
   "source": [
    "### 为了提高召回率，针对最近邻knn和随机森林forest进行子特征法选择"
   ]
  },
  {
   "cell_type": "markdown",
   "metadata": {},
   "source": [
    "最近邻knn"
   ]
  },
  {
   "cell_type": "code",
   "execution_count": 155,
   "metadata": {},
   "outputs": [],
   "source": [
    "from sklearn.base import clone\n",
    "from itertools import combinations\n",
    "import numpy as np\n",
    "from sklearn.metrics import accuracy_score\n",
    "from sklearn.model_selection import train_test_split\n",
    "\n",
    "\n",
    "class SBS():\n",
    "    def __init__(self, estimator, k_features, scoring=accuracy_score,\n",
    "                 test_size=0.25, random_state=1):\n",
    "        \"\"\"\n",
    "        Sequential Backward Selection (SBS) algorithm.\n",
    "\n",
    "        Parameters:\n",
    "        - estimator: Machine learning model (classifier or regressor).\n",
    "        - k_features: The desired number of features to select.\n",
    "        - scoring: Scoring function used to evaluate the performance of the model.\n",
    "                   Default is accuracy_score.\n",
    "        - test_size: Proportion of the dataset to include in the test split.\n",
    "                     Default is 0.25.\n",
    "        - random_state: Seed for reproducibility.\n",
    "                        Default is 1.\n",
    "        \"\"\"\n",
    "        self.scoring = scoring\n",
    "        self.estimator = clone(estimator)\n",
    "        self.k_features = k_features\n",
    "        self.test_size = test_size\n",
    "        self.random_state = random_state\n",
    "\n",
    "    def fit(self, X, y):\n",
    "        \"\"\"\n",
    "        Fit the SBS algorithm to the training data.\n",
    "\n",
    "        Parameters:\n",
    "        - X: Features of the dataset.\n",
    "        - y: Target variable of the dataset.\n",
    "\n",
    "        Returns:\n",
    "        - self: Fitted SBS object.\n",
    "        \"\"\"\n",
    "        X_train, X_test, y_train, y_test = \\\n",
    "            train_test_split(X, y, test_size=self.test_size,\n",
    "                             random_state=self.random_state)\n",
    "\n",
    "        dim = X_train.shape[1]\n",
    "        self.indices_ = tuple(range(dim))\n",
    "        self.subsets_ = [self.indices_]\n",
    "        score = self._calc_score(X_train, y_train, \n",
    "                                 X_test, y_test, self.indices_)\n",
    "        self.scores_ = [score]\n",
    "\n",
    "        while dim > self.k_features:\n",
    "            scores = []\n",
    "            subsets = []\n",
    "\n",
    "            for p in combinations(self.indices_, r=dim - 1):\n",
    "                score = self._calc_score(X_train, y_train, \n",
    "                                         X_test, y_test, p)\n",
    "                scores.append(score)\n",
    "                subsets.append(p)\n",
    "\n",
    "            best = np.argmax(scores)\n",
    "            self.indices_ = subsets[best]\n",
    "            self.subsets_.append(self.indices_)\n",
    "            dim -= 1\n",
    "\n",
    "            self.scores_.append(scores[best])\n",
    "        self.k_score_ = self.scores_[-1]\n",
    "\n",
    "        return self\n",
    "\n",
    "    def transform(self, X):\n",
    "        \"\"\"\n",
    "        Transform the input data to include only the selected features.\n",
    "\n",
    "        Parameters:\n",
    "        - X: Features to transform.\n",
    "\n",
    "        Returns:\n",
    "        - Transformed feature matrix with selected features.\n",
    "        \"\"\"\n",
    "        return X[:, self.indices_]\n",
    "\n",
    "    def _calc_score(self, X_train, y_train, X_test, y_test, indices):\n",
    "        \"\"\"\n",
    "        Internal method to calculate the performance score of the model.\n",
    "\n",
    "        Parameters:\n",
    "        - X_train: Training features.\n",
    "        - y_train: Training target variable.\n",
    "        - X_test: Test features.\n",
    "        - y_test: Test target variable.\n",
    "        - indices: Indices of selected features.\n",
    "\n",
    "        Returns:\n",
    "        - Performance score of the model.\n",
    "        \"\"\"\n",
    "        self.estimator.fit(X_train[:, indices], y_train)\n",
    "        y_pred = self.estimator.predict(X_test[:, indices])\n",
    "        score = self.scoring(y_test, y_pred)\n",
    "        return score"
   ]
  },
  {
   "cell_type": "code",
   "execution_count": 156,
   "metadata": {},
   "outputs": [
    {
     "data": {
      "image/png": "[encoded data removed]",
      "text/plain": [
       "<Figure size 640x480 with 1 Axes>"
      ]
     },
     "metadata": {},
     "output_type": "display_data"
    }
   ],
   "source": [
    "import matplotlib.pyplot as plt\n",
    "from sklearn.neighbors import KNeighborsClassifier\n",
    "\n",
    "knn = KNeighborsClassifier(n_neighbors=2)\n",
    "\n",
    "# selecting features\n",
    "sbs = SBS(estimator=knn, k_features=1)\n",
    "sbs.fit(X_train_minmax, y_train)\n",
    "\n",
    "# plotting performance of feature subsets\n",
    "k_feat = [len(k) for k in sbs.subsets_]\n",
    "\n",
    "plt.plot(k_feat, sbs.scores_, marker='o')\n",
    "plt.ylim([0.7, 1.1])\n",
    "plt.ylabel('Accuracy')\n",
    "plt.xlabel('Number of features')\n",
    "plt.grid()\n",
    "plt.tight_layout()\n",
    "plt.show()"
   ]
  },
  {
   "cell_type": "code",
   "execution_count": 157,
   "metadata": {},
   "outputs": [
    {
     "data": {
      "text/plain": [
       "[0.9327337751130745,\n",
       " 0.9354160092563374,\n",
       " 0.9354160092563374,\n",
       " 0.9349426738192911,\n",
       " 0.9343641527295676,\n",
       " 0.9344693383822447,\n",
       " 0.9338908172925213,\n",
       " 0.9358367518670453,\n",
       " 0.9366782370884611,\n",
       " 0.937098979699169]"
      ]
     },
     "execution_count": 157,
     "metadata": {},
     "output_type": "execute_result"
    }
   ],
   "source": [
    "sbs.scores_"
   ]
  },
  {
   "cell_type": "code",
   "execution_count": null,
   "metadata": {},
   "outputs": [],
   "source": [
    "from sklearn.ensemble import RandomForestClassifier\n",
    "\n",
    "feat_labels = df_wine.columns[1:]\n",
    "\n",
    "forest = RandomForestClassifier(n_estimators=10000,\n",
    "                                random_state=0,\n",
    "                                n_jobs=-1)\n",
    "\n",
    "forest.fit(X_train, y_train)\n",
    "importances = forest.feature_importances_\n",
    "\n",
    "indices = np.argsort(importances)[::-1]\n",
    "\n",
    "for f in range(X_train.shape[1]):\n",
    "    print(\"%2d) %-*s %f\" % (f + 1, 30, \n",
    "                            feat_labels[indices[f]], \n",
    "                            importances[indices[f]]))\n",
    "\n",
    "plt.title('Feature Importances')\n",
    "plt.bar(range(X_train.shape[1]), \n",
    "        importances[indices],\n",
    "        color='lightblue', \n",
    "        align='center')\n",
    "\n",
    "plt.xticks(range(X_train.shape[1]), \n",
    "           feat_labels[indices], rotation=90)\n",
    "plt.xlim([-1, X_train.shape[1]])\n",
    "plt.tight_layout()\n",
    "plt.show()"
   ]
  },
  {
   "cell_type": "markdown",
   "metadata": {},
   "source": [
    "在银行判断顾客是否会严重拖欠的问题中，如果高召回率是关键目标，意味着我们更关注能够捕捉到所有实际会发生严重拖欠的客户，即尽量减少漏报的情况。在这种情况下，请问在逻辑斯蒂回归、决策树、随机森林、SVM、KNN 这五个模型中选择哪一个模型最佳"
   ]
  },
  {
   "cell_type": "markdown",
   "metadata": {},
   "source": [
    "在追求高召回率的情况下，我们希望最大限度地捕捉到实际发生严重拖欠的客户，即尽量减少漏报的情况。在这种场景下，以下是对于逻辑斯蒂回归、决策树、随机森林、支持向量机（SVM）、K最近邻（KNN）的一些建议：\n",
    "\n",
    "1. **逻辑斯蒂回归：**\n",
    "   - 逻辑斯蒂回归是一个简单而有效的模型，特别适合作为基线模型。它能够提供概率输出，可以通过调整阈值来平衡精确度和召回率。\n",
    "\n",
    "2. **决策树：**\n",
    "   - 决策树对于非线性关系的建模能力较强，且容易解释。通过调整决策树的参数，如树的深度等，可以影响模型的复杂度，以适应不同数据特征。\n",
    "\n",
    "3. **随机森林：**\n",
    "   - 随机森林是决策树的集成模型，能够提高模型的鲁棒性和准确性。通过合理设置参数，随机森林可以在保持较高召回率的同时控制过拟合。\n",
    "\n",
    "4. **支持向量机（SVM）：**\n",
    "   - SVM在处理高维数据和非线性问题时表现出色。通过选择合适的核函数和调整参数，可以获得较高的召回率。但在大规模数据集上的计算开销可能较大。\n",
    "\n",
    "5. **K最近邻（KNN）：**\n",
    "   - KNN是一种基于实例的学习方法，对于拥有局部结构的问题可能效果较好。通过选择合适的邻居数量（K值），可以调整模型的灵敏度。\n",
    "\n",
    "最终选择最佳模型取决于具体的数据特征和业务需求。建议使用交叉验证等方法，在实际数据集上评估这些模型的性能，然后选择性能最优的模型。同时，可以通过调整模型的阈值等参数来进一步优化召回率。"
   ]
  },
  {
   "cell_type": "markdown",
   "metadata": {},
   "source": []
  }
 ],
 "metadata": {
  "kernelspec": {
   "display_name": "Python 3",
   "language": "python",
   "name": "python3"
  },
  "language_info": {
   "codemirror_mode": {
    "name": "ipython",
    "version": 3
   },
   "file_extension": ".py",
   "mimetype": "text/x-python",
   "name": "python",
   "nbconvert_exporter": "python",
   "pygments_lexer": "ipython3",
   "version": "3.11.3"
  }
 },
 "nbformat": 4,
 "nbformat_minor": 4
}
