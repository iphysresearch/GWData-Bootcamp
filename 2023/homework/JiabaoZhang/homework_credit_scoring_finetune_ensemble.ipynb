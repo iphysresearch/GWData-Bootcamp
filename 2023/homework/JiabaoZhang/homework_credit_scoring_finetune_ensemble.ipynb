{
 "cells": [
  {
   "cell_type": "markdown",
   "metadata": {},
   "source": [
    "# 一起来打怪之 Credit Scoring 练习"
   ]
  },
  {
   "cell_type": "markdown",
   "metadata": {},
   "source": [
    "-------\n",
    "## >>>说明：\n",
    "### 1. 答题步骤：\n",
    "- 回答问题**请保留每一步**操作过程，请不要仅仅给出最后答案\n",
    "- 请养成代码注释的好习惯\n",
    "\n",
    "### 2. 解题思路：\n",
    "- 为方便大家准确理解题目，在习题实战中有所收获，本文档提供了解题思路提示\n",
    "- 解题思路**仅供参考**，鼓励原创解题方法\n",
    "- 为督促同学们自己思考，解题思路内容设置为**注释**，请注意查看\n",
    "\n",
    "### 3. 所用数据：\n",
    "- 问题使用了多个数据库，请注意导入每个数据库后都先**查看和了解数据的基本性质**，后面的问题不再一一提醒"
   ]
  },
  {
   "cell_type": "markdown",
   "metadata": {},
   "source": [
    "--------\n",
    "## 操作题"
   ]
  },
  {
   "cell_type": "markdown",
   "metadata": {},
   "source": [
    "### 信用卡欺诈项目"
   ]
  },
  {
   "cell_type": "markdown",
   "metadata": {},
   "source": [
    " #### 前期数据导入,预览及处理(此部分勿修改，涉及的数据文件无需复制移动)"
   ]
  },
  {
   "cell_type": "code",
   "execution_count": 29,
   "metadata": {
    "tags": []
   },
   "outputs": [
    {
     "data": {
      "text/html": [
       "<div>\n",
       "<style scoped>\n",
       "    .dataframe tbody tr th:only-of-type {\n",
       "        vertical-align: middle;\n",
       "    }\n",
       "\n",
       "    .dataframe tbody tr th {\n",
       "        vertical-align: top;\n",
       "    }\n",
       "\n",
       "    .dataframe thead th {\n",
       "        text-align: right;\n",
       "    }\n",
       "</style>\n",
       "<table border=\"1\" class=\"dataframe\">\n",
       "  <thead>\n",
       "    <tr style=\"text-align: right;\">\n",
       "      <th></th>\n",
       "      <th>SeriousDlqin2yrs</th>\n",
       "      <th>RevolvingUtilizationOfUnsecuredLines</th>\n",
       "      <th>age</th>\n",
       "      <th>NumberOfTime30-59DaysPastDueNotWorse</th>\n",
       "      <th>DebtRatio</th>\n",
       "      <th>MonthlyIncome</th>\n",
       "      <th>NumberOfOpenCreditLinesAndLoans</th>\n",
       "      <th>NumberOfTimes90DaysLate</th>\n",
       "      <th>NumberRealEstateLoansOrLines</th>\n",
       "      <th>NumberOfTime60-89DaysPastDueNotWorse</th>\n",
       "      <th>NumberOfDependents</th>\n",
       "    </tr>\n",
       "  </thead>\n",
       "  <tbody>\n",
       "    <tr>\n",
       "      <th>0</th>\n",
       "      <td>1</td>\n",
       "      <td>0.766127</td>\n",
       "      <td>45.0</td>\n",
       "      <td>2.0</td>\n",
       "      <td>0.802982</td>\n",
       "      <td>9120.0</td>\n",
       "      <td>13.0</td>\n",
       "      <td>0.0</td>\n",
       "      <td>6.0</td>\n",
       "      <td>0.0</td>\n",
       "      <td>2.0</td>\n",
       "    </tr>\n",
       "    <tr>\n",
       "      <th>1</th>\n",
       "      <td>0</td>\n",
       "      <td>0.957151</td>\n",
       "      <td>40.0</td>\n",
       "      <td>0.0</td>\n",
       "      <td>0.121876</td>\n",
       "      <td>2600.0</td>\n",
       "      <td>4.0</td>\n",
       "      <td>0.0</td>\n",
       "      <td>0.0</td>\n",
       "      <td>0.0</td>\n",
       "      <td>1.0</td>\n",
       "    </tr>\n",
       "    <tr>\n",
       "      <th>2</th>\n",
       "      <td>0</td>\n",
       "      <td>0.658180</td>\n",
       "      <td>38.0</td>\n",
       "      <td>1.0</td>\n",
       "      <td>0.085113</td>\n",
       "      <td>3042.0</td>\n",
       "      <td>2.0</td>\n",
       "      <td>1.0</td>\n",
       "      <td>0.0</td>\n",
       "      <td>0.0</td>\n",
       "      <td>0.0</td>\n",
       "    </tr>\n",
       "    <tr>\n",
       "      <th>3</th>\n",
       "      <td>0</td>\n",
       "      <td>0.233810</td>\n",
       "      <td>30.0</td>\n",
       "      <td>0.0</td>\n",
       "      <td>0.036050</td>\n",
       "      <td>3300.0</td>\n",
       "      <td>5.0</td>\n",
       "      <td>0.0</td>\n",
       "      <td>0.0</td>\n",
       "      <td>0.0</td>\n",
       "      <td>0.0</td>\n",
       "    </tr>\n",
       "    <tr>\n",
       "      <th>4</th>\n",
       "      <td>0</td>\n",
       "      <td>0.907239</td>\n",
       "      <td>49.0</td>\n",
       "      <td>1.0</td>\n",
       "      <td>0.024926</td>\n",
       "      <td>63588.0</td>\n",
       "      <td>7.0</td>\n",
       "      <td>0.0</td>\n",
       "      <td>1.0</td>\n",
       "      <td>0.0</td>\n",
       "      <td>0.0</td>\n",
       "    </tr>\n",
       "  </tbody>\n",
       "</table>\n",
       "</div>"
      ],
      "text/plain": [
       "   SeriousDlqin2yrs  RevolvingUtilizationOfUnsecuredLines   age  \\\n",
       "0                 1                              0.766127  45.0   \n",
       "1                 0                              0.957151  40.0   \n",
       "2                 0                              0.658180  38.0   \n",
       "3                 0                              0.233810  30.0   \n",
       "4                 0                              0.907239  49.0   \n",
       "\n",
       "   NumberOfTime30-59DaysPastDueNotWorse  DebtRatio  MonthlyIncome  \\\n",
       "0                                   2.0   0.802982         9120.0   \n",
       "1                                   0.0   0.121876         2600.0   \n",
       "2                                   1.0   0.085113         3042.0   \n",
       "3                                   0.0   0.036050         3300.0   \n",
       "4                                   1.0   0.024926        63588.0   \n",
       "\n",
       "   NumberOfOpenCreditLinesAndLoans  NumberOfTimes90DaysLate  \\\n",
       "0                             13.0                      0.0   \n",
       "1                              4.0                      0.0   \n",
       "2                              2.0                      1.0   \n",
       "3                              5.0                      0.0   \n",
       "4                              7.0                      0.0   \n",
       "\n",
       "   NumberRealEstateLoansOrLines  NumberOfTime60-89DaysPastDueNotWorse  \\\n",
       "0                           6.0                                   0.0   \n",
       "1                           0.0                                   0.0   \n",
       "2                           0.0                                   0.0   \n",
       "3                           0.0                                   0.0   \n",
       "4                           1.0                                   0.0   \n",
       "\n",
       "   NumberOfDependents  \n",
       "0                 2.0  \n",
       "1                 1.0  \n",
       "2                 0.0  \n",
       "3                 0.0  \n",
       "4                 0.0  "
      ]
     },
     "execution_count": 29,
     "metadata": {},
     "output_type": "execute_result"
    }
   ],
   "source": [
    "import pandas as pd\n",
    "pd.set_option('display.max_columns', 500)\n",
    "import zipfile\n",
    "with zipfile.ZipFile('KaggleCredit2.csv.zip', 'r') as z:\n",
    "    f = z.open('KaggleCredit2.csv')\n",
    "    data = pd.read_csv(f, index_col=0)\n",
    "data.head()"
   ]
  },
  {
   "cell_type": "code",
   "execution_count": 30,
   "metadata": {
    "collapsed": true,
    "jupyter": {
     "outputs_hidden": true
    }
   },
   "outputs": [
    {
     "data": {
      "text/plain": [
       "(112915, 11)"
      ]
     },
     "execution_count": 30,
     "metadata": {},
     "output_type": "execute_result"
    }
   ],
   "source": [
    "# 检查数据维度\n",
    "data.shape"
   ]
  },
  {
   "cell_type": "code",
   "execution_count": 31,
   "metadata": {
    "collapsed": true,
    "jupyter": {
     "outputs_hidden": true
    }
   },
   "outputs": [
    {
     "data": {
      "text/plain": [
       "SeriousDlqin2yrs                           0\n",
       "RevolvingUtilizationOfUnsecuredLines       0\n",
       "age                                     4267\n",
       "NumberOfTime30-59DaysPastDueNotWorse       0\n",
       "DebtRatio                                  0\n",
       "MonthlyIncome                              0\n",
       "NumberOfOpenCreditLinesAndLoans            0\n",
       "NumberOfTimes90DaysLate                    0\n",
       "NumberRealEstateLoansOrLines               0\n",
       "NumberOfTime60-89DaysPastDueNotWorse       0\n",
       "NumberOfDependents                      4267\n",
       "dtype: int64"
      ]
     },
     "execution_count": 31,
     "metadata": {},
     "output_type": "execute_result"
    }
   ],
   "source": [
    "# 查看数据缺失值情况\n",
    "data.isnull().sum(axis=0)"
   ]
  },
  {
   "cell_type": "code",
   "execution_count": 32,
   "metadata": {
    "collapsed": true,
    "jupyter": {
     "outputs_hidden": true
    }
   },
   "outputs": [
    {
     "name": "stderr",
     "output_type": "stream",
     "text": [
      "/var/folders/_7/wlwq7pgj1815rs42br1b3pv80000gn/T/ipykernel_26755/2980780030.py:3: UserWarning: Pandas doesn't allow columns to be created via a new attribute name - see https://pandas.pydata.org/pandas-docs/stable/indexing.html#attribute-access\n",
      "  data.shapey = data['SeriousDlqin2yrs']\n"
     ]
    }
   ],
   "source": [
    "# 清除缺失值\n",
    "data.dropna(inplace=True)\n",
    "data.shapey = data['SeriousDlqin2yrs']\n",
    "X = data.drop('SeriousDlqin2yrs', axis=1)"
   ]
  },
  {
   "cell_type": "code",
   "execution_count": 33,
   "metadata": {
    "collapsed": true,
    "jupyter": {
     "outputs_hidden": true
    }
   },
   "outputs": [
    {
     "data": {
      "text/plain": [
       "0.06742876076872101"
      ]
     },
     "execution_count": 33,
     "metadata": {},
     "output_type": "execute_result"
    }
   ],
   "source": [
    "# 取出对应的X和y\n",
    "y = data['SeriousDlqin2yrs']\n",
    "X = data.drop('SeriousDlqin2yrs', axis=1)\n",
    "# 查看平均的欺诈率\n",
    "y.mean()"
   ]
  },
  {
   "cell_type": "markdown",
   "metadata": {},
   "source": [
    "### 以下为操作题"
   ]
  },
  {
   "cell_type": "markdown",
   "metadata": {},
   "source": [
    "#### 1.把数据切分成训练集和测试集"
   ]
  },
  {
   "cell_type": "code",
   "execution_count": 34,
   "metadata": {
    "collapsed": true,
    "jupyter": {
     "outputs_hidden": true
    }
   },
   "outputs": [],
   "source": [
    "# 提示：查看train_test_split函数\n",
    "from sklearn.model_selection import train_test_split\n",
    "\n",
    "X_train, X_test, y_train, y_test = train_test_split(X, y, test_size=0.2, random_state=42)"
   ]
  },
  {
   "cell_type": "code",
   "execution_count": 35,
   "metadata": {
    "collapsed": true,
    "jupyter": {
     "outputs_hidden": true
    }
   },
   "outputs": [
    {
     "name": "stdout",
     "output_type": "stream",
     "text": [
      "Distribution of Positive (1) and Negative (0) samples in 'SeriousDlqin2yrs' field:\n",
      "SeriousDlqin2yrs\n",
      "0    81076\n",
      "1     5842\n",
      "Name: count, dtype: int64\n"
     ]
    }
   ],
   "source": [
    "# 通过SeriousDlqin2yrs字段查看正负样本分布情况\n",
    "# 提示：value_counts\n",
    "positive_negative_distribution = y_train.value_counts()\n",
    "print(\"Distribution of Positive (1) and Negative (0) samples in 'SeriousDlqin2yrs' field:\")\n",
    "print(positive_negative_distribution)\n"
   ]
  },
  {
   "cell_type": "code",
   "execution_count": 36,
   "metadata": {},
   "outputs": [
    {
     "data": {
      "image/png": "[encoded data removed]",
      "text/plain": [
       "<Figure size 640x480 with 1 Axes>"
      ]
     },
     "metadata": {},
     "output_type": "display_data"
    }
   ],
   "source": [
    "# 绘制两种类别的柱状图\n",
    "# 提示：dataframe可以直接plot(kind='bar')\n",
    "import matplotlib.pyplot as plt\n",
    "\n",
    "positive_negative_distribution.plot(kind='bar', color=['skyblue', 'lightcoral'])\n",
    "\n",
    "plt.xlabel('Class (SeriousDlqin2yrs)')\n",
    "plt.ylabel('Count')\n",
    "plt.title('Distribution of Positive (1) and Negative (0) samples in \\'SeriousDlqin2yrs\\' field')\n",
    "\n",
    "plt.show()"
   ]
  },
  {
   "cell_type": "markdown",
   "metadata": {},
   "source": [
    "#### 2.数据预处理之离散化"
   ]
  },
  {
   "cell_type": "code",
   "execution_count": 37,
   "metadata": {
    "collapsed": true,
    "jupyter": {
     "outputs_hidden": true
    }
   },
   "outputs": [
    {
     "name": "stdout",
     "output_type": "stream",
     "text": [
      "         age  age_group\n",
      "0       45.0         15\n",
      "1       40.0         13\n",
      "2       38.0         12\n",
      "3       30.0         10\n",
      "4       49.0         16\n",
      "...      ...        ...\n",
      "112910  50.0         16\n",
      "112911  74.0         24\n",
      "112912  44.0         14\n",
      "112913  30.0         10\n",
      "112914  64.0         21\n",
      "\n",
      "[108648 rows x 2 columns]\n"
     ]
    }
   ],
   "source": [
    "# 请对年龄按照3岁一个区间进行离散化\n",
    "# 提示：可以先计算出分桶边界，再基于pandas的cut函数进行离散化(分箱、分桶)\n",
    "# 计算出分桶边界\n",
    "age_bins = range(int(data['age'].min()), int(data['age'].max()) + 4, 3)\n",
    "\n",
    "# 基于pandas的cut函数进行离散化(分箱、分桶)\n",
    "data['age_group'] = pd.cut(data['age'], bins=age_bins, right=False, labels=False)\n",
    "\n",
    "print(data[['age', 'age_group']])\n"
   ]
  },
  {
   "cell_type": "markdown",
   "metadata": {},
   "source": [
    "#### 3.数据预处理之独热向量编码"
   ]
  },
  {
   "cell_type": "code",
   "execution_count": 38,
   "metadata": {
    "collapsed": true,
    "jupyter": {
     "outputs_hidden": true
    }
   },
   "outputs": [
    {
     "name": "stdout",
     "output_type": "stream",
     "text": [
      "        SeriousDlqin2yrs  RevolvingUtilizationOfUnsecuredLines   age  \\\n",
      "0                      1                              0.766127  45.0   \n",
      "1                      0                              0.957151  40.0   \n",
      "2                      0                              0.658180  38.0   \n",
      "3                      0                              0.233810  30.0   \n",
      "4                      0                              0.907239  49.0   \n",
      "...                  ...                                   ...   ...   \n",
      "112910                 0                              0.385742  50.0   \n",
      "112911                 0                              0.040674  74.0   \n",
      "112912                 0                              0.299745  44.0   \n",
      "112913                 0                              0.000000  30.0   \n",
      "112914                 0                              0.850283  64.0   \n",
      "\n",
      "        NumberOfTime30-59DaysPastDueNotWorse  DebtRatio  MonthlyIncome  \\\n",
      "0                                        2.0   0.802982         9120.0   \n",
      "1                                        0.0   0.121876         2600.0   \n",
      "2                                        1.0   0.085113         3042.0   \n",
      "3                                        0.0   0.036050         3300.0   \n",
      "4                                        1.0   0.024926        63588.0   \n",
      "...                                      ...        ...            ...   \n",
      "112910                                   0.0   0.404293         3400.0   \n",
      "112911                                   0.0   0.225131         2100.0   \n",
      "112912                                   0.0   0.716562         5584.0   \n",
      "112913                                   0.0   0.000000         5716.0   \n",
      "112914                                   0.0   0.249908         8158.0   \n",
      "\n",
      "        NumberOfOpenCreditLinesAndLoans  NumberOfTimes90DaysLate  \\\n",
      "0                                  13.0                      0.0   \n",
      "1                                   4.0                      0.0   \n",
      "2                                   2.0                      1.0   \n",
      "3                                   5.0                      0.0   \n",
      "4                                   7.0                      0.0   \n",
      "...                                 ...                      ...   \n",
      "112910                              7.0                      0.0   \n",
      "112911                              4.0                      0.0   \n",
      "112912                              4.0                      0.0   \n",
      "112913                              4.0                      0.0   \n",
      "112914                              8.0                      0.0   \n",
      "\n",
      "        NumberRealEstateLoansOrLines  NumberOfTime60-89DaysPastDueNotWorse  \\\n",
      "0                                6.0                                   0.0   \n",
      "1                                0.0                                   0.0   \n",
      "2                                0.0                                   0.0   \n",
      "3                                0.0                                   0.0   \n",
      "4                                1.0                                   0.0   \n",
      "...                              ...                                   ...   \n",
      "112910                           0.0                                   0.0   \n",
      "112911                           1.0                                   0.0   \n",
      "112912                           1.0                                   0.0   \n",
      "112913                           0.0                                   0.0   \n",
      "112914                           2.0                                   0.0   \n",
      "\n",
      "        NumberOfDependents  age_group  age_group_0  age_group_7  age_group_8  \\\n",
      "0                      2.0         15        False        False        False   \n",
      "1                      1.0         13        False        False        False   \n",
      "2                      0.0         12        False        False        False   \n",
      "3                      0.0         10        False        False        False   \n",
      "4                      0.0         16        False        False        False   \n",
      "...                    ...        ...          ...          ...          ...   \n",
      "112910                 0.0         16        False        False        False   \n",
      "112911                 0.0         24        False        False        False   \n",
      "112912                 2.0         14        False        False        False   \n",
      "112913                 0.0         10        False        False        False   \n",
      "112914                 0.0         21        False        False        False   \n",
      "\n",
      "        age_group_9  age_group_10  age_group_11  age_group_12  age_group_13  \\\n",
      "0             False         False         False         False         False   \n",
      "1             False         False         False         False          True   \n",
      "2             False         False         False          True         False   \n",
      "3             False          True         False         False         False   \n",
      "4             False         False         False         False         False   \n",
      "...             ...           ...           ...           ...           ...   \n",
      "112910        False         False         False         False         False   \n",
      "112911        False         False         False         False         False   \n",
      "112912        False         False         False         False         False   \n",
      "112913        False          True         False         False         False   \n",
      "112914        False         False         False         False         False   \n",
      "\n",
      "        age_group_14  age_group_15  age_group_16  age_group_17  age_group_18  \\\n",
      "0              False          True         False         False         False   \n",
      "1              False         False         False         False         False   \n",
      "2              False         False         False         False         False   \n",
      "3              False         False         False         False         False   \n",
      "4              False         False          True         False         False   \n",
      "...              ...           ...           ...           ...           ...   \n",
      "112910         False         False          True         False         False   \n",
      "112911         False         False         False         False         False   \n",
      "112912          True         False         False         False         False   \n",
      "112913         False         False         False         False         False   \n",
      "112914         False         False         False         False         False   \n",
      "\n",
      "        age_group_19  age_group_20  age_group_21  age_group_22  age_group_23  \\\n",
      "0              False         False         False         False         False   \n",
      "1              False         False         False         False         False   \n",
      "2              False         False         False         False         False   \n",
      "3              False         False         False         False         False   \n",
      "4              False         False         False         False         False   \n",
      "...              ...           ...           ...           ...           ...   \n",
      "112910         False         False         False         False         False   \n",
      "112911         False         False         False         False         False   \n",
      "112912         False         False         False         False         False   \n",
      "112913         False         False         False         False         False   \n",
      "112914         False         False          True         False         False   \n",
      "\n",
      "        age_group_24  age_group_25  age_group_26  age_group_27  age_group_28  \\\n",
      "0              False         False         False         False         False   \n",
      "1              False         False         False         False         False   \n",
      "2              False         False         False         False         False   \n",
      "3              False         False         False         False         False   \n",
      "4              False         False         False         False         False   \n",
      "...              ...           ...           ...           ...           ...   \n",
      "112910         False         False         False         False         False   \n",
      "112911          True         False         False         False         False   \n",
      "112912         False         False         False         False         False   \n",
      "112913         False         False         False         False         False   \n",
      "112914         False         False         False         False         False   \n",
      "\n",
      "        age_group_29  age_group_30  age_group_31  age_group_32  age_group_33  \\\n",
      "0              False         False         False         False         False   \n",
      "1              False         False         False         False         False   \n",
      "2              False         False         False         False         False   \n",
      "3              False         False         False         False         False   \n",
      "4              False         False         False         False         False   \n",
      "...              ...           ...           ...           ...           ...   \n",
      "112910         False         False         False         False         False   \n",
      "112911         False         False         False         False         False   \n",
      "112912         False         False         False         False         False   \n",
      "112913         False         False         False         False         False   \n",
      "112914         False         False         False         False         False   \n",
      "\n",
      "        age_group_34  \n",
      "0              False  \n",
      "1              False  \n",
      "2              False  \n",
      "3              False  \n",
      "4              False  \n",
      "...              ...  \n",
      "112910         False  \n",
      "112911         False  \n",
      "112912         False  \n",
      "112913         False  \n",
      "112914         False  \n",
      "\n",
      "[108648 rows x 41 columns]\n"
     ]
    }
   ],
   "source": [
    "# 请对上述分箱后的年龄段进行独热向量编码\n",
    "# 提示：使用pandas的get_dummies完成\n",
    "# 使用 pandas get_dummies 对“age_group”列执行独热向量编码\n",
    "one_hot_encoded_age = pd.get_dummies(data['age_group'], prefix='age_group')\n",
    "\n",
    "# Concatenate the one-hot encoded columns to the original DataFrame\n",
    "data = pd.concat([data, one_hot_encoded_age], axis=1)\n",
    "\n",
    "# Display the resulting DataFrame with one-hot encoded columns\n",
    "print(data)\n"
   ]
  },
  {
   "cell_type": "markdown",
   "metadata": {},
   "source": [
    "#### 4.数据预处理之幅度缩放"
   ]
  },
  {
   "cell_type": "code",
   "execution_count": 39,
   "metadata": {
    "collapsed": true,
    "jupyter": {
     "outputs_hidden": true
    }
   },
   "outputs": [
    {
     "name": "stdout",
     "output_type": "stream",
     "text": [
      "        SeriousDlqin2yrs  RevolvingUtilizationOfUnsecuredLines       age  \\\n",
      "0                      1                              0.766127 -0.440122   \n",
      "1                      0                              0.957151 -0.786059   \n",
      "2                      0                              0.658180 -0.924434   \n",
      "3                      0                              0.233810 -1.477933   \n",
      "4                      0                              0.907239 -0.163372   \n",
      "...                  ...                                   ...       ...   \n",
      "112910                 0                              0.385742 -0.094185   \n",
      "112911                 0                              0.040674  1.566312   \n",
      "112912                 0                              0.299745 -0.509309   \n",
      "112913                 0                              0.000000 -1.477933   \n",
      "112914                 0                              0.850283  0.874438   \n",
      "\n",
      "        NumberOfTime30-59DaysPastDueNotWorse  DebtRatio  MonthlyIncome  \\\n",
      "0                                        2.0   0.802982         9120.0   \n",
      "1                                        0.0   0.121876         2600.0   \n",
      "2                                        1.0   0.085113         3042.0   \n",
      "3                                        0.0   0.036050         3300.0   \n",
      "4                                        1.0   0.024926        63588.0   \n",
      "...                                      ...        ...            ...   \n",
      "112910                                   0.0   0.404293         3400.0   \n",
      "112911                                   0.0   0.225131         2100.0   \n",
      "112912                                   0.0   0.716562         5584.0   \n",
      "112913                                   0.0   0.000000         5716.0   \n",
      "112914                                   0.0   0.249908         8158.0   \n",
      "\n",
      "        NumberOfOpenCreditLinesAndLoans  NumberOfTimes90DaysLate  \\\n",
      "0                                  13.0                      0.0   \n",
      "1                                   4.0                      0.0   \n",
      "2                                   2.0                      1.0   \n",
      "3                                   5.0                      0.0   \n",
      "4                                   7.0                      0.0   \n",
      "...                                 ...                      ...   \n",
      "112910                              7.0                      0.0   \n",
      "112911                              4.0                      0.0   \n",
      "112912                              4.0                      0.0   \n",
      "112913                              4.0                      0.0   \n",
      "112914                              8.0                      0.0   \n",
      "\n",
      "        NumberRealEstateLoansOrLines  NumberOfTime60-89DaysPastDueNotWorse  \\\n",
      "0                                6.0                                   0.0   \n",
      "1                                0.0                                   0.0   \n",
      "2                                0.0                                   0.0   \n",
      "3                                0.0                                   0.0   \n",
      "4                                1.0                                   0.0   \n",
      "...                              ...                                   ...   \n",
      "112910                           0.0                                   0.0   \n",
      "112911                           1.0                                   0.0   \n",
      "112912                           1.0                                   0.0   \n",
      "112913                           0.0                                   0.0   \n",
      "112914                           2.0                                   0.0   \n",
      "\n",
      "        NumberOfDependents  age_group  age_group_0  age_group_7  age_group_8  \\\n",
      "0                      2.0         15        False        False        False   \n",
      "1                      1.0         13        False        False        False   \n",
      "2                      0.0         12        False        False        False   \n",
      "3                      0.0         10        False        False        False   \n",
      "4                      0.0         16        False        False        False   \n",
      "...                    ...        ...          ...          ...          ...   \n",
      "112910                 0.0         16        False        False        False   \n",
      "112911                 0.0         24        False        False        False   \n",
      "112912                 2.0         14        False        False        False   \n",
      "112913                 0.0         10        False        False        False   \n",
      "112914                 0.0         21        False        False        False   \n",
      "\n",
      "        age_group_9  age_group_10  age_group_11  age_group_12  age_group_13  \\\n",
      "0             False         False         False         False         False   \n",
      "1             False         False         False         False          True   \n",
      "2             False         False         False          True         False   \n",
      "3             False          True         False         False         False   \n",
      "4             False         False         False         False         False   \n",
      "...             ...           ...           ...           ...           ...   \n",
      "112910        False         False         False         False         False   \n",
      "112911        False         False         False         False         False   \n",
      "112912        False         False         False         False         False   \n",
      "112913        False          True         False         False         False   \n",
      "112914        False         False         False         False         False   \n",
      "\n",
      "        age_group_14  age_group_15  age_group_16  age_group_17  age_group_18  \\\n",
      "0              False          True         False         False         False   \n",
      "1              False         False         False         False         False   \n",
      "2              False         False         False         False         False   \n",
      "3              False         False         False         False         False   \n",
      "4              False         False          True         False         False   \n",
      "...              ...           ...           ...           ...           ...   \n",
      "112910         False         False          True         False         False   \n",
      "112911         False         False         False         False         False   \n",
      "112912          True         False         False         False         False   \n",
      "112913         False         False         False         False         False   \n",
      "112914         False         False         False         False         False   \n",
      "\n",
      "        age_group_19  age_group_20  age_group_21  age_group_22  age_group_23  \\\n",
      "0              False         False         False         False         False   \n",
      "1              False         False         False         False         False   \n",
      "2              False         False         False         False         False   \n",
      "3              False         False         False         False         False   \n",
      "4              False         False         False         False         False   \n",
      "...              ...           ...           ...           ...           ...   \n",
      "112910         False         False         False         False         False   \n",
      "112911         False         False         False         False         False   \n",
      "112912         False         False         False         False         False   \n",
      "112913         False         False         False         False         False   \n",
      "112914         False         False          True         False         False   \n",
      "\n",
      "        age_group_24  age_group_25  age_group_26  age_group_27  age_group_28  \\\n",
      "0              False         False         False         False         False   \n",
      "1              False         False         False         False         False   \n",
      "2              False         False         False         False         False   \n",
      "3              False         False         False         False         False   \n",
      "4              False         False         False         False         False   \n",
      "...              ...           ...           ...           ...           ...   \n",
      "112910         False         False         False         False         False   \n",
      "112911          True         False         False         False         False   \n",
      "112912         False         False         False         False         False   \n",
      "112913         False         False         False         False         False   \n",
      "112914         False         False         False         False         False   \n",
      "\n",
      "        age_group_29  age_group_30  age_group_31  age_group_32  age_group_33  \\\n",
      "0              False         False         False         False         False   \n",
      "1              False         False         False         False         False   \n",
      "2              False         False         False         False         False   \n",
      "3              False         False         False         False         False   \n",
      "4              False         False         False         False         False   \n",
      "...              ...           ...           ...           ...           ...   \n",
      "112910         False         False         False         False         False   \n",
      "112911         False         False         False         False         False   \n",
      "112912         False         False         False         False         False   \n",
      "112913         False         False         False         False         False   \n",
      "112914         False         False         False         False         False   \n",
      "\n",
      "        age_group_34  \n",
      "0              False  \n",
      "1              False  \n",
      "2              False  \n",
      "3              False  \n",
      "4              False  \n",
      "...              ...  \n",
      "112910         False  \n",
      "112911         False  \n",
      "112912         False  \n",
      "112913         False  \n",
      "112914         False  \n",
      "\n",
      "[108648 rows x 41 columns]\n"
     ]
    }
   ],
   "source": [
    "# 请对连续值特征进行幅度缩放\n",
    "# 提示：可以使用StandardScaler等幅度缩放器进行处理\n",
    "from sklearn.preprocessing import StandardScaler\n",
    "# 初始化StandardScaler\n",
    "scaler = StandardScaler()\n",
    "\n",
    "# 选择要缩放的连续特征（“年龄”）\n",
    "features_to_scale = ['age']\n",
    "\n",
    "# 缩放选定的特征\n",
    "data[features_to_scale] = scaler.fit_transform(data[features_to_scale])\n",
    "\n",
    "print(data)\n"
   ]
  },
  {
   "cell_type": "markdown",
   "metadata": {},
   "source": [
    "#### 5.使用logistic regression建模，并且输出一下系数，分析重要度。   "
   ]
  },
  {
   "cell_type": "code",
   "execution_count": 40,
   "metadata": {
    "collapsed": true,
    "jupyter": {
     "outputs_hidden": true
    }
   },
   "outputs": [
    {
     "name": "stdout",
     "output_type": "stream",
     "text": [
      "Coefficients: [[-7.15712635e-05 -3.98723155e-02  4.88658686e-01  2.13066558e-01\n",
      "  -3.21127288e-05 -1.57887927e-02  5.22975927e-01 -2.53818439e-02\n",
      "  -9.79534274e-01  7.06453725e-02]]\n"
     ]
    }
   ],
   "source": [
    "# 提示：fit建模，建完模之后可以取出coef属性\n",
    "from sklearn.linear_model import LogisticRegression\n",
    "\n",
    "# 初始化 Logistic Regression 模型\n",
    "model = LogisticRegression(max_iter=1000)\n",
    "\n",
    "# 拟合模型\n",
    "model.fit(X_train, y_train)\n",
    "\n",
    "# 获取特征的系数\n",
    "coefficients = model.coef_\n",
    "\n",
    "# 显示特征的系数\n",
    "print(\"Coefficients:\", coefficients)\n"
   ]
  },
  {
   "cell_type": "markdown",
   "metadata": {},
   "source": [
    "#### 6.使用网格搜索交叉验证进行调参\n",
    "调整penalty和C参数，其中penalty候选为\"l1\"和\"l2\"，C的候选为[1,10,100,500]"
   ]
  },
  {
   "cell_type": "code",
   "execution_count": 41,
   "metadata": {
    "collapsed": true,
    "jupyter": {
     "outputs_hidden": true
    }
   },
   "outputs": [
    {
     "data": {
      "text/html": [
       "<style>#sk-container-id-4 {color: black;}#sk-container-id-4 pre{padding: 0;}#sk-container-id-4 div.sk-toggleable {background-color: white;}#sk-container-id-4 label.sk-toggleable__label {cursor: pointer;display: block;width: 100%;margin-bottom: 0;padding: 0.3em;box-sizing: border-box;text-align: center;}#sk-container-id-4 label.sk-toggleable__label-arrow:before {content: \"▸\";float: left;margin-right: 0.25em;color: #696969;}#sk-container-id-4 label.sk-toggleable__label-arrow:hover:before {color: black;}#sk-container-id-4 div.sk-estimator:hover label.sk-toggleable__label-arrow:before {color: black;}#sk-container-id-4 div.sk-toggleable__content {max-height: 0;max-width: 0;overflow: hidden;text-align: left;background-color: #f0f8ff;}#sk-container-id-4 div.sk-toggleable__content pre {margin: 0.2em;color: black;border-radius: 0.25em;background-color: #f0f8ff;}#sk-container-id-4 input.sk-toggleable__control:checked~div.sk-toggleable__content {max-height: 200px;max-width: 100%;overflow: auto;}#sk-container-id-4 input.sk-toggleable__control:checked~label.sk-toggleable__label-arrow:before {content: \"▾\";}#sk-container-id-4 div.sk-estimator input.sk-toggleable__control:checked~label.sk-toggleable__label {background-color: #d4ebff;}#sk-container-id-4 div.sk-label input.sk-toggleable__control:checked~label.sk-toggleable__label {background-color: #d4ebff;}#sk-container-id-4 input.sk-hidden--visually {border: 0;clip: rect(1px 1px 1px 1px);clip: rect(1px, 1px, 1px, 1px);height: 1px;margin: -1px;overflow: hidden;padding: 0;position: absolute;width: 1px;}#sk-container-id-4 div.sk-estimator {font-family: monospace;background-color: #f0f8ff;border: 1px dotted black;border-radius: 0.25em;box-sizing: border-box;margin-bottom: 0.5em;}#sk-container-id-4 div.sk-estimator:hover {background-color: #d4ebff;}#sk-container-id-4 div.sk-parallel-item::after {content: \"\";width: 100%;border-bottom: 1px solid gray;flex-grow: 1;}#sk-container-id-4 div.sk-label:hover label.sk-toggleable__label {background-color: #d4ebff;}#sk-container-id-4 div.sk-serial::before {content: \"\";position: absolute;border-left: 1px solid gray;box-sizing: border-box;top: 0;bottom: 0;left: 50%;z-index: 0;}#sk-container-id-4 div.sk-serial {display: flex;flex-direction: column;align-items: center;background-color: white;padding-right: 0.2em;padding-left: 0.2em;position: relative;}#sk-container-id-4 div.sk-item {position: relative;z-index: 1;}#sk-container-id-4 div.sk-parallel {display: flex;align-items: stretch;justify-content: center;background-color: white;position: relative;}#sk-container-id-4 div.sk-item::before, #sk-container-id-4 div.sk-parallel-item::before {content: \"\";position: absolute;border-left: 1px solid gray;box-sizing: border-box;top: 0;bottom: 0;left: 50%;z-index: -1;}#sk-container-id-4 div.sk-parallel-item {display: flex;flex-direction: column;z-index: 1;position: relative;background-color: white;}#sk-container-id-4 div.sk-parallel-item:first-child::after {align-self: flex-end;width: 50%;}#sk-container-id-4 div.sk-parallel-item:last-child::after {align-self: flex-start;width: 50%;}#sk-container-id-4 div.sk-parallel-item:only-child::after {width: 0;}#sk-container-id-4 div.sk-dashed-wrapped {border: 1px dashed gray;margin: 0 0.4em 0.5em 0.4em;box-sizing: border-box;padding-bottom: 0.4em;background-color: white;}#sk-container-id-4 div.sk-label label {font-family: monospace;font-weight: bold;display: inline-block;line-height: 1.2em;}#sk-container-id-4 div.sk-label-container {text-align: center;}#sk-container-id-4 div.sk-container {/* jupyter's `normalize.less` sets `[hidden] { display: none; }` but bootstrap.min.css set `[hidden] { display: none !important; }` so we also need the `!important` here to be able to override the default hidden behavior on the sphinx rendered scikit-learn.org. See: https://github.com/scikit-learn/scikit-learn/issues/21755 */display: inline-block !important;position: relative;}#sk-container-id-4 div.sk-text-repr-fallback {display: none;}</style><div id=\"sk-container-id-4\" class=\"sk-top-container\"><div class=\"sk-text-repr-fallback\"><pre>GridSearchCV(cv=5,\n",
       "             estimator=LogisticRegression(max_iter=1000, penalty=&#x27;l1&#x27;,\n",
       "                                          solver=&#x27;liblinear&#x27;),\n",
       "             param_grid={&#x27;C&#x27;: [0.001, 0.01, 0.1, 1, 10, 100],\n",
       "                         &#x27;penalty&#x27;: [&#x27;l1&#x27;]},\n",
       "             scoring=&#x27;accuracy&#x27;)</pre><b>In a Jupyter environment, please rerun this cell to show the HTML representation or trust the notebook. <br />On GitHub, the HTML representation is unable to render, please try loading this page with nbviewer.org.</b></div><div class=\"sk-container\" hidden><div class=\"sk-item sk-dashed-wrapped\"><div class=\"sk-label-container\"><div class=\"sk-label sk-toggleable\"><input class=\"sk-toggleable__control sk-hidden--visually\" id=\"sk-estimator-id-10\" type=\"checkbox\" ><label for=\"sk-estimator-id-10\" class=\"sk-toggleable__label sk-toggleable__label-arrow\">GridSearchCV</label><div class=\"sk-toggleable__content\"><pre>GridSearchCV(cv=5,\n",
       "             estimator=LogisticRegression(max_iter=1000, penalty=&#x27;l1&#x27;,\n",
       "                                          solver=&#x27;liblinear&#x27;),\n",
       "             param_grid={&#x27;C&#x27;: [0.001, 0.01, 0.1, 1, 10, 100],\n",
       "                         &#x27;penalty&#x27;: [&#x27;l1&#x27;]},\n",
       "             scoring=&#x27;accuracy&#x27;)</pre></div></div></div><div class=\"sk-parallel\"><div class=\"sk-parallel-item\"><div class=\"sk-item\"><div class=\"sk-label-container\"><div class=\"sk-label sk-toggleable\"><input class=\"sk-toggleable__control sk-hidden--visually\" id=\"sk-estimator-id-11\" type=\"checkbox\" ><label for=\"sk-estimator-id-11\" class=\"sk-toggleable__label sk-toggleable__label-arrow\">estimator: LogisticRegression</label><div class=\"sk-toggleable__content\"><pre>LogisticRegression(max_iter=1000, penalty=&#x27;l1&#x27;, solver=&#x27;liblinear&#x27;)</pre></div></div></div><div class=\"sk-serial\"><div class=\"sk-item\"><div class=\"sk-estimator sk-toggleable\"><input class=\"sk-toggleable__control sk-hidden--visually\" id=\"sk-estimator-id-12\" type=\"checkbox\" ><label for=\"sk-estimator-id-12\" class=\"sk-toggleable__label sk-toggleable__label-arrow\">LogisticRegression</label><div class=\"sk-toggleable__content\"><pre>LogisticRegression(max_iter=1000, penalty=&#x27;l1&#x27;, solver=&#x27;liblinear&#x27;)</pre></div></div></div></div></div></div></div></div></div></div>"
      ],
      "text/plain": [
       "GridSearchCV(cv=5,\n",
       "             estimator=LogisticRegression(max_iter=1000, penalty='l1',\n",
       "                                          solver='liblinear'),\n",
       "             param_grid={'C': [0.001, 0.01, 0.1, 1, 10, 100],\n",
       "                         'penalty': ['l1']},\n",
       "             scoring='accuracy')"
      ]
     },
     "execution_count": 41,
     "metadata": {},
     "output_type": "execute_result"
    }
   ],
   "source": [
    "# 提示：先按照上面要求准备好网格字典，再使用GridSearchCV进行调参\n",
    "\n",
    "from sklearn.model_selection import GridSearchCV\n",
    "\n",
    "# 准备参数网格\n",
    "# param_grid = {'penalty': ['l1', 'l2'], 'C': [1, 10, 100, 500]}\n",
    "param_grid = {'penalty': ['l1'], 'C': [0.001, 0.01, 0.1, 1, 10, 100]}\n",
    "\n",
    "# 初始化 Logistic Regression 模型\n",
    "model = LogisticRegression(max_iter=1000, penalty='l1', solver='liblinear')\n",
    "\n",
    "# 初始化 GridSearchCV\n",
    "grid_search = GridSearchCV(estimator=model, param_grid=param_grid, cv=5, scoring='accuracy')\n",
    "\n",
    "# 拟合模型\n",
    "grid_search.fit(X_train, y_train)"
   ]
  },
  {
   "cell_type": "code",
   "execution_count": 42,
   "metadata": {
    "collapsed": true,
    "jupyter": {
     "outputs_hidden": true
    }
   },
   "outputs": [
    {
     "name": "stdout",
     "output_type": "stream",
     "text": [
      "Best Hyperparameters: {'C': 1, 'penalty': 'l1'}\n",
      "Best Model: LogisticRegression(C=1, max_iter=1000, penalty='l1', solver='liblinear')\n"
     ]
    }
   ],
   "source": [
    "# 输出最好的超参数\n",
    "print(\"Best Hyperparameters:\", grid_search.best_params_)\n",
    "\n",
    "# 输出最好的模型\n",
    "best_model = grid_search.best_estimator_\n",
    "print(\"Best Model:\", best_model)\n"
   ]
  },
  {
   "cell_type": "markdown",
   "metadata": {},
   "source": [
    "#### 7.在测试集上进行预测，计算 查准率/查全率/auc/混淆矩阵/f1值 等测试指标"
   ]
  },
  {
   "cell_type": "code",
   "execution_count": 43,
   "metadata": {
    "collapsed": true,
    "jupyter": {
     "outputs_hidden": true
    }
   },
   "outputs": [
    {
     "name": "stdout",
     "output_type": "stream",
     "text": [
      "Accuracy: 0.9326737229636447\n",
      "Recall: 0.03369272237196765\n",
      "ROC AUC: 0.5161301703334698\n",
      "Confusion Matrix:\n",
      " [[20217    29]\n",
      " [ 1434    50]]\n",
      "F1 Score: 0.06397952655150352\n"
     ]
    }
   ],
   "source": [
    "# 提示：在测试集上预测可以使用predict\n",
    "# 提示：各种指标可以在sklearn.metrics中查到各种评估指标，分别是accuracy_score、recall_score、auc、confusion_matrix、f1_score\n",
    "from sklearn.metrics import accuracy_score, recall_score, roc_auc_score, confusion_matrix, f1_score\n",
    "\n",
    "# 在测试集上进行预测\n",
    "y_pred = best_model.predict(X_test)\n",
    "\n",
    "# 计算各种测试指标\n",
    "accuracy = accuracy_score(y_test, y_pred)\n",
    "recall = recall_score(y_test, y_pred)\n",
    "roc_auc = roc_auc_score(y_test, y_pred)  # Note: roc_auc_score is suitable for binary classification\n",
    "conf_matrix = confusion_matrix(y_test, y_pred)\n",
    "f1 = f1_score(y_test, y_pred)\n",
    "\n",
    "# 打印测试指标结果\n",
    "print(\"Accuracy:\", accuracy)\n",
    "print(\"Recall:\", recall)\n",
    "print(\"ROC AUC:\", roc_auc)\n",
    "print(\"Confusion Matrix:\\n\", conf_matrix)\n",
    "print(\"F1 Score:\", f1)\n"
   ]
  },
  {
   "cell_type": "markdown",
   "metadata": {},
   "source": [
    "#### 8.更多优化\n",
    "银行通常会有更严格的要求，因为欺诈带来的后果通常比较严重，一般我们会调整模型的标准。   \n",
    "\n",
    "比如在logistic regression当中，一般我们的概率判定边界为0.5，但是我们可以把阈值设定低一些，来提高模型的“敏感度”   \n",
    "试试看把阈值设定为0.3，再看看这个时候的混淆矩阵等评估指标。"
   ]
  },
  {
   "cell_type": "code",
   "execution_count": 44,
   "metadata": {
    "collapsed": true,
    "jupyter": {
     "outputs_hidden": true
    }
   },
   "outputs": [
    {
     "name": "stdout",
     "output_type": "stream",
     "text": [
      "\n",
      "Threshold: 0.1\n",
      "Accuracy: 0.8450069028992176\n",
      "Recall: 0.4366576819407008\n",
      "ROC AUC: 0.6557979706749835\n",
      "Confusion Matrix:\n",
      " [[17714  2532]\n",
      " [  836   648]]\n",
      "F1 Score: 0.27787307032590053\n",
      "\n",
      "Threshold: 0.2\n",
      "Accuracy: 0.92899217671422\n",
      "Recall: 0.16037735849056603\n",
      "ROC AUC: 0.5728538970660871\n",
      "Confusion Matrix:\n",
      " [[19949   297]\n",
      " [ 1246   238]]\n",
      "F1 Score: 0.2357602773650322\n",
      "\n",
      "Threshold: 0.3\n",
      "Accuracy: 0.9336401288541187\n",
      "Recall: 0.08827493261455525\n",
      "ROC AUC: 0.5419395012771483\n",
      "Confusion Matrix:\n",
      " [[20157    89]\n",
      " [ 1353   131]]\n",
      "F1 Score: 0.15375586854460097\n",
      "\n",
      "Threshold: 0.4\n",
      "Accuracy: 0.9331799355729407\n",
      "Recall: 0.05390835579514825\n",
      "ROC AUC: 0.5257687585554819\n",
      "Confusion Matrix:\n",
      " [[20198    48]\n",
      " [ 1404    80]]\n",
      "F1 Score: 0.09925558312655088\n",
      "\n",
      "Threshold: 0.5\n",
      "Accuracy: 0.9326737229636447\n",
      "Recall: 0.03369272237196765\n",
      "ROC AUC: 0.5161301703334698\n",
      "Confusion Matrix:\n",
      " [[20217    29]\n",
      " [ 1434    50]]\n",
      "F1 Score: 0.06397952655150352\n",
      "\n",
      "Threshold: 0.6\n",
      "Accuracy: 0.932121491026231\n",
      "Recall: 0.020889487870619946\n",
      "ROC AUC: 0.5099014267368509\n",
      "Confusion Matrix:\n",
      " [[20224    22]\n",
      " [ 1453    31]]\n",
      "F1 Score: 0.04033832140533507\n",
      "\n",
      "Threshold: 0.7\n",
      "Accuracy: 0.9318453750575242\n",
      "Recall: 0.012803234501347708\n",
      "ROC AUC: 0.5060064774699765\n",
      "Confusion Matrix:\n",
      " [[20230    16]\n",
      " [ 1465    19]]\n",
      "F1 Score: 0.025016458196181698\n",
      "\n",
      "Threshold: 0.8\n",
      "Accuracy: 0.9314772204325816\n",
      "Recall: 0.004043126684636119\n",
      "ROC AUC: 0.5017499047430886\n",
      "Confusion Matrix:\n",
      " [[20235    11]\n",
      " [ 1478     6]]\n",
      "F1 Score: 0.007994670219853431\n",
      "\n",
      "Threshold: 0.9\n",
      "Accuracy: 0.9316612977450529\n",
      "Recall: 0.0006738544474393531\n",
      "ROC AUC: 0.5002875347511325\n",
      "Confusion Matrix:\n",
      " [[20244     2]\n",
      " [ 1483     1]]\n",
      "F1 Score: 0.0013449899125756559\n"
     ]
    }
   ],
   "source": [
    "# 提示：thresholds = [0.1,0.2,0.3,0.4,0.5,0.6,0.7,0.8,0.9]\n",
    "# 根据predict_proba的结果和threshold的比较确定结果，再评估各种结果指标\n",
    "\n",
    "from sklearn.metrics import accuracy_score, recall_score, roc_auc_score, confusion_matrix, f1_score\n",
    "\n",
    "# 设定不同的阈值\n",
    "thresholds = [0.1, 0.2, 0.3, 0.4, 0.5, 0.6, 0.7, 0.8, 0.9]\n",
    "\n",
    "for threshold in thresholds:\n",
    "    # 根据阈值进行预测\n",
    "    y_pred_thresholded = (best_model.predict_proba(X_test)[:, 1] > threshold).astype(int)\n",
    "    \n",
    "    # 计算各种测试指标\n",
    "    accuracy = accuracy_score(y_test, y_pred_thresholded)\n",
    "    recall = recall_score(y_test, y_pred_thresholded)\n",
    "    roc_auc = roc_auc_score(y_test, y_pred_thresholded)\n",
    "    conf_matrix = confusion_matrix(y_test, y_pred_thresholded)\n",
    "    f1 = f1_score(y_test, y_pred_thresholded)\n",
    "\n",
    "    # 打印测试指标结果\n",
    "    print(f\"\\nThreshold: {threshold}\")\n",
    "    print(\"Accuracy:\", accuracy)\n",
    "    print(\"Recall:\", recall)\n",
    "    print(\"ROC AUC:\", roc_auc)\n",
    "    print(\"Confusion Matrix:\\n\", conf_matrix)\n",
    "    print(\"F1 Score:\", f1)"
   ]
  },
  {
   "cell_type": "markdown",
   "metadata": {},
   "source": [
    "#### 9.尝试对不同特征的重要度进行排序，通过特征选择的方式，对特征进行筛选。并重新建模，观察此时的模型准确率等评估指标。"
   ]
  },
  {
   "cell_type": "code",
   "execution_count": 45,
   "metadata": {
    "collapsed": true,
    "jupyter": {
     "outputs_hidden": true
    }
   },
   "outputs": [
    {
     "name": "stdout",
     "output_type": "stream",
     "text": [
      "Feature Ranking (Logistic Regression Coefficients):\n",
      "Feature 3: DebtRatio - Coefficient: 1.3726551648593193\n",
      "Feature 8: NumberOfTime60-89DaysPastDueNotWorse - Coefficient: -0.7365431571600579\n",
      "Feature 2: NumberOfTime30-59DaysPastDueNotWorse - Coefficient: 0.4396254331029591\n",
      "Feature 6: NumberOfTimes90DaysLate - Coefficient: 0.3356487093133889\n",
      "Feature 7: NumberRealEstateLoansOrLines - Coefficient: -0.1934723995518849\n",
      "Feature 9: NumberOfDependents - Coefficient: 0.10205562403196596\n",
      "Feature 1: age - Coefficient: -0.025696485583276425\n",
      "Feature 5: NumberOfOpenCreditLinesAndLoans - Coefficient: -0.023420201467595957\n",
      "Feature 0: RevolvingUtilizationOfUnsecuredLines - Coefficient: -7.930562638330583e-05\n",
      "Feature 4: MonthlyIncome - Coefficient: -4.915034697960919e-06\n"
     ]
    },
    {
     "name": "stdout",
     "output_type": "stream",
     "text": [
      "\n",
      "Model with Selected Features:\n",
      "Accuracy: 0.9334560515416475\n",
      "Recall: 0.05660377358490566\n",
      "ROC AUC: 0.5271658599229477\n",
      "Confusion Matrix:\n",
      " [[20200    46]\n",
      " [ 1400    84]]\n",
      "F1 Score: 0.10408921933085502\n"
     ]
    }
   ],
   "source": [
    "# 可以根据逻辑回归的系数绝对值大小进行排序，也可以基于树模型的特征重要度进行排序\n",
    "# 特征选择可以使用RFE或者selectFromModel\n",
    "# 获取逻辑回归模型的系数\n",
    "coefficients = best_model.coef_[0]\n",
    "\n",
    "# 计算系数的绝对值\n",
    "abs_coefficients = abs(coefficients)\n",
    "\n",
    "# 获取特征的排序索引\n",
    "feature_indices = abs_coefficients.argsort()[::-1]\n",
    "\n",
    "# 打印特征排序结果\n",
    "print(\"Feature Ranking (Logistic Regression Coefficients):\")\n",
    "for index in feature_indices:\n",
    "    print(f\"Feature {index}: {X_train.columns[index]} - Coefficient: {coefficients[index]}\")\n",
    "\n",
    "# 选择前N个特征进行建模（例如选择前10个特征）\n",
    "selected_features = X_train.columns[feature_indices[:10]]\n",
    "\n",
    "# 使用选择的特征重新建模\n",
    "model_with_selected_features = LogisticRegression(max_iter=1000)\n",
    "model_with_selected_features.fit(X_train[selected_features], y_train)\n",
    "\n",
    "# 在测试集上进行预测并计算评估指标\n",
    "y_pred_selected_features = model_with_selected_features.predict(X_test[selected_features])\n",
    "\n",
    "# 打印评估指标\n",
    "print(\"\\nModel with Selected Features:\")\n",
    "print(\"Accuracy:\", accuracy_score(y_test, y_pred_selected_features))\n",
    "print(\"Recall:\", recall_score(y_test, y_pred_selected_features))\n",
    "print(\"ROC AUC:\", roc_auc_score(y_test, y_pred_selected_features))\n",
    "print(\"Confusion Matrix:\\n\", confusion_matrix(y_test, y_pred_selected_features))\n",
    "print(\"F1 Score:\", f1_score(y_test, y_pred_selected_features))\n",
    "\n"
   ]
  },
  {
   "cell_type": "code",
   "execution_count": 46,
   "metadata": {},
   "outputs": [
    {
     "name": "stdout",
     "output_type": "stream",
     "text": [
      "Feature Ranking (Decision Tree Feature Importances):\n",
      "Feature 3: DebtRatio - Importance: 0.19147991205451909\n",
      "Feature 0: RevolvingUtilizationOfUnsecuredLines - Importance: 0.1879775492272258\n",
      "Feature 4: MonthlyIncome - Importance: 0.17492147770292596\n",
      "Feature 6: NumberOfTimes90DaysLate - Importance: 0.12084902795202111\n",
      "Feature 1: age - Importance: 0.11736930114941771\n",
      "Feature 5: NumberOfOpenCreditLinesAndLoans - Importance: 0.07983851442290726\n",
      "Feature 9: NumberOfDependents - Importance: 0.04374009733881148\n",
      "Feature 2: NumberOfTime30-59DaysPastDueNotWorse - Importance: 0.03559751681404709\n",
      "Feature 7: NumberRealEstateLoansOrLines - Importance: 0.025259209149866332\n",
      "Feature 8: NumberOfTime60-89DaysPastDueNotWorse - Importance: 0.02296739418825833\n",
      "\n",
      "Model with Selected Features (Tree-based Feature Selection):\n",
      "Accuracy: 0.9319834330418776\n",
      "Recall: 0.012129380053908356\n",
      "ROC AUC: 0.505768335191431\n",
      "Confusion Matrix:\n",
      " [[20234    12]\n",
      " [ 1466    18]]\n",
      "F1 Score: 0.023778071334214\n"
     ]
    }
   ],
   "source": [
    "from sklearn.tree import DecisionTreeClassifier\n",
    "from sklearn.feature_selection import SelectFromModel\n",
    "\n",
    "# 初始化决策树模型\n",
    "tree_model = DecisionTreeClassifier()\n",
    "\n",
    "# 使用训练集拟合模型\n",
    "tree_model.fit(X_train, y_train)\n",
    "\n",
    "# 获取特征重要度\n",
    "importances = tree_model.feature_importances_\n",
    "\n",
    "# 获取特征的排序索引\n",
    "tree_feature_indices = importances.argsort()[::-1]\n",
    "\n",
    "# 打印特征排序结果\n",
    "print(\"Feature Ranking (Decision Tree Feature Importances):\")\n",
    "for index in tree_feature_indices:\n",
    "    print(f\"Feature {index}: {X_train.columns[index]} - Importance: {importances[index]}\")\n",
    "\n",
    "# 使用SelectFromModel进行特征选择\n",
    "sfm = SelectFromModel(tree_model, threshold='median')\n",
    "sfm.fit(X_train, y_train)\n",
    "\n",
    "# 获取选择的特征索引\n",
    "selected_feature_indices = sfm.get_support(indices=True)\n",
    "\n",
    "# 获取选择的特征\n",
    "selected_features_tree = X_train.columns[selected_feature_indices]\n",
    "\n",
    "# 使用选择的特征重新建模\n",
    "model_with_selected_features_tree = LogisticRegression(max_iter=1000)\n",
    "model_with_selected_features_tree.fit(X_train[selected_features_tree], y_train)\n",
    "\n",
    "# 在测试集上进行预测并计算评估指标\n",
    "y_pred_selected_features_tree = model_with_selected_features_tree.predict(X_test[selected_features_tree])\n",
    "\n",
    "# 打印评估指标\n",
    "print(\"\\nModel with Selected Features (Tree-based Feature Selection):\")\n",
    "print(\"Accuracy:\", accuracy_score(y_test, y_pred_selected_features_tree))\n",
    "print(\"Recall:\", recall_score(y_test, y_pred_selected_features_tree))\n",
    "print(\"ROC AUC:\", roc_auc_score(y_test, y_pred_selected_features_tree))\n",
    "print(\"Confusion Matrix:\\n\", confusion_matrix(y_test, y_pred_selected_features_tree))\n",
    "print(\"F1 Score:\", f1_score(y_test, y_pred_selected_features_tree))\n"
   ]
  },
  {
   "cell_type": "markdown",
   "metadata": {},
   "source": [
    "#### 10.其他模型算法尝试\n",
    "使用RandomForestClassifier/SVM/KNN等sklearn分类算法进行分类，尝试上述超参数调优算法过程。"
   ]
  },
  {
   "cell_type": "code",
   "execution_count": 47,
   "metadata": {
    "collapsed": true,
    "jupyter": {
     "outputs_hidden": true
    }
   },
   "outputs": [
    {
     "name": "stdout",
     "output_type": "stream",
     "text": [
      "Best Hyperparameters for RandomForestClassifier: {'bootstrap': True, 'max_depth': 10, 'min_samples_leaf': 2, 'min_samples_split': 2, 'n_estimators': 100}\n",
      "\n",
      "RandomForestClassifier Evaluation:\n",
      "Accuracy: 0.935250805338242\n",
      "Recall: 0.15026954177897575\n",
      "ROC AUC: 0.5715291203906239\n",
      "Confusion Matrix:\n",
      " [[20100   146]\n",
      " [ 1261   223]]\n",
      "F1 Score: 0.24069077172153266\n"
     ]
    }
   ],
   "source": [
    "from sklearn.ensemble import RandomForestClassifier\n",
    "\n",
    "# Initialize RandomForestClassifier model\n",
    "rf_model = RandomForestClassifier(random_state=42)\n",
    "\n",
    "# Define a reduced hyperparameter search space\n",
    "param_grid = {\n",
    "    'n_estimators': [50, 100],\n",
    "    'max_depth': [None, 10],\n",
    "    'min_samples_split': [2, 5],\n",
    "    'min_samples_leaf': [1, 2],\n",
    "    'bootstrap': [True, False]\n",
    "}\n",
    "\n",
    "# Use GridSearchCV for hyperparameter tuning with reduced candidates\n",
    "grid_search_rf = GridSearchCV(rf_model, param_grid, cv=3, scoring='accuracy', n_jobs=-1)\n",
    "grid_search_rf.fit(X_train, y_train)\n",
    "\n",
    "# Output the best hyperparameters\n",
    "print(\"Best Hyperparameters for RandomForestClassifier:\", grid_search_rf.best_params_)\n",
    "\n",
    "# Output the best model\n",
    "best_rf_model = grid_search_rf.best_estimator_\n",
    "\n",
    "# Predict on the test set and calculate evaluation metrics\n",
    "y_pred_rf = best_rf_model.predict(X_test)\n",
    "\n",
    "# Print evaluation metrics\n",
    "print(\"\\nRandomForestClassifier Evaluation:\")\n",
    "print(\"Accuracy:\", accuracy_score(y_test, y_pred_rf))\n",
    "print(\"Recall:\", recall_score(y_test, y_pred_rf))\n",
    "print(\"ROC AUC:\", roc_auc_score(y_test, y_pred_rf))\n",
    "print(\"Confusion Matrix:\\n\", confusion_matrix(y_test, y_pred_rf))\n",
    "print(\"F1 Score:\", f1_score(y_test, y_pred_rf))"
   ]
  },
  {
   "cell_type": "code",
   "execution_count": null,
   "metadata": {},
   "outputs": [],
   "source": [
    "from sklearn.svm import SVC\n",
    "\n",
    "# Initialize Support Vector Machine model\n",
    "svm_model = SVC(random_state=42)\n",
    "\n",
    "# Define a reduced hyperparameter search space\n",
    "param_grid = {\n",
    "    'C': [1],\n",
    "    'kernel': ['linear'],\n",
    "    'gamma': ['scale'],\n",
    "}\n",
    "\n",
    "# Use GridSearchCV for hyperparameter tuning with reduced candidates\n",
    "grid_search_svm = GridSearchCV(svm_model, param_grid, cv=3, scoring='accuracy', n_jobs=-1)\n",
    "grid_search_svm.fit(X_train, y_train)\n",
    "\n",
    "# Output the best hyperparameters\n",
    "print(\"Best Hyperparameters for SVM:\", grid_search_svm.best_params_)\n",
    "\n",
    "# Output the best model\n",
    "best_svm_model = grid_search_svm.best_estimator_\n",
    "\n",
    "# Predict on the test set and calculate evaluation metrics\n",
    "y_pred_svm = best_svm_model.predict(X_test)\n",
    "\n",
    "# Print evaluation metrics\n",
    "print(\"\\nSVM Evaluation:\")\n",
    "print(\"Accuracy:\", accuracy_score(y_test, y_pred_svm))\n",
    "print(\"Recall:\", recall_score(y_test, y_pred_svm))\n",
    "print(\"ROC AUC:\", roc_auc_score(y_test, y_pred_svm))\n",
    "print(\"Confusion Matrix:\\n\", confusion_matrix(y_test, y_pred_svm))\n",
    "print(\"F1 Score:\", f1_score(y_test, y_pred_svm))"
   ]
  },
  {
   "cell_type": "code",
   "execution_count": null,
   "metadata": {},
   "outputs": [],
   "source": [
    "from sklearn.neighbors import KNeighborsClassifier\n",
    "\n",
    "# Initialize K-Nearest Neighbors classifier\n",
    "knn_model = KNeighborsClassifier()\n",
    "\n",
    "# Define a reduced hyperparameter search space\n",
    "param_grid = {\n",
    "    'n_neighbors': [5],\n",
    "    'weights': ['uniform'],\n",
    "    'p': [1],\n",
    "}\n",
    "\n",
    "# Use GridSearchCV for hyperparameter tuning with reduced candidates\n",
    "grid_search_knn = GridSearchCV(knn_model, param_grid, cv=3, scoring='accuracy', n_jobs=-1)\n",
    "grid_search_knn.fit(X_train, y_train)\n",
    "\n",
    "# Output the best hyperparameters\n",
    "print(\"Best Hyperparameters for KNN:\", grid_search_knn.best_params_)\n",
    "\n",
    "# Output the best model\n",
    "best_knn_model = grid_search_knn.best_estimator_\n",
    "\n",
    "# Predict on the test set and calculate evaluation metrics\n",
    "y_pred_knn = best_knn_model.predict(X_test)\n",
    "\n",
    "# Print evaluation metrics\n",
    "print(\"\\nKNN Evaluation:\")\n",
    "print(\"Accuracy:\", accuracy_score(y_test, y_pred_knn))\n",
    "print(\"Recall:\", recall_score(y_test, y_pred_knn))\n",
    "print(\"ROC AUC:\", roc_auc_score(y_test, y_pred_knn))\n",
    "print(\"Confusion Matrix:\\n\", confusion_matrix(y_test, y_pred_knn))\n",
    "print(\"F1 Score:\", f1_score(y_test, y_pred_knn))"
   ]
  }
 ],
 "metadata": {
  "kernelspec": {
   "display_name": "Python 3 (ipykernel)",
   "language": "python",
   "name": "python3"
  },
  "language_info": {
   "codemirror_mode": {
    "name": "ipython",
    "version": 3
   },
   "file_extension": ".py",
   "mimetype": "text/x-python",
   "name": "python",
   "nbconvert_exporter": "python",
   "pygments_lexer": "ipython3",
   "version": "3.11.6"
  }
 },
 "nbformat": 4,
 "nbformat_minor": 4
}
