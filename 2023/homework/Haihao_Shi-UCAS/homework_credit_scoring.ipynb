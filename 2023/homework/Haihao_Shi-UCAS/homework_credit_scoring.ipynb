{
 "cells": [
  {
   "cell_type": "markdown",
   "metadata": {},
   "source": [
    "# 一起来打怪之 Credit Scoring 练习"
   ]
  },
  {
   "cell_type": "markdown",
   "metadata": {},
   "source": [
    "# 一起来打怪之 Credit Scoring 练习"
   ]
  },
  {
   "cell_type": "markdown",
   "metadata": {},
   "source": [
    "---\n",
    "## 作业说明\n",
    "\n",
    "- 答题步骤：\n",
    "    - 回答问题**请保留每一步**操作过程，请不要仅仅给出最后答案\n",
    "    - 请养成代码注释的好习惯\n",
    "\n",
    "- 解题思路：\n",
    "    - 为方便大家准确理解题目，在习题实战中有所收获，本文档提供了解题思路提示\n",
    "    - 解题思路**仅供参考**，鼓励原创解题方法\n",
    "    - 为督促同学们自己思考，解题思路内容设置为**白色**，必要时请从冒号后拖动鼠标查看\n",
    "\n",
    "- 所用数据\n",
    "    - 请注意导入数据库后先**查看和了解数据的基本性质**，后面的问题不再一一提醒"
   ]
  },
  {
   "cell_type": "markdown",
   "metadata": {},
   "source": [
    "## machine learning for credit scoring\n",
    "\n",
    "\n",
    "Banks play a crucial role in market economies. They decide who can get finance and on what terms and can make or break investment decisions. For markets and society to function, individuals and companies need access to credit. \n",
    "\n",
    "Credit scoring algorithms, which make a guess at the probability of default, are the method banks use to determine whether or not a loan should be granted. This competition requires participants to improve on the state of the art in credit scoring, by predicting the probability that somebody will experience financial distress in the next two years. [Dataset](https://www.kaggle.com/c/GiveMeSomeCredit)\n",
    "\n",
    "Attribute Information:\n",
    "\n",
    "|Variable Name\t|\tDescription\t|\tType|\n",
    "|----|----|----|\n",
    "|SeriousDlqin2yrs\t|\tPerson experienced 90 days past due delinquency or worse \t|\tY/N|\n",
    "|RevolvingUtilizationOfUnsecuredLines\t|\tTotal balance on credit divided by the sum of credit limits\t|\tpercentage|\n",
    "|age\t|\tAge of borrower in years\t|\tinteger|\n",
    "|NumberOfTime30-59DaysPastDueNotWorse\t|\tNumber of times borrower has been 30-59 days past due |\tinteger|\n",
    "|DebtRatio\t|\tMonthly debt payments\t|\tpercentage|\n",
    "|MonthlyIncome\t|\tMonthly income\t|\treal|\n",
    "|NumberOfOpenCreditLinesAndLoans\t|\tNumber of Open loans |\tinteger|\n",
    "|NumberOfTimes90DaysLate\t|\tNumber of times borrower has been 90 days or more past due.\t|\tinteger|\n",
    "|NumberRealEstateLoansOrLines\t|\tNumber of mortgage and real estate loans\t|\tinteger|\n",
    "|NumberOfTime60-89DaysPastDueNotWorse\t|\tNumber of times borrower has been 60-89 days past due |integer|\n",
    "|NumberOfDependents\t|\tNumber of dependents in family\t|\tinteger|\n"
   ]
  },
  {
   "cell_type": "markdown",
   "metadata": {},
   "source": [
    "## 信用评分的机器学习\n",
    "\n",
    "银行在市场经济中扮演着至关重要的角色。它们决定谁可以获得融资以及融资条件，并能够左右投资决策的成败。为了市场和社会的正常运转，个人和公司需要获得信贷。\n",
    "\n",
    "信用评分算法是银行用来确定是否应该授予贷款的方法，它们通过猜测违约的概率来进行评估。本次竞赛要求参与者改进信用评分的最新技术水平，通过预测某人在未来两年内是否会遭遇财务困境来评估信用风险。\n",
    "\n",
    "属性信息：\n",
    "\n",
    "|变量名\t|\t描述\t|\t类型|\n",
    "|----|----|----|\n",
    "|SeriousDlqin2yrs\t|\t个人是否在过去90天中出现过逾期90天或更糟的情况\t|\tY/N|\n",
    "|RevolvingUtilizationOfUnsecuredLines\t|\t未担保信贷额度的余额占比\t|\t百分比|\n",
    "|age\t|\t借款人的年龄\t|\t整数|\n",
    "|NumberOfTime30-59DaysPastDueNotWorse\t|\t借款人逾期30-59天的次数\t|\t整数|\n",
    "|DebtRatio\t|\t月债务支付比例\t|\t百分比|\n",
    "|MonthlyIncome\t|\t月收入\t|\t实数|\n",
    "|NumberOfOpenCreditLinesAndLoans\t|\t未结清贷款和信用额度的数量\t|\t整数|\n",
    "|NumberOfTimes90DaysLate\t|\t借款人逾期90天或更长时间的次数\t|\t整数|\n",
    "|NumberRealEstateLoansOrLines\t|\t抵押贷款和房地产贷款的数量\t|\t整数|\n",
    "|NumberOfTime60-89DaysPastDueNotWorse\t|\t借款人逾期60-89天的次数\t|\t整数|\n",
    "|NumberOfDependents\t|\t家庭中的家属数量\t|\t整数|\n",
    "\n"
   ]
  },
  {
   "cell_type": "markdown",
   "metadata": {},
   "source": [
    "----------\n",
    "## Read the data into Pandas "
   ]
  },
  {
   "cell_type": "code",
   "execution_count": 72,
   "metadata": {
    "collapsed": true,
    "jupyter": {
     "outputs_hidden": true
    }
   },
   "outputs": [
    {
     "data": {
      "text/html": [
       "<div>\n",
       "<style scoped>\n",
       "    .dataframe tbody tr th:only-of-type {\n",
       "        vertical-align: middle;\n",
       "    }\n",
       "\n",
       "    .dataframe tbody tr th {\n",
       "        vertical-align: top;\n",
       "    }\n",
       "\n",
       "    .dataframe thead th {\n",
       "        text-align: right;\n",
       "    }\n",
       "</style>\n",
       "<table border=\"1\" class=\"dataframe\">\n",
       "  <thead>\n",
       "    <tr style=\"text-align: right;\">\n",
       "      <th></th>\n",
       "      <th>SeriousDlqin2yrs</th>\n",
       "      <th>RevolvingUtilizationOfUnsecuredLines</th>\n",
       "      <th>age</th>\n",
       "      <th>NumberOfTime30-59DaysPastDueNotWorse</th>\n",
       "      <th>DebtRatio</th>\n",
       "      <th>MonthlyIncome</th>\n",
       "      <th>NumberOfOpenCreditLinesAndLoans</th>\n",
       "      <th>NumberOfTimes90DaysLate</th>\n",
       "      <th>NumberRealEstateLoansOrLines</th>\n",
       "      <th>NumberOfTime60-89DaysPastDueNotWorse</th>\n",
       "      <th>NumberOfDependents</th>\n",
       "    </tr>\n",
       "  </thead>\n",
       "  <tbody>\n",
       "    <tr>\n",
       "      <th>0</th>\n",
       "      <td>1</td>\n",
       "      <td>0.766127</td>\n",
       "      <td>45.0</td>\n",
       "      <td>2.0</td>\n",
       "      <td>0.802982</td>\n",
       "      <td>9120.0</td>\n",
       "      <td>13.0</td>\n",
       "      <td>0.0</td>\n",
       "      <td>6.0</td>\n",
       "      <td>0.0</td>\n",
       "      <td>2.0</td>\n",
       "    </tr>\n",
       "    <tr>\n",
       "      <th>1</th>\n",
       "      <td>0</td>\n",
       "      <td>0.957151</td>\n",
       "      <td>40.0</td>\n",
       "      <td>0.0</td>\n",
       "      <td>0.121876</td>\n",
       "      <td>2600.0</td>\n",
       "      <td>4.0</td>\n",
       "      <td>0.0</td>\n",
       "      <td>0.0</td>\n",
       "      <td>0.0</td>\n",
       "      <td>1.0</td>\n",
       "    </tr>\n",
       "    <tr>\n",
       "      <th>2</th>\n",
       "      <td>0</td>\n",
       "      <td>0.658180</td>\n",
       "      <td>38.0</td>\n",
       "      <td>1.0</td>\n",
       "      <td>0.085113</td>\n",
       "      <td>3042.0</td>\n",
       "      <td>2.0</td>\n",
       "      <td>1.0</td>\n",
       "      <td>0.0</td>\n",
       "      <td>0.0</td>\n",
       "      <td>0.0</td>\n",
       "    </tr>\n",
       "    <tr>\n",
       "      <th>3</th>\n",
       "      <td>0</td>\n",
       "      <td>0.233810</td>\n",
       "      <td>30.0</td>\n",
       "      <td>0.0</td>\n",
       "      <td>0.036050</td>\n",
       "      <td>3300.0</td>\n",
       "      <td>5.0</td>\n",
       "      <td>0.0</td>\n",
       "      <td>0.0</td>\n",
       "      <td>0.0</td>\n",
       "      <td>0.0</td>\n",
       "    </tr>\n",
       "    <tr>\n",
       "      <th>4</th>\n",
       "      <td>0</td>\n",
       "      <td>0.907239</td>\n",
       "      <td>49.0</td>\n",
       "      <td>1.0</td>\n",
       "      <td>0.024926</td>\n",
       "      <td>63588.0</td>\n",
       "      <td>7.0</td>\n",
       "      <td>0.0</td>\n",
       "      <td>1.0</td>\n",
       "      <td>0.0</td>\n",
       "      <td>0.0</td>\n",
       "    </tr>\n",
       "  </tbody>\n",
       "</table>\n",
       "</div>"
      ],
      "text/plain": [
       "   SeriousDlqin2yrs  RevolvingUtilizationOfUnsecuredLines   age  \\\n",
       "0                 1                              0.766127  45.0   \n",
       "1                 0                              0.957151  40.0   \n",
       "2                 0                              0.658180  38.0   \n",
       "3                 0                              0.233810  30.0   \n",
       "4                 0                              0.907239  49.0   \n",
       "\n",
       "   NumberOfTime30-59DaysPastDueNotWorse  DebtRatio  MonthlyIncome  \\\n",
       "0                                   2.0   0.802982         9120.0   \n",
       "1                                   0.0   0.121876         2600.0   \n",
       "2                                   1.0   0.085113         3042.0   \n",
       "3                                   0.0   0.036050         3300.0   \n",
       "4                                   1.0   0.024926        63588.0   \n",
       "\n",
       "   NumberOfOpenCreditLinesAndLoans  NumberOfTimes90DaysLate  \\\n",
       "0                             13.0                      0.0   \n",
       "1                              4.0                      0.0   \n",
       "2                              2.0                      1.0   \n",
       "3                              5.0                      0.0   \n",
       "4                              7.0                      0.0   \n",
       "\n",
       "   NumberRealEstateLoansOrLines  NumberOfTime60-89DaysPastDueNotWorse  \\\n",
       "0                           6.0                                   0.0   \n",
       "1                           0.0                                   0.0   \n",
       "2                           0.0                                   0.0   \n",
       "3                           0.0                                   0.0   \n",
       "4                           1.0                                   0.0   \n",
       "\n",
       "   NumberOfDependents  \n",
       "0                 2.0  \n",
       "1                 1.0  \n",
       "2                 0.0  \n",
       "3                 0.0  \n",
       "4                 0.0  "
      ]
     },
     "execution_count": 72,
     "metadata": {},
     "output_type": "execute_result"
    }
   ],
   "source": [
    "import pandas as pd\n",
    "pd.set_option('display.max_columns', 500)\n",
    "import zipfile\n",
    "\n",
    "with zipfile.ZipFile('KaggleCredit2.csv.zip', 'r') as z:\n",
    "    f = z.open('KaggleCredit2.csv')\n",
    "    data = pd.read_csv(f, index_col=0)\n",
    "\n",
    "data.head()"
   ]
  },
  {
   "cell_type": "code",
   "execution_count": 81,
   "metadata": {},
   "outputs": [],
   "source": [
    "#公共import区\n",
    "import matplotlib.pyplot as plt\n",
    "import numpy as np\n",
    "import seaborn as sns\n"
   ]
  },
  {
   "cell_type": "code",
   "execution_count": 74,
   "metadata": {
    "collapsed": true,
    "jupyter": {
     "outputs_hidden": true
    }
   },
   "outputs": [
    {
     "data": {
      "text/plain": [
       "(112915, 11)"
      ]
     },
     "execution_count": 74,
     "metadata": {},
     "output_type": "execute_result"
    }
   ],
   "source": [
    "data.shape"
   ]
  },
  {
   "cell_type": "markdown",
   "metadata": {},
   "source": [
    "------------\n",
    "## Drop na"
   ]
  },
  {
   "cell_type": "code",
   "execution_count": 75,
   "metadata": {
    "collapsed": true,
    "jupyter": {
     "outputs_hidden": true
    }
   },
   "outputs": [
    {
     "data": {
      "text/plain": [
       "SeriousDlqin2yrs                           0\n",
       "RevolvingUtilizationOfUnsecuredLines       0\n",
       "age                                     4267\n",
       "NumberOfTime30-59DaysPastDueNotWorse       0\n",
       "DebtRatio                                  0\n",
       "MonthlyIncome                              0\n",
       "NumberOfOpenCreditLinesAndLoans            0\n",
       "NumberOfTimes90DaysLate                    0\n",
       "NumberRealEstateLoansOrLines               0\n",
       "NumberOfTime60-89DaysPastDueNotWorse       0\n",
       "NumberOfDependents                      4267\n",
       "dtype: int64"
      ]
     },
     "execution_count": 75,
     "metadata": {},
     "output_type": "execute_result"
    }
   ],
   "source": [
    "data.isnull().sum(axis=0)"
   ]
  },
  {
   "cell_type": "code",
   "execution_count": 76,
   "metadata": {
    "collapsed": true,
    "jupyter": {
     "outputs_hidden": true
    }
   },
   "outputs": [
    {
     "data": {
      "text/plain": [
       "(108648, 11)"
      ]
     },
     "execution_count": 76,
     "metadata": {},
     "output_type": "execute_result"
    }
   ],
   "source": [
    "data.dropna(inplace=True)\n",
    "data.shape"
   ]
  },
  {
   "cell_type": "markdown",
   "metadata": {},
   "source": [
    "---------\n",
    "## Create X and y"
   ]
  },
  {
   "cell_type": "code",
   "execution_count": 77,
   "metadata": {
    "collapsed": true,
    "jupyter": {
     "outputs_hidden": true
    }
   },
   "outputs": [],
   "source": [
    "y = data['SeriousDlqin2yrs']\n",
    "x = data.drop('SeriousDlqin2yrs', axis=1)"
   ]
  },
  {
   "cell_type": "code",
   "execution_count": 78,
   "metadata": {
    "collapsed": true,
    "jupyter": {
     "outputs_hidden": true
    }
   },
   "outputs": [
    {
     "name": "stdout",
     "output_type": "stream",
     "text": [
      "0.06742876076872101\n",
      "(108648, 10)\n",
      "(108648,)\n"
     ]
    }
   ],
   "source": [
    "print(y.mean())\n",
    "print(x.shape)\n",
    "print(y.shape)"
   ]
  },
  {
   "cell_type": "markdown",
   "metadata": {},
   "source": [
    "---\n",
    "## 练习1：把数据切分成训练集和测试集\n",
    "- 提示：<span style='color:white'>from sklearn.model_selection import train_test_split('Gender') </span>"
   ]
  },
  {
   "cell_type": "code",
   "execution_count": 62,
   "metadata": {
    "collapsed": true,
    "jupyter": {
     "outputs_hidden": true
    }
   },
   "outputs": [],
   "source": [
    "## your code here\n",
    "from sklearn.model_selection import train_test_split\n",
    "x_train,x_test,y_train,y_test = train_test_split(x,y,test_size=0.2,random_state=24)\n",
    "\n"
   ]
  },
  {
   "cell_type": "markdown",
   "metadata": {},
   "source": [
    "----\n",
    "## 练习2：使用logistic regression/决策树/SVM/KNN...等sklearn分类算法进行分类\n",
    "尝试查sklearn API了解模型参数含义，调整不同的参数"
   ]
  },
  {
   "cell_type": "markdown",
   "metadata": {},
   "source": [
    "### Logistic regression\n",
    "- 提示：<span style='color:white'>from sklearn import linear_model('Gender') </span>"
   ]
  },
  {
   "cell_type": "code",
   "execution_count": 108,
   "metadata": {
    "collapsed": true,
    "jupyter": {
     "outputs_hidden": true
    }
   },
   "outputs": [
    {
     "name": "stderr",
     "output_type": "stream",
     "text": [
      "C:\\Users\\huang\\anaconda3\\Lib\\site-packages\\sklearn\\linear_model\\_logistic.py:460: ConvergenceWarning: lbfgs failed to converge (status=1):\n",
      "STOP: TOTAL NO. of ITERATIONS REACHED LIMIT.\n",
      "\n",
      "Increase the number of iterations (max_iter) or scale the data as shown in:\n",
      "    https://scikit-learn.org/stable/modules/preprocessing.html\n",
      "Please also refer to the documentation for alternative solver options:\n",
      "    https://scikit-learn.org/stable/modules/linear_model.html#logistic-regression\n",
      "  n_iter_i = _check_optimize_result(\n"
     ]
    },
    {
     "data": {
      "image/png": "[encoded data removed]",
      "text/plain": [
       "<Figure size 640x480 with 2 Axes>"
      ]
     },
     "metadata": {},
     "output_type": "display_data"
    }
   ],
   "source": [
    "## your code here\n",
    "from sklearn.linear_model import LogisticRegression\n",
    "from sklearn.metrics import confusion_matrix\n",
    "model = LogisticRegression()\n",
    "\n",
    "# 在训练集上拟合模型\n",
    "model.fit(x_train, y_train)\n",
    "\n",
    "# 在测试集上进行预测\n",
    "y_pred = model.predict(x_test)\n",
    "\n",
    "\n",
    "\n",
    "# 绘制混淆矩阵\n",
    "cm_Logisticregression = confusion_matrix(y_test, y_pred)\n",
    "sns.heatmap(cm_Logisticregression, annot=True, fmt='d')\n",
    "plt.xlabel('Predicted')\n",
    "plt.ylabel('Actual')\n",
    "plt.title('Confusion Matrix')\n",
    "plt.show()\n",
    "\n",
    "\n"
   ]
  },
  {
   "cell_type": "markdown",
   "metadata": {},
   "source": [
    "# 关于模型预测的结果\n",
    "* 真阳性（模型正确预测为正类的样本数）\n",
    "* 假阴性（模型错误地将正类预测为负类的样本数）\n",
    "* 假阳性（模型错误地将负类预测为正类的样本数）\n",
    "* 真阴性（模型正确预测为负类的样本数）\n",
    "* 真阴性+真阳性 means 预测正确数/正确率"
   ]
  },
  {
   "cell_type": "code",
   "execution_count": 100,
   "metadata": {},
   "outputs": [],
   "source": [
    "#通用计算定义:\n",
    "#真阳性率(True Positive Rate)\n",
    "#假阳性率(False Positive Rate)\n",
    "#真阴性率(True Negative Rate，也称为特异性)\n",
    "#假阴性率(False Negative Rate)\n",
    "def true_positive_rate(confusion_matrix):\n",
    "    TP = confusion_matrix[1, 1]\n",
    "    FN = confusion_matrix[1, 0]\n",
    "    return TP / (TP + FN)\n",
    "\n",
    "def false_positive_rate(confusion_matrix):\n",
    "    FP = confusion_matrix[0, 1]\n",
    "    TN = confusion_matrix[0, 0]\n",
    "    return FP / (FP + TN)\n",
    "\n",
    "def true_negative_rate(confusion_matrix):\n",
    "    FP = confusion_matrix[0, 1]\n",
    "    TN = confusion_matrix[0, 0]\n",
    "    return TN / (FP + TN)\n",
    "\n",
    "def false_negative_rate(confusion_matrix):\n",
    "    TP = confusion_matrix[1, 1]\n",
    "    FN = confusion_matrix[1, 0]\n",
    "    return FN / (TP + FN)\n",
    "\n",
    "def Right_rate(confusion_matrix):\n",
    "    R = confusion_matrix[0, 0] + confusion_matrix[1, 1]\n",
    "    all = confusion_matrix[0, 0] + confusion_matrix[1, 1] + confusion_matrix[0, 1] + confusion_matrix[1, 0]\n",
    "    return R/all"
   ]
  },
  {
   "cell_type": "code",
   "execution_count": 102,
   "metadata": {},
   "outputs": [
    {
     "name": "stdout",
     "output_type": "stream",
     "text": [
      "真阳性率(True Positive Rate): 0.011118832522585128\n",
      "假阳性率(False Positive Rate): 0.0007885269331230595\n",
      "真阴性率(True Negative Rate): 0.999211473066877\n",
      "假阴性率(False Negative Rate) 0.9888811674774148\n",
      "模型预测正确率： 0.9337781868384721\n"
     ]
    }
   ],
   "source": [
    "print(\"真阳性率(True Positive Rate):\",true_positive_rate(cm_Logisticregression))\n",
    "print(\"假阳性率(False Positive Rate):\",false_positive_rate(cm_Logisticregression))\n",
    "print(\"真阴性率(True Negative Rate):\",true_negative_rate(cm_Logisticregression))\n",
    "print(\"假阴性率(False Negative Rate)\",false_negative_rate(cm_Logisticregression))\n",
    "print(\"模型预测正确率：\",Right_rate(cm_Logisticregression))"
   ]
  },
  {
   "cell_type": "markdown",
   "metadata": {},
   "source": [
    "### Decision Tree\n",
    "- 提示：<span style='color:white'>from sklearn.tree import DecisionTreeClassifier('Gender') </span>"
   ]
  },
  {
   "cell_type": "code",
   "execution_count": 107,
   "metadata": {
    "collapsed": true,
    "jupyter": {
     "outputs_hidden": true
    }
   },
   "outputs": [
    {
     "data": {
      "image/png": "[encoded data removed]",
      "text/plain": [
       "<Figure size 640x480 with 2 Axes>"
      ]
     },
     "metadata": {},
     "output_type": "display_data"
    }
   ],
   "source": [
    "## your code here\n",
    "from sklearn.tree import DecisionTreeClassifier\n",
    "from sklearn.metrics import confusion_matrix\n",
    "\n",
    "# 创建Decision Tree模型\n",
    "model = DecisionTreeClassifier()\n",
    "\n",
    "# 在训练集上拟合模型\n",
    "model.fit(x_train, y_train)\n",
    "\n",
    "# 在测试集上进行预测\n",
    "y_pred = model.predict(x_test)\n",
    "\n",
    "\n",
    "\n",
    "# 绘制混淆矩阵\n",
    "cm_DT = confusion_matrix(y_test, y_pred)\n",
    "sns.heatmap(cm_DT, annot=True, fmt='d')\n",
    "plt.xlabel('Predicted')\n",
    "plt.ylabel('Actual')\n",
    "plt.title('Confusion Matrix')\n",
    "plt.show()"
   ]
  },
  {
   "cell_type": "code",
   "execution_count": 103,
   "metadata": {},
   "outputs": [
    {
     "name": "stdout",
     "output_type": "stream",
     "text": [
      "真阳性率(True Positive Rate): 0.27241139680333565\n",
      "假阳性率(False Positive Rate): 0.06130796905031787\n",
      "真阴性率(True Negative Rate): 0.9386920309496821\n",
      "假阴性率(False Negative Rate) 0.7275886031966643\n",
      "模型预测正确率： 0.8945697192820985\n"
     ]
    }
   ],
   "source": [
    "print(\"真阳性率(True Positive Rate):\",true_positive_rate(cm_DT))\n",
    "print(\"假阳性率(False Positive Rate):\",false_positive_rate(cm_DT))\n",
    "print(\"真阴性率(True Negative Rate):\",true_negative_rate(cm_DT))\n",
    "print(\"假阴性率(False Negative Rate)\",false_negative_rate(cm_DT))\n",
    "print(\"模型预测正确率：\",Right_rate(cm_DT))"
   ]
  },
  {
   "cell_type": "markdown",
   "metadata": {},
   "source": [
    "### Random Forest\n",
    "- 提示：<span style='color:white'>from sklearn.ensemble import RandomForestClassifier('Gender') </span>"
   ]
  },
  {
   "cell_type": "code",
   "execution_count": 105,
   "metadata": {
    "collapsed": true,
    "jupyter": {
     "outputs_hidden": true
    }
   },
   "outputs": [
    {
     "data": {
      "image/png": "[encoded data removed]",
      "text/plain": [
       "<Figure size 640x480 with 2 Axes>"
      ]
     },
     "metadata": {},
     "output_type": "display_data"
    }
   ],
   "source": [
    "## your code here\n",
    "from sklearn.ensemble import RandomForestClassifier\n",
    "from sklearn.metrics import confusion_matrix\n",
    "\n",
    "# 创建模型\n",
    "model = RandomForestClassifier()\n",
    "\n",
    "# 在训练集上拟合模型\n",
    "model.fit(x_train, y_train)\n",
    "\n",
    "# 在测试集上进行预测\n",
    "y_pred = model.predict(x_test)\n",
    "\n",
    "\n",
    "# 绘制混淆矩阵\n",
    "cm_RF = confusion_matrix(y_test, y_pred)\n",
    "sns.heatmap(cm_RF, annot=True, fmt='d')\n",
    "plt.xlabel('Predicted')\n",
    "plt.ylabel('Actual')\n",
    "plt.title('Confusion Matrix')\n",
    "plt.show()"
   ]
  },
  {
   "cell_type": "code",
   "execution_count": 109,
   "metadata": {},
   "outputs": [
    {
     "name": "stdout",
     "output_type": "stream",
     "text": [
      "真阳性率(True Positive Rate): 0.18207088255733148\n",
      "假阳性率(False Positive Rate): 0.012271450396727614\n",
      "真阴性率(True Negative Rate): 0.9877285496032724\n",
      "假阴性率(False Negative Rate) 0.8179291174426685\n",
      "模型预测正确率： 0.9343764381040037\n"
     ]
    }
   ],
   "source": [
    "print(\"真阳性率(True Positive Rate):\",true_positive_rate(cm_RF))\n",
    "print(\"假阳性率(False Positive Rate):\",false_positive_rate(cm_RF))\n",
    "print(\"真阴性率(True Negative Rate):\",true_negative_rate(cm_RF))\n",
    "print(\"假阴性率(False Negative Rate)\",false_negative_rate(cm_RF))\n",
    "print(\"模型预测正确率：\",Right_rate(cm_RF))"
   ]
  },
  {
   "cell_type": "markdown",
   "metadata": {},
   "source": [
    "### SVM\n",
    "- 提示：<span style='color:white'>from sklearn.svm import SVC('Gender') </span>"
   ]
  },
  {
   "cell_type": "code",
   "execution_count": 112,
   "metadata": {
    "collapsed": true,
    "jupyter": {
     "outputs_hidden": true
    }
   },
   "outputs": [
    {
     "data": {
      "image/png": "[encoded data removed]",
      "text/plain": [
       "<Figure size 640x480 with 2 Axes>"
      ]
     },
     "metadata": {},
     "output_type": "display_data"
    }
   ],
   "source": [
    "## your code here\n",
    "from sklearn.svm import SVC\n",
    "from sklearn.metrics import confusion_matrix\n",
    "\n",
    "# 创建模型\n",
    "model = SVC()\n",
    "\n",
    "# 在训练集上拟合模型\n",
    "model.fit(x_train, y_train)\n",
    "\n",
    "# 在测试集上进行预测\n",
    "y_pred = model.predict(x_test)\n",
    "\n",
    "\n",
    "# 绘制混淆矩阵\n",
    "cm_SVC = confusion_matrix(y_test, y_pred)\n",
    "sns.heatmap(cm_SVC, annot=True, fmt='d')\n",
    "plt.xlabel('Predicted')\n",
    "plt.ylabel('Actual')\n",
    "plt.title('Confusion Matrix')\n",
    "plt.show()"
   ]
  },
  {
   "cell_type": "code",
   "execution_count": 113,
   "metadata": {},
   "outputs": [
    {
     "name": "stdout",
     "output_type": "stream",
     "text": [
      "真阳性率(True Positive Rate): 0.0\n",
      "假阳性率(False Positive Rate): 0.0\n",
      "真阴性率(True Negative Rate): 1.0\n",
      "假阴性率(False Negative Rate) 1.0\n",
      "模型预测正确率： 0.9337781868384721\n"
     ]
    }
   ],
   "source": [
    "print(\"真阳性率(True Positive Rate):\",true_positive_rate(cm_SVC))\n",
    "print(\"假阳性率(False Positive Rate):\",false_positive_rate(cm_SVC))\n",
    "print(\"真阴性率(True Negative Rate):\",true_negative_rate(cm_SVC))\n",
    "print(\"假阴性率(False Negative Rate)\",false_negative_rate(cm_SVC))\n",
    "print(\"模型预测正确率：\",Right_rate(cm_SVC))"
   ]
  },
  {
   "cell_type": "markdown",
   "metadata": {},
   "source": [
    "### KNN\n",
    "- 提示：<span style='color:white'>from sklearn.neighbors import KNeighborsClassifier('Gender') </span>"
   ]
  },
  {
   "cell_type": "code",
   "execution_count": 114,
   "metadata": {
    "collapsed": true,
    "jupyter": {
     "outputs_hidden": true
    }
   },
   "outputs": [
    {
     "data": {
      "image/png": "[encoded data removed]",
      "text/plain": [
       "<Figure size 640x480 with 2 Axes>"
      ]
     },
     "metadata": {},
     "output_type": "display_data"
    }
   ],
   "source": [
    "## your code here\n",
    "from sklearn.neighbors import KNeighborsClassifier\n",
    "from sklearn.metrics import confusion_matrix\n",
    "\n",
    "# 创建模型\n",
    "model = KNeighborsClassifier()\n",
    "\n",
    "# 在训练集上拟合模型\n",
    "model.fit(x_train, y_train)\n",
    "\n",
    "# 在测试集上进行预测\n",
    "y_pred = model.predict(x_test)\n",
    "\n",
    "\n",
    "# 绘制混淆矩阵\n",
    "cm_KNeighborsClassifier = confusion_matrix(y_test, y_pred)\n",
    "sns.heatmap(cm_KNeighborsClassifier, annot=True, fmt='d')\n",
    "plt.xlabel('Predicted')\n",
    "plt.ylabel('Actual')\n",
    "plt.title('Confusion Matrix')\n",
    "plt.show()"
   ]
  },
  {
   "cell_type": "code",
   "execution_count": 115,
   "metadata": {},
   "outputs": [
    {
     "name": "stdout",
     "output_type": "stream",
     "text": [
      "真阳性率(True Positive Rate): 0.022237665045170257\n",
      "假阳性率(False Positive Rate): 0.002710561332610517\n",
      "真阴性率(True Negative Rate): 0.9972894386673895\n",
      "假阴性率(False Negative Rate) 0.9777623349548298\n",
      "模型预测正确率： 0.9327197422917626\n"
     ]
    }
   ],
   "source": [
    "print(\"真阳性率(True Positive Rate):\",true_positive_rate(cm_KNeighborsClassifier))\n",
    "print(\"假阳性率(False Positive Rate):\",false_positive_rate(cm_KNeighborsClassifier))\n",
    "print(\"真阴性率(True Negative Rate):\",true_negative_rate(cm_KNeighborsClassifier))\n",
    "print(\"假阴性率(False Negative Rate)\",false_negative_rate(cm_KNeighborsClassifier))\n",
    "print(\"模型预测正确率：\",Right_rate(cm_KNeighborsClassifier))"
   ]
  },
  {
   "cell_type": "markdown",
   "metadata": {},
   "source": [
    "---\n",
    "\n",
    "## 练习3：在测试集上进行预测，计算准确度"
   ]
  },
  {
   "cell_type": "markdown",
   "metadata": {},
   "source": [
    "### Logistic regression\n",
    "- 提示：<span style='color:white'>y_pred_LR = clf_LR.predict(x_test)('Gender') </span>"
   ]
  },
  {
   "cell_type": "code",
   "execution_count": 116,
   "metadata": {
    "collapsed": true,
    "jupyter": {
     "outputs_hidden": true
    }
   },
   "outputs": [
    {
     "name": "stdout",
     "output_type": "stream",
     "text": [
      "真阳性率(True Positive Rate): 0.011118832522585128\n",
      "假阳性率(False Positive Rate): 0.0007885269331230595\n",
      "真阴性率(True Negative Rate): 0.999211473066877\n",
      "假阴性率(False Negative Rate) 0.9888811674774148\n",
      "模型预测正确率： 0.9337781868384721\n"
     ]
    }
   ],
   "source": [
    "#上面都写了准确率0.0\n",
    "#Logistic regression的各种率\n",
    "print(\"真阳性率(True Positive Rate):\",true_positive_rate(cm_Logisticregression))\n",
    "print(\"假阳性率(False Positive Rate):\",false_positive_rate(cm_Logisticregression))\n",
    "print(\"真阴性率(True Negative Rate):\",true_negative_rate(cm_Logisticregression))\n",
    "print(\"假阴性率(False Negative Rate)\",false_negative_rate(cm_Logisticregression))\n",
    "print(\"模型预测正确率：\",Right_rate(cm_Logisticregression))"
   ]
  },
  {
   "cell_type": "markdown",
   "metadata": {},
   "source": [
    "### Decision Tree\n",
    "- 提示：<span style='color:white'>y_pred_tree = tree.predict(x_test)('Gender') </span>"
   ]
  },
  {
   "cell_type": "code",
   "execution_count": 119,
   "metadata": {
    "collapsed": true,
    "jupyter": {
     "outputs_hidden": true
    }
   },
   "outputs": [
    {
     "name": "stdout",
     "output_type": "stream",
     "text": [
      "真阳性率(True Positive Rate): 0.28353022932592076\n",
      "假阳性率(False Positive Rate): 0.06071657385047558\n",
      "真阴性率(True Negative Rate): 0.9392834261495244\n",
      "假阴性率(False Negative Rate) 0.7164697706740792\n",
      "模型预测正确率： 0.8958582604693971\n"
     ]
    }
   ],
   "source": [
    "## your code here\n",
    "#Decision Tree的各种率\n",
    "print(\"真阳性率(True Positive Rate):\",true_positive_rate(cm_DT))\n",
    "print(\"假阳性率(False Positive Rate):\",false_positive_rate(cm_DT))\n",
    "print(\"真阴性率(True Negative Rate):\",true_negative_rate(cm_DT))\n",
    "print(\"假阴性率(False Negative Rate)\",false_negative_rate(cm_DT))\n",
    "print(\"模型预测正确率：\",Right_rate(cm_DT))"
   ]
  },
  {
   "cell_type": "markdown",
   "metadata": {},
   "source": [
    "### Random Forest\n",
    "- 提示：<span style='color:white'>y_pred_forest = forest.predict(x_test)('Gender') </span>"
   ]
  },
  {
   "cell_type": "code",
   "execution_count": 120,
   "metadata": {
    "collapsed": true,
    "jupyter": {
     "outputs_hidden": true
    }
   },
   "outputs": [
    {
     "name": "stdout",
     "output_type": "stream",
     "text": [
      "真阳性率(True Positive Rate): 0.18207088255733148\n",
      "假阳性率(False Positive Rate): 0.012271450396727614\n",
      "真阴性率(True Negative Rate): 0.9877285496032724\n",
      "假阴性率(False Negative Rate) 0.8179291174426685\n",
      "模型预测正确率： 0.9343764381040037\n"
     ]
    }
   ],
   "source": [
    "## your code here\n",
    "#随机森林的各种率\n",
    "print(\"真阳性率(True Positive Rate):\",true_positive_rate(cm_RF))\n",
    "print(\"假阳性率(False Positive Rate):\",false_positive_rate(cm_RF))\n",
    "print(\"真阴性率(True Negative Rate):\",true_negative_rate(cm_RF))\n",
    "print(\"假阴性率(False Negative Rate)\",false_negative_rate(cm_RF))\n",
    "print(\"模型预测正确率：\",Right_rate(cm_RF))"
   ]
  },
  {
   "cell_type": "markdown",
   "metadata": {},
   "source": [
    "### SVM\n",
    "- 提示：<span style='color:white'>y_pred_SVC = clf_svc.predict(x_test)('Gender') </span>"
   ]
  },
  {
   "cell_type": "code",
   "execution_count": 125,
   "metadata": {
    "collapsed": true,
    "jupyter": {
     "outputs_hidden": true
    }
   },
   "outputs": [
    {
     "name": "stdout",
     "output_type": "stream",
     "text": [
      "真阳性率(True Positive Rate): 0.0\n",
      "假阳性率(False Positive Rate): 0.0\n",
      "真阴性率(True Negative Rate): 1.0\n",
      "假阴性率(False Negative Rate) 1.0\n",
      "模型预测正确率： 0.9337781868384721\n"
     ]
    }
   ],
   "source": [
    "## your code here\n",
    "#SVM的各种率\n",
    "print(\"真阳性率(True Positive Rate):\",true_positive_rate(cm_SVC))\n",
    "print(\"假阳性率(False Positive Rate):\",false_positive_rate(cm_SVC))\n",
    "print(\"真阴性率(True Negative Rate):\",true_negative_rate(cm_SVC))\n",
    "print(\"假阴性率(False Negative Rate)\",false_negative_rate(cm_SVC))\n",
    "print(\"模型预测正确率：\",Right_rate(cm_SVC))"
   ]
  },
  {
   "cell_type": "markdown",
   "metadata": {},
   "source": [
    "### KNN\n",
    "- 提示：<span style='color:white'>y_pred_KNN = neigh.predict(x_test)('Gender') </span>"
   ]
  },
  {
   "cell_type": "code",
   "execution_count": 124,
   "metadata": {
    "collapsed": true,
    "jupyter": {
     "outputs_hidden": true
    }
   },
   "outputs": [
    {
     "name": "stdout",
     "output_type": "stream",
     "text": [
      "真阳性率(True Positive Rate): 0.022237665045170257\n",
      "假阳性率(False Positive Rate): 0.002710561332610517\n",
      "真阴性率(True Negative Rate): 0.9972894386673895\n",
      "假阴性率(False Negative Rate) 0.9777623349548298\n",
      "模型预测正确率： 0.9327197422917626\n"
     ]
    }
   ],
   "source": [
    "## your code here\n",
    "#KNN的各种率\n",
    "print(\"真阳性率(True Positive Rate):\",true_positive_rate(cm_KNeighborsClassifier))\n",
    "print(\"假阳性率(False Positive Rate):\",false_positive_rate(cm_KNeighborsClassifier))\n",
    "print(\"真阴性率(True Negative Rate):\",true_negative_rate(cm_KNeighborsClassifier))\n",
    "print(\"假阴性率(False Negative Rate)\",false_negative_rate(cm_KNeighborsClassifier))\n",
    "print(\"模型预测正确率：\",Right_rate(cm_KNeighborsClassifier))"
   ]
  },
  {
   "cell_type": "markdown",
   "metadata": {},
   "source": [
    "---\n",
    "## 练习4：查看sklearn的官方说明，了解分类问题的评估标准，并对此例进行评估"
   ]
  },
  {
   "cell_type": "markdown",
   "metadata": {},
   "source": [
    "**混淆矩阵（Confusion Matrix）相关学习链接**\n",
    "\n",
    "- Blog:<br>\n",
    "http://blog.csdn.net/vesper305/article/details/44927047<br>\n",
    "- WiKi:<br>\n",
    "http://en.wikipedia.org/wiki/Confusion_matrix<br>\n",
    "- sklearn doc:<br>\n",
    "http://scikit-learn.org/stable/modules/generated/sklearn.metrics.confusion_matrix.html"
   ]
  },
  {
   "cell_type": "code",
   "execution_count": 123,
   "metadata": {
    "collapsed": true,
    "jupyter": {
     "outputs_hidden": true
    }
   },
   "outputs": [],
   "source": [
    "## your code here\n",
    "#坏了我在上面都写了0.0"
   ]
  },
  {
   "cell_type": "markdown",
   "metadata": {},
   "source": [
    "## 练习5：调整模型的标准\n",
    "\n",
    "银行通常会有更严格的要求，因为fraud带来的后果通常比较严重，一般我们会调整模型的标准。<br>\n",
    "\n",
    "比如在logistic regression当中，一般我们的概率判定边界为0.5，但是我们可以把阈值设定低一些，来提高模型的“敏感度”，试试看把阈值设定为0.3，再看看这时的评估指标(主要是准确率和召回率)。\n",
    "\n",
    "- 提示：<span style='color:white'>sklearn的很多分类模型，predict_prob可以拿到预估的概率，可以根据它和设定的阈值大小去判断最终结果(分类类别)('Gender') </span>"
   ]
  },
  {
   "cell_type": "code",
   "execution_count": 138,
   "metadata": {
    "collapsed": true,
    "jupyter": {
     "outputs_hidden": true
    }
   },
   "outputs": [
    {
     "name": "stdout",
     "output_type": "stream",
     "text": [
      "当前参数(threshold)为： 0.3\n",
      "调后Accuracy:  0.9329958582604694\n",
      "不调参时模型预测正确率： 0.9337781868384721\n"
     ]
    },
    {
     "name": "stderr",
     "output_type": "stream",
     "text": [
      "C:\\Users\\huang\\anaconda3\\Lib\\site-packages\\sklearn\\linear_model\\_logistic.py:460: ConvergenceWarning: lbfgs failed to converge (status=1):\n",
      "STOP: TOTAL NO. of ITERATIONS REACHED LIMIT.\n",
      "\n",
      "Increase the number of iterations (max_iter) or scale the data as shown in:\n",
      "    https://scikit-learn.org/stable/modules/preprocessing.html\n",
      "Please also refer to the documentation for alternative solver options:\n",
      "    https://scikit-learn.org/stable/modules/linear_model.html#logistic-regression\n",
      "  n_iter_i = _check_optimize_result(\n"
     ]
    }
   ],
   "source": [
    "## your code here\n",
    "#调参调参\n",
    "from sklearn.metrics import accuracy_score\n",
    "\n",
    "\n",
    "# 创建Logistic Regression模型\n",
    "model = LogisticRegression()\n",
    "\n",
    "# 在训练集上拟合模型\n",
    "model.fit(x_train, y_train)\n",
    "\n",
    "# 在测试集上进行预测\n",
    "y_pred = model.predict(x_test)\n",
    "\n",
    "\n",
    "        \n",
    "# 将预测概率转换为类别\n",
    "threshold = 0.3\n",
    "y_pred_threshold = np.where(model.predict_proba(x_test)[:, 1] >= threshold, 1, 0)\n",
    "\n",
    "# 计算准确率和召回率\n",
    "accuracy = accuracy_score(y_test, y_pred_threshold)\n",
    "print(\"当前参数(threshold)为：\",threshold)\n",
    "print(\"调后Accuracy: \",accuracy)\n",
    "\n",
    "print(\"不调参时模型预测正确率：\",Right_rate(cm_Logisticregression))"
   ]
  },
  {
   "cell_type": "code",
   "execution_count": 143,
   "metadata": {},
   "outputs": [
    {
     "name": "stdout",
     "output_type": "stream",
     "text": [
      "当前参数(threshold)为： 0.8\n",
      "调后Accuracy:  0.9336861481822365\n",
      "不调参时模型预测正确率： 0.9327197422917626\n"
     ]
    }
   ],
   "source": [
    "\n",
    "\n",
    "# 创建Logistic Regression模型\n",
    "model = KNeighborsClassifier()\n",
    "\n",
    "# 在训练集上拟合模型\n",
    "model.fit(x_train, y_train)\n",
    "\n",
    "# 在测试集上进行预测\n",
    "y_pred = model.predict(x_test)\n",
    "\n",
    "\n",
    "        \n",
    "# 将预测概率转换为类别\n",
    "threshold = 0.8\n",
    "y_pred_threshold = np.where(model.predict_proba(x_test)[:, 1] >= threshold, 1, 0)\n",
    "\n",
    "# 计算准确率和召回率\n",
    "accuracy = accuracy_score(y_test, y_pred_threshold)\n",
    "print(\"当前参数(threshold)为：\",threshold)\n",
    "print(\"调后Accuracy: \",accuracy)\n",
    "\n",
    "print(\"不调参时模型预测正确率：\",Right_rate(cm_KNeighborsClassifier))"
   ]
  },
  {
   "cell_type": "markdown",
   "metadata": {},
   "source": [
    "* 其他模型只需要把model改一下代码一样的，期末事情多不一一调了嘻嘻\n",
    "* 其实感觉对比调参前后的cm图更直观，可以看到[0,0]和[1,1]的变化"
   ]
  },
  {
   "cell_type": "code",
   "execution_count": 145,
   "metadata": {},
   "outputs": [
    {
     "name": "stderr",
     "output_type": "stream",
     "text": [
      "C:\\Users\\huang\\anaconda3\\Lib\\site-packages\\sklearn\\linear_model\\_logistic.py:460: ConvergenceWarning: lbfgs failed to converge (status=1):\n",
      "STOP: TOTAL NO. of ITERATIONS REACHED LIMIT.\n",
      "\n",
      "Increase the number of iterations (max_iter) or scale the data as shown in:\n",
      "    https://scikit-learn.org/stable/modules/preprocessing.html\n",
      "Please also refer to the documentation for alternative solver options:\n",
      "    https://scikit-learn.org/stable/modules/linear_model.html#logistic-regression\n",
      "  n_iter_i = _check_optimize_result(\n"
     ]
    },
    {
     "data": {
      "image/png": "[encoded data removed]",
      "text/plain": [
       "<Figure size 640x480 with 2 Axes>"
      ]
     },
     "metadata": {},
     "output_type": "display_data"
    },
    {
     "data": {
      "image/png": "[encoded data removed]",
      "text/plain": [
       "<Figure size 640x480 with 2 Axes>"
      ]
     },
     "metadata": {},
     "output_type": "display_data"
    }
   ],
   "source": [
    "#for example\n",
    "model = LogisticRegression()\n",
    "\n",
    "# 在训练集上拟合模型\n",
    "model.fit(x_train, y_train)\n",
    "\n",
    "# 在测试集上进行预测\n",
    "y_pred = model.predict(x_test)\n",
    "\n",
    "#调参\n",
    "threshold = 0.3\n",
    "y_pred_threshold = np.where(model.predict_proba(x_test)[:, 1] >= threshold, 1, 0)\n",
    "\n",
    "\n",
    "# 绘制混淆矩阵\n",
    "cm_Logisticregression = confusion_matrix(y_test, y_pred)\n",
    "sns.heatmap(cm_Logisticregression, annot=True, fmt='d')\n",
    "plt.xlabel('Predicted')\n",
    "plt.ylabel('Actual')\n",
    "plt.title('Confusion Matrix')\n",
    "plt.show()\n",
    "\n",
    "cm_Logisticregression_threshold = confusion_matrix(y_test, y_pred_threshold )\n",
    "sns.heatmap(cm_Logisticregression_threshold, annot=True, fmt='d')\n",
    "plt.xlabel('Predicted')\n",
    "plt.ylabel('Actual')\n",
    "plt.title('Confusion Matrix(change threshold from 0.5 ->> 0.3)')\n",
    "plt.show()\n"
   ]
  },
  {
   "cell_type": "markdown",
   "metadata": {},
   "source": [
    "* we can see very clearly that [0,0]少了,[1,1]多了\n",
    "* so,调参后导致accuracy变大不一定好\n",
    "* 更应该根据实际情况去调参，如宁杀错(1)勿放过的时候应该追求[1,1]准确"
   ]
  }
 ],
 "metadata": {
  "kernelspec": {
   "display_name": "Python 3 (ipykernel)",
   "language": "python",
   "name": "python3"
  },
  "language_info": {
   "codemirror_mode": {
    "name": "ipython",
    "version": 3
   },
   "file_extension": ".py",
   "mimetype": "text/x-python",
   "name": "python",
   "nbconvert_exporter": "python",
   "pygments_lexer": "ipython3",
   "version": "3.11.4"
  }
 },
 "nbformat": 4,
 "nbformat_minor": 4
}
