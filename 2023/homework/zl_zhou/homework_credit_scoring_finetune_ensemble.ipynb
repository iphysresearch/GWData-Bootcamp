{
 "cells": [
  {
   "cell_type": "markdown",
   "metadata": {},
   "source": [
    "# 一起来打怪之 Credit Scoring 练习"
   ]
  },
  {
   "cell_type": "markdown",
   "metadata": {},
   "source": [
    "-------\n",
    "## >>>说明：\n",
    "### 1. 答题步骤：\n",
    "- 回答问题**请保留每一步**操作过程，请不要仅仅给出最后答案\n",
    "- 请养成代码注释的好习惯\n",
    "\n",
    "### 2. 解题思路：\n",
    "- 为方便大家准确理解题目，在习题实战中有所收获，本文档提供了解题思路提示\n",
    "- 解题思路**仅供参考**，鼓励原创解题方法\n",
    "- 为督促同学们自己思考，解题思路内容设置为**注释**，请注意查看\n",
    "\n",
    "### 3. 所用数据：\n",
    "- 问题使用了多个数据库，请注意导入每个数据库后都先**查看和了解数据的基本性质**，后面的问题不再一一提醒"
   ]
  },
  {
   "cell_type": "markdown",
   "metadata": {},
   "source": [
    "--------\n",
    "## 操作题"
   ]
  },
  {
   "cell_type": "markdown",
   "metadata": {},
   "source": [
    "### 信用卡欺诈项目"
   ]
  },
  {
   "cell_type": "markdown",
   "metadata": {},
   "source": [
    " #### 前期数据导入,预览及处理(此部分勿修改，涉及的数据文件无需复制移动)"
   ]
  },
  {
   "cell_type": "code",
   "execution_count": 4,
   "metadata": {
    "tags": []
   },
   "outputs": [
    {
     "data": {
      "text/html": [
       "<div>\n",
       "<style scoped>\n",
       "    .dataframe tbody tr th:only-of-type {\n",
       "        vertical-align: middle;\n",
       "    }\n",
       "\n",
       "    .dataframe tbody tr th {\n",
       "        vertical-align: top;\n",
       "    }\n",
       "\n",
       "    .dataframe thead th {\n",
       "        text-align: right;\n",
       "    }\n",
       "</style>\n",
       "<table border=\"1\" class=\"dataframe\">\n",
       "  <thead>\n",
       "    <tr style=\"text-align: right;\">\n",
       "      <th></th>\n",
       "      <th>SeriousDlqin2yrs</th>\n",
       "      <th>RevolvingUtilizationOfUnsecuredLines</th>\n",
       "      <th>age</th>\n",
       "      <th>NumberOfTime30-59DaysPastDueNotWorse</th>\n",
       "      <th>DebtRatio</th>\n",
       "      <th>MonthlyIncome</th>\n",
       "      <th>NumberOfOpenCreditLinesAndLoans</th>\n",
       "      <th>NumberOfTimes90DaysLate</th>\n",
       "      <th>NumberRealEstateLoansOrLines</th>\n",
       "      <th>NumberOfTime60-89DaysPastDueNotWorse</th>\n",
       "      <th>NumberOfDependents</th>\n",
       "    </tr>\n",
       "  </thead>\n",
       "  <tbody>\n",
       "    <tr>\n",
       "      <th>0</th>\n",
       "      <td>1</td>\n",
       "      <td>0.766127</td>\n",
       "      <td>45.0</td>\n",
       "      <td>2.0</td>\n",
       "      <td>0.802982</td>\n",
       "      <td>9120.0</td>\n",
       "      <td>13.0</td>\n",
       "      <td>0.0</td>\n",
       "      <td>6.0</td>\n",
       "      <td>0.0</td>\n",
       "      <td>2.0</td>\n",
       "    </tr>\n",
       "    <tr>\n",
       "      <th>1</th>\n",
       "      <td>0</td>\n",
       "      <td>0.957151</td>\n",
       "      <td>40.0</td>\n",
       "      <td>0.0</td>\n",
       "      <td>0.121876</td>\n",
       "      <td>2600.0</td>\n",
       "      <td>4.0</td>\n",
       "      <td>0.0</td>\n",
       "      <td>0.0</td>\n",
       "      <td>0.0</td>\n",
       "      <td>1.0</td>\n",
       "    </tr>\n",
       "    <tr>\n",
       "      <th>2</th>\n",
       "      <td>0</td>\n",
       "      <td>0.658180</td>\n",
       "      <td>38.0</td>\n",
       "      <td>1.0</td>\n",
       "      <td>0.085113</td>\n",
       "      <td>3042.0</td>\n",
       "      <td>2.0</td>\n",
       "      <td>1.0</td>\n",
       "      <td>0.0</td>\n",
       "      <td>0.0</td>\n",
       "      <td>0.0</td>\n",
       "    </tr>\n",
       "    <tr>\n",
       "      <th>3</th>\n",
       "      <td>0</td>\n",
       "      <td>0.233810</td>\n",
       "      <td>30.0</td>\n",
       "      <td>0.0</td>\n",
       "      <td>0.036050</td>\n",
       "      <td>3300.0</td>\n",
       "      <td>5.0</td>\n",
       "      <td>0.0</td>\n",
       "      <td>0.0</td>\n",
       "      <td>0.0</td>\n",
       "      <td>0.0</td>\n",
       "    </tr>\n",
       "    <tr>\n",
       "      <th>4</th>\n",
       "      <td>0</td>\n",
       "      <td>0.907239</td>\n",
       "      <td>49.0</td>\n",
       "      <td>1.0</td>\n",
       "      <td>0.024926</td>\n",
       "      <td>63588.0</td>\n",
       "      <td>7.0</td>\n",
       "      <td>0.0</td>\n",
       "      <td>1.0</td>\n",
       "      <td>0.0</td>\n",
       "      <td>0.0</td>\n",
       "    </tr>\n",
       "  </tbody>\n",
       "</table>\n",
       "</div>"
      ],
      "text/plain": [
       "   SeriousDlqin2yrs  RevolvingUtilizationOfUnsecuredLines   age  \\\n",
       "0                 1                              0.766127  45.0   \n",
       "1                 0                              0.957151  40.0   \n",
       "2                 0                              0.658180  38.0   \n",
       "3                 0                              0.233810  30.0   \n",
       "4                 0                              0.907239  49.0   \n",
       "\n",
       "   NumberOfTime30-59DaysPastDueNotWorse  DebtRatio  MonthlyIncome  \\\n",
       "0                                   2.0   0.802982         9120.0   \n",
       "1                                   0.0   0.121876         2600.0   \n",
       "2                                   1.0   0.085113         3042.0   \n",
       "3                                   0.0   0.036050         3300.0   \n",
       "4                                   1.0   0.024926        63588.0   \n",
       "\n",
       "   NumberOfOpenCreditLinesAndLoans  NumberOfTimes90DaysLate  \\\n",
       "0                             13.0                      0.0   \n",
       "1                              4.0                      0.0   \n",
       "2                              2.0                      1.0   \n",
       "3                              5.0                      0.0   \n",
       "4                              7.0                      0.0   \n",
       "\n",
       "   NumberRealEstateLoansOrLines  NumberOfTime60-89DaysPastDueNotWorse  \\\n",
       "0                           6.0                                   0.0   \n",
       "1                           0.0                                   0.0   \n",
       "2                           0.0                                   0.0   \n",
       "3                           0.0                                   0.0   \n",
       "4                           1.0                                   0.0   \n",
       "\n",
       "   NumberOfDependents  \n",
       "0                 2.0  \n",
       "1                 1.0  \n",
       "2                 0.0  \n",
       "3                 0.0  \n",
       "4                 0.0  "
      ]
     },
     "execution_count": 4,
     "metadata": {},
     "output_type": "execute_result"
    }
   ],
   "source": [
    "import pandas as pd\n",
    "pd.set_option('display.max_columns', 500)\n",
    "import zipfile\n",
    "with zipfile.ZipFile('KaggleCredit2.csv.zip', 'r') as z:\n",
    "    f = z.open('KaggleCredit2.csv')\n",
    "    data = pd.read_csv(f, index_col=0)\n",
    "data.head()"
   ]
  },
  {
   "cell_type": "code",
   "execution_count": 5,
   "metadata": {
    "tags": []
   },
   "outputs": [
    {
     "data": {
      "text/plain": [
       "(112915, 11)"
      ]
     },
     "execution_count": 5,
     "metadata": {},
     "output_type": "execute_result"
    }
   ],
   "source": [
    "# 检查数据维度\n",
    "data.shape"
   ]
  },
  {
   "cell_type": "code",
   "execution_count": 6,
   "metadata": {
    "tags": []
   },
   "outputs": [
    {
     "data": {
      "text/plain": [
       "SeriousDlqin2yrs                           0\n",
       "RevolvingUtilizationOfUnsecuredLines       0\n",
       "age                                     4267\n",
       "NumberOfTime30-59DaysPastDueNotWorse       0\n",
       "DebtRatio                                  0\n",
       "MonthlyIncome                              0\n",
       "NumberOfOpenCreditLinesAndLoans            0\n",
       "NumberOfTimes90DaysLate                    0\n",
       "NumberRealEstateLoansOrLines               0\n",
       "NumberOfTime60-89DaysPastDueNotWorse       0\n",
       "NumberOfDependents                      4267\n",
       "dtype: int64"
      ]
     },
     "execution_count": 6,
     "metadata": {},
     "output_type": "execute_result"
    }
   ],
   "source": [
    "# 查看数据缺失值情况\n",
    "data.isnull().sum(axis=0)"
   ]
  },
  {
   "cell_type": "code",
   "execution_count": 7,
   "metadata": {
    "tags": []
   },
   "outputs": [
    {
     "name": "stderr",
     "output_type": "stream",
     "text": [
      "C:\\Users\\zzl96\\AppData\\Local\\Temp\\ipykernel_15404\\2980780030.py:3: UserWarning: Pandas doesn't allow columns to be created via a new attribute name - see https://pandas.pydata.org/pandas-docs/stable/indexing.html#attribute-access\n",
      "  data.shapey = data['SeriousDlqin2yrs']\n"
     ]
    }
   ],
   "source": [
    "# 清除缺失值\n",
    "data.dropna(inplace=True)\n",
    "data.shapey = data['SeriousDlqin2yrs']\n",
    "X = data.drop('SeriousDlqin2yrs', axis=1)"
   ]
  },
  {
   "cell_type": "code",
   "execution_count": 8,
   "metadata": {
    "tags": []
   },
   "outputs": [
    {
     "data": {
      "text/plain": [
       "0.06742876076872101"
      ]
     },
     "execution_count": 8,
     "metadata": {},
     "output_type": "execute_result"
    }
   ],
   "source": [
    "# 取出对应的X和y\n",
    "y = data['SeriousDlqin2yrs']\n",
    "X = data.drop('SeriousDlqin2yrs', axis=1)\n",
    "# 查看平均的欺诈率\n",
    "y.mean()"
   ]
  },
  {
   "cell_type": "markdown",
   "metadata": {},
   "source": [
    "### 以下为操作题"
   ]
  },
  {
   "cell_type": "markdown",
   "metadata": {},
   "source": [
    "#### 1.把数据切分成训练集和测试集"
   ]
  },
  {
   "cell_type": "code",
   "execution_count": 9,
   "metadata": {
    "tags": []
   },
   "outputs": [
    {
     "data": {
      "text/plain": [
       "((76053, 10), (32595, 10))"
      ]
     },
     "execution_count": 9,
     "metadata": {},
     "output_type": "execute_result"
    }
   ],
   "source": [
    "# 提示：查看train_test_split函数\n",
    "from sklearn.model_selection import train_test_split\n",
    "X_train, X_test, y_train, y_test = \\\n",
    "    train_test_split(X, y, test_size=0.3, random_state=0)\n",
    "\n",
    "X_train.shape,X_test.shape"
   ]
  },
  {
   "cell_type": "code",
   "execution_count": 10,
   "metadata": {
    "tags": []
   },
   "outputs": [
    {
     "data": {
      "text/plain": [
       "SeriousDlqin2yrs\n",
       "0    101322\n",
       "1      7326\n",
       "Name: count, dtype: int64"
      ]
     },
     "execution_count": 10,
     "metadata": {},
     "output_type": "execute_result"
    }
   ],
   "source": [
    "# 通过SeriousDlqin2yrs字段查看正负样本分布情况\n",
    "# 提示：value_counts\n",
    "y.value_counts()"
   ]
  },
  {
   "cell_type": "code",
   "execution_count": 11,
   "metadata": {
    "tags": []
   },
   "outputs": [
    {
     "data": {
      "text/plain": [
       "<Axes: xlabel='SeriousDlqin2yrs'>"
      ]
     },
     "execution_count": 11,
     "metadata": {},
     "output_type": "execute_result"
    },
    {
     "data": {
      "image/png": "[encoded data removed]",
      "text/plain": [
       "<Figure size 640x480 with 1 Axes>"
      ]
     },
     "metadata": {},
     "output_type": "display_data"
    }
   ],
   "source": [
    "# 绘制两种类别的柱状图\n",
    "# 提示：dataframe可以直接plot(kind='bar')\n",
    "y.value_counts().plot.bar()"
   ]
  },
  {
   "cell_type": "markdown",
   "metadata": {},
   "source": [
    "#### 2.数据预处理之离散化"
   ]
  },
  {
   "cell_type": "code",
   "execution_count": 12,
   "metadata": {
    "tags": []
   },
   "outputs": [
    {
     "name": "stdout",
     "output_type": "stream",
     "text": [
      "103.0 0.0\n"
     ]
    },
    {
     "data": {
      "text/plain": [
       "array([  0,   3,   6,   9,  12,  15,  18,  21,  24,  27,  30,  33,  36,\n",
       "        39,  42,  45,  48,  51,  54,  57,  60,  63,  66,  69,  72,  75,\n",
       "        78,  81,  84,  87,  90,  93,  96,  99, 102, 105])"
      ]
     },
     "execution_count": 12,
     "metadata": {},
     "output_type": "execute_result"
    }
   ],
   "source": [
    "# 请对年龄按照3岁一个区间进行离散化\n",
    "# 提示：可以先计算出分桶边界，再基于pandas的cut函数进行离散化(分箱、分桶)\n",
    "import numpy as np\n",
    "print(max(data['age']),min(data['age']))\n",
    "#根据最大最小值和3的区间，确定要至少包含0和103，所以取0到106\n",
    "age_sep = np.arange(0,106,3)\n",
    "age_sep"
   ]
  },
  {
   "cell_type": "code",
   "execution_count": 13,
   "metadata": {
    "tags": []
   },
   "outputs": [
    {
     "data": {
      "text/html": [
       "<div>\n",
       "<style scoped>\n",
       "    .dataframe tbody tr th:only-of-type {\n",
       "        vertical-align: middle;\n",
       "    }\n",
       "\n",
       "    .dataframe tbody tr th {\n",
       "        vertical-align: top;\n",
       "    }\n",
       "\n",
       "    .dataframe thead th {\n",
       "        text-align: right;\n",
       "    }\n",
       "</style>\n",
       "<table border=\"1\" class=\"dataframe\">\n",
       "  <thead>\n",
       "    <tr style=\"text-align: right;\">\n",
       "      <th></th>\n",
       "      <th>age_seped</th>\n",
       "    </tr>\n",
       "  </thead>\n",
       "  <tbody>\n",
       "    <tr>\n",
       "      <th>0</th>\n",
       "      <td>(42.0, 45.0]</td>\n",
       "    </tr>\n",
       "    <tr>\n",
       "      <th>1</th>\n",
       "      <td>(39.0, 42.0]</td>\n",
       "    </tr>\n",
       "    <tr>\n",
       "      <th>2</th>\n",
       "      <td>(36.0, 39.0]</td>\n",
       "    </tr>\n",
       "    <tr>\n",
       "      <th>3</th>\n",
       "      <td>(27.0, 30.0]</td>\n",
       "    </tr>\n",
       "    <tr>\n",
       "      <th>4</th>\n",
       "      <td>(48.0, 51.0]</td>\n",
       "    </tr>\n",
       "  </tbody>\n",
       "</table>\n",
       "</div>"
      ],
      "text/plain": [
       "      age_seped\n",
       "0  (42.0, 45.0]\n",
       "1  (39.0, 42.0]\n",
       "2  (36.0, 39.0]\n",
       "3  (27.0, 30.0]\n",
       "4  (48.0, 51.0]"
      ]
     },
     "execution_count": 13,
     "metadata": {},
     "output_type": "execute_result"
    }
   ],
   "source": [
    "X_a = pd.DataFrame()\n",
    "X_a['age_seped']=pd.cut(x=data['age'],bins=age_sep,include_lowest=True)\n",
    "X_a.head()"
   ]
  },
  {
   "cell_type": "markdown",
   "metadata": {},
   "source": [
    "#### 3.数据预处理之独热向量编码"
   ]
  },
  {
   "cell_type": "code",
   "execution_count": 14,
   "metadata": {
    "tags": []
   },
   "outputs": [
    {
     "data": {
      "text/plain": [
       "((108648, 35),\n",
       "    age_seped_(-0.001, 3.0]  age_seped_(3.0, 6.0]  age_seped_(6.0, 9.0]  \\\n",
       " 0                      0.0                   0.0                   0.0   \n",
       " 1                      0.0                   0.0                   0.0   \n",
       " 2                      0.0                   0.0                   0.0   \n",
       " 3                      0.0                   0.0                   0.0   \n",
       " 4                      0.0                   0.0                   0.0   \n",
       " \n",
       "    age_seped_(9.0, 12.0]  age_seped_(12.0, 15.0]  age_seped_(15.0, 18.0]  \\\n",
       " 0                    0.0                     0.0                     0.0   \n",
       " 1                    0.0                     0.0                     0.0   \n",
       " 2                    0.0                     0.0                     0.0   \n",
       " 3                    0.0                     0.0                     0.0   \n",
       " 4                    0.0                     0.0                     0.0   \n",
       " \n",
       "    age_seped_(18.0, 21.0]  age_seped_(21.0, 24.0]  age_seped_(24.0, 27.0]  \\\n",
       " 0                     0.0                     0.0                     0.0   \n",
       " 1                     0.0                     0.0                     0.0   \n",
       " 2                     0.0                     0.0                     0.0   \n",
       " 3                     0.0                     0.0                     0.0   \n",
       " 4                     0.0                     0.0                     0.0   \n",
       " \n",
       "    age_seped_(27.0, 30.0]  age_seped_(30.0, 33.0]  age_seped_(33.0, 36.0]  \\\n",
       " 0                     0.0                     0.0                     0.0   \n",
       " 1                     0.0                     0.0                     0.0   \n",
       " 2                     0.0                     0.0                     0.0   \n",
       " 3                     1.0                     0.0                     0.0   \n",
       " 4                     0.0                     0.0                     0.0   \n",
       " \n",
       "    age_seped_(36.0, 39.0]  age_seped_(39.0, 42.0]  age_seped_(42.0, 45.0]  \\\n",
       " 0                     0.0                     0.0                     1.0   \n",
       " 1                     0.0                     1.0                     0.0   \n",
       " 2                     1.0                     0.0                     0.0   \n",
       " 3                     0.0                     0.0                     0.0   \n",
       " 4                     0.0                     0.0                     0.0   \n",
       " \n",
       "    age_seped_(45.0, 48.0]  age_seped_(48.0, 51.0]  age_seped_(51.0, 54.0]  \\\n",
       " 0                     0.0                     0.0                     0.0   \n",
       " 1                     0.0                     0.0                     0.0   \n",
       " 2                     0.0                     0.0                     0.0   \n",
       " 3                     0.0                     0.0                     0.0   \n",
       " 4                     0.0                     1.0                     0.0   \n",
       " \n",
       "    age_seped_(54.0, 57.0]  age_seped_(57.0, 60.0]  age_seped_(60.0, 63.0]  \\\n",
       " 0                     0.0                     0.0                     0.0   \n",
       " 1                     0.0                     0.0                     0.0   \n",
       " 2                     0.0                     0.0                     0.0   \n",
       " 3                     0.0                     0.0                     0.0   \n",
       " 4                     0.0                     0.0                     0.0   \n",
       " \n",
       "    age_seped_(63.0, 66.0]  age_seped_(66.0, 69.0]  age_seped_(69.0, 72.0]  \\\n",
       " 0                     0.0                     0.0                     0.0   \n",
       " 1                     0.0                     0.0                     0.0   \n",
       " 2                     0.0                     0.0                     0.0   \n",
       " 3                     0.0                     0.0                     0.0   \n",
       " 4                     0.0                     0.0                     0.0   \n",
       " \n",
       "    age_seped_(72.0, 75.0]  age_seped_(75.0, 78.0]  age_seped_(78.0, 81.0]  \\\n",
       " 0                     0.0                     0.0                     0.0   \n",
       " 1                     0.0                     0.0                     0.0   \n",
       " 2                     0.0                     0.0                     0.0   \n",
       " 3                     0.0                     0.0                     0.0   \n",
       " 4                     0.0                     0.0                     0.0   \n",
       " \n",
       "    age_seped_(81.0, 84.0]  age_seped_(84.0, 87.0]  age_seped_(87.0, 90.0]  \\\n",
       " 0                     0.0                     0.0                     0.0   \n",
       " 1                     0.0                     0.0                     0.0   \n",
       " 2                     0.0                     0.0                     0.0   \n",
       " 3                     0.0                     0.0                     0.0   \n",
       " 4                     0.0                     0.0                     0.0   \n",
       " \n",
       "    age_seped_(90.0, 93.0]  age_seped_(93.0, 96.0]  age_seped_(96.0, 99.0]  \\\n",
       " 0                     0.0                     0.0                     0.0   \n",
       " 1                     0.0                     0.0                     0.0   \n",
       " 2                     0.0                     0.0                     0.0   \n",
       " 3                     0.0                     0.0                     0.0   \n",
       " 4                     0.0                     0.0                     0.0   \n",
       " \n",
       "    age_seped_(99.0, 102.0]  age_seped_(102.0, 105.0]  \n",
       " 0                      0.0                       0.0  \n",
       " 1                      0.0                       0.0  \n",
       " 2                      0.0                       0.0  \n",
       " 3                      0.0                       0.0  \n",
       " 4                      0.0                       0.0  )"
      ]
     },
     "execution_count": 14,
     "metadata": {},
     "output_type": "execute_result"
    }
   ],
   "source": [
    "# 请对上述分箱后的年龄段进行独热向量编码\n",
    "# 提示：使用pandas的get_dummies完成\n",
    "X_a = pd.get_dummies(X_a,dtype='float')\n",
    "X_a.shape,X_a.head()"
   ]
  },
  {
   "cell_type": "markdown",
   "metadata": {},
   "source": [
    "#### 4.数据预处理之幅度缩放"
   ]
  },
  {
   "cell_type": "code",
   "execution_count": 15,
   "metadata": {
    "tags": []
   },
   "outputs": [
    {
     "data": {
      "text/plain": [
       "((76053, 44), (32595, 44))"
      ]
     },
     "execution_count": 15,
     "metadata": {},
     "output_type": "execute_result"
    }
   ],
   "source": [
    "# 请对连续值特征进行幅度缩放\n",
    "# 提示：可以使用StandardScaler等幅度缩放器进行处理\n",
    "from sklearn.preprocessing import StandardScaler\n",
    "sts = StandardScaler()\n",
    "#获取了processed X\n",
    "X_p = pd.merge(data.drop(columns=['SeriousDlqin2yrs','age']),X_a,left_index=True,right_index=True)\n",
    "\n",
    "#完成了数据处理，再分别划分训练集和测试集\n",
    "X_train, X_test, y_train, y_test = \\\n",
    "    train_test_split(X_p, y, test_size=0.3, random_state=0)\n",
    "\n",
    "#将前9列进行幅度缩放(连续变量)，后35列（one-hot）直接连接\n",
    "X_train_s = np.hstack((sts.fit_transform(X_train.iloc[:,0:9]),X_train.iloc[:,9:].values))\n",
    "X_test_s  = np.hstack((sts.fit_transform(X_test.iloc[:,0:9]),X_test.iloc[:,9:].values))\n",
    "\n",
    "X_train_s.shape,X_test_s.shape"
   ]
  },
  {
   "cell_type": "code",
   "execution_count": null,
   "metadata": {},
   "outputs": [],
   "source": []
  },
  {
   "cell_type": "markdown",
   "metadata": {},
   "source": [
    "#### 5.使用logistic regression建模，并且输出一下系数，分析重要度。   "
   ]
  },
  {
   "cell_type": "code",
   "execution_count": 16,
   "metadata": {
    "tags": []
   },
   "outputs": [
    {
     "name": "stdout",
     "output_type": "stream",
     "text": [
      "0.9338548857186685\n"
     ]
    },
    {
     "data": {
      "text/html": [
       "<div>\n",
       "<style scoped>\n",
       "    .dataframe tbody tr th:only-of-type {\n",
       "        vertical-align: middle;\n",
       "    }\n",
       "\n",
       "    .dataframe tbody tr th {\n",
       "        vertical-align: top;\n",
       "    }\n",
       "\n",
       "    .dataframe thead th {\n",
       "        text-align: right;\n",
       "    }\n",
       "</style>\n",
       "<table border=\"1\" class=\"dataframe\">\n",
       "  <thead>\n",
       "    <tr style=\"text-align: right;\">\n",
       "      <th></th>\n",
       "      <th>RevolvingUtilizationOfUnsecuredLines</th>\n",
       "      <th>NumberOfTime30-59DaysPastDueNotWorse</th>\n",
       "      <th>DebtRatio</th>\n",
       "      <th>MonthlyIncome</th>\n",
       "      <th>NumberOfOpenCreditLinesAndLoans</th>\n",
       "      <th>NumberOfTimes90DaysLate</th>\n",
       "      <th>NumberRealEstateLoansOrLines</th>\n",
       "      <th>NumberOfTime60-89DaysPastDueNotWorse</th>\n",
       "      <th>NumberOfDependents</th>\n",
       "      <th>age_seped_(-0.001, 3.0]</th>\n",
       "      <th>age_seped_(3.0, 6.0]</th>\n",
       "      <th>age_seped_(6.0, 9.0]</th>\n",
       "      <th>age_seped_(9.0, 12.0]</th>\n",
       "      <th>age_seped_(12.0, 15.0]</th>\n",
       "      <th>age_seped_(15.0, 18.0]</th>\n",
       "      <th>age_seped_(18.0, 21.0]</th>\n",
       "      <th>age_seped_(21.0, 24.0]</th>\n",
       "      <th>age_seped_(24.0, 27.0]</th>\n",
       "      <th>age_seped_(27.0, 30.0]</th>\n",
       "      <th>age_seped_(30.0, 33.0]</th>\n",
       "      <th>age_seped_(33.0, 36.0]</th>\n",
       "      <th>age_seped_(36.0, 39.0]</th>\n",
       "      <th>age_seped_(39.0, 42.0]</th>\n",
       "      <th>age_seped_(42.0, 45.0]</th>\n",
       "      <th>age_seped_(45.0, 48.0]</th>\n",
       "      <th>age_seped_(48.0, 51.0]</th>\n",
       "      <th>age_seped_(51.0, 54.0]</th>\n",
       "      <th>age_seped_(54.0, 57.0]</th>\n",
       "      <th>age_seped_(57.0, 60.0]</th>\n",
       "      <th>age_seped_(60.0, 63.0]</th>\n",
       "      <th>age_seped_(63.0, 66.0]</th>\n",
       "      <th>age_seped_(66.0, 69.0]</th>\n",
       "      <th>age_seped_(69.0, 72.0]</th>\n",
       "      <th>age_seped_(72.0, 75.0]</th>\n",
       "      <th>age_seped_(75.0, 78.0]</th>\n",
       "      <th>age_seped_(78.0, 81.0]</th>\n",
       "      <th>age_seped_(81.0, 84.0]</th>\n",
       "      <th>age_seped_(84.0, 87.0]</th>\n",
       "      <th>age_seped_(87.0, 90.0]</th>\n",
       "      <th>age_seped_(90.0, 93.0]</th>\n",
       "      <th>age_seped_(93.0, 96.0]</th>\n",
       "      <th>age_seped_(96.0, 99.0]</th>\n",
       "      <th>age_seped_(99.0, 102.0]</th>\n",
       "      <th>age_seped_(102.0, 105.0]</th>\n",
       "    </tr>\n",
       "  </thead>\n",
       "  <tbody>\n",
       "    <tr>\n",
       "      <th>0</th>\n",
       "      <td>-0.014331</td>\n",
       "      <td>1.709137</td>\n",
       "      <td>0.311838</td>\n",
       "      <td>-0.126203</td>\n",
       "      <td>-0.095337</td>\n",
       "      <td>1.656708</td>\n",
       "      <td>-0.195952</td>\n",
       "      <td>-3.192735</td>\n",
       "      <td>0.111381</td>\n",
       "      <td>-0.071851</td>\n",
       "      <td>0.0</td>\n",
       "      <td>0.0</td>\n",
       "      <td>0.0</td>\n",
       "      <td>0.0</td>\n",
       "      <td>0.0</td>\n",
       "      <td>-0.667596</td>\n",
       "      <td>0.711983</td>\n",
       "      <td>0.825065</td>\n",
       "      <td>0.788018</td>\n",
       "      <td>0.561848</td>\n",
       "      <td>0.559041</td>\n",
       "      <td>0.3106</td>\n",
       "      <td>0.431811</td>\n",
       "      <td>0.272994</td>\n",
       "      <td>0.298796</td>\n",
       "      <td>0.258958</td>\n",
       "      <td>0.246477</td>\n",
       "      <td>0.038974</td>\n",
       "      <td>0.003896</td>\n",
       "      <td>-0.181987</td>\n",
       "      <td>-0.383615</td>\n",
       "      <td>-0.665254</td>\n",
       "      <td>-0.333855</td>\n",
       "      <td>-0.549309</td>\n",
       "      <td>-0.61656</td>\n",
       "      <td>-0.682142</td>\n",
       "      <td>-0.361805</td>\n",
       "      <td>-0.496793</td>\n",
       "      <td>-0.043728</td>\n",
       "      <td>-0.147054</td>\n",
       "      <td>-0.65161</td>\n",
       "      <td>0.345475</td>\n",
       "      <td>-0.065198</td>\n",
       "      <td>-0.033739</td>\n",
       "    </tr>\n",
       "  </tbody>\n",
       "</table>\n",
       "</div>"
      ],
      "text/plain": [
       "   RevolvingUtilizationOfUnsecuredLines  NumberOfTime30-59DaysPastDueNotWorse  \\\n",
       "0                             -0.014331                              1.709137   \n",
       "\n",
       "   DebtRatio  MonthlyIncome  NumberOfOpenCreditLinesAndLoans  \\\n",
       "0   0.311838      -0.126203                        -0.095337   \n",
       "\n",
       "   NumberOfTimes90DaysLate  NumberRealEstateLoansOrLines  \\\n",
       "0                 1.656708                     -0.195952   \n",
       "\n",
       "   NumberOfTime60-89DaysPastDueNotWorse  NumberOfDependents  \\\n",
       "0                             -3.192735            0.111381   \n",
       "\n",
       "   age_seped_(-0.001, 3.0]  age_seped_(3.0, 6.0]  age_seped_(6.0, 9.0]  \\\n",
       "0                -0.071851                   0.0                   0.0   \n",
       "\n",
       "   age_seped_(9.0, 12.0]  age_seped_(12.0, 15.0]  age_seped_(15.0, 18.0]  \\\n",
       "0                    0.0                     0.0                     0.0   \n",
       "\n",
       "   age_seped_(18.0, 21.0]  age_seped_(21.0, 24.0]  age_seped_(24.0, 27.0]  \\\n",
       "0               -0.667596                0.711983                0.825065   \n",
       "\n",
       "   age_seped_(27.0, 30.0]  age_seped_(30.0, 33.0]  age_seped_(33.0, 36.0]  \\\n",
       "0                0.788018                0.561848                0.559041   \n",
       "\n",
       "   age_seped_(36.0, 39.0]  age_seped_(39.0, 42.0]  age_seped_(42.0, 45.0]  \\\n",
       "0                  0.3106                0.431811                0.272994   \n",
       "\n",
       "   age_seped_(45.0, 48.0]  age_seped_(48.0, 51.0]  age_seped_(51.0, 54.0]  \\\n",
       "0                0.298796                0.258958                0.246477   \n",
       "\n",
       "   age_seped_(54.0, 57.0]  age_seped_(57.0, 60.0]  age_seped_(60.0, 63.0]  \\\n",
       "0                0.038974                0.003896               -0.181987   \n",
       "\n",
       "   age_seped_(63.0, 66.0]  age_seped_(66.0, 69.0]  age_seped_(69.0, 72.0]  \\\n",
       "0               -0.383615               -0.665254               -0.333855   \n",
       "\n",
       "   age_seped_(72.0, 75.0]  age_seped_(75.0, 78.0]  age_seped_(78.0, 81.0]  \\\n",
       "0               -0.549309                -0.61656               -0.682142   \n",
       "\n",
       "   age_seped_(81.0, 84.0]  age_seped_(84.0, 87.0]  age_seped_(87.0, 90.0]  \\\n",
       "0               -0.361805               -0.496793               -0.043728   \n",
       "\n",
       "   age_seped_(90.0, 93.0]  age_seped_(93.0, 96.0]  age_seped_(96.0, 99.0]  \\\n",
       "0               -0.147054                -0.65161                0.345475   \n",
       "\n",
       "   age_seped_(99.0, 102.0]  age_seped_(102.0, 105.0]  \n",
       "0                -0.065198                 -0.033739  "
      ]
     },
     "execution_count": 16,
     "metadata": {},
     "output_type": "execute_result"
    }
   ],
   "source": [
    "# 提示：fit建模，建完模之后可以取出coef属性\n",
    "from sklearn.linear_model import LogisticRegression\n",
    "\n",
    "lr = LogisticRegression(C=1.0, max_iter=1000, random_state=0)\n",
    "lr.fit(X_train_s, y_train)\n",
    "\n",
    "# 查看拟合后预测正确率\n",
    "print(lr.score(X_test_s,y_test))\n",
    "\n",
    "# 查看回归系数\n",
    "pd.DataFrame(lr.coef_,columns = X_p.columns)"
   ]
  },
  {
   "cell_type": "markdown",
   "metadata": {},
   "source": []
  },
  {
   "cell_type": "markdown",
   "metadata": {},
   "source": [
    "#### 6.使用网格搜索交叉验证进行调参\n",
    "调整penalty和C参数，其中penalty候选为\"l1\"和\"l2\"，C的候选为[1,10,100,500]"
   ]
  },
  {
   "cell_type": "code",
   "execution_count": 18,
   "metadata": {
    "tags": []
   },
   "outputs": [
    {
     "name": "stderr",
     "output_type": "stream",
     "text": [
      "C:\\Users\\zzl96\\anaconda3\\Lib\\site-packages\\sklearn\\model_selection\\_validation.py:425: FitFailedWarning: \n",
      "20 fits failed out of a total of 40.\n",
      "The score on these train-test partitions for these parameters will be set to nan.\n",
      "If these failures are not expected, you can try to debug them by setting error_score='raise'.\n",
      "\n",
      "Below are more details about the failures:\n",
      "--------------------------------------------------------------------------------\n",
      "20 fits failed with the following error:\n",
      "Traceback (most recent call last):\n",
      "  File \"C:\\Users\\zzl96\\anaconda3\\Lib\\site-packages\\sklearn\\model_selection\\_validation.py\", line 732, in _fit_and_score\n",
      "    estimator.fit(X_train, y_train, **fit_params)\n",
      "  File \"C:\\Users\\zzl96\\anaconda3\\Lib\\site-packages\\sklearn\\base.py\", line 1151, in wrapper\n",
      "    return fit_method(estimator, *args, **kwargs)\n",
      "           ^^^^^^^^^^^^^^^^^^^^^^^^^^^^^^^^^^^^^^\n",
      "  File \"C:\\Users\\zzl96\\anaconda3\\Lib\\site-packages\\sklearn\\linear_model\\_logistic.py\", line 1168, in fit\n",
      "    solver = _check_solver(self.solver, self.penalty, self.dual)\n",
      "             ^^^^^^^^^^^^^^^^^^^^^^^^^^^^^^^^^^^^^^^^^^^^^^^^^^^\n",
      "  File \"C:\\Users\\zzl96\\anaconda3\\Lib\\site-packages\\sklearn\\linear_model\\_logistic.py\", line 56, in _check_solver\n",
      "    raise ValueError(\n",
      "ValueError: Solver lbfgs supports only 'l2' or 'none' penalties, got l1 penalty.\n",
      "\n",
      "  warnings.warn(some_fits_failed_message, FitFailedWarning)\n",
      "C:\\Users\\zzl96\\anaconda3\\Lib\\site-packages\\sklearn\\model_selection\\_search.py:976: UserWarning: One or more of the test scores are non-finite: [       nan 0.93315188        nan 0.93316503        nan 0.93315188\n",
      "        nan 0.93315188]\n",
      "  warnings.warn(\n"
     ]
    },
    {
     "data": {
      "text/html": [
       "<style>#sk-container-id-1 {color: black;}#sk-container-id-1 pre{padding: 0;}#sk-container-id-1 div.sk-toggleable {background-color: white;}#sk-container-id-1 label.sk-toggleable__label {cursor: pointer;display: block;width: 100%;margin-bottom: 0;padding: 0.3em;box-sizing: border-box;text-align: center;}#sk-container-id-1 label.sk-toggleable__label-arrow:before {content: \"▸\";float: left;margin-right: 0.25em;color: #696969;}#sk-container-id-1 label.sk-toggleable__label-arrow:hover:before {color: black;}#sk-container-id-1 div.sk-estimator:hover label.sk-toggleable__label-arrow:before {color: black;}#sk-container-id-1 div.sk-toggleable__content {max-height: 0;max-width: 0;overflow: hidden;text-align: left;background-color: #f0f8ff;}#sk-container-id-1 div.sk-toggleable__content pre {margin: 0.2em;color: black;border-radius: 0.25em;background-color: #f0f8ff;}#sk-container-id-1 input.sk-toggleable__control:checked~div.sk-toggleable__content {max-height: 200px;max-width: 100%;overflow: auto;}#sk-container-id-1 input.sk-toggleable__control:checked~label.sk-toggleable__label-arrow:before {content: \"▾\";}#sk-container-id-1 div.sk-estimator input.sk-toggleable__control:checked~label.sk-toggleable__label {background-color: #d4ebff;}#sk-container-id-1 div.sk-label input.sk-toggleable__control:checked~label.sk-toggleable__label {background-color: #d4ebff;}#sk-container-id-1 input.sk-hidden--visually {border: 0;clip: rect(1px 1px 1px 1px);clip: rect(1px, 1px, 1px, 1px);height: 1px;margin: -1px;overflow: hidden;padding: 0;position: absolute;width: 1px;}#sk-container-id-1 div.sk-estimator {font-family: monospace;background-color: #f0f8ff;border: 1px dotted black;border-radius: 0.25em;box-sizing: border-box;margin-bottom: 0.5em;}#sk-container-id-1 div.sk-estimator:hover {background-color: #d4ebff;}#sk-container-id-1 div.sk-parallel-item::after {content: \"\";width: 100%;border-bottom: 1px solid gray;flex-grow: 1;}#sk-container-id-1 div.sk-label:hover label.sk-toggleable__label {background-color: #d4ebff;}#sk-container-id-1 div.sk-serial::before {content: \"\";position: absolute;border-left: 1px solid gray;box-sizing: border-box;top: 0;bottom: 0;left: 50%;z-index: 0;}#sk-container-id-1 div.sk-serial {display: flex;flex-direction: column;align-items: center;background-color: white;padding-right: 0.2em;padding-left: 0.2em;position: relative;}#sk-container-id-1 div.sk-item {position: relative;z-index: 1;}#sk-container-id-1 div.sk-parallel {display: flex;align-items: stretch;justify-content: center;background-color: white;position: relative;}#sk-container-id-1 div.sk-item::before, #sk-container-id-1 div.sk-parallel-item::before {content: \"\";position: absolute;border-left: 1px solid gray;box-sizing: border-box;top: 0;bottom: 0;left: 50%;z-index: -1;}#sk-container-id-1 div.sk-parallel-item {display: flex;flex-direction: column;z-index: 1;position: relative;background-color: white;}#sk-container-id-1 div.sk-parallel-item:first-child::after {align-self: flex-end;width: 50%;}#sk-container-id-1 div.sk-parallel-item:last-child::after {align-self: flex-start;width: 50%;}#sk-container-id-1 div.sk-parallel-item:only-child::after {width: 0;}#sk-container-id-1 div.sk-dashed-wrapped {border: 1px dashed gray;margin: 0 0.4em 0.5em 0.4em;box-sizing: border-box;padding-bottom: 0.4em;background-color: white;}#sk-container-id-1 div.sk-label label {font-family: monospace;font-weight: bold;display: inline-block;line-height: 1.2em;}#sk-container-id-1 div.sk-label-container {text-align: center;}#sk-container-id-1 div.sk-container {/* jupyter's `normalize.less` sets `[hidden] { display: none; }` but bootstrap.min.css set `[hidden] { display: none !important; }` so we also need the `!important` here to be able to override the default hidden behavior on the sphinx rendered scikit-learn.org. See: https://github.com/scikit-learn/scikit-learn/issues/21755 */display: inline-block !important;position: relative;}#sk-container-id-1 div.sk-text-repr-fallback {display: none;}</style><div id=\"sk-container-id-1\" class=\"sk-top-container\"><div class=\"sk-text-repr-fallback\"><pre>GridSearchCV(cv=5, estimator=LogisticRegression(max_iter=1000),\n",
       "             param_grid={&#x27;C&#x27;: [1, 10, 100, 500], &#x27;penalty&#x27;: [&#x27;l1&#x27;, &#x27;l2&#x27;]})</pre><b>In a Jupyter environment, please rerun this cell to show the HTML representation or trust the notebook. <br />On GitHub, the HTML representation is unable to render, please try loading this page with nbviewer.org.</b></div><div class=\"sk-container\" hidden><div class=\"sk-item sk-dashed-wrapped\"><div class=\"sk-label-container\"><div class=\"sk-label sk-toggleable\"><input class=\"sk-toggleable__control sk-hidden--visually\" id=\"sk-estimator-id-1\" type=\"checkbox\" ><label for=\"sk-estimator-id-1\" class=\"sk-toggleable__label sk-toggleable__label-arrow\">GridSearchCV</label><div class=\"sk-toggleable__content\"><pre>GridSearchCV(cv=5, estimator=LogisticRegression(max_iter=1000),\n",
       "             param_grid={&#x27;C&#x27;: [1, 10, 100, 500], &#x27;penalty&#x27;: [&#x27;l1&#x27;, &#x27;l2&#x27;]})</pre></div></div></div><div class=\"sk-parallel\"><div class=\"sk-parallel-item\"><div class=\"sk-item\"><div class=\"sk-label-container\"><div class=\"sk-label sk-toggleable\"><input class=\"sk-toggleable__control sk-hidden--visually\" id=\"sk-estimator-id-2\" type=\"checkbox\" ><label for=\"sk-estimator-id-2\" class=\"sk-toggleable__label sk-toggleable__label-arrow\">estimator: LogisticRegression</label><div class=\"sk-toggleable__content\"><pre>LogisticRegression(max_iter=1000)</pre></div></div></div><div class=\"sk-serial\"><div class=\"sk-item\"><div class=\"sk-estimator sk-toggleable\"><input class=\"sk-toggleable__control sk-hidden--visually\" id=\"sk-estimator-id-3\" type=\"checkbox\" ><label for=\"sk-estimator-id-3\" class=\"sk-toggleable__label sk-toggleable__label-arrow\">LogisticRegression</label><div class=\"sk-toggleable__content\"><pre>LogisticRegression(max_iter=1000)</pre></div></div></div></div></div></div></div></div></div></div>"
      ],
      "text/plain": [
       "GridSearchCV(cv=5, estimator=LogisticRegression(max_iter=1000),\n",
       "             param_grid={'C': [1, 10, 100, 500], 'penalty': ['l1', 'l2']})"
      ]
     },
     "execution_count": 18,
     "metadata": {},
     "output_type": "execute_result"
    }
   ],
   "source": [
    "# 提示：先按照上面要求准备好网格字典，再使用GridSearchCV进行调参\n",
    "from sklearn.model_selection import GridSearchCV\n",
    "\n",
    "param_grid = {'C': [1,10,100,500],\n",
    "              'penalty': ['l1','l2']}\n",
    "# 定义网格搜索方法\n",
    "grid_search = GridSearchCV(LogisticRegression(max_iter=1000), param_grid, cv=5)\n",
    "\n",
    "# 进行网格调参\n",
    "grid_search.fit(X_train_s, y_train)"
   ]
  },
  {
   "cell_type": "code",
   "execution_count": 19,
   "metadata": {
    "tags": []
   },
   "outputs": [
    {
     "name": "stdout",
     "output_type": "stream",
     "text": [
      "0.9337014879582758\n",
      "{'C': 10, 'penalty': 'l2'}\n",
      "0.9331650254316542\n"
     ]
    },
    {
     "data": {
      "text/html": [
       "<style>#sk-container-id-2 {color: black;}#sk-container-id-2 pre{padding: 0;}#sk-container-id-2 div.sk-toggleable {background-color: white;}#sk-container-id-2 label.sk-toggleable__label {cursor: pointer;display: block;width: 100%;margin-bottom: 0;padding: 0.3em;box-sizing: border-box;text-align: center;}#sk-container-id-2 label.sk-toggleable__label-arrow:before {content: \"▸\";float: left;margin-right: 0.25em;color: #696969;}#sk-container-id-2 label.sk-toggleable__label-arrow:hover:before {color: black;}#sk-container-id-2 div.sk-estimator:hover label.sk-toggleable__label-arrow:before {color: black;}#sk-container-id-2 div.sk-toggleable__content {max-height: 0;max-width: 0;overflow: hidden;text-align: left;background-color: #f0f8ff;}#sk-container-id-2 div.sk-toggleable__content pre {margin: 0.2em;color: black;border-radius: 0.25em;background-color: #f0f8ff;}#sk-container-id-2 input.sk-toggleable__control:checked~div.sk-toggleable__content {max-height: 200px;max-width: 100%;overflow: auto;}#sk-container-id-2 input.sk-toggleable__control:checked~label.sk-toggleable__label-arrow:before {content: \"▾\";}#sk-container-id-2 div.sk-estimator input.sk-toggleable__control:checked~label.sk-toggleable__label {background-color: #d4ebff;}#sk-container-id-2 div.sk-label input.sk-toggleable__control:checked~label.sk-toggleable__label {background-color: #d4ebff;}#sk-container-id-2 input.sk-hidden--visually {border: 0;clip: rect(1px 1px 1px 1px);clip: rect(1px, 1px, 1px, 1px);height: 1px;margin: -1px;overflow: hidden;padding: 0;position: absolute;width: 1px;}#sk-container-id-2 div.sk-estimator {font-family: monospace;background-color: #f0f8ff;border: 1px dotted black;border-radius: 0.25em;box-sizing: border-box;margin-bottom: 0.5em;}#sk-container-id-2 div.sk-estimator:hover {background-color: #d4ebff;}#sk-container-id-2 div.sk-parallel-item::after {content: \"\";width: 100%;border-bottom: 1px solid gray;flex-grow: 1;}#sk-container-id-2 div.sk-label:hover label.sk-toggleable__label {background-color: #d4ebff;}#sk-container-id-2 div.sk-serial::before {content: \"\";position: absolute;border-left: 1px solid gray;box-sizing: border-box;top: 0;bottom: 0;left: 50%;z-index: 0;}#sk-container-id-2 div.sk-serial {display: flex;flex-direction: column;align-items: center;background-color: white;padding-right: 0.2em;padding-left: 0.2em;position: relative;}#sk-container-id-2 div.sk-item {position: relative;z-index: 1;}#sk-container-id-2 div.sk-parallel {display: flex;align-items: stretch;justify-content: center;background-color: white;position: relative;}#sk-container-id-2 div.sk-item::before, #sk-container-id-2 div.sk-parallel-item::before {content: \"\";position: absolute;border-left: 1px solid gray;box-sizing: border-box;top: 0;bottom: 0;left: 50%;z-index: -1;}#sk-container-id-2 div.sk-parallel-item {display: flex;flex-direction: column;z-index: 1;position: relative;background-color: white;}#sk-container-id-2 div.sk-parallel-item:first-child::after {align-self: flex-end;width: 50%;}#sk-container-id-2 div.sk-parallel-item:last-child::after {align-self: flex-start;width: 50%;}#sk-container-id-2 div.sk-parallel-item:only-child::after {width: 0;}#sk-container-id-2 div.sk-dashed-wrapped {border: 1px dashed gray;margin: 0 0.4em 0.5em 0.4em;box-sizing: border-box;padding-bottom: 0.4em;background-color: white;}#sk-container-id-2 div.sk-label label {font-family: monospace;font-weight: bold;display: inline-block;line-height: 1.2em;}#sk-container-id-2 div.sk-label-container {text-align: center;}#sk-container-id-2 div.sk-container {/* jupyter's `normalize.less` sets `[hidden] { display: none; }` but bootstrap.min.css set `[hidden] { display: none !important; }` so we also need the `!important` here to be able to override the default hidden behavior on the sphinx rendered scikit-learn.org. See: https://github.com/scikit-learn/scikit-learn/issues/21755 */display: inline-block !important;position: relative;}#sk-container-id-2 div.sk-text-repr-fallback {display: none;}</style><div id=\"sk-container-id-2\" class=\"sk-top-container\"><div class=\"sk-text-repr-fallback\"><pre>LogisticRegression(C=10, max_iter=1000)</pre><b>In a Jupyter environment, please rerun this cell to show the HTML representation or trust the notebook. <br />On GitHub, the HTML representation is unable to render, please try loading this page with nbviewer.org.</b></div><div class=\"sk-container\" hidden><div class=\"sk-item\"><div class=\"sk-estimator sk-toggleable\"><input class=\"sk-toggleable__control sk-hidden--visually\" id=\"sk-estimator-id-4\" type=\"checkbox\" checked><label for=\"sk-estimator-id-4\" class=\"sk-toggleable__label sk-toggleable__label-arrow\">LogisticRegression</label><div class=\"sk-toggleable__content\"><pre>LogisticRegression(C=10, max_iter=1000)</pre></div></div></div></div></div>"
      ],
      "text/plain": [
       "LogisticRegression(C=10, max_iter=1000)"
      ]
     },
     "execution_count": 19,
     "metadata": {},
     "output_type": "execute_result"
    }
   ],
   "source": [
    "# 输出最好的超参数\n",
    "\n",
    "print(grid_search.score(X_test_s, y_test))\n",
    "print(grid_search.best_params_)\n",
    "print(grid_search.best_score_)\n",
    "\n",
    "# 输出最好的模型\n",
    "grid_search.best_estimator_"
   ]
  },
  {
   "cell_type": "markdown",
   "metadata": {},
   "source": [
    "#### 7.在测试集上进行预测，计算 查准率/查全率/auc/混淆矩阵/f1值 等测试指标"
   ]
  },
  {
   "cell_type": "code",
   "execution_count": 20,
   "metadata": {
    "tags": []
   },
   "outputs": [
    {
     "name": "stdout",
     "output_type": "stream",
     "text": [
      "Best LogReg scores:\n",
      "Confusion_Matrix:\n",
      "[[30337    87]\n",
      " [ 2074    97]]\n",
      "Accuracy:\t0.9337014879582758\n",
      "Recall:\t\t0.04467987102717642\n",
      "Precision:\t0.5271739130434783\n",
      "F1_score:\t0.08237791932059449\n",
      "AUCofROC:\t0.6979505712780028\n",
      "\n"
     ]
    }
   ],
   "source": [
    "# 提示：在测试集上预测可以使用predict\n",
    "# 提示：各种指标可以在sklearn.metrics中查到各种评估指标，分别是accuracy_score、recall_score、auc、confusion_matrix、f1_score\n",
    "from sklearn.metrics import roc_auc_score,precision_score,\\\n",
    "                            accuracy_score,recall_score,confusion_matrix,f1_score\n",
    "\n",
    "y_score = grid_search.best_estimator_.predict_proba(X_test_s).T[1]\n",
    "y_pred  = grid_search.best_estimator_.predict(X_test_s)\n",
    "\n",
    " #获取各个评价指标得分\n",
    "acc = accuracy_score(y_test, y_pred)\n",
    "recall = recall_score(y_test, y_pred, pos_label = 1)\n",
    "prec  = precision_score(y_test, y_pred, pos_label = 1)\n",
    "f1score = f1_score(y_test,y_pred,pos_label=1)\n",
    "cmatrix = confusion_matrix(y_test,y_pred)\n",
    "roc_auc = roc_auc_score(y_test,y_score)\n",
    "print(f\"Best LogReg scores:\\n\"\n",
    "        f\"Confusion_Matrix:\\n\"\n",
    "        f\"{cmatrix}\\n\"\n",
    "        f\"Accuracy:\\t{acc}\\n\"\n",
    "        f\"Recall:\\t\\t{recall}\\n\"\n",
    "        f\"Precision:\\t{prec}\\n\"\n",
    "        f\"F1_score:\\t{f1score}\\n\"\n",
    "        f\"AUCofROC:\\t{roc_auc}\\n\")\n",
    "\n",
    "# test\n",
    "# def isbigger(n,t):\n",
    "#     if n>=t:return 1\n",
    "#     else: return 0\n",
    "\n",
    "# y_pred  = y.map(lambda x:isbigger(x,0.5))\n",
    "# y_pred.shape"
   ]
  },
  {
   "cell_type": "markdown",
   "metadata": {
    "tags": []
   },
   "source": [
    "#### 8.更多优化\n",
    "银行通常会有更严格的要求，因为欺诈带来的后果通常比较严重，一般我们会调整模型的标准。   \n",
    "\n",
    "比如在logistic regression当中，一般我们的概率判定边界为0.5，但是我们可以把阈值设定低一些，来提高模型的“敏感度”   \n",
    "试试看把阈值设定为0.3，再看看这个时候的混淆矩阵等评估指标。"
   ]
  },
  {
   "cell_type": "code",
   "execution_count": 21,
   "metadata": {
    "tags": []
   },
   "outputs": [
    {
     "name": "stdout",
     "output_type": "stream",
     "text": [
      "When Threshold is Set to 0.1\n",
      "Best LogReg scores:\n",
      "Confusion_Matrix:\n",
      "[[26690  3734]\n",
      " [ 1242   929]]\n",
      "Accuracy:\t0.8473385488571867\n",
      "Recall:\t\t0.42791340396130817\n",
      "Precision:\t0.1992279648295089\n",
      "F1_score:\t0.2718759145449225\n",
      "AUCofROC:\t0.6979505712780028\n",
      "\n",
      "When Threshold is Set to 0.2\n",
      "Best LogReg scores:\n",
      "Confusion_Matrix:\n",
      "[[29777   647]\n",
      " [ 1753   418]]\n",
      "Accuracy:\t0.9263690750115048\n",
      "Recall:\t\t0.19253800092123446\n",
      "Precision:\t0.39248826291079814\n",
      "F1_score:\t0.2583436341161928\n",
      "AUCofROC:\t0.6979505712780028\n",
      "\n",
      "When Threshold is Set to 0.3\n",
      "Best LogReg scores:\n",
      "Confusion_Matrix:\n",
      "[[30166   258]\n",
      " [ 1926   245]]\n",
      "Accuracy:\t0.9329958582604694\n",
      "Recall:\t\t0.11285122063565177\n",
      "Precision:\t0.4870775347912525\n",
      "F1_score:\t0.18324607329842932\n",
      "AUCofROC:\t0.6979505712780028\n",
      "\n",
      "When Threshold is Set to 0.4\n",
      "Best LogReg scores:\n",
      "Confusion_Matrix:\n",
      "[[30285   139]\n",
      " [ 2019   152]]\n",
      "Accuracy:\t0.9337935266145114\n",
      "Recall:\t\t0.07001381851681253\n",
      "Precision:\t0.5223367697594502\n",
      "F1_score:\t0.12347684809098294\n",
      "AUCofROC:\t0.6979505712780028\n",
      "\n",
      "When Threshold is Set to 0.5\n",
      "Best LogReg scores:\n",
      "Confusion_Matrix:\n",
      "[[30337    87]\n",
      " [ 2074    97]]\n",
      "Accuracy:\t0.9337014879582758\n",
      "Recall:\t\t0.04467987102717642\n",
      "Precision:\t0.5271739130434783\n",
      "F1_score:\t0.08237791932059449\n",
      "AUCofROC:\t0.6979505712780028\n",
      "\n",
      "When Threshold is Set to 0.6\n",
      "Best LogReg scores:\n",
      "Confusion_Matrix:\n",
      "[[30368    56]\n",
      " [ 2108    63]]\n",
      "Accuracy:\t0.9336094493020402\n",
      "Recall:\t\t0.029018885306310457\n",
      "Precision:\t0.5294117647058824\n",
      "F1_score:\t0.05502183406113537\n",
      "AUCofROC:\t0.6979505712780028\n",
      "\n",
      "When Threshold is Set to 0.7\n",
      "Best LogReg scores:\n",
      "Confusion_Matrix:\n",
      "[[30389    35]\n",
      " [ 2128    43]]\n",
      "Accuracy:\t0.9336401288541187\n",
      "Recall:\t\t0.019806540764624597\n",
      "Precision:\t0.5512820512820513\n",
      "F1_score:\t0.03823921742996887\n",
      "AUCofROC:\t0.6979505712780028\n",
      "\n",
      "When Threshold is Set to 0.8\n",
      "Best LogReg scores:\n",
      "Confusion_Matrix:\n",
      "[[30401    23]\n",
      " [ 2144    27]]\n",
      "Accuracy:\t0.9335174106458046\n",
      "Recall:\t\t0.01243666513127591\n",
      "Precision:\t0.54\n",
      "F1_score:\t0.024313372354795137\n",
      "AUCofROC:\t0.6979505712780028\n",
      "\n",
      "When Threshold is Set to 0.9\n",
      "Best LogReg scores:\n",
      "Confusion_Matrix:\n",
      "[[30418     6]\n",
      " [ 2167     4]]\n",
      "Accuracy:\t0.9333333333333333\n",
      "Recall:\t\t0.0018424689083371719\n",
      "Precision:\t0.4\n",
      "F1_score:\t0.003668042182485099\n",
      "AUCofROC:\t0.6979505712780028\n",
      "\n"
     ]
    }
   ],
   "source": [
    "# 提示：thresholds = [0.1,0.2,0.3,0.4,0.5,0.6,0.7,0.8,0.9]\n",
    "# 根据predict_proba的结果和threshold的比较确定结果，再评估各种结果指标\n",
    "\n",
    "# 定义二元赋值函数\n",
    "def isbigger(n,t):\n",
    "    if n>=t:return 1\n",
    "    else: return 0\n",
    "    \n",
    "# 定义根据阈值重算并输出指标的方法\n",
    "def scores_on_thrds(threshold,model,X_test,y_test):\n",
    "    \n",
    "    y_score = model.predict_proba(X_test).T[1]\n",
    "    y_score_df = pd.DataFrame(y_score)\n",
    "    #将大于等于阈值的映射为1，其余为0\n",
    "    y_pred  = y_score_df.iloc[:,0].map(lambda x:isbigger(x,threshold))\n",
    "    \n",
    "    #计算并输出相应结果      \n",
    "    acc = accuracy_score(y_test, y_pred)\n",
    "    recall = recall_score(y_test, y_pred, pos_label = 1)\n",
    "    prec  = precision_score(y_test, y_pred, pos_label = 1)\n",
    "    f1score = f1_score(y_test,y_pred,pos_label=1)\n",
    "    cmatrix = confusion_matrix(y_test,y_pred)\n",
    "    roc_auc = roc_auc_score(y_test,y_score)\n",
    "    print(f\"When Threshold is Set to {threshold}\\n\"\n",
    "            f\"Best LogReg scores:\\n\"\n",
    "            f\"Confusion_Matrix:\\n\"\n",
    "            f\"{cmatrix}\\n\"\n",
    "            f\"Accuracy:\\t{acc}\\n\"\n",
    "            f\"Recall:\\t\\t{recall}\\n\"\n",
    "            f\"Precision:\\t{prec}\\n\"\n",
    "            f\"F1_score:\\t{f1score}\\n\"\n",
    "            f\"AUCofROC:\\t{roc_auc}\\n\")\n",
    "    \n",
    "thresholds = [0.1,0.2,0.3,0.4,0.5,0.6,0.7,0.8,0.9]\n",
    "# 根据阈值列表来遍历，以对比指标的变化\n",
    "for t in thresholds:\n",
    "    scores_on_thrds(t,grid_search.best_estimator_,X_test_s,y_test)"
   ]
  },
  {
   "cell_type": "markdown",
   "metadata": {
    "tags": []
   },
   "source": [
    "#### 9.尝试对不同特征的重要度进行排序，通过特征选择的方式，对特征进行筛选。并重新建模，观察此时的模型准确率等评估指标。"
   ]
  },
  {
   "cell_type": "code",
   "execution_count": 22,
   "metadata": {
    "tags": []
   },
   "outputs": [
    {
     "data": {
      "text/plain": [
       "<Axes: >"
      ]
     },
     "execution_count": 22,
     "metadata": {},
     "output_type": "execute_result"
    },
    {
     "data": {
      "image/png": "[encoded data removed]",
      "text/plain": [
       "<Figure size 640x480 with 1 Axes>"
      ]
     },
     "metadata": {},
     "output_type": "display_data"
    }
   ],
   "source": [
    "# 可以根据逻辑回归的系数绝对值大小进行排序，也可以基于树模型的特征重要度进行排序\n",
    "# 特征选择可以使用RFE或者selectFromModel\n",
    "\n",
    "# 回归系数的数值与排序\n",
    "coefs = pd.DataFrame(grid_search.best_estimator_.coef_,columns = X_p.columns)\n",
    "coefs_abs = coefs.iloc[0,:].map(abs)\n",
    "coefs_abs.sort_values(ascending=False).plot.bar()"
   ]
  },
  {
   "cell_type": "code",
   "execution_count": 23,
   "metadata": {
    "tags": []
   },
   "outputs": [
    {
     "data": {
      "text/plain": [
       "(76053, 16)"
      ]
     },
     "execution_count": 23,
     "metadata": {},
     "output_type": "execute_result"
    }
   ],
   "source": [
    "#利用SelectFromModel选择特征\n",
    "from sklearn.feature_selection import SelectFromModel\n",
    "sfm = SelectFromModel(grid_search.best_estimator_, threshold=0.5, prefit=True)\n",
    "X_selected = sfm.transform(X_train_s)\n",
    "\n",
    "X_selected.shape"
   ]
  },
  {
   "cell_type": "code",
   "execution_count": 24,
   "metadata": {
    "tags": []
   },
   "outputs": [
    {
     "data": {
      "text/plain": [
       "<Axes: >"
      ]
     },
     "execution_count": 24,
     "metadata": {},
     "output_type": "execute_result"
    },
    {
     "data": {
      "image/png": "[encoded data removed]",
      "text/plain": [
       "<Figure size 640x480 with 1 Axes>"
      ]
     },
     "metadata": {},
     "output_type": "display_data"
    }
   ],
   "source": [
    "# 查看符合筛选标准的特征，以及对应的回归系数（绝对值）\n",
    "coefs_abs.sort_values(ascending=False)[0:X_selected.shape[1]].plot.bar()"
   ]
  },
  {
   "cell_type": "markdown",
   "metadata": {},
   "source": [
    "#### 10.其他模型算法尝试\n",
    "使用RandomForestClassifier/SVM/KNN等sklearn分类算法进行分类，尝试上述超参数调优算法过程。"
   ]
  },
  {
   "cell_type": "code",
   "execution_count": 25,
   "metadata": {
    "tags": []
   },
   "outputs": [],
   "source": [
    "# 随机森林\n",
    "from sklearn.ensemble import RandomForestClassifier\n",
    "# 支持向量机\n",
    "from sklearn.svm import SVC\n",
    "# K最近邻\n",
    "from sklearn.neighbors import KNeighborsClassifier"
   ]
  },
  {
   "cell_type": "code",
   "execution_count": 26,
   "metadata": {
    "tags": []
   },
   "outputs": [],
   "source": [
    "# 定义显示方法，输出调参后形成的模型指标\n",
    "def show_scores(grid_model,modelname,X_test,y_test):\n",
    "    model=grid_model.best_estimator_\n",
    "    y_score = model.predict_proba(X_test).T[1]\n",
    "    y_pred  = model.predict(X_test)\n",
    "    \n",
    "    #计算并输出相应结果      \n",
    "    acc = accuracy_score(y_test, y_pred)\n",
    "    recall = recall_score(y_test, y_pred, pos_label = 1)\n",
    "    prec  = precision_score(y_test, y_pred, pos_label = 1)\n",
    "    f1score = f1_score(y_test,y_pred,pos_label=1)\n",
    "    cmatrix = confusion_matrix(y_test,y_pred)\n",
    "    roc_auc = roc_auc_score(y_test,y_score)\n",
    "    print(  f\"Best {modelname} params:{grid_model.best_params_}\\n\"\n",
    "            f\"Best {modelname} score:{grid_model.best_score_}\\n\"\n",
    "            f\"Confusion_Matrix:\\n\"\n",
    "            f\"{cmatrix}\\n\"\n",
    "            f\"Accuracy:\\t{acc}\\n\"\n",
    "            f\"Recall:\\t\\t{recall}\\n\"\n",
    "            f\"Precision:\\t{prec}\\n\"\n",
    "            f\"F1_score:\\t{f1score}\\n\"\n",
    "            f\"AUCofROC:\\t{roc_auc}\\n\")\n"
   ]
  },
  {
   "cell_type": "markdown",
   "metadata": {},
   "source": [
    "##### 随机森林"
   ]
  },
  {
   "cell_type": "code",
   "execution_count": 28,
   "metadata": {
    "tags": []
   },
   "outputs": [
    {
     "name": "stdout",
     "output_type": "stream",
     "text": [
      "Best Random Forest params:{'criterion': 'gini', 'n_estimators': 100}\n",
      "Best Random Forest score:0.9337961839530037\n",
      "Confusion_Matrix:\n",
      "[[30218   206]\n",
      " [ 1874   297]]\n",
      "Accuracy:\t0.9361865316766376\n",
      "Recall:\t\t0.136803316444035\n",
      "Precision:\t0.5904572564612326\n",
      "F1_score:\t0.22213911742707557\n",
      "AUCofROC:\t0.8236859101029722\n",
      "\n"
     ]
    }
   ],
   "source": [
    "# 随机森林\n",
    "from sklearn.ensemble import RandomForestClassifier\n",
    "\n",
    "param_grid_frst = {'n_estimators': [3,10,30,100],\n",
    "                   'criterion': [\"gini\", \"entropy\", \"log_loss\"],\n",
    "                   }\n",
    "\n",
    "# 定义网格搜索方法\n",
    "grid_forest = GridSearchCV(RandomForestClassifier(n_jobs=5), param_grid_frst, cv=5)\n",
    "\n",
    "grid_forest.fit(X_train_s, y_train)\n",
    "\n",
    "show_scores(grid_forest,'Random Forest',X_test_s,y_test)"
   ]
  },
  {
   "cell_type": "markdown",
   "metadata": {
    "tags": []
   },
   "source": [
    "##### KNN"
   ]
  },
  {
   "cell_type": "code",
   "execution_count": 31,
   "metadata": {
    "tags": []
   },
   "outputs": [
    {
     "name": "stderr",
     "output_type": "stream",
     "text": [
      "C:\\Users\\zzl96\\anaconda3\\Lib\\site-packages\\sklearn\\model_selection\\_validation.py:425: FitFailedWarning: \n",
      "120 fits failed out of a total of 360.\n",
      "The score on these train-test partitions for these parameters will be set to nan.\n",
      "If these failures are not expected, you can try to debug them by setting error_score='raise'.\n",
      "\n",
      "Below are more details about the failures:\n",
      "--------------------------------------------------------------------------------\n",
      "120 fits failed with the following error:\n",
      "Traceback (most recent call last):\n",
      "  File \"C:\\Users\\zzl96\\anaconda3\\Lib\\site-packages\\sklearn\\model_selection\\_validation.py\", line 732, in _fit_and_score\n",
      "    estimator.fit(X_train, y_train, **fit_params)\n",
      "  File \"C:\\Users\\zzl96\\anaconda3\\Lib\\site-packages\\sklearn\\base.py\", line 1144, in wrapper\n",
      "    estimator._validate_params()\n",
      "  File \"C:\\Users\\zzl96\\anaconda3\\Lib\\site-packages\\sklearn\\base.py\", line 637, in _validate_params\n",
      "    validate_parameter_constraints(\n",
      "  File \"C:\\Users\\zzl96\\anaconda3\\Lib\\site-packages\\sklearn\\utils\\_param_validation.py\", line 95, in validate_parameter_constraints\n",
      "    raise InvalidParameterError(\n",
      "sklearn.utils._param_validation.InvalidParameterError: The 'p' parameter of KNeighborsClassifier must be a float in the range (0.0, inf] or None. Got 0 instead.\n",
      "\n",
      "  warnings.warn(some_fits_failed_message, FitFailedWarning)\n",
      "C:\\Users\\zzl96\\anaconda3\\Lib\\site-packages\\sklearn\\model_selection\\_search.py:976: UserWarning: One or more of the test scores are non-finite: [       nan 0.9281948  0.92749791        nan 0.931482   0.9318633\n",
      "        nan 0.93228406 0.93270482        nan 0.93267852 0.93302039\n",
      "        nan 0.9281948  0.92749791        nan 0.931482   0.9318633\n",
      "        nan 0.93228406 0.93270482        nan 0.93267852 0.93302039\n",
      "        nan 0.9281948  0.92749791        nan 0.931482   0.9318633\n",
      "        nan 0.93228406 0.93270482        nan 0.93267852 0.93302039\n",
      "        nan 0.9281948  0.92749791        nan 0.931482   0.9318633\n",
      "        nan 0.93228406 0.93270482        nan 0.93267852 0.93302039\n",
      "        nan 0.9281948  0.92749791        nan 0.931482   0.9318633\n",
      "        nan 0.93228406 0.93270482        nan 0.93267852 0.93302039\n",
      "        nan 0.9281948  0.92749791        nan 0.931482   0.9318633\n",
      "        nan 0.93228406 0.93270482        nan 0.93267852 0.93302039]\n",
      "  warnings.warn(\n"
     ]
    },
    {
     "name": "stdout",
     "output_type": "stream",
     "text": [
      "Best K-Nearest Neighbors params:{'leaf_size': 15, 'n_neighbors': 9, 'p': 2}\n",
      "Best K-Nearest Neighbors score:0.9330203906642011\n",
      "Confusion_Matrix:\n",
      "[[30309   115]\n",
      " [ 2052   119]]\n",
      "Accuracy:\t0.9335174106458046\n",
      "Recall:\t\t0.05481345002303086\n",
      "Precision:\t0.5085470085470085\n",
      "F1_score:\t0.09896049896049897\n",
      "AUCofROC:\t0.6850908510857086\n",
      "\n"
     ]
    }
   ],
   "source": [
    "# KNN\n",
    "from sklearn.neighbors import KNeighborsClassifier\n",
    "\n",
    "param_grid_knn = {'n_neighbors': [3,5,7,9],\n",
    "                   'leaf_size': [15,20,25,30,35,40],\n",
    "                   'p':[0,1,2]\n",
    "                   }\n",
    "\n",
    "# 定义网格搜索方法\n",
    "grid_knn = GridSearchCV(KNeighborsClassifier(), param_grid_knn, cv=5)\n",
    "\n",
    "# 训练\n",
    "grid_knn.fit(X_train_s, y_train)\n",
    "\n",
    "show_scores(grid_knn,'K-Nearest Neighbors',X_test_s,y_test)"
   ]
  },
  {
   "cell_type": "markdown",
   "metadata": {
    "tags": []
   },
   "source": [
    "##### SVM"
   ]
  },
  {
   "cell_type": "code",
   "execution_count": null,
   "metadata": {
    "tags": []
   },
   "outputs": [],
   "source": [
    "# SVM\n",
    "param_grid_svm = {'C': [0.1,1,10,100],\n",
    "                   'kernel': ['linear','poly'],\n",
    "                   }\n",
    "\n",
    "# 定义网格搜索方法\n",
    "grid_svm = GridSearchCV(SVC(probability = True), param_grid_svm, cv=5)\n",
    "\n",
    "# 训练\n",
    "grid_svm.fit(X_train_s, y_train)\n",
    "\n",
    "show_scores(grid_svm,'Support Vector Machines',X_test_s,y_test)"
   ]
  }
 ],
 "metadata": {
  "kernelspec": {
   "display_name": "Python 3 (ipykernel)",
   "language": "python",
   "name": "python3"
  },
  "language_info": {
   "codemirror_mode": {
    "name": "ipython",
    "version": 3
   },
   "file_extension": ".py",
   "mimetype": "text/x-python",
   "name": "python",
   "nbconvert_exporter": "python",
   "pygments_lexer": "ipython3",
   "version": "3.11.5"
  }
 },
 "nbformat": 4,
 "nbformat_minor": 4
}
