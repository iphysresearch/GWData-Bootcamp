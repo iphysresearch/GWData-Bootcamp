{
 "cells": [
  {
   "cell_type": "markdown",
   "metadata": {},
   "source": [
    "# 一起来打怪之 Credit Scoring 练习"
   ]
  },
  {
   "cell_type": "markdown",
   "metadata": {},
   "source": [
    "---\n",
    "## 作业说明\n",
    "\n",
    "- 答题步骤：\n",
    "    - 回答问题**请保留每一步**操作过程，请不要仅仅给出最后答案\n",
    "    - 请养成代码注释的好习惯\n",
    "\n",
    "- 解题思路：\n",
    "    - 为方便大家准确理解题目，在习题实战中有所收获，本文档提供了解题思路提示\n",
    "    - 解题思路**仅供参考**，鼓励原创解题方法\n",
    "    - 为督促同学们自己思考，解题思路内容设置为**白色**，必要时请从冒号后拖动鼠标查看\n",
    "\n",
    "- 所用数据\n",
    "    - 请注意导入数据库后先**查看和了解数据的基本性质**，后面的问题不再一一提醒"
   ]
  },
  {
   "cell_type": "markdown",
   "metadata": {},
   "source": [
    "## machine learning for credit scoring\n",
    "\n",
    "\n",
    "Banks play a crucial role in market economies. They decide who can get finance and on what terms and can make or break investment decisions. For markets and society to function, individuals and companies need access to credit. \n",
    "\n",
    "Credit scoring algorithms, which make a guess at the probability of default, are the method banks use to determine whether or not a loan should be granted. This competition requires participants to improve on the state of the art in credit scoring, by predicting the probability that somebody will experience financial distress in the next two years. [Dataset](https://www.kaggle.com/c/GiveMeSomeCredit)\n",
    "\n",
    "Attribute Information:\n",
    "\n",
    "|Variable Name\t|\tDescription\t|\tType|\n",
    "|----|----|----|\n",
    "|SeriousDlqin2yrs\t|\tPerson experienced 90 days past due delinquency or worse \t|\tY/N|\n",
    "|RevolvingUtilizationOfUnsecuredLines\t|\tTotal balance on credit divided by the sum of credit limits\t|\tpercentage|\n",
    "|age\t|\tAge of borrower in years\t|\tinteger|\n",
    "|NumberOfTime30-59DaysPastDueNotWorse\t|\tNumber of times borrower has been 30-59 days past due |\tinteger|\n",
    "|DebtRatio\t|\tMonthly debt payments\t|\tpercentage|\n",
    "|MonthlyIncome\t|\tMonthly income\t|\treal|\n",
    "|NumberOfOpenCreditLinesAndLoans\t|\tNumber of Open loans |\tinteger|\n",
    "|NumberOfTimes90DaysLate\t|\tNumber of times borrower has been 90 days or more past due.\t|\tinteger|\n",
    "|NumberRealEstateLoansOrLines\t|\tNumber of mortgage and real estate loans\t|\tinteger|\n",
    "|NumberOfTime60-89DaysPastDueNotWorse\t|\tNumber of times borrower has been 60-89 days past due |integer|\n",
    "|NumberOfDependents\t|\tNumber of dependents in family\t|\tinteger|\n"
   ]
  },
  {
   "cell_type": "markdown",
   "metadata": {},
   "source": [
    "----------\n",
    "## Read the data into Pandas "
   ]
  },
  {
   "cell_type": "code",
   "execution_count": 19,
   "metadata": {},
   "outputs": [
    {
     "name": "stdout",
     "output_type": "stream",
     "text": [
      "/home/jovyan/ML-2023-12-22\n"
     ]
    }
   ],
   "source": [
    "import os\n",
    "print(os.getcwd())  # 打印当前工作目录\n",
    "\n",
    "# with zipfile.ZipFile('KaggleCredit2.csv.zip', 'r') as z:\n",
    "#     f = z.open('KaggleCredit2.csv')\n",
    "#     data = pd.read_csv(f, index_col=0)\n",
    "\n",
    "\n",
    "import numpy as np"
   ]
  },
  {
   "cell_type": "code",
   "execution_count": 2,
   "metadata": {
    "collapsed": true,
    "jupyter": {
     "outputs_hidden": true
    }
   },
   "outputs": [
    {
     "data": {
      "text/html": [
       "<div>\n",
       "<style scoped>\n",
       "    .dataframe tbody tr th:only-of-type {\n",
       "        vertical-align: middle;\n",
       "    }\n",
       "\n",
       "    .dataframe tbody tr th {\n",
       "        vertical-align: top;\n",
       "    }\n",
       "\n",
       "    .dataframe thead th {\n",
       "        text-align: right;\n",
       "    }\n",
       "</style>\n",
       "<table border=\"1\" class=\"dataframe\">\n",
       "  <thead>\n",
       "    <tr style=\"text-align: right;\">\n",
       "      <th></th>\n",
       "      <th>SeriousDlqin2yrs</th>\n",
       "      <th>RevolvingUtilizationOfUnsecuredLines</th>\n",
       "      <th>age</th>\n",
       "      <th>NumberOfTime30-59DaysPastDueNotWorse</th>\n",
       "      <th>DebtRatio</th>\n",
       "      <th>MonthlyIncome</th>\n",
       "      <th>NumberOfOpenCreditLinesAndLoans</th>\n",
       "      <th>NumberOfTimes90DaysLate</th>\n",
       "      <th>NumberRealEstateLoansOrLines</th>\n",
       "      <th>NumberOfTime60-89DaysPastDueNotWorse</th>\n",
       "      <th>NumberOfDependents</th>\n",
       "    </tr>\n",
       "  </thead>\n",
       "  <tbody>\n",
       "    <tr>\n",
       "      <th>0</th>\n",
       "      <td>1</td>\n",
       "      <td>0.766127</td>\n",
       "      <td>45.0</td>\n",
       "      <td>2.0</td>\n",
       "      <td>0.802982</td>\n",
       "      <td>9120.0</td>\n",
       "      <td>13.0</td>\n",
       "      <td>0.0</td>\n",
       "      <td>6.0</td>\n",
       "      <td>0.0</td>\n",
       "      <td>2.0</td>\n",
       "    </tr>\n",
       "    <tr>\n",
       "      <th>1</th>\n",
       "      <td>0</td>\n",
       "      <td>0.957151</td>\n",
       "      <td>40.0</td>\n",
       "      <td>0.0</td>\n",
       "      <td>0.121876</td>\n",
       "      <td>2600.0</td>\n",
       "      <td>4.0</td>\n",
       "      <td>0.0</td>\n",
       "      <td>0.0</td>\n",
       "      <td>0.0</td>\n",
       "      <td>1.0</td>\n",
       "    </tr>\n",
       "    <tr>\n",
       "      <th>2</th>\n",
       "      <td>0</td>\n",
       "      <td>0.658180</td>\n",
       "      <td>38.0</td>\n",
       "      <td>1.0</td>\n",
       "      <td>0.085113</td>\n",
       "      <td>3042.0</td>\n",
       "      <td>2.0</td>\n",
       "      <td>1.0</td>\n",
       "      <td>0.0</td>\n",
       "      <td>0.0</td>\n",
       "      <td>0.0</td>\n",
       "    </tr>\n",
       "    <tr>\n",
       "      <th>3</th>\n",
       "      <td>0</td>\n",
       "      <td>0.233810</td>\n",
       "      <td>30.0</td>\n",
       "      <td>0.0</td>\n",
       "      <td>0.036050</td>\n",
       "      <td>3300.0</td>\n",
       "      <td>5.0</td>\n",
       "      <td>0.0</td>\n",
       "      <td>0.0</td>\n",
       "      <td>0.0</td>\n",
       "      <td>0.0</td>\n",
       "    </tr>\n",
       "    <tr>\n",
       "      <th>4</th>\n",
       "      <td>0</td>\n",
       "      <td>0.907239</td>\n",
       "      <td>49.0</td>\n",
       "      <td>1.0</td>\n",
       "      <td>0.024926</td>\n",
       "      <td>63588.0</td>\n",
       "      <td>7.0</td>\n",
       "      <td>0.0</td>\n",
       "      <td>1.0</td>\n",
       "      <td>0.0</td>\n",
       "      <td>0.0</td>\n",
       "    </tr>\n",
       "  </tbody>\n",
       "</table>\n",
       "</div>"
      ],
      "text/plain": [
       "   SeriousDlqin2yrs  RevolvingUtilizationOfUnsecuredLines   age  \\\n",
       "0                 1                              0.766127  45.0   \n",
       "1                 0                              0.957151  40.0   \n",
       "2                 0                              0.658180  38.0   \n",
       "3                 0                              0.233810  30.0   \n",
       "4                 0                              0.907239  49.0   \n",
       "\n",
       "   NumberOfTime30-59DaysPastDueNotWorse  DebtRatio  MonthlyIncome  \\\n",
       "0                                   2.0   0.802982         9120.0   \n",
       "1                                   0.0   0.121876         2600.0   \n",
       "2                                   1.0   0.085113         3042.0   \n",
       "3                                   0.0   0.036050         3300.0   \n",
       "4                                   1.0   0.024926        63588.0   \n",
       "\n",
       "   NumberOfOpenCreditLinesAndLoans  NumberOfTimes90DaysLate  \\\n",
       "0                             13.0                      0.0   \n",
       "1                              4.0                      0.0   \n",
       "2                              2.0                      1.0   \n",
       "3                              5.0                      0.0   \n",
       "4                              7.0                      0.0   \n",
       "\n",
       "   NumberRealEstateLoansOrLines  NumberOfTime60-89DaysPastDueNotWorse  \\\n",
       "0                           6.0                                   0.0   \n",
       "1                           0.0                                   0.0   \n",
       "2                           0.0                                   0.0   \n",
       "3                           0.0                                   0.0   \n",
       "4                           1.0                                   0.0   \n",
       "\n",
       "   NumberOfDependents  \n",
       "0                 2.0  \n",
       "1                 1.0  \n",
       "2                 0.0  \n",
       "3                 0.0  \n",
       "4                 0.0  "
      ]
     },
     "execution_count": 2,
     "metadata": {},
     "output_type": "execute_result"
    }
   ],
   "source": [
    "import pandas as pd\n",
    "pd.set_option('display.max_columns', 500)\n",
    "import zipfile\n",
    "with zipfile.ZipFile('KaggleCredit2.csv.zip', 'r') as z:\n",
    "    f = z.open('KaggleCredit2.csv')\n",
    "    data = pd.read_csv(f, index_col=0)\n",
    "data.head()\n",
    "\n"
   ]
  },
  {
   "cell_type": "code",
   "execution_count": 3,
   "metadata": {
    "collapsed": true,
    "jupyter": {
     "outputs_hidden": true
    }
   },
   "outputs": [
    {
     "data": {
      "text/plain": [
       "(112915, 11)"
      ]
     },
     "execution_count": 3,
     "metadata": {},
     "output_type": "execute_result"
    }
   ],
   "source": [
    "data.shape"
   ]
  },
  {
   "cell_type": "markdown",
   "metadata": {},
   "source": [
    "------------\n",
    "## Drop na"
   ]
  },
  {
   "cell_type": "code",
   "execution_count": 4,
   "metadata": {
    "collapsed": true,
    "jupyter": {
     "outputs_hidden": true
    }
   },
   "outputs": [
    {
     "data": {
      "text/plain": [
       "SeriousDlqin2yrs                           0\n",
       "RevolvingUtilizationOfUnsecuredLines       0\n",
       "age                                     4267\n",
       "NumberOfTime30-59DaysPastDueNotWorse       0\n",
       "DebtRatio                                  0\n",
       "MonthlyIncome                              0\n",
       "NumberOfOpenCreditLinesAndLoans            0\n",
       "NumberOfTimes90DaysLate                    0\n",
       "NumberRealEstateLoansOrLines               0\n",
       "NumberOfTime60-89DaysPastDueNotWorse       0\n",
       "NumberOfDependents                      4267\n",
       "dtype: int64"
      ]
     },
     "execution_count": 4,
     "metadata": {},
     "output_type": "execute_result"
    }
   ],
   "source": [
    "data.isnull().sum(axis=0)"
   ]
  },
  {
   "cell_type": "code",
   "execution_count": 5,
   "metadata": {
    "collapsed": true,
    "jupyter": {
     "outputs_hidden": true
    }
   },
   "outputs": [
    {
     "data": {
      "text/plain": [
       "(108648, 11)"
      ]
     },
     "execution_count": 5,
     "metadata": {},
     "output_type": "execute_result"
    }
   ],
   "source": [
    "data.dropna(inplace=True)\n",
    "data.shape"
   ]
  },
  {
   "cell_type": "markdown",
   "metadata": {},
   "source": [
    "---------\n",
    "## Create X and y"
   ]
  },
  {
   "cell_type": "code",
   "execution_count": 6,
   "metadata": {
    "collapsed": true,
    "jupyter": {
     "outputs_hidden": true
    }
   },
   "outputs": [],
   "source": [
    "y = data['SeriousDlqin2yrs']\n",
    "X = data.drop('SeriousDlqin2yrs', axis=1)"
   ]
  },
  {
   "cell_type": "code",
   "execution_count": 7,
   "metadata": {
    "collapsed": true,
    "jupyter": {
     "outputs_hidden": true
    }
   },
   "outputs": [
    {
     "data": {
      "text/plain": [
       "0.06742876076872101"
      ]
     },
     "execution_count": 7,
     "metadata": {},
     "output_type": "execute_result"
    }
   ],
   "source": [
    "y.mean()"
   ]
  },
  {
   "cell_type": "markdown",
   "metadata": {},
   "source": [
    "---\n",
    "## 练习1：把数据切分成训练集和测试集\n",
    "- 提示：<span style='color:white'>from sklearn.model_selection import train_test_split('Gender') </span>"
   ]
  },
  {
   "cell_type": "code",
   "execution_count": 8,
   "metadata": {
    "collapsed": true,
    "jupyter": {
     "outputs_hidden": true
    }
   },
   "outputs": [
    {
     "name": "stdout",
     "output_type": "stream",
     "text": [
      "训练集 X 形状: (76053, 10)\n",
      "测试集 X 形状: (32595, 10)\n",
      "训练集 y 形状: (76053,)\n",
      "测试集 y 形状: (32595,)\n"
     ]
    }
   ],
   "source": [
    "## your code here\n",
    "from sklearn.model_selection import train_test_split\n",
    "\n",
    "\n",
    "# 利用 train_test_split 函数将数据集划分为训练集和测试集，其中 test_size 表示测试集占总数据集的比例\n",
    "X_train, X_test, y_train, y_test = train_test_split(X, y, test_size=0.3, random_state=42)\n",
    "\n",
    "# 输出训练集和测试集的形状\n",
    "print(\"训练集 X 形状:\", X_train.shape)\n",
    "print(\"测试集 X 形状:\", X_test.shape)\n",
    "print(\"训练集 y 形状:\", y_train.shape)\n",
    "print(\"测试集 y 形状:\", y_test.shape)\n"
   ]
  },
  {
   "cell_type": "markdown",
   "metadata": {},
   "source": [
    "----\n",
    "## 练习2：使用logistic regression/决策树/SVM/KNN...等sklearn分类算法进行分类\n",
    "尝试查sklearn API了解模型参数含义，调整不同的参数"
   ]
  },
  {
   "cell_type": "code",
   "execution_count": 9,
   "metadata": {},
   "outputs": [],
   "source": [
    "# # 就要可视化才能看出来啊\n",
    "# from matplotlib.colors import ListedColormap\n",
    "# import matplotlib.pyplot as plt\n",
    "# import warnings\n",
    "\n",
    "# import numpy as np\n",
    "\n",
    "\n",
    "\n",
    "# def versiontuple(v):\n",
    "#     return tuple(map(int, (v.split(\".\"))))\n",
    "\n",
    "\n",
    "# def plot_decision_regions(X, y, classifier, test_idx=None, resolution=0.02):\n",
    "\n",
    "#     # setup marker generator and color map\n",
    "#     markers = ('s', 'x', 'o', '^', 'v')\n",
    "#     colors = ('red', 'blue', 'lightgreen', 'gray', 'cyan')\n",
    "#     cmap = ListedColormap(colors[:len(np.unique(y))])\n",
    "\n",
    "#     # plot the decision surface\n",
    "#     x1_min, x1_max = X[:, 0].min() - 1, X[:, 0].max() + 1\n",
    "#     x2_min, x2_max = X[:, 1].min() - 1, X[:, 1].max() + 1\n",
    "#     xx1, xx2 = np.meshgrid(np.arange(x1_min, x1_max, resolution),\n",
    "#                            np.arange(x2_min, x2_max, resolution))\n",
    "#     Z = classifier.predict(np.array([xx1.ravel(), xx2.ravel()]).T)\n",
    "#     Z = Z.reshape(xx1.shape)\n",
    "#     plt.contourf(xx1, xx2, Z, alpha=0.4, cmap=cmap)\n",
    "#     plt.xlim(xx1.min(), xx1.max())\n",
    "#     plt.ylim(xx2.min(), xx2.max())\n",
    "\n",
    "#     for idx, cl in enumerate(np.unique(y)):\n",
    "#         plt.scatter(x=X[y == cl, 0], y=X[y == cl, 1],\n",
    "#                     alpha=0.8, c=np.array([cmap(idx)]),\n",
    "#                     marker=markers[idx], label=cl)\n",
    "\n",
    "#     # highlight test samples\n",
    "#     if test_idx:\n",
    "#         # plot all samples\n",
    "#         if not versiontuple(np.__version__) >= versiontuple('1.9.0'):\n",
    "#             X_test, y_test = X[list(test_idx), :], y[list(test_idx)]\n",
    "#             warnings.warn('Please update to NumPy 1.9.0 or newer')\n",
    "#         else:\n",
    "#             X_test, y_test = X[test_idx, :], y[test_idx]\n",
    "\n",
    "#         plt.scatter(X_test[:, 0],\n",
    "#                     X_test[:, 1],\n",
    "#                     alpha=0.15,\n",
    "#                     linewidths=2,\n",
    "#                     marker='^',\n",
    "#                     edgecolors='black',\n",
    "#                     facecolors='none',\n",
    "#                     s=55, label='test set')"
   ]
  },
  {
   "cell_type": "code",
   "execution_count": 10,
   "metadata": {},
   "outputs": [],
   "source": [
    "# from matplotlib.colors import ListedColormap\n",
    "# import matplotlib.pyplot as plt\n",
    "# from sklearn.linear_model import SGDRegressor\n",
    "# import numpy as np\n",
    "\n",
    "# # 假设 X_train、X_test、y_train、y_test 已经定义，并且具有10个特征\n",
    "\n",
    "# def batch_generator(X, y, batch_size=100):\n",
    "#     num_samples = len(X)\n",
    "#     indices = np.arange(num_samples)\n",
    "#     np.random.shuffle(indices)\n",
    "\n",
    "#     for i in range(0, num_samples, batch_size):\n",
    "#         batch_indices = indices[i:i + batch_size]\n",
    "#         yield X.iloc[batch_indices], y.iloc[batch_indices]\n",
    "\n",
    "# # 对数据集进行随机采样，保留部分数据\n",
    "# sample_size = 1000  # 你可以调整采样大小\n",
    "# random_indices = np.random.choice(len(X_train), sample_size, replace=False)\n",
    "\n",
    "# # 创建随机梯度下降线性回归模型\n",
    "# regressor = SGDRegressor()\n",
    "\n",
    "# # 逐批次加载数据进行模型训练\n",
    "# batch_size = 100  # 你可以调整批次大小\n",
    "\n",
    "# for X_batch, y_batch in batch_generator(X_train.iloc[random_indices], y_train.iloc[random_indices], batch_size=batch_size):\n",
    "#     regressor.partial_fit(X_batch, y_batch)\n",
    "\n",
    "# # 绘制决策区域\n",
    "# def plot_decision_regions(X, y, regressor, test_idx=None, resolution=0.02):\n",
    "#     markers = ('s', 'x')\n",
    "#     colors = ('red', 'blue')\n",
    "#     cmap = ListedColormap(colors[:len(np.unique(y))])\n",
    "\n",
    "#     # 选择两个特征进行绘制\n",
    "#     feature1_idx = 0\n",
    "#     feature2_idx = 1\n",
    "\n",
    "#     x1_min, x1_max = X.iloc[:, feature1_idx].min() - 1, X.iloc[:, feature1_idx].max() + 1\n",
    "#     x2_min, x2_max = X.iloc[:, feature2_idx].min() - 1, X.iloc[:, feature2_idx].max() + 1\n",
    "#     xx1, xx2 = np.meshgrid(np.arange(x1_min, x1_max, resolution),\n",
    "#                            np.arange(x2_min, x2_max, resolution))\n",
    "#     Z = regressor.predict(np.array([xx1.ravel(), xx2.ravel()] + [0] * (X.shape[1] - 2)).T)\n",
    "#     Z = Z.reshape(xx1.shape)\n",
    "#     plt.contourf(xx1, xx2, Z, alpha=0.4, cmap=cmap)\n",
    "#     plt.xlim(xx1.min(), xx1.max())\n",
    "#     plt.ylim(xx2.min(), xx2.max())\n",
    "\n",
    "#     for idx, cl in enumerate(np.unique(y)):\n",
    "#         plt.scatter(x=X[y == cl].iloc[:, feature1_idx], y=X[y == cl].iloc[:, feature2_idx],\n",
    "#                     alpha=0.8, c=np.array([cmap(idx)]),\n",
    "#                     marker=markers[idx], label=cl)\n",
    "\n",
    "#     # 突出显示测试样本\n",
    "#     if test_idx:\n",
    "#         X_test, y_test = X.iloc[test_idx, :], y.iloc[test_idx]\n",
    "#         plt.scatter(X_test.iloc[:, feature1_idx],\n",
    "#                     X_test.iloc[:, feature2_idx],\n",
    "#                     alpha=0.15,\n",
    "#                     linewidths=2,\n",
    "#                     marker='^',\n",
    "#                     edgecolors='black',\n",
    "#                     facecolors='none',\n",
    "#                     s=55, label='测试集')\n",
    "\n",
    "# # 将采样后的训练集和测试集组合起来以进行可视化\n",
    "# X_combined_sampled = pd.concat([X_train.iloc[random_indices], X_test], ignore_index=True)\n",
    "# y_combined_sampled = pd.concat([y_train.iloc[random_indices], y_test], ignore_index=True)\n",
    "\n",
    "# # 使用定义的函数绘制决策区域\n",
    "# plot_decision_regions(X_combined_sampled, y_combined_sampled, regressor=regressor)\n",
    "\n",
    "# # 添加标签和图例\n",
    "# plt.xlabel('特征 1')\n",
    "# plt.ylabel('特征 2')\n",
    "# plt.legend(loc='upper left')\n",
    "# plt.title('SGDRegressor 决策区域')\n",
    "\n",
    "# # 显示图形\n",
    "# plt.show()\n"
   ]
  },
  {
   "cell_type": "markdown",
   "metadata": {},
   "source": [
    "### Logistic regression\n",
    "- 提示：<span style='color:white'>from sklearn import linear_model('Gender') </span>"
   ]
  },
  {
   "cell_type": "code",
   "execution_count": 17,
   "metadata": {
    "collapsed": true,
    "jupyter": {
     "outputs_hidden": true
    }
   },
   "outputs": [
    {
     "name": "stdout",
     "output_type": "stream",
     "text": [
      "模型准确率: 0.9344991563123178\n",
      "分类报告:\n",
      "               precision    recall  f1-score   support\n",
      "\n",
      "           0       0.94      1.00      0.97     30407\n",
      "           1       0.63      0.06      0.11      2188\n",
      "\n",
      "    accuracy                           0.93     32595\n",
      "   macro avg       0.78      0.53      0.54     32595\n",
      "weighted avg       0.92      0.93      0.91     32595\n",
      "\n"
     ]
    }
   ],
   "source": [
    "## your code here\n",
    "\n",
    "from sklearn.linear_model import LogisticRegression\n",
    "from sklearn.metrics import accuracy_score, classification_report\n",
    "\n",
    "# 创建 Logistic Regression 模型，增加 max_iter 参数\n",
    "model = LogisticRegression(random_state=42, max_iter=1000)\n",
    "\n",
    "# 在训练集上训练模型\n",
    "model.fit(X_train, y_train)\n",
    "\n",
    "# 在测试集上进行预测\n",
    "y_pred = model.predict(X_test)\n",
    "\n",
    "# 计算模型的准确率\n",
    "accuracy = accuracy_score(y_test, y_pred)\n",
    "print(\"模型准确率:\", accuracy)\n",
    "\n",
    "# 输出分类报告\n",
    "print(\"分类报告:\\n\", classification_report(y_test, y_pred))\n",
    "\n"
   ]
  },
  {
   "cell_type": "code",
   "execution_count": 18,
   "metadata": {},
   "outputs": [
    {
     "ename": "NameError",
     "evalue": "name 'np' is not defined",
     "output_type": "error",
     "traceback": [
      "\u001b[0;31m---------------------------------------------------------------------------\u001b[0m",
      "\u001b[0;31mNameError\u001b[0m                                 Traceback (most recent call last)",
      "Cell \u001b[0;32mIn[18], line 5\u001b[0m\n\u001b[1;32m      2\u001b[0m difference \u001b[38;5;241m=\u001b[39m y_test \u001b[38;5;241m-\u001b[39m y_pred\n\u001b[1;32m      4\u001b[0m \u001b[38;5;66;03m# 计算差异数组中非零元素的占有率\u001b[39;00m\n\u001b[0;32m----> 5\u001b[0m non_zero_rate_difference \u001b[38;5;241m=\u001b[39m \u001b[43mnp\u001b[49m\u001b[38;5;241m.\u001b[39msum(difference \u001b[38;5;241m!=\u001b[39m \u001b[38;5;241m0\u001b[39m) \u001b[38;5;241m/\u001b[39m \u001b[38;5;28mlen\u001b[39m(difference)\n\u001b[1;32m      6\u001b[0m \u001b[38;5;28mprint\u001b[39m(\u001b[38;5;124m\"\u001b[39m\u001b[38;5;124my_test 和 y_pred 的差异中非零元素的占有率:\u001b[39m\u001b[38;5;124m\"\u001b[39m, non_zero_rate_difference)\n\u001b[1;32m      7\u001b[0m \u001b[38;5;241m1\u001b[39m\u001b[38;5;241m-\u001b[39mnon_zero_rate_difference\n",
      "\u001b[0;31mNameError\u001b[0m: name 'np' is not defined"
     ]
    }
   ],
   "source": [
    "# 计算 y_test 和 y_pred 的差异\n",
    "difference = y_test - y_pred\n",
    "\n",
    "# 计算差异数组中非零元素的占有率\n",
    "non_zero_rate_difference = np.sum(difference != 0) / len(difference)\n",
    "print(\"y_test 和 y_pred 的差异中非零元素的占有率:\", non_zero_rate_difference)\n",
    "1-non_zero_rate_difference\n",
    "\n"
   ]
  },
  {
   "cell_type": "markdown",
   "metadata": {},
   "source": [
    "### Decision Tree\n",
    "- 提示：<span style='color:white'>from sklearn.tree import DecisionTreeClassifier('Gender') </span>"
   ]
  },
  {
   "cell_type": "code",
   "execution_count": 13,
   "metadata": {
    "collapsed": true,
    "jupyter": {
     "outputs_hidden": true
    }
   },
   "outputs": [
    {
     "name": "stdout",
     "output_type": "stream",
     "text": [
      "决策树模型准确率: 0.8936953520478601\n",
      "分类报告:\n",
      "               precision    recall  f1-score   support\n",
      "\n",
      "           0       0.95      0.94      0.94     30407\n",
      "           1       0.24      0.26      0.25      2188\n",
      "\n",
      "    accuracy                           0.89     32595\n",
      "   macro avg       0.59      0.60      0.59     32595\n",
      "weighted avg       0.90      0.89      0.90     32595\n",
      "\n"
     ]
    }
   ],
   "source": [
    "## your code here\n",
    "\n",
    "from sklearn.tree import DecisionTreeClassifier\n",
    "from sklearn.metrics import accuracy_score, classification_report\n",
    "\n",
    "# 创建 Decision Tree 模型\n",
    "tree_model = DecisionTreeClassifier(random_state=42)\n",
    "\n",
    "# 在训练集上训练模型\n",
    "tree_model.fit(X_train, y_train)\n",
    "\n",
    "# 在测试集上进行预测\n",
    "y_pred_tree = tree_model.predict(X_test)\n",
    "\n",
    "# 计算模型的准确率\n",
    "accuracy_tree = accuracy_score(y_test, y_pred_tree)\n",
    "print(\"决策树模型准确率:\", accuracy_tree)\n",
    "\n",
    "# 输出分类报告\n",
    "print(\"分类报告:\\n\", classification_report(y_test, y_pred_tree))\n"
   ]
  },
  {
   "cell_type": "markdown",
   "metadata": {},
   "source": [
    "### Random Forest\n",
    "- 提示：<span style='color:white'>from sklearn.ensemble import RandomForestClassifier('Gender') </span>"
   ]
  },
  {
   "cell_type": "code",
   "execution_count": 14,
   "metadata": {
    "collapsed": true,
    "jupyter": {
     "outputs_hidden": true
    }
   },
   "outputs": [
    {
     "name": "stdout",
     "output_type": "stream",
     "text": [
      "随机森林模型准确率: 0.9351741064580457\n",
      "分类报告:\n",
      "               precision    recall  f1-score   support\n",
      "\n",
      "           0       0.94      0.99      0.97     30407\n",
      "           1       0.55      0.17      0.27      2188\n",
      "\n",
      "    accuracy                           0.94     32595\n",
      "   macro avg       0.75      0.58      0.62     32595\n",
      "weighted avg       0.92      0.94      0.92     32595\n",
      "\n"
     ]
    }
   ],
   "source": [
    "from sklearn.ensemble import RandomForestClassifier\n",
    "from sklearn.metrics import accuracy_score, classification_report\n",
    "\n",
    "# 创建 Random Forest 模型\n",
    "rf_model = RandomForestClassifier(random_state=42)\n",
    "\n",
    "# 在训练集上训练模型\n",
    "rf_model.fit(X_train, y_train)\n",
    "\n",
    "# 在测试集上进行预测\n",
    "y_pred_rf = rf_model.predict(X_test)\n",
    "\n",
    "# 计算模型的准确率\n",
    "accuracy_rf = accuracy_score(y_test, y_pred_rf)\n",
    "print(\"随机森林模型准确率:\", accuracy_rf)\n",
    "\n",
    "# 输出分类报告\n",
    "print(\"分类报告:\\n\", classification_report(y_test, y_pred_rf))\n"
   ]
  },
  {
   "cell_type": "markdown",
   "metadata": {},
   "source": [
    "### SVM\n",
    "- 提示：<span style='color:white'>from sklearn.svm import SVC('Gender') </span>"
   ]
  },
  {
   "cell_type": "code",
   "execution_count": 16,
   "metadata": {
    "collapsed": true,
    "jupyter": {
     "outputs_hidden": true
    }
   },
   "outputs": [
    {
     "name": "stdout",
     "output_type": "stream",
     "text": [
      "支持向量机模型准确率: 0.9328731400521553\n",
      "分类报告:\n",
      "               precision    recall  f1-score   support\n",
      "\n",
      "           0       0.93      1.00      0.97     30407\n",
      "           1       1.00      0.00      0.00      2188\n",
      "\n",
      "    accuracy                           0.93     32595\n",
      "   macro avg       0.97      0.50      0.48     32595\n",
      "weighted avg       0.94      0.93      0.90     32595\n",
      "\n"
     ]
    }
   ],
   "source": [
    "## your code here\n",
    "from sklearn.svm import SVC\n",
    "from sklearn.metrics import accuracy_score, classification_report\n",
    "\n",
    "# 创建支持向量机模型\n",
    "# svm_model = SVC(kernel='linear', random_state=42)  # 这个是线性核\n",
    "svm_model = SVC(random_state=42)\n",
    "\n",
    "\n",
    "# 在训练集上训练模型\n",
    "svm_model.fit(X_train, y_train)\n",
    "\n",
    "# 在测试集上进行预测\n",
    "y_pred_svm = svm_model.predict(X_test)\n",
    "\n",
    "# 计算模型的准确率 \n",
    "accuracy_svm = accuracy_score(y_test, y_pred_svm)\n",
    "print(\"支持向量机模型准确率:\", accuracy_svm)  \n",
    "\n",
    "# 输出分类报告\n",
    "print(\"分类报告:\\n\", classification_report(y_test, y_pred_svm, zero_division=1))\n",
    "\n",
    "# 耗时：40s ；+标准化：3min ；+标准化+线性核：6min\n"
   ]
  },
  {
   "cell_type": "markdown",
   "metadata": {},
   "source": [
    "### KNN\n",
    "- 提示：<span style='color:white'>from sklearn.neighbors import KNeighborsClassifier('Gender') </span>"
   ]
  },
  {
   "cell_type": "code",
   "execution_count": 16,
   "metadata": {
    "collapsed": true,
    "jupyter": {
     "outputs_hidden": true
    }
   },
   "outputs": [
    {
     "name": "stdout",
     "output_type": "stream",
     "text": [
      "KNN 模型准确率: 0.9315232397606995\n",
      "分类报告:\n",
      "               precision    recall  f1-score   support\n",
      "\n",
      "           0       0.93      1.00      0.96     30407\n",
      "           1       0.33      0.02      0.04      2188\n",
      "\n",
      "    accuracy                           0.93     32595\n",
      "   macro avg       0.63      0.51      0.50     32595\n",
      "weighted avg       0.89      0.93      0.90     32595\n",
      "\n"
     ]
    }
   ],
   "source": [
    "## your code here\n",
    "\n",
    "from sklearn.neighbors import KNeighborsClassifier\n",
    "from sklearn.metrics import accuracy_score, classification_report\n",
    "\n",
    "# 创建 KNN 模型\n",
    "knn_model = KNeighborsClassifier()\n",
    "\n",
    "# 在训练集上训练模型\n",
    "knn_model.fit(X_train, y_train)\n",
    "\n",
    "# 在测试集上进行预测\n",
    "y_pred_knn = knn_model.predict(X_test)\n",
    "\n",
    "# 计算模型的准确率\n",
    "accuracy_knn = accuracy_score(y_test, y_pred_knn)\n",
    "print(\"KNN 模型准确率:\", accuracy_knn)\n",
    "\n",
    "# 输出分类报告\n",
    "print(\"分类报告:\\n\", classification_report(y_test, y_pred_knn))\n"
   ]
  },
  {
   "cell_type": "markdown",
   "metadata": {},
   "source": [
    "---\n",
    "\n",
    "## 练习3：在测试集上进行预测，计算准确度"
   ]
  },
  {
   "cell_type": "markdown",
   "metadata": {},
   "source": [
    "### Logistic regression\n",
    "- 提示：<span style='color:white'>y_pred_LR = clf_LR.predict(x_test)('Gender') </span>"
   ]
  },
  {
   "cell_type": "code",
   "execution_count": 17,
   "metadata": {
    "collapsed": true,
    "jupyter": {
     "outputs_hidden": true
    }
   },
   "outputs": [
    {
     "name": "stdout",
     "output_type": "stream",
     "text": [
      "训练集 X 形状: (76053, 10)\n",
      "测试集 X 形状: (32595, 10)\n",
      "训练集 y 形状: (76053,)\n",
      "测试集 y 形状: (32595,)\n"
     ]
    },
    {
     "name": "stdout",
     "output_type": "stream",
     "text": [
      "Logistic Regression 模型准确度: 0.9344991563123178\n"
     ]
    }
   ],
   "source": [
    "## your code here\n",
    "\n",
    "\n",
    "\n",
    "# 利用 train_test_split 函数将数据集划分为训练集和测试集，其中 test_size 表示测试集占总数据集的比例\n",
    "X_train, X_test, y_train, y_test = train_test_split(X, y, test_size=0.3, random_state=42)\n",
    "\n",
    "# 输出训练集和测试集的形状\n",
    "print(\"训练集 X 形状:\", X_train.shape)\n",
    "print(\"测试集 X 形状:\", X_test.shape)\n",
    "print(\"训练集 y 形状:\", y_train.shape)\n",
    "print(\"测试集 y 形状:\", y_test.shape)\n",
    "\n",
    "# 创建 Logistic Regression 模型\n",
    "clf_LR = LogisticRegression(random_state=42, max_iter=1000)\n",
    "\n",
    "# 在训练集上训练模型\n",
    "clf_LR.fit(X_train, y_train)\n",
    "\n",
    "# 在测试集上进行预测\n",
    "y_pred_LR = clf_LR.predict(X_test)\n",
    "\n",
    "# 计算模型的准确度\n",
    "accuracy_LR = accuracy_score(y_test, y_pred_LR)\n",
    "print(\"Logistic Regression 模型准确度:\", accuracy_LR)\n",
    "\n"
   ]
  },
  {
   "cell_type": "markdown",
   "metadata": {},
   "source": [
    "### Decision Tree\n",
    "- 提示：<span style='color:white'>y_pred_tree = tree.predict(x_test)('Gender') </span>"
   ]
  },
  {
   "cell_type": "code",
   "execution_count": 18,
   "metadata": {
    "collapsed": true,
    "jupyter": {
     "outputs_hidden": true
    }
   },
   "outputs": [
    {
     "name": "stdout",
     "output_type": "stream",
     "text": [
      "Decision Tree 模型准确度: 0.8936953520478601\n"
     ]
    }
   ],
   "source": [
    "## your code here\n",
    "\n",
    "# 创建 Decision Tree 模型\n",
    "clf_tree = DecisionTreeClassifier(random_state=42)\n",
    "\n",
    "# 在训练集上训练模型\n",
    "clf_tree.fit(X_train, y_train)\n",
    "\n",
    "# 在测试集上进行预测\n",
    "y_pred_tree = clf_tree.predict(X_test)\n",
    "\n",
    "# 计算模型的准确度\n",
    "accuracy_tree = accuracy_score(y_test, y_pred_tree)\n",
    "print(\"Decision Tree 模型准确度:\", accuracy_tree)\n"
   ]
  },
  {
   "cell_type": "markdown",
   "metadata": {},
   "source": [
    "### Random Forest\n",
    "- 提示：<span style='color:white'>y_pred_forest = forest.predict(x_test)('Gender') </span>"
   ]
  },
  {
   "cell_type": "code",
   "execution_count": 19,
   "metadata": {
    "collapsed": true,
    "jupyter": {
     "outputs_hidden": true
    }
   },
   "outputs": [
    {
     "name": "stdout",
     "output_type": "stream",
     "text": [
      "Random Forest 模型准确度: 0.9351741064580457\n"
     ]
    }
   ],
   "source": [
    "## your code here\n",
    "\n",
    "# 创建 Random Forest 模型\n",
    "clf_forest = RandomForestClassifier(random_state=42)\n",
    "\n",
    "# 在训练集上训练模型\n",
    "clf_forest.fit(X_train, y_train)\n",
    "\n",
    "# 在测试集上进行预测\n",
    "y_pred_forest = clf_forest.predict(X_test)\n",
    "\n",
    "# 计算模型的准确度\n",
    "accuracy_forest = accuracy_score(y_test, y_pred_forest)\n",
    "print(\"Random Forest 模型准确度:\", accuracy_forest)\n"
   ]
  },
  {
   "cell_type": "markdown",
   "metadata": {},
   "source": [
    "### SVM\n",
    "- 提示：<span style='color:white'>y_pred_SVC = clf_svc.predict(x_test)('Gender') </span>"
   ]
  },
  {
   "cell_type": "code",
   "execution_count": 20,
   "metadata": {
    "collapsed": true,
    "jupyter": {
     "outputs_hidden": true
    }
   },
   "outputs": [
    {
     "name": "stdout",
     "output_type": "stream",
     "text": [
      "SVM 模型准确度: 0.9328731400521553\n"
     ]
    }
   ],
   "source": [
    "## your code here\n",
    "\n",
    "# 创建 SVM 模型\n",
    "clf_svc = SVC(random_state=42)\n",
    "\n",
    "# 在训练集上训练模型\n",
    "clf_svc.fit(X_train, y_train)\n",
    "\n",
    "# 在测试集上进行预测\n",
    "y_pred_svc = clf_svc.predict(X_test)\n",
    "\n",
    "# 计算模型的准确度\n",
    "accuracy_svc = accuracy_score(y_test, y_pred_svc)\n",
    "print(\"SVM 模型准确度:\", accuracy_svc)\n"
   ]
  },
  {
   "cell_type": "markdown",
   "metadata": {},
   "source": [
    "### KNN\n",
    "- 提示：<span style='color:white'>y_pred_KNN = neigh.predict(x_test)('Gender') </span>"
   ]
  },
  {
   "cell_type": "code",
   "execution_count": 21,
   "metadata": {
    "collapsed": true,
    "jupyter": {
     "outputs_hidden": true
    }
   },
   "outputs": [
    {
     "name": "stdout",
     "output_type": "stream",
     "text": [
      "KNN 模型准确度: 0.9315232397606995\n"
     ]
    }
   ],
   "source": [
    "## your code here\n",
    "\n",
    "# 创建 KNN 模型\n",
    "neigh = KNeighborsClassifier()\n",
    "\n",
    "# 在训练集上训练模型\n",
    "neigh.fit(X_train, y_train)\n",
    "\n",
    "# 在测试集上进行预测\n",
    "y_pred_KNN = neigh.predict(X_test)\n",
    "\n",
    "# 计算模型的准确度\n",
    "accuracy_KNN = accuracy_score(y_test, y_pred_KNN)\n",
    "print(\"KNN 模型准确度:\", accuracy_KNN)\n"
   ]
  },
  {
   "cell_type": "markdown",
   "metadata": {},
   "source": [
    "---\n",
    "## 练习4：查看sklearn的官方说明，了解分类问题的评估标准，并对此例进行评估"
   ]
  },
  {
   "cell_type": "markdown",
   "metadata": {},
   "source": [
    "**混淆矩阵（Confusion Matrix）相关学习链接**\n",
    "\n",
    "- Blog:<br>\n",
    "http://blog.csdn.net/vesper305/article/details/44927047<br>\n",
    "- WiKi:<br>\n",
    "http://en.wikipedia.org/wiki/Confusion_matrix<br>\n",
    "- sklearn doc:<br>\n",
    "http://scikit-learn.org/stable/modules/generated/sklearn.metrics.confusion_matrix.html"
   ]
  },
  {
   "cell_type": "markdown",
   "metadata": {},
   "source": [
    "Logistic Regression"
   ]
  },
  {
   "cell_type": "code",
   "execution_count": 21,
   "metadata": {},
   "outputs": [],
   "source": [
    "from sklearn.metrics import confusion_matrix, accuracy_score, classification_report\n",
    "from sklearn.model_selection import train_test_split\n",
    "from sklearn.preprocessing import StandardScaler"
   ]
  },
  {
   "cell_type": "code",
   "execution_count": 23,
   "metadata": {},
   "outputs": [
    {
     "name": "stdout",
     "output_type": "stream",
     "text": [
      "Logistic Regression 混淆矩阵:\n",
      " [[30342    65]\n",
      " [ 2090    98]]\n",
      "Logistic Regression 准确度: 0.9338855652707471\n",
      "Logistic Regression 分类报告:\n",
      "               precision    recall  f1-score   support\n",
      "\n",
      "           0       0.94      1.00      0.97     30407\n",
      "           1       0.60      0.04      0.08      2188\n",
      "\n",
      "    accuracy                           0.93     32595\n",
      "   macro avg       0.77      0.52      0.52     32595\n",
      "weighted avg       0.91      0.93      0.91     32595\n",
      "\n"
     ]
    }
   ],
   "source": [
    "## your code here\n",
    "from sklearn.linear_model import LogisticRegression\n",
    "\n",
    "\n",
    "# 数据标准化\n",
    "scaler = StandardScaler()\n",
    "X_train_scaled = scaler.fit_transform(X_train)\n",
    "X_test_scaled = scaler.transform(X_test)\n",
    "\n",
    "# 创建 Logistic Regression 模型\n",
    "logreg_model = LogisticRegression(random_state=42)\n",
    "\n",
    "# 在训练集上训练模型\n",
    "logreg_model.fit(X_train_scaled, y_train)\n",
    "\n",
    "# 在测试集上进行预测\n",
    "y_pred_logreg = logreg_model.predict(X_test_scaled)\n",
    "\n",
    "# 生成混淆矩阵\n",
    "conf_matrix_logreg = confusion_matrix(y_test, y_pred_logreg)\n",
    "print(\"Logistic Regression 混淆矩阵:\\n\", conf_matrix_logreg)\n",
    "\n",
    "# 计算准确度\n",
    "accuracy_logreg = accuracy_score(y_test, y_pred_logreg)\n",
    "print(\"Logistic Regression 准确度:\", accuracy_logreg)\n",
    "\n",
    "# 输出分类报告\n",
    "print(\"Logistic Regression 分类报告:\\n\", classification_report(y_test, y_pred_logreg))\n",
    "\n",
    "\n",
    "# 输出\n",
    "# True Negative (TN): 30342（模型正确预测为负类别的样本数）\n",
    "# False Positive (FP): 65（模型错误预测为正类别的样本数）\n",
    "# False Negative (FN): 2090（模型错误预测为负类别的样本数）\n",
    "# True Positive (TP): 98（模型正确预测为正类别的样本数）\n",
    "\n",
    "\n",
    "#                     Actual Positive     Actual Negative\n",
    "# Predicted Positive       TP                FP\n",
    "# Predicted Negative       FN                TN"
   ]
  },
  {
   "cell_type": "markdown",
   "metadata": {},
   "source": [
    "Decision Tree"
   ]
  },
  {
   "cell_type": "code",
   "execution_count": 24,
   "metadata": {},
   "outputs": [
    {
     "name": "stdout",
     "output_type": "stream",
     "text": [
      "决策树混淆矩阵:\n",
      " [[28563  1844]\n",
      " [ 1621   567]]\n",
      "决策树准确度: 0.8936953520478601\n",
      "决策树分类报告:\n",
      "               precision    recall  f1-score   support\n",
      "\n",
      "           0       0.95      0.94      0.94     30407\n",
      "           1       0.24      0.26      0.25      2188\n",
      "\n",
      "    accuracy                           0.89     32595\n",
      "   macro avg       0.59      0.60      0.59     32595\n",
      "weighted avg       0.90      0.89      0.90     32595\n",
      "\n"
     ]
    }
   ],
   "source": [
    "# 决策树\n",
    "from sklearn.tree import DecisionTreeClassifier\n",
    "\n",
    "\n",
    "# 创建决策树模型\n",
    "tree_classifier = DecisionTreeClassifier(random_state=42)\n",
    "\n",
    "# 在训练集上训练模型\n",
    "tree_classifier.fit(X_train, y_train)\n",
    "\n",
    "# 在测试集上进行预测\n",
    "y_pred_tree = tree_classifier.predict(X_test)\n",
    "\n",
    "# 生成混淆矩阵\n",
    "conf_matrix_tree = confusion_matrix(y_test, y_pred_tree)\n",
    "print(\"决策树混淆矩阵:\\n\", conf_matrix_tree)\n",
    "\n",
    "# 计算准确度\n",
    "accuracy_tree = accuracy_score(y_test, y_pred_tree)\n",
    "print(\"决策树准确度:\", accuracy_tree)\n",
    "\n",
    "# 输出分类报告\n",
    "print(\"决策树分类报告:\\n\", classification_report(y_test, y_pred_tree))"
   ]
  },
  {
   "cell_type": "markdown",
   "metadata": {},
   "source": [
    "随机森林"
   ]
  },
  {
   "cell_type": "code",
   "execution_count": 25,
   "metadata": {},
   "outputs": [
    {
     "name": "stdout",
     "output_type": "stream",
     "text": [
      "随机森林混淆矩阵:\n",
      " [[30100   307]\n",
      " [ 1806   382]]\n",
      "随机森林准确度: 0.9351741064580457\n",
      "随机森林分类报告:\n",
      "               precision    recall  f1-score   support\n",
      "\n",
      "           0       0.94      0.99      0.97     30407\n",
      "           1       0.55      0.17      0.27      2188\n",
      "\n",
      "    accuracy                           0.94     32595\n",
      "   macro avg       0.75      0.58      0.62     32595\n",
      "weighted avg       0.92      0.94      0.92     32595\n",
      "\n"
     ]
    }
   ],
   "source": [
    "# 随机森林\n",
    "from sklearn.ensemble import RandomForestClassifier\n",
    "\n",
    "\n",
    "# 创建随机森林模型\n",
    "forest_classifier = RandomForestClassifier(random_state=42)\n",
    "\n",
    "# 在训练集上训练模型\n",
    "forest_classifier.fit(X_train, y_train)\n",
    "\n",
    "# 在测试集上进行预测\n",
    "y_pred_forest = forest_classifier.predict(X_test)\n",
    "\n",
    "# 生成混淆矩阵\n",
    "conf_matrix_forest = confusion_matrix(y_test, y_pred_forest)\n",
    "print(\"随机森林混淆矩阵:\\n\", conf_matrix_forest)\n",
    "\n",
    "# 计算准确度\n",
    "accuracy_forest = accuracy_score(y_test, y_pred_forest)\n",
    "print(\"随机森林准确度:\", accuracy_forest)\n",
    "\n",
    "# 输出分类报告\n",
    "print(\"随机森林分类报告:\\n\", classification_report(y_test, y_pred_forest))"
   ]
  },
  {
   "cell_type": "markdown",
   "metadata": {},
   "source": [
    "SVM"
   ]
  },
  {
   "cell_type": "code",
   "execution_count": 22,
   "metadata": {},
   "outputs": [
    {
     "name": "stdout",
     "output_type": "stream",
     "text": [
      "SVM混淆矩阵:\n",
      " [[30349    58]\n",
      " [ 2063   125]]\n",
      "SVM准确度: 0.9349286700414174\n",
      "SVM分类报告:\n",
      "               precision    recall  f1-score   support\n",
      "\n",
      "           0       0.94      1.00      0.97     30407\n",
      "           1       0.68      0.06      0.11      2188\n",
      "\n",
      "    accuracy                           0.93     32595\n",
      "   macro avg       0.81      0.53      0.54     32595\n",
      "weighted avg       0.92      0.93      0.91     32595\n",
      "\n"
     ]
    }
   ],
   "source": [
    "# SVM\n",
    "from sklearn.svm import SVC\n",
    "\n",
    "# 总结： 耗时：40s ；+标准化：3min ；+标准化+线性核：6min 。\n",
    "\n",
    "# 数据标准化\n",
    "scaler = StandardScaler()\n",
    "X_train_scaled = scaler.fit_transform(X_train)\n",
    "X_test_scaled = scaler.transform(X_test)\n",
    "\n",
    "# 创建支持向量机模型\n",
    "svm_model = SVC(random_state=42)\n",
    "\n",
    "# 在训练集上训练模型\n",
    "svm_model.fit(X_train_scaled, y_train)\n",
    "\n",
    "# 在测试集上进行预测\n",
    "y_pred_svm = svm_model.predict(X_test_scaled)\n",
    "\n",
    "# 生成混淆矩阵\n",
    "conf_matrix_svm = confusion_matrix(y_test, y_pred_svm)\n",
    "print(\"SVM混淆矩阵:\\n\", conf_matrix_svm)\n",
    "\n",
    "# 计算准确度\n",
    "accuracy_svm = accuracy_score(y_test, y_pred_svm)\n",
    "print(\"SVM准确度:\", accuracy_svm)\n",
    "\n",
    "# 输出分类报告\n",
    "print(\"SVM分类报告:\\n\", classification_report(y_test, y_pred_svm))"
   ]
  },
  {
   "cell_type": "markdown",
   "metadata": {},
   "source": [
    "KNN"
   ]
  },
  {
   "cell_type": "code",
   "execution_count": 27,
   "metadata": {
    "collapsed": true,
    "jupyter": {
     "outputs_hidden": true
    }
   },
   "outputs": [
    {
     "name": "stdout",
     "output_type": "stream",
     "text": [
      "KNN混淆矩阵:\n",
      " [[30167   240]\n",
      " [ 1930   258]]\n",
      "KNN准确度: 0.933425371989569\n",
      "KNN分类报告:\n",
      "               precision    recall  f1-score   support\n",
      "\n",
      "           0       0.94      0.99      0.97     30407\n",
      "           1       0.52      0.12      0.19      2188\n",
      "\n",
      "    accuracy                           0.93     32595\n",
      "   macro avg       0.73      0.56      0.58     32595\n",
      "weighted avg       0.91      0.93      0.91     32595\n",
      "\n"
     ]
    }
   ],
   "source": [
    "# KNN\n",
    "from sklearn.neighbors import KNeighborsClassifier\n",
    "\n",
    "\n",
    "# 数据标准化\n",
    "scaler = StandardScaler()\n",
    "X_train_scaled = scaler.fit_transform(X_train)\n",
    "X_test_scaled = scaler.transform(X_test)\n",
    "\n",
    "# 创建K近邻模型\n",
    "knn_classifier = KNeighborsClassifier()\n",
    "\n",
    "# 在训练集上训练模型\n",
    "knn_classifier.fit(X_train_scaled, y_train)\n",
    "\n",
    "# 在测试集上进行预测\n",
    "y_pred_knn = knn_classifier.predict(X_test_scaled)\n",
    "\n",
    "# 生成混淆矩阵\n",
    "conf_matrix_knn = confusion_matrix(y_test, y_pred_knn)\n",
    "print(\"KNN混淆矩阵:\\n\", conf_matrix_knn)\n",
    "\n",
    "# 计算准确度\n",
    "accuracy_knn = accuracy_score(y_test, y_pred_knn)\n",
    "print(\"KNN准确度:\", accuracy_knn)\n",
    "\n",
    "# 输出分类报告\n",
    "print(\"KNN分类报告:\\n\", classification_report(y_test, y_pred_knn))\n"
   ]
  },
  {
   "cell_type": "markdown",
   "metadata": {},
   "source": [
    "## 练习5：调整模型的标准\n",
    "\n",
    "银行通常会有更严格的要求，因为fraud带来的后果通常比较严重，一般我们会调整模型的标准。<br>\n",
    "\n",
    "比如在logistic regression当中，一般我们的概率判定边界为0.5，但是我们可以把阈值设定低一些，来提高模型的“敏感度”，试试看把阈值设定为0.3，再看看这时的评估指标(主要是准确率和召回率)。\n",
    "\n",
    "- 提示：<span style='color:white'>sklearn的很多分类模型，predict_prob可以拿到预估的概率，可以根据它和设定的阈值大小去判断最终结果(分类类别)('Gender') </span>"
   ]
  },
  {
   "cell_type": "code",
   "execution_count": 29,
   "metadata": {},
   "outputs": [
    {
     "name": "stdout",
     "output_type": "stream",
     "text": [
      "默认阈值下的准确率: 0.9344991563123178\n",
      "默认阈值下的召回率: 0.058957952468007314\n",
      "默认阈值下的精确度: 0.6292682926829268\n",
      "\n",
      "将阈值调整为 0.3 后的准确率: 0.933425371989569\n",
      "将阈值调整为 0.3 后的召回率: 0.12522851919561243\n",
      "将阈值调整为 0.3 后的精确度: 0.5169811320754717\n",
      "\n",
      "调整阈值后的混淆矩阵:\n",
      " [[30151   256]\n",
      " [ 1914   274]]\n"
     ]
    }
   ],
   "source": [
    "## your code here\n",
    "\n",
    "from sklearn.metrics import accuracy_score, recall_score, precision_score, confusion_matrix\n",
    "\n",
    "\n",
    "\n",
    "from sklearn.linear_model import LogisticRegression\n",
    "from sklearn.metrics import accuracy_score, recall_score, precision_score, confusion_matrix\n",
    "\n",
    "# 假设 X_train, X_test, y_train, y_test 已经定义\n",
    "\n",
    "# 创建 Logistic Regression 模型\n",
    "model = LogisticRegression(random_state=42, max_iter=1000)\n",
    "\n",
    "# 在训练集上训练模型\n",
    "model.fit(X_train, y_train)\n",
    "\n",
    "# 在测试集上进行预测，默认阈值为0.5\n",
    "y_pred_default = model.predict(X_test)\n",
    "\n",
    "# 计算默认阈值下的评估指标\n",
    "accuracy_default = accuracy_score(y_test, y_pred_default)\n",
    "recall_default = recall_score(y_test, y_pred_default)\n",
    "precision_default = precision_score(y_test, y_pred_default)\n",
    "\n",
    "# 打印默认阈值下的评估指标\n",
    "print(\"默认阈值下的准确率:\", accuracy_default)\n",
    "print(\"默认阈值下的召回率:\", recall_default)\n",
    "print(\"默认阈值下的精确度:\", precision_default)\n",
    "\n",
    "# 将阈值调整为0.3\n",
    "threshold = 0.3\n",
    "y_pred_adjusted = (model.predict_proba(X_test)[:, 1] > threshold).astype(int)\n",
    "\n",
    "# 计算调整阈值后的评估指标\n",
    "accuracy_adjusted = accuracy_score(y_test, y_pred_adjusted)\n",
    "recall_adjusted = recall_score(y_test, y_pred_adjusted)\n",
    "precision_adjusted = precision_score(y_test, y_pred_adjusted)\n",
    "\n",
    "# 打印调整阈值后的评估指标\n",
    "print(f\"\\n将阈值调整为 {threshold} 后的准确率:\", accuracy_adjusted)\n",
    "print(f\"将阈值调整为 {threshold} 后的召回率:\", recall_adjusted)\n",
    "print(f\"将阈值调整为 {threshold} 后的精确度:\", precision_adjusted)\n",
    "\n",
    "# 输出混淆矩阵\n",
    "conf_matrix_adjusted = confusion_matrix(y_test, y_pred_adjusted)\n",
    "print(\"\\n调整阈值后的混淆矩阵:\\n\", conf_matrix_adjusted)\n",
    "\n",
    "\n"
   ]
  }
 ],
 "metadata": {
  "kernelspec": {
   "display_name": "base",
   "language": "python",
   "name": "python3"
  },
  "language_info": {
   "codemirror_mode": {
    "name": "ipython",
    "version": 3
   },
   "file_extension": ".py",
   "mimetype": "text/x-python",
   "name": "python",
   "nbconvert_exporter": "python",
   "pygments_lexer": "ipython3",
   "version": "3.11.6"
  }
 },
 "nbformat": 4,
 "nbformat_minor": 4
}
