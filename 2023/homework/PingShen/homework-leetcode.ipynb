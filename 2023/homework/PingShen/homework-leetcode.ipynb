{
 "cells": [
  {
   "cell_type": "markdown",
   "metadata": {},
   "source": [
    "# 434. 字符串中的单词数\n",
    "\n",
    "统计字符串中的单词个数，这里的单词指的是连续的不是空格的字符。\n",
    "\n",
    "请注意，你可以假定字符串里不包括任何不可打印的字符。"
   ]
  },
  {
   "cell_type": "code",
   "execution_count": 1,
   "metadata": {},
   "outputs": [
    {
     "data": {
      "text/plain": [
       "5"
      ]
     },
     "execution_count": 1,
     "metadata": {},
     "output_type": "execute_result"
    }
   ],
   "source": [
    "class Solution:\n",
    "    def countSegments(self, s):\n",
    "        #在末尾添加一个空格，可以将空串，空格结尾，字符结尾一起考虑\n",
    "        s+=' '\n",
    "        #初始计数为0\n",
    "        segment_count = 0\n",
    "        #进行空格判断\n",
    "        for i in range(len(s)):\n",
    "            #当s[i] != ' ' 且s[i+1]= ' '时，计数+1\n",
    "            if (s[i] != ' ') and s[i+1]== ' ':\n",
    "                #计数加1\n",
    "                segment_count += 1\n",
    "        return segment_count\n",
    "#测试\n",
    "s =\"  Hello, my name is John  \"\n",
    "mySolution=Solution()\n",
    "mySolution.countSegments(s)\n",
    "\n",
    "\n"
   ]
  },
  {
   "cell_type": "markdown",
   "metadata": {},
   "source": [
    "# 1869. 哪种连续子字符串更长\n",
    "\n",
    "给你一个二进制字符串 s 。如果字符串中由 1 组成的 最长 连续子字符串 严格长于 由 0 组成的 最长 连续子字符串，返回 true ；否则，返回 false 。\n",
    "\n",
    "例如，s = \"110100010\" 中，由 1 组成的最长连续子字符串的长度是 2 ，由 0 组成的最长连续子字符串的长度是 3 。\n",
    "注意，如果字符串中不存在 0 ，此时认为由 0 组成的最长连续子字符串的长度是 0 。字符串中不存在 1 的情况也适用此规则。"
   ]
  },
  {
   "cell_type": "code",
   "execution_count": 2,
   "metadata": {},
   "outputs": [
    {
     "data": {
      "text/plain": [
       "True"
      ]
     },
     "execution_count": 2,
     "metadata": {},
     "output_type": "execute_result"
    }
   ],
   "source": [
    "class Solution:\n",
    "    def checkZeroOnes(self, s)-> bool :\n",
    "        #将s以0分割\n",
    "        s0 = s.split('0')\n",
    "        #将s以1分割\n",
    "        s1 = s.split('1')\n",
    "        #计算由 0 组成的连续子字符串的长度\n",
    "        l0= [len(i) for i in s0]\n",
    "        #计算由 1 组成的连续子字符串的长度\n",
    "        l1= [len(j) for j in s1]\n",
    "        #最大值比较\n",
    "        return max(l0)>max(l1)\n",
    "#测试\n",
    "s =\"1110100\"\n",
    "mySolution=Solution()\n",
    "mySolution.checkZeroOnes(s)"
   ]
  },
  {
   "cell_type": "markdown",
   "metadata": {},
   "source": [
    "# 1784. 检查二进制字符串字段\n",
    "\n",
    "给你一个二进制字符串 s ，该字符串 不含前导零 。\n",
    "\n",
    "如果 s 包含 ‘11’ ，返回 true​​​ 。否则，返回 false 。\n",
    "\n",
    " "
   ]
  },
  {
   "cell_type": "code",
   "execution_count": 3,
   "metadata": {},
   "outputs": [
    {
     "data": {
      "text/plain": [
       "True"
      ]
     },
     "execution_count": 3,
     "metadata": {},
     "output_type": "execute_result"
    }
   ],
   "source": [
    "class Solution:\n",
    "    def checkOnesSegment(self, s) -> bool:\n",
    "        #先给字符串末尾补个0，判断是否含11项\n",
    "        return (s + \"0\").count(\"11\") != 0\n",
    "\n",
    "#测试\n",
    "s =\"11011\"\n",
    "mySolution=Solution()\n",
    "mySolution.checkOnesSegment(s)\n"
   ]
  },
  {
   "cell_type": "markdown",
   "metadata": {},
   "source": [
    "# 852.  山脉数组的峰顶索引\n",
    "\n",
    "\n",
    "符合下列属性的数组 arr 称为 山脉数组 ：\n",
    "\n",
    "arr.length >= 3\n",
    "\n",
    "存在 i（0 < i < arr.length - 1）使得：\n",
    "\n",
    "arr[0] < arr[1] < ... arr[i-1] < arr[i] \n",
    "\n",
    "arr[i] > arr[i+1] > ... > arr[arr.length - 1]\n",
    "\n",
    "给你由整数组成的山脉数组 arr ，\n",
    "返回满足 arr[0] < arr[1] < ... arr[i - 1] < arr[i] > arr[i + 1] > ... > arr[arr.length - 1] 的下标 i 。\n",
    "\n",
    " "
   ]
  },
  {
   "cell_type": "code",
   "execution_count": 4,
   "metadata": {},
   "outputs": [
    {
     "data": {
      "text/plain": [
       "4"
      ]
     },
     "execution_count": 4,
     "metadata": {},
     "output_type": "execute_result"
    }
   ],
   "source": [
    "\n",
    "class Solution:\n",
    "    def peakIndexInMountainArray(self, A):\n",
    "        #找最大值下标\n",
    "        return A.index(max(A))        \n",
    "#测试\n",
    "arr =[0,1,3,0,20]\n",
    "mySolution=Solution()\n",
    "mySolution.peakIndexInMountainArray(arr)\n"
   ]
  },
  {
   "cell_type": "markdown",
   "metadata": {},
   "source": [
    "# 162.  寻找峰值\n",
    "\n",
    "峰值元素是指其值严格大于左右相邻值的元素。\n",
    "\n",
    "给你一个整数数组 nums，找到峰值元素并返回其索引。数组可能包含多个峰值，在这种情况下，返回 任何一个峰值 所在位置即可。\n",
    "\n",
    "你可以假设 nums[-1] = nums[n] = -∞ 。\n",
    "\n",
    "你必须实现时间复杂度为 O(log n) 的算法来解决此问题。\n",
    "\n",
    " "
   ]
  },
  {
   "cell_type": "code",
   "execution_count": 5,
   "metadata": {},
   "outputs": [
    {
     "data": {
      "text/plain": [
       "4"
      ]
     },
     "execution_count": 5,
     "metadata": {},
     "output_type": "execute_result"
    }
   ],
   "source": [
    "class Solution:\n",
    "    def findPeakElement(self, nums) -> int:\n",
    "        #最大值肯定是峰值，故找最大值即可\n",
    "        #初始最大值索引为0\n",
    "        idx = 0\n",
    "        #遍历找最大值\n",
    "        for i in range(1, len(nums)):\n",
    "            #大小判断\n",
    "            if nums[i] > nums[idx]:\n",
    "                #最大值索引更新\n",
    "                idx = i\n",
    "        return idx\n",
    "\n",
    "#测试\n",
    "arr =[0,1,3,0,20]\n",
    "mySolution=Solution()\n",
    "mySolution.findPeakElement(arr)\n"
   ]
  }
 ],
 "metadata": {
  "kernelspec": {
   "display_name": "tdi",
   "language": "python",
   "name": "tdi"
  },
  "language_info": {
   "codemirror_mode": {
    "name": "ipython",
    "version": 3
   },
   "file_extension": ".py",
   "mimetype": "text/x-python",
   "name": "python",
   "nbconvert_exporter": "python",
   "pygments_lexer": "ipython3",
   "version": "3.9.16"
  }
 },
 "nbformat": 4,
 "nbformat_minor": 2
}
