{
 "cells": [
  {
   "cell_type": "markdown",
   "metadata": {},
   "source": [
    "# 一起来打怪之 Credit Scoring 练习"
   ]
  },
  {
   "cell_type": "markdown",
   "metadata": {},
   "source": [
    "-------\n",
    "## >>>说明：\n",
    "### 1. 答题步骤：\n",
    "- 回答问题**请保留每一步**操作过程，请不要仅仅给出最后答案\n",
    "- 请养成代码注释的好习惯\n",
    "\n",
    "### 2. 解题思路：\n",
    "- 为方便大家准确理解题目，在习题实战中有所收获，本文档提供了解题思路提示\n",
    "- 解题思路**仅供参考**，鼓励原创解题方法\n",
    "- 为督促同学们自己思考，解题思路内容设置为**注释**，请注意查看\n",
    "\n",
    "### 3. 所用数据：\n",
    "- 问题使用了多个数据库，请注意导入每个数据库后都先**查看和了解数据的基本性质**，后面的问题不再一一提醒"
   ]
  },
  {
   "cell_type": "markdown",
   "metadata": {},
   "source": [
    "--------\n",
    "## 操作题"
   ]
  },
  {
   "cell_type": "markdown",
   "metadata": {},
   "source": [
    "### 信用卡欺诈项目"
   ]
  },
  {
   "cell_type": "markdown",
   "metadata": {},
   "source": [
    " #### 前期数据导入,预览及处理(此部分勿修改，涉及的数据文件无需复制移动)"
   ]
  },
  {
   "cell_type": "code",
   "execution_count": 1,
   "metadata": {
    "tags": []
   },
   "outputs": [
    {
     "data": {
      "text/html": [
       "<div>\n",
       "<style scoped>\n",
       "    .dataframe tbody tr th:only-of-type {\n",
       "        vertical-align: middle;\n",
       "    }\n",
       "\n",
       "    .dataframe tbody tr th {\n",
       "        vertical-align: top;\n",
       "    }\n",
       "\n",
       "    .dataframe thead th {\n",
       "        text-align: right;\n",
       "    }\n",
       "</style>\n",
       "<table border=\"1\" class=\"dataframe\">\n",
       "  <thead>\n",
       "    <tr style=\"text-align: right;\">\n",
       "      <th></th>\n",
       "      <th>SeriousDlqin2yrs</th>\n",
       "      <th>RevolvingUtilizationOfUnsecuredLines</th>\n",
       "      <th>age</th>\n",
       "      <th>NumberOfTime30-59DaysPastDueNotWorse</th>\n",
       "      <th>DebtRatio</th>\n",
       "      <th>MonthlyIncome</th>\n",
       "      <th>NumberOfOpenCreditLinesAndLoans</th>\n",
       "      <th>NumberOfTimes90DaysLate</th>\n",
       "      <th>NumberRealEstateLoansOrLines</th>\n",
       "      <th>NumberOfTime60-89DaysPastDueNotWorse</th>\n",
       "      <th>NumberOfDependents</th>\n",
       "    </tr>\n",
       "  </thead>\n",
       "  <tbody>\n",
       "    <tr>\n",
       "      <th>0</th>\n",
       "      <td>1</td>\n",
       "      <td>0.766127</td>\n",
       "      <td>45.0</td>\n",
       "      <td>2.0</td>\n",
       "      <td>0.802982</td>\n",
       "      <td>9120.0</td>\n",
       "      <td>13.0</td>\n",
       "      <td>0.0</td>\n",
       "      <td>6.0</td>\n",
       "      <td>0.0</td>\n",
       "      <td>2.0</td>\n",
       "    </tr>\n",
       "    <tr>\n",
       "      <th>1</th>\n",
       "      <td>0</td>\n",
       "      <td>0.957151</td>\n",
       "      <td>40.0</td>\n",
       "      <td>0.0</td>\n",
       "      <td>0.121876</td>\n",
       "      <td>2600.0</td>\n",
       "      <td>4.0</td>\n",
       "      <td>0.0</td>\n",
       "      <td>0.0</td>\n",
       "      <td>0.0</td>\n",
       "      <td>1.0</td>\n",
       "    </tr>\n",
       "    <tr>\n",
       "      <th>2</th>\n",
       "      <td>0</td>\n",
       "      <td>0.658180</td>\n",
       "      <td>38.0</td>\n",
       "      <td>1.0</td>\n",
       "      <td>0.085113</td>\n",
       "      <td>3042.0</td>\n",
       "      <td>2.0</td>\n",
       "      <td>1.0</td>\n",
       "      <td>0.0</td>\n",
       "      <td>0.0</td>\n",
       "      <td>0.0</td>\n",
       "    </tr>\n",
       "    <tr>\n",
       "      <th>3</th>\n",
       "      <td>0</td>\n",
       "      <td>0.233810</td>\n",
       "      <td>30.0</td>\n",
       "      <td>0.0</td>\n",
       "      <td>0.036050</td>\n",
       "      <td>3300.0</td>\n",
       "      <td>5.0</td>\n",
       "      <td>0.0</td>\n",
       "      <td>0.0</td>\n",
       "      <td>0.0</td>\n",
       "      <td>0.0</td>\n",
       "    </tr>\n",
       "    <tr>\n",
       "      <th>4</th>\n",
       "      <td>0</td>\n",
       "      <td>0.907239</td>\n",
       "      <td>49.0</td>\n",
       "      <td>1.0</td>\n",
       "      <td>0.024926</td>\n",
       "      <td>63588.0</td>\n",
       "      <td>7.0</td>\n",
       "      <td>0.0</td>\n",
       "      <td>1.0</td>\n",
       "      <td>0.0</td>\n",
       "      <td>0.0</td>\n",
       "    </tr>\n",
       "  </tbody>\n",
       "</table>\n",
       "</div>"
      ],
      "text/plain": [
       "   SeriousDlqin2yrs  RevolvingUtilizationOfUnsecuredLines   age  \\\n",
       "0                 1                              0.766127  45.0   \n",
       "1                 0                              0.957151  40.0   \n",
       "2                 0                              0.658180  38.0   \n",
       "3                 0                              0.233810  30.0   \n",
       "4                 0                              0.907239  49.0   \n",
       "\n",
       "   NumberOfTime30-59DaysPastDueNotWorse  DebtRatio  MonthlyIncome  \\\n",
       "0                                   2.0   0.802982         9120.0   \n",
       "1                                   0.0   0.121876         2600.0   \n",
       "2                                   1.0   0.085113         3042.0   \n",
       "3                                   0.0   0.036050         3300.0   \n",
       "4                                   1.0   0.024926        63588.0   \n",
       "\n",
       "   NumberOfOpenCreditLinesAndLoans  NumberOfTimes90DaysLate  \\\n",
       "0                             13.0                      0.0   \n",
       "1                              4.0                      0.0   \n",
       "2                              2.0                      1.0   \n",
       "3                              5.0                      0.0   \n",
       "4                              7.0                      0.0   \n",
       "\n",
       "   NumberRealEstateLoansOrLines  NumberOfTime60-89DaysPastDueNotWorse  \\\n",
       "0                           6.0                                   0.0   \n",
       "1                           0.0                                   0.0   \n",
       "2                           0.0                                   0.0   \n",
       "3                           0.0                                   0.0   \n",
       "4                           1.0                                   0.0   \n",
       "\n",
       "   NumberOfDependents  \n",
       "0                 2.0  \n",
       "1                 1.0  \n",
       "2                 0.0  \n",
       "3                 0.0  \n",
       "4                 0.0  "
      ]
     },
     "execution_count": 1,
     "metadata": {},
     "output_type": "execute_result"
    }
   ],
   "source": [
    "import pandas as pd\n",
    "import seaborn as sns\n",
    "import numpy as np\n",
    "import matplotlib.pyplot as plt\n",
    "pd.set_option('display.max_columns', 500)\n",
    "import zipfile\n",
    "with zipfile.ZipFile('KaggleCredit2.csv.zip', 'r') as z:\n",
    "    f = z.open('KaggleCredit2.csv')\n",
    "    data = pd.read_csv(f, index_col=0)\n",
    "data.head()"
   ]
  },
  {
   "cell_type": "code",
   "execution_count": 2,
   "metadata": {
    "collapsed": true,
    "jupyter": {
     "outputs_hidden": true
    }
   },
   "outputs": [
    {
     "data": {
      "text/plain": [
       "(112915, 11)"
      ]
     },
     "execution_count": 2,
     "metadata": {},
     "output_type": "execute_result"
    }
   ],
   "source": [
    "# 检查数据维度\n",
    "data.shape"
   ]
  },
  {
   "cell_type": "code",
   "execution_count": 3,
   "metadata": {
    "collapsed": true,
    "jupyter": {
     "outputs_hidden": true
    }
   },
   "outputs": [
    {
     "data": {
      "text/plain": [
       "SeriousDlqin2yrs                           0\n",
       "RevolvingUtilizationOfUnsecuredLines       0\n",
       "age                                     4267\n",
       "NumberOfTime30-59DaysPastDueNotWorse       0\n",
       "DebtRatio                                  0\n",
       "MonthlyIncome                              0\n",
       "NumberOfOpenCreditLinesAndLoans            0\n",
       "NumberOfTimes90DaysLate                    0\n",
       "NumberRealEstateLoansOrLines               0\n",
       "NumberOfTime60-89DaysPastDueNotWorse       0\n",
       "NumberOfDependents                      4267\n",
       "dtype: int64"
      ]
     },
     "execution_count": 3,
     "metadata": {},
     "output_type": "execute_result"
    }
   ],
   "source": [
    "# 查看数据缺失值情况\n",
    "data.isnull().sum(axis=0)"
   ]
  },
  {
   "cell_type": "code",
   "execution_count": 4,
   "metadata": {
    "collapsed": true,
    "jupyter": {
     "outputs_hidden": true
    }
   },
   "outputs": [
    {
     "name": "stderr",
     "output_type": "stream",
     "text": [
      "/tmp/ipykernel_814457/2980780030.py:3: UserWarning: Pandas doesn't allow columns to be created via a new attribute name - see https://pandas.pydata.org/pandas-docs/stable/indexing.html#attribute-access\n",
      "  data.shapey = data['SeriousDlqin2yrs']\n"
     ]
    }
   ],
   "source": [
    "# 清除缺失值\n",
    "data.dropna(inplace=True)\n",
    "data.shapey = data['SeriousDlqin2yrs']\n",
    "X = data.drop('SeriousDlqin2yrs', axis=1)"
   ]
  },
  {
   "cell_type": "code",
   "execution_count": 5,
   "metadata": {
    "collapsed": true,
    "jupyter": {
     "outputs_hidden": true
    }
   },
   "outputs": [
    {
     "data": {
      "text/plain": [
       "0.06742876076872101"
      ]
     },
     "execution_count": 5,
     "metadata": {},
     "output_type": "execute_result"
    }
   ],
   "source": [
    "# 取出对应的X和y\n",
    "y = data['SeriousDlqin2yrs']\n",
    "X = data.drop('SeriousDlqin2yrs', axis=1)\n",
    "# 查看平均的欺诈率\n",
    "y.mean()"
   ]
  },
  {
   "cell_type": "code",
   "execution_count": 6,
   "metadata": {},
   "outputs": [
    {
     "data": {
      "text/html": [
       "<div>\n",
       "<style scoped>\n",
       "    .dataframe tbody tr th:only-of-type {\n",
       "        vertical-align: middle;\n",
       "    }\n",
       "\n",
       "    .dataframe tbody tr th {\n",
       "        vertical-align: top;\n",
       "    }\n",
       "\n",
       "    .dataframe thead th {\n",
       "        text-align: right;\n",
       "    }\n",
       "</style>\n",
       "<table border=\"1\" class=\"dataframe\">\n",
       "  <thead>\n",
       "    <tr style=\"text-align: right;\">\n",
       "      <th></th>\n",
       "      <th>RevolvingUtilizationOfUnsecuredLines</th>\n",
       "      <th>age</th>\n",
       "      <th>NumberOfTime30-59DaysPastDueNotWorse</th>\n",
       "      <th>DebtRatio</th>\n",
       "      <th>MonthlyIncome</th>\n",
       "      <th>NumberOfOpenCreditLinesAndLoans</th>\n",
       "      <th>NumberOfTimes90DaysLate</th>\n",
       "      <th>NumberRealEstateLoansOrLines</th>\n",
       "      <th>NumberOfTime60-89DaysPastDueNotWorse</th>\n",
       "      <th>NumberOfDependents</th>\n",
       "    </tr>\n",
       "  </thead>\n",
       "  <tbody>\n",
       "    <tr>\n",
       "      <th>0</th>\n",
       "      <td>0.766127</td>\n",
       "      <td>45.0</td>\n",
       "      <td>2.0</td>\n",
       "      <td>0.802982</td>\n",
       "      <td>9120.0</td>\n",
       "      <td>13.0</td>\n",
       "      <td>0.0</td>\n",
       "      <td>6.0</td>\n",
       "      <td>0.0</td>\n",
       "      <td>2.0</td>\n",
       "    </tr>\n",
       "    <tr>\n",
       "      <th>1</th>\n",
       "      <td>0.957151</td>\n",
       "      <td>40.0</td>\n",
       "      <td>0.0</td>\n",
       "      <td>0.121876</td>\n",
       "      <td>2600.0</td>\n",
       "      <td>4.0</td>\n",
       "      <td>0.0</td>\n",
       "      <td>0.0</td>\n",
       "      <td>0.0</td>\n",
       "      <td>1.0</td>\n",
       "    </tr>\n",
       "    <tr>\n",
       "      <th>2</th>\n",
       "      <td>0.658180</td>\n",
       "      <td>38.0</td>\n",
       "      <td>1.0</td>\n",
       "      <td>0.085113</td>\n",
       "      <td>3042.0</td>\n",
       "      <td>2.0</td>\n",
       "      <td>1.0</td>\n",
       "      <td>0.0</td>\n",
       "      <td>0.0</td>\n",
       "      <td>0.0</td>\n",
       "    </tr>\n",
       "    <tr>\n",
       "      <th>3</th>\n",
       "      <td>0.233810</td>\n",
       "      <td>30.0</td>\n",
       "      <td>0.0</td>\n",
       "      <td>0.036050</td>\n",
       "      <td>3300.0</td>\n",
       "      <td>5.0</td>\n",
       "      <td>0.0</td>\n",
       "      <td>0.0</td>\n",
       "      <td>0.0</td>\n",
       "      <td>0.0</td>\n",
       "    </tr>\n",
       "    <tr>\n",
       "      <th>4</th>\n",
       "      <td>0.907239</td>\n",
       "      <td>49.0</td>\n",
       "      <td>1.0</td>\n",
       "      <td>0.024926</td>\n",
       "      <td>63588.0</td>\n",
       "      <td>7.0</td>\n",
       "      <td>0.0</td>\n",
       "      <td>1.0</td>\n",
       "      <td>0.0</td>\n",
       "      <td>0.0</td>\n",
       "    </tr>\n",
       "    <tr>\n",
       "      <th>...</th>\n",
       "      <td>...</td>\n",
       "      <td>...</td>\n",
       "      <td>...</td>\n",
       "      <td>...</td>\n",
       "      <td>...</td>\n",
       "      <td>...</td>\n",
       "      <td>...</td>\n",
       "      <td>...</td>\n",
       "      <td>...</td>\n",
       "      <td>...</td>\n",
       "    </tr>\n",
       "    <tr>\n",
       "      <th>112910</th>\n",
       "      <td>0.385742</td>\n",
       "      <td>50.0</td>\n",
       "      <td>0.0</td>\n",
       "      <td>0.404293</td>\n",
       "      <td>3400.0</td>\n",
       "      <td>7.0</td>\n",
       "      <td>0.0</td>\n",
       "      <td>0.0</td>\n",
       "      <td>0.0</td>\n",
       "      <td>0.0</td>\n",
       "    </tr>\n",
       "    <tr>\n",
       "      <th>112911</th>\n",
       "      <td>0.040674</td>\n",
       "      <td>74.0</td>\n",
       "      <td>0.0</td>\n",
       "      <td>0.225131</td>\n",
       "      <td>2100.0</td>\n",
       "      <td>4.0</td>\n",
       "      <td>0.0</td>\n",
       "      <td>1.0</td>\n",
       "      <td>0.0</td>\n",
       "      <td>0.0</td>\n",
       "    </tr>\n",
       "    <tr>\n",
       "      <th>112912</th>\n",
       "      <td>0.299745</td>\n",
       "      <td>44.0</td>\n",
       "      <td>0.0</td>\n",
       "      <td>0.716562</td>\n",
       "      <td>5584.0</td>\n",
       "      <td>4.0</td>\n",
       "      <td>0.0</td>\n",
       "      <td>1.0</td>\n",
       "      <td>0.0</td>\n",
       "      <td>2.0</td>\n",
       "    </tr>\n",
       "    <tr>\n",
       "      <th>112913</th>\n",
       "      <td>0.000000</td>\n",
       "      <td>30.0</td>\n",
       "      <td>0.0</td>\n",
       "      <td>0.000000</td>\n",
       "      <td>5716.0</td>\n",
       "      <td>4.0</td>\n",
       "      <td>0.0</td>\n",
       "      <td>0.0</td>\n",
       "      <td>0.0</td>\n",
       "      <td>0.0</td>\n",
       "    </tr>\n",
       "    <tr>\n",
       "      <th>112914</th>\n",
       "      <td>0.850283</td>\n",
       "      <td>64.0</td>\n",
       "      <td>0.0</td>\n",
       "      <td>0.249908</td>\n",
       "      <td>8158.0</td>\n",
       "      <td>8.0</td>\n",
       "      <td>0.0</td>\n",
       "      <td>2.0</td>\n",
       "      <td>0.0</td>\n",
       "      <td>0.0</td>\n",
       "    </tr>\n",
       "  </tbody>\n",
       "</table>\n",
       "<p>108648 rows × 10 columns</p>\n",
       "</div>"
      ],
      "text/plain": [
       "        RevolvingUtilizationOfUnsecuredLines   age  \\\n",
       "0                                   0.766127  45.0   \n",
       "1                                   0.957151  40.0   \n",
       "2                                   0.658180  38.0   \n",
       "3                                   0.233810  30.0   \n",
       "4                                   0.907239  49.0   \n",
       "...                                      ...   ...   \n",
       "112910                              0.385742  50.0   \n",
       "112911                              0.040674  74.0   \n",
       "112912                              0.299745  44.0   \n",
       "112913                              0.000000  30.0   \n",
       "112914                              0.850283  64.0   \n",
       "\n",
       "        NumberOfTime30-59DaysPastDueNotWorse  DebtRatio  MonthlyIncome  \\\n",
       "0                                        2.0   0.802982         9120.0   \n",
       "1                                        0.0   0.121876         2600.0   \n",
       "2                                        1.0   0.085113         3042.0   \n",
       "3                                        0.0   0.036050         3300.0   \n",
       "4                                        1.0   0.024926        63588.0   \n",
       "...                                      ...        ...            ...   \n",
       "112910                                   0.0   0.404293         3400.0   \n",
       "112911                                   0.0   0.225131         2100.0   \n",
       "112912                                   0.0   0.716562         5584.0   \n",
       "112913                                   0.0   0.000000         5716.0   \n",
       "112914                                   0.0   0.249908         8158.0   \n",
       "\n",
       "        NumberOfOpenCreditLinesAndLoans  NumberOfTimes90DaysLate  \\\n",
       "0                                  13.0                      0.0   \n",
       "1                                   4.0                      0.0   \n",
       "2                                   2.0                      1.0   \n",
       "3                                   5.0                      0.0   \n",
       "4                                   7.0                      0.0   \n",
       "...                                 ...                      ...   \n",
       "112910                              7.0                      0.0   \n",
       "112911                              4.0                      0.0   \n",
       "112912                              4.0                      0.0   \n",
       "112913                              4.0                      0.0   \n",
       "112914                              8.0                      0.0   \n",
       "\n",
       "        NumberRealEstateLoansOrLines  NumberOfTime60-89DaysPastDueNotWorse  \\\n",
       "0                                6.0                                   0.0   \n",
       "1                                0.0                                   0.0   \n",
       "2                                0.0                                   0.0   \n",
       "3                                0.0                                   0.0   \n",
       "4                                1.0                                   0.0   \n",
       "...                              ...                                   ...   \n",
       "112910                           0.0                                   0.0   \n",
       "112911                           1.0                                   0.0   \n",
       "112912                           1.0                                   0.0   \n",
       "112913                           0.0                                   0.0   \n",
       "112914                           2.0                                   0.0   \n",
       "\n",
       "        NumberOfDependents  \n",
       "0                      2.0  \n",
       "1                      1.0  \n",
       "2                      0.0  \n",
       "3                      0.0  \n",
       "4                      0.0  \n",
       "...                    ...  \n",
       "112910                 0.0  \n",
       "112911                 0.0  \n",
       "112912                 2.0  \n",
       "112913                 0.0  \n",
       "112914                 0.0  \n",
       "\n",
       "[108648 rows x 10 columns]"
      ]
     },
     "execution_count": 6,
     "metadata": {},
     "output_type": "execute_result"
    }
   ],
   "source": [
    "X "
   ]
  },
  {
   "cell_type": "code",
   "execution_count": 7,
   "metadata": {},
   "outputs": [
    {
     "data": {
      "text/plain": [
       "0         1\n",
       "1         0\n",
       "2         0\n",
       "3         0\n",
       "4         0\n",
       "         ..\n",
       "112910    0\n",
       "112911    0\n",
       "112912    0\n",
       "112913    0\n",
       "112914    0\n",
       "Name: SeriousDlqin2yrs, Length: 108648, dtype: int64"
      ]
     },
     "execution_count": 7,
     "metadata": {},
     "output_type": "execute_result"
    }
   ],
   "source": [
    "y"
   ]
  },
  {
   "cell_type": "markdown",
   "metadata": {},
   "source": [
    "### 以下为操作题"
   ]
  },
  {
   "cell_type": "markdown",
   "metadata": {},
   "source": [
    "#### 1.把数据切分成训练集和测试集"
   ]
  },
  {
   "cell_type": "code",
   "execution_count": 8,
   "metadata": {
    "collapsed": true,
    "jupyter": {
     "outputs_hidden": true
    }
   },
   "outputs": [
    {
     "data": {
      "text/plain": [
       "((76053, 10), (32595, 10), (76053,), (32595,))"
      ]
     },
     "execution_count": 8,
     "metadata": {},
     "output_type": "execute_result"
    }
   ],
   "source": [
    "from sklearn.model_selection import train_test_split\n",
    "X_train, X_test, y_train, y_test = train_test_split(X, y, test_size=0.3, shuffle=True, random_state=0)#70%的训练集，30%的测试集,random_state 随机切分的标记\n",
    "\n",
    "# 查看数据的维度\n",
    "X_train.shape, X_test.shape, y_train.shape, y_test.shape"
   ]
  },
  {
   "cell_type": "code",
   "execution_count": 9,
   "metadata": {
    "collapsed": true,
    "jupyter": {
     "outputs_hidden": true
    }
   },
   "outputs": [
    {
     "name": "stdout",
     "output_type": "stream",
     "text": [
      "SeriousDlqin2yrs\n",
      "0    101322\n",
      "1      7326\n",
      "Name: count, dtype: int64\n"
     ]
    },
    {
     "data": {
      "text/plain": [
       "<Axes: xlabel='SeriousDlqin2yrs'>"
      ]
     },
     "execution_count": 9,
     "metadata": {},
     "output_type": "execute_result"
    },
    {
     "data": {
      "image/png": "[encoded data removed]",
      "text/plain": [
       "<Figure size 640x480 with 1 Axes>"
      ]
     },
     "metadata": {},
     "output_type": "display_data"
    }
   ],
   "source": [
    "# 通过SeriousDlqin2yrs字段查看正负样本分布情况\n",
    "# 提示：value_counts\n",
    "print(y.value_counts())\n",
    "\n",
    "# 绘制两种类别的柱状图\n",
    "# 提示：dataframe可以直接plot(kind='bar')\n",
    "y.value_counts().plot(kind='bar')"
   ]
  },
  {
   "cell_type": "markdown",
   "metadata": {},
   "source": [
    "#### 2.数据预处理之离散化"
   ]
  },
  {
   "cell_type": "code",
   "execution_count": 10,
   "metadata": {},
   "outputs": [],
   "source": [
    "# 请对年龄按照3岁一个区间进行离散化\n",
    "# 提示：可以先计算出分桶边界，再基于pandas的cut函数进行离散化(分箱、分桶)"
   ]
  },
  {
   "cell_type": "code",
   "execution_count": 11,
   "metadata": {},
   "outputs": [
    {
     "data": {
      "text/plain": [
       "count    76053.000000\n",
       "mean        51.343129\n",
       "std         14.437048\n",
       "min          0.000000\n",
       "25%         41.000000\n",
       "50%         51.000000\n",
       "75%         62.000000\n",
       "max        103.000000\n",
       "Name: age, dtype: float64"
      ]
     },
     "execution_count": 11,
     "metadata": {},
     "output_type": "execute_result"
    }
   ],
   "source": [
    "#查看分桶边界\n",
    "X_train['age'].describe()"
   ]
  },
  {
   "cell_type": "code",
   "execution_count": 12,
   "metadata": {},
   "outputs": [
    {
     "data": {
      "text/plain": [
       "array([  0,   3,   6,   9,  12,  15,  18,  21,  24,  27,  30,  33,  36,\n",
       "        39,  42,  45,  48,  51,  54,  57,  60,  63,  66,  69,  72,  75,\n",
       "        78,  81,  84,  87,  90,  93,  96,  99, 102, 105])"
      ]
     },
     "execution_count": 12,
     "metadata": {},
     "output_type": "execute_result"
    }
   ],
   "source": [
    "bins=np.arange(0,106,3)#分箱\n",
    "bins"
   ]
  },
  {
   "cell_type": "code",
   "execution_count": 13,
   "metadata": {
    "collapsed": true,
    "jupyter": {
     "outputs_hidden": true
    }
   },
   "outputs": [],
   "source": [
    "X_train.loc[:,'age_bins']=pd.cut(X_train['age'],bins) #区间离散化\n",
    "X_test.loc[:,'age_bins']=pd.cut(X_test['age'],bins) #区间离散化"
   ]
  },
  {
   "cell_type": "code",
   "execution_count": 14,
   "metadata": {},
   "outputs": [
    {
     "data": {
      "text/plain": [
       "((76053, 11), (32595, 11), (76053,), (32595,))"
      ]
     },
     "execution_count": 14,
     "metadata": {},
     "output_type": "execute_result"
    }
   ],
   "source": [
    "# 查看新数据的维度\n",
    "X_train.shape, X_test.shape, y_train.shape, y_test.shape"
   ]
  },
  {
   "cell_type": "code",
   "execution_count": 15,
   "metadata": {},
   "outputs": [
    {
     "name": "stdout",
     "output_type": "stream",
     "text": [
      "         age  age_bins\n",
      "64329   27.0  (24, 27]\n",
      "70087   83.0  (81, 84]\n",
      "77642   72.0  (69, 72]\n",
      "6017    56.0  (54, 57]\n",
      "106521  83.0  (81, 84]\n",
      "...      ...       ...\n",
      "22092   48.0  (45, 48]\n",
      "47726   28.0  (27, 30]\n",
      "44326   67.0  (66, 69]\n",
      "45320   29.0  (27, 30]\n",
      "70966   58.0  (57, 60]\n",
      "\n",
      "[76053 rows x 2 columns]\n"
     ]
    }
   ],
   "source": [
    "print(X_train[['age','age_bins']])#查看区间离散化情况\n"
   ]
  },
  {
   "cell_type": "markdown",
   "metadata": {},
   "source": [
    "#### 3.数据预处理之独热向量编码"
   ]
  },
  {
   "cell_type": "code",
   "execution_count": 16,
   "metadata": {
    "collapsed": true,
    "jupyter": {
     "outputs_hidden": true
    }
   },
   "outputs": [
    {
     "data": {
      "text/html": [
       "<div>\n",
       "<style scoped>\n",
       "    .dataframe tbody tr th:only-of-type {\n",
       "        vertical-align: middle;\n",
       "    }\n",
       "\n",
       "    .dataframe tbody tr th {\n",
       "        vertical-align: top;\n",
       "    }\n",
       "\n",
       "    .dataframe thead th {\n",
       "        text-align: right;\n",
       "    }\n",
       "</style>\n",
       "<table border=\"1\" class=\"dataframe\">\n",
       "  <thead>\n",
       "    <tr style=\"text-align: right;\">\n",
       "      <th></th>\n",
       "      <th>RevolvingUtilizationOfUnsecuredLines</th>\n",
       "      <th>age</th>\n",
       "      <th>NumberOfTime30-59DaysPastDueNotWorse</th>\n",
       "      <th>DebtRatio</th>\n",
       "      <th>MonthlyIncome</th>\n",
       "      <th>NumberOfOpenCreditLinesAndLoans</th>\n",
       "      <th>NumberOfTimes90DaysLate</th>\n",
       "      <th>NumberRealEstateLoansOrLines</th>\n",
       "      <th>NumberOfTime60-89DaysPastDueNotWorse</th>\n",
       "      <th>NumberOfDependents</th>\n",
       "      <th>age_bins_(0, 3]</th>\n",
       "      <th>age_bins_(3, 6]</th>\n",
       "      <th>age_bins_(6, 9]</th>\n",
       "      <th>age_bins_(9, 12]</th>\n",
       "      <th>age_bins_(12, 15]</th>\n",
       "      <th>age_bins_(15, 18]</th>\n",
       "      <th>age_bins_(18, 21]</th>\n",
       "      <th>age_bins_(21, 24]</th>\n",
       "      <th>age_bins_(24, 27]</th>\n",
       "      <th>age_bins_(27, 30]</th>\n",
       "      <th>age_bins_(30, 33]</th>\n",
       "      <th>age_bins_(33, 36]</th>\n",
       "      <th>age_bins_(36, 39]</th>\n",
       "      <th>age_bins_(39, 42]</th>\n",
       "      <th>age_bins_(42, 45]</th>\n",
       "      <th>age_bins_(45, 48]</th>\n",
       "      <th>age_bins_(48, 51]</th>\n",
       "      <th>age_bins_(51, 54]</th>\n",
       "      <th>age_bins_(54, 57]</th>\n",
       "      <th>age_bins_(57, 60]</th>\n",
       "      <th>age_bins_(60, 63]</th>\n",
       "      <th>age_bins_(63, 66]</th>\n",
       "      <th>age_bins_(66, 69]</th>\n",
       "      <th>age_bins_(69, 72]</th>\n",
       "      <th>age_bins_(72, 75]</th>\n",
       "      <th>age_bins_(75, 78]</th>\n",
       "      <th>age_bins_(78, 81]</th>\n",
       "      <th>age_bins_(81, 84]</th>\n",
       "      <th>age_bins_(84, 87]</th>\n",
       "      <th>age_bins_(87, 90]</th>\n",
       "      <th>age_bins_(90, 93]</th>\n",
       "      <th>age_bins_(93, 96]</th>\n",
       "      <th>age_bins_(96, 99]</th>\n",
       "      <th>age_bins_(99, 102]</th>\n",
       "      <th>age_bins_(102, 105]</th>\n",
       "    </tr>\n",
       "  </thead>\n",
       "  <tbody>\n",
       "    <tr>\n",
       "      <th>64329</th>\n",
       "      <td>0.116959</td>\n",
       "      <td>27.0</td>\n",
       "      <td>0.0</td>\n",
       "      <td>0.326024</td>\n",
       "      <td>3100.0</td>\n",
       "      <td>7.0</td>\n",
       "      <td>0.0</td>\n",
       "      <td>0.0</td>\n",
       "      <td>0.0</td>\n",
       "      <td>1.0</td>\n",
       "      <td>False</td>\n",
       "      <td>False</td>\n",
       "      <td>False</td>\n",
       "      <td>False</td>\n",
       "      <td>False</td>\n",
       "      <td>False</td>\n",
       "      <td>False</td>\n",
       "      <td>False</td>\n",
       "      <td>True</td>\n",
       "      <td>False</td>\n",
       "      <td>False</td>\n",
       "      <td>False</td>\n",
       "      <td>False</td>\n",
       "      <td>False</td>\n",
       "      <td>False</td>\n",
       "      <td>False</td>\n",
       "      <td>False</td>\n",
       "      <td>False</td>\n",
       "      <td>False</td>\n",
       "      <td>False</td>\n",
       "      <td>False</td>\n",
       "      <td>False</td>\n",
       "      <td>False</td>\n",
       "      <td>False</td>\n",
       "      <td>False</td>\n",
       "      <td>False</td>\n",
       "      <td>False</td>\n",
       "      <td>False</td>\n",
       "      <td>False</td>\n",
       "      <td>False</td>\n",
       "      <td>False</td>\n",
       "      <td>False</td>\n",
       "      <td>False</td>\n",
       "      <td>False</td>\n",
       "      <td>False</td>\n",
       "    </tr>\n",
       "    <tr>\n",
       "      <th>70087</th>\n",
       "      <td>0.050666</td>\n",
       "      <td>83.0</td>\n",
       "      <td>0.0</td>\n",
       "      <td>0.177182</td>\n",
       "      <td>10000.0</td>\n",
       "      <td>9.0</td>\n",
       "      <td>0.0</td>\n",
       "      <td>1.0</td>\n",
       "      <td>0.0</td>\n",
       "      <td>0.0</td>\n",
       "      <td>False</td>\n",
       "      <td>False</td>\n",
       "      <td>False</td>\n",
       "      <td>False</td>\n",
       "      <td>False</td>\n",
       "      <td>False</td>\n",
       "      <td>False</td>\n",
       "      <td>False</td>\n",
       "      <td>False</td>\n",
       "      <td>False</td>\n",
       "      <td>False</td>\n",
       "      <td>False</td>\n",
       "      <td>False</td>\n",
       "      <td>False</td>\n",
       "      <td>False</td>\n",
       "      <td>False</td>\n",
       "      <td>False</td>\n",
       "      <td>False</td>\n",
       "      <td>False</td>\n",
       "      <td>False</td>\n",
       "      <td>False</td>\n",
       "      <td>False</td>\n",
       "      <td>False</td>\n",
       "      <td>False</td>\n",
       "      <td>False</td>\n",
       "      <td>False</td>\n",
       "      <td>False</td>\n",
       "      <td>True</td>\n",
       "      <td>False</td>\n",
       "      <td>False</td>\n",
       "      <td>False</td>\n",
       "      <td>False</td>\n",
       "      <td>False</td>\n",
       "      <td>False</td>\n",
       "      <td>False</td>\n",
       "    </tr>\n",
       "    <tr>\n",
       "      <th>77642</th>\n",
       "      <td>0.038865</td>\n",
       "      <td>72.0</td>\n",
       "      <td>0.0</td>\n",
       "      <td>0.016600</td>\n",
       "      <td>5722.0</td>\n",
       "      <td>7.0</td>\n",
       "      <td>0.0</td>\n",
       "      <td>0.0</td>\n",
       "      <td>0.0</td>\n",
       "      <td>0.0</td>\n",
       "      <td>False</td>\n",
       "      <td>False</td>\n",
       "      <td>False</td>\n",
       "      <td>False</td>\n",
       "      <td>False</td>\n",
       "      <td>False</td>\n",
       "      <td>False</td>\n",
       "      <td>False</td>\n",
       "      <td>False</td>\n",
       "      <td>False</td>\n",
       "      <td>False</td>\n",
       "      <td>False</td>\n",
       "      <td>False</td>\n",
       "      <td>False</td>\n",
       "      <td>False</td>\n",
       "      <td>False</td>\n",
       "      <td>False</td>\n",
       "      <td>False</td>\n",
       "      <td>False</td>\n",
       "      <td>False</td>\n",
       "      <td>False</td>\n",
       "      <td>False</td>\n",
       "      <td>False</td>\n",
       "      <td>True</td>\n",
       "      <td>False</td>\n",
       "      <td>False</td>\n",
       "      <td>False</td>\n",
       "      <td>False</td>\n",
       "      <td>False</td>\n",
       "      <td>False</td>\n",
       "      <td>False</td>\n",
       "      <td>False</td>\n",
       "      <td>False</td>\n",
       "      <td>False</td>\n",
       "      <td>False</td>\n",
       "    </tr>\n",
       "    <tr>\n",
       "      <th>6017</th>\n",
       "      <td>0.023513</td>\n",
       "      <td>56.0</td>\n",
       "      <td>0.0</td>\n",
       "      <td>0.266260</td>\n",
       "      <td>10500.0</td>\n",
       "      <td>8.0</td>\n",
       "      <td>0.0</td>\n",
       "      <td>2.0</td>\n",
       "      <td>0.0</td>\n",
       "      <td>3.0</td>\n",
       "      <td>False</td>\n",
       "      <td>False</td>\n",
       "      <td>False</td>\n",
       "      <td>False</td>\n",
       "      <td>False</td>\n",
       "      <td>False</td>\n",
       "      <td>False</td>\n",
       "      <td>False</td>\n",
       "      <td>False</td>\n",
       "      <td>False</td>\n",
       "      <td>False</td>\n",
       "      <td>False</td>\n",
       "      <td>False</td>\n",
       "      <td>False</td>\n",
       "      <td>False</td>\n",
       "      <td>False</td>\n",
       "      <td>False</td>\n",
       "      <td>False</td>\n",
       "      <td>True</td>\n",
       "      <td>False</td>\n",
       "      <td>False</td>\n",
       "      <td>False</td>\n",
       "      <td>False</td>\n",
       "      <td>False</td>\n",
       "      <td>False</td>\n",
       "      <td>False</td>\n",
       "      <td>False</td>\n",
       "      <td>False</td>\n",
       "      <td>False</td>\n",
       "      <td>False</td>\n",
       "      <td>False</td>\n",
       "      <td>False</td>\n",
       "      <td>False</td>\n",
       "      <td>False</td>\n",
       "      <td>False</td>\n",
       "    </tr>\n",
       "    <tr>\n",
       "      <th>106521</th>\n",
       "      <td>0.039350</td>\n",
       "      <td>83.0</td>\n",
       "      <td>0.0</td>\n",
       "      <td>0.195179</td>\n",
       "      <td>1700.0</td>\n",
       "      <td>3.0</td>\n",
       "      <td>0.0</td>\n",
       "      <td>0.0</td>\n",
       "      <td>0.0</td>\n",
       "      <td>0.0</td>\n",
       "      <td>False</td>\n",
       "      <td>False</td>\n",
       "      <td>False</td>\n",
       "      <td>False</td>\n",
       "      <td>False</td>\n",
       "      <td>False</td>\n",
       "      <td>False</td>\n",
       "      <td>False</td>\n",
       "      <td>False</td>\n",
       "      <td>False</td>\n",
       "      <td>False</td>\n",
       "      <td>False</td>\n",
       "      <td>False</td>\n",
       "      <td>False</td>\n",
       "      <td>False</td>\n",
       "      <td>False</td>\n",
       "      <td>False</td>\n",
       "      <td>False</td>\n",
       "      <td>False</td>\n",
       "      <td>False</td>\n",
       "      <td>False</td>\n",
       "      <td>False</td>\n",
       "      <td>False</td>\n",
       "      <td>False</td>\n",
       "      <td>False</td>\n",
       "      <td>False</td>\n",
       "      <td>False</td>\n",
       "      <td>True</td>\n",
       "      <td>False</td>\n",
       "      <td>False</td>\n",
       "      <td>False</td>\n",
       "      <td>False</td>\n",
       "      <td>False</td>\n",
       "      <td>False</td>\n",
       "      <td>False</td>\n",
       "    </tr>\n",
       "    <tr>\n",
       "      <th>...</th>\n",
       "      <td>...</td>\n",
       "      <td>...</td>\n",
       "      <td>...</td>\n",
       "      <td>...</td>\n",
       "      <td>...</td>\n",
       "      <td>...</td>\n",
       "      <td>...</td>\n",
       "      <td>...</td>\n",
       "      <td>...</td>\n",
       "      <td>...</td>\n",
       "      <td>...</td>\n",
       "      <td>...</td>\n",
       "      <td>...</td>\n",
       "      <td>...</td>\n",
       "      <td>...</td>\n",
       "      <td>...</td>\n",
       "      <td>...</td>\n",
       "      <td>...</td>\n",
       "      <td>...</td>\n",
       "      <td>...</td>\n",
       "      <td>...</td>\n",
       "      <td>...</td>\n",
       "      <td>...</td>\n",
       "      <td>...</td>\n",
       "      <td>...</td>\n",
       "      <td>...</td>\n",
       "      <td>...</td>\n",
       "      <td>...</td>\n",
       "      <td>...</td>\n",
       "      <td>...</td>\n",
       "      <td>...</td>\n",
       "      <td>...</td>\n",
       "      <td>...</td>\n",
       "      <td>...</td>\n",
       "      <td>...</td>\n",
       "      <td>...</td>\n",
       "      <td>...</td>\n",
       "      <td>...</td>\n",
       "      <td>...</td>\n",
       "      <td>...</td>\n",
       "      <td>...</td>\n",
       "      <td>...</td>\n",
       "      <td>...</td>\n",
       "      <td>...</td>\n",
       "      <td>...</td>\n",
       "    </tr>\n",
       "    <tr>\n",
       "      <th>22092</th>\n",
       "      <td>0.576336</td>\n",
       "      <td>48.0</td>\n",
       "      <td>1.0</td>\n",
       "      <td>0.303042</td>\n",
       "      <td>10750.0</td>\n",
       "      <td>17.0</td>\n",
       "      <td>0.0</td>\n",
       "      <td>1.0</td>\n",
       "      <td>0.0</td>\n",
       "      <td>3.0</td>\n",
       "      <td>False</td>\n",
       "      <td>False</td>\n",
       "      <td>False</td>\n",
       "      <td>False</td>\n",
       "      <td>False</td>\n",
       "      <td>False</td>\n",
       "      <td>False</td>\n",
       "      <td>False</td>\n",
       "      <td>False</td>\n",
       "      <td>False</td>\n",
       "      <td>False</td>\n",
       "      <td>False</td>\n",
       "      <td>False</td>\n",
       "      <td>False</td>\n",
       "      <td>False</td>\n",
       "      <td>True</td>\n",
       "      <td>False</td>\n",
       "      <td>False</td>\n",
       "      <td>False</td>\n",
       "      <td>False</td>\n",
       "      <td>False</td>\n",
       "      <td>False</td>\n",
       "      <td>False</td>\n",
       "      <td>False</td>\n",
       "      <td>False</td>\n",
       "      <td>False</td>\n",
       "      <td>False</td>\n",
       "      <td>False</td>\n",
       "      <td>False</td>\n",
       "      <td>False</td>\n",
       "      <td>False</td>\n",
       "      <td>False</td>\n",
       "      <td>False</td>\n",
       "      <td>False</td>\n",
       "      <td>False</td>\n",
       "    </tr>\n",
       "    <tr>\n",
       "      <th>47726</th>\n",
       "      <td>1.000000</td>\n",
       "      <td>28.0</td>\n",
       "      <td>0.0</td>\n",
       "      <td>0.068123</td>\n",
       "      <td>2700.0</td>\n",
       "      <td>2.0</td>\n",
       "      <td>0.0</td>\n",
       "      <td>0.0</td>\n",
       "      <td>0.0</td>\n",
       "      <td>0.0</td>\n",
       "      <td>False</td>\n",
       "      <td>False</td>\n",
       "      <td>False</td>\n",
       "      <td>False</td>\n",
       "      <td>False</td>\n",
       "      <td>False</td>\n",
       "      <td>False</td>\n",
       "      <td>False</td>\n",
       "      <td>False</td>\n",
       "      <td>True</td>\n",
       "      <td>False</td>\n",
       "      <td>False</td>\n",
       "      <td>False</td>\n",
       "      <td>False</td>\n",
       "      <td>False</td>\n",
       "      <td>False</td>\n",
       "      <td>False</td>\n",
       "      <td>False</td>\n",
       "      <td>False</td>\n",
       "      <td>False</td>\n",
       "      <td>False</td>\n",
       "      <td>False</td>\n",
       "      <td>False</td>\n",
       "      <td>False</td>\n",
       "      <td>False</td>\n",
       "      <td>False</td>\n",
       "      <td>False</td>\n",
       "      <td>False</td>\n",
       "      <td>False</td>\n",
       "      <td>False</td>\n",
       "      <td>False</td>\n",
       "      <td>False</td>\n",
       "      <td>False</td>\n",
       "      <td>False</td>\n",
       "      <td>False</td>\n",
       "    </tr>\n",
       "    <tr>\n",
       "      <th>44326</th>\n",
       "      <td>0.275989</td>\n",
       "      <td>67.0</td>\n",
       "      <td>0.0</td>\n",
       "      <td>0.267683</td>\n",
       "      <td>4000.0</td>\n",
       "      <td>4.0</td>\n",
       "      <td>0.0</td>\n",
       "      <td>1.0</td>\n",
       "      <td>0.0</td>\n",
       "      <td>0.0</td>\n",
       "      <td>False</td>\n",
       "      <td>False</td>\n",
       "      <td>False</td>\n",
       "      <td>False</td>\n",
       "      <td>False</td>\n",
       "      <td>False</td>\n",
       "      <td>False</td>\n",
       "      <td>False</td>\n",
       "      <td>False</td>\n",
       "      <td>False</td>\n",
       "      <td>False</td>\n",
       "      <td>False</td>\n",
       "      <td>False</td>\n",
       "      <td>False</td>\n",
       "      <td>False</td>\n",
       "      <td>False</td>\n",
       "      <td>False</td>\n",
       "      <td>False</td>\n",
       "      <td>False</td>\n",
       "      <td>False</td>\n",
       "      <td>False</td>\n",
       "      <td>False</td>\n",
       "      <td>True</td>\n",
       "      <td>False</td>\n",
       "      <td>False</td>\n",
       "      <td>False</td>\n",
       "      <td>False</td>\n",
       "      <td>False</td>\n",
       "      <td>False</td>\n",
       "      <td>False</td>\n",
       "      <td>False</td>\n",
       "      <td>False</td>\n",
       "      <td>False</td>\n",
       "      <td>False</td>\n",
       "      <td>False</td>\n",
       "    </tr>\n",
       "    <tr>\n",
       "      <th>45320</th>\n",
       "      <td>0.979204</td>\n",
       "      <td>29.0</td>\n",
       "      <td>1.0</td>\n",
       "      <td>0.098725</td>\n",
       "      <td>4000.0</td>\n",
       "      <td>5.0</td>\n",
       "      <td>0.0</td>\n",
       "      <td>0.0</td>\n",
       "      <td>0.0</td>\n",
       "      <td>3.0</td>\n",
       "      <td>False</td>\n",
       "      <td>False</td>\n",
       "      <td>False</td>\n",
       "      <td>False</td>\n",
       "      <td>False</td>\n",
       "      <td>False</td>\n",
       "      <td>False</td>\n",
       "      <td>False</td>\n",
       "      <td>False</td>\n",
       "      <td>True</td>\n",
       "      <td>False</td>\n",
       "      <td>False</td>\n",
       "      <td>False</td>\n",
       "      <td>False</td>\n",
       "      <td>False</td>\n",
       "      <td>False</td>\n",
       "      <td>False</td>\n",
       "      <td>False</td>\n",
       "      <td>False</td>\n",
       "      <td>False</td>\n",
       "      <td>False</td>\n",
       "      <td>False</td>\n",
       "      <td>False</td>\n",
       "      <td>False</td>\n",
       "      <td>False</td>\n",
       "      <td>False</td>\n",
       "      <td>False</td>\n",
       "      <td>False</td>\n",
       "      <td>False</td>\n",
       "      <td>False</td>\n",
       "      <td>False</td>\n",
       "      <td>False</td>\n",
       "      <td>False</td>\n",
       "      <td>False</td>\n",
       "      <td>False</td>\n",
       "    </tr>\n",
       "    <tr>\n",
       "      <th>70966</th>\n",
       "      <td>0.102984</td>\n",
       "      <td>58.0</td>\n",
       "      <td>2.0</td>\n",
       "      <td>0.191410</td>\n",
       "      <td>10500.0</td>\n",
       "      <td>17.0</td>\n",
       "      <td>0.0</td>\n",
       "      <td>2.0</td>\n",
       "      <td>0.0</td>\n",
       "      <td>0.0</td>\n",
       "      <td>False</td>\n",
       "      <td>False</td>\n",
       "      <td>False</td>\n",
       "      <td>False</td>\n",
       "      <td>False</td>\n",
       "      <td>False</td>\n",
       "      <td>False</td>\n",
       "      <td>False</td>\n",
       "      <td>False</td>\n",
       "      <td>False</td>\n",
       "      <td>False</td>\n",
       "      <td>False</td>\n",
       "      <td>False</td>\n",
       "      <td>False</td>\n",
       "      <td>False</td>\n",
       "      <td>False</td>\n",
       "      <td>False</td>\n",
       "      <td>False</td>\n",
       "      <td>False</td>\n",
       "      <td>True</td>\n",
       "      <td>False</td>\n",
       "      <td>False</td>\n",
       "      <td>False</td>\n",
       "      <td>False</td>\n",
       "      <td>False</td>\n",
       "      <td>False</td>\n",
       "      <td>False</td>\n",
       "      <td>False</td>\n",
       "      <td>False</td>\n",
       "      <td>False</td>\n",
       "      <td>False</td>\n",
       "      <td>False</td>\n",
       "      <td>False</td>\n",
       "      <td>False</td>\n",
       "      <td>False</td>\n",
       "    </tr>\n",
       "  </tbody>\n",
       "</table>\n",
       "<p>76053 rows × 45 columns</p>\n",
       "</div>"
      ],
      "text/plain": [
       "        RevolvingUtilizationOfUnsecuredLines   age  \\\n",
       "64329                               0.116959  27.0   \n",
       "70087                               0.050666  83.0   \n",
       "77642                               0.038865  72.0   \n",
       "6017                                0.023513  56.0   \n",
       "106521                              0.039350  83.0   \n",
       "...                                      ...   ...   \n",
       "22092                               0.576336  48.0   \n",
       "47726                               1.000000  28.0   \n",
       "44326                               0.275989  67.0   \n",
       "45320                               0.979204  29.0   \n",
       "70966                               0.102984  58.0   \n",
       "\n",
       "        NumberOfTime30-59DaysPastDueNotWorse  DebtRatio  MonthlyIncome  \\\n",
       "64329                                    0.0   0.326024         3100.0   \n",
       "70087                                    0.0   0.177182        10000.0   \n",
       "77642                                    0.0   0.016600         5722.0   \n",
       "6017                                     0.0   0.266260        10500.0   \n",
       "106521                                   0.0   0.195179         1700.0   \n",
       "...                                      ...        ...            ...   \n",
       "22092                                    1.0   0.303042        10750.0   \n",
       "47726                                    0.0   0.068123         2700.0   \n",
       "44326                                    0.0   0.267683         4000.0   \n",
       "45320                                    1.0   0.098725         4000.0   \n",
       "70966                                    2.0   0.191410        10500.0   \n",
       "\n",
       "        NumberOfOpenCreditLinesAndLoans  NumberOfTimes90DaysLate  \\\n",
       "64329                               7.0                      0.0   \n",
       "70087                               9.0                      0.0   \n",
       "77642                               7.0                      0.0   \n",
       "6017                                8.0                      0.0   \n",
       "106521                              3.0                      0.0   \n",
       "...                                 ...                      ...   \n",
       "22092                              17.0                      0.0   \n",
       "47726                               2.0                      0.0   \n",
       "44326                               4.0                      0.0   \n",
       "45320                               5.0                      0.0   \n",
       "70966                              17.0                      0.0   \n",
       "\n",
       "        NumberRealEstateLoansOrLines  NumberOfTime60-89DaysPastDueNotWorse  \\\n",
       "64329                            0.0                                   0.0   \n",
       "70087                            1.0                                   0.0   \n",
       "77642                            0.0                                   0.0   \n",
       "6017                             2.0                                   0.0   \n",
       "106521                           0.0                                   0.0   \n",
       "...                              ...                                   ...   \n",
       "22092                            1.0                                   0.0   \n",
       "47726                            0.0                                   0.0   \n",
       "44326                            1.0                                   0.0   \n",
       "45320                            0.0                                   0.0   \n",
       "70966                            2.0                                   0.0   \n",
       "\n",
       "        NumberOfDependents  age_bins_(0, 3]  age_bins_(3, 6]  age_bins_(6, 9]  \\\n",
       "64329                  1.0            False            False            False   \n",
       "70087                  0.0            False            False            False   \n",
       "77642                  0.0            False            False            False   \n",
       "6017                   3.0            False            False            False   \n",
       "106521                 0.0            False            False            False   \n",
       "...                    ...              ...              ...              ...   \n",
       "22092                  3.0            False            False            False   \n",
       "47726                  0.0            False            False            False   \n",
       "44326                  0.0            False            False            False   \n",
       "45320                  3.0            False            False            False   \n",
       "70966                  0.0            False            False            False   \n",
       "\n",
       "        age_bins_(9, 12]  age_bins_(12, 15]  age_bins_(15, 18]  \\\n",
       "64329              False              False              False   \n",
       "70087              False              False              False   \n",
       "77642              False              False              False   \n",
       "6017               False              False              False   \n",
       "106521             False              False              False   \n",
       "...                  ...                ...                ...   \n",
       "22092              False              False              False   \n",
       "47726              False              False              False   \n",
       "44326              False              False              False   \n",
       "45320              False              False              False   \n",
       "70966              False              False              False   \n",
       "\n",
       "        age_bins_(18, 21]  age_bins_(21, 24]  age_bins_(24, 27]  \\\n",
       "64329               False              False               True   \n",
       "70087               False              False              False   \n",
       "77642               False              False              False   \n",
       "6017                False              False              False   \n",
       "106521              False              False              False   \n",
       "...                   ...                ...                ...   \n",
       "22092               False              False              False   \n",
       "47726               False              False              False   \n",
       "44326               False              False              False   \n",
       "45320               False              False              False   \n",
       "70966               False              False              False   \n",
       "\n",
       "        age_bins_(27, 30]  age_bins_(30, 33]  age_bins_(33, 36]  \\\n",
       "64329               False              False              False   \n",
       "70087               False              False              False   \n",
       "77642               False              False              False   \n",
       "6017                False              False              False   \n",
       "106521              False              False              False   \n",
       "...                   ...                ...                ...   \n",
       "22092               False              False              False   \n",
       "47726                True              False              False   \n",
       "44326               False              False              False   \n",
       "45320                True              False              False   \n",
       "70966               False              False              False   \n",
       "\n",
       "        age_bins_(36, 39]  age_bins_(39, 42]  age_bins_(42, 45]  \\\n",
       "64329               False              False              False   \n",
       "70087               False              False              False   \n",
       "77642               False              False              False   \n",
       "6017                False              False              False   \n",
       "106521              False              False              False   \n",
       "...                   ...                ...                ...   \n",
       "22092               False              False              False   \n",
       "47726               False              False              False   \n",
       "44326               False              False              False   \n",
       "45320               False              False              False   \n",
       "70966               False              False              False   \n",
       "\n",
       "        age_bins_(45, 48]  age_bins_(48, 51]  age_bins_(51, 54]  \\\n",
       "64329               False              False              False   \n",
       "70087               False              False              False   \n",
       "77642               False              False              False   \n",
       "6017                False              False              False   \n",
       "106521              False              False              False   \n",
       "...                   ...                ...                ...   \n",
       "22092                True              False              False   \n",
       "47726               False              False              False   \n",
       "44326               False              False              False   \n",
       "45320               False              False              False   \n",
       "70966               False              False              False   \n",
       "\n",
       "        age_bins_(54, 57]  age_bins_(57, 60]  age_bins_(60, 63]  \\\n",
       "64329               False              False              False   \n",
       "70087               False              False              False   \n",
       "77642               False              False              False   \n",
       "6017                 True              False              False   \n",
       "106521              False              False              False   \n",
       "...                   ...                ...                ...   \n",
       "22092               False              False              False   \n",
       "47726               False              False              False   \n",
       "44326               False              False              False   \n",
       "45320               False              False              False   \n",
       "70966               False               True              False   \n",
       "\n",
       "        age_bins_(63, 66]  age_bins_(66, 69]  age_bins_(69, 72]  \\\n",
       "64329               False              False              False   \n",
       "70087               False              False              False   \n",
       "77642               False              False               True   \n",
       "6017                False              False              False   \n",
       "106521              False              False              False   \n",
       "...                   ...                ...                ...   \n",
       "22092               False              False              False   \n",
       "47726               False              False              False   \n",
       "44326               False               True              False   \n",
       "45320               False              False              False   \n",
       "70966               False              False              False   \n",
       "\n",
       "        age_bins_(72, 75]  age_bins_(75, 78]  age_bins_(78, 81]  \\\n",
       "64329               False              False              False   \n",
       "70087               False              False              False   \n",
       "77642               False              False              False   \n",
       "6017                False              False              False   \n",
       "106521              False              False              False   \n",
       "...                   ...                ...                ...   \n",
       "22092               False              False              False   \n",
       "47726               False              False              False   \n",
       "44326               False              False              False   \n",
       "45320               False              False              False   \n",
       "70966               False              False              False   \n",
       "\n",
       "        age_bins_(81, 84]  age_bins_(84, 87]  age_bins_(87, 90]  \\\n",
       "64329               False              False              False   \n",
       "70087                True              False              False   \n",
       "77642               False              False              False   \n",
       "6017                False              False              False   \n",
       "106521               True              False              False   \n",
       "...                   ...                ...                ...   \n",
       "22092               False              False              False   \n",
       "47726               False              False              False   \n",
       "44326               False              False              False   \n",
       "45320               False              False              False   \n",
       "70966               False              False              False   \n",
       "\n",
       "        age_bins_(90, 93]  age_bins_(93, 96]  age_bins_(96, 99]  \\\n",
       "64329               False              False              False   \n",
       "70087               False              False              False   \n",
       "77642               False              False              False   \n",
       "6017                False              False              False   \n",
       "106521              False              False              False   \n",
       "...                   ...                ...                ...   \n",
       "22092               False              False              False   \n",
       "47726               False              False              False   \n",
       "44326               False              False              False   \n",
       "45320               False              False              False   \n",
       "70966               False              False              False   \n",
       "\n",
       "        age_bins_(99, 102]  age_bins_(102, 105]  \n",
       "64329                False                False  \n",
       "70087                False                False  \n",
       "77642                False                False  \n",
       "6017                 False                False  \n",
       "106521               False                False  \n",
       "...                    ...                  ...  \n",
       "22092                False                False  \n",
       "47726                False                False  \n",
       "44326                False                False  \n",
       "45320                False                False  \n",
       "70966                False                False  \n",
       "\n",
       "[76053 rows x 45 columns]"
      ]
     },
     "execution_count": 16,
     "metadata": {},
     "output_type": "execute_result"
    }
   ],
   "source": [
    "# 请对上述分箱后的年龄段进行独热向量编码\n",
    "# 提示：使用pandas的get_dummies完成\n",
    "\n",
    "\n",
    "#pandas.get_dummies(data, prefix=None, prefix_sep='_', dummy_na=False, columns=None, sparse=False, drop_first=False)\n",
    "#对分箱后的年龄进行独热向量编码,即将不同的年龄分区值变成不同的列名\n",
    "\n",
    "age=pd.get_dummies(X_train,columns=['age_bins'],prefix_sep='_')\n",
    "age\n"
   ]
  },
  {
   "cell_type": "markdown",
   "metadata": {},
   "source": [
    "#### 4.数据预处理之幅度缩放"
   ]
  },
  {
   "cell_type": "code",
   "execution_count": 17,
   "metadata": {
    "collapsed": true,
    "jupyter": {
     "outputs_hidden": true
    }
   },
   "outputs": [
    {
     "data": {
      "text/plain": [
       "((76053, 10), (32595, 10))"
      ]
     },
     "execution_count": 17,
     "metadata": {},
     "output_type": "execute_result"
    }
   ],
   "source": [
    "# 请对连续值特征进行幅度缩放\n",
    "# 提示：可以使用StandardScaler等幅度缩放器进行处理\n",
    "from sklearn.preprocessing import StandardScaler\n",
    "std=StandardScaler()\n",
    "\n",
    "\n",
    "X_train, X_test, y_train, y_test = train_test_split(X, y, test_size=0.3, shuffle=True, random_state=0)#70%的训练集，30%的测试集,random_state 随机切分的标记\n",
    "\n",
    "# 查看数据的维度\n",
    "X_train.shape, X_test.shape, y_train.shape, y_test.shape\n",
    "\n",
    "#标准化\n",
    "X_train_std=std.fit_transform(X_train)\n",
    "X_test_std=std.fit_transform(X_test)\n",
    "## 查看数据维度\n",
    "X_train_std.shape, X_test_std.shape"
   ]
  },
  {
   "cell_type": "code",
   "execution_count": 18,
   "metadata": {},
   "outputs": [
    {
     "name": "stdout",
     "output_type": "stream",
     "text": [
      "-4.295787804590142e-17\n",
      "1.0\n",
      "-3.0387991214897363e-17\n",
      "0.9999999999999999\n"
     ]
    }
   ],
   "source": [
    "print(X_train_std.mean())  # 瞅一眼训练集的平均值\n",
    "print(X_train_std.std())   # 瞅一眼训练集的方差\n",
    "print(X_test_std.mean())  # 瞅一眼测试集的平均值\n",
    "print(X_test_std.std())   # 瞅一眼测试集的方差"
   ]
  },
  {
   "cell_type": "markdown",
   "metadata": {},
   "source": [
    "#### 5.使用logistic regression建模，并且输出一下系数，分析重要度。   "
   ]
  },
  {
   "cell_type": "code",
   "execution_count": 61,
   "metadata": {
    "collapsed": true,
    "jupyter": {
     "outputs_hidden": true
    }
   },
   "outputs": [
    {
     "name": "stdout",
     "output_type": "stream",
     "text": [
      "测试集预测不对的样本数: 2156\n",
      "系数为 [[-0.01428302 -0.36429906  1.72892458  0.31210449 -0.11519959 -0.09188134\n",
      "   1.68983565 -0.1964285  -3.24882741  0.11639198]]\n",
      "训练集的准确率:0.933\n",
      "测试集的准确率:0.934\n",
      "截距: -2.859\n"
     ]
    },
    {
     "name": "stderr",
     "output_type": "stream",
     "text": [
      "/tmp/ipykernel_570228/4124148766.py:28: DeprecationWarning: Conversion of an array with ndim > 0 to a scalar is deprecated, and will error in future. Ensure you extract a single element from your array before performing this operation. (Deprecated NumPy 1.25.)\n",
      "  print('截距: %.3f'%lr_intercept)\n"
     ]
    }
   ],
   "source": [
    "# 提示：fit建模，建完模之后可以取出coef属性\n",
    "from sklearn.linear_model import LogisticRegression\n",
    "\n",
    "# 建立模型\n",
    "lr = LogisticRegression(C=100.0**40, random_state=0, penalty='l2') \n",
    "# 训练模型\n",
    "lr.fit(X_train_std, y_train)\n",
    "#预测\n",
    "y_train_pred = lr.predict(np.array(X_train_std))  # 训练集上的预测\n",
    "y_test_pred = lr.predict(np.array(X_test_std))    # 测试集上的预测\n",
    "\n",
    "# 测试集预测不对的样本数\n",
    "print('测试集预测不对的样本数: %d' % (y_test != y_test_pred).sum()) \n",
    "\n",
    "#系数\n",
    "lr_Coef =lr.coef_\n",
    "print(\"系数为\",lr_Coef)\n",
    "\n",
    "from sklearn.metrics import accuracy_score\n",
    "#准确率\n",
    "train_acc=accuracy_score(y_train, y_train_pred)\n",
    "test_acc=accuracy_score(y_test, y_test_pred)\n",
    "print(\"训练集的准确率:%.3f\"%train_acc)\n",
    "print(\"测试集的准确率:%.3f\"%test_acc)\n",
    "\n",
    "# 截距\n",
    "lr_intercept=lr.intercept_\n",
    "print('截距: %.3f'%lr_intercept)"
   ]
  },
  {
   "cell_type": "markdown",
   "metadata": {},
   "source": [
    "#### 6.使用网格搜索交叉验证进行调参\n",
    "调整penalty和C参数，其中penalty候选为\"l1\"和\"l2\"，C的候选为[1,10,100,500]"
   ]
  },
  {
   "cell_type": "code",
   "execution_count": 66,
   "metadata": {
    "collapsed": true,
    "jupyter": {
     "outputs_hidden": true
    }
   },
   "outputs": [],
   "source": [
    "# 提示：先按照上面要求准备好网格字典，再使用GridSearchCV进行调参\n",
    "#创建网格\n",
    "param_grid = {'C': [1, 10, 100, 500],\n",
    "              'penalty': ['l1','l2']}\n",
    "\n",
    "from sklearn.model_selection import GridSearchCV\n",
    "from sklearn.linear_model import LogisticRegression\n",
    "lr = LogisticRegression() \n",
    "#五折网格搜索\n",
    "grid_search = GridSearchCV(lr,param_grid,cv=5)\n"
   ]
  },
  {
   "cell_type": "code",
   "execution_count": 68,
   "metadata": {
    "collapsed": true,
    "jupyter": {
     "outputs_hidden": true
    }
   },
   "outputs": [
    {
     "name": "stderr",
     "output_type": "stream",
     "text": [
      "/home/sp/.local/lib/python3.9/site-packages/sklearn/model_selection/_validation.py:425: FitFailedWarning: \n",
      "20 fits failed out of a total of 40.\n",
      "The score on these train-test partitions for these parameters will be set to nan.\n",
      "If these failures are not expected, you can try to debug them by setting error_score='raise'.\n",
      "\n",
      "Below are more details about the failures:\n",
      "--------------------------------------------------------------------------------\n",
      "20 fits failed with the following error:\n",
      "Traceback (most recent call last):\n",
      "  File \"/home/sp/.local/lib/python3.9/site-packages/sklearn/model_selection/_validation.py\", line 729, in _fit_and_score\n",
      "    estimator.fit(X_train, y_train, **fit_params)\n",
      "  File \"/home/sp/.local/lib/python3.9/site-packages/sklearn/base.py\", line 1152, in wrapper\n",
      "    return fit_method(estimator, *args, **kwargs)\n",
      "  File \"/home/sp/.local/lib/python3.9/site-packages/sklearn/linear_model/_logistic.py\", line 1169, in fit\n",
      "    solver = _check_solver(self.solver, self.penalty, self.dual)\n",
      "  File \"/home/sp/.local/lib/python3.9/site-packages/sklearn/linear_model/_logistic.py\", line 56, in _check_solver\n",
      "    raise ValueError(\n",
      "ValueError: Solver lbfgs supports only 'l2' or 'none' penalties, got l1 penalty.\n",
      "\n",
      "  warnings.warn(some_fits_failed_message, FitFailedWarning)\n",
      "/home/sp/.local/lib/python3.9/site-packages/sklearn/model_selection/_search.py:979: UserWarning: One or more of the test scores are non-finite: [       nan 0.93300724        nan 0.93307299        nan 0.93305984\n",
      "        nan 0.93305984]\n",
      "  warnings.warn(\n"
     ]
    },
    {
     "name": "stdout",
     "output_type": "stream",
     "text": [
      "最好的超参数:  {'C': 10, 'penalty': 'l2'}\n",
      "最好的模型:  LogisticRegression(C=10)\n"
     ]
    }
   ],
   "source": [
    "grid_search.fit(X_train_std, y_train)\n",
    "\n",
    "# 输出最好的超参数\n",
    "print(\"最好的超参数: \", grid_search.best_params_)\n",
    "\n",
    "# 输出最好的模型\n",
    "print(\"最好的模型: \", grid_search.best_estimator_)"
   ]
  },
  {
   "cell_type": "markdown",
   "metadata": {},
   "source": [
    "#### 7.在测试集上进行预测，计算 查准率/查全率/auc/混淆矩阵/f1值 等测试指标"
   ]
  },
  {
   "cell_type": "code",
   "execution_count": 72,
   "metadata": {
    "collapsed": true,
    "jupyter": {
     "outputs_hidden": true
    }
   },
   "outputs": [
    {
     "name": "stdout",
     "output_type": "stream",
     "text": [
      "查准率:  0.9338855652707471\n",
      "查全率:  0.046522339935513586\n",
      "auc:  0.5218642464862948\n",
      "f1值:  0.08570216376750106\n"
     ]
    },
    {
     "data": {
      "image/png": "[encoded data removed]",
      "text/plain": [
       "<Figure size 640x480 with 2 Axes>"
      ]
     },
     "metadata": {},
     "output_type": "display_data"
    }
   ],
   "source": [
    "# 提示：在测试集上预测可以使用predict\n",
    "# 提示：各种指标可以在sklearn.metrics中查到各种评估指标，分别是accuracy_score、recall_score、auc、confusion_matrix、f1_score\n",
    "from sklearn.metrics import accuracy_score,recall_score,roc_auc_score,confusion_matrix,f1_score,ConfusionMatrixDisplay\n",
    "lr_best=LogisticRegression(C=10,penalty='l2')\n",
    "lr_best.fit(X_train_std,y_train)\n",
    "lr_best_pred=lr_best.predict(X_test_std)\n",
    "\n",
    "print('查准率: ',lr_best.score(X_test_std,y_test))\n",
    "print('查全率: ',recall_score(y_test, lr_best_pred))\n",
    "print('auc: ',roc_auc_score(y_test, lr_best_pred))\n",
    "print('f1值: ',f1_score(y_test, lr_best_pred))\n",
    "\n",
    "lr_best_cm = confusion_matrix(y_test,lr_best_pred)\n",
    "\n",
    "cm_display = ConfusionMatrixDisplay(lr_best_cm).plot()"
   ]
  },
  {
   "cell_type": "markdown",
   "metadata": {},
   "source": [
    "#### 8.更多优化\n",
    "银行通常会有更严格的要求，因为欺诈带来的后果通常比较严重，一般我们会调整模型的标准。   \n",
    "\n",
    "比如在logistic regression当中，一般我们的概率判定边界为0.5，但是我们可以把阈值设定低一些，来提高模型的“敏感度”   \n",
    "试试看把阈值设定为0.3，再看看这个时候的混淆矩阵等评估指标。"
   ]
  },
  {
   "cell_type": "code",
   "execution_count": 76,
   "metadata": {
    "collapsed": true,
    "jupyter": {
     "outputs_hidden": true
    }
   },
   "outputs": [
    {
     "name": "stdout",
     "output_type": "stream",
     "text": [
      "阈值为0.5的准确率: 0.9338855652707471\n",
      "阈值为0.3的准确率: 0.9336401288541187\n"
     ]
    },
    {
     "data": {
      "text/plain": [
       "Text(0.5, 1.0, 'threshold:0.3')"
      ]
     },
     "execution_count": 76,
     "metadata": {},
     "output_type": "execute_result"
    },
    {
     "data": {
      "image/png": "[encoded data removed]",
      "text/plain": [
       "<Figure size 640x480 with 2 Axes>"
      ]
     },
     "metadata": {},
     "output_type": "display_data"
    },
    {
     "data": {
      "image/png": "[encoded data removed]",
      "text/plain": [
       "<Figure size 640x480 with 2 Axes>"
      ]
     },
     "metadata": {},
     "output_type": "display_data"
    }
   ],
   "source": [
    "lr_best=LogisticRegression(C=10,penalty='l2')\n",
    "lr_best.fit(X_train_std,y_train)\n",
    "acc1=lr_best.score(X_test_std,y_test)\n",
    "print('阈值为0.5的准确率:',acc1)\n",
    "                                              \n",
    "# 预测样本属于正类的概率\n",
    "y_prob = lr_best.decision_function(X_test_std)\n",
    "# 设置阈值\n",
    "threshold = 0.3\n",
    "# 将概率值转换为类别\n",
    "lr_best_pred2 = [1 if prob >= threshold else 0 for prob in y_prob]\n",
    "from sklearn.metrics import accuracy_score\n",
    "# 计算准确性\n",
    "acc2 = accuracy_score(y_test, lr_best_pred2)\n",
    "print(\"阈值为0.3的准确率:\", acc2)\n",
    "\n",
    "\n",
    "# 画混淆矩阵图\n",
    "cm = confusion_matrix(y_test,lr_best_pred)\n",
    "cm_display = ConfusionMatrixDisplay(cm).plot()\n",
    "plt.title('threshold:0.5')\n",
    "\n",
    "cm2 = confusion_matrix(y_test,lr_best_pred2)\n",
    "cm_display2 = ConfusionMatrixDisplay(cm2).plot()\n",
    "plt.title('threshold:0.3')\n"
   ]
  },
  {
   "cell_type": "markdown",
   "metadata": {},
   "source": [
    "#### 9.尝试对不同特征的重要度进行排序，通过特征选择的方式，对特征进行筛选。并重新建模，观察此时的模型准确率等评估指标。"
   ]
  },
  {
   "cell_type": "code",
   "execution_count": 80,
   "metadata": {
    "collapsed": true,
    "jupyter": {
     "outputs_hidden": true
    }
   },
   "outputs": [
    {
     "name": "stdout",
     "output_type": "stream",
     "text": [
      "十个特征的重要性 [[-0.01428717 -0.36429751  1.72767996  0.31211219 -0.11518815 -0.09190189\n",
      "   1.68720119 -0.19646079 -3.24496378  0.11641158]]\n",
      "用于特征选择的阈值； 0.7870504201386906\n",
      "特征是否保留 [False False  True False False False  True False  True False]\n",
      "特征提取结果 [[-0.10690634 -0.06094714 -0.05438132]\n",
      " [-0.10690634 -0.06094714 -0.05438132]\n",
      " [-0.10690634 -0.06094714 -0.05438132]\n",
      " ...\n",
      " [-0.10690634 -0.06094714 -0.05438132]\n",
      " [ 0.17284964 -0.06094714 -0.05438132]\n",
      " [ 0.45260561 -0.06094714 -0.05438132]]\n"
     ]
    }
   ],
   "source": [
    "# 可以根据逻辑回归的系数绝对值大小进行排序，也可以基于树模型的特征重要度进行排序\n",
    "# 特征选择可以使用RFE或者selectFromModel\n",
    "from sklearn.feature_selection import SelectFromModel\n",
    "\n",
    "lr=LogisticRegression(C=10,penalty='l2')\n",
    "# sfm=SelectFromModel(lr,prefit=True)\n",
    "\n",
    "# X_train_std_selected=sfm.transform(X_train_std)\n",
    "# lr_selected = LogisticRegression(C=10,penalty='l2')\n",
    "# lr_selected.fit(X_train_std_selected, y_train)\n",
    "\n",
    "\n",
    "# 建立评估器\n",
    "selector = SelectFromModel(estimator=lr).fit(X_train_std, y_train)\n",
    "# estimator的模型参数系数\n",
    "print(\"十个特征的重要性\",selector.estimator_.coef_)\n",
    "\n",
    "# 根据estimator中特征重要性均值获得阈值\n",
    "print(\"用于特征选择的阈值；\",selector.threshold_)\n",
    "\n",
    "# 哪些特征入选最后特征，true表示入选\n",
    "print(\"特征是否保留\",selector.get_support())\n",
    "# 获得最后结果\n",
    "print(\"特征提取结果\",selector.transform(X_train_std))\n"
   ]
  },
  {
   "cell_type": "markdown",
   "metadata": {},
   "source": [
    "#### 10.其他模型算法尝试\n",
    "使用RandomForestClassifier/SVM/KNN等sklearn分类算法进行分类，尝试上述超参数调优算法过程。"
   ]
  },
  {
   "cell_type": "code",
   "execution_count": 81,
   "metadata": {
    "collapsed": true,
    "jupyter": {
     "outputs_hidden": true
    }
   },
   "outputs": [
    {
     "name": "stdout",
     "output_type": "stream",
     "text": [
      "最好的超参数:  {'criterion': 'log_loss', 'n_estimators': 100}\n",
      "最好的模型:  RandomForestClassifier(criterion='log_loss')\n"
     ]
    }
   ],
   "source": [
    "# 随机森林\n",
    "from sklearn.ensemble import RandomForestClassifier\n",
    "\n",
    "param_grid = {'criterion': ['gini', 'entropy', 'log_loss'],\n",
    "              'n_estimators': [10,50,100]}\n",
    "model = RandomForestClassifier() \n",
    "\n",
    "#五折网格搜索\n",
    "grid_search = GridSearchCV(model,param_grid,cv=5)\n",
    "grid_search.fit(X_train_std, y_train)\n",
    "\n",
    "# 输出最好的超参数\n",
    "print(\"最好的超参数: \", grid_search.best_params_)\n",
    "\n",
    "# 输出最好的模型\n",
    "print(\"最好的模型: \", grid_search.best_estimator_)\n",
    "\n",
    "\n",
    "\n"
   ]
  },
  {
   "cell_type": "code",
   "execution_count": 82,
   "metadata": {},
   "outputs": [
    {
     "data": {
      "text/plain": [
       "0.9356036201871453"
      ]
     },
     "execution_count": 82,
     "metadata": {},
     "output_type": "execute_result"
    }
   ],
   "source": [
    "forest_best = RandomForestClassifier(criterion='log_loss', \n",
    "                                n_estimators=100, # The number of trees in the forest.\n",
    "                                )\n",
    "# 训练模型\n",
    "forest_best.fit(X_train_std, y_train)\n",
    "#评估模型\n",
    "forest_best.score(X_test_std, y_test)"
   ]
  },
  {
   "cell_type": "code",
   "execution_count": null,
   "metadata": {},
   "outputs": [],
   "source": [
    "# 支持向量机\n",
    "from sklearn.svm import SVC\n",
    "\n",
    "param_grid = {'kernel': ['linear', 'rbf'],'max_iter': [100000] }\n",
    "model = SVC()\n",
    "\n",
    "#五折网格搜索\n",
    "grid_search = GridSearchCV(model,param_grid,cv=5)\n",
    "grid_search.fit(X_train_std, y_train)\n",
    "\n",
    "# 输出最好的超参数\n",
    "print(\"最好的超参数: \", grid_search.best_params_)\n",
    "\n",
    "#耗时太久"
   ]
  },
  {
   "cell_type": "code",
   "execution_count": 20,
   "metadata": {},
   "outputs": [
    {
     "name": "stderr",
     "output_type": "stream",
     "text": [
      "/home/sp/.local/lib/python3.9/site-packages/sklearn/svm/_base.py:297: ConvergenceWarning: Solver terminated early (max_iter=100000).  Consider pre-processing your data with StandardScaler or MinMaxScaler.\n",
      "  warnings.warn(\n"
     ]
    },
    {
     "data": {
      "text/plain": [
       "0.9334560515416475"
      ]
     },
     "execution_count": 20,
     "metadata": {},
     "output_type": "execute_result"
    }
   ],
   "source": [
    "from sklearn.svm import SVC\n",
    "SVM_best = SVC(kernel='linear',max_iter=100000)\n",
    "# 训练模型\n",
    "SVM_best.fit(X_train_std, y_train)\n",
    "#评估模型\n",
    "SVM_best.score(X_test_std, y_test)"
   ]
  },
  {
   "cell_type": "code",
   "execution_count": 19,
   "metadata": {},
   "outputs": [
    {
     "name": "stdout",
     "output_type": "stream",
     "text": [
      "最好的超参数:  {'n_neighbors': 7}\n"
     ]
    }
   ],
   "source": [
    "# K近邻\n",
    "from sklearn.neighbors import KNeighborsClassifier\n",
    "from sklearn.model_selection import GridSearchCV\n",
    "param_grid = {'n_neighbors': [5,6,7]\n",
    "              }\n",
    "model = knn = KNeighborsClassifier(metric='minkowski')\n",
    "\n",
    "#五折网格搜索\n",
    "grid_search = GridSearchCV(model,param_grid,cv=5)\n",
    "grid_search.fit(X_train_std, y_train)\n",
    "\n",
    "# 输出最好的超参数\n",
    "print(\"最好的超参数: \", grid_search.best_params_)\n"
   ]
  },
  {
   "cell_type": "code",
   "execution_count": 14,
   "metadata": {},
   "outputs": [
    {
     "data": {
      "text/plain": [
       "0.9336401288541187"
      ]
     },
     "execution_count": 14,
     "metadata": {},
     "output_type": "execute_result"
    }
   ],
   "source": [
    "knn_best = KNeighborsClassifier(n_neighbors=7, metric='minkowski')\n",
    "# 训练模型\n",
    "knn_best.fit(X_train_std, y_train)\n",
    "#评估模型\n",
    "knn_best.score(X_test_std, y_test)"
   ]
  }
 ],
 "metadata": {
  "kernelspec": {
   "display_name": "tdi",
   "language": "python",
   "name": "tdi"
  },
  "language_info": {
   "codemirror_mode": {
    "name": "ipython",
    "version": 3
   },
   "file_extension": ".py",
   "mimetype": "text/x-python",
   "name": "python",
   "nbconvert_exporter": "python",
   "pygments_lexer": "ipython3",
   "version": "3.9.16"
  }
 },
 "nbformat": 4,
 "nbformat_minor": 4
}
