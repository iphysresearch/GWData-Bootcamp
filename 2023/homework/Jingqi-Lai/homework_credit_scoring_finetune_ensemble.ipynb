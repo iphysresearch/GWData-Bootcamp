{
 "cells": [
  {
   "cell_type": "markdown",
   "metadata": {},
   "source": [
    "# 一起来打怪之 Credit Scoring 练习"
   ]
  },
  {
   "cell_type": "markdown",
   "metadata": {},
   "source": [
    "-------\n",
    "## >>>说明：\n",
    "### 1. 答题步骤：\n",
    "- 回答问题**请保留每一步**操作过程，请不要仅仅给出最后答案\n",
    "- 请养成代码注释的好习惯\n",
    "\n",
    "### 2. 解题思路：\n",
    "- 为方便大家准确理解题目，在习题实战中有所收获，本文档提供了解题思路提示\n",
    "- 解题思路**仅供参考**，鼓励原创解题方法\n",
    "- 为督促同学们自己思考，解题思路内容设置为**注释**，请注意查看\n",
    "\n",
    "### 3. 所用数据：\n",
    "- 问题使用了多个数据库，请注意导入每个数据库后都先**查看和了解数据的基本性质**，后面的问题不再一一提醒"
   ]
  },
  {
   "cell_type": "markdown",
   "metadata": {},
   "source": [
    "--------\n",
    "## 操作题"
   ]
  },
  {
   "cell_type": "markdown",
   "metadata": {},
   "source": [
    "### 信用卡欺诈项目"
   ]
  },
  {
   "cell_type": "markdown",
   "metadata": {},
   "source": [
    " #### 前期数据导入,预览及处理(此部分勿修改，涉及的数据文件无需复制移动)"
   ]
  },
  {
   "cell_type": "code",
   "execution_count": 82,
   "metadata": {
    "tags": []
   },
   "outputs": [
    {
     "data": {
      "text/html": [
       "<div>\n",
       "<style scoped>\n",
       "    .dataframe tbody tr th:only-of-type {\n",
       "        vertical-align: middle;\n",
       "    }\n",
       "\n",
       "    .dataframe tbody tr th {\n",
       "        vertical-align: top;\n",
       "    }\n",
       "\n",
       "    .dataframe thead th {\n",
       "        text-align: right;\n",
       "    }\n",
       "</style>\n",
       "<table border=\"1\" class=\"dataframe\">\n",
       "  <thead>\n",
       "    <tr style=\"text-align: right;\">\n",
       "      <th></th>\n",
       "      <th>SeriousDlqin2yrs</th>\n",
       "      <th>RevolvingUtilizationOfUnsecuredLines</th>\n",
       "      <th>age</th>\n",
       "      <th>NumberOfTime30-59DaysPastDueNotWorse</th>\n",
       "      <th>DebtRatio</th>\n",
       "      <th>MonthlyIncome</th>\n",
       "      <th>NumberOfOpenCreditLinesAndLoans</th>\n",
       "      <th>NumberOfTimes90DaysLate</th>\n",
       "      <th>NumberRealEstateLoansOrLines</th>\n",
       "      <th>NumberOfTime60-89DaysPastDueNotWorse</th>\n",
       "      <th>NumberOfDependents</th>\n",
       "    </tr>\n",
       "  </thead>\n",
       "  <tbody>\n",
       "    <tr>\n",
       "      <th>0</th>\n",
       "      <td>1</td>\n",
       "      <td>0.766127</td>\n",
       "      <td>45.0</td>\n",
       "      <td>2.0</td>\n",
       "      <td>0.802982</td>\n",
       "      <td>9120.0</td>\n",
       "      <td>13.0</td>\n",
       "      <td>0.0</td>\n",
       "      <td>6.0</td>\n",
       "      <td>0.0</td>\n",
       "      <td>2.0</td>\n",
       "    </tr>\n",
       "    <tr>\n",
       "      <th>1</th>\n",
       "      <td>0</td>\n",
       "      <td>0.957151</td>\n",
       "      <td>40.0</td>\n",
       "      <td>0.0</td>\n",
       "      <td>0.121876</td>\n",
       "      <td>2600.0</td>\n",
       "      <td>4.0</td>\n",
       "      <td>0.0</td>\n",
       "      <td>0.0</td>\n",
       "      <td>0.0</td>\n",
       "      <td>1.0</td>\n",
       "    </tr>\n",
       "    <tr>\n",
       "      <th>2</th>\n",
       "      <td>0</td>\n",
       "      <td>0.658180</td>\n",
       "      <td>38.0</td>\n",
       "      <td>1.0</td>\n",
       "      <td>0.085113</td>\n",
       "      <td>3042.0</td>\n",
       "      <td>2.0</td>\n",
       "      <td>1.0</td>\n",
       "      <td>0.0</td>\n",
       "      <td>0.0</td>\n",
       "      <td>0.0</td>\n",
       "    </tr>\n",
       "    <tr>\n",
       "      <th>3</th>\n",
       "      <td>0</td>\n",
       "      <td>0.233810</td>\n",
       "      <td>30.0</td>\n",
       "      <td>0.0</td>\n",
       "      <td>0.036050</td>\n",
       "      <td>3300.0</td>\n",
       "      <td>5.0</td>\n",
       "      <td>0.0</td>\n",
       "      <td>0.0</td>\n",
       "      <td>0.0</td>\n",
       "      <td>0.0</td>\n",
       "    </tr>\n",
       "    <tr>\n",
       "      <th>4</th>\n",
       "      <td>0</td>\n",
       "      <td>0.907239</td>\n",
       "      <td>49.0</td>\n",
       "      <td>1.0</td>\n",
       "      <td>0.024926</td>\n",
       "      <td>63588.0</td>\n",
       "      <td>7.0</td>\n",
       "      <td>0.0</td>\n",
       "      <td>1.0</td>\n",
       "      <td>0.0</td>\n",
       "      <td>0.0</td>\n",
       "    </tr>\n",
       "  </tbody>\n",
       "</table>\n",
       "</div>"
      ],
      "text/plain": [
       "   SeriousDlqin2yrs  RevolvingUtilizationOfUnsecuredLines   age  \\\n",
       "0                 1                              0.766127  45.0   \n",
       "1                 0                              0.957151  40.0   \n",
       "2                 0                              0.658180  38.0   \n",
       "3                 0                              0.233810  30.0   \n",
       "4                 0                              0.907239  49.0   \n",
       "\n",
       "   NumberOfTime30-59DaysPastDueNotWorse  DebtRatio  MonthlyIncome  \\\n",
       "0                                   2.0   0.802982         9120.0   \n",
       "1                                   0.0   0.121876         2600.0   \n",
       "2                                   1.0   0.085113         3042.0   \n",
       "3                                   0.0   0.036050         3300.0   \n",
       "4                                   1.0   0.024926        63588.0   \n",
       "\n",
       "   NumberOfOpenCreditLinesAndLoans  NumberOfTimes90DaysLate  \\\n",
       "0                             13.0                      0.0   \n",
       "1                              4.0                      0.0   \n",
       "2                              2.0                      1.0   \n",
       "3                              5.0                      0.0   \n",
       "4                              7.0                      0.0   \n",
       "\n",
       "   NumberRealEstateLoansOrLines  NumberOfTime60-89DaysPastDueNotWorse  \\\n",
       "0                           6.0                                   0.0   \n",
       "1                           0.0                                   0.0   \n",
       "2                           0.0                                   0.0   \n",
       "3                           0.0                                   0.0   \n",
       "4                           1.0                                   0.0   \n",
       "\n",
       "   NumberOfDependents  \n",
       "0                 2.0  \n",
       "1                 1.0  \n",
       "2                 0.0  \n",
       "3                 0.0  \n",
       "4                 0.0  "
      ]
     },
     "execution_count": 82,
     "metadata": {},
     "output_type": "execute_result"
    }
   ],
   "source": [
    "import pandas as pd\n",
    "pd.set_option('display.max_columns', 500)\n",
    "import zipfile\n",
    "with zipfile.ZipFile('KaggleCredit2.csv.zip', 'r') as z:\n",
    "    f = z.open('KaggleCredit2.csv')\n",
    "    data = pd.read_csv(f, index_col=0)\n",
    "data.head()"
   ]
  },
  {
   "cell_type": "code",
   "execution_count": 83,
   "metadata": {
    "collapsed": true,
    "jupyter": {
     "outputs_hidden": true
    }
   },
   "outputs": [
    {
     "data": {
      "text/plain": [
       "(112915, 11)"
      ]
     },
     "execution_count": 83,
     "metadata": {},
     "output_type": "execute_result"
    }
   ],
   "source": [
    "# 检查数据维度\n",
    "data.shape"
   ]
  },
  {
   "cell_type": "code",
   "execution_count": 84,
   "metadata": {
    "collapsed": true,
    "jupyter": {
     "outputs_hidden": true
    }
   },
   "outputs": [
    {
     "data": {
      "text/plain": [
       "SeriousDlqin2yrs                           0\n",
       "RevolvingUtilizationOfUnsecuredLines       0\n",
       "age                                     4267\n",
       "NumberOfTime30-59DaysPastDueNotWorse       0\n",
       "DebtRatio                                  0\n",
       "MonthlyIncome                              0\n",
       "NumberOfOpenCreditLinesAndLoans            0\n",
       "NumberOfTimes90DaysLate                    0\n",
       "NumberRealEstateLoansOrLines               0\n",
       "NumberOfTime60-89DaysPastDueNotWorse       0\n",
       "NumberOfDependents                      4267\n",
       "dtype: int64"
      ]
     },
     "execution_count": 84,
     "metadata": {},
     "output_type": "execute_result"
    }
   ],
   "source": [
    "# 查看数据缺失值情况\n",
    "data.isnull().sum(axis=0)"
   ]
  },
  {
   "cell_type": "code",
   "execution_count": 85,
   "metadata": {
    "collapsed": true,
    "jupyter": {
     "outputs_hidden": true
    }
   },
   "outputs": [
    {
     "name": "stderr",
     "output_type": "stream",
     "text": [
      "/home/tianyu/.julia/conda/3/envs/few_env/lib/python3.7/site-packages/ipykernel_launcher.py:3: UserWarning: Pandas doesn't allow columns to be created via a new attribute name - see https://pandas.pydata.org/pandas-docs/stable/indexing.html#attribute-access\n",
      "  This is separate from the ipykernel package so we can avoid doing imports until\n"
     ]
    }
   ],
   "source": [
    "# 清除缺失值\n",
    "data.dropna(inplace=True)\n",
    "data.shapey = data['SeriousDlqin2yrs']\n",
    "X = data.drop('SeriousDlqin2yrs', axis=1)"
   ]
  },
  {
   "cell_type": "code",
   "execution_count": 86,
   "metadata": {
    "collapsed": true,
    "jupyter": {
     "outputs_hidden": true
    }
   },
   "outputs": [
    {
     "data": {
      "text/plain": [
       "0.06742876076872101"
      ]
     },
     "execution_count": 86,
     "metadata": {},
     "output_type": "execute_result"
    }
   ],
   "source": [
    "# 取出对应的X和y\n",
    "y = data['SeriousDlqin2yrs']\n",
    "X = data.drop('SeriousDlqin2yrs', axis=1)\n",
    "# 查看平均的欺诈率\n",
    "y.mean()"
   ]
  },
  {
   "cell_type": "code",
   "execution_count": 87,
   "metadata": {},
   "outputs": [
    {
     "data": {
      "text/html": [
       "<div>\n",
       "<style scoped>\n",
       "    .dataframe tbody tr th:only-of-type {\n",
       "        vertical-align: middle;\n",
       "    }\n",
       "\n",
       "    .dataframe tbody tr th {\n",
       "        vertical-align: top;\n",
       "    }\n",
       "\n",
       "    .dataframe thead th {\n",
       "        text-align: right;\n",
       "    }\n",
       "</style>\n",
       "<table border=\"1\" class=\"dataframe\">\n",
       "  <thead>\n",
       "    <tr style=\"text-align: right;\">\n",
       "      <th></th>\n",
       "      <th>RevolvingUtilizationOfUnsecuredLines</th>\n",
       "      <th>age</th>\n",
       "      <th>NumberOfTime30-59DaysPastDueNotWorse</th>\n",
       "      <th>DebtRatio</th>\n",
       "      <th>MonthlyIncome</th>\n",
       "      <th>NumberOfOpenCreditLinesAndLoans</th>\n",
       "      <th>NumberOfTimes90DaysLate</th>\n",
       "      <th>NumberRealEstateLoansOrLines</th>\n",
       "      <th>NumberOfTime60-89DaysPastDueNotWorse</th>\n",
       "      <th>NumberOfDependents</th>\n",
       "    </tr>\n",
       "  </thead>\n",
       "  <tbody>\n",
       "    <tr>\n",
       "      <th>0</th>\n",
       "      <td>0.766127</td>\n",
       "      <td>45.0</td>\n",
       "      <td>2.0</td>\n",
       "      <td>0.802982</td>\n",
       "      <td>9120.0</td>\n",
       "      <td>13.0</td>\n",
       "      <td>0.0</td>\n",
       "      <td>6.0</td>\n",
       "      <td>0.0</td>\n",
       "      <td>2.0</td>\n",
       "    </tr>\n",
       "    <tr>\n",
       "      <th>1</th>\n",
       "      <td>0.957151</td>\n",
       "      <td>40.0</td>\n",
       "      <td>0.0</td>\n",
       "      <td>0.121876</td>\n",
       "      <td>2600.0</td>\n",
       "      <td>4.0</td>\n",
       "      <td>0.0</td>\n",
       "      <td>0.0</td>\n",
       "      <td>0.0</td>\n",
       "      <td>1.0</td>\n",
       "    </tr>\n",
       "    <tr>\n",
       "      <th>2</th>\n",
       "      <td>0.658180</td>\n",
       "      <td>38.0</td>\n",
       "      <td>1.0</td>\n",
       "      <td>0.085113</td>\n",
       "      <td>3042.0</td>\n",
       "      <td>2.0</td>\n",
       "      <td>1.0</td>\n",
       "      <td>0.0</td>\n",
       "      <td>0.0</td>\n",
       "      <td>0.0</td>\n",
       "    </tr>\n",
       "    <tr>\n",
       "      <th>3</th>\n",
       "      <td>0.233810</td>\n",
       "      <td>30.0</td>\n",
       "      <td>0.0</td>\n",
       "      <td>0.036050</td>\n",
       "      <td>3300.0</td>\n",
       "      <td>5.0</td>\n",
       "      <td>0.0</td>\n",
       "      <td>0.0</td>\n",
       "      <td>0.0</td>\n",
       "      <td>0.0</td>\n",
       "    </tr>\n",
       "    <tr>\n",
       "      <th>4</th>\n",
       "      <td>0.907239</td>\n",
       "      <td>49.0</td>\n",
       "      <td>1.0</td>\n",
       "      <td>0.024926</td>\n",
       "      <td>63588.0</td>\n",
       "      <td>7.0</td>\n",
       "      <td>0.0</td>\n",
       "      <td>1.0</td>\n",
       "      <td>0.0</td>\n",
       "      <td>0.0</td>\n",
       "    </tr>\n",
       "    <tr>\n",
       "      <th>...</th>\n",
       "      <td>...</td>\n",
       "      <td>...</td>\n",
       "      <td>...</td>\n",
       "      <td>...</td>\n",
       "      <td>...</td>\n",
       "      <td>...</td>\n",
       "      <td>...</td>\n",
       "      <td>...</td>\n",
       "      <td>...</td>\n",
       "      <td>...</td>\n",
       "    </tr>\n",
       "    <tr>\n",
       "      <th>112910</th>\n",
       "      <td>0.385742</td>\n",
       "      <td>50.0</td>\n",
       "      <td>0.0</td>\n",
       "      <td>0.404293</td>\n",
       "      <td>3400.0</td>\n",
       "      <td>7.0</td>\n",
       "      <td>0.0</td>\n",
       "      <td>0.0</td>\n",
       "      <td>0.0</td>\n",
       "      <td>0.0</td>\n",
       "    </tr>\n",
       "    <tr>\n",
       "      <th>112911</th>\n",
       "      <td>0.040674</td>\n",
       "      <td>74.0</td>\n",
       "      <td>0.0</td>\n",
       "      <td>0.225131</td>\n",
       "      <td>2100.0</td>\n",
       "      <td>4.0</td>\n",
       "      <td>0.0</td>\n",
       "      <td>1.0</td>\n",
       "      <td>0.0</td>\n",
       "      <td>0.0</td>\n",
       "    </tr>\n",
       "    <tr>\n",
       "      <th>112912</th>\n",
       "      <td>0.299745</td>\n",
       "      <td>44.0</td>\n",
       "      <td>0.0</td>\n",
       "      <td>0.716562</td>\n",
       "      <td>5584.0</td>\n",
       "      <td>4.0</td>\n",
       "      <td>0.0</td>\n",
       "      <td>1.0</td>\n",
       "      <td>0.0</td>\n",
       "      <td>2.0</td>\n",
       "    </tr>\n",
       "    <tr>\n",
       "      <th>112913</th>\n",
       "      <td>0.000000</td>\n",
       "      <td>30.0</td>\n",
       "      <td>0.0</td>\n",
       "      <td>0.000000</td>\n",
       "      <td>5716.0</td>\n",
       "      <td>4.0</td>\n",
       "      <td>0.0</td>\n",
       "      <td>0.0</td>\n",
       "      <td>0.0</td>\n",
       "      <td>0.0</td>\n",
       "    </tr>\n",
       "    <tr>\n",
       "      <th>112914</th>\n",
       "      <td>0.850283</td>\n",
       "      <td>64.0</td>\n",
       "      <td>0.0</td>\n",
       "      <td>0.249908</td>\n",
       "      <td>8158.0</td>\n",
       "      <td>8.0</td>\n",
       "      <td>0.0</td>\n",
       "      <td>2.0</td>\n",
       "      <td>0.0</td>\n",
       "      <td>0.0</td>\n",
       "    </tr>\n",
       "  </tbody>\n",
       "</table>\n",
       "<p>108648 rows × 10 columns</p>\n",
       "</div>"
      ],
      "text/plain": [
       "        RevolvingUtilizationOfUnsecuredLines   age  \\\n",
       "0                                   0.766127  45.0   \n",
       "1                                   0.957151  40.0   \n",
       "2                                   0.658180  38.0   \n",
       "3                                   0.233810  30.0   \n",
       "4                                   0.907239  49.0   \n",
       "...                                      ...   ...   \n",
       "112910                              0.385742  50.0   \n",
       "112911                              0.040674  74.0   \n",
       "112912                              0.299745  44.0   \n",
       "112913                              0.000000  30.0   \n",
       "112914                              0.850283  64.0   \n",
       "\n",
       "        NumberOfTime30-59DaysPastDueNotWorse  DebtRatio  MonthlyIncome  \\\n",
       "0                                        2.0   0.802982         9120.0   \n",
       "1                                        0.0   0.121876         2600.0   \n",
       "2                                        1.0   0.085113         3042.0   \n",
       "3                                        0.0   0.036050         3300.0   \n",
       "4                                        1.0   0.024926        63588.0   \n",
       "...                                      ...        ...            ...   \n",
       "112910                                   0.0   0.404293         3400.0   \n",
       "112911                                   0.0   0.225131         2100.0   \n",
       "112912                                   0.0   0.716562         5584.0   \n",
       "112913                                   0.0   0.000000         5716.0   \n",
       "112914                                   0.0   0.249908         8158.0   \n",
       "\n",
       "        NumberOfOpenCreditLinesAndLoans  NumberOfTimes90DaysLate  \\\n",
       "0                                  13.0                      0.0   \n",
       "1                                   4.0                      0.0   \n",
       "2                                   2.0                      1.0   \n",
       "3                                   5.0                      0.0   \n",
       "4                                   7.0                      0.0   \n",
       "...                                 ...                      ...   \n",
       "112910                              7.0                      0.0   \n",
       "112911                              4.0                      0.0   \n",
       "112912                              4.0                      0.0   \n",
       "112913                              4.0                      0.0   \n",
       "112914                              8.0                      0.0   \n",
       "\n",
       "        NumberRealEstateLoansOrLines  NumberOfTime60-89DaysPastDueNotWorse  \\\n",
       "0                                6.0                                   0.0   \n",
       "1                                0.0                                   0.0   \n",
       "2                                0.0                                   0.0   \n",
       "3                                0.0                                   0.0   \n",
       "4                                1.0                                   0.0   \n",
       "...                              ...                                   ...   \n",
       "112910                           0.0                                   0.0   \n",
       "112911                           1.0                                   0.0   \n",
       "112912                           1.0                                   0.0   \n",
       "112913                           0.0                                   0.0   \n",
       "112914                           2.0                                   0.0   \n",
       "\n",
       "        NumberOfDependents  \n",
       "0                      2.0  \n",
       "1                      1.0  \n",
       "2                      0.0  \n",
       "3                      0.0  \n",
       "4                      0.0  \n",
       "...                    ...  \n",
       "112910                 0.0  \n",
       "112911                 0.0  \n",
       "112912                 2.0  \n",
       "112913                 0.0  \n",
       "112914                 0.0  \n",
       "\n",
       "[108648 rows x 10 columns]"
      ]
     },
     "execution_count": 87,
     "metadata": {},
     "output_type": "execute_result"
    }
   ],
   "source": [
    "X"
   ]
  },
  {
   "cell_type": "markdown",
   "metadata": {},
   "source": [
    "### 以下为操作题"
   ]
  },
  {
   "cell_type": "markdown",
   "metadata": {},
   "source": [
    "#### 1.把数据切分成训练集和测试集"
   ]
  },
  {
   "cell_type": "code",
   "execution_count": 88,
   "metadata": {
    "collapsed": true,
    "jupyter": {
     "outputs_hidden": true
    }
   },
   "outputs": [
    {
     "name": "stdout",
     "output_type": "stream",
     "text": [
      "Training set shape:  (76053, 10)\n",
      "Testing set shape:  (32595, 10)\n"
     ]
    }
   ],
   "source": [
    "# 提示：查看test_test_split函数\n",
    "from sklearn.model_selection import train_test_split\n",
    "\n",
    "# 切分数据为训练集和测试集\n",
    "X_train, X_test, y_train, y_test = train_test_split(X, y, test_size=0.3, random_state=0)\n",
    "\n",
    "# 查看训练集和测试集的形状\n",
    "print(\"Training set shape: \", X_train.shape)\n",
    "print(\"Testing set shape: \", X_test.shape)\n"
   ]
  },
  {
   "cell_type": "code",
   "execution_count": 89,
   "metadata": {
    "collapsed": true,
    "jupyter": {
     "outputs_hidden": true
    }
   },
   "outputs": [
    {
     "name": "stdout",
     "output_type": "stream",
     "text": [
      "Distribution of Target Variable (Train):\n",
      "0    70898\n",
      "1     5155\n",
      "Name: SeriousDlqin2yrs, dtype: int64\n",
      "\n",
      "Distribution of Target Variable (Test):\n",
      "0    30424\n",
      "1     2171\n",
      "Name: SeriousDlqin2yrs, dtype: int64\n"
     ]
    },
    {
     "data": {
      "image/png": "[encoded data removed]",
      "text/plain": [
       "<Figure size 640x480 with 1 Axes>"
      ]
     },
     "metadata": {},
     "output_type": "display_data"
    }
   ],
   "source": [
    "# 通过SeriousDlqin2yrs字段查看正负样本分布情况\n",
    "# 提示：value_counts\n",
    "# 查看正负样本的分布情况\n",
    "print(\"Distribution of Target Variable (Train):\")\n",
    "print(y_train.value_counts())\n",
    "\n",
    "print(\"\\nDistribution of Target Variable (Test):\")\n",
    "print(y_test.value_counts())\n",
    "\n",
    "\n",
    "# 绘制两种类别的柱状图\n",
    "# 提示：dataframe可以直接plot(kind='bar')\n",
    "import matplotlib.pyplot as plt\n",
    "\n",
    "# 绘制训练集中SeriousDlqin2yrs的分布\n",
    "y_train.value_counts().plot(kind='bar')\n",
    "plt.title('Distribution of Target Variable in Training Set')\n",
    "plt.xlabel('SeriousDlqin2yrs')\n",
    "plt.ylabel('Values')\n",
    "plt.show()\n",
    "\n"
   ]
  },
  {
   "cell_type": "markdown",
   "metadata": {},
   "source": [
    "#### 2.数据预处理之离散化\n",
    "在这里没有考虑使用离散化和独热编码"
   ]
  },
  {
   "cell_type": "code",
   "execution_count": 60,
   "metadata": {
    "collapsed": true,
    "jupyter": {
     "outputs_hidden": true
    }
   },
   "outputs": [
    {
     "name": "stdout",
     "output_type": "stream",
     "text": [
      "0.0 103.0\n",
      "         age    age_binned\n",
      "64329   27.0  (24.0, 27.0]\n",
      "70087   83.0  (81.0, 84.0]\n",
      "77642   72.0  (69.0, 72.0]\n",
      "6017    56.0  (54.0, 57.0]\n",
      "106521  83.0  (81.0, 84.0]\n",
      "         age    age_binned\n",
      "107294  61.0  (60.0, 63.0]\n",
      "39317   77.0  (75.0, 78.0]\n",
      "40606   50.0  (48.0, 51.0]\n",
      "68931   58.0  (57.0, 60.0]\n",
      "20745   57.0  (54.0, 57.0]\n"
     ]
    },
    {
     "name": "stderr",
     "output_type": "stream",
     "text": [
      "/home/tianyu/.julia/conda/3/envs/few_env/lib/python3.7/site-packages/ipykernel_launcher.py:18: SettingWithCopyWarning: \n",
      "A value is trying to be set on a copy of a slice from a DataFrame.\n",
      "Try using .loc[row_indexer,col_indexer] = value instead\n",
      "\n",
      "See the caveats in the documentation: https://pandas.pydata.org/pandas-docs/stable/user_guide/indexing.html#returning-a-view-versus-a-copy\n",
      "/home/tianyu/.julia/conda/3/envs/few_env/lib/python3.7/site-packages/ipykernel_launcher.py:25: SettingWithCopyWarning: \n",
      "A value is trying to be set on a copy of a slice from a DataFrame.\n",
      "Try using .loc[row_indexer,col_indexer] = value instead\n",
      "\n",
      "See the caveats in the documentation: https://pandas.pydata.org/pandas-docs/stable/user_guide/indexing.html#returning-a-view-versus-a-copy\n"
     ]
    }
   ],
   "source": [
    "# # 请对年龄按照3岁一个区间进行离散化\n",
    "# # 提示：可以先计算出分桶边界，再基于pandas的cut函数进行离散化(分箱、分桶)\n",
    "# import numpy as np\n",
    "\n",
    "# # 计算年龄的最大值和最小值\n",
    "# min_age_train = X_train['age'].min()\n",
    "# max_age_train = X_train['age'].max()\n",
    "# min_age_test = X_test['age'].min()\n",
    "# max_age_test = X_test['age'].max()\n",
    "\n",
    "# min_age=min(min_age_train,min_age_test)\n",
    "# max_age=max(max_age_train,max_age_test)\n",
    "# print(min_age,max_age)\n",
    "# # 创建分桶边界，确保最大年龄被包含\n",
    "# bins = np.arange(min_age, max_age + 3, 3)  # 3岁一个区间\n",
    "# #训练集\n",
    "# # 使用pd.cut进行离散化\n",
    "# X_train['age_binned'] = pd.cut(X_train['age'], bins=bins, include_lowest=True)\n",
    "\n",
    "# # 查看离散化结果\n",
    "# print(X_train[['age', 'age_binned']].head())\n",
    "\n",
    "# #测试集\n",
    "# # 使用pd.cut进行离散化\n",
    "# X_test['age_binned'] = pd.cut(X_test['age'], bins=bins, include_lowest=True)\n",
    "\n",
    "# # 查看离散化结果\n",
    "# print(X_test[['age', 'age_binned']].head())\n",
    "\n"
   ]
  },
  {
   "cell_type": "markdown",
   "metadata": {},
   "source": [
    "#### 3.数据预处理之独热向量编码"
   ]
  },
  {
   "cell_type": "code",
   "execution_count": 72,
   "metadata": {
    "collapsed": true,
    "jupyter": {
     "outputs_hidden": true
    }
   },
   "outputs": [
    {
     "name": "stdout",
     "output_type": "stream",
     "text": [
      "        age_(-0.001, 3.0]  age_(3.0, 6.0]  age_(6.0, 9.0]  age_(9.0, 12.0]  \\\n",
      "64329                   0               0               0                0   \n",
      "70087                   0               0               0                0   \n",
      "77642                   0               0               0                0   \n",
      "6017                    0               0               0                0   \n",
      "106521                  0               0               0                0   \n",
      "\n",
      "        age_(12.0, 15.0]  age_(15.0, 18.0]  age_(18.0, 21.0]  \\\n",
      "64329                  0                 0                 0   \n",
      "70087                  0                 0                 0   \n",
      "77642                  0                 0                 0   \n",
      "6017                   0                 0                 0   \n",
      "106521                 0                 0                 0   \n",
      "\n",
      "        age_(21.0, 24.0]  age_(24.0, 27.0]  age_(27.0, 30.0]  \\\n",
      "64329                  0                 1                 0   \n",
      "70087                  0                 0                 0   \n",
      "77642                  0                 0                 0   \n",
      "6017                   0                 0                 0   \n",
      "106521                 0                 0                 0   \n",
      "\n",
      "        age_(30.0, 33.0]  age_(33.0, 36.0]  age_(36.0, 39.0]  \\\n",
      "64329                  0                 0                 0   \n",
      "70087                  0                 0                 0   \n",
      "77642                  0                 0                 0   \n",
      "6017                   0                 0                 0   \n",
      "106521                 0                 0                 0   \n",
      "\n",
      "        age_(39.0, 42.0]  age_(42.0, 45.0]  age_(45.0, 48.0]  \\\n",
      "64329                  0                 0                 0   \n",
      "70087                  0                 0                 0   \n",
      "77642                  0                 0                 0   \n",
      "6017                   0                 0                 0   \n",
      "106521                 0                 0                 0   \n",
      "\n",
      "        age_(48.0, 51.0]  age_(51.0, 54.0]  age_(54.0, 57.0]  \\\n",
      "64329                  0                 0                 0   \n",
      "70087                  0                 0                 0   \n",
      "77642                  0                 0                 0   \n",
      "6017                   0                 0                 1   \n",
      "106521                 0                 0                 0   \n",
      "\n",
      "        age_(57.0, 60.0]  age_(60.0, 63.0]  age_(63.0, 66.0]  \\\n",
      "64329                  0                 0                 0   \n",
      "70087                  0                 0                 0   \n",
      "77642                  0                 0                 0   \n",
      "6017                   0                 0                 0   \n",
      "106521                 0                 0                 0   \n",
      "\n",
      "        age_(66.0, 69.0]  age_(69.0, 72.0]  age_(72.0, 75.0]  \\\n",
      "64329                  0                 0                 0   \n",
      "70087                  0                 0                 0   \n",
      "77642                  0                 1                 0   \n",
      "6017                   0                 0                 0   \n",
      "106521                 0                 0                 0   \n",
      "\n",
      "        age_(75.0, 78.0]  age_(78.0, 81.0]  age_(81.0, 84.0]  \\\n",
      "64329                  0                 0                 0   \n",
      "70087                  0                 0                 1   \n",
      "77642                  0                 0                 0   \n",
      "6017                   0                 0                 0   \n",
      "106521                 0                 0                 1   \n",
      "\n",
      "        age_(84.0, 87.0]  age_(87.0, 90.0]  age_(90.0, 93.0]  \\\n",
      "64329                  0                 0                 0   \n",
      "70087                  0                 0                 0   \n",
      "77642                  0                 0                 0   \n",
      "6017                   0                 0                 0   \n",
      "106521                 0                 0                 0   \n",
      "\n",
      "        age_(93.0, 96.0]  age_(96.0, 99.0]  age_(99.0, 102.0]  \\\n",
      "64329                  0                 0                  0   \n",
      "70087                  0                 0                  0   \n",
      "77642                  0                 0                  0   \n",
      "6017                   0                 0                  0   \n",
      "106521                 0                 0                  0   \n",
      "\n",
      "        age_(102.0, 105.0]  \n",
      "64329                    0  \n",
      "70087                    0  \n",
      "77642                    0  \n",
      "6017                     0  \n",
      "106521                   0  \n",
      "        age_(-0.001, 3.0]  age_(3.0, 6.0]  age_(6.0, 9.0]  age_(9.0, 12.0]  \\\n",
      "107294                  0               0               0                0   \n",
      "39317                   0               0               0                0   \n",
      "40606                   0               0               0                0   \n",
      "68931                   0               0               0                0   \n",
      "20745                   0               0               0                0   \n",
      "\n",
      "        age_(12.0, 15.0]  age_(15.0, 18.0]  age_(18.0, 21.0]  \\\n",
      "107294                 0                 0                 0   \n",
      "39317                  0                 0                 0   \n",
      "40606                  0                 0                 0   \n",
      "68931                  0                 0                 0   \n",
      "20745                  0                 0                 0   \n",
      "\n",
      "        age_(21.0, 24.0]  age_(24.0, 27.0]  age_(27.0, 30.0]  \\\n",
      "107294                 0                 0                 0   \n",
      "39317                  0                 0                 0   \n",
      "40606                  0                 0                 0   \n",
      "68931                  0                 0                 0   \n",
      "20745                  0                 0                 0   \n",
      "\n",
      "        age_(30.0, 33.0]  age_(33.0, 36.0]  age_(36.0, 39.0]  \\\n",
      "107294                 0                 0                 0   \n",
      "39317                  0                 0                 0   \n",
      "40606                  0                 0                 0   \n",
      "68931                  0                 0                 0   \n",
      "20745                  0                 0                 0   \n",
      "\n",
      "        age_(39.0, 42.0]  age_(42.0, 45.0]  age_(45.0, 48.0]  \\\n",
      "107294                 0                 0                 0   \n",
      "39317                  0                 0                 0   \n",
      "40606                  0                 0                 0   \n",
      "68931                  0                 0                 0   \n",
      "20745                  0                 0                 0   \n",
      "\n",
      "        age_(48.0, 51.0]  age_(51.0, 54.0]  age_(54.0, 57.0]  \\\n",
      "107294                 0                 0                 0   \n",
      "39317                  0                 0                 0   \n",
      "40606                  1                 0                 0   \n",
      "68931                  0                 0                 0   \n",
      "20745                  0                 0                 1   \n",
      "\n",
      "        age_(57.0, 60.0]  age_(60.0, 63.0]  age_(63.0, 66.0]  \\\n",
      "107294                 0                 1                 0   \n",
      "39317                  0                 0                 0   \n",
      "40606                  0                 0                 0   \n",
      "68931                  1                 0                 0   \n",
      "20745                  0                 0                 0   \n",
      "\n",
      "        age_(66.0, 69.0]  age_(69.0, 72.0]  age_(72.0, 75.0]  \\\n",
      "107294                 0                 0                 0   \n",
      "39317                  0                 0                 0   \n",
      "40606                  0                 0                 0   \n",
      "68931                  0                 0                 0   \n",
      "20745                  0                 0                 0   \n",
      "\n",
      "        age_(75.0, 78.0]  age_(78.0, 81.0]  age_(81.0, 84.0]  \\\n",
      "107294                 0                 0                 0   \n",
      "39317                  1                 0                 0   \n",
      "40606                  0                 0                 0   \n",
      "68931                  0                 0                 0   \n",
      "20745                  0                 0                 0   \n",
      "\n",
      "        age_(84.0, 87.0]  age_(87.0, 90.0]  age_(90.0, 93.0]  \\\n",
      "107294                 0                 0                 0   \n",
      "39317                  0                 0                 0   \n",
      "40606                  0                 0                 0   \n",
      "68931                  0                 0                 0   \n",
      "20745                  0                 0                 0   \n",
      "\n",
      "        age_(93.0, 96.0]  age_(96.0, 99.0]  age_(99.0, 102.0]  \\\n",
      "107294                 0                 0                  0   \n",
      "39317                  0                 0                  0   \n",
      "40606                  0                 0                  0   \n",
      "68931                  0                 0                  0   \n",
      "20745                  0                 0                  0   \n",
      "\n",
      "        age_(102.0, 105.0]  \n",
      "107294                   0  \n",
      "39317                    0  \n",
      "40606                    0  \n",
      "68931                    0  \n",
      "20745                    0  \n"
     ]
    }
   ],
   "source": [
    "# # 请对上述分箱后的年龄段进行独热向量编码\n",
    "# # 提示：使用pandas的get_dummies完成\n",
    "# # 对分箱后的年龄段进行独热向量编码\n",
    "# age_dummies_train = pd.get_dummies(X_train['age_binned'], prefix='age')\n",
    "# age_dummies_test = pd.get_dummies(X_test['age_binned'], prefix='age')\n",
    "# # 查看独热编码结果\n",
    "# print(age_dummies_train.head())\n",
    "# print(age_dummies_test.head())\n",
    "\n",
    "# # 将独热编码的DataFrame附加回原始数据集\n",
    "# X_train = pd.concat([X_train, age_dummies_train], axis=1)\n",
    "# X_train=X_train.drop('age', axis=1)\n",
    "# X_test = pd.concat([X_test, age_dummies_test], axis=1)\n",
    "# X_test=X_test.drop('age', axis=1)"
   ]
  },
  {
   "cell_type": "markdown",
   "metadata": {},
   "source": [
    "#### 4.数据预处理之幅度缩放"
   ]
  },
  {
   "cell_type": "code",
   "execution_count": 90,
   "metadata": {
    "collapsed": true,
    "jupyter": {
     "outputs_hidden": true
    }
   },
   "outputs": [
    {
     "name": "stdout",
     "output_type": "stream",
     "text": [
      "   RevolvingUtilizationOfUnsecuredLines       age  \\\n",
      "0                             -0.022432 -1.686168   \n",
      "1                             -0.022674  2.192767   \n",
      "2                             -0.022717  1.430833   \n",
      "3                             -0.022774  0.322566   \n",
      "4                             -0.022716  2.192767   \n",
      "\n",
      "   NumberOfTime30-59DaysPastDueNotWorse  DebtRatio  MonthlyIncome  \\\n",
      "0                             -0.106906   0.090374      -0.244427   \n",
      "1                             -0.106906  -0.577713       0.192130   \n",
      "2                             -0.106906  -1.298500      -0.078536   \n",
      "3                             -0.106906  -0.177879       0.223765   \n",
      "4                             -0.106906  -0.496932      -0.333004   \n",
      "\n",
      "   NumberOfOpenCreditLinesAndLoans  NumberOfTimes90DaysLate  \\\n",
      "0                        -0.327599                -0.060947   \n",
      "1                         0.062406                -0.060947   \n",
      "2                        -0.327599                -0.060947   \n",
      "3                        -0.132596                -0.060947   \n",
      "4                        -1.107608                -0.060947   \n",
      "\n",
      "   NumberRealEstateLoansOrLines  NumberOfTime60-89DaysPastDueNotWorse  \\\n",
      "0                     -0.943961                             -0.054381   \n",
      "1                     -0.011137                             -0.054381   \n",
      "2                     -0.943961                             -0.054381   \n",
      "3                      0.921687                             -0.054381   \n",
      "4                     -0.943961                             -0.054381   \n",
      "\n",
      "   NumberOfDependents  \n",
      "0            0.123702  \n",
      "1           -0.743866  \n",
      "2           -0.743866  \n",
      "3            1.858837  \n",
      "4           -0.743866  \n",
      "   RevolvingUtilizationOfUnsecuredLines       age  \\\n",
      "0                             -0.023364  0.662180   \n",
      "1                             -0.023452  1.766241   \n",
      "2                             -0.023255 -0.096861   \n",
      "3                             -0.023635  0.455169   \n",
      "4                             -0.022162  0.386165   \n",
      "\n",
      "   NumberOfTime30-59DaysPastDueNotWorse  DebtRatio  MonthlyIncome  \\\n",
      "0                             -0.108718   2.164621      -0.195307   \n",
      "1                             -0.108718  -0.659066      -0.393237   \n",
      "2                             -0.108718   0.307337      -0.234893   \n",
      "3                             -0.108718  -0.042059       0.770273   \n",
      "4                             -0.108718  -0.372841       0.833927   \n",
      "\n",
      "   NumberOfOpenCreditLinesAndLoans  NumberOfTimes90DaysLate  \\\n",
      "0                         2.988128                -0.061567   \n",
      "1                         0.648029                -0.061567   \n",
      "2                         0.063005                -0.061567   \n",
      "3                         0.843038                -0.061567   \n",
      "4                         1.428062                -0.061567   \n",
      "\n",
      "   NumberRealEstateLoansOrLines  NumberOfTime60-89DaysPastDueNotWorse  \\\n",
      "0                      2.729180                             -0.054056   \n",
      "1                     -0.938117                             -0.054056   \n",
      "2                     -0.021293                             -0.054056   \n",
      "3                     -0.021293                             -0.054056   \n",
      "4                      0.895531                             -0.054056   \n",
      "\n",
      "   NumberOfDependents  \n",
      "0           -0.748197  \n",
      "1           -0.748197  \n",
      "2           -0.748197  \n",
      "3            0.127287  \n",
      "4           -0.748197  \n"
     ]
    }
   ],
   "source": [
    "# 请对连续值特征进行幅度缩放\n",
    "# 提示：可以使用StandardScaler等幅度缩放器进行处理\n",
    "\n",
    "from sklearn.preprocessing import StandardScaler\n",
    "\n",
    "# 创建一个StandardScaler对象\n",
    "scaler = StandardScaler()\n",
    "\n",
    "# 选择连续值特征进行幅度缩放\n",
    "# 假设X是包含你想要缩放的特征的DataFrame\n",
    "continuous_features_train = X_train.columns  # 或者是你选择的连续特征列名列表\n",
    "continuous_features_test = X_test.columns \n",
    "# 对特征进行标准化处理\n",
    "X_train = scaler.fit_transform(X_train.to_numpy())\n",
    "X_test= scaler.fit_transform(X_test.to_numpy())\n",
    "# 将缩放后的数据转换回DataFrame\n",
    "X_train= pd.DataFrame(X_train, columns=continuous_features_train)\n",
    "X_test= pd.DataFrame(X_test, columns=continuous_features_test)\n",
    "# 查看缩放后的特征\n",
    "print(X_train.head())\n",
    "print(X_test.head())\n"
   ]
  },
  {
   "cell_type": "code",
   "execution_count": 91,
   "metadata": {},
   "outputs": [
    {
     "data": {
      "text/plain": [
       "array([[-0.0224317 , -1.68616803, -0.10690634, ..., -0.94396074,\n",
       "        -0.05438132,  0.12370193],\n",
       "       [-0.02267421,  2.19276673, -0.10690634, ..., -0.01113702,\n",
       "        -0.05438132, -0.74386565],\n",
       "       [-0.02271737,  1.43083312, -0.10690634, ..., -0.94396074,\n",
       "        -0.05438132, -0.74386565],\n",
       "       ...,\n",
       "       [-0.02184994,  1.08449966, -0.10690634, ..., -0.01113702,\n",
       "        -0.05438132, -0.74386565],\n",
       "       [-0.01927746, -1.54763465,  0.17284964, ..., -0.94396074,\n",
       "        -0.05438132,  1.8588371 ],\n",
       "       [-0.02248282,  0.46109943,  0.45260561, ...,  0.92168669,\n",
       "        -0.05438132, -0.74386565]])"
      ]
     },
     "execution_count": 91,
     "metadata": {},
     "output_type": "execute_result"
    }
   ],
   "source": [
    "X_train.to_numpy()"
   ]
  },
  {
   "cell_type": "code",
   "execution_count": 92,
   "metadata": {},
   "outputs": [
    {
     "data": {
      "text/plain": [
       "pandas.core.frame.DataFrame"
      ]
     },
     "execution_count": 92,
     "metadata": {},
     "output_type": "execute_result"
    }
   ],
   "source": [
    "type(X_train[continuous_features_train])"
   ]
  },
  {
   "cell_type": "code",
   "execution_count": 93,
   "metadata": {},
   "outputs": [
    {
     "data": {
      "text/plain": [
       "pandas.core.frame.DataFrame"
      ]
     },
     "execution_count": 93,
     "metadata": {},
     "output_type": "execute_result"
    }
   ],
   "source": [
    "type(X_train)"
   ]
  },
  {
   "cell_type": "code",
   "execution_count": 99,
   "metadata": {},
   "outputs": [
    {
     "data": {
      "text/html": [
       "<div>\n",
       "<style scoped>\n",
       "    .dataframe tbody tr th:only-of-type {\n",
       "        vertical-align: middle;\n",
       "    }\n",
       "\n",
       "    .dataframe tbody tr th {\n",
       "        vertical-align: top;\n",
       "    }\n",
       "\n",
       "    .dataframe thead th {\n",
       "        text-align: right;\n",
       "    }\n",
       "</style>\n",
       "<table border=\"1\" class=\"dataframe\">\n",
       "  <thead>\n",
       "    <tr style=\"text-align: right;\">\n",
       "      <th></th>\n",
       "      <th>RevolvingUtilizationOfUnsecuredLines</th>\n",
       "      <th>age</th>\n",
       "      <th>NumberOfTime30-59DaysPastDueNotWorse</th>\n",
       "      <th>DebtRatio</th>\n",
       "      <th>MonthlyIncome</th>\n",
       "      <th>NumberOfOpenCreditLinesAndLoans</th>\n",
       "      <th>NumberOfTimes90DaysLate</th>\n",
       "      <th>NumberRealEstateLoansOrLines</th>\n",
       "      <th>NumberOfTime60-89DaysPastDueNotWorse</th>\n",
       "      <th>NumberOfDependents</th>\n",
       "    </tr>\n",
       "  </thead>\n",
       "  <tbody>\n",
       "    <tr>\n",
       "      <th>0</th>\n",
       "      <td>-0.022432</td>\n",
       "      <td>-1.686168</td>\n",
       "      <td>-0.106906</td>\n",
       "      <td>0.090374</td>\n",
       "      <td>-0.244427</td>\n",
       "      <td>-0.327599</td>\n",
       "      <td>-0.060947</td>\n",
       "      <td>-0.943961</td>\n",
       "      <td>-0.054381</td>\n",
       "      <td>0.123702</td>\n",
       "    </tr>\n",
       "    <tr>\n",
       "      <th>1</th>\n",
       "      <td>-0.022674</td>\n",
       "      <td>2.192767</td>\n",
       "      <td>-0.106906</td>\n",
       "      <td>-0.577713</td>\n",
       "      <td>0.192130</td>\n",
       "      <td>0.062406</td>\n",
       "      <td>-0.060947</td>\n",
       "      <td>-0.011137</td>\n",
       "      <td>-0.054381</td>\n",
       "      <td>-0.743866</td>\n",
       "    </tr>\n",
       "    <tr>\n",
       "      <th>2</th>\n",
       "      <td>-0.022717</td>\n",
       "      <td>1.430833</td>\n",
       "      <td>-0.106906</td>\n",
       "      <td>-1.298500</td>\n",
       "      <td>-0.078536</td>\n",
       "      <td>-0.327599</td>\n",
       "      <td>-0.060947</td>\n",
       "      <td>-0.943961</td>\n",
       "      <td>-0.054381</td>\n",
       "      <td>-0.743866</td>\n",
       "    </tr>\n",
       "    <tr>\n",
       "      <th>3</th>\n",
       "      <td>-0.022774</td>\n",
       "      <td>0.322566</td>\n",
       "      <td>-0.106906</td>\n",
       "      <td>-0.177879</td>\n",
       "      <td>0.223765</td>\n",
       "      <td>-0.132596</td>\n",
       "      <td>-0.060947</td>\n",
       "      <td>0.921687</td>\n",
       "      <td>-0.054381</td>\n",
       "      <td>1.858837</td>\n",
       "    </tr>\n",
       "    <tr>\n",
       "      <th>4</th>\n",
       "      <td>-0.022716</td>\n",
       "      <td>2.192767</td>\n",
       "      <td>-0.106906</td>\n",
       "      <td>-0.496932</td>\n",
       "      <td>-0.333004</td>\n",
       "      <td>-1.107608</td>\n",
       "      <td>-0.060947</td>\n",
       "      <td>-0.943961</td>\n",
       "      <td>-0.054381</td>\n",
       "      <td>-0.743866</td>\n",
       "    </tr>\n",
       "    <tr>\n",
       "      <th>...</th>\n",
       "      <td>...</td>\n",
       "      <td>...</td>\n",
       "      <td>...</td>\n",
       "      <td>...</td>\n",
       "      <td>...</td>\n",
       "      <td>...</td>\n",
       "      <td>...</td>\n",
       "      <td>...</td>\n",
       "      <td>...</td>\n",
       "      <td>...</td>\n",
       "    </tr>\n",
       "    <tr>\n",
       "      <th>76048</th>\n",
       "      <td>-0.020751</td>\n",
       "      <td>-0.231567</td>\n",
       "      <td>0.172850</td>\n",
       "      <td>-0.012784</td>\n",
       "      <td>0.239582</td>\n",
       "      <td>1.622425</td>\n",
       "      <td>-0.060947</td>\n",
       "      <td>-0.011137</td>\n",
       "      <td>-0.054381</td>\n",
       "      <td>1.858837</td>\n",
       "    </tr>\n",
       "    <tr>\n",
       "      <th>76049</th>\n",
       "      <td>-0.019201</td>\n",
       "      <td>-1.616901</td>\n",
       "      <td>-0.106906</td>\n",
       "      <td>-1.067234</td>\n",
       "      <td>-0.269735</td>\n",
       "      <td>-1.302611</td>\n",
       "      <td>-0.060947</td>\n",
       "      <td>-0.943961</td>\n",
       "      <td>-0.054381</td>\n",
       "      <td>-0.743866</td>\n",
       "    </tr>\n",
       "    <tr>\n",
       "      <th>76050</th>\n",
       "      <td>-0.021850</td>\n",
       "      <td>1.084500</td>\n",
       "      <td>-0.106906</td>\n",
       "      <td>-0.171493</td>\n",
       "      <td>-0.187485</td>\n",
       "      <td>-0.912606</td>\n",
       "      <td>-0.060947</td>\n",
       "      <td>-0.011137</td>\n",
       "      <td>-0.054381</td>\n",
       "      <td>-0.743866</td>\n",
       "    </tr>\n",
       "    <tr>\n",
       "      <th>76051</th>\n",
       "      <td>-0.019277</td>\n",
       "      <td>-1.547635</td>\n",
       "      <td>0.172850</td>\n",
       "      <td>-0.929873</td>\n",
       "      <td>-0.187485</td>\n",
       "      <td>-0.717604</td>\n",
       "      <td>-0.060947</td>\n",
       "      <td>-0.943961</td>\n",
       "      <td>-0.054381</td>\n",
       "      <td>1.858837</td>\n",
       "    </tr>\n",
       "    <tr>\n",
       "      <th>76052</th>\n",
       "      <td>-0.022483</td>\n",
       "      <td>0.461099</td>\n",
       "      <td>0.452606</td>\n",
       "      <td>-0.513849</td>\n",
       "      <td>0.223765</td>\n",
       "      <td>1.622425</td>\n",
       "      <td>-0.060947</td>\n",
       "      <td>0.921687</td>\n",
       "      <td>-0.054381</td>\n",
       "      <td>-0.743866</td>\n",
       "    </tr>\n",
       "  </tbody>\n",
       "</table>\n",
       "<p>76053 rows × 10 columns</p>\n",
       "</div>"
      ],
      "text/plain": [
       "       RevolvingUtilizationOfUnsecuredLines       age  \\\n",
       "0                                 -0.022432 -1.686168   \n",
       "1                                 -0.022674  2.192767   \n",
       "2                                 -0.022717  1.430833   \n",
       "3                                 -0.022774  0.322566   \n",
       "4                                 -0.022716  2.192767   \n",
       "...                                     ...       ...   \n",
       "76048                             -0.020751 -0.231567   \n",
       "76049                             -0.019201 -1.616901   \n",
       "76050                             -0.021850  1.084500   \n",
       "76051                             -0.019277 -1.547635   \n",
       "76052                             -0.022483  0.461099   \n",
       "\n",
       "       NumberOfTime30-59DaysPastDueNotWorse  DebtRatio  MonthlyIncome  \\\n",
       "0                                 -0.106906   0.090374      -0.244427   \n",
       "1                                 -0.106906  -0.577713       0.192130   \n",
       "2                                 -0.106906  -1.298500      -0.078536   \n",
       "3                                 -0.106906  -0.177879       0.223765   \n",
       "4                                 -0.106906  -0.496932      -0.333004   \n",
       "...                                     ...        ...            ...   \n",
       "76048                              0.172850  -0.012784       0.239582   \n",
       "76049                             -0.106906  -1.067234      -0.269735   \n",
       "76050                             -0.106906  -0.171493      -0.187485   \n",
       "76051                              0.172850  -0.929873      -0.187485   \n",
       "76052                              0.452606  -0.513849       0.223765   \n",
       "\n",
       "       NumberOfOpenCreditLinesAndLoans  NumberOfTimes90DaysLate  \\\n",
       "0                            -0.327599                -0.060947   \n",
       "1                             0.062406                -0.060947   \n",
       "2                            -0.327599                -0.060947   \n",
       "3                            -0.132596                -0.060947   \n",
       "4                            -1.107608                -0.060947   \n",
       "...                                ...                      ...   \n",
       "76048                         1.622425                -0.060947   \n",
       "76049                        -1.302611                -0.060947   \n",
       "76050                        -0.912606                -0.060947   \n",
       "76051                        -0.717604                -0.060947   \n",
       "76052                         1.622425                -0.060947   \n",
       "\n",
       "       NumberRealEstateLoansOrLines  NumberOfTime60-89DaysPastDueNotWorse  \\\n",
       "0                         -0.943961                             -0.054381   \n",
       "1                         -0.011137                             -0.054381   \n",
       "2                         -0.943961                             -0.054381   \n",
       "3                          0.921687                             -0.054381   \n",
       "4                         -0.943961                             -0.054381   \n",
       "...                             ...                                   ...   \n",
       "76048                     -0.011137                             -0.054381   \n",
       "76049                     -0.943961                             -0.054381   \n",
       "76050                     -0.011137                             -0.054381   \n",
       "76051                     -0.943961                             -0.054381   \n",
       "76052                      0.921687                             -0.054381   \n",
       "\n",
       "       NumberOfDependents  \n",
       "0                0.123702  \n",
       "1               -0.743866  \n",
       "2               -0.743866  \n",
       "3                1.858837  \n",
       "4               -0.743866  \n",
       "...                   ...  \n",
       "76048            1.858837  \n",
       "76049           -0.743866  \n",
       "76050           -0.743866  \n",
       "76051            1.858837  \n",
       "76052           -0.743866  \n",
       "\n",
       "[76053 rows x 10 columns]"
      ]
     },
     "execution_count": 99,
     "metadata": {},
     "output_type": "execute_result"
    }
   ],
   "source": [
    "X_train.iloc[0:,0:]"
   ]
  },
  {
   "cell_type": "markdown",
   "metadata": {},
   "source": [
    "#### 5.使用logistic regression建模，并且输出一下系数，分析重要度。   "
   ]
  },
  {
   "cell_type": "code",
   "execution_count": 101,
   "metadata": {
    "collapsed": true,
    "jupyter": {
     "outputs_hidden": true
    }
   },
   "outputs": [
    {
     "name": "stdout",
     "output_type": "stream",
     "text": [
      "Coefficients: [[-0.01428343 -0.3642989   1.72879999  0.31210525 -0.11519842 -0.09188338\n",
      "   1.68957186 -0.19643174 -3.24844059  0.11639394]]\n",
      "                                Feature  Importance\n",
      "2  NumberOfTime30-59DaysPastDueNotWorse    1.728800\n",
      "6               NumberOfTimes90DaysLate    1.689572\n",
      "3                             DebtRatio    0.312105\n",
      "9                    NumberOfDependents    0.116394\n",
      "0  RevolvingUtilizationOfUnsecuredLines   -0.014283\n",
      "5       NumberOfOpenCreditLinesAndLoans   -0.091883\n",
      "4                         MonthlyIncome   -0.115198\n",
      "7          NumberRealEstateLoansOrLines   -0.196432\n",
      "1                                   age   -0.364299\n",
      "8  NumberOfTime60-89DaysPastDueNotWorse   -3.248441\n"
     ]
    }
   ],
   "source": [
    "# 提示：fit建模，建完模之后可以取出coef属性\n",
    "from sklearn.linear_model import LogisticRegression\n",
    "\n",
    "# 创建逻辑回归模型实例\n",
    "lr =LogisticRegression(C=100.0, random_state=0, penalty='l2')\n",
    "\n",
    "# 使用训练数据拟合模型\n",
    "lr.fit(X_train, y_train)\n",
    "\n",
    "# 输出模型的系数\n",
    "print(\"Coefficients:\", lr.coef_)\n",
    "\n",
    "# 如果你想要更好地理解每个特征的重要性，可以将系数与特征名称一起打印出来\n",
    "feature_importance = pd.DataFrame({'Feature': X.columns, 'Importance': lr.coef_[0]})\n",
    "print(feature_importance.sort_values(by=\"Importance\", ascending=False))\n",
    "\n",
    "\n"
   ]
  },
  {
   "cell_type": "markdown",
   "metadata": {},
   "source": [
    "#### 6.使用网格搜索交叉验证进行调参\n",
    "调整penalty和C参数，其中penalty候选为\"l1\"和\"l2\"，C的候选为[1,10,100,500]"
   ]
  },
  {
   "cell_type": "code",
   "execution_count": 104,
   "metadata": {
    "collapsed": true,
    "jupyter": {
     "outputs_hidden": true
    }
   },
   "outputs": [
    {
     "name": "stdout",
     "output_type": "stream",
     "text": [
      "Best parameters:  {'C': 1, 'penalty': 'l1'}\n",
      "Best cross-validation score: 0.93\n",
      "(accuracy_score) Test accuracy: 0.9339\n"
     ]
    }
   ],
   "source": [
    "# 提示：先按照上面要求准备好网格字典，再使用GridSearchCV进行调参\n",
    "from sklearn.model_selection import GridSearchCV\n",
    "from sklearn.linear_model import LogisticRegression\n",
    "from sklearn.metrics import accuracy_score\n",
    "# 创建逻辑回归模型实例\n",
    "lr= LogisticRegression(solver='liblinear')  # 对于L1正则化，需要选择适合的求解器，如'liblinear'\n",
    "\n",
    "# 定义要搜索的参数网格\n",
    "param_grid = {\n",
    "    'penalty': ['l1', 'l2'],  # 正则化类型\n",
    "    'C': [1, 10, 100, 500]    # 正则化强度的倒数\n",
    "}\n",
    "\n",
    "# 创建GridSearchCV对象\n",
    "grid_search = GridSearchCV(lr, param_grid, cv=5, scoring='accuracy', refit=True)\n",
    "\n",
    "# 执行网格搜索\n",
    "grid_search.fit(X_train, y_train)\n",
    "\n",
    "# 输出最佳参数\n",
    "print(\"Best parameters: \", grid_search.best_params_)\n",
    "print(\"Best cross-validation score: {:.2f}\".format(grid_search.best_score_))\n",
    "# 输出最好的超参数\n",
    "# 输出最好的模型\n",
    "# 使用最佳参数在整个训练集上重新训练模型\n",
    "best_model = grid_search.best_estimator_\n",
    "\n",
    "# 可选：使用最佳模型在测试集上进行预测和评估\n",
    "y_test_pred = best_model.predict(X_test)\n",
    "print('(accuracy_score) Test accuracy: %.4f' % accuracy_score(y_test, y_test_pred))\n",
    "\n"
   ]
  },
  {
   "cell_type": "markdown",
   "metadata": {},
   "source": [
    "#### 7.在测试集上进行预测，计算 查准率/查全率/auc/混淆矩阵/f1值 等测试指标"
   ]
  },
  {
   "cell_type": "code",
   "execution_count": 106,
   "metadata": {
    "collapsed": true,
    "jupyter": {
     "outputs_hidden": true
    }
   },
   "outputs": [
    {
     "name": "stdout",
     "output_type": "stream",
     "text": [
      "Accuracy: 0.9339\n",
      "Recall: 0.0461\n",
      "AUC: 0.6980\n",
      "Confusion Matrix:\n",
      " [[30341    83]\n",
      " [ 2071   100]]\n",
      "F1 Score: 0.0850\n"
     ]
    }
   ],
   "source": [
    "# 提示：在测试集上预测可以使用predict\n",
    "# 提示：各种指标可以在sklearn.metrics中查到各种评估指标，分别是accuracy_score、recall_score、auc、confusion_matrix、f1_score\n",
    "from sklearn.metrics import accuracy_score, recall_score, roc_auc_score, confusion_matrix, f1_score\n",
    "\n",
    "# 使用最佳模型在测试集上进行预测\n",
    "y_test_pred = best_model.predict(X_test)\n",
    "y_test_prob = best_model.predict_proba(X_test)[:, 1]  # 获取正类的预测概率，用于计算AUC\n",
    "\n",
    "# 计算各种测试指标\n",
    "accuracy = accuracy_score(y_test, y_test_pred)\n",
    "recall = recall_score(y_test, y_test_pred)\n",
    "auc = roc_auc_score(y_test, y_test_prob)\n",
    "conf_matrix = confusion_matrix(y_test, y_test_pred)\n",
    "f1 = f1_score(y_test, y_test_pred)\n",
    "\n",
    "# 打印测试指标\n",
    "print(\"Accuracy: {:.4f}\".format(accuracy))\n",
    "print(\"Recall: {:.4f}\".format(recall))\n",
    "print(\"AUC: {:.4f}\".format(auc))\n",
    "print(\"Confusion Matrix:\\n\", conf_matrix)\n",
    "print(\"F1 Score: {:.4f}\".format(f1))\n",
    "\n"
   ]
  },
  {
   "cell_type": "markdown",
   "metadata": {},
   "source": [
    "#### 8.更多优化\n",
    "银行通常会有更严格的要求，因为欺诈带来的后果通常比较严重，一般我们会调整模型的标准。   \n",
    "\n",
    "比如在logistic regression当中，一般我们的概率判定边界为0.5，但是我们可以把阈值设定低一些，来提高模型的“敏感度”   \n",
    "试试看把阈值设定为0.3，再看看这个时候的混淆矩阵等评估指标。"
   ]
  },
  {
   "cell_type": "code",
   "execution_count": 107,
   "metadata": {
    "collapsed": true,
    "jupyter": {
     "outputs_hidden": true
    }
   },
   "outputs": [
    {
     "name": "stdout",
     "output_type": "stream",
     "text": [
      "Threshold: 0.1\n",
      "Confusion Matrix:\n",
      " [[26778  3646]\n",
      " [ 1253   918]]\n",
      "Accuracy: 0.8497\n",
      "Recall: 0.4228\n",
      "F1 Score: 0.2726\n",
      "\n",
      "Threshold: 0.2\n",
      "Confusion Matrix:\n",
      " [[29799   625]\n",
      " [ 1754   417]]\n",
      "Accuracy: 0.9270\n",
      "Recall: 0.1921\n",
      "F1 Score: 0.2596\n",
      "\n",
      "Threshold: 0.3\n",
      "Confusion Matrix:\n",
      " [[30178   246]\n",
      " [ 1927   244]]\n",
      "Accuracy: 0.9333\n",
      "Recall: 0.1124\n",
      "F1 Score: 0.1834\n",
      "\n",
      "Threshold: 0.4\n",
      "Confusion Matrix:\n",
      " [[30291   133]\n",
      " [ 2018   153]]\n",
      "Accuracy: 0.9340\n",
      "Recall: 0.0705\n",
      "F1 Score: 0.1245\n",
      "\n",
      "Threshold: 0.5\n",
      "Confusion Matrix:\n",
      " [[30341    83]\n",
      " [ 2071   100]]\n",
      "Accuracy: 0.9339\n",
      "Recall: 0.0461\n",
      "F1 Score: 0.0850\n",
      "\n",
      "Threshold: 0.6\n",
      "Confusion Matrix:\n",
      " [[30371    53]\n",
      " [ 2104    67]]\n",
      "Accuracy: 0.9338\n",
      "Recall: 0.0309\n",
      "F1 Score: 0.0585\n",
      "\n",
      "Threshold: 0.7\n",
      "Confusion Matrix:\n",
      " [[30390    34]\n",
      " [ 2128    43]]\n",
      "Accuracy: 0.9337\n",
      "Recall: 0.0198\n",
      "F1 Score: 0.0383\n",
      "\n",
      "Threshold: 0.8\n",
      "Confusion Matrix:\n",
      " [[30403    21]\n",
      " [ 2143    28]]\n",
      "Accuracy: 0.9336\n",
      "Recall: 0.0129\n",
      "F1 Score: 0.0252\n",
      "\n",
      "Threshold: 0.9\n",
      "Confusion Matrix:\n",
      " [[30418     6]\n",
      " [ 2167     4]]\n",
      "Accuracy: 0.9333\n",
      "Recall: 0.0018\n",
      "F1 Score: 0.0037\n",
      "\n"
     ]
    }
   ],
   "source": [
    "# 提示：thresholds = [0.1,0.2,0.3,0.4,0.5,0.6,0.7,0.8,0.9]\n",
    "# 根据predict_proba的结果和threshold的比较确定结果，再评估各种结果指标\n",
    "import numpy as np\n",
    "\n",
    "# 设置不同的阈值\n",
    "thresholds = [0.1, 0.2, 0.3, 0.4, 0.5, 0.6, 0.7, 0.8, 0.9]\n",
    "\n",
    "# 循环不同的阈值\n",
    "for thresh in thresholds:\n",
    "    # 根据阈值调整预测结果\n",
    "    y_test_pred_thresh = (y_test_prob >= thresh).astype(int)\n",
    "\n",
    "    # 计算并打印混淆矩阵和其他评估指标\n",
    "    conf_matrix = confusion_matrix(y_test, y_test_pred_thresh)\n",
    "    accuracy = accuracy_score(y_test, y_test_pred_thresh)\n",
    "    recall = recall_score(y_test, y_test_pred_thresh)\n",
    "    f1 = f1_score(y_test, y_test_pred_thresh)\n",
    "\n",
    "    print(f\"Threshold: {thresh}\")\n",
    "    print(\"Confusion Matrix:\\n\", conf_matrix)\n",
    "    print(f\"Accuracy: {accuracy:.4f}\")\n",
    "    print(f\"Recall: {recall:.4f}\")\n",
    "    print(f\"F1 Score: {f1:.4f}\\n\")\n",
    "\n"
   ]
  },
  {
   "cell_type": "markdown",
   "metadata": {},
   "source": [
    "#### 9.尝试对不同特征的重要度进行排序，通过特征选择的方式，对特征进行筛选。并重新建模，观察此时的模型准确率等评估指标。"
   ]
  },
  {
   "cell_type": "code",
   "execution_count": 111,
   "metadata": {
    "collapsed": true,
    "jupyter": {
     "outputs_hidden": true
    }
   },
   "outputs": [
    {
     "name": "stdout",
     "output_type": "stream",
     "text": [
      "Selected features: Index(['age', 'NumberOfTime30-59DaysPastDueNotWorse', 'DebtRatio',\n",
      "       'NumberOfTimes90DaysLate', 'NumberOfTime60-89DaysPastDueNotWorse'],\n",
      "      dtype='object')\n",
      "Confusion Matrix:\n",
      " [[30350    74]\n",
      " [ 2082    89]]\n",
      "Accuracy: 0.9339\n",
      "Recall: 0.0410\n",
      "F1 Score: 0.0763\n"
     ]
    }
   ],
   "source": [
    "# 可以根据逻辑回归的系数绝对值大小进行排序，也可以基于树模型的特征重要度进行排序\n",
    "# 特征选择可以使用RFE或者selectFromModel\n",
    "from sklearn.feature_selection import RFE\n",
    "from sklearn.linear_model import LogisticRegression\n",
    "\n",
    "# 创建逻辑回归模型实例\n",
    "lr = LogisticRegression()\n",
    "\n",
    "# 使用递归特征消除（RFE）进行特征选择\n",
    "selector = RFE(lr, n_features_to_select=5, step=1)  # 选择5个最重要的特征\n",
    "selector = selector.fit(X_train, y_train)\n",
    "\n",
    "# 获取选定的特征\n",
    "selected_features = X_train.columns[selector.support_]\n",
    "print(\"Selected features:\", selected_features)\n",
    "\n",
    "# 使用选定的特征重新建模\n",
    "\n",
    "lr.fit(X_train.iloc[:, selector.support_], y_train)\n",
    "\n",
    "# 在测试集上进行预测\n",
    "y_test_pred = lr.predict(X_test.iloc[:, selector.support_])\n",
    "\n",
    "\n",
    "\n",
    "\n",
    "# 计算并打印混淆矩阵和其他评估指标\n",
    "conf_matrix = confusion_matrix(y_test, y_test_pred)\n",
    "accuracy = accuracy_score(y_test, y_test_pred)\n",
    "recall = recall_score(y_test, y_test_pred)\n",
    "f1 = f1_score(y_test, y_test_pred)\n",
    "\n",
    "print(\"Confusion Matrix:\\n\", conf_matrix)\n",
    "print(f\"Accuracy: {accuracy:.4f}\")\n",
    "print(f\"Recall: {recall:.4f}\")\n",
    "print(f\"F1 Score: {f1:.4f}\")\n",
    "\n"
   ]
  },
  {
   "cell_type": "markdown",
   "metadata": {},
   "source": [
    "#### 10.其他模型算法尝试\n",
    "使用RandomForestClassifier/SVM/KNN等sklearn分类算法进行分类，尝试上述超参数调优算法过程。"
   ]
  },
  {
   "cell_type": "code",
   "execution_count": null,
   "metadata": {
    "collapsed": true,
    "jupyter": {
     "outputs_hidden": true
    }
   },
   "outputs": [],
   "source": [
    "# 随机森林\n",
    "from sklearn.ensemble import RandomForestClassifier\n",
    "# 支持向量机\n",
    "from sklearn.svm import SVC\n",
    "# K最近邻\n",
    "from sklearn.neighbors import KNeighborsClassifier\n",
    "\n"
   ]
  }
 ],
 "metadata": {
  "kernelspec": {
   "display_name": "Python 3 (ipykernel)",
   "language": "python",
   "name": "python3"
  },
  "language_info": {
   "codemirror_mode": {
    "name": "ipython",
    "version": 3
   },
   "file_extension": ".py",
   "mimetype": "text/x-python",
   "name": "python",
   "nbconvert_exporter": "python",
   "pygments_lexer": "ipython3",
   "version": "3.7.12"
  }
 },
 "nbformat": 4,
 "nbformat_minor": 4
}
