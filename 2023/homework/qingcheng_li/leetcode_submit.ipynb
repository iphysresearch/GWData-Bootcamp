{
 "cells": [
  {
   "cell_type": "code",
   "execution_count": null,
   "metadata": {},
   "outputs": [],
   "source": [
    "#434\n",
    "class Solution(object):\n",
    "    def countSegments(self, s):\n",
    "        total=0\n",
    "        #遍历字符串\n",
    "        for i,value in enumerate(s):\n",
    "            if value == ' ':\n",
    "                total+=1\n",
    "        return total+1"
   ]
  },
  {
   "cell_type": "code",
   "execution_count": null,
   "metadata": {},
   "outputs": [],
   "source": [
    "#1869\n",
    "class Solution(object):\n",
    "    def checkZeroOnes(self, s):\n",
    "        #分割s直接计算长度并比较\n",
    "        length1=max(len(i) for i in s.split('0'))\n",
    "        length0=max(len(i) for i in s.split('1'))\n",
    "        return length1>length0\n",
    "        \"\"\"\n",
    "        :type s: str\n",
    "        :rtype: bool\n",
    "        \"\"\""
   ]
  },
  {
   "cell_type": "code",
   "execution_count": null,
   "metadata": {},
   "outputs": [],
   "source": [
    "#1784\n",
    "class Solution(object):\n",
    "    def checkOnesSegment(self, s):\n",
    "        #设定一个flag\n",
    "        flag = True\n",
    "        for i,value in enumerate(s):\n",
    "            if s[i] == '0':\n",
    "                flag = False\n",
    "                #0后面如果再出现1，就false\n",
    "            elif s[i]=='1' and flag==False:\n",
    "                return False\n",
    "        return True\n",
    "\n",
    "        \"\"\"\n",
    "        :type s: str\n",
    "        :rtype: bool\n",
    "        \"\"\""
   ]
  },
  {
   "cell_type": "code",
   "execution_count": null,
   "metadata": {},
   "outputs": [],
   "source": [
    "#852\n",
    "class Solution(object):\n",
    "    def peakIndexInMountainArray(self, arr):\n",
    "        \"\"\"\n",
    "        :type arr: List[int]\n",
    "        :rtype: int\n",
    "        \"\"\"\n",
    "        #找到刚刚开始减小的数\n",
    "        for i in range(1, len(arr)):\n",
    "            if arr[i] < arr[i - 1]:\n",
    "                return i-1"
   ]
  },
  {
   "cell_type": "code",
   "execution_count": null,
   "metadata": {},
   "outputs": [],
   "source": [
    "#162\n",
    "#可以用和上题完全一样的解法\n",
    "class Solution(object):\n",
    "    def findPeakElement(self, nums):\n",
    "        \"\"\"\n",
    "        :type nums: List[int]\n",
    "        :rtype: int\n",
    "        \"\"\"\n",
    "        for i in range(1, len(nums)):\n",
    "            if nums[i] < nums[i - 1]:\n",
    "                return i-1"
   ]
  }
 ],
 "metadata": {
  "kernelspec": {
   "display_name": "base",
   "language": "python",
   "name": "python3"
  },
  "language_info": {
   "name": "python",
   "version": "3.11.3"
  }
 },
 "nbformat": 4,
 "nbformat_minor": 2
}
