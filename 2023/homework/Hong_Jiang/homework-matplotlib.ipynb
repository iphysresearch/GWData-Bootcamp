{
 "cells": [
  {
   "cell_type": "markdown",
   "id": "b8753dd8-7a83-4584-9360-954a9512007f",
   "metadata": {},
   "source": [
    "# 数据可视化作业题目"
   ]
  },
  {
   "cell_type": "code",
   "execution_count": 2,
   "id": "bda9f437-af21-4bc4-beb9-59034544e317",
   "metadata": {
    "tags": []
   },
   "outputs": [],
   "source": [
    "import matplotlib.pyplot as plt\n",
    "import pandas as pd\n",
    "import seaborn as sns\n",
    "import numpy as np"
   ]
  },
  {
   "cell_type": "markdown",
   "id": "67d732a4-44e5-4313-bf75-0b1b1d036aee",
   "metadata": {},
   "source": [
    "## 练习1：航班乘客变化分析 (2个题)\n",
    "\n",
    "1. 分析年度乘客总量的变化情况（提示：折线图）\n",
    "2. 分析乘客量在一年中12个月份的分布（提示：柱状图）"
   ]
  },
  {
   "cell_type": "code",
   "execution_count": 3,
   "id": "fbecfad8-61bd-483d-a1cc-e6cb6b69188a",
   "metadata": {
    "tags": []
   },
   "outputs": [
    {
     "data": {
      "text/html": [
       "<div>\n",
       "<style scoped>\n",
       "    .dataframe tbody tr th:only-of-type {\n",
       "        vertical-align: middle;\n",
       "    }\n",
       "\n",
       "    .dataframe tbody tr th {\n",
       "        vertical-align: top;\n",
       "    }\n",
       "\n",
       "    .dataframe thead th {\n",
       "        text-align: right;\n",
       "    }\n",
       "</style>\n",
       "<table border=\"1\" class=\"dataframe\">\n",
       "  <thead>\n",
       "    <tr style=\"text-align: right;\">\n",
       "      <th></th>\n",
       "      <th>year</th>\n",
       "      <th>month</th>\n",
       "      <th>passengers</th>\n",
       "    </tr>\n",
       "  </thead>\n",
       "  <tbody>\n",
       "    <tr>\n",
       "      <th>0</th>\n",
       "      <td>1949</td>\n",
       "      <td>Jan</td>\n",
       "      <td>112</td>\n",
       "    </tr>\n",
       "    <tr>\n",
       "      <th>1</th>\n",
       "      <td>1949</td>\n",
       "      <td>Feb</td>\n",
       "      <td>118</td>\n",
       "    </tr>\n",
       "    <tr>\n",
       "      <th>2</th>\n",
       "      <td>1949</td>\n",
       "      <td>Mar</td>\n",
       "      <td>132</td>\n",
       "    </tr>\n",
       "    <tr>\n",
       "      <th>3</th>\n",
       "      <td>1949</td>\n",
       "      <td>Apr</td>\n",
       "      <td>129</td>\n",
       "    </tr>\n",
       "    <tr>\n",
       "      <th>4</th>\n",
       "      <td>1949</td>\n",
       "      <td>May</td>\n",
       "      <td>121</td>\n",
       "    </tr>\n",
       "  </tbody>\n",
       "</table>\n",
       "</div>"
      ],
      "text/plain": [
       "   year month  passengers\n",
       "0  1949   Jan         112\n",
       "1  1949   Feb         118\n",
       "2  1949   Mar         132\n",
       "3  1949   Apr         129\n",
       "4  1949   May         121"
      ]
     },
     "execution_count": 3,
     "metadata": {},
     "output_type": "execute_result"
    }
   ],
   "source": [
    "data = sns.load_dataset(\"flights\")\n",
    "data.head()\n",
    "# 年份，月份，乘客数"
   ]
  },
  {
   "cell_type": "code",
   "execution_count": 4,
   "id": "ca7a7f83",
   "metadata": {},
   "outputs": [
    {
     "name": "stderr",
     "output_type": "stream",
     "text": [
      "C:\\Users\\Henrik\\AppData\\Local\\Temp\\ipykernel_10548\\2809860004.py:4: FutureWarning: The default of observed=False is deprecated and will be changed to True in a future version of pandas. Pass observed=False to retain current behavior or observed=True to adopt the future default and silence this warning.\n",
      "  grouped2 = data[['month', 'passengers']].groupby('month').sum()\n"
     ]
    },
    {
     "data": {
      "text/plain": [
       "month\n",
       "Jan    2901\n",
       "Feb    2820\n",
       "Mar    3242\n",
       "Apr    3205\n",
       "May    3262\n",
       "Jun    3740\n",
       "Jul    4216\n",
       "Aug    4213\n",
       "Sep    3629\n",
       "Oct    3199\n",
       "Nov    2794\n",
       "Dec    3142\n",
       "Name: passengers, dtype: int64"
      ]
     },
     "execution_count": 4,
     "metadata": {},
     "output_type": "execute_result"
    }
   ],
   "source": [
    "grouped = data[['year', 'passengers']].groupby('year').sum()\n",
    "#df = pd.DataFrame(grouped, columns=['passengers'])\n",
    "#df = pd.DataFrame(grouped)\n",
    "grouped2 = data[['month', 'passengers']].groupby('month').sum()\n",
    "grouped2['passengers']"
   ]
  },
  {
   "cell_type": "code",
   "execution_count": 49,
   "id": "fd6dd6a0",
   "metadata": {},
   "outputs": [
    {
     "data": {
      "text/plain": [
       "[Text(0, 500, '500'),\n",
       " Text(0, 1000, '1000'),\n",
       " Text(0, 1500, '1500'),\n",
       " Text(0, 2000, '2000'),\n",
       " Text(0, 2500, '2500'),\n",
       " Text(0, 3000, '3000'),\n",
       " Text(0, 3500, '3500'),\n",
       " Text(0, 4000, '4000')]"
      ]
     },
     "execution_count": 49,
     "metadata": {},
     "output_type": "execute_result"
    },
    {
     "data": {
      "image/png": "[encoded data removed]",
      "text/plain": [
       "<Figure size 1065x350 with 2 Axes>"
      ]
     },
     "metadata": {},
     "output_type": "display_data"
    }
   ],
   "source": [
    "#练习1\n",
    "fig, axes = plt.subplots(1, 2, figsize=(10.65, 3.5))\n",
    "axes[0].plot(grouped)\n",
    "axes[0].set_title(\"The number of passengers in ench year\",fontsize = 'small')\n",
    "axes[0].set_xlabel('year', fontsize = 8)\n",
    "axes[0].set_ylabel(\"number\",fontsize = 8)\n",
    "x = range(1949, 1961, 1)\n",
    "y = range(2000, 6000, 1000)\n",
    "axes[0].set_xticks(x)\n",
    "axes[0].set_xticklabels(x, fontsize = 7)\n",
    "axes[0].set_yticks(y)\n",
    "axes[0].set_yticklabels(y, fontsize = 7)\n",
    "\n",
    "m = range(1, 13, 1)\n",
    "n = range(500, 4500, 500)\n",
    "axes[1].bar(m, grouped2['passengers'])\n",
    "axes[1].set_title(\"The number of passengers in ench month\",fontsize = 'small')\n",
    "axes[1].set_xlabel('month', fontsize = 8)\n",
    "axes[1].set_ylabel(\"number\",fontsize = 8)\n",
    "axes[1].set_xticks(m)\n",
    "axes[1].set_xticklabels(m, fontsize = 7)\n",
    "axes[1].set_yticks(n)\n",
    "axes[1].set_yticklabels(n, fontsize = 7)\n"
   ]
  },
  {
   "cell_type": "markdown",
   "id": "66bbde41-e2c6-4bb6-bc80-5c5f3dd75bf6",
   "metadata": {
    "tags": []
   },
   "source": [
    "## 练习2：鸢尾花花型尺寸分析 (3个题)\n",
    "\n",
    "1. 萼片（sepal）和花瓣（petal）的大小关系（提示：散点图）\n",
    "2. 不同种类（species）鸢尾花萼片和花瓣的大小关系（提示：箱图或者提琴图）\n",
    "3. 不同种类鸢尾花萼片和花瓣大小的分布情况（六角箱图或者核密度估计）"
   ]
  },
  {
   "cell_type": "code",
   "execution_count": 51,
   "id": "b71328f2-0ae3-463a-a557-43506a54a8a4",
   "metadata": {
    "tags": []
   },
   "outputs": [
    {
     "data": {
      "text/html": [
       "<div>\n",
       "<style scoped>\n",
       "    .dataframe tbody tr th:only-of-type {\n",
       "        vertical-align: middle;\n",
       "    }\n",
       "\n",
       "    .dataframe tbody tr th {\n",
       "        vertical-align: top;\n",
       "    }\n",
       "\n",
       "    .dataframe thead th {\n",
       "        text-align: right;\n",
       "    }\n",
       "</style>\n",
       "<table border=\"1\" class=\"dataframe\">\n",
       "  <thead>\n",
       "    <tr style=\"text-align: right;\">\n",
       "      <th></th>\n",
       "      <th>sepal_length</th>\n",
       "      <th>sepal_width</th>\n",
       "      <th>petal_length</th>\n",
       "      <th>petal_width</th>\n",
       "      <th>species</th>\n",
       "    </tr>\n",
       "  </thead>\n",
       "  <tbody>\n",
       "    <tr>\n",
       "      <th>0</th>\n",
       "      <td>5.1</td>\n",
       "      <td>3.5</td>\n",
       "      <td>1.4</td>\n",
       "      <td>0.2</td>\n",
       "      <td>setosa</td>\n",
       "    </tr>\n",
       "    <tr>\n",
       "      <th>1</th>\n",
       "      <td>4.9</td>\n",
       "      <td>3.0</td>\n",
       "      <td>1.4</td>\n",
       "      <td>0.2</td>\n",
       "      <td>setosa</td>\n",
       "    </tr>\n",
       "    <tr>\n",
       "      <th>2</th>\n",
       "      <td>4.7</td>\n",
       "      <td>3.2</td>\n",
       "      <td>1.3</td>\n",
       "      <td>0.2</td>\n",
       "      <td>setosa</td>\n",
       "    </tr>\n",
       "    <tr>\n",
       "      <th>3</th>\n",
       "      <td>4.6</td>\n",
       "      <td>3.1</td>\n",
       "      <td>1.5</td>\n",
       "      <td>0.2</td>\n",
       "      <td>setosa</td>\n",
       "    </tr>\n",
       "    <tr>\n",
       "      <th>4</th>\n",
       "      <td>5.0</td>\n",
       "      <td>3.6</td>\n",
       "      <td>1.4</td>\n",
       "      <td>0.2</td>\n",
       "      <td>setosa</td>\n",
       "    </tr>\n",
       "  </tbody>\n",
       "</table>\n",
       "</div>"
      ],
      "text/plain": [
       "   sepal_length  sepal_width  petal_length  petal_width species\n",
       "0           5.1          3.5           1.4          0.2  setosa\n",
       "1           4.9          3.0           1.4          0.2  setosa\n",
       "2           4.7          3.2           1.3          0.2  setosa\n",
       "3           4.6          3.1           1.5          0.2  setosa\n",
       "4           5.0          3.6           1.4          0.2  setosa"
      ]
     },
     "execution_count": 51,
     "metadata": {},
     "output_type": "execute_result"
    }
   ],
   "source": [
    "data = sns.load_dataset(\"iris\")\n",
    "data.head()\n",
    "# 萼片长度，萼片宽度，花瓣长度，花瓣宽度，种类"
   ]
  },
  {
   "cell_type": "code",
   "execution_count": 7,
   "metadata": {},
   "outputs": [],
   "source": [
    "gp = data.groupby('species').get_group('setosa')"
   ]
  },
  {
   "cell_type": "code",
   "execution_count": 8,
   "id": "dbd06de5",
   "metadata": {},
   "outputs": [
    {
     "data": {
      "text/plain": [
       "[Text(0, 0.0, '0.0'),\n",
       " Text(0, 0.5, '0.5'),\n",
       " Text(0, 1.0, '1.0'),\n",
       " Text(0, 1.5, '1.5'),\n",
       " Text(0, 2.0, '2.0'),\n",
       " Text(0, 2.5, '2.5')]"
      ]
     },
     "execution_count": 8,
     "metadata": {},
     "output_type": "execute_result"
    },
    {
     "data": {
      "image/png": "[encoded data removed]",
      "text/plain": [
       "<Figure size 700x700 with 4 Axes>"
      ]
     },
     "metadata": {},
     "output_type": "display_data"
    }
   ],
   "source": [
    "#练习2-1\n",
    "fig, axes = plt.subplots(2, 2, figsize=(7, 7))\n",
    "fig.subplots_adjust(hspace=0.25)\n",
    "axes[0, 0].scatter(data['sepal_length'], data['petal_length'], s = 6, color = '#539caf', alpha = 0.7)\n",
    "axes[0, 0].set_title('s_l VS. p_l', fontsize = 'small')\n",
    "axes[0, 0].set_xlabel('s_l', fontsize = 7)\n",
    "axes[0, 0].set_ylabel('p_l', fontsize = 7)\n",
    "\n",
    "s1 = np.arange(4.5, 8.5, 0.5)\n",
    "p1 = range(1, 8 , 1)\n",
    "axes[0, 0].set_xticks(s1)\n",
    "axes[0, 0].set_xticklabels(s1, fontsize = 7)\n",
    "axes[0, 0].set_yticks(p1)\n",
    "axes[0, 0].set_yticklabels(p1, fontsize = 7)\n",
    "\n",
    "axes[0, 1].scatter(data['sepal_length'], data['petal_width'], s = 6, color = '#539caf', alpha = 0.7)\n",
    "axes[0, 1].set_title('s_l VS. p_w', fontsize = 'small')\n",
    "axes[0, 1].set_xlabel('s_l', fontsize = 7)\n",
    "axes[0, 1].set_ylabel('p_w', fontsize = 7)\n",
    "\n",
    "p2 = np.arange(0, 3 , 0.5)\n",
    "axes[0, 1].set_xticks(s1)\n",
    "axes[0, 1].set_xticklabels(s1, fontsize = 7)\n",
    "axes[0, 1].set_yticks(p2)\n",
    "axes[0, 1].set_yticklabels(p2, fontsize = 7)\n",
    "\n",
    "axes[1, 0].scatter(data['sepal_width'], data['petal_length'], s = 6, color = '#539caf', alpha = 0.7)\n",
    "axes[1, 0].set_title('s_w VS. p_l', fontsize = 'small')\n",
    "axes[1, 0].set_xlabel('s_w', fontsize = 7)\n",
    "axes[1, 0].set_ylabel('p_l', fontsize = 7)\n",
    "\n",
    "s2 = np.arange(2.0, 5.0, 0.5)\n",
    "axes[1, 0].set_xticks(s2)\n",
    "axes[1, 0].set_xticklabels(s2, fontsize = 7)\n",
    "axes[1, 0].set_yticks(p1)\n",
    "axes[1, 0].set_yticklabels(p1, fontsize = 7)\n",
    "\n",
    "axes[1, 1].scatter(data['sepal_width'], data['petal_width'], s = 6, color = '#539caf', alpha = 0.7)\n",
    "axes[1, 1].set_title('s_w VS. p_w', fontsize = 'small')\n",
    "axes[1, 1].set_xlabel('s_w', fontsize = 7)\n",
    "axes[1, 1].set_ylabel('p_w', fontsize = 7)\n",
    "\n",
    "p2 = np.arange(0, 3 , 0.5)\n",
    "axes[1, 1].set_xticks(s2)\n",
    "axes[1, 1].set_xticklabels(s2, fontsize = 7)\n",
    "axes[1, 1].set_yticks(p2)\n",
    "axes[1, 1].set_yticklabels(p2, fontsize = 7)\n"
   ]
  },
  {
   "cell_type": "code",
   "execution_count": 9,
   "id": "ee52b075",
   "metadata": {},
   "outputs": [
    {
     "data": {
      "text/html": [
       "<div>\n",
       "<style scoped>\n",
       "    .dataframe tbody tr th:only-of-type {\n",
       "        vertical-align: middle;\n",
       "    }\n",
       "\n",
       "    .dataframe tbody tr th {\n",
       "        vertical-align: top;\n",
       "    }\n",
       "\n",
       "    .dataframe thead th {\n",
       "        text-align: right;\n",
       "    }\n",
       "</style>\n",
       "<table border=\"1\" class=\"dataframe\">\n",
       "  <thead>\n",
       "    <tr style=\"text-align: right;\">\n",
       "      <th></th>\n",
       "      <th>sepal_length</th>\n",
       "      <th>sepal_width</th>\n",
       "      <th>petal_length</th>\n",
       "      <th>petal_width</th>\n",
       "    </tr>\n",
       "    <tr>\n",
       "      <th>species</th>\n",
       "      <th></th>\n",
       "      <th></th>\n",
       "      <th></th>\n",
       "      <th></th>\n",
       "    </tr>\n",
       "  </thead>\n",
       "  <tbody>\n",
       "    <tr>\n",
       "      <th>setosa</th>\n",
       "      <td>50</td>\n",
       "      <td>50</td>\n",
       "      <td>50</td>\n",
       "      <td>50</td>\n",
       "    </tr>\n",
       "    <tr>\n",
       "      <th>versicolor</th>\n",
       "      <td>50</td>\n",
       "      <td>50</td>\n",
       "      <td>50</td>\n",
       "      <td>50</td>\n",
       "    </tr>\n",
       "    <tr>\n",
       "      <th>virginica</th>\n",
       "      <td>50</td>\n",
       "      <td>50</td>\n",
       "      <td>50</td>\n",
       "      <td>50</td>\n",
       "    </tr>\n",
       "  </tbody>\n",
       "</table>\n",
       "</div>"
      ],
      "text/plain": [
       "            sepal_length  sepal_width  petal_length  petal_width\n",
       "species                                                         \n",
       "setosa                50           50            50           50\n",
       "versicolor            50           50            50           50\n",
       "virginica             50           50            50           50"
      ]
     },
     "execution_count": 9,
     "metadata": {},
     "output_type": "execute_result"
    }
   ],
   "source": [
    "data.groupby('species').count()"
   ]
  },
  {
   "cell_type": "code",
   "execution_count": 10,
   "id": "84e04832",
   "metadata": {},
   "outputs": [],
   "source": [
    "\n",
    "gp1 = data.groupby('species').get_group('setosa')\n",
    "gp2 = data.groupby('species').get_group('versicolor')\n",
    "gp3 = data.groupby('species').get_group('virginica')"
   ]
  },
  {
   "cell_type": "code",
   "execution_count": 11,
   "id": "7a9d939a",
   "metadata": {},
   "outputs": [
    {
     "data": {
      "text/plain": [
       "[Text(0, 0.0, '0.0'),\n",
       " Text(0, 0.5, '0.5'),\n",
       " Text(0, 1.0, '1.0'),\n",
       " Text(0, 1.5, '1.5'),\n",
       " Text(0, 2.0, '2.0'),\n",
       " Text(0, 2.5, '2.5')]"
      ]
     },
     "execution_count": 11,
     "metadata": {},
     "output_type": "execute_result"
    },
    {
     "data": {
      "image/png": "[encoded data removed]",
      "text/plain": [
       "<Figure size 850x850 with 4 Axes>"
      ]
     },
     "metadata": {},
     "output_type": "display_data"
    }
   ],
   "source": [
    "fig, axes = plt.subplots(2, 2, figsize=(8.5, 8.5))\n",
    "fig.subplots_adjust(hspace=0.2)\n",
    "axes[0, 0].scatter(gp1['sepal_length'], gp1['petal_length'], s = 6, color = '#539caf', alpha = 0.7)\n",
    "axes[0, 0].scatter(gp2['sepal_length'], gp2['petal_length'], s = 6, c = 'r', alpha = 0.7)\n",
    "axes[0, 0].scatter(gp3['sepal_length'], gp3['petal_length'], s = 6, c = 'black', alpha = 0.7)\n",
    "axes[0, 0].set_title('s_l VS. p_l', fontsize = 'small')\n",
    "axes[0, 0].set_xlabel('s_l', fontsize = 7)\n",
    "axes[0, 0].set_ylabel('p_l', fontsize = 7)\n",
    "\n",
    "s1 = np.arange(4.5, 8.5, 0.5)\n",
    "p1 = range(1, 8 , 1)\n",
    "axes[0, 0].set_xticks(s1)\n",
    "axes[0, 0].set_xticklabels(s1, fontsize = 7)\n",
    "axes[0, 0].set_yticks(p1)\n",
    "axes[0, 0].set_yticklabels(p1, fontsize = 7)\n",
    "\n",
    "axes[0, 1].scatter(gp1['sepal_length'], gp1['petal_width'], s = 6, color = '#539caf', alpha = 0.7)\n",
    "axes[0, 1].scatter(gp2['sepal_length'], gp2['petal_width'], s = 6, c = 'r', alpha = 0.7)\n",
    "axes[0, 1].scatter(gp3['sepal_length'], gp3['petal_width'], s = 6, c = 'black', alpha = 0.7)\n",
    "axes[0, 1].set_title('s_l VS. p_w', fontsize = 'small')\n",
    "axes[0, 1].set_xlabel('s_l', fontsize = 7)\n",
    "axes[0, 1].set_ylabel('p_w', fontsize = 7)\n",
    "\n",
    "p2 = np.arange(0, 3 , 0.5)\n",
    "axes[0, 1].set_xticks(s1)\n",
    "axes[0, 1].set_xticklabels(s1, fontsize = 7)\n",
    "axes[0, 1].set_yticks(p2)\n",
    "axes[0, 1].set_yticklabels(p2, fontsize = 7)\n",
    "\n",
    "axes[1, 0].scatter(gp1['sepal_width'], gp1['petal_length'], s = 6, color = '#539caf', alpha = 0.7)\n",
    "axes[1, 0].scatter(gp2['sepal_width'], gp2['petal_length'], s = 6, c = 'r', alpha = 0.7)\n",
    "axes[1, 0].scatter(gp3['sepal_width'], gp3['petal_length'], s = 6, c = 'black', alpha = 0.7)\n",
    "axes[1, 0].set_title('s_w VS. p_l', fontsize = 'small')\n",
    "axes[1, 0].set_xlabel('s_w', fontsize = 7)\n",
    "axes[1, 0].set_ylabel('p_l', fontsize = 7)\n",
    "\n",
    "s2 = np.arange(2.0, 5.0, 0.5)\n",
    "axes[1, 0].set_xticks(s2)\n",
    "axes[1, 0].set_xticklabels(s2, fontsize = 7)\n",
    "axes[1, 0].set_yticks(p1)\n",
    "axes[1, 0].set_yticklabels(p1, fontsize = 7)\n",
    "\n",
    "axes[1, 1].scatter(gp1['sepal_width'], gp1['petal_width'], s = 6, color = '#539caf', alpha = 0.7)\n",
    "axes[1, 1].scatter(gp2['sepal_width'], gp2['petal_width'], s = 6, c = 'r', alpha = 0.7)\n",
    "axes[1, 1].scatter(gp3['sepal_width'], gp3['petal_width'], s = 6, c = 'black', alpha = 0.7)\n",
    "axes[1, 1].set_title('s_w VS. p_w', fontsize = 'small')\n",
    "axes[1, 1].set_xlabel('s_w', fontsize = 7)\n",
    "axes[1, 1].set_ylabel('p_w', fontsize = 7)\n",
    "\n",
    "p2 = np.arange(0, 3 , 0.5)\n",
    "axes[1, 1].set_xticks(s2)\n",
    "axes[1, 1].set_xticklabels(s2, fontsize = 7)\n",
    "axes[1, 1].set_yticks(p2)\n",
    "axes[1, 1].set_yticklabels(p2, fontsize = 7)"
   ]
  },
  {
   "cell_type": "code",
   "execution_count": 12,
   "id": "af1555bb",
   "metadata": {},
   "outputs": [
    {
     "data": {
      "text/plain": [
       "[Text(0, 2, '2'),\n",
       " Text(0, 3, '3'),\n",
       " Text(0, 4, '4'),\n",
       " Text(0, 5, '5'),\n",
       " Text(0, 6, '6'),\n",
       " Text(0, 7, '7'),\n",
       " Text(0, 8, '8')]"
      ]
     },
     "execution_count": 12,
     "metadata": {},
     "output_type": "execute_result"
    },
    {
     "data": {
      "image/png": "[encoded data removed]",
      "text/plain": [
       "<Figure size 450x300 with 1 Axes>"
      ]
     },
     "metadata": {},
     "output_type": "display_data"
    },
    {
     "data": {
      "image/png": "[encoded data removed]",
      "text/plain": [
       "<Figure size 450x300 with 1 Axes>"
      ]
     },
     "metadata": {},
     "output_type": "display_data"
    },
    {
     "data": {
      "image/png": "[encoded data removed]",
      "text/plain": [
       "<Figure size 450x300 with 1 Axes>"
      ]
     },
     "metadata": {},
     "output_type": "display_data"
    }
   ],
   "source": [
    "#练习2-2\n",
    "fig, ax = plt.subplots(figsize = (4.5, 3))\n",
    "ax.boxplot([gp1['sepal_length'], gp1['sepal_width'], gp1['petal_length'], gp1['petal_width']], patch_artist = True, medianprops = {'color': 'b'},\n",
    "           boxprops = {'color': 'b', 'facecolor':'r'}, whiskerprops = {'color': 'r'}, capprops = {'color': 'b'})\n",
    "ax.set_title('The box with 4 feature for the setosa flowers', fontsize = 'small')\n",
    "ax.set_xlabel('Features of the setosa flowers', fontsize = 7)\n",
    "ax.set_ylabel('Values', fontsize = 7)\n",
    "\n",
    "x = range(1, 5, 1)\n",
    "y1 = range(0, 7, 1)\n",
    "ax.set_xticks(x)\n",
    "ax.set_xticklabels(['sepal_length', 'sepal_width', 'petal_length', 'petal_width'], fontsize = 7)\n",
    "ax.set_yticks(y1)\n",
    "ax.set_yticklabels(y1, fontsize = 7)\n",
    "\n",
    "\n",
    "fig, ax = plt.subplots(figsize = (4.5, 3))\n",
    "ax.boxplot([gp2['sepal_length'], gp2['sepal_width'], gp2['petal_length'], gp2['petal_width']], patch_artist = True, medianprops = {'color': 'b'},\n",
    "           boxprops = {'color': 'b', 'facecolor':'r'}, whiskerprops = {'color': 'r'}, capprops = {'color': 'b'})\n",
    "ax.set_title('The box with 4 feature for the versicolor flowers', fontsize = 'small')\n",
    "ax.set_xlabel('Features of the versicolor flowers', fontsize = 7)\n",
    "ax.set_ylabel('Values', fontsize = 7)\n",
    "\n",
    "y2 = range(1, 8, 1)\n",
    "ax.set_xticks(x)\n",
    "ax.set_xticklabels(['sepal_length', 'sepal_width', 'petal_length', 'petal_width'], fontsize = 7)\n",
    "ax.set_yticks(y2)\n",
    "ax.set_yticklabels(y2, fontsize = 7)\n",
    "\n",
    "\n",
    "fig, ax = plt.subplots(figsize = (4.5, 3))\n",
    "ax.boxplot([gp3['sepal_length'], gp3['sepal_width'], gp3['petal_length'], gp3['petal_width']], patch_artist = True, medianprops = {'color': 'b'},\n",
    "           boxprops = {'color': 'b', 'facecolor':'r'}, whiskerprops = {'color': 'r'}, capprops = {'color': 'b'})\n",
    "ax.set_title('The box with 4 feature for the virginica flowers', fontsize = 'small')\n",
    "ax.set_xlabel('Features of the virginica flowers', fontsize = 7)\n",
    "ax.set_ylabel('Values', fontsize = 7)\n",
    "\n",
    "y3 = range(2, 9, 1)\n",
    "ax.set_xticks(x)\n",
    "ax.set_xticklabels(['sepal_length', 'sepal_width', 'petal_length', 'petal_width'], fontsize = 7)\n",
    "ax.set_yticks(y3)\n",
    "ax.set_yticklabels(y3, fontsize = 7)\n"
   ]
  },
  {
   "cell_type": "code",
   "execution_count": 52,
   "id": "31988c69",
   "metadata": {},
   "outputs": [
    {
     "data": {
      "text/html": [
       "<div>\n",
       "<style scoped>\n",
       "    .dataframe tbody tr th:only-of-type {\n",
       "        vertical-align: middle;\n",
       "    }\n",
       "\n",
       "    .dataframe tbody tr th {\n",
       "        vertical-align: top;\n",
       "    }\n",
       "\n",
       "    .dataframe thead th {\n",
       "        text-align: right;\n",
       "    }\n",
       "</style>\n",
       "<table border=\"1\" class=\"dataframe\">\n",
       "  <thead>\n",
       "    <tr style=\"text-align: right;\">\n",
       "      <th></th>\n",
       "      <th>sepal_length</th>\n",
       "      <th>sepal_width</th>\n",
       "      <th>petal_length</th>\n",
       "      <th>petal_width</th>\n",
       "      <th>species</th>\n",
       "    </tr>\n",
       "  </thead>\n",
       "  <tbody>\n",
       "    <tr>\n",
       "      <th>0</th>\n",
       "      <td>5.1</td>\n",
       "      <td>3.5</td>\n",
       "      <td>1.4</td>\n",
       "      <td>0.2</td>\n",
       "      <td>setosa</td>\n",
       "    </tr>\n",
       "    <tr>\n",
       "      <th>1</th>\n",
       "      <td>4.9</td>\n",
       "      <td>3.0</td>\n",
       "      <td>1.4</td>\n",
       "      <td>0.2</td>\n",
       "      <td>setosa</td>\n",
       "    </tr>\n",
       "    <tr>\n",
       "      <th>2</th>\n",
       "      <td>4.7</td>\n",
       "      <td>3.2</td>\n",
       "      <td>1.3</td>\n",
       "      <td>0.2</td>\n",
       "      <td>setosa</td>\n",
       "    </tr>\n",
       "    <tr>\n",
       "      <th>3</th>\n",
       "      <td>4.6</td>\n",
       "      <td>3.1</td>\n",
       "      <td>1.5</td>\n",
       "      <td>0.2</td>\n",
       "      <td>setosa</td>\n",
       "    </tr>\n",
       "    <tr>\n",
       "      <th>4</th>\n",
       "      <td>5.0</td>\n",
       "      <td>3.6</td>\n",
       "      <td>1.4</td>\n",
       "      <td>0.2</td>\n",
       "      <td>setosa</td>\n",
       "    </tr>\n",
       "  </tbody>\n",
       "</table>\n",
       "</div>"
      ],
      "text/plain": [
       "   sepal_length  sepal_width  petal_length  petal_width species\n",
       "0           5.1          3.5           1.4          0.2  setosa\n",
       "1           4.9          3.0           1.4          0.2  setosa\n",
       "2           4.7          3.2           1.3          0.2  setosa\n",
       "3           4.6          3.1           1.5          0.2  setosa\n",
       "4           5.0          3.6           1.4          0.2  setosa"
      ]
     },
     "execution_count": 52,
     "metadata": {},
     "output_type": "execute_result"
    }
   ],
   "source": [
    "data.head()"
   ]
  },
  {
   "cell_type": "code",
   "execution_count": 136,
   "id": "30dfb981",
   "metadata": {},
   "outputs": [
    {
     "data": {
      "text/html": [
       "<div>\n",
       "<style scoped>\n",
       "    .dataframe tbody tr th:only-of-type {\n",
       "        vertical-align: middle;\n",
       "    }\n",
       "\n",
       "    .dataframe tbody tr th {\n",
       "        vertical-align: top;\n",
       "    }\n",
       "\n",
       "    .dataframe thead th {\n",
       "        text-align: right;\n",
       "    }\n",
       "</style>\n",
       "<table border=\"1\" class=\"dataframe\">\n",
       "  <thead>\n",
       "    <tr style=\"text-align: right;\">\n",
       "      <th></th>\n",
       "      <th>sepal_length</th>\n",
       "      <th>sepal_width</th>\n",
       "      <th>petal_length</th>\n",
       "      <th>petal_width</th>\n",
       "      <th>species</th>\n",
       "    </tr>\n",
       "  </thead>\n",
       "  <tbody>\n",
       "    <tr>\n",
       "      <th>0</th>\n",
       "      <td>5.1</td>\n",
       "      <td>3.5</td>\n",
       "      <td>1.4</td>\n",
       "      <td>0.2</td>\n",
       "      <td>setosa</td>\n",
       "    </tr>\n",
       "    <tr>\n",
       "      <th>1</th>\n",
       "      <td>4.9</td>\n",
       "      <td>3.0</td>\n",
       "      <td>1.4</td>\n",
       "      <td>0.2</td>\n",
       "      <td>setosa</td>\n",
       "    </tr>\n",
       "    <tr>\n",
       "      <th>2</th>\n",
       "      <td>4.7</td>\n",
       "      <td>3.2</td>\n",
       "      <td>1.3</td>\n",
       "      <td>0.2</td>\n",
       "      <td>setosa</td>\n",
       "    </tr>\n",
       "    <tr>\n",
       "      <th>3</th>\n",
       "      <td>4.6</td>\n",
       "      <td>3.1</td>\n",
       "      <td>1.5</td>\n",
       "      <td>0.2</td>\n",
       "      <td>setosa</td>\n",
       "    </tr>\n",
       "    <tr>\n",
       "      <th>4</th>\n",
       "      <td>5.0</td>\n",
       "      <td>3.6</td>\n",
       "      <td>1.4</td>\n",
       "      <td>0.2</td>\n",
       "      <td>setosa</td>\n",
       "    </tr>\n",
       "  </tbody>\n",
       "</table>\n",
       "</div>"
      ],
      "text/plain": [
       "   sepal_length  sepal_width  petal_length  petal_width species\n",
       "0           5.1          3.5           1.4          0.2  setosa\n",
       "1           4.9          3.0           1.4          0.2  setosa\n",
       "2           4.7          3.2           1.3          0.2  setosa\n",
       "3           4.6          3.1           1.5          0.2  setosa\n",
       "4           5.0          3.6           1.4          0.2  setosa"
      ]
     },
     "execution_count": 136,
     "metadata": {},
     "output_type": "execute_result"
    }
   ],
   "source": [
    "from scipy.stats import gaussian_kde\n",
    "gp1 = data.groupby('species').get_group('setosa')\n",
    "gp2 = data.groupby('species').get_group('versicolor')\n",
    "gp3 = data.groupby('species').get_group('virginica')\n",
    "gp1.head()\n"
   ]
  },
  {
   "cell_type": "code",
   "execution_count": 132,
   "id": "db3a501c",
   "metadata": {},
   "outputs": [],
   "source": [
    "#2-3\n",
    "def cal_density(gp):\n",
    "    density_est1 = gaussian_kde(gp['sepal_length'])\n",
    "    density_est1.covariance_factor = lambda : .3\n",
    "    density_est1._compute_covariance()\n",
    "    x_data1 = np.arange(min(gp['sepal_length']), max(gp['sepal_length']), 0.02)\n",
    "\n",
    "    density_est2 = gaussian_kde(gp['sepal_width'])\n",
    "    density_est2.covariance_factor = lambda : .3\n",
    "    density_est2._compute_covariance()\n",
    "    x_data2 = np.arange(min(gp['sepal_width']), max(gp['sepal_width']), 0.02)\n",
    "\n",
    "    density_est3 = gaussian_kde(gp['petal_length'])\n",
    "    density_est3.covariance_factor = lambda : .3\n",
    "    density_est3._compute_covariance()\n",
    "    x_data3 = np.arange(min(gp['petal_length']), max(gp['petal_length']), 0.02)\n",
    "\n",
    "    density_est4 = gaussian_kde(gp['petal_width'])\n",
    "    density_est4.covariance_factor = lambda : .3\n",
    "    density_est4._compute_covariance()\n",
    "    x_data4 = np.arange(min(gp['petal_width']), max(gp['petal_width']), 0.02)\n",
    "    density_est = [density_est1, density_est2, density_est3, density_est4]\n",
    "    x_data = [x_data1, x_data2, x_data3, x_data4]\n",
    "\n",
    "    return density_est, x_data\n"
   ]
  },
  {
   "cell_type": "code",
   "execution_count": 139,
   "id": "bd0487b0",
   "metadata": {},
   "outputs": [
    {
     "data": {
      "text/plain": [
       "<matplotlib.legend.Legend at 0x1b2a2f87790>"
      ]
     },
     "execution_count": 139,
     "metadata": {},
     "output_type": "execute_result"
    },
    {
     "data": {
      "image/png": "[encoded data removed]",
      "text/plain": [
       "<Figure size 800x400 with 1 Axes>"
      ]
     },
     "metadata": {},
     "output_type": "display_data"
    }
   ],
   "source": [
    "fig, ax = plt.subplots(figsize = (8, 4))\n",
    "density_est, x_data = cal_density(gp1)\n",
    "colors = ['#539caf', '#7663b0', '#800080', '#ff3f7a' ]\n",
    "labels = ['sl', 'sw', 'pl', 'pw']\n",
    "for i in range(len(x_data)):\n",
    "    ax.plot(x_data[i], density_est[i](x_data[i]), color = colors[i], label = labels[i], lw = 2)\n",
    "\n",
    "ax.set_title('The KDE with 4 feature for the setosa flowers', fontsize = 'small')\n",
    "ax.set_xlabel('Features of the setosa flowers', fontsize = 7)\n",
    "ax.set_ylabel('Values', fontsize = 7)\n",
    "ax.legend()"
   ]
  },
  {
   "cell_type": "code",
   "execution_count": 138,
   "id": "c96c0441",
   "metadata": {},
   "outputs": [
    {
     "data": {
      "text/plain": [
       "<matplotlib.legend.Legend at 0x1b2a2d07190>"
      ]
     },
     "execution_count": 138,
     "metadata": {},
     "output_type": "execute_result"
    },
    {
     "data": {
      "image/png": "[encoded data removed]",
      "text/plain": [
       "<Figure size 800x400 with 1 Axes>"
      ]
     },
     "metadata": {},
     "output_type": "display_data"
    }
   ],
   "source": [
    "fig, ax = plt.subplots(figsize = (8, 4))\n",
    "density_est, x_data = cal_density(gp2)\n",
    "colors = ['#539caf', '#7663b0', '#800080', '#ff3f7a' ]\n",
    "labels = ['sl', 'sw', 'pl', 'pw']\n",
    "for i in range(len(x_data)):\n",
    "    ax.plot(x_data[i], density_est[i](x_data[i]), color = colors[i], label = labels[i], lw = 2)\n",
    "\n",
    "ax.set_title('The KDE with 4 feature for the versicolor flowers', fontsize = 'small')\n",
    "ax.set_xlabel('Features of the versicolor flowers', fontsize = 7)\n",
    "ax.set_ylabel('Values', fontsize = 7)\n",
    "ax.legend()"
   ]
  },
  {
   "cell_type": "code",
   "execution_count": 137,
   "id": "14cd8b78",
   "metadata": {},
   "outputs": [
    {
     "data": {
      "text/plain": [
       "<matplotlib.legend.Legend at 0x1b2a2f9aee0>"
      ]
     },
     "execution_count": 137,
     "metadata": {},
     "output_type": "execute_result"
    },
    {
     "data": {
      "image/png": "[encoded data removed]",
      "text/plain": [
       "<Figure size 800x400 with 1 Axes>"
      ]
     },
     "metadata": {},
     "output_type": "display_data"
    }
   ],
   "source": [
    "fig, ax = plt.subplots(figsize = (8, 4))\n",
    "density_est, x_data = cal_density(gp3)\n",
    "colors = ['#539caf', '#7663b0', '#800080', '#ff3f7a' ]\n",
    "labels = ['sl', 'sw', 'pl', 'pw']\n",
    "for i in range(len(x_data)):\n",
    "    ax.plot(x_data[i], density_est[i](x_data[i]), color = colors[i], label = labels[i], lw = 2)\n",
    "\n",
    "ax.set_title('The KDE with 4 feature for the virginica flowers', fontsize = 'small')\n",
    "ax.set_xlabel('Features of the virginica flowers', fontsize = 7)\n",
    "ax.set_ylabel('Values', fontsize = 7)\n",
    "ax.legend()"
   ]
  },
  {
   "cell_type": "markdown",
   "id": "43eaf74c-c25a-4841-a524-1474c1993aeb",
   "metadata": {},
   "source": [
    "## 练习3：餐厅小费情况分析 (7个题)\n",
    "\n",
    "1. 小费和总消费之间的关系（提示：散点图+回归分析）\n",
    "2. 男性顾客和女性顾客，谁更慷慨（提示：箱图或者提琴图）\n",
    "3. 抽烟与否是否会对小费金额产生影响（提示：箱图或者提琴图）\n",
    "4. 工作日和周末，什么时候顾客给的小费更慷慨（提示：箱图或者提琴图）\n",
    "5. 午饭和晚饭，哪一顿顾客更愿意给小费（提示：箱图或者提琴图）\n",
    "6. 就餐人数是否会对慷慨度产生影响（提示：箱图或者提琴图）\n",
    "7. 性别+抽烟的组合因素对慷慨度的影响（提示：统计柱状图）"
   ]
  },
  {
   "cell_type": "code",
   "execution_count": 13,
   "id": "899479bc-3d1b-4144-ac14-52d113ad26b5",
   "metadata": {
    "tags": []
   },
   "outputs": [
    {
     "data": {
      "text/html": [
       "<div>\n",
       "<style scoped>\n",
       "    .dataframe tbody tr th:only-of-type {\n",
       "        vertical-align: middle;\n",
       "    }\n",
       "\n",
       "    .dataframe tbody tr th {\n",
       "        vertical-align: top;\n",
       "    }\n",
       "\n",
       "    .dataframe thead th {\n",
       "        text-align: right;\n",
       "    }\n",
       "</style>\n",
       "<table border=\"1\" class=\"dataframe\">\n",
       "  <thead>\n",
       "    <tr style=\"text-align: right;\">\n",
       "      <th></th>\n",
       "      <th>total_bill</th>\n",
       "      <th>tip</th>\n",
       "      <th>sex</th>\n",
       "      <th>smoker</th>\n",
       "      <th>day</th>\n",
       "      <th>time</th>\n",
       "      <th>size</th>\n",
       "    </tr>\n",
       "  </thead>\n",
       "  <tbody>\n",
       "    <tr>\n",
       "      <th>0</th>\n",
       "      <td>16.99</td>\n",
       "      <td>1.01</td>\n",
       "      <td>Female</td>\n",
       "      <td>No</td>\n",
       "      <td>Sun</td>\n",
       "      <td>Dinner</td>\n",
       "      <td>2</td>\n",
       "    </tr>\n",
       "    <tr>\n",
       "      <th>1</th>\n",
       "      <td>10.34</td>\n",
       "      <td>1.66</td>\n",
       "      <td>Male</td>\n",
       "      <td>No</td>\n",
       "      <td>Sun</td>\n",
       "      <td>Dinner</td>\n",
       "      <td>3</td>\n",
       "    </tr>\n",
       "    <tr>\n",
       "      <th>2</th>\n",
       "      <td>21.01</td>\n",
       "      <td>3.50</td>\n",
       "      <td>Male</td>\n",
       "      <td>No</td>\n",
       "      <td>Sun</td>\n",
       "      <td>Dinner</td>\n",
       "      <td>3</td>\n",
       "    </tr>\n",
       "    <tr>\n",
       "      <th>3</th>\n",
       "      <td>23.68</td>\n",
       "      <td>3.31</td>\n",
       "      <td>Male</td>\n",
       "      <td>No</td>\n",
       "      <td>Sun</td>\n",
       "      <td>Dinner</td>\n",
       "      <td>2</td>\n",
       "    </tr>\n",
       "    <tr>\n",
       "      <th>4</th>\n",
       "      <td>24.59</td>\n",
       "      <td>3.61</td>\n",
       "      <td>Female</td>\n",
       "      <td>No</td>\n",
       "      <td>Sun</td>\n",
       "      <td>Dinner</td>\n",
       "      <td>4</td>\n",
       "    </tr>\n",
       "  </tbody>\n",
       "</table>\n",
       "</div>"
      ],
      "text/plain": [
       "   total_bill   tip     sex smoker  day    time  size\n",
       "0       16.99  1.01  Female     No  Sun  Dinner     2\n",
       "1       10.34  1.66    Male     No  Sun  Dinner     3\n",
       "2       21.01  3.50    Male     No  Sun  Dinner     3\n",
       "3       23.68  3.31    Male     No  Sun  Dinner     2\n",
       "4       24.59  3.61  Female     No  Sun  Dinner     4"
      ]
     },
     "execution_count": 13,
     "metadata": {},
     "output_type": "execute_result"
    }
   ],
   "source": [
    "data = sns.load_dataset(\"tips\")\n",
    "data.head()\n",
    "# 总消费，小费，性别，吸烟与否，就餐星期，就餐时间，就餐人数"
   ]
  },
  {
   "cell_type": "code",
   "execution_count": 14,
   "id": "d6510728",
   "metadata": {},
   "outputs": [
    {
     "data": {
      "text/plain": [
       "[Text(0, 2, '2'),\n",
       " Text(0, 4, '4'),\n",
       " Text(0, 6, '6'),\n",
       " Text(0, 8, '8'),\n",
       " Text(0, 10, '10')]"
      ]
     },
     "execution_count": 14,
     "metadata": {},
     "output_type": "execute_result"
    },
    {
     "data": {
      "image/png": "[encoded data removed]",
      "text/plain": [
       "<Figure size 450x300 with 1 Axes>"
      ]
     },
     "metadata": {},
     "output_type": "display_data"
    }
   ],
   "source": [
    "#3-1\n",
    "fig, ax = plt.subplots(figsize = (4.5,3))\n",
    "ax.scatter(data['total_bill'], data['tip'], s = 6, color = '#539caf', alpha = 0.7)\n",
    "ax.set_title('total bill vs. tip', fontsize = 'small')\n",
    "ax.set_xlabel('total bill', fontsize = 7)\n",
    "ax.set_ylabel('tip', fontsize = 7)\n",
    "\n",
    "x = range(10, 60, 10)\n",
    "y = range(2, 12, 2)\n",
    "ax.set_xticks(x)\n",
    "ax.set_xticklabels(x, fontsize = 7)\n",
    "ax.set_yticks(y)\n",
    "ax.set_yticklabels(y, fontsize = 7)\n"
   ]
  },
  {
   "cell_type": "code",
   "execution_count": null,
   "id": "9050a71c-23c4-4286-8188-86b0fc107026",
   "metadata": {},
   "outputs": [],
   "source": []
  },
  {
   "cell_type": "code",
   "execution_count": 15,
   "id": "b4008194",
   "metadata": {},
   "outputs": [
    {
     "name": "stderr",
     "output_type": "stream",
     "text": [
      "C:\\Users\\Henrik\\AppData\\Local\\Temp\\ipykernel_10548\\4231759372.py:1: FutureWarning: The default of observed=False is deprecated and will be changed to True in a future version of pandas. Pass observed=False to retain current behavior or observed=True to adopt the future default and silence this warning.\n",
      "  gp1 = data[['tip', 'sex']].groupby('sex').get_group('Female')\n",
      "C:\\Users\\Henrik\\AppData\\Local\\Temp\\ipykernel_10548\\4231759372.py:2: FutureWarning: The default of observed=False is deprecated and will be changed to True in a future version of pandas. Pass observed=False to retain current behavior or observed=True to adopt the future default and silence this warning.\n",
      "  gp2 = data[['tip', 'sex']].groupby('sex').get_group('Male')\n"
     ]
    },
    {
     "data": {
      "text/html": [
       "<div>\n",
       "<style scoped>\n",
       "    .dataframe tbody tr th:only-of-type {\n",
       "        vertical-align: middle;\n",
       "    }\n",
       "\n",
       "    .dataframe tbody tr th {\n",
       "        vertical-align: top;\n",
       "    }\n",
       "\n",
       "    .dataframe thead th {\n",
       "        text-align: right;\n",
       "    }\n",
       "</style>\n",
       "<table border=\"1\" class=\"dataframe\">\n",
       "  <thead>\n",
       "    <tr style=\"text-align: right;\">\n",
       "      <th></th>\n",
       "      <th>tip</th>\n",
       "      <th>sex</th>\n",
       "    </tr>\n",
       "  </thead>\n",
       "  <tbody>\n",
       "    <tr>\n",
       "      <th>0</th>\n",
       "      <td>1.01</td>\n",
       "      <td>Female</td>\n",
       "    </tr>\n",
       "    <tr>\n",
       "      <th>4</th>\n",
       "      <td>3.61</td>\n",
       "      <td>Female</td>\n",
       "    </tr>\n",
       "    <tr>\n",
       "      <th>11</th>\n",
       "      <td>5.00</td>\n",
       "      <td>Female</td>\n",
       "    </tr>\n",
       "    <tr>\n",
       "      <th>14</th>\n",
       "      <td>3.02</td>\n",
       "      <td>Female</td>\n",
       "    </tr>\n",
       "    <tr>\n",
       "      <th>16</th>\n",
       "      <td>1.67</td>\n",
       "      <td>Female</td>\n",
       "    </tr>\n",
       "    <tr>\n",
       "      <th>...</th>\n",
       "      <td>...</td>\n",
       "      <td>...</td>\n",
       "    </tr>\n",
       "    <tr>\n",
       "      <th>226</th>\n",
       "      <td>2.00</td>\n",
       "      <td>Female</td>\n",
       "    </tr>\n",
       "    <tr>\n",
       "      <th>229</th>\n",
       "      <td>2.88</td>\n",
       "      <td>Female</td>\n",
       "    </tr>\n",
       "    <tr>\n",
       "      <th>238</th>\n",
       "      <td>4.67</td>\n",
       "      <td>Female</td>\n",
       "    </tr>\n",
       "    <tr>\n",
       "      <th>240</th>\n",
       "      <td>2.00</td>\n",
       "      <td>Female</td>\n",
       "    </tr>\n",
       "    <tr>\n",
       "      <th>243</th>\n",
       "      <td>3.00</td>\n",
       "      <td>Female</td>\n",
       "    </tr>\n",
       "  </tbody>\n",
       "</table>\n",
       "<p>87 rows × 2 columns</p>\n",
       "</div>"
      ],
      "text/plain": [
       "      tip     sex\n",
       "0    1.01  Female\n",
       "4    3.61  Female\n",
       "11   5.00  Female\n",
       "14   3.02  Female\n",
       "16   1.67  Female\n",
       "..    ...     ...\n",
       "226  2.00  Female\n",
       "229  2.88  Female\n",
       "238  4.67  Female\n",
       "240  2.00  Female\n",
       "243  3.00  Female\n",
       "\n",
       "[87 rows x 2 columns]"
      ]
     },
     "execution_count": 15,
     "metadata": {},
     "output_type": "execute_result"
    }
   ],
   "source": [
    "gp1 = data[['tip', 'sex']].groupby('sex').get_group('Female')\n",
    "gp2 = data[['tip', 'sex']].groupby('sex').get_group('Male')\n",
    "gp1"
   ]
  },
  {
   "cell_type": "code",
   "execution_count": 16,
   "id": "63b1afd0",
   "metadata": {},
   "outputs": [
    {
     "data": {
      "text/plain": [
       "[Text(0, 2, '2'),\n",
       " Text(0, 4, '4'),\n",
       " Text(0, 6, '6'),\n",
       " Text(0, 8, '8'),\n",
       " Text(0, 10, '10')]"
      ]
     },
     "execution_count": 16,
     "metadata": {},
     "output_type": "execute_result"
    },
    {
     "data": {
      "image/png": "[encoded data removed]",
      "text/plain": [
       "<Figure size 450x300 with 1 Axes>"
      ]
     },
     "metadata": {},
     "output_type": "display_data"
    }
   ],
   "source": [
    "#3-2\n",
    "fig, ax = plt.subplots(figsize = (4.5, 3))\n",
    "ax.boxplot([gp1['tip'], gp2['tip']], patch_artist = True, medianprops = {'color': 'b'},\n",
    "           boxprops = {'color': 'b', 'facecolor':'r'}, whiskerprops = {'color': 'r'}, capprops = {'color': 'b'})\n",
    "ax.set_title('The box with 2 features for the tip', fontsize = 'small')\n",
    "ax.set_xlabel('Features of the sex', fontsize = 7)\n",
    "ax.set_ylabel('Values of tip', fontsize = 7)\n",
    "x = range(1, 3, 1)\n",
    "y = range(2, 12, 2)\n",
    "ax.set_xticks(x)\n",
    "ax.set_xticklabels(['Female', 'Male'], fontsize = 7)\n",
    "ax.set_yticks(y)\n",
    "ax.set_yticklabels(y, fontsize = 7)"
   ]
  },
  {
   "cell_type": "code",
   "execution_count": null,
   "id": "6951f73f-8961-4457-a6f3-afc3b30dab8a",
   "metadata": {},
   "outputs": [],
   "source": []
  },
  {
   "cell_type": "code",
   "execution_count": 17,
   "id": "98426bce",
   "metadata": {},
   "outputs": [
    {
     "data": {
      "text/html": [
       "<div>\n",
       "<style scoped>\n",
       "    .dataframe tbody tr th:only-of-type {\n",
       "        vertical-align: middle;\n",
       "    }\n",
       "\n",
       "    .dataframe tbody tr th {\n",
       "        vertical-align: top;\n",
       "    }\n",
       "\n",
       "    .dataframe thead th {\n",
       "        text-align: right;\n",
       "    }\n",
       "</style>\n",
       "<table border=\"1\" class=\"dataframe\">\n",
       "  <thead>\n",
       "    <tr style=\"text-align: right;\">\n",
       "      <th></th>\n",
       "      <th>total_bill</th>\n",
       "      <th>tip</th>\n",
       "      <th>sex</th>\n",
       "      <th>smoker</th>\n",
       "      <th>day</th>\n",
       "      <th>time</th>\n",
       "      <th>size</th>\n",
       "    </tr>\n",
       "  </thead>\n",
       "  <tbody>\n",
       "    <tr>\n",
       "      <th>0</th>\n",
       "      <td>16.99</td>\n",
       "      <td>1.01</td>\n",
       "      <td>Female</td>\n",
       "      <td>No</td>\n",
       "      <td>Sun</td>\n",
       "      <td>Dinner</td>\n",
       "      <td>2</td>\n",
       "    </tr>\n",
       "    <tr>\n",
       "      <th>1</th>\n",
       "      <td>10.34</td>\n",
       "      <td>1.66</td>\n",
       "      <td>Male</td>\n",
       "      <td>No</td>\n",
       "      <td>Sun</td>\n",
       "      <td>Dinner</td>\n",
       "      <td>3</td>\n",
       "    </tr>\n",
       "    <tr>\n",
       "      <th>2</th>\n",
       "      <td>21.01</td>\n",
       "      <td>3.50</td>\n",
       "      <td>Male</td>\n",
       "      <td>No</td>\n",
       "      <td>Sun</td>\n",
       "      <td>Dinner</td>\n",
       "      <td>3</td>\n",
       "    </tr>\n",
       "    <tr>\n",
       "      <th>3</th>\n",
       "      <td>23.68</td>\n",
       "      <td>3.31</td>\n",
       "      <td>Male</td>\n",
       "      <td>No</td>\n",
       "      <td>Sun</td>\n",
       "      <td>Dinner</td>\n",
       "      <td>2</td>\n",
       "    </tr>\n",
       "    <tr>\n",
       "      <th>4</th>\n",
       "      <td>24.59</td>\n",
       "      <td>3.61</td>\n",
       "      <td>Female</td>\n",
       "      <td>No</td>\n",
       "      <td>Sun</td>\n",
       "      <td>Dinner</td>\n",
       "      <td>4</td>\n",
       "    </tr>\n",
       "  </tbody>\n",
       "</table>\n",
       "</div>"
      ],
      "text/plain": [
       "   total_bill   tip     sex smoker  day    time  size\n",
       "0       16.99  1.01  Female     No  Sun  Dinner     2\n",
       "1       10.34  1.66    Male     No  Sun  Dinner     3\n",
       "2       21.01  3.50    Male     No  Sun  Dinner     3\n",
       "3       23.68  3.31    Male     No  Sun  Dinner     2\n",
       "4       24.59  3.61  Female     No  Sun  Dinner     4"
      ]
     },
     "execution_count": 17,
     "metadata": {},
     "output_type": "execute_result"
    }
   ],
   "source": [
    "data.head()"
   ]
  },
  {
   "cell_type": "code",
   "execution_count": 18,
   "id": "fb309923",
   "metadata": {},
   "outputs": [
    {
     "name": "stderr",
     "output_type": "stream",
     "text": [
      "C:\\Users\\Henrik\\AppData\\Local\\Temp\\ipykernel_10548\\1494529361.py:1: FutureWarning: The default of observed=False is deprecated and will be changed to True in a future version of pandas. Pass observed=False to retain current behavior or observed=True to adopt the future default and silence this warning.\n",
      "  gp3 = data[['tip','smoker']].groupby('smoker').get_group('No')\n",
      "C:\\Users\\Henrik\\AppData\\Local\\Temp\\ipykernel_10548\\1494529361.py:2: FutureWarning: The default of observed=False is deprecated and will be changed to True in a future version of pandas. Pass observed=False to retain current behavior or observed=True to adopt the future default and silence this warning.\n",
      "  gp4 = data[['tip','smoker']].groupby('smoker').get_group('Yes')\n"
     ]
    }
   ],
   "source": [
    "gp3 = data[['tip','smoker']].groupby('smoker').get_group('No')\n",
    "gp4 = data[['tip','smoker']].groupby('smoker').get_group('Yes')"
   ]
  },
  {
   "cell_type": "code",
   "execution_count": 19,
   "id": "696c3532",
   "metadata": {},
   "outputs": [
    {
     "data": {
      "text/plain": [
       "[Text(0, 2, '2'),\n",
       " Text(0, 4, '4'),\n",
       " Text(0, 6, '6'),\n",
       " Text(0, 8, '8'),\n",
       " Text(0, 10, '10')]"
      ]
     },
     "execution_count": 19,
     "metadata": {},
     "output_type": "execute_result"
    },
    {
     "data": {
      "image/png": "[encoded data removed]",
      "text/plain": [
       "<Figure size 460x300 with 1 Axes>"
      ]
     },
     "metadata": {},
     "output_type": "display_data"
    }
   ],
   "source": [
    "#3-3\n",
    "fig, ax = plt.subplots(figsize = (4.6, 3))\n",
    "ax.boxplot([gp3['tip'], gp4['tip']], patch_artist = True, medianprops = {'color': 'b'},\n",
    "           boxprops = {'color': 'b', 'facecolor':'r'}, whiskerprops = {'color': 'r'}, capprops = {'color': 'b'})\n",
    "ax.set_title('The box with 2 features for the tip', fontsize = 'small')\n",
    "ax.set_xlabel('Features of the smoker', fontsize = 7)\n",
    "ax.set_ylabel('Values of tip', fontsize = 7)\n",
    "x = range(1, 3, 1)\n",
    "y = range(2, 12, 2)\n",
    "ax.set_xticks(x)\n",
    "ax.set_xticklabels(['No', 'Yes'], fontsize = 7)\n",
    "ax.set_yticks(y)\n",
    "ax.set_yticklabels(y, fontsize = 7)"
   ]
  },
  {
   "cell_type": "code",
   "execution_count": null,
   "id": "8d1b9708-a824-4160-bcf7-9e9977183cae",
   "metadata": {},
   "outputs": [],
   "source": []
  },
  {
   "cell_type": "code",
   "execution_count": 20,
   "id": "5e82e574",
   "metadata": {},
   "outputs": [
    {
     "name": "stderr",
     "output_type": "stream",
     "text": [
      "C:\\Users\\Henrik\\AppData\\Local\\Temp\\ipykernel_10548\\3334605223.py:1: FutureWarning: The default of observed=False is deprecated and will be changed to True in a future version of pandas. Pass observed=False to retain current behavior or observed=True to adopt the future default and silence this warning.\n",
      "  gp5 = data[['tip','day']].groupby('day').get_group('Sun')\n",
      "C:\\Users\\Henrik\\AppData\\Local\\Temp\\ipykernel_10548\\3334605223.py:2: FutureWarning: The default of observed=False is deprecated and will be changed to True in a future version of pandas. Pass observed=False to retain current behavior or observed=True to adopt the future default and silence this warning.\n",
      "  gp6 = data[['tip','day']].groupby('day').get_group('Sat')\n",
      "C:\\Users\\Henrik\\AppData\\Local\\Temp\\ipykernel_10548\\3334605223.py:3: FutureWarning: The default of observed=False is deprecated and will be changed to True in a future version of pandas. Pass observed=False to retain current behavior or observed=True to adopt the future default and silence this warning.\n",
      "  gp7 = data[['tip','day']].groupby('day').get_group('Thur')\n",
      "C:\\Users\\Henrik\\AppData\\Local\\Temp\\ipykernel_10548\\3334605223.py:4: FutureWarning: The default of observed=False is deprecated and will be changed to True in a future version of pandas. Pass observed=False to retain current behavior or observed=True to adopt the future default and silence this warning.\n",
      "  gp8 = data[['tip','day']].groupby('day').get_group('Fri')\n"
     ]
    }
   ],
   "source": [
    "gp5 = data[['tip','day']].groupby('day').get_group('Sun')\n",
    "gp6 = data[['tip','day']].groupby('day').get_group('Sat')\n",
    "gp7 = data[['tip','day']].groupby('day').get_group('Thur')\n",
    "gp8 = data[['tip','day']].groupby('day').get_group('Fri')"
   ]
  },
  {
   "cell_type": "code",
   "execution_count": 21,
   "id": "605ad770",
   "metadata": {},
   "outputs": [
    {
     "data": {
      "text/plain": [
       "[Text(0, 2, '2'),\n",
       " Text(0, 4, '4'),\n",
       " Text(0, 6, '6'),\n",
       " Text(0, 8, '8'),\n",
       " Text(0, 10, '10')]"
      ]
     },
     "execution_count": 21,
     "metadata": {},
     "output_type": "execute_result"
    },
    {
     "data": {
      "image/png": "[encoded data removed]",
      "text/plain": [
       "<Figure size 460x300 with 1 Axes>"
      ]
     },
     "metadata": {},
     "output_type": "display_data"
    }
   ],
   "source": [
    "#3-4\n",
    "fig, ax = plt.subplots(figsize = (4.6, 3))\n",
    "ax.boxplot([gp5['tip'], gp6['tip'], gp7['tip'],gp8['tip']], patch_artist = True, medianprops = {'color': 'b'},\n",
    "           boxprops = {'color': 'b', 'facecolor':'r'}, whiskerprops = {'color': 'r'}, capprops = {'color': 'b'})\n",
    "ax.set_title('The box with 4 features for the tip', fontsize = 'small')\n",
    "ax.set_xlabel('Features of the day', fontsize = 7)\n",
    "ax.set_ylabel('Values of tip', fontsize = 7)\n",
    "x = range(1, 5, 1)\n",
    "y = range(2, 12, 2)\n",
    "ax.set_xticks(x)\n",
    "ax.set_xticklabels(['Sun', 'Sat', 'Thur', 'Fri'], fontsize = 7)\n",
    "ax.set_yticks(y)\n",
    "ax.set_yticklabels(y, fontsize = 7)"
   ]
  },
  {
   "cell_type": "code",
   "execution_count": null,
   "id": "47193c0a-3a5a-4e9f-bda6-d5bfb603bbb2",
   "metadata": {},
   "outputs": [],
   "source": []
  },
  {
   "cell_type": "code",
   "execution_count": 22,
   "id": "b84020c9",
   "metadata": {},
   "outputs": [
    {
     "data": {
      "text/html": [
       "<div>\n",
       "<style scoped>\n",
       "    .dataframe tbody tr th:only-of-type {\n",
       "        vertical-align: middle;\n",
       "    }\n",
       "\n",
       "    .dataframe tbody tr th {\n",
       "        vertical-align: top;\n",
       "    }\n",
       "\n",
       "    .dataframe thead th {\n",
       "        text-align: right;\n",
       "    }\n",
       "</style>\n",
       "<table border=\"1\" class=\"dataframe\">\n",
       "  <thead>\n",
       "    <tr style=\"text-align: right;\">\n",
       "      <th></th>\n",
       "      <th>total_bill</th>\n",
       "      <th>tip</th>\n",
       "      <th>sex</th>\n",
       "      <th>smoker</th>\n",
       "      <th>day</th>\n",
       "      <th>time</th>\n",
       "      <th>size</th>\n",
       "    </tr>\n",
       "  </thead>\n",
       "  <tbody>\n",
       "    <tr>\n",
       "      <th>0</th>\n",
       "      <td>16.99</td>\n",
       "      <td>1.01</td>\n",
       "      <td>Female</td>\n",
       "      <td>No</td>\n",
       "      <td>Sun</td>\n",
       "      <td>Dinner</td>\n",
       "      <td>2</td>\n",
       "    </tr>\n",
       "    <tr>\n",
       "      <th>1</th>\n",
       "      <td>10.34</td>\n",
       "      <td>1.66</td>\n",
       "      <td>Male</td>\n",
       "      <td>No</td>\n",
       "      <td>Sun</td>\n",
       "      <td>Dinner</td>\n",
       "      <td>3</td>\n",
       "    </tr>\n",
       "    <tr>\n",
       "      <th>2</th>\n",
       "      <td>21.01</td>\n",
       "      <td>3.50</td>\n",
       "      <td>Male</td>\n",
       "      <td>No</td>\n",
       "      <td>Sun</td>\n",
       "      <td>Dinner</td>\n",
       "      <td>3</td>\n",
       "    </tr>\n",
       "    <tr>\n",
       "      <th>3</th>\n",
       "      <td>23.68</td>\n",
       "      <td>3.31</td>\n",
       "      <td>Male</td>\n",
       "      <td>No</td>\n",
       "      <td>Sun</td>\n",
       "      <td>Dinner</td>\n",
       "      <td>2</td>\n",
       "    </tr>\n",
       "    <tr>\n",
       "      <th>4</th>\n",
       "      <td>24.59</td>\n",
       "      <td>3.61</td>\n",
       "      <td>Female</td>\n",
       "      <td>No</td>\n",
       "      <td>Sun</td>\n",
       "      <td>Dinner</td>\n",
       "      <td>4</td>\n",
       "    </tr>\n",
       "  </tbody>\n",
       "</table>\n",
       "</div>"
      ],
      "text/plain": [
       "   total_bill   tip     sex smoker  day    time  size\n",
       "0       16.99  1.01  Female     No  Sun  Dinner     2\n",
       "1       10.34  1.66    Male     No  Sun  Dinner     3\n",
       "2       21.01  3.50    Male     No  Sun  Dinner     3\n",
       "3       23.68  3.31    Male     No  Sun  Dinner     2\n",
       "4       24.59  3.61  Female     No  Sun  Dinner     4"
      ]
     },
     "execution_count": 22,
     "metadata": {},
     "output_type": "execute_result"
    }
   ],
   "source": [
    "data.head()"
   ]
  },
  {
   "cell_type": "code",
   "execution_count": 23,
   "id": "43fb321e",
   "metadata": {},
   "outputs": [
    {
     "name": "stderr",
     "output_type": "stream",
     "text": [
      "C:\\Users\\Henrik\\AppData\\Local\\Temp\\ipykernel_10548\\2069458908.py:1: FutureWarning: The default of observed=False is deprecated and will be changed to True in a future version of pandas. Pass observed=False to retain current behavior or observed=True to adopt the future default and silence this warning.\n",
      "  gp9 = data[['tip','time']].groupby('time').get_group('Dinner')\n",
      "C:\\Users\\Henrik\\AppData\\Local\\Temp\\ipykernel_10548\\2069458908.py:2: FutureWarning: The default of observed=False is deprecated and will be changed to True in a future version of pandas. Pass observed=False to retain current behavior or observed=True to adopt the future default and silence this warning.\n",
      "  gp10 = data[['tip','time']].groupby('time').get_group('Lunch')\n"
     ]
    }
   ],
   "source": [
    "gp9 = data[['tip','time']].groupby('time').get_group('Dinner')\n",
    "gp10 = data[['tip','time']].groupby('time').get_group('Lunch')"
   ]
  },
  {
   "cell_type": "code",
   "execution_count": 24,
   "id": "0f1a66cc",
   "metadata": {},
   "outputs": [
    {
     "data": {
      "text/plain": [
       "[Text(0, 2, '2'),\n",
       " Text(0, 4, '4'),\n",
       " Text(0, 6, '6'),\n",
       " Text(0, 8, '8'),\n",
       " Text(0, 10, '10')]"
      ]
     },
     "execution_count": 24,
     "metadata": {},
     "output_type": "execute_result"
    },
    {
     "data": {
      "image/png": "[encoded data removed]",
      "text/plain": [
       "<Figure size 460x300 with 1 Axes>"
      ]
     },
     "metadata": {},
     "output_type": "display_data"
    }
   ],
   "source": [
    "#3-5\n",
    "fig, ax = plt.subplots(figsize = (4.6, 3))\n",
    "ax.boxplot([gp9['tip'], gp10['tip']], patch_artist = True, medianprops = {'color': 'b'},\n",
    "           boxprops = {'color': 'b', 'facecolor':'r'}, whiskerprops = {'color': 'r'}, capprops = {'color': 'b'})\n",
    "ax.set_title('The box with 2 features for the tip', fontsize = 'small')\n",
    "ax.set_xlabel('Features of the time', fontsize = 7)\n",
    "ax.set_ylabel('Values of tip', fontsize = 7)\n",
    "x = range(1, 3, 1)\n",
    "y = range(2, 12, 2)\n",
    "ax.set_xticks(x)\n",
    "ax.set_xticklabels(['Dinner', 'Lunch'], fontsize = 7)\n",
    "ax.set_yticks(y)\n",
    "ax.set_yticklabels(y, fontsize = 7)"
   ]
  },
  {
   "cell_type": "code",
   "execution_count": null,
   "id": "5cdcdc34-b582-4d18-b103-cd6728a727c4",
   "metadata": {},
   "outputs": [],
   "source": []
  },
  {
   "cell_type": "code",
   "execution_count": 25,
   "id": "fa34182e",
   "metadata": {},
   "outputs": [
    {
     "data": {
      "text/html": [
       "<div>\n",
       "<style scoped>\n",
       "    .dataframe tbody tr th:only-of-type {\n",
       "        vertical-align: middle;\n",
       "    }\n",
       "\n",
       "    .dataframe tbody tr th {\n",
       "        vertical-align: top;\n",
       "    }\n",
       "\n",
       "    .dataframe thead th {\n",
       "        text-align: right;\n",
       "    }\n",
       "</style>\n",
       "<table border=\"1\" class=\"dataframe\">\n",
       "  <thead>\n",
       "    <tr style=\"text-align: right;\">\n",
       "      <th></th>\n",
       "      <th>total_bill</th>\n",
       "      <th>tip</th>\n",
       "      <th>sex</th>\n",
       "      <th>smoker</th>\n",
       "      <th>day</th>\n",
       "      <th>time</th>\n",
       "      <th>size</th>\n",
       "    </tr>\n",
       "  </thead>\n",
       "  <tbody>\n",
       "    <tr>\n",
       "      <th>0</th>\n",
       "      <td>16.99</td>\n",
       "      <td>1.01</td>\n",
       "      <td>Female</td>\n",
       "      <td>No</td>\n",
       "      <td>Sun</td>\n",
       "      <td>Dinner</td>\n",
       "      <td>2</td>\n",
       "    </tr>\n",
       "    <tr>\n",
       "      <th>1</th>\n",
       "      <td>10.34</td>\n",
       "      <td>1.66</td>\n",
       "      <td>Male</td>\n",
       "      <td>No</td>\n",
       "      <td>Sun</td>\n",
       "      <td>Dinner</td>\n",
       "      <td>3</td>\n",
       "    </tr>\n",
       "    <tr>\n",
       "      <th>2</th>\n",
       "      <td>21.01</td>\n",
       "      <td>3.50</td>\n",
       "      <td>Male</td>\n",
       "      <td>No</td>\n",
       "      <td>Sun</td>\n",
       "      <td>Dinner</td>\n",
       "      <td>3</td>\n",
       "    </tr>\n",
       "    <tr>\n",
       "      <th>3</th>\n",
       "      <td>23.68</td>\n",
       "      <td>3.31</td>\n",
       "      <td>Male</td>\n",
       "      <td>No</td>\n",
       "      <td>Sun</td>\n",
       "      <td>Dinner</td>\n",
       "      <td>2</td>\n",
       "    </tr>\n",
       "    <tr>\n",
       "      <th>4</th>\n",
       "      <td>24.59</td>\n",
       "      <td>3.61</td>\n",
       "      <td>Female</td>\n",
       "      <td>No</td>\n",
       "      <td>Sun</td>\n",
       "      <td>Dinner</td>\n",
       "      <td>4</td>\n",
       "    </tr>\n",
       "  </tbody>\n",
       "</table>\n",
       "</div>"
      ],
      "text/plain": [
       "   total_bill   tip     sex smoker  day    time  size\n",
       "0       16.99  1.01  Female     No  Sun  Dinner     2\n",
       "1       10.34  1.66    Male     No  Sun  Dinner     3\n",
       "2       21.01  3.50    Male     No  Sun  Dinner     3\n",
       "3       23.68  3.31    Male     No  Sun  Dinner     2\n",
       "4       24.59  3.61  Female     No  Sun  Dinner     4"
      ]
     },
     "execution_count": 25,
     "metadata": {},
     "output_type": "execute_result"
    }
   ],
   "source": [
    "data.head()"
   ]
  },
  {
   "cell_type": "code",
   "execution_count": 26,
   "id": "0f179928",
   "metadata": {},
   "outputs": [],
   "source": [
    "gp11 = data[['tip','size']].groupby('size').get_group(2)\n",
    "gp12 = data[['tip','size']].groupby('size').get_group(3)\n",
    "gp13 = data[['tip','size']].groupby('size').get_group(4)\n",
    "gp14 = data[['tip','size']].groupby('size').get_group(1)\n",
    "gp15 = data[['tip','size']].groupby('size').get_group(6)\n",
    "gp16 = data[['tip','size']].groupby('size').get_group(5)"
   ]
  },
  {
   "cell_type": "code",
   "execution_count": 27,
   "id": "9d78ab14",
   "metadata": {},
   "outputs": [
    {
     "data": {
      "text/plain": [
       "[Text(0, 2, '2'),\n",
       " Text(0, 4, '4'),\n",
       " Text(0, 6, '6'),\n",
       " Text(0, 8, '8'),\n",
       " Text(0, 10, '10')]"
      ]
     },
     "execution_count": 27,
     "metadata": {},
     "output_type": "execute_result"
    },
    {
     "data": {
      "image/png": "[encoded data removed]",
      "text/plain": [
       "<Figure size 460x300 with 1 Axes>"
      ]
     },
     "metadata": {},
     "output_type": "display_data"
    }
   ],
   "source": [
    "#3-6\n",
    "fig, ax = plt.subplots(figsize = (4.6, 3))\n",
    "ax.boxplot([gp11['tip'], gp12['tip'], gp13['tip'], gp14['tip'], gp15['tip'], gp16['tip']], patch_artist = True, medianprops = {'color': 'b'},\n",
    "           boxprops = {'color': 'b', 'facecolor':'r'}, whiskerprops = {'color': 'r'}, capprops = {'color': 'b'})\n",
    "ax.set_title('The box with 6 features for the tip', fontsize = 'small')\n",
    "ax.set_xlabel('Features of the size', fontsize = 7)\n",
    "ax.set_ylabel('Values of tip', fontsize = 7)\n",
    "x = range(1, 7, 1)\n",
    "y = range(2, 12, 2)\n",
    "ax.set_xticks(x)\n",
    "ax.set_xticklabels(['2', '3', '4', '1', '6', '5'], fontsize = 7)\n",
    "ax.set_yticks(y)\n",
    "ax.set_yticklabels(y, fontsize = 7)"
   ]
  },
  {
   "cell_type": "code",
   "execution_count": null,
   "id": "6d370196-265b-48bb-917f-c44ba3e20c8e",
   "metadata": {},
   "outputs": [],
   "source": []
  },
  {
   "cell_type": "code",
   "execution_count": 28,
   "id": "c4f2cef3",
   "metadata": {},
   "outputs": [
    {
     "data": {
      "text/html": [
       "<div>\n",
       "<style scoped>\n",
       "    .dataframe tbody tr th:only-of-type {\n",
       "        vertical-align: middle;\n",
       "    }\n",
       "\n",
       "    .dataframe tbody tr th {\n",
       "        vertical-align: top;\n",
       "    }\n",
       "\n",
       "    .dataframe thead th {\n",
       "        text-align: right;\n",
       "    }\n",
       "</style>\n",
       "<table border=\"1\" class=\"dataframe\">\n",
       "  <thead>\n",
       "    <tr style=\"text-align: right;\">\n",
       "      <th></th>\n",
       "      <th>total_bill</th>\n",
       "      <th>tip</th>\n",
       "      <th>sex</th>\n",
       "      <th>smoker</th>\n",
       "      <th>day</th>\n",
       "      <th>time</th>\n",
       "      <th>size</th>\n",
       "    </tr>\n",
       "  </thead>\n",
       "  <tbody>\n",
       "    <tr>\n",
       "      <th>0</th>\n",
       "      <td>16.99</td>\n",
       "      <td>1.01</td>\n",
       "      <td>Female</td>\n",
       "      <td>No</td>\n",
       "      <td>Sun</td>\n",
       "      <td>Dinner</td>\n",
       "      <td>2</td>\n",
       "    </tr>\n",
       "    <tr>\n",
       "      <th>1</th>\n",
       "      <td>10.34</td>\n",
       "      <td>1.66</td>\n",
       "      <td>Male</td>\n",
       "      <td>No</td>\n",
       "      <td>Sun</td>\n",
       "      <td>Dinner</td>\n",
       "      <td>3</td>\n",
       "    </tr>\n",
       "    <tr>\n",
       "      <th>2</th>\n",
       "      <td>21.01</td>\n",
       "      <td>3.50</td>\n",
       "      <td>Male</td>\n",
       "      <td>No</td>\n",
       "      <td>Sun</td>\n",
       "      <td>Dinner</td>\n",
       "      <td>3</td>\n",
       "    </tr>\n",
       "    <tr>\n",
       "      <th>3</th>\n",
       "      <td>23.68</td>\n",
       "      <td>3.31</td>\n",
       "      <td>Male</td>\n",
       "      <td>No</td>\n",
       "      <td>Sun</td>\n",
       "      <td>Dinner</td>\n",
       "      <td>2</td>\n",
       "    </tr>\n",
       "    <tr>\n",
       "      <th>4</th>\n",
       "      <td>24.59</td>\n",
       "      <td>3.61</td>\n",
       "      <td>Female</td>\n",
       "      <td>No</td>\n",
       "      <td>Sun</td>\n",
       "      <td>Dinner</td>\n",
       "      <td>4</td>\n",
       "    </tr>\n",
       "  </tbody>\n",
       "</table>\n",
       "</div>"
      ],
      "text/plain": [
       "   total_bill   tip     sex smoker  day    time  size\n",
       "0       16.99  1.01  Female     No  Sun  Dinner     2\n",
       "1       10.34  1.66    Male     No  Sun  Dinner     3\n",
       "2       21.01  3.50    Male     No  Sun  Dinner     3\n",
       "3       23.68  3.31    Male     No  Sun  Dinner     2\n",
       "4       24.59  3.61  Female     No  Sun  Dinner     4"
      ]
     },
     "execution_count": 28,
     "metadata": {},
     "output_type": "execute_result"
    }
   ],
   "source": [
    "data.head()"
   ]
  },
  {
   "cell_type": "code",
   "execution_count": 29,
   "id": "b894329d-88e7-48c1-886e-1b6131b913b9",
   "metadata": {},
   "outputs": [
    {
     "name": "stderr",
     "output_type": "stream",
     "text": [
      "C:\\Users\\Henrik\\AppData\\Local\\Temp\\ipykernel_10548\\3725945056.py:1: FutureWarning: The default of observed=False is deprecated and will be changed to True in a future version of pandas. Pass observed=False to retain current behavior or observed=True to adopt the future default and silence this warning.\n",
      "  gp17 = data.groupby(['sex', 'smoker'])['tip'].mean().unstack()\n"
     ]
    },
    {
     "data": {
      "text/html": [
       "<div>\n",
       "<style scoped>\n",
       "    .dataframe tbody tr th:only-of-type {\n",
       "        vertical-align: middle;\n",
       "    }\n",
       "\n",
       "    .dataframe tbody tr th {\n",
       "        vertical-align: top;\n",
       "    }\n",
       "\n",
       "    .dataframe thead th {\n",
       "        text-align: right;\n",
       "    }\n",
       "</style>\n",
       "<table border=\"1\" class=\"dataframe\">\n",
       "  <thead>\n",
       "    <tr style=\"text-align: right;\">\n",
       "      <th>smoker</th>\n",
       "      <th>Yes</th>\n",
       "      <th>No</th>\n",
       "    </tr>\n",
       "    <tr>\n",
       "      <th>sex</th>\n",
       "      <th></th>\n",
       "      <th></th>\n",
       "    </tr>\n",
       "  </thead>\n",
       "  <tbody>\n",
       "    <tr>\n",
       "      <th>Male</th>\n",
       "      <td>3.051167</td>\n",
       "      <td>3.113402</td>\n",
       "    </tr>\n",
       "    <tr>\n",
       "      <th>Female</th>\n",
       "      <td>2.931515</td>\n",
       "      <td>2.773519</td>\n",
       "    </tr>\n",
       "  </tbody>\n",
       "</table>\n",
       "</div>"
      ],
      "text/plain": [
       "smoker       Yes        No\n",
       "sex                       \n",
       "Male    3.051167  3.113402\n",
       "Female  2.931515  2.773519"
      ]
     },
     "execution_count": 29,
     "metadata": {},
     "output_type": "execute_result"
    }
   ],
   "source": [
    "gp17 = data.groupby(['sex', 'smoker'])['tip'].mean().unstack()\n",
    "gp17"
   ]
  },
  {
   "cell_type": "code",
   "execution_count": 30,
   "id": "673f18c6",
   "metadata": {},
   "outputs": [
    {
     "data": {
      "text/plain": [
       "<matplotlib.legend.Legend at 0x1b2959f9b20>"
      ]
     },
     "execution_count": 30,
     "metadata": {},
     "output_type": "execute_result"
    },
    {
     "data": {
      "image/png": "[encoded data removed]",
      "text/plain": [
       "<Figure size 460x300 with 1 Axes>"
      ]
     },
     "metadata": {},
     "output_type": "display_data"
    }
   ],
   "source": [
    "#3-7\n",
    "fig, ax = plt.subplots(figsize = (4.6, 3))\n",
    "total_width = 0.8\n",
    "ind_width = total_width / 4\n",
    "alteration = np.arange(-total_width/2+ind_width/2, total_width/2+ind_width/2, ind_width)\n",
    "colors = ['#539caf', '#7663b0']\n",
    "y_data_names = ['Yes', 'No']\n",
    "\n",
    "ax.bar([0+alteration[0], 0.2+alteration[2]], gp17['Yes'], color = '#539caf', label = 'Yes', width = ind_width)\n",
    "ax.bar([0+alteration[1], 0.2+alteration[3]], gp17['No'], color = '#7663b0', label = 'No', width = ind_width)\n",
    "\n",
    "ax.set_xticks([-0.2, 0.4],['Male','Female'])\n",
    "ax.set_title('Values by Sex (Male or Female) and Smoker (Yes or No)', fontsize = 'small')\n",
    "ax.set_xlabel('Sex', fontsize = 9)\n",
    "ax.set_ylabel('Values of tip', fontsize = 8)\n",
    "ax.legend(loc = 'upper right', fontsize = 7)\n",
    "\n",
    "\n"
   ]
  },
  {
   "cell_type": "markdown",
   "id": "ab2fba5b-ad22-43a3-a196-c0ae9a03a523",
   "metadata": {},
   "source": [
    "## 练习4：泰坦尼克号海难幸存状况分析 (8个题)\n",
    "\n",
    "1. 不同仓位等级中幸存和遇难的乘客比例（提示：箱图或者提琴图）\n",
    "2. 不同性别的幸存比例（提示：箱图或者提琴图）\n",
    "3. 幸存和遇难乘客的票价分布（提示：箱图或者提琴图）\n",
    "4. 幸存和遇难乘客的年龄分布（提示：箱图或者提琴图）\n",
    "5. 不同上船港口的乘客仓位等级分布（提示：箱图或者提琴图）\n",
    "6. 幸存和遇难乘客堂兄弟姐妹的数量分布（提示：箱图或者提琴图）\n",
    "7. 幸存和遇难乘客父母子女的数量分布（提示：箱图或者提琴图）\n",
    "8. 单独乘船与否和幸存之间有没有联系（提示：统计柱状图）"
   ]
  },
  {
   "cell_type": "code",
   "execution_count": 31,
   "id": "171e617f-9983-445a-b872-ad925ee239a4",
   "metadata": {
    "tags": []
   },
   "outputs": [
    {
     "data": {
      "text/html": [
       "<div>\n",
       "<style scoped>\n",
       "    .dataframe tbody tr th:only-of-type {\n",
       "        vertical-align: middle;\n",
       "    }\n",
       "\n",
       "    .dataframe tbody tr th {\n",
       "        vertical-align: top;\n",
       "    }\n",
       "\n",
       "    .dataframe thead th {\n",
       "        text-align: right;\n",
       "    }\n",
       "</style>\n",
       "<table border=\"1\" class=\"dataframe\">\n",
       "  <thead>\n",
       "    <tr style=\"text-align: right;\">\n",
       "      <th></th>\n",
       "      <th>survived</th>\n",
       "      <th>pclass</th>\n",
       "      <th>sex</th>\n",
       "      <th>age</th>\n",
       "      <th>sibsp</th>\n",
       "      <th>parch</th>\n",
       "      <th>fare</th>\n",
       "      <th>embarked</th>\n",
       "      <th>class</th>\n",
       "      <th>who</th>\n",
       "      <th>adult_male</th>\n",
       "      <th>deck</th>\n",
       "      <th>embark_town</th>\n",
       "      <th>alive</th>\n",
       "      <th>alone</th>\n",
       "    </tr>\n",
       "  </thead>\n",
       "  <tbody>\n",
       "    <tr>\n",
       "      <th>0</th>\n",
       "      <td>0</td>\n",
       "      <td>3</td>\n",
       "      <td>male</td>\n",
       "      <td>22.0</td>\n",
       "      <td>1</td>\n",
       "      <td>0</td>\n",
       "      <td>7.2500</td>\n",
       "      <td>S</td>\n",
       "      <td>Third</td>\n",
       "      <td>man</td>\n",
       "      <td>True</td>\n",
       "      <td>NaN</td>\n",
       "      <td>Southampton</td>\n",
       "      <td>no</td>\n",
       "      <td>False</td>\n",
       "    </tr>\n",
       "    <tr>\n",
       "      <th>1</th>\n",
       "      <td>1</td>\n",
       "      <td>1</td>\n",
       "      <td>female</td>\n",
       "      <td>38.0</td>\n",
       "      <td>1</td>\n",
       "      <td>0</td>\n",
       "      <td>71.2833</td>\n",
       "      <td>C</td>\n",
       "      <td>First</td>\n",
       "      <td>woman</td>\n",
       "      <td>False</td>\n",
       "      <td>C</td>\n",
       "      <td>Cherbourg</td>\n",
       "      <td>yes</td>\n",
       "      <td>False</td>\n",
       "    </tr>\n",
       "    <tr>\n",
       "      <th>2</th>\n",
       "      <td>1</td>\n",
       "      <td>3</td>\n",
       "      <td>female</td>\n",
       "      <td>26.0</td>\n",
       "      <td>0</td>\n",
       "      <td>0</td>\n",
       "      <td>7.9250</td>\n",
       "      <td>S</td>\n",
       "      <td>Third</td>\n",
       "      <td>woman</td>\n",
       "      <td>False</td>\n",
       "      <td>NaN</td>\n",
       "      <td>Southampton</td>\n",
       "      <td>yes</td>\n",
       "      <td>True</td>\n",
       "    </tr>\n",
       "    <tr>\n",
       "      <th>3</th>\n",
       "      <td>1</td>\n",
       "      <td>1</td>\n",
       "      <td>female</td>\n",
       "      <td>35.0</td>\n",
       "      <td>1</td>\n",
       "      <td>0</td>\n",
       "      <td>53.1000</td>\n",
       "      <td>S</td>\n",
       "      <td>First</td>\n",
       "      <td>woman</td>\n",
       "      <td>False</td>\n",
       "      <td>C</td>\n",
       "      <td>Southampton</td>\n",
       "      <td>yes</td>\n",
       "      <td>False</td>\n",
       "    </tr>\n",
       "    <tr>\n",
       "      <th>4</th>\n",
       "      <td>0</td>\n",
       "      <td>3</td>\n",
       "      <td>male</td>\n",
       "      <td>35.0</td>\n",
       "      <td>0</td>\n",
       "      <td>0</td>\n",
       "      <td>8.0500</td>\n",
       "      <td>S</td>\n",
       "      <td>Third</td>\n",
       "      <td>man</td>\n",
       "      <td>True</td>\n",
       "      <td>NaN</td>\n",
       "      <td>Southampton</td>\n",
       "      <td>no</td>\n",
       "      <td>True</td>\n",
       "    </tr>\n",
       "  </tbody>\n",
       "</table>\n",
       "</div>"
      ],
      "text/plain": [
       "   survived  pclass     sex   age  sibsp  parch     fare embarked  class  \\\n",
       "0         0       3    male  22.0      1      0   7.2500        S  Third   \n",
       "1         1       1  female  38.0      1      0  71.2833        C  First   \n",
       "2         1       3  female  26.0      0      0   7.9250        S  Third   \n",
       "3         1       1  female  35.0      1      0  53.1000        S  First   \n",
       "4         0       3    male  35.0      0      0   8.0500        S  Third   \n",
       "\n",
       "     who  adult_male deck  embark_town alive  alone  \n",
       "0    man        True  NaN  Southampton    no  False  \n",
       "1  woman       False    C    Cherbourg   yes  False  \n",
       "2  woman       False  NaN  Southampton   yes   True  \n",
       "3  woman       False    C  Southampton   yes  False  \n",
       "4    man        True  NaN  Southampton    no   True  "
      ]
     },
     "execution_count": 31,
     "metadata": {},
     "output_type": "execute_result"
    }
   ],
   "source": [
    "data = sns.load_dataset(\"titanic\")\n",
    "data.head()\n",
    "# 幸存与否，仓位等级，性别，年龄，堂兄弟姐妹数，父母子女数，票价，上船港口缩写，仓位等级，人员分类，是否成年男性，所在甲板，上船港口，是否幸存，是否单独乘船"
   ]
  },
  {
   "cell_type": "code",
   "execution_count": 32,
   "id": "1414f1ba-9194-429b-8c04-a2e13b0ef580",
   "metadata": {},
   "outputs": [
    {
     "data": {
      "text/html": [
       "<div>\n",
       "<style scoped>\n",
       "    .dataframe tbody tr th:only-of-type {\n",
       "        vertical-align: middle;\n",
       "    }\n",
       "\n",
       "    .dataframe tbody tr th {\n",
       "        vertical-align: top;\n",
       "    }\n",
       "\n",
       "    .dataframe thead th {\n",
       "        text-align: right;\n",
       "    }\n",
       "</style>\n",
       "<table border=\"1\" class=\"dataframe\">\n",
       "  <thead>\n",
       "    <tr style=\"text-align: right;\">\n",
       "      <th></th>\n",
       "      <th>survived</th>\n",
       "      <th>unsurvived</th>\n",
       "      <th>total</th>\n",
       "      <th>survived_prop</th>\n",
       "      <th>unsurvived_prop</th>\n",
       "    </tr>\n",
       "    <tr>\n",
       "      <th>pclass</th>\n",
       "      <th></th>\n",
       "      <th></th>\n",
       "      <th></th>\n",
       "      <th></th>\n",
       "      <th></th>\n",
       "    </tr>\n",
       "  </thead>\n",
       "  <tbody>\n",
       "    <tr>\n",
       "      <th>1</th>\n",
       "      <td>136</td>\n",
       "      <td>80</td>\n",
       "      <td>216</td>\n",
       "      <td>0.629630</td>\n",
       "      <td>0.370370</td>\n",
       "    </tr>\n",
       "    <tr>\n",
       "      <th>2</th>\n",
       "      <td>87</td>\n",
       "      <td>97</td>\n",
       "      <td>184</td>\n",
       "      <td>0.472826</td>\n",
       "      <td>0.527174</td>\n",
       "    </tr>\n",
       "    <tr>\n",
       "      <th>3</th>\n",
       "      <td>119</td>\n",
       "      <td>372</td>\n",
       "      <td>491</td>\n",
       "      <td>0.242363</td>\n",
       "      <td>0.757637</td>\n",
       "    </tr>\n",
       "  </tbody>\n",
       "</table>\n",
       "</div>"
      ],
      "text/plain": [
       "        survived  unsurvived  total  survived_prop  unsurvived_prop\n",
       "pclass                                                             \n",
       "1            136          80    216       0.629630         0.370370\n",
       "2             87          97    184       0.472826         0.527174\n",
       "3            119         372    491       0.242363         0.757637"
      ]
     },
     "execution_count": 32,
     "metadata": {},
     "output_type": "execute_result"
    }
   ],
   "source": [
    "temp = data[['pclass', 'survived']].groupby('pclass')\n",
    "#temp.agg('count')\n",
    "gp18 = temp.sum()\n",
    "gp18['unsurvived'] =  temp.count()['survived'] - gp18['survived']\n",
    "gp18['total'] = temp.count()['survived']\n",
    "gp18['survived_prop'] = gp18['survived'] / gp18['total']\n",
    "gp18['unsurvived_prop'] = gp18['unsurvived'] / gp18['total']\n",
    "gp18"
   ]
  },
  {
   "cell_type": "code",
   "execution_count": 33,
   "id": "a2cea2ed",
   "metadata": {},
   "outputs": [
    {
     "data": {
      "text/plain": [
       "<matplotlib.legend.Legend at 0x1b29408fb20>"
      ]
     },
     "execution_count": 33,
     "metadata": {},
     "output_type": "execute_result"
    },
    {
     "data": {
      "image/png": "[encoded data removed]",
      "text/plain": [
       "<Figure size 500x300 with 1 Axes>"
      ]
     },
     "metadata": {},
     "output_type": "display_data"
    }
   ],
   "source": [
    "#4-1\n",
    "fig, ax = plt.subplots(figsize = (5, 3))\n",
    "total_width = 0.8\n",
    "ind_width = total_width / 4\n",
    "alteration = np.arange(-total_width/2+ind_width/2, total_width/2+ind_width/2, ind_width)\n",
    "colors = ['#539caf', '#7663b0']\n",
    "x_data = gp18.index.values\n",
    "y_data_names = ['Survived', 'Unsurvived']\n",
    "y_data_list = [gp18['survived_prop'], gp18['unsurvived_prop']]\n",
    "\n",
    "for i in range(0, len(y_data_list)):\n",
    "    if i == 0:\n",
    "        ax.bar(x_data, y_data_list[i], color = colors[i], align='center', label = y_data_names[i])\n",
    "    else:\n",
    "        ax.bar(x_data, y_data_list[i], color = colors[i], bottom = y_data_list[i - 1], align='center', label = y_data_names[i])\n",
    "\n",
    "ax.set_xticks([1, 2, 3])\n",
    "ax.set_title('Proportion of survived/unsurvived by Pclass(1, 2, 3)', fontsize = 'small')\n",
    "ax.set_xlabel('Pclass', fontsize = 9)\n",
    "ax.set_ylabel('Proportion of survived/unsurvived', fontsize = 8)\n",
    "ax.legend(loc = 'upper right', fontsize = 7)"
   ]
  },
  {
   "cell_type": "code",
   "execution_count": 34,
   "id": "f801b6ad",
   "metadata": {},
   "outputs": [
    {
     "data": {
      "text/html": [
       "<div>\n",
       "<style scoped>\n",
       "    .dataframe tbody tr th:only-of-type {\n",
       "        vertical-align: middle;\n",
       "    }\n",
       "\n",
       "    .dataframe tbody tr th {\n",
       "        vertical-align: top;\n",
       "    }\n",
       "\n",
       "    .dataframe thead th {\n",
       "        text-align: right;\n",
       "    }\n",
       "</style>\n",
       "<table border=\"1\" class=\"dataframe\">\n",
       "  <thead>\n",
       "    <tr style=\"text-align: right;\">\n",
       "      <th></th>\n",
       "      <th>survived</th>\n",
       "      <th>unsurvived</th>\n",
       "      <th>total</th>\n",
       "      <th>survived_prop</th>\n",
       "      <th>unsurvived_prop</th>\n",
       "    </tr>\n",
       "    <tr>\n",
       "      <th>sex</th>\n",
       "      <th></th>\n",
       "      <th></th>\n",
       "      <th></th>\n",
       "      <th></th>\n",
       "      <th></th>\n",
       "    </tr>\n",
       "  </thead>\n",
       "  <tbody>\n",
       "    <tr>\n",
       "      <th>female</th>\n",
       "      <td>233</td>\n",
       "      <td>81</td>\n",
       "      <td>314</td>\n",
       "      <td>0.742038</td>\n",
       "      <td>0.257962</td>\n",
       "    </tr>\n",
       "    <tr>\n",
       "      <th>male</th>\n",
       "      <td>109</td>\n",
       "      <td>468</td>\n",
       "      <td>577</td>\n",
       "      <td>0.188908</td>\n",
       "      <td>0.811092</td>\n",
       "    </tr>\n",
       "  </tbody>\n",
       "</table>\n",
       "</div>"
      ],
      "text/plain": [
       "        survived  unsurvived  total  survived_prop  unsurvived_prop\n",
       "sex                                                                \n",
       "female       233          81    314       0.742038         0.257962\n",
       "male         109         468    577       0.188908         0.811092"
      ]
     },
     "execution_count": 34,
     "metadata": {},
     "output_type": "execute_result"
    }
   ],
   "source": [
    "temp2 = data[['sex','survived']].groupby('sex')\n",
    "gp19 = temp2.sum()\n",
    "gp19['unsurvived'] =  temp2.count()['survived'] - gp19['survived']\n",
    "gp19['total'] = temp2.count()['survived']\n",
    "gp19['survived_prop'] = gp19['survived'] / gp19['total']\n",
    "gp19['unsurvived_prop'] = gp19['unsurvived'] / gp19['total']\n",
    "gp19"
   ]
  },
  {
   "cell_type": "code",
   "execution_count": 35,
   "id": "511637ed",
   "metadata": {},
   "outputs": [
    {
     "data": {
      "text/plain": [
       "<matplotlib.legend.Legend at 0x1b29438f040>"
      ]
     },
     "execution_count": 35,
     "metadata": {},
     "output_type": "execute_result"
    },
    {
     "data": {
      "image/png": "[encoded data removed]",
      "text/plain": [
       "<Figure size 500x300 with 1 Axes>"
      ]
     },
     "metadata": {},
     "output_type": "display_data"
    }
   ],
   "source": [
    "#4-2\n",
    "fig, ax = plt.subplots(figsize = (5, 3))\n",
    "colors = ['#539caf', '#7663b0']\n",
    "x_data = gp19.index.values\n",
    "y_data_names = ['Survived', 'Unsurvived']\n",
    "y_data_list = [gp19['survived_prop'], gp19['unsurvived_prop']]\n",
    "\n",
    "for i in range(0, len(y_data_list)):\n",
    "    if i == 0:\n",
    "        ax.bar(x_data, y_data_list[i], color = colors[i], align='center', label = y_data_names[i])\n",
    "    else:\n",
    "        ax.bar(x_data, y_data_list[i], color = colors[i], bottom = y_data_list[i - 1], align='center', label = y_data_names[i])\n",
    "\n",
    "ax.set_xticks([0, 1], ['female', 'male'])\n",
    "ax.set_title('Proportion of survived/unsurvived by Sex', fontsize = 'small')\n",
    "ax.set_xlabel('Sex', fontsize = 9)\n",
    "ax.set_ylabel('Proportion of survived/unsurvived', fontsize = 8)\n",
    "ax.legend(loc = 'upper right', fontsize = 7)"
   ]
  },
  {
   "cell_type": "code",
   "execution_count": null,
   "id": "fb9c51de-39f4-432a-b877-74f5a31f5256",
   "metadata": {},
   "outputs": [],
   "source": []
  },
  {
   "cell_type": "code",
   "execution_count": 36,
   "id": "6d767488",
   "metadata": {},
   "outputs": [
    {
     "data": {
      "text/html": [
       "<div>\n",
       "<style scoped>\n",
       "    .dataframe tbody tr th:only-of-type {\n",
       "        vertical-align: middle;\n",
       "    }\n",
       "\n",
       "    .dataframe tbody tr th {\n",
       "        vertical-align: top;\n",
       "    }\n",
       "\n",
       "    .dataframe thead th {\n",
       "        text-align: right;\n",
       "    }\n",
       "</style>\n",
       "<table border=\"1\" class=\"dataframe\">\n",
       "  <thead>\n",
       "    <tr style=\"text-align: right;\">\n",
       "      <th></th>\n",
       "      <th>fare</th>\n",
       "      <th>survived</th>\n",
       "    </tr>\n",
       "  </thead>\n",
       "  <tbody>\n",
       "    <tr>\n",
       "      <th>0</th>\n",
       "      <td>7.2500</td>\n",
       "      <td>0</td>\n",
       "    </tr>\n",
       "    <tr>\n",
       "      <th>4</th>\n",
       "      <td>8.0500</td>\n",
       "      <td>0</td>\n",
       "    </tr>\n",
       "    <tr>\n",
       "      <th>5</th>\n",
       "      <td>8.4583</td>\n",
       "      <td>0</td>\n",
       "    </tr>\n",
       "    <tr>\n",
       "      <th>6</th>\n",
       "      <td>51.8625</td>\n",
       "      <td>0</td>\n",
       "    </tr>\n",
       "    <tr>\n",
       "      <th>7</th>\n",
       "      <td>21.0750</td>\n",
       "      <td>0</td>\n",
       "    </tr>\n",
       "    <tr>\n",
       "      <th>...</th>\n",
       "      <td>...</td>\n",
       "      <td>...</td>\n",
       "    </tr>\n",
       "    <tr>\n",
       "      <th>884</th>\n",
       "      <td>7.0500</td>\n",
       "      <td>0</td>\n",
       "    </tr>\n",
       "    <tr>\n",
       "      <th>885</th>\n",
       "      <td>29.1250</td>\n",
       "      <td>0</td>\n",
       "    </tr>\n",
       "    <tr>\n",
       "      <th>886</th>\n",
       "      <td>13.0000</td>\n",
       "      <td>0</td>\n",
       "    </tr>\n",
       "    <tr>\n",
       "      <th>888</th>\n",
       "      <td>23.4500</td>\n",
       "      <td>0</td>\n",
       "    </tr>\n",
       "    <tr>\n",
       "      <th>890</th>\n",
       "      <td>7.7500</td>\n",
       "      <td>0</td>\n",
       "    </tr>\n",
       "  </tbody>\n",
       "</table>\n",
       "<p>549 rows × 2 columns</p>\n",
       "</div>"
      ],
      "text/plain": [
       "        fare  survived\n",
       "0     7.2500         0\n",
       "4     8.0500         0\n",
       "5     8.4583         0\n",
       "6    51.8625         0\n",
       "7    21.0750         0\n",
       "..       ...       ...\n",
       "884   7.0500         0\n",
       "885  29.1250         0\n",
       "886  13.0000         0\n",
       "888  23.4500         0\n",
       "890   7.7500         0\n",
       "\n",
       "[549 rows x 2 columns]"
      ]
     },
     "execution_count": 36,
     "metadata": {},
     "output_type": "execute_result"
    }
   ],
   "source": [
    "gp20 = data[['fare','survived', ]].groupby('survived')\n",
    "gp20.get_group(0)"
   ]
  },
  {
   "cell_type": "code",
   "execution_count": 37,
   "id": "8f4377ae",
   "metadata": {},
   "outputs": [
    {
     "data": {
      "text/plain": [
       "[Text(0, 0, '0'),\n",
       " Text(0, 100, '100'),\n",
       " Text(0, 200, '200'),\n",
       " Text(0, 300, '300'),\n",
       " Text(0, 400, '400'),\n",
       " Text(0, 500, '500')]"
      ]
     },
     "execution_count": 37,
     "metadata": {},
     "output_type": "execute_result"
    },
    {
     "data": {
      "image/png": "[encoded data removed]",
      "text/plain": [
       "<Figure size 460x300 with 1 Axes>"
      ]
     },
     "metadata": {},
     "output_type": "display_data"
    }
   ],
   "source": [
    "#4-3\n",
    "fig, ax = plt.subplots(figsize = (4.6, 3))\n",
    "ax.boxplot([gp20.get_group(0)['fare'], gp20.get_group(1)['fare']], patch_artist = True, medianprops = {'color': 'b'},\n",
    "           boxprops = {'color': 'b', 'facecolor':'r'}, whiskerprops = {'color': 'r'}, capprops = {'color': 'b'})\n",
    "ax.set_title('The box with 2 features for the fare', fontsize = 'small')\n",
    "ax.set_xlabel('Features of the survived', fontsize = 7)\n",
    "ax.set_ylabel('Values of fare', fontsize = 7)\n",
    "x = range(1, 3, 1)\n",
    "y = range(0, 600, 100)\n",
    "ax.set_xticks(x)\n",
    "ax.set_xticklabels(['0', '1'], fontsize = 7)\n",
    "ax.set_yticks(y)\n",
    "ax.set_yticklabels(y, fontsize = 7)"
   ]
  },
  {
   "cell_type": "code",
   "execution_count": null,
   "id": "6cdf21fe-898f-450d-b69a-107c481bc8eb",
   "metadata": {},
   "outputs": [],
   "source": []
  },
  {
   "cell_type": "code",
   "execution_count": 38,
   "id": "36ada4be",
   "metadata": {},
   "outputs": [
    {
     "data": {
      "text/html": [
       "<div>\n",
       "<style scoped>\n",
       "    .dataframe tbody tr th:only-of-type {\n",
       "        vertical-align: middle;\n",
       "    }\n",
       "\n",
       "    .dataframe tbody tr th {\n",
       "        vertical-align: top;\n",
       "    }\n",
       "\n",
       "    .dataframe thead th {\n",
       "        text-align: right;\n",
       "    }\n",
       "</style>\n",
       "<table border=\"1\" class=\"dataframe\">\n",
       "  <thead>\n",
       "    <tr style=\"text-align: right;\">\n",
       "      <th></th>\n",
       "      <th>survived</th>\n",
       "      <th>age</th>\n",
       "    </tr>\n",
       "  </thead>\n",
       "  <tbody>\n",
       "    <tr>\n",
       "      <th>0</th>\n",
       "      <td>0</td>\n",
       "      <td>22.0</td>\n",
       "    </tr>\n",
       "    <tr>\n",
       "      <th>4</th>\n",
       "      <td>0</td>\n",
       "      <td>35.0</td>\n",
       "    </tr>\n",
       "    <tr>\n",
       "      <th>6</th>\n",
       "      <td>0</td>\n",
       "      <td>54.0</td>\n",
       "    </tr>\n",
       "    <tr>\n",
       "      <th>7</th>\n",
       "      <td>0</td>\n",
       "      <td>2.0</td>\n",
       "    </tr>\n",
       "    <tr>\n",
       "      <th>12</th>\n",
       "      <td>0</td>\n",
       "      <td>20.0</td>\n",
       "    </tr>\n",
       "    <tr>\n",
       "      <th>...</th>\n",
       "      <td>...</td>\n",
       "      <td>...</td>\n",
       "    </tr>\n",
       "    <tr>\n",
       "      <th>883</th>\n",
       "      <td>0</td>\n",
       "      <td>28.0</td>\n",
       "    </tr>\n",
       "    <tr>\n",
       "      <th>884</th>\n",
       "      <td>0</td>\n",
       "      <td>25.0</td>\n",
       "    </tr>\n",
       "    <tr>\n",
       "      <th>885</th>\n",
       "      <td>0</td>\n",
       "      <td>39.0</td>\n",
       "    </tr>\n",
       "    <tr>\n",
       "      <th>886</th>\n",
       "      <td>0</td>\n",
       "      <td>27.0</td>\n",
       "    </tr>\n",
       "    <tr>\n",
       "      <th>890</th>\n",
       "      <td>0</td>\n",
       "      <td>32.0</td>\n",
       "    </tr>\n",
       "  </tbody>\n",
       "</table>\n",
       "<p>424 rows × 2 columns</p>\n",
       "</div>"
      ],
      "text/plain": [
       "     survived   age\n",
       "0           0  22.0\n",
       "4           0  35.0\n",
       "6           0  54.0\n",
       "7           0   2.0\n",
       "12          0  20.0\n",
       "..        ...   ...\n",
       "883         0  28.0\n",
       "884         0  25.0\n",
       "885         0  39.0\n",
       "886         0  27.0\n",
       "890         0  32.0\n",
       "\n",
       "[424 rows x 2 columns]"
      ]
     },
     "execution_count": 38,
     "metadata": {},
     "output_type": "execute_result"
    }
   ],
   "source": [
    "gp21 = data[['survived', 'age']].groupby('survived')\n",
    "gp21.get_group(0).dropna()"
   ]
  },
  {
   "cell_type": "code",
   "execution_count": 39,
   "id": "1677ea24",
   "metadata": {},
   "outputs": [
    {
     "data": {
      "text/plain": [
       "[Text(0, 0, '0'),\n",
       " Text(0, 10, '10'),\n",
       " Text(0, 20, '20'),\n",
       " Text(0, 30, '30'),\n",
       " Text(0, 40, '40'),\n",
       " Text(0, 50, '50'),\n",
       " Text(0, 60, '60'),\n",
       " Text(0, 70, '70'),\n",
       " Text(0, 80, '80')]"
      ]
     },
     "execution_count": 39,
     "metadata": {},
     "output_type": "execute_result"
    },
    {
     "data": {
      "image/png": "[encoded data removed]",
      "text/plain": [
       "<Figure size 460x300 with 1 Axes>"
      ]
     },
     "metadata": {},
     "output_type": "display_data"
    }
   ],
   "source": [
    "#4-4\n",
    "fig, ax = plt.subplots(figsize = (4.6, 3))\n",
    "ax.boxplot([gp21.get_group(0).dropna()['age'], gp21.get_group(1).dropna()['age']], patch_artist = True, medianprops = {'color': 'b'},\n",
    "           boxprops = {'color': 'b', 'facecolor':'r'}, whiskerprops = {'color': 'r'}, capprops = {'color': 'b'})\n",
    "ax.set_title('The box with 2 features for the age', fontsize = 'small')\n",
    "ax.set_xlabel('Features of the survived', fontsize = 7)\n",
    "ax.set_ylabel('Values of age', fontsize = 7)\n",
    "x = range(1, 3, 1)\n",
    "y = range(0, 90, 10)\n",
    "ax.set_xticks(x)\n",
    "ax.set_xticklabels(['0', '1'], fontsize = 7)\n",
    "ax.set_yticks(y)\n",
    "ax.set_yticklabels(y, fontsize = 7)"
   ]
  },
  {
   "cell_type": "code",
   "execution_count": null,
   "id": "12dd5a11-623a-4c05-927e-355508daf357",
   "metadata": {},
   "outputs": [],
   "source": []
  },
  {
   "cell_type": "code",
   "execution_count": 40,
   "id": "496766f1",
   "metadata": {},
   "outputs": [
    {
     "data": {
      "text/html": [
       "<div>\n",
       "<style scoped>\n",
       "    .dataframe tbody tr th:only-of-type {\n",
       "        vertical-align: middle;\n",
       "    }\n",
       "\n",
       "    .dataframe tbody tr th {\n",
       "        vertical-align: top;\n",
       "    }\n",
       "\n",
       "    .dataframe thead th {\n",
       "        text-align: right;\n",
       "    }\n",
       "</style>\n",
       "<table border=\"1\" class=\"dataframe\">\n",
       "  <thead>\n",
       "    <tr style=\"text-align: right;\">\n",
       "      <th></th>\n",
       "      <th>survived</th>\n",
       "      <th>pclass</th>\n",
       "      <th>sex</th>\n",
       "      <th>age</th>\n",
       "      <th>sibsp</th>\n",
       "      <th>parch</th>\n",
       "      <th>fare</th>\n",
       "      <th>embarked</th>\n",
       "      <th>class</th>\n",
       "      <th>who</th>\n",
       "      <th>adult_male</th>\n",
       "      <th>deck</th>\n",
       "      <th>embark_town</th>\n",
       "      <th>alive</th>\n",
       "      <th>alone</th>\n",
       "    </tr>\n",
       "  </thead>\n",
       "  <tbody>\n",
       "    <tr>\n",
       "      <th>0</th>\n",
       "      <td>0</td>\n",
       "      <td>3</td>\n",
       "      <td>male</td>\n",
       "      <td>22.0</td>\n",
       "      <td>1</td>\n",
       "      <td>0</td>\n",
       "      <td>7.2500</td>\n",
       "      <td>S</td>\n",
       "      <td>Third</td>\n",
       "      <td>man</td>\n",
       "      <td>True</td>\n",
       "      <td>NaN</td>\n",
       "      <td>Southampton</td>\n",
       "      <td>no</td>\n",
       "      <td>False</td>\n",
       "    </tr>\n",
       "    <tr>\n",
       "      <th>1</th>\n",
       "      <td>1</td>\n",
       "      <td>1</td>\n",
       "      <td>female</td>\n",
       "      <td>38.0</td>\n",
       "      <td>1</td>\n",
       "      <td>0</td>\n",
       "      <td>71.2833</td>\n",
       "      <td>C</td>\n",
       "      <td>First</td>\n",
       "      <td>woman</td>\n",
       "      <td>False</td>\n",
       "      <td>C</td>\n",
       "      <td>Cherbourg</td>\n",
       "      <td>yes</td>\n",
       "      <td>False</td>\n",
       "    </tr>\n",
       "    <tr>\n",
       "      <th>2</th>\n",
       "      <td>1</td>\n",
       "      <td>3</td>\n",
       "      <td>female</td>\n",
       "      <td>26.0</td>\n",
       "      <td>0</td>\n",
       "      <td>0</td>\n",
       "      <td>7.9250</td>\n",
       "      <td>S</td>\n",
       "      <td>Third</td>\n",
       "      <td>woman</td>\n",
       "      <td>False</td>\n",
       "      <td>NaN</td>\n",
       "      <td>Southampton</td>\n",
       "      <td>yes</td>\n",
       "      <td>True</td>\n",
       "    </tr>\n",
       "    <tr>\n",
       "      <th>3</th>\n",
       "      <td>1</td>\n",
       "      <td>1</td>\n",
       "      <td>female</td>\n",
       "      <td>35.0</td>\n",
       "      <td>1</td>\n",
       "      <td>0</td>\n",
       "      <td>53.1000</td>\n",
       "      <td>S</td>\n",
       "      <td>First</td>\n",
       "      <td>woman</td>\n",
       "      <td>False</td>\n",
       "      <td>C</td>\n",
       "      <td>Southampton</td>\n",
       "      <td>yes</td>\n",
       "      <td>False</td>\n",
       "    </tr>\n",
       "    <tr>\n",
       "      <th>4</th>\n",
       "      <td>0</td>\n",
       "      <td>3</td>\n",
       "      <td>male</td>\n",
       "      <td>35.0</td>\n",
       "      <td>0</td>\n",
       "      <td>0</td>\n",
       "      <td>8.0500</td>\n",
       "      <td>S</td>\n",
       "      <td>Third</td>\n",
       "      <td>man</td>\n",
       "      <td>True</td>\n",
       "      <td>NaN</td>\n",
       "      <td>Southampton</td>\n",
       "      <td>no</td>\n",
       "      <td>True</td>\n",
       "    </tr>\n",
       "  </tbody>\n",
       "</table>\n",
       "</div>"
      ],
      "text/plain": [
       "   survived  pclass     sex   age  sibsp  parch     fare embarked  class  \\\n",
       "0         0       3    male  22.0      1      0   7.2500        S  Third   \n",
       "1         1       1  female  38.0      1      0  71.2833        C  First   \n",
       "2         1       3  female  26.0      0      0   7.9250        S  Third   \n",
       "3         1       1  female  35.0      1      0  53.1000        S  First   \n",
       "4         0       3    male  35.0      0      0   8.0500        S  Third   \n",
       "\n",
       "     who  adult_male deck  embark_town alive  alone  \n",
       "0    man        True  NaN  Southampton    no  False  \n",
       "1  woman       False    C    Cherbourg   yes  False  \n",
       "2  woman       False  NaN  Southampton   yes   True  \n",
       "3  woman       False    C  Southampton   yes  False  \n",
       "4    man        True  NaN  Southampton    no   True  "
      ]
     },
     "execution_count": 40,
     "metadata": {},
     "output_type": "execute_result"
    }
   ],
   "source": [
    "data.head()"
   ]
  },
  {
   "cell_type": "code",
   "execution_count": 41,
   "id": "0ea2ea49",
   "metadata": {},
   "outputs": [
    {
     "data": {
      "text/html": [
       "<div>\n",
       "<style scoped>\n",
       "    .dataframe tbody tr th:only-of-type {\n",
       "        vertical-align: middle;\n",
       "    }\n",
       "\n",
       "    .dataframe tbody tr th {\n",
       "        vertical-align: top;\n",
       "    }\n",
       "\n",
       "    .dataframe thead th {\n",
       "        text-align: right;\n",
       "    }\n",
       "</style>\n",
       "<table border=\"1\" class=\"dataframe\">\n",
       "  <thead>\n",
       "    <tr style=\"text-align: right;\">\n",
       "      <th>pclass</th>\n",
       "      <th>1</th>\n",
       "      <th>2</th>\n",
       "      <th>3</th>\n",
       "    </tr>\n",
       "    <tr>\n",
       "      <th>embarked</th>\n",
       "      <th></th>\n",
       "      <th></th>\n",
       "      <th></th>\n",
       "    </tr>\n",
       "  </thead>\n",
       "  <tbody>\n",
       "    <tr>\n",
       "      <th>C</th>\n",
       "      <td>85</td>\n",
       "      <td>17</td>\n",
       "      <td>66</td>\n",
       "    </tr>\n",
       "    <tr>\n",
       "      <th>Q</th>\n",
       "      <td>2</td>\n",
       "      <td>3</td>\n",
       "      <td>72</td>\n",
       "    </tr>\n",
       "    <tr>\n",
       "      <th>S</th>\n",
       "      <td>127</td>\n",
       "      <td>164</td>\n",
       "      <td>353</td>\n",
       "    </tr>\n",
       "  </tbody>\n",
       "</table>\n",
       "</div>"
      ],
      "text/plain": [
       "pclass      1    2    3\n",
       "embarked               \n",
       "C          85   17   66\n",
       "Q           2    3   72\n",
       "S         127  164  353"
      ]
     },
     "execution_count": 41,
     "metadata": {},
     "output_type": "execute_result"
    }
   ],
   "source": [
    "gp22 = data.groupby(['embarked','pclass'])['embarked'].count().unstack()\n",
    "gp22"
   ]
  },
  {
   "cell_type": "code",
   "execution_count": 42,
   "id": "97aea19f",
   "metadata": {},
   "outputs": [
    {
     "data": {
      "text/plain": [
       "<matplotlib.legend.Legend at 0x1b295ad8610>"
      ]
     },
     "execution_count": 42,
     "metadata": {},
     "output_type": "execute_result"
    },
    {
     "data": {
      "image/png": "[encoded data removed]",
      "text/plain": [
       "<Figure size 460x300 with 1 Axes>"
      ]
     },
     "metadata": {},
     "output_type": "display_data"
    }
   ],
   "source": [
    "#4-5\n",
    "fig, ax = plt.subplots(figsize = (4.6, 3))\n",
    "total_width = 1.8\n",
    "ind_width = total_width / 9\n",
    "alteration = np.arange(-total_width/2+ind_width/2, total_width/2+ind_width/2, ind_width)\n",
    "colors = ['#539caf', '#7663b0', '#800080']\n",
    "y_data_names = ['C', 'Q', 'S']\n",
    "\n",
    "ax.bar([0+alteration[0], 0.3+alteration[3], 0.6+alteration[6]], gp22[1], color = '#539caf', label = 'C', width = ind_width)\n",
    "ax.bar([0+alteration[1], 0.3+alteration[4], 0.6+alteration[7]], gp22[2], color = '#7663b0', label = 'Q', width = ind_width)\n",
    "ax.bar([0+alteration[2], 0.3+alteration[5], 0.6+alteration[8]], gp22[3], color = '#800080', label = 'S', width = ind_width)\n",
    "\n",
    "ax.set_xticks([-0.6, 0.3, 1.2], ['1', '2','3'])\n",
    "ax.set_title('Numbers of people for different kinds by emarked', fontsize = 'small')\n",
    "ax.set_xlabel('Embarked', fontsize = 9)\n",
    "ax.set_ylabel('Numbers of people for different kinds of pclass', fontsize = 8)\n",
    "ax.legend(loc = 'upper left', fontsize = 7)"
   ]
  },
  {
   "cell_type": "code",
   "execution_count": null,
   "id": "7c1d49c4-9a90-420c-a477-cbbb6997e40b",
   "metadata": {},
   "outputs": [],
   "source": []
  },
  {
   "cell_type": "code",
   "execution_count": 43,
   "id": "824327d0",
   "metadata": {},
   "outputs": [
    {
     "data": {
      "text/html": [
       "<div>\n",
       "<style scoped>\n",
       "    .dataframe tbody tr th:only-of-type {\n",
       "        vertical-align: middle;\n",
       "    }\n",
       "\n",
       "    .dataframe tbody tr th {\n",
       "        vertical-align: top;\n",
       "    }\n",
       "\n",
       "    .dataframe thead th {\n",
       "        text-align: right;\n",
       "    }\n",
       "</style>\n",
       "<table border=\"1\" class=\"dataframe\">\n",
       "  <thead>\n",
       "    <tr style=\"text-align: right;\">\n",
       "      <th></th>\n",
       "      <th>sibsp</th>\n",
       "      <th>survived</th>\n",
       "    </tr>\n",
       "  </thead>\n",
       "  <tbody>\n",
       "    <tr>\n",
       "      <th>0</th>\n",
       "      <td>1</td>\n",
       "      <td>0</td>\n",
       "    </tr>\n",
       "    <tr>\n",
       "      <th>4</th>\n",
       "      <td>0</td>\n",
       "      <td>0</td>\n",
       "    </tr>\n",
       "    <tr>\n",
       "      <th>5</th>\n",
       "      <td>0</td>\n",
       "      <td>0</td>\n",
       "    </tr>\n",
       "    <tr>\n",
       "      <th>6</th>\n",
       "      <td>0</td>\n",
       "      <td>0</td>\n",
       "    </tr>\n",
       "    <tr>\n",
       "      <th>7</th>\n",
       "      <td>3</td>\n",
       "      <td>0</td>\n",
       "    </tr>\n",
       "    <tr>\n",
       "      <th>...</th>\n",
       "      <td>...</td>\n",
       "      <td>...</td>\n",
       "    </tr>\n",
       "    <tr>\n",
       "      <th>884</th>\n",
       "      <td>0</td>\n",
       "      <td>0</td>\n",
       "    </tr>\n",
       "    <tr>\n",
       "      <th>885</th>\n",
       "      <td>0</td>\n",
       "      <td>0</td>\n",
       "    </tr>\n",
       "    <tr>\n",
       "      <th>886</th>\n",
       "      <td>0</td>\n",
       "      <td>0</td>\n",
       "    </tr>\n",
       "    <tr>\n",
       "      <th>888</th>\n",
       "      <td>1</td>\n",
       "      <td>0</td>\n",
       "    </tr>\n",
       "    <tr>\n",
       "      <th>890</th>\n",
       "      <td>0</td>\n",
       "      <td>0</td>\n",
       "    </tr>\n",
       "  </tbody>\n",
       "</table>\n",
       "<p>549 rows × 2 columns</p>\n",
       "</div>"
      ],
      "text/plain": [
       "     sibsp  survived\n",
       "0        1         0\n",
       "4        0         0\n",
       "5        0         0\n",
       "6        0         0\n",
       "7        3         0\n",
       "..     ...       ...\n",
       "884      0         0\n",
       "885      0         0\n",
       "886      0         0\n",
       "888      1         0\n",
       "890      0         0\n",
       "\n",
       "[549 rows x 2 columns]"
      ]
     },
     "execution_count": 43,
     "metadata": {},
     "output_type": "execute_result"
    }
   ],
   "source": [
    "gp23 = data[['sibsp', 'survived']].groupby('survived')\n",
    "gp23.get_group(0)"
   ]
  },
  {
   "cell_type": "code",
   "execution_count": 44,
   "id": "11daa167",
   "metadata": {},
   "outputs": [
    {
     "data": {
      "text/plain": [
       "[Text(0, 0, '0'),\n",
       " Text(0, 1, '1'),\n",
       " Text(0, 2, '2'),\n",
       " Text(0, 3, '3'),\n",
       " Text(0, 4, '4'),\n",
       " Text(0, 5, '5'),\n",
       " Text(0, 6, '6'),\n",
       " Text(0, 7, '7'),\n",
       " Text(0, 8, '8')]"
      ]
     },
     "execution_count": 44,
     "metadata": {},
     "output_type": "execute_result"
    },
    {
     "data": {
      "image/png": "[encoded data removed]",
      "text/plain": [
       "<Figure size 460x300 with 1 Axes>"
      ]
     },
     "metadata": {},
     "output_type": "display_data"
    }
   ],
   "source": [
    "#4-6\n",
    "fig, ax = plt.subplots(figsize = (4.6, 3))\n",
    "ax.boxplot([gp23.get_group(0)['sibsp'], gp23.get_group(1)['sibsp']], patch_artist = True, medianprops = {'color': 'b'},\n",
    "           boxprops = {'color': 'b', 'facecolor':'r'}, whiskerprops = {'color': 'r'}, capprops = {'color': 'b'})\n",
    "ax.set_title('The box with 2 features for the sibsp', fontsize = 'small')\n",
    "ax.set_xlabel('Features of the survived', fontsize = 7)\n",
    "ax.set_ylabel('Values of sibsp', fontsize = 7)\n",
    "x = range(1, 3, 1)\n",
    "y = range(0, 9, 1)\n",
    "ax.set_xticks(x)\n",
    "ax.set_xticklabels(['0', '1'], fontsize = 7)\n",
    "ax.set_yticks(y)\n",
    "ax.set_yticklabels(y, fontsize = 7)"
   ]
  },
  {
   "cell_type": "code",
   "execution_count": null,
   "id": "6f788970-a071-4986-b529-694f85aeb2b5",
   "metadata": {},
   "outputs": [],
   "source": []
  },
  {
   "cell_type": "code",
   "execution_count": 45,
   "id": "8ceda926",
   "metadata": {},
   "outputs": [
    {
     "data": {
      "text/html": [
       "<div>\n",
       "<style scoped>\n",
       "    .dataframe tbody tr th:only-of-type {\n",
       "        vertical-align: middle;\n",
       "    }\n",
       "\n",
       "    .dataframe tbody tr th {\n",
       "        vertical-align: top;\n",
       "    }\n",
       "\n",
       "    .dataframe thead th {\n",
       "        text-align: right;\n",
       "    }\n",
       "</style>\n",
       "<table border=\"1\" class=\"dataframe\">\n",
       "  <thead>\n",
       "    <tr style=\"text-align: right;\">\n",
       "      <th></th>\n",
       "      <th>parch</th>\n",
       "      <th>survived</th>\n",
       "    </tr>\n",
       "  </thead>\n",
       "  <tbody>\n",
       "    <tr>\n",
       "      <th>0</th>\n",
       "      <td>0</td>\n",
       "      <td>0</td>\n",
       "    </tr>\n",
       "    <tr>\n",
       "      <th>4</th>\n",
       "      <td>0</td>\n",
       "      <td>0</td>\n",
       "    </tr>\n",
       "    <tr>\n",
       "      <th>5</th>\n",
       "      <td>0</td>\n",
       "      <td>0</td>\n",
       "    </tr>\n",
       "    <tr>\n",
       "      <th>6</th>\n",
       "      <td>0</td>\n",
       "      <td>0</td>\n",
       "    </tr>\n",
       "    <tr>\n",
       "      <th>7</th>\n",
       "      <td>1</td>\n",
       "      <td>0</td>\n",
       "    </tr>\n",
       "    <tr>\n",
       "      <th>...</th>\n",
       "      <td>...</td>\n",
       "      <td>...</td>\n",
       "    </tr>\n",
       "    <tr>\n",
       "      <th>884</th>\n",
       "      <td>0</td>\n",
       "      <td>0</td>\n",
       "    </tr>\n",
       "    <tr>\n",
       "      <th>885</th>\n",
       "      <td>5</td>\n",
       "      <td>0</td>\n",
       "    </tr>\n",
       "    <tr>\n",
       "      <th>886</th>\n",
       "      <td>0</td>\n",
       "      <td>0</td>\n",
       "    </tr>\n",
       "    <tr>\n",
       "      <th>888</th>\n",
       "      <td>2</td>\n",
       "      <td>0</td>\n",
       "    </tr>\n",
       "    <tr>\n",
       "      <th>890</th>\n",
       "      <td>0</td>\n",
       "      <td>0</td>\n",
       "    </tr>\n",
       "  </tbody>\n",
       "</table>\n",
       "<p>549 rows × 2 columns</p>\n",
       "</div>"
      ],
      "text/plain": [
       "     parch  survived\n",
       "0        0         0\n",
       "4        0         0\n",
       "5        0         0\n",
       "6        0         0\n",
       "7        1         0\n",
       "..     ...       ...\n",
       "884      0         0\n",
       "885      5         0\n",
       "886      0         0\n",
       "888      2         0\n",
       "890      0         0\n",
       "\n",
       "[549 rows x 2 columns]"
      ]
     },
     "execution_count": 45,
     "metadata": {},
     "output_type": "execute_result"
    }
   ],
   "source": [
    "gp24 = data[['parch', 'survived']].groupby('survived')\n",
    "gp24.get_group(0)"
   ]
  },
  {
   "cell_type": "code",
   "execution_count": 46,
   "id": "d3c8c78b",
   "metadata": {},
   "outputs": [
    {
     "data": {
      "text/plain": [
       "[Text(0, 0, '0'),\n",
       " Text(0, 1, '1'),\n",
       " Text(0, 2, '2'),\n",
       " Text(0, 3, '3'),\n",
       " Text(0, 4, '4'),\n",
       " Text(0, 5, '5'),\n",
       " Text(0, 6, '6')]"
      ]
     },
     "execution_count": 46,
     "metadata": {},
     "output_type": "execute_result"
    },
    {
     "data": {
      "image/png": "[encoded data removed]",
      "text/plain": [
       "<Figure size 460x300 with 1 Axes>"
      ]
     },
     "metadata": {},
     "output_type": "display_data"
    }
   ],
   "source": [
    "#4-7\n",
    "fig, ax = plt.subplots(figsize = (4.6, 3))\n",
    "ax.boxplot([gp24.get_group(0)['parch'], gp24.get_group(1)['parch']], patch_artist = True, medianprops = {'color': 'b'},\n",
    "           boxprops = {'color': 'b', 'facecolor':'r'}, whiskerprops = {'color': 'r'}, capprops = {'color': 'b'})\n",
    "ax.set_title('The box with 2 features for the parch', fontsize = 'small')\n",
    "ax.set_xlabel('Features of the survived', fontsize = 7)\n",
    "ax.set_ylabel('Values of parch', fontsize = 7)\n",
    "x = range(1, 3, 1)\n",
    "y = range(0, 7, 1)\n",
    "ax.set_xticks(x)\n",
    "ax.set_xticklabels(['0', '1'], fontsize = 7)\n",
    "ax.set_yticks(y)\n",
    "ax.set_yticklabels(y, fontsize = 7)"
   ]
  },
  {
   "cell_type": "code",
   "execution_count": null,
   "id": "6770cfff-e584-4d79-87b5-b37dce7e2cfb",
   "metadata": {},
   "outputs": [],
   "source": []
  },
  {
   "cell_type": "code",
   "execution_count": 47,
   "id": "81c16319",
   "metadata": {},
   "outputs": [
    {
     "data": {
      "text/html": [
       "<div>\n",
       "<style scoped>\n",
       "    .dataframe tbody tr th:only-of-type {\n",
       "        vertical-align: middle;\n",
       "    }\n",
       "\n",
       "    .dataframe tbody tr th {\n",
       "        vertical-align: top;\n",
       "    }\n",
       "\n",
       "    .dataframe thead th {\n",
       "        text-align: right;\n",
       "    }\n",
       "</style>\n",
       "<table border=\"1\" class=\"dataframe\">\n",
       "  <thead>\n",
       "    <tr style=\"text-align: right;\">\n",
       "      <th>survived</th>\n",
       "      <th>0</th>\n",
       "      <th>1</th>\n",
       "    </tr>\n",
       "    <tr>\n",
       "      <th>alone</th>\n",
       "      <th></th>\n",
       "      <th></th>\n",
       "    </tr>\n",
       "  </thead>\n",
       "  <tbody>\n",
       "    <tr>\n",
       "      <th>False</th>\n",
       "      <td>175</td>\n",
       "      <td>179</td>\n",
       "    </tr>\n",
       "    <tr>\n",
       "      <th>True</th>\n",
       "      <td>374</td>\n",
       "      <td>163</td>\n",
       "    </tr>\n",
       "  </tbody>\n",
       "</table>\n",
       "</div>"
      ],
      "text/plain": [
       "survived    0    1\n",
       "alone             \n",
       "False     175  179\n",
       "True      374  163"
      ]
     },
     "execution_count": 47,
     "metadata": {},
     "output_type": "execute_result"
    }
   ],
   "source": [
    "gp25 = data.groupby(['alone','survived'])['survived'].count().unstack()\n",
    "gp25"
   ]
  },
  {
   "cell_type": "code",
   "execution_count": 48,
   "id": "3208271e",
   "metadata": {},
   "outputs": [
    {
     "data": {
      "text/plain": [
       "<matplotlib.legend.Legend at 0x1b295c7fa00>"
      ]
     },
     "execution_count": 48,
     "metadata": {},
     "output_type": "execute_result"
    },
    {
     "data": {
      "image/png": "[encoded data removed]",
      "text/plain": [
       "<Figure size 460x300 with 1 Axes>"
      ]
     },
     "metadata": {},
     "output_type": "display_data"
    }
   ],
   "source": [
    "#4-8\n",
    "fig, ax = plt.subplots(figsize = (4.6, 3))\n",
    "total_width = 0.8\n",
    "ind_width = total_width / 4\n",
    "alteration = np.arange(-total_width/2+ind_width/2, total_width/2+ind_width/2, ind_width)\n",
    "colors = ['#539caf', '#7663b0']\n",
    "y_data_names = ['0', '1']\n",
    "\n",
    "ax.bar([0+alteration[0], 0.2+alteration[2]], gp25[0], color = '#539caf', label = '0', width = ind_width)\n",
    "ax.bar([0+alteration[1], 0.2+alteration[3]], gp25[1], color = '#7663b0', label = '1', width = ind_width)\n",
    "\n",
    "ax.set_xticks([-0.2, 0.4],['False','True'])\n",
    "ax.set_title('The number of people by whether be survived or alone or not', fontsize = 'small')\n",
    "ax.set_xlabel('alone', fontsize = 9)\n",
    "ax.set_ylabel('The number of people', fontsize = 8)\n",
    "ax.legend(loc = 'upper left', fontsize = 7)"
   ]
  },
  {
   "cell_type": "code",
   "execution_count": 29,
   "id": "d5bddee4-1758-435f-95b1-d23657417d16",
   "metadata": {},
   "outputs": [
    {
     "name": "stdout",
     "output_type": "stream",
     "text": [
      "survived    0    1\n",
      "alone             \n",
      "False     175  179\n",
      "True      374  163\n"
     ]
    },
    {
     "data": {
      "image/png": "[encoded data removed]",
      "text/plain": [
       "<Figure size 432x288 with 1 Axes>"
      ]
     },
     "metadata": {
      "needs_background": "light"
     },
     "output_type": "display_data"
    }
   ],
   "source": []
  },
  {
   "cell_type": "code",
   "execution_count": null,
   "id": "aa7a5851-e261-4048-b85d-96af26ff8a4a",
   "metadata": {},
   "outputs": [],
   "source": []
  }
 ],
 "metadata": {
  "kernelspec": {
   "display_name": "tfenv",
   "language": "python",
   "name": "python3"
  },
  "language_info": {
   "codemirror_mode": {
    "name": "ipython",
    "version": 3
   },
   "file_extension": ".py",
   "mimetype": "text/x-python",
   "name": "python",
   "nbconvert_exporter": "python",
   "pygments_lexer": "ipython3",
   "version": "3.9.18"
  }
 },
 "nbformat": 4,
 "nbformat_minor": 5
}
