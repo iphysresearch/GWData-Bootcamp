{
 "cells": [
  {
   "cell_type": "markdown",
   "metadata": {},
   "source": [
    "# 一起来打怪之 Credit Scoring 练习"
   ]
  },
  {
   "cell_type": "markdown",
   "metadata": {},
   "source": [
    "-------\n",
    "## >>>说明：\n",
    "### 1. 答题步骤：\n",
    "- 回答问题**请保留每一步**操作过程，请不要仅仅给出最后答案\n",
    "- 请养成代码注释的好习惯\n",
    "\n",
    "### 2. 解题思路：\n",
    "- 为方便大家准确理解题目，在习题实战中有所收获，本文档提供了解题思路提示\n",
    "- 解题思路**仅供参考**，鼓励原创解题方法\n",
    "- 为督促同学们自己思考，解题思路内容设置为**注释**，请注意查看\n",
    "\n",
    "### 3. 所用数据：\n",
    "- 问题使用了多个数据库，请注意导入每个数据库后都先**查看和了解数据的基本性质**，后面的问题不再一一提醒"
   ]
  },
  {
   "cell_type": "markdown",
   "metadata": {},
   "source": [
    "--------\n",
    "## 操作题"
   ]
  },
  {
   "cell_type": "markdown",
   "metadata": {},
   "source": [
    "### 信用卡欺诈项目"
   ]
  },
  {
   "cell_type": "markdown",
   "metadata": {},
   "source": [
    " #### 前期数据导入,预览及处理(此部分勿修改，涉及的数据文件无需复制移动)"
   ]
  },
  {
   "cell_type": "code",
   "execution_count": 1,
   "metadata": {
    "tags": []
   },
   "outputs": [
    {
     "data": {
      "text/html": [
       "<div>\n",
       "<style scoped>\n",
       "    .dataframe tbody tr th:only-of-type {\n",
       "        vertical-align: middle;\n",
       "    }\n",
       "\n",
       "    .dataframe tbody tr th {\n",
       "        vertical-align: top;\n",
       "    }\n",
       "\n",
       "    .dataframe thead th {\n",
       "        text-align: right;\n",
       "    }\n",
       "</style>\n",
       "<table border=\"1\" class=\"dataframe\">\n",
       "  <thead>\n",
       "    <tr style=\"text-align: right;\">\n",
       "      <th></th>\n",
       "      <th>SeriousDlqin2yrs</th>\n",
       "      <th>RevolvingUtilizationOfUnsecuredLines</th>\n",
       "      <th>age</th>\n",
       "      <th>NumberOfTime30-59DaysPastDueNotWorse</th>\n",
       "      <th>DebtRatio</th>\n",
       "      <th>MonthlyIncome</th>\n",
       "      <th>NumberOfOpenCreditLinesAndLoans</th>\n",
       "      <th>NumberOfTimes90DaysLate</th>\n",
       "      <th>NumberRealEstateLoansOrLines</th>\n",
       "      <th>NumberOfTime60-89DaysPastDueNotWorse</th>\n",
       "      <th>NumberOfDependents</th>\n",
       "    </tr>\n",
       "  </thead>\n",
       "  <tbody>\n",
       "    <tr>\n",
       "      <th>0</th>\n",
       "      <td>1</td>\n",
       "      <td>0.766127</td>\n",
       "      <td>45.0</td>\n",
       "      <td>2.0</td>\n",
       "      <td>0.802982</td>\n",
       "      <td>9120.0</td>\n",
       "      <td>13.0</td>\n",
       "      <td>0.0</td>\n",
       "      <td>6.0</td>\n",
       "      <td>0.0</td>\n",
       "      <td>2.0</td>\n",
       "    </tr>\n",
       "    <tr>\n",
       "      <th>1</th>\n",
       "      <td>0</td>\n",
       "      <td>0.957151</td>\n",
       "      <td>40.0</td>\n",
       "      <td>0.0</td>\n",
       "      <td>0.121876</td>\n",
       "      <td>2600.0</td>\n",
       "      <td>4.0</td>\n",
       "      <td>0.0</td>\n",
       "      <td>0.0</td>\n",
       "      <td>0.0</td>\n",
       "      <td>1.0</td>\n",
       "    </tr>\n",
       "    <tr>\n",
       "      <th>2</th>\n",
       "      <td>0</td>\n",
       "      <td>0.658180</td>\n",
       "      <td>38.0</td>\n",
       "      <td>1.0</td>\n",
       "      <td>0.085113</td>\n",
       "      <td>3042.0</td>\n",
       "      <td>2.0</td>\n",
       "      <td>1.0</td>\n",
       "      <td>0.0</td>\n",
       "      <td>0.0</td>\n",
       "      <td>0.0</td>\n",
       "    </tr>\n",
       "    <tr>\n",
       "      <th>3</th>\n",
       "      <td>0</td>\n",
       "      <td>0.233810</td>\n",
       "      <td>30.0</td>\n",
       "      <td>0.0</td>\n",
       "      <td>0.036050</td>\n",
       "      <td>3300.0</td>\n",
       "      <td>5.0</td>\n",
       "      <td>0.0</td>\n",
       "      <td>0.0</td>\n",
       "      <td>0.0</td>\n",
       "      <td>0.0</td>\n",
       "    </tr>\n",
       "    <tr>\n",
       "      <th>4</th>\n",
       "      <td>0</td>\n",
       "      <td>0.907239</td>\n",
       "      <td>49.0</td>\n",
       "      <td>1.0</td>\n",
       "      <td>0.024926</td>\n",
       "      <td>63588.0</td>\n",
       "      <td>7.0</td>\n",
       "      <td>0.0</td>\n",
       "      <td>1.0</td>\n",
       "      <td>0.0</td>\n",
       "      <td>0.0</td>\n",
       "    </tr>\n",
       "  </tbody>\n",
       "</table>\n",
       "</div>"
      ],
      "text/plain": [
       "   SeriousDlqin2yrs  RevolvingUtilizationOfUnsecuredLines   age  \\\n",
       "0                 1                              0.766127  45.0   \n",
       "1                 0                              0.957151  40.0   \n",
       "2                 0                              0.658180  38.0   \n",
       "3                 0                              0.233810  30.0   \n",
       "4                 0                              0.907239  49.0   \n",
       "\n",
       "   NumberOfTime30-59DaysPastDueNotWorse  DebtRatio  MonthlyIncome  \\\n",
       "0                                   2.0   0.802982         9120.0   \n",
       "1                                   0.0   0.121876         2600.0   \n",
       "2                                   1.0   0.085113         3042.0   \n",
       "3                                   0.0   0.036050         3300.0   \n",
       "4                                   1.0   0.024926        63588.0   \n",
       "\n",
       "   NumberOfOpenCreditLinesAndLoans  NumberOfTimes90DaysLate  \\\n",
       "0                             13.0                      0.0   \n",
       "1                              4.0                      0.0   \n",
       "2                              2.0                      1.0   \n",
       "3                              5.0                      0.0   \n",
       "4                              7.0                      0.0   \n",
       "\n",
       "   NumberRealEstateLoansOrLines  NumberOfTime60-89DaysPastDueNotWorse  \\\n",
       "0                           6.0                                   0.0   \n",
       "1                           0.0                                   0.0   \n",
       "2                           0.0                                   0.0   \n",
       "3                           0.0                                   0.0   \n",
       "4                           1.0                                   0.0   \n",
       "\n",
       "   NumberOfDependents  \n",
       "0                 2.0  \n",
       "1                 1.0  \n",
       "2                 0.0  \n",
       "3                 0.0  \n",
       "4                 0.0  "
      ]
     },
     "execution_count": 1,
     "metadata": {},
     "output_type": "execute_result"
    }
   ],
   "source": [
    "import pandas as pd\n",
    "pd.set_option('display.max_columns', 500)\n",
    "import zipfile\n",
    "with zipfile.ZipFile('KaggleCredit2.csv.zip', 'r') as z:\n",
    "    f = z.open('KaggleCredit2.csv')\n",
    "    data = pd.read_csv(f, index_col=0)\n",
    "data.head()"
   ]
  },
  {
   "cell_type": "code",
   "execution_count": 2,
   "metadata": {
    "collapsed": true,
    "jupyter": {
     "outputs_hidden": true
    }
   },
   "outputs": [
    {
     "data": {
      "text/plain": [
       "(112915, 11)"
      ]
     },
     "execution_count": 2,
     "metadata": {},
     "output_type": "execute_result"
    }
   ],
   "source": [
    "# 检查数据维度\n",
    "data.shape"
   ]
  },
  {
   "cell_type": "code",
   "execution_count": 3,
   "metadata": {
    "collapsed": true,
    "jupyter": {
     "outputs_hidden": true
    }
   },
   "outputs": [
    {
     "data": {
      "text/plain": [
       "SeriousDlqin2yrs                           0\n",
       "RevolvingUtilizationOfUnsecuredLines       0\n",
       "age                                     4267\n",
       "NumberOfTime30-59DaysPastDueNotWorse       0\n",
       "DebtRatio                                  0\n",
       "MonthlyIncome                              0\n",
       "NumberOfOpenCreditLinesAndLoans            0\n",
       "NumberOfTimes90DaysLate                    0\n",
       "NumberRealEstateLoansOrLines               0\n",
       "NumberOfTime60-89DaysPastDueNotWorse       0\n",
       "NumberOfDependents                      4267\n",
       "dtype: int64"
      ]
     },
     "execution_count": 3,
     "metadata": {},
     "output_type": "execute_result"
    }
   ],
   "source": [
    "# 查看数据缺失值情况\n",
    "data.isnull().sum(axis=0)"
   ]
  },
  {
   "cell_type": "code",
   "execution_count": 4,
   "metadata": {
    "collapsed": true,
    "jupyter": {
     "outputs_hidden": true
    }
   },
   "outputs": [
    {
     "name": "stderr",
     "output_type": "stream",
     "text": [
      "c:\\Users\\汉堡\\AppData\\Local\\Programs\\Python\\Python37\\lib\\site-packages\\ipykernel_launcher.py:3: UserWarning: Pandas doesn't allow columns to be created via a new attribute name - see https://pandas.pydata.org/pandas-docs/stable/indexing.html#attribute-access\n",
      "  This is separate from the ipykernel package so we can avoid doing imports until\n"
     ]
    }
   ],
   "source": [
    "# 清除缺失值\n",
    "data.dropna(inplace=True)\n",
    "data.shapey = data['SeriousDlqin2yrs']\n",
    "X = data.drop('SeriousDlqin2yrs', axis=1)"
   ]
  },
  {
   "cell_type": "code",
   "execution_count": 5,
   "metadata": {
    "collapsed": true,
    "jupyter": {
     "outputs_hidden": true
    }
   },
   "outputs": [
    {
     "data": {
      "text/plain": [
       "0.06742876076872101"
      ]
     },
     "execution_count": 5,
     "metadata": {},
     "output_type": "execute_result"
    }
   ],
   "source": [
    "# 取出对应的X和y\n",
    "y = data['SeriousDlqin2yrs']\n",
    "X = data.drop('SeriousDlqin2yrs', axis=1)\n",
    "# 查看平均的欺诈率\n",
    "y.mean()"
   ]
  },
  {
   "cell_type": "markdown",
   "metadata": {},
   "source": [
    "### 以下为操作题"
   ]
  },
  {
   "cell_type": "markdown",
   "metadata": {},
   "source": [
    "#### 1.把数据切分成训练集和测试集"
   ]
  },
  {
   "cell_type": "code",
   "execution_count": 6,
   "metadata": {
    "collapsed": true,
    "jupyter": {
     "outputs_hidden": true
    }
   },
   "outputs": [
    {
     "name": "stdout",
     "output_type": "stream",
     "text": [
      "(86918, 10) (21730, 10) (86918,) (21730,)\n"
     ]
    }
   ],
   "source": [
    "# 提示：查看train_test_split函数\n",
    "from sklearn.model_selection import train_test_split\n",
    "# 切分数据集\n",
    "x_train, x_test, y_train, y_test = train_test_split(X, y, test_size=0.2, random_state=33)\n",
    "print(x_train.shape, x_test.shape, y_train.shape, y_test.shape)\n",
    "\n",
    "\n"
   ]
  },
  {
   "cell_type": "code",
   "execution_count": 7,
   "metadata": {
    "collapsed": true,
    "jupyter": {
     "outputs_hidden": true
    }
   },
   "outputs": [
    {
     "data": {
      "image/png": "[encoded data removed]",
      "text/plain": [
       "<Figure size 640x480 with 1 Axes>"
      ]
     },
     "metadata": {},
     "output_type": "display_data"
    }
   ],
   "source": [
    "# 通过SeriousDlqin2yrs字段查看正负样本分布情况\n",
    "y_train.value_counts()\n",
    "\n",
    "\n",
    "\n",
    "# 绘制两种类别的柱状图\n",
    "# 提示：dataframe可以直接plot(kind='bar')\n",
    "import matplotlib.pyplot as plt\n",
    "plt.figure()\n",
    "pd.value_counts(y_train).plot(kind='bar')\n",
    "plt.title('Distribution of serious delinquency in 2 years')\n",
    "plt.xlabel('SeriousDlqin2yrs')\n",
    "plt.ylabel('Frequency')\n",
    "plt.show()\n",
    "\n"
   ]
  },
  {
   "cell_type": "markdown",
   "metadata": {},
   "source": [
    "#### 2.数据预处理之离散化"
   ]
  },
  {
   "cell_type": "code",
   "execution_count": 8,
   "metadata": {
    "collapsed": true,
    "jupyter": {
     "outputs_hidden": true
    }
   },
   "outputs": [
    {
     "data": {
      "text/html": [
       "<div>\n",
       "<style scoped>\n",
       "    .dataframe tbody tr th:only-of-type {\n",
       "        vertical-align: middle;\n",
       "    }\n",
       "\n",
       "    .dataframe tbody tr th {\n",
       "        vertical-align: top;\n",
       "    }\n",
       "\n",
       "    .dataframe thead th {\n",
       "        text-align: right;\n",
       "    }\n",
       "</style>\n",
       "<table border=\"1\" class=\"dataframe\">\n",
       "  <thead>\n",
       "    <tr style=\"text-align: right;\">\n",
       "      <th></th>\n",
       "      <th>RevolvingUtilizationOfUnsecuredLines</th>\n",
       "      <th>age</th>\n",
       "      <th>NumberOfTime30-59DaysPastDueNotWorse</th>\n",
       "      <th>DebtRatio</th>\n",
       "      <th>MonthlyIncome</th>\n",
       "      <th>NumberOfOpenCreditLinesAndLoans</th>\n",
       "      <th>NumberOfTimes90DaysLate</th>\n",
       "      <th>NumberRealEstateLoansOrLines</th>\n",
       "      <th>NumberOfTime60-89DaysPastDueNotWorse</th>\n",
       "      <th>NumberOfDependents</th>\n",
       "      <th>bin_age</th>\n",
       "    </tr>\n",
       "  </thead>\n",
       "  <tbody>\n",
       "    <tr>\n",
       "      <th>81026</th>\n",
       "      <td>0.100888</td>\n",
       "      <td>57.0</td>\n",
       "      <td>0.0</td>\n",
       "      <td>0.661067</td>\n",
       "      <td>12500.0</td>\n",
       "      <td>20.0</td>\n",
       "      <td>0.0</td>\n",
       "      <td>2.0</td>\n",
       "      <td>0.0</td>\n",
       "      <td>0.0</td>\n",
       "      <td>(54, 57]</td>\n",
       "    </tr>\n",
       "    <tr>\n",
       "      <th>22553</th>\n",
       "      <td>0.132351</td>\n",
       "      <td>41.0</td>\n",
       "      <td>0.0</td>\n",
       "      <td>0.993097</td>\n",
       "      <td>4200.0</td>\n",
       "      <td>14.0</td>\n",
       "      <td>0.0</td>\n",
       "      <td>2.0</td>\n",
       "      <td>0.0</td>\n",
       "      <td>0.0</td>\n",
       "      <td>(39, 42]</td>\n",
       "    </tr>\n",
       "    <tr>\n",
       "      <th>89803</th>\n",
       "      <td>0.963434</td>\n",
       "      <td>35.0</td>\n",
       "      <td>0.0</td>\n",
       "      <td>0.301465</td>\n",
       "      <td>6620.0</td>\n",
       "      <td>10.0</td>\n",
       "      <td>0.0</td>\n",
       "      <td>2.0</td>\n",
       "      <td>0.0</td>\n",
       "      <td>2.0</td>\n",
       "      <td>(33, 36]</td>\n",
       "    </tr>\n",
       "    <tr>\n",
       "      <th>101306</th>\n",
       "      <td>0.052429</td>\n",
       "      <td>56.0</td>\n",
       "      <td>0.0</td>\n",
       "      <td>0.089826</td>\n",
       "      <td>12000.0</td>\n",
       "      <td>4.0</td>\n",
       "      <td>0.0</td>\n",
       "      <td>1.0</td>\n",
       "      <td>0.0</td>\n",
       "      <td>0.0</td>\n",
       "      <td>(54, 57]</td>\n",
       "    </tr>\n",
       "    <tr>\n",
       "      <th>49920</th>\n",
       "      <td>0.447905</td>\n",
       "      <td>44.0</td>\n",
       "      <td>0.0</td>\n",
       "      <td>0.153896</td>\n",
       "      <td>3066.0</td>\n",
       "      <td>2.0</td>\n",
       "      <td>0.0</td>\n",
       "      <td>0.0</td>\n",
       "      <td>0.0</td>\n",
       "      <td>3.0</td>\n",
       "      <td>(42, 45]</td>\n",
       "    </tr>\n",
       "  </tbody>\n",
       "</table>\n",
       "</div>"
      ],
      "text/plain": [
       "        RevolvingUtilizationOfUnsecuredLines   age  \\\n",
       "81026                               0.100888  57.0   \n",
       "22553                               0.132351  41.0   \n",
       "89803                               0.963434  35.0   \n",
       "101306                              0.052429  56.0   \n",
       "49920                               0.447905  44.0   \n",
       "\n",
       "        NumberOfTime30-59DaysPastDueNotWorse  DebtRatio  MonthlyIncome  \\\n",
       "81026                                    0.0   0.661067        12500.0   \n",
       "22553                                    0.0   0.993097         4200.0   \n",
       "89803                                    0.0   0.301465         6620.0   \n",
       "101306                                   0.0   0.089826        12000.0   \n",
       "49920                                    0.0   0.153896         3066.0   \n",
       "\n",
       "        NumberOfOpenCreditLinesAndLoans  NumberOfTimes90DaysLate  \\\n",
       "81026                              20.0                      0.0   \n",
       "22553                              14.0                      0.0   \n",
       "89803                              10.0                      0.0   \n",
       "101306                              4.0                      0.0   \n",
       "49920                               2.0                      0.0   \n",
       "\n",
       "        NumberRealEstateLoansOrLines  NumberOfTime60-89DaysPastDueNotWorse  \\\n",
       "81026                            2.0                                   0.0   \n",
       "22553                            2.0                                   0.0   \n",
       "89803                            2.0                                   0.0   \n",
       "101306                           1.0                                   0.0   \n",
       "49920                            0.0                                   0.0   \n",
       "\n",
       "        NumberOfDependents   bin_age  \n",
       "81026                  0.0  (54, 57]  \n",
       "22553                  0.0  (39, 42]  \n",
       "89803                  2.0  (33, 36]  \n",
       "101306                 0.0  (54, 57]  \n",
       "49920                  3.0  (42, 45]  "
      ]
     },
     "execution_count": 8,
     "metadata": {},
     "output_type": "execute_result"
    }
   ],
   "source": [
    "# 请对年龄按照3岁一个区间进行离散化\n",
    "# 提示：可以先计算出分桶边界，再基于pandas的cut函数进行离散化(分箱、分桶)\n",
    "\n",
    "# 计算分桶边界\n",
    "age_min = x_train['age'].min()\n",
    "age_max = x_train['age'].max()\n",
    "age_bins = list(range(int(age_min), int(age_max) + 3, 3))\n",
    "# 基于pandas的cut函数进行离散化\n",
    "x_train['bin_age'] = pd.cut(x_train['age'], bins=age_bins)\n",
    "x_test['bin_age'] = pd.cut(x_test['age'], bins=age_bins)\n",
    "x_train.head()\n",
    "\n"
   ]
  },
  {
   "cell_type": "markdown",
   "metadata": {},
   "source": [
    "#### 3.数据预处理之独热向量编码"
   ]
  },
  {
   "cell_type": "code",
   "execution_count": 9,
   "metadata": {
    "collapsed": true,
    "jupyter": {
     "outputs_hidden": true
    }
   },
   "outputs": [
    {
     "data": {
      "text/html": [
       "<div>\n",
       "<style scoped>\n",
       "    .dataframe tbody tr th:only-of-type {\n",
       "        vertical-align: middle;\n",
       "    }\n",
       "\n",
       "    .dataframe tbody tr th {\n",
       "        vertical-align: top;\n",
       "    }\n",
       "\n",
       "    .dataframe thead th {\n",
       "        text-align: right;\n",
       "    }\n",
       "</style>\n",
       "<table border=\"1\" class=\"dataframe\">\n",
       "  <thead>\n",
       "    <tr style=\"text-align: right;\">\n",
       "      <th></th>\n",
       "      <th>RevolvingUtilizationOfUnsecuredLines</th>\n",
       "      <th>age</th>\n",
       "      <th>NumberOfTime30-59DaysPastDueNotWorse</th>\n",
       "      <th>DebtRatio</th>\n",
       "      <th>MonthlyIncome</th>\n",
       "      <th>NumberOfOpenCreditLinesAndLoans</th>\n",
       "      <th>NumberOfTimes90DaysLate</th>\n",
       "      <th>NumberRealEstateLoansOrLines</th>\n",
       "      <th>NumberOfTime60-89DaysPastDueNotWorse</th>\n",
       "      <th>NumberOfDependents</th>\n",
       "      <th>bin_age_(0, 3]</th>\n",
       "      <th>bin_age_(3, 6]</th>\n",
       "      <th>bin_age_(6, 9]</th>\n",
       "      <th>bin_age_(9, 12]</th>\n",
       "      <th>bin_age_(12, 15]</th>\n",
       "      <th>bin_age_(15, 18]</th>\n",
       "      <th>bin_age_(18, 21]</th>\n",
       "      <th>bin_age_(21, 24]</th>\n",
       "      <th>bin_age_(24, 27]</th>\n",
       "      <th>bin_age_(27, 30]</th>\n",
       "      <th>bin_age_(30, 33]</th>\n",
       "      <th>bin_age_(33, 36]</th>\n",
       "      <th>bin_age_(36, 39]</th>\n",
       "      <th>bin_age_(39, 42]</th>\n",
       "      <th>bin_age_(42, 45]</th>\n",
       "      <th>bin_age_(45, 48]</th>\n",
       "      <th>bin_age_(48, 51]</th>\n",
       "      <th>bin_age_(51, 54]</th>\n",
       "      <th>bin_age_(54, 57]</th>\n",
       "      <th>bin_age_(57, 60]</th>\n",
       "      <th>bin_age_(60, 63]</th>\n",
       "      <th>bin_age_(63, 66]</th>\n",
       "      <th>bin_age_(66, 69]</th>\n",
       "      <th>bin_age_(69, 72]</th>\n",
       "      <th>bin_age_(72, 75]</th>\n",
       "      <th>bin_age_(75, 78]</th>\n",
       "      <th>bin_age_(78, 81]</th>\n",
       "      <th>bin_age_(81, 84]</th>\n",
       "      <th>bin_age_(84, 87]</th>\n",
       "      <th>bin_age_(87, 90]</th>\n",
       "      <th>bin_age_(90, 93]</th>\n",
       "      <th>bin_age_(93, 96]</th>\n",
       "      <th>bin_age_(96, 99]</th>\n",
       "      <th>bin_age_(99, 102]</th>\n",
       "      <th>bin_age_(102, 105]</th>\n",
       "    </tr>\n",
       "  </thead>\n",
       "  <tbody>\n",
       "    <tr>\n",
       "      <th>81026</th>\n",
       "      <td>0.100888</td>\n",
       "      <td>57.0</td>\n",
       "      <td>0.0</td>\n",
       "      <td>0.661067</td>\n",
       "      <td>12500.0</td>\n",
       "      <td>20.0</td>\n",
       "      <td>0.0</td>\n",
       "      <td>2.0</td>\n",
       "      <td>0.0</td>\n",
       "      <td>0.0</td>\n",
       "      <td>0</td>\n",
       "      <td>0</td>\n",
       "      <td>0</td>\n",
       "      <td>0</td>\n",
       "      <td>0</td>\n",
       "      <td>0</td>\n",
       "      <td>0</td>\n",
       "      <td>0</td>\n",
       "      <td>0</td>\n",
       "      <td>0</td>\n",
       "      <td>0</td>\n",
       "      <td>0</td>\n",
       "      <td>0</td>\n",
       "      <td>0</td>\n",
       "      <td>0</td>\n",
       "      <td>0</td>\n",
       "      <td>0</td>\n",
       "      <td>0</td>\n",
       "      <td>1</td>\n",
       "      <td>0</td>\n",
       "      <td>0</td>\n",
       "      <td>0</td>\n",
       "      <td>0</td>\n",
       "      <td>0</td>\n",
       "      <td>0</td>\n",
       "      <td>0</td>\n",
       "      <td>0</td>\n",
       "      <td>0</td>\n",
       "      <td>0</td>\n",
       "      <td>0</td>\n",
       "      <td>0</td>\n",
       "      <td>0</td>\n",
       "      <td>0</td>\n",
       "      <td>0</td>\n",
       "      <td>0</td>\n",
       "    </tr>\n",
       "    <tr>\n",
       "      <th>22553</th>\n",
       "      <td>0.132351</td>\n",
       "      <td>41.0</td>\n",
       "      <td>0.0</td>\n",
       "      <td>0.993097</td>\n",
       "      <td>4200.0</td>\n",
       "      <td>14.0</td>\n",
       "      <td>0.0</td>\n",
       "      <td>2.0</td>\n",
       "      <td>0.0</td>\n",
       "      <td>0.0</td>\n",
       "      <td>0</td>\n",
       "      <td>0</td>\n",
       "      <td>0</td>\n",
       "      <td>0</td>\n",
       "      <td>0</td>\n",
       "      <td>0</td>\n",
       "      <td>0</td>\n",
       "      <td>0</td>\n",
       "      <td>0</td>\n",
       "      <td>0</td>\n",
       "      <td>0</td>\n",
       "      <td>0</td>\n",
       "      <td>0</td>\n",
       "      <td>1</td>\n",
       "      <td>0</td>\n",
       "      <td>0</td>\n",
       "      <td>0</td>\n",
       "      <td>0</td>\n",
       "      <td>0</td>\n",
       "      <td>0</td>\n",
       "      <td>0</td>\n",
       "      <td>0</td>\n",
       "      <td>0</td>\n",
       "      <td>0</td>\n",
       "      <td>0</td>\n",
       "      <td>0</td>\n",
       "      <td>0</td>\n",
       "      <td>0</td>\n",
       "      <td>0</td>\n",
       "      <td>0</td>\n",
       "      <td>0</td>\n",
       "      <td>0</td>\n",
       "      <td>0</td>\n",
       "      <td>0</td>\n",
       "      <td>0</td>\n",
       "    </tr>\n",
       "    <tr>\n",
       "      <th>89803</th>\n",
       "      <td>0.963434</td>\n",
       "      <td>35.0</td>\n",
       "      <td>0.0</td>\n",
       "      <td>0.301465</td>\n",
       "      <td>6620.0</td>\n",
       "      <td>10.0</td>\n",
       "      <td>0.0</td>\n",
       "      <td>2.0</td>\n",
       "      <td>0.0</td>\n",
       "      <td>2.0</td>\n",
       "      <td>0</td>\n",
       "      <td>0</td>\n",
       "      <td>0</td>\n",
       "      <td>0</td>\n",
       "      <td>0</td>\n",
       "      <td>0</td>\n",
       "      <td>0</td>\n",
       "      <td>0</td>\n",
       "      <td>0</td>\n",
       "      <td>0</td>\n",
       "      <td>0</td>\n",
       "      <td>1</td>\n",
       "      <td>0</td>\n",
       "      <td>0</td>\n",
       "      <td>0</td>\n",
       "      <td>0</td>\n",
       "      <td>0</td>\n",
       "      <td>0</td>\n",
       "      <td>0</td>\n",
       "      <td>0</td>\n",
       "      <td>0</td>\n",
       "      <td>0</td>\n",
       "      <td>0</td>\n",
       "      <td>0</td>\n",
       "      <td>0</td>\n",
       "      <td>0</td>\n",
       "      <td>0</td>\n",
       "      <td>0</td>\n",
       "      <td>0</td>\n",
       "      <td>0</td>\n",
       "      <td>0</td>\n",
       "      <td>0</td>\n",
       "      <td>0</td>\n",
       "      <td>0</td>\n",
       "      <td>0</td>\n",
       "    </tr>\n",
       "    <tr>\n",
       "      <th>101306</th>\n",
       "      <td>0.052429</td>\n",
       "      <td>56.0</td>\n",
       "      <td>0.0</td>\n",
       "      <td>0.089826</td>\n",
       "      <td>12000.0</td>\n",
       "      <td>4.0</td>\n",
       "      <td>0.0</td>\n",
       "      <td>1.0</td>\n",
       "      <td>0.0</td>\n",
       "      <td>0.0</td>\n",
       "      <td>0</td>\n",
       "      <td>0</td>\n",
       "      <td>0</td>\n",
       "      <td>0</td>\n",
       "      <td>0</td>\n",
       "      <td>0</td>\n",
       "      <td>0</td>\n",
       "      <td>0</td>\n",
       "      <td>0</td>\n",
       "      <td>0</td>\n",
       "      <td>0</td>\n",
       "      <td>0</td>\n",
       "      <td>0</td>\n",
       "      <td>0</td>\n",
       "      <td>0</td>\n",
       "      <td>0</td>\n",
       "      <td>0</td>\n",
       "      <td>0</td>\n",
       "      <td>1</td>\n",
       "      <td>0</td>\n",
       "      <td>0</td>\n",
       "      <td>0</td>\n",
       "      <td>0</td>\n",
       "      <td>0</td>\n",
       "      <td>0</td>\n",
       "      <td>0</td>\n",
       "      <td>0</td>\n",
       "      <td>0</td>\n",
       "      <td>0</td>\n",
       "      <td>0</td>\n",
       "      <td>0</td>\n",
       "      <td>0</td>\n",
       "      <td>0</td>\n",
       "      <td>0</td>\n",
       "      <td>0</td>\n",
       "    </tr>\n",
       "    <tr>\n",
       "      <th>49920</th>\n",
       "      <td>0.447905</td>\n",
       "      <td>44.0</td>\n",
       "      <td>0.0</td>\n",
       "      <td>0.153896</td>\n",
       "      <td>3066.0</td>\n",
       "      <td>2.0</td>\n",
       "      <td>0.0</td>\n",
       "      <td>0.0</td>\n",
       "      <td>0.0</td>\n",
       "      <td>3.0</td>\n",
       "      <td>0</td>\n",
       "      <td>0</td>\n",
       "      <td>0</td>\n",
       "      <td>0</td>\n",
       "      <td>0</td>\n",
       "      <td>0</td>\n",
       "      <td>0</td>\n",
       "      <td>0</td>\n",
       "      <td>0</td>\n",
       "      <td>0</td>\n",
       "      <td>0</td>\n",
       "      <td>0</td>\n",
       "      <td>0</td>\n",
       "      <td>0</td>\n",
       "      <td>1</td>\n",
       "      <td>0</td>\n",
       "      <td>0</td>\n",
       "      <td>0</td>\n",
       "      <td>0</td>\n",
       "      <td>0</td>\n",
       "      <td>0</td>\n",
       "      <td>0</td>\n",
       "      <td>0</td>\n",
       "      <td>0</td>\n",
       "      <td>0</td>\n",
       "      <td>0</td>\n",
       "      <td>0</td>\n",
       "      <td>0</td>\n",
       "      <td>0</td>\n",
       "      <td>0</td>\n",
       "      <td>0</td>\n",
       "      <td>0</td>\n",
       "      <td>0</td>\n",
       "      <td>0</td>\n",
       "      <td>0</td>\n",
       "    </tr>\n",
       "  </tbody>\n",
       "</table>\n",
       "</div>"
      ],
      "text/plain": [
       "        RevolvingUtilizationOfUnsecuredLines   age  \\\n",
       "81026                               0.100888  57.0   \n",
       "22553                               0.132351  41.0   \n",
       "89803                               0.963434  35.0   \n",
       "101306                              0.052429  56.0   \n",
       "49920                               0.447905  44.0   \n",
       "\n",
       "        NumberOfTime30-59DaysPastDueNotWorse  DebtRatio  MonthlyIncome  \\\n",
       "81026                                    0.0   0.661067        12500.0   \n",
       "22553                                    0.0   0.993097         4200.0   \n",
       "89803                                    0.0   0.301465         6620.0   \n",
       "101306                                   0.0   0.089826        12000.0   \n",
       "49920                                    0.0   0.153896         3066.0   \n",
       "\n",
       "        NumberOfOpenCreditLinesAndLoans  NumberOfTimes90DaysLate  \\\n",
       "81026                              20.0                      0.0   \n",
       "22553                              14.0                      0.0   \n",
       "89803                              10.0                      0.0   \n",
       "101306                              4.0                      0.0   \n",
       "49920                               2.0                      0.0   \n",
       "\n",
       "        NumberRealEstateLoansOrLines  NumberOfTime60-89DaysPastDueNotWorse  \\\n",
       "81026                            2.0                                   0.0   \n",
       "22553                            2.0                                   0.0   \n",
       "89803                            2.0                                   0.0   \n",
       "101306                           1.0                                   0.0   \n",
       "49920                            0.0                                   0.0   \n",
       "\n",
       "        NumberOfDependents  bin_age_(0, 3]  bin_age_(3, 6]  bin_age_(6, 9]  \\\n",
       "81026                  0.0               0               0               0   \n",
       "22553                  0.0               0               0               0   \n",
       "89803                  2.0               0               0               0   \n",
       "101306                 0.0               0               0               0   \n",
       "49920                  3.0               0               0               0   \n",
       "\n",
       "        bin_age_(9, 12]  bin_age_(12, 15]  bin_age_(15, 18]  bin_age_(18, 21]  \\\n",
       "81026                 0                 0                 0                 0   \n",
       "22553                 0                 0                 0                 0   \n",
       "89803                 0                 0                 0                 0   \n",
       "101306                0                 0                 0                 0   \n",
       "49920                 0                 0                 0                 0   \n",
       "\n",
       "        bin_age_(21, 24]  bin_age_(24, 27]  bin_age_(27, 30]  \\\n",
       "81026                  0                 0                 0   \n",
       "22553                  0                 0                 0   \n",
       "89803                  0                 0                 0   \n",
       "101306                 0                 0                 0   \n",
       "49920                  0                 0                 0   \n",
       "\n",
       "        bin_age_(30, 33]  bin_age_(33, 36]  bin_age_(36, 39]  \\\n",
       "81026                  0                 0                 0   \n",
       "22553                  0                 0                 0   \n",
       "89803                  0                 1                 0   \n",
       "101306                 0                 0                 0   \n",
       "49920                  0                 0                 0   \n",
       "\n",
       "        bin_age_(39, 42]  bin_age_(42, 45]  bin_age_(45, 48]  \\\n",
       "81026                  0                 0                 0   \n",
       "22553                  1                 0                 0   \n",
       "89803                  0                 0                 0   \n",
       "101306                 0                 0                 0   \n",
       "49920                  0                 1                 0   \n",
       "\n",
       "        bin_age_(48, 51]  bin_age_(51, 54]  bin_age_(54, 57]  \\\n",
       "81026                  0                 0                 1   \n",
       "22553                  0                 0                 0   \n",
       "89803                  0                 0                 0   \n",
       "101306                 0                 0                 1   \n",
       "49920                  0                 0                 0   \n",
       "\n",
       "        bin_age_(57, 60]  bin_age_(60, 63]  bin_age_(63, 66]  \\\n",
       "81026                  0                 0                 0   \n",
       "22553                  0                 0                 0   \n",
       "89803                  0                 0                 0   \n",
       "101306                 0                 0                 0   \n",
       "49920                  0                 0                 0   \n",
       "\n",
       "        bin_age_(66, 69]  bin_age_(69, 72]  bin_age_(72, 75]  \\\n",
       "81026                  0                 0                 0   \n",
       "22553                  0                 0                 0   \n",
       "89803                  0                 0                 0   \n",
       "101306                 0                 0                 0   \n",
       "49920                  0                 0                 0   \n",
       "\n",
       "        bin_age_(75, 78]  bin_age_(78, 81]  bin_age_(81, 84]  \\\n",
       "81026                  0                 0                 0   \n",
       "22553                  0                 0                 0   \n",
       "89803                  0                 0                 0   \n",
       "101306                 0                 0                 0   \n",
       "49920                  0                 0                 0   \n",
       "\n",
       "        bin_age_(84, 87]  bin_age_(87, 90]  bin_age_(90, 93]  \\\n",
       "81026                  0                 0                 0   \n",
       "22553                  0                 0                 0   \n",
       "89803                  0                 0                 0   \n",
       "101306                 0                 0                 0   \n",
       "49920                  0                 0                 0   \n",
       "\n",
       "        bin_age_(93, 96]  bin_age_(96, 99]  bin_age_(99, 102]  \\\n",
       "81026                  0                 0                  0   \n",
       "22553                  0                 0                  0   \n",
       "89803                  0                 0                  0   \n",
       "101306                 0                 0                  0   \n",
       "49920                  0                 0                  0   \n",
       "\n",
       "        bin_age_(102, 105]  \n",
       "81026                    0  \n",
       "22553                    0  \n",
       "89803                    0  \n",
       "101306                   0  \n",
       "49920                    0  "
      ]
     },
     "execution_count": 9,
     "metadata": {},
     "output_type": "execute_result"
    }
   ],
   "source": [
    "# 请对上述分箱后的年龄段进行独热向量编码\n",
    "# 提示：使用pandas的get_dummies完成\n",
    "\n",
    "x_train = pd.get_dummies(x_train, columns=['bin_age'])\n",
    "x_test = pd.get_dummies(x_test, columns=['bin_age'])\n",
    "x_train.head()\n"
   ]
  },
  {
   "cell_type": "markdown",
   "metadata": {},
   "source": [
    "#### 4.数据预处理之幅度缩放"
   ]
  },
  {
   "cell_type": "code",
   "execution_count": 10,
   "metadata": {
    "collapsed": true,
    "jupyter": {
     "outputs_hidden": true
    }
   },
   "outputs": [
    {
     "data": {
      "text/plain": [
       "array([[-2.17978059e-02,  3.91305374e-01, -1.07341890e-01,\n",
       "         1.59030066e+00,  3.61730160e-01,  2.20926377e+00,\n",
       "        -6.11904926e-02,  9.05887545e-01, -5.43371430e-02,\n",
       "        -7.43076590e-01,  0.00000000e+00,  0.00000000e+00,\n",
       "         0.00000000e+00,  0.00000000e+00,  0.00000000e+00,\n",
       "         0.00000000e+00, -3.14709116e-02, -1.11271473e-01,\n",
       "        -1.56811280e-01, -1.98376710e-01, -2.20527721e-01,\n",
       "        -2.26878949e-01, -2.47475101e-01, -2.65489427e-01,\n",
       "        -2.76038613e-01, -2.90239139e-01, -2.90728153e-01,\n",
       "        -2.80883886e-01,  3.68991007e+00, -2.62096535e-01,\n",
       "        -2.69907035e-01, -2.32651012e-01, -2.08045861e-01,\n",
       "        -1.77644194e-01, -1.58802430e-01, -1.43093438e-01,\n",
       "        -1.25795120e-01, -9.55889347e-02, -8.24585445e-02,\n",
       "        -6.47600585e-02, -4.00221191e-02, -2.06366147e-02,\n",
       "        -1.17507542e-02, -5.87507290e-03, -3.39193590e-03],\n",
       "       [-2.16793482e-02, -7.14754537e-01, -1.07341890e-01,\n",
       "         3.08031858e+00, -1.82927862e-01,  1.03787379e+00,\n",
       "        -6.11904926e-02,  9.05887545e-01, -5.43371430e-02,\n",
       "        -7.43076590e-01,  0.00000000e+00,  0.00000000e+00,\n",
       "         0.00000000e+00,  0.00000000e+00,  0.00000000e+00,\n",
       "         0.00000000e+00, -3.14709116e-02, -1.11271473e-01,\n",
       "        -1.56811280e-01, -1.98376710e-01, -2.20527721e-01,\n",
       "        -2.26878949e-01, -2.47475101e-01,  3.76662834e+00,\n",
       "        -2.76038613e-01, -2.90239139e-01, -2.90728153e-01,\n",
       "        -2.80883886e-01, -2.71009315e-01, -2.62096535e-01,\n",
       "        -2.69907035e-01, -2.32651012e-01, -2.08045861e-01,\n",
       "        -1.77644194e-01, -1.58802430e-01, -1.43093438e-01,\n",
       "        -1.25795120e-01, -9.55889347e-02, -8.24585445e-02,\n",
       "        -6.47600585e-02, -4.00221191e-02, -2.06366147e-02,\n",
       "        -1.17507542e-02, -5.87507290e-03, -3.39193590e-03],\n",
       "       [-1.85503406e-02, -1.12952700e+00, -1.07341890e-01,\n",
       "        -2.34508621e-02, -2.41239568e-02,  2.56947133e-01,\n",
       "        -6.11904926e-02,  9.05887545e-01, -5.43371430e-02,\n",
       "         9.94854445e-01,  0.00000000e+00,  0.00000000e+00,\n",
       "         0.00000000e+00,  0.00000000e+00,  0.00000000e+00,\n",
       "         0.00000000e+00, -3.14709116e-02, -1.11271473e-01,\n",
       "        -1.56811280e-01, -1.98376710e-01, -2.20527721e-01,\n",
       "         4.40763679e+00, -2.47475101e-01, -2.65489427e-01,\n",
       "        -2.76038613e-01, -2.90239139e-01, -2.90728153e-01,\n",
       "        -2.80883886e-01, -2.71009315e-01, -2.62096535e-01,\n",
       "        -2.69907035e-01, -2.32651012e-01, -2.08045861e-01,\n",
       "        -1.77644194e-01, -1.58802430e-01, -1.43093438e-01,\n",
       "        -1.25795120e-01, -9.55889347e-02, -8.24585445e-02,\n",
       "        -6.47600585e-02, -4.00221191e-02, -2.06366147e-02,\n",
       "        -1.17507542e-02, -5.87507290e-03, -3.39193590e-03]])"
      ]
     },
     "execution_count": 10,
     "metadata": {},
     "output_type": "execute_result"
    }
   ],
   "source": [
    "# 请对连续值特征进行幅度缩放\n",
    "# 提示：可以使用StandardScaler等幅度缩放器进行处理\n",
    "from sklearn.preprocessing import StandardScaler\n",
    "# 初始化缩放器\n",
    "ss = StandardScaler()\n",
    "# 对训练集的特征进行缩放\n",
    "x_train = ss.fit_transform(x_train)\n",
    "# 对测试集的特征进行缩放\n",
    "x_test = ss.transform(x_test)\n",
    "x_train[:3]\n",
    "\n",
    "\n",
    "\n"
   ]
  },
  {
   "cell_type": "markdown",
   "metadata": {},
   "source": [
    "#### 5.使用logistic regression建模，并且输出一下系数，分析重要度。   "
   ]
  },
  {
   "cell_type": "code",
   "execution_count": 11,
   "metadata": {
    "collapsed": true,
    "jupyter": {
     "outputs_hidden": true
    }
   },
   "outputs": [
    {
     "name": "stdout",
     "output_type": "stream",
     "text": [
      "[[-2.27781020e-02 -1.42696444e-01  1.68625825e+00  3.10056820e-01\n",
      "  -1.19965334e-01 -1.22134233e-01  1.56236314e+00 -1.97521830e-01\n",
      "  -3.07648316e+00  9.48004807e-02  0.00000000e+00  0.00000000e+00\n",
      "   0.00000000e+00  0.00000000e+00  0.00000000e+00  0.00000000e+00\n",
      "  -4.25627372e-02  3.96955491e-02  6.85462757e-02  6.46949594e-02\n",
      "   5.81186405e-02  5.57716217e-02  3.62403724e-02  5.68402531e-02\n",
      "   2.08470939e-02  5.17389838e-02  5.63645349e-02  4.52533331e-02\n",
      "   4.75898123e-03 -9.44911872e-03 -2.55802353e-02 -8.89941587e-02\n",
      "  -8.75398297e-02 -4.39149861e-02 -5.86791208e-02 -6.85381841e-02\n",
      "  -6.66482451e-02 -3.93571646e-02 -4.51549602e-02 -2.16531594e-03\n",
      "   6.76542737e-03 -1.59342081e-01 -9.12934161e-02  1.55369491e-02\n",
      "  -2.49435447e-02]]\n"
     ]
    },
    {
     "data": {
      "text/plain": [
       "0.9319374137137598"
      ]
     },
     "execution_count": 11,
     "metadata": {},
     "output_type": "execute_result"
    }
   ],
   "source": [
    "# 提示：fit建模，建完模之后可以取出coef属性\n",
    "from sklearn.linear_model import LogisticRegression\n",
    "# 初始化模型\n",
    "lr = LogisticRegression()\n",
    "# 训练模型\n",
    "lr.fit(x_train, y_train)\n",
    "# 查看模型的系数\n",
    "print(lr.coef_)\n",
    "\n",
    "#accuracy_score\n",
    "from sklearn.metrics import accuracy_score\n",
    "# 预测测试集的标签\n",
    "y_pred = lr.predict(x_test)\n",
    "# 计算准确率\n",
    "accuracy_score(y_test, y_pred)\n",
    "\n"
   ]
  },
  {
   "cell_type": "markdown",
   "metadata": {},
   "source": [
    "#### 6.使用网格搜索交叉验证进行调参\n",
    "调整penalty和C参数，其中penalty候选为\"l1\"和\"l2\"，C的候选为[1,10,100,500]"
   ]
  },
  {
   "cell_type": "code",
   "execution_count": 12,
   "metadata": {
    "collapsed": true,
    "jupyter": {
     "outputs_hidden": true
    }
   },
   "outputs": [
    {
     "name": "stdout",
     "output_type": "stream",
     "text": [
      "{'C': 100}\n",
      "LogisticRegression(C=100)\n",
      "0.9336616149535839\n"
     ]
    }
   ],
   "source": [
    "# 提示：先按照上面要求准备好网格字典，再使用GridSearchCV进行调参\n",
    "from sklearn.model_selection import GridSearchCV\n",
    "#参数字典\n",
    "param_grid = { 'C': [0.01,0.1, 1, 10, 100]}\n",
    "           \n",
    "# 初始化网格搜索\n",
    "grid_search = GridSearchCV(lr, param_grid, cv=5, scoring='accuracy')\n",
    "# 训练网格搜索\n",
    "grid_search.fit(x_train, y_train)\n",
    "# 查看最佳参数\n",
    "print(grid_search.best_params_)\n",
    "# 查看最佳模型\n",
    "print(grid_search.best_estimator_)\n",
    "# 查看最佳模型的准确率\n",
    "print(grid_search.best_score_)\n",
    "\n",
    "\n",
    "\n",
    "\n"
   ]
  },
  {
   "cell_type": "code",
   "execution_count": 13,
   "metadata": {
    "collapsed": true,
    "jupyter": {
     "outputs_hidden": true
    }
   },
   "outputs": [
    {
     "name": "stdout",
     "output_type": "stream",
     "text": [
      "best parameters: {'C': 100}\n",
      "best model: LogisticRegression(C=100)\n",
      "best score: 0.9336616149535839\n"
     ]
    }
   ],
   "source": [
    "# 输出最好的超参数\n",
    "# 输出最好的模型\n",
    "print(\"best parameters:\", grid_search.best_params_)\n",
    "print(\"best model:\", grid_search.best_estimator_)\n",
    "print(\"best score:\", grid_search.best_score_)\n",
    " \n"
   ]
  },
  {
   "cell_type": "markdown",
   "metadata": {},
   "source": [
    "#### 7.在测试集上进行预测，计算 查准率/查全率/auc/混淆矩阵/f1值 等测试指标"
   ]
  },
  {
   "cell_type": "code",
   "execution_count": 14,
   "metadata": {
    "collapsed": true,
    "jupyter": {
     "outputs_hidden": true
    }
   },
   "outputs": [
    {
     "name": "stdout",
     "output_type": "stream",
     "text": [
      "accuracy_score: 0.9319834330418776\n",
      "recall_score: 0.03943850267379679\n",
      "roc_auc_score: 0.7055902161290442\n",
      "confusion_matrix:\n",
      " [[20193    41]\n",
      " [ 1437    59]]\n",
      "f1_score: 0.07393483709273183\n"
     ]
    }
   ],
   "source": [
    "# 提示：在测试集上预测可以使用predict\n",
    "# 提示：各种指标可以在sklearn.metrics中查到各种评估指标，分别是accuracy_score、recall_score、auc、confusion_matrix、f1_score\n",
    "from sklearn.metrics import accuracy_score, recall_score, roc_auc_score, confusion_matrix, f1_score\n",
    "# 预测测试集的标签\n",
    "y_pred = grid_search.predict(x_test)\n",
    "y_pred_proba = grid_search.predict_proba(x_test)[:, 1]#预测属于某个类别的概率\n",
    "# 计算各种评估指标\n",
    "print('accuracy_score:', accuracy_score(y_test, y_pred))\n",
    "print('recall_score:', recall_score(y_test, y_pred))\n",
    "print('roc_auc_score:', roc_auc_score(y_test, y_pred_proba))\n",
    "print('confusion_matrix:\\n', confusion_matrix(y_test, y_pred))\n",
    "print('f1_score:', f1_score(y_test, y_pred))\n",
    "\n",
    "\n"
   ]
  },
  {
   "cell_type": "markdown",
   "metadata": {},
   "source": [
    "#### 8.更多优化\n",
    "银行通常会有更严格的要求，因为欺诈带来的后果通常比较严重，一般我们会调整模型的标准。   \n",
    "\n",
    "比如在logistic regression当中，一般我们的概率判定边界为0.5，但是我们可以把阈值设定低一些，来提高模型的“敏感度”   \n",
    "试试看把阈值设定为0.3，再看看这个时候的混淆矩阵等评估指标。"
   ]
  },
  {
   "cell_type": "code",
   "execution_count": 15,
   "metadata": {
    "collapsed": true,
    "jupyter": {
     "outputs_hidden": true
    }
   },
   "outputs": [
    {
     "name": "stdout",
     "output_type": "stream",
     "text": [
      "threshold: 0.1\n",
      "accuracy_score: 0.8548550391164289\n",
      "recall_score: 0.4177807486631016\n",
      "roc_auc_score: 0.7055902161290442\n",
      "confusion_matrix:\n",
      " [[17951  2283]\n",
      " [  871   625]]\n",
      "f1_score: 0.28383287920072664\n",
      "\n",
      "\n",
      "threshold: 0.2\n",
      "accuracy_score: 0.927289461573861\n",
      "recall_score: 0.1751336898395722\n",
      "roc_auc_score: 0.7055902161290442\n",
      "confusion_matrix:\n",
      " [[19888   346]\n",
      " [ 1234   262]]\n",
      "f1_score: 0.2490494296577947\n",
      "\n",
      "\n",
      "threshold: 0.3\n",
      "accuracy_score: 0.9317073170731708\n",
      "recall_score: 0.09692513368983957\n",
      "roc_auc_score: 0.7055902161290442\n",
      "confusion_matrix:\n",
      " [[20101   133]\n",
      " [ 1351   145]]\n",
      "f1_score: 0.16347237880496054\n",
      "\n",
      "\n",
      "threshold: 0.4\n",
      "accuracy_score: 0.9319834330418776\n",
      "recall_score: 0.06216577540106952\n",
      "roc_auc_score: 0.7055902161290442\n",
      "confusion_matrix:\n",
      " [[20159    75]\n",
      " [ 1403    93]]\n",
      "f1_score: 0.11177884615384616\n",
      "\n",
      "\n",
      "threshold: 0.5\n",
      "accuracy_score: 0.9319834330418776\n",
      "recall_score: 0.03943850267379679\n",
      "roc_auc_score: 0.7055902161290442\n",
      "confusion_matrix:\n",
      " [[20193    41]\n",
      " [ 1437    59]]\n",
      "f1_score: 0.07393483709273183\n",
      "\n",
      "\n"
     ]
    }
   ],
   "source": [
    "# 提示：thresholds = [0.1,0.2,0.3,0.4,0.5,0.6,0.7,0.8,0.9]\n",
    "# 根据predict_proba的结果和threshold的比较确定结果，再评估各种结果指标\n",
    "from sklearn.metrics import accuracy_score, recall_score, roc_auc_score, confusion_matrix, f1_score\n",
    "# 初始化阈值\n",
    "thresholds = [0.1, 0.2, 0.3, 0.4, 0.5]\n",
    "#由阈值确定结果\n",
    "for thres in thresholds:\n",
    "    y_pred = (y_pred_proba >= thres).astype(int)\n",
    "    print('threshold:', thres)\n",
    "    print('accuracy_score:', accuracy_score(y_test, y_pred))\n",
    "    print('recall_score:', recall_score(y_test, y_pred))\n",
    "    print('roc_auc_score:', roc_auc_score(y_test, y_pred_proba))\n",
    "    print('confusion_matrix:\\n', confusion_matrix(y_test, y_pred))\n",
    "    print('f1_score:', f1_score(y_test, y_pred))\n",
    "    print('\\n')\n"
   ]
  },
  {
   "cell_type": "markdown",
   "metadata": {},
   "source": [
    "#### 9.尝试对不同特征的重要度进行排序，通过特征选择的方式，对特征进行筛选。并重新建模，观察此时的模型准确率等评估指标。"
   ]
  },
  {
   "cell_type": "code",
   "execution_count": 21,
   "metadata": {
    "collapsed": true,
    "jupyter": {
     "outputs_hidden": true
    }
   },
   "outputs": [
    {
     "name": "stdout",
     "output_type": "stream",
     "text": [
      "[(1, 'NumberOfTimes90DaysLate'), (2, 'NumberOfTime60-89DaysPastDueNotWorse'), (3, 'NumberOfTime30-59DaysPastDueNotWorse'), (4, 'age'), (5, 'DebtRatio'), (6, 'NumberRealEstateLoansOrLines'), (8, 'NumberOfOpenCreditLinesAndLoans'), (9, 'NumberOfDependents'), (10, 'MonthlyIncome'), (34, 'RevolvingUtilizationOfUnsecuredLines')]\n"
     ]
    },
    {
     "name": "stderr",
     "output_type": "stream",
     "text": [
      "c:\\Users\\汉堡\\AppData\\Local\\Programs\\Python\\Python37\\lib\\site-packages\\sklearn\\linear_model\\_logistic.py:818: ConvergenceWarning: lbfgs failed to converge (status=1):\n",
      "STOP: TOTAL NO. of ITERATIONS REACHED LIMIT.\n",
      "\n",
      "Increase the number of iterations (max_iter) or scale the data as shown in:\n",
      "    https://scikit-learn.org/stable/modules/preprocessing.html\n",
      "Please also refer to the documentation for alternative solver options:\n",
      "    https://scikit-learn.org/stable/modules/linear_model.html#logistic-regression\n",
      "  extra_warning_msg=_LOGISTIC_SOLVER_CONVERGENCE_MSG,\n"
     ]
    },
    {
     "data": {
      "text/plain": [
       "0.9312471237919926"
      ]
     },
     "execution_count": 21,
     "metadata": {},
     "output_type": "execute_result"
    }
   ],
   "source": [
    "# 可以根据逻辑回归的系数绝对值大小进行排序，也可以基于树模型的特征重要度进行排序\n",
    "# 特征选择可以使用RFE或者selectFromModel\n",
    "from sklearn.feature_selection import RFE\n",
    "# 初始化RFE\n",
    "rfe = RFE(lr, n_features_to_select=1)\n",
    "# 训练RFE\n",
    "rfe.fit(x_train, y_train)\n",
    "\n",
    "# 查看排序结果\n",
    "print(sorted(zip(map(lambda x: round(x, 4), rfe.ranking_), X.columns)))\n",
    "\n",
    "#用筛选后的特征进行建模\n",
    "\n",
    "# 取出筛选后的特征\n",
    "X_selected = X[['NumberOfTime30-59DaysPastDueNotWorse', 'NumberOfTimes90DaysLate', 'NumberOfTime60-89DaysPastDueNotWorse', 'DebtRatio', 'MonthlyIncome', 'NumberOfOpenCreditLinesAndLoans', 'NumberRealEstateLoansOrLines', 'NumberOfDependents']]\n",
    "# 切分数据集\n",
    "x_train, x_test, y_train, y_test = train_test_split(X_selected, y, test_size=0.2, random_state=33)\n",
    "# 初始化模型\n",
    "lr = LogisticRegression()\n",
    "# 训练模型\n",
    "lr.fit(x_train, y_train)\n",
    "# 预测测试集的标签\n",
    "y_pred = lr.predict(x_test)\n",
    "# 计算准确率\n",
    "accuracy_score(y_test, y_pred)\n",
    "\n",
    "\n",
    "\n",
    "\n",
    "\n"
   ]
  },
  {
   "cell_type": "markdown",
   "metadata": {},
   "source": [
    "#### 10.其他模型算法尝试\n",
    "使用RandomForestClassifier/SVM/KNN等sklearn分类算法进行分类，尝试上述超参数调优算法过程。"
   ]
  },
  {
   "cell_type": "code",
   "execution_count": 22,
   "metadata": {
    "collapsed": true,
    "jupyter": {
     "outputs_hidden": true
    }
   },
   "outputs": [],
   "source": [
    "# 随机森林\n",
    "from sklearn.ensemble import RandomForestClassifier\n",
    "# 初始化模型\n",
    "rf = RandomForestClassifier()\n",
    "# 训练模型\n",
    "rf.fit(x_train, y_train)\n",
    "# 准备参数网格\n",
    "param_grid = {'n_estimators': [10, 50, 100, 200, 300]}\n",
    "# 初始化网格搜索\n",
    "grid_search = GridSearchCV(rf, param_grid, cv=5, scoring='accuracy')\n",
    "# 训练网格搜索\n",
    "grid_search.fit(x_train, y_train)\n",
    "# 查看最佳参数，最佳模型，最佳准确率\n",
    "print(grid_search.best_params_)\n",
    "print(grid_search.best_estimator_)\n",
    "print(grid_search.best_score_)\n",
    "\n",
    "# 查看特征重要度\n",
    "print(sorted(zip(map(lambda x: round(x, 4), rf.feature_importances_), X.columns), reverse=True))\n",
    "\n",
    "\n",
    "\n",
    "\n"
   ]
  },
  {
   "cell_type": "code",
   "execution_count": null,
   "metadata": {},
   "outputs": [],
   "source": []
  }
 ],
 "metadata": {
  "kernelspec": {
   "display_name": "Python 3 (ipykernel)",
   "language": "python",
   "name": "python3"
  },
  "language_info": {
   "codemirror_mode": {
    "name": "ipython",
    "version": 3
   },
   "file_extension": ".py",
   "mimetype": "text/x-python",
   "name": "python",
   "nbconvert_exporter": "python",
   "pygments_lexer": "ipython3",
   "version": "3.7.5"
  }
 },
 "nbformat": 4,
 "nbformat_minor": 4
}
